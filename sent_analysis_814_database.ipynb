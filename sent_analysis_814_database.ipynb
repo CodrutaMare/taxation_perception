{
 "nbformat": 4,
 "nbformat_minor": 0,
 "metadata": {
  "colab": {
   "name": "Perceptia_fiscalitatii_sent_analysis.ipynb",
   "provenance": [],
   "collapsed_sections": [
    "Gl7927Ydp7I1",
    "sxtlTgEbqFlA",
    "SSkk0nc37rFd",
    "Lu_pWFFguSyI"
   ]
  },
  "kernelspec": {
   "display_name": "Python 3",
   "language": "python",
   "name": "python3"
  },
  "language_info": {
   "codemirror_mode": {
    "name": "ipython",
    "version": 3
   },
   "file_extension": ".py",
   "mimetype": "text/x-python",
   "name": "python",
   "nbconvert_exporter": "python",
   "pygments_lexer": "ipython3",
   "version": "3.8.5"
  },
  "pycharm": {
   "stem_cell": {
    "cell_type": "raw",
    "source": [],
    "metadata": {
     "collapsed": false
    }
   }
  }
 },
 "cells": [
  {
   "cell_type": "markdown",
   "metadata": {
    "id": "p_Qa_Nf2nGTP"
   },
   "source": [
    "# 1. Import libraries\n",
    "\n",
    "import pandas as pd\n",
    "import numpy as np\n",
    "import os\n",
    "import re\n",
    "import string\n",
    "import nltk\n",
    "import torch\n",
    "import torch.nn as nn\n",
    "import torch.optim as optim\n",
    "import seaborn as sns\n",
    "from torch.utils.data import Dataset, DataLoader\n",
    "\n",
    "nltk.download(\"stopwords\")\n",
    "from nltk.corpus import stopwords\n",
    "import re\n",
    "\n",
    "from nltk.tokenize import word_tokenize\n",
    "from sklearn.feature_extraction.text import CountVectorizer\n",
    "from wordcloud import WordCloud\n",
    "from gensim.models.fasttext import FastText\n",
    "from sklearn.decomposition import PCA\n",
    "import plotly.express as px\n",
    "from gensim.corpora.dictionary import Dictionary\n",
    "from gensim.models import LdaModel\n",
    "import pyLDAvis\n",
    "import pyLDAvis.gensim_models as gensimvis\n",
    "from pprint import pprint\n",
    "nltk.download('punkt')\n",
    "from nltk.stem import PorterStemmer, SnowballStemmer\n",
    "from nltk.corpus import stopwords\n",
    "from sklearn.feature_extraction.text import CountVectorizer\n",
    "from wordcloud import WordCloud, ImageColorGenerator\n",
    "import unidecode\n",
    "\n",
    "\n",
    "import warnings\n",
    "warnings.filterwarnings(\"ignore\")\n",
    "\n",
    "%matplotlib inline\n",
    "import matplotlib.pyplot as plt\n",
    "plt.rcParams['figure.figsize'] = [5, 5]\n",
    "plt.rcParams['xtick.color'] = 'black'\n",
    "plt.rcParams['ytick.color'] = 'black'\n",
    "plt.rcParams['text.color'] = 'black'\n",
    "plt.rcParams['axes.labelcolor'] = 'black'\n",
    "\n",
    "nltk.download('punkt')\n",
    "from nltk.stem import PorterStemmer, SnowballStemmer\n",
    "from nltk.corpus import stopwords\n",
    "from sklearn.feature_extraction.text import CountVectorizer\n",
    "from wordcloud import WordCloud, ImageColorGenerator\n",
    "\n",
    "from sklearn.model_selection import train_test_split\n",
    "from sklearn.preprocessing import StandardScaler    \n",
    "from sklearn.metrics import classification_report, confusion_matrix, accuracy_score, precision_score, recall_score\n",
    "from sklearn import model_selection, naive_bayes, svm\n",
    "from sklearn.linear_model import LogisticRegression\n",
    "from sklearn.tree import DecisionTreeClassifier\n",
    "from sklearn.ensemble import RandomForestClassifier\n",
    "\n",
    "import tensorflow as tf\n",
    "print('TF version', tf.__version__)\n",
    "\n",
    "# from transformers import BertTokenizer\n",
    "\n",
    "import ktrain\n",
    "from ktrain import text\n",
    "\n",
    "#Display every call in output\n",
    "from IPython.core.interactiveshell import InteractiveShell\n",
    "InteractiveShell.ast_node_interactivity = \"all\""
   ]
  },
  {
   "cell_type": "markdown",
   "metadata": {
    "id": "kpJBa8nvnLKD"
   },
   "source": [
    "# 2. Read data"
   ]
  },
  {
   "cell_type": "code",
   "metadata": {
    "colab": {
     "base_uri": "https://localhost:8080/",
     "height": 171
    },
    "id": "bUCEkMutwr6J",
    "outputId": "7bc51272-73b5-42cb-9083-7c3c5b099b9a"
   },
   "source": [
    "df = pd.read_csv(os.path.join('data', 'db_responses_814_febr_2021.csv'))\n",
    "df = df.drop(columns=[df.columns[1], df.columns[2], df.columns[3], df.columns[4]])\n",
    "df = df.rename(columns={df.columns[0]:'incredere_sist_fiscal', df.columns[1]: 'parere_sist_fiscal'})\n",
    "df.head(3)"
   ],
   "execution_count": null,
   "outputs": [
    {
     "output_type": "execute_result",
     "data": {
      "text/html": [
       "<div>\n",
       "<style scoped>\n",
       "    .dataframe tbody tr th:only-of-type {\n",
       "        vertical-align: middle;\n",
       "    }\n",
       "\n",
       "    .dataframe tbody tr th {\n",
       "        vertical-align: top;\n",
       "    }\n",
       "\n",
       "    .dataframe thead th {\n",
       "        text-align: right;\n",
       "    }\n",
       "</style>\n",
       "<table border=\"1\" class=\"dataframe\">\n",
       "  <thead>\n",
       "    <tr style=\"text-align: right;\">\n",
       "      <th></th>\n",
       "      <th>incredere_sist_fiscal</th>\n",
       "      <th>parere_sist_fiscal</th>\n",
       "      <th>TRANSPARENCY</th>\n",
       "      <th>VALUE FOR MONEY</th>\n",
       "      <th>ECONOMICAL</th>\n",
       "      <th>TRUST</th>\n",
       "      <th>SOCIAL WELFARE</th>\n",
       "      <th>WORK PLACE CREATION</th>\n",
       "      <th>SOCIO-ECONOMIC DEVELOPMENT</th>\n",
       "      <th>STABILITY</th>\n",
       "      <th>PREDICTIBILITY</th>\n",
       "      <th>FIN_INSP</th>\n",
       "      <th>FINES</th>\n",
       "      <th>CLEAR_LAW</th>\n",
       "      <th>FISC_FACIL</th>\n",
       "      <th>SUBV</th>\n",
       "      <th>INVEST_TAX</th>\n",
       "      <th>Q_PUBLIC_SV</th>\n",
       "      <th>TRUST.1</th>\n",
       "      <th>PUBLIC_INV</th>\n",
       "      <th>TRANSP</th>\n",
       "    </tr>\n",
       "  </thead>\n",
       "  <tbody>\n",
       "    <tr>\n",
       "      <th>0</th>\n",
       "      <td>1</td>\n",
       "      <td>1</td>\n",
       "      <td>5</td>\n",
       "      <td>4</td>\n",
       "      <td>4</td>\n",
       "      <td>5</td>\n",
       "      <td>4</td>\n",
       "      <td>4</td>\n",
       "      <td>5</td>\n",
       "      <td>5</td>\n",
       "      <td>5</td>\n",
       "      <td>3</td>\n",
       "      <td>4</td>\n",
       "      <td>4</td>\n",
       "      <td>4</td>\n",
       "      <td>3</td>\n",
       "      <td>2</td>\n",
       "      <td>4</td>\n",
       "      <td>5</td>\n",
       "      <td>4</td>\n",
       "      <td>5</td>\n",
       "    </tr>\n",
       "    <tr>\n",
       "      <th>1</th>\n",
       "      <td>1</td>\n",
       "      <td>4</td>\n",
       "      <td>5</td>\n",
       "      <td>4</td>\n",
       "      <td>4</td>\n",
       "      <td>4</td>\n",
       "      <td>4</td>\n",
       "      <td>5</td>\n",
       "      <td>4</td>\n",
       "      <td>5</td>\n",
       "      <td>4</td>\n",
       "      <td>3</td>\n",
       "      <td>4</td>\n",
       "      <td>4</td>\n",
       "      <td>3</td>\n",
       "      <td>4</td>\n",
       "      <td>4</td>\n",
       "      <td>5</td>\n",
       "      <td>5</td>\n",
       "      <td>5</td>\n",
       "      <td>5</td>\n",
       "    </tr>\n",
       "    <tr>\n",
       "      <th>2</th>\n",
       "      <td>0</td>\n",
       "      <td>3</td>\n",
       "      <td>3</td>\n",
       "      <td>5</td>\n",
       "      <td>4</td>\n",
       "      <td>4</td>\n",
       "      <td>4</td>\n",
       "      <td>5</td>\n",
       "      <td>5</td>\n",
       "      <td>4</td>\n",
       "      <td>3</td>\n",
       "      <td>3</td>\n",
       "      <td>3</td>\n",
       "      <td>3</td>\n",
       "      <td>3</td>\n",
       "      <td>5</td>\n",
       "      <td>5</td>\n",
       "      <td>5</td>\n",
       "      <td>5</td>\n",
       "      <td>5</td>\n",
       "      <td>5</td>\n",
       "    </tr>\n",
       "  </tbody>\n",
       "</table>\n",
       "</div>"
      ],
      "text/plain": [
       "   incredere_sist_fiscal  parere_sist_fiscal  ...  PUBLIC_INV  TRANSP\n",
       "0                      1                   1  ...           4       5\n",
       "1                      1                   4  ...           5       5\n",
       "2                      0                   3  ...           5       5\n",
       "\n",
       "[3 rows x 21 columns]"
      ]
     },
     "metadata": {
      "tags": []
     },
     "execution_count": 4
    }
   ]
  },
  {
   "cell_type": "code",
   "metadata": {
    "colab": {
     "base_uri": "https://localhost:8080/"
    },
    "id": "A93pgjiHshDq",
    "outputId": "28672d31-ba6e-4e0c-fed6-ae74c416cdfa"
   },
   "source": [
    "df.shape"
   ],
   "execution_count": null,
   "outputs": [
    {
     "output_type": "execute_result",
     "data": {
      "text/plain": [
       "(814, 21)"
      ]
     },
     "metadata": {
      "tags": []
     },
     "execution_count": 5
    }
   ]
  },
  {
   "cell_type": "markdown",
   "metadata": {
    "id": "Gl7927Ydp7I1"
   },
   "source": [
    "# 3. Predict sentiment for the columns corresponding to the answers to open questions"
   ]
  },
  {
   "cell_type": "markdown",
   "metadata": {
    "id": "UrBBlKtBp20H"
   },
   "source": [
    "Missing code for predicting sentiments!!!"
   ]
  },
  {
   "cell_type": "code",
   "metadata": {
    "colab": {
     "base_uri": "https://localhost:8080/"
    },
    "id": "EDTuqnl8sfll",
    "outputId": "de2845d2-f679-40ee-bf63-c3ff66f3d9fa"
   },
   "source": [
    "df_sent.shape"
   ],
   "execution_count": null,
   "outputs": [
    {
     "output_type": "execute_result",
     "data": {
      "text/plain": [
       "(814, 10)"
      ]
     },
     "metadata": {
      "tags": []
     },
     "execution_count": 7
    }
   ]
  },
  {
   "cell_type": "code",
   "metadata": {
    "colab": {
     "base_uri": "https://localhost:8080/",
     "height": 362
    },
    "id": "oWDwd2w9zvhw",
    "outputId": "e821fcc9-032d-4482-bc91-333624f333d8"
   },
   "source": [
    "fig = df_sent['nemultumiri_sist_fiscal_sentiment'].value_counts().sort_index().plot(kind='bar')\n",
    "fig.set_title('Frequency of sentiments for nemultumiri_sist_fiscal')\n",
    "fig.set_xlabel('Sentiment')\n",
    "fig.set_ylabel('Frequency')\n",
    "plt.show()"
   ],
   "execution_count": null,
   "outputs": [
    {
     "output_type": "execute_result",
     "data": {
      "text/plain": [
       "Text(0.5, 1.0, 'Frequency of sentiments for nemultumiri_sist_fiscal')"
      ]
     },
     "metadata": {
      "tags": []
     },
     "execution_count": 8
    },
    {
     "output_type": "execute_result",
     "data": {
      "text/plain": [
       "Text(0.5, 0, 'Sentiment')"
      ]
     },
     "metadata": {
      "tags": []
     },
     "execution_count": 8
    },
    {
     "output_type": "execute_result",
     "data": {
      "text/plain": [
       "Text(0, 0.5, 'Frequency')"
      ]
     },
     "metadata": {
      "tags": []
     },
     "execution_count": 8
    },
    {
     "output_type": "display_data",
     "data": {
      "image/png": "[encoded data removed]",
      "text/plain": [
       "<Figure size 360x360 with 1 Axes>"
      ]
     },
     "metadata": {
      "tags": [],
      "needs_background": "light"
     }
    }
   ]
  },
  {
   "cell_type": "code",
   "metadata": {
    "colab": {
     "base_uri": "https://localhost:8080/",
     "height": 362
    },
    "id": "Lxdv9_Vdz7Rd",
    "outputId": "bc4be716-ba4d-4810-a2e1-427fe98aeaf6"
   },
   "source": [
    "fig = df_sent['schimbari_sist_fiscal_sentiment'].value_counts().sort_index().plot(kind='bar')\n",
    "fig.set_title('Frequency of sentiments for schimbari_sist_fiscal')\n",
    "fig.set_xlabel('Sentiment')\n",
    "fig.set_ylabel('Frequency')\n",
    "plt.show()"
   ],
   "execution_count": null,
   "outputs": [
    {
     "output_type": "execute_result",
     "data": {
      "text/plain": [
       "Text(0.5, 1.0, 'Frequency of sentiments for schimbari_sist_fiscal')"
      ]
     },
     "metadata": {
      "tags": []
     },
     "execution_count": 9
    },
    {
     "output_type": "execute_result",
     "data": {
      "text/plain": [
       "Text(0.5, 0, 'Sentiment')"
      ]
     },
     "metadata": {
      "tags": []
     },
     "execution_count": 9
    },
    {
     "output_type": "execute_result",
     "data": {
      "text/plain": [
       "Text(0, 0.5, 'Frequency')"
      ]
     },
     "metadata": {
      "tags": []
     },
     "execution_count": 9
    },
    {
     "output_type": "display_data",
     "data": {
      "image/png": "[encoded data removed]",
      "text/plain": [
       "<Figure size 360x360 with 1 Axes>"
      ]
     },
     "metadata": {
      "tags": [],
      "needs_background": "light"
     }
    }
   ]
  },
  {
   "cell_type": "code",
   "metadata": {
    "colab": {
     "base_uri": "https://localhost:8080/",
     "height": 362
    },
    "id": "bBrGfhTkz7Tx",
    "outputId": "50e49483-52aa-4c8d-f6d3-bda708dc3220"
   },
   "source": [
    "fig = df_sent['ce_ofera_sistemul_sentiment'].value_counts().sort_index().plot(kind='bar')\n",
    "fig.set_title('Frequency of sentiments for ce_ofera_sistemul')\n",
    "fig.set_xlabel('Sentiment')\n",
    "fig.set_ylabel('Frequency')\n",
    "plt.show()"
   ],
   "execution_count": null,
   "outputs": [
    {
     "output_type": "execute_result",
     "data": {
      "text/plain": [
       "Text(0.5, 1.0, 'Frequency of sentiments for ce_ofera_sistemul')"
      ]
     },
     "metadata": {
      "tags": []
     },
     "execution_count": 10
    },
    {
     "output_type": "execute_result",
     "data": {
      "text/plain": [
       "Text(0.5, 0, 'Sentiment')"
      ]
     },
     "metadata": {
      "tags": []
     },
     "execution_count": 10
    },
    {
     "output_type": "execute_result",
     "data": {
      "text/plain": [
       "Text(0, 0.5, 'Frequency')"
      ]
     },
     "metadata": {
      "tags": []
     },
     "execution_count": 10
    },
    {
     "output_type": "display_data",
     "data": {
      "image/png": "[encoded data removed]",
      "text/plain": [
       "<Figure size 360x360 with 1 Axes>"
      ]
     },
     "metadata": {
      "tags": [],
      "needs_background": "light"
     }
    }
   ]
  },
  {
   "cell_type": "code",
   "metadata": {
    "colab": {
     "base_uri": "https://localhost:8080/",
     "height": 353
    },
    "id": "CgbuhM8-0qNt",
    "outputId": "de7a4d61-d9a7-4d3e-81b5-41af205c227b"
   },
   "source": [
    "col = df_sent.loc[:, \"nemultumiri_sist_fiscal_sentiment\":\"ce_ofera_sistemul_sentiment\"]\n",
    "df_sent['overall_sentiment_all_responses'] = col.mode(axis=1)\n",
    "df_sent.head()"
   ],
   "execution_count": null,
   "outputs": [
    {
     "output_type": "execute_result",
     "data": {
      "text/html": [
       "<div>\n",
       "<style scoped>\n",
       "    .dataframe tbody tr th:only-of-type {\n",
       "        vertical-align: middle;\n",
       "    }\n",
       "\n",
       "    .dataframe tbody tr th {\n",
       "        vertical-align: top;\n",
       "    }\n",
       "\n",
       "    .dataframe thead th {\n",
       "        text-align: right;\n",
       "    }\n",
       "</style>\n",
       "<table border=\"1\" class=\"dataframe\">\n",
       "  <thead>\n",
       "    <tr style=\"text-align: right;\">\n",
       "      <th></th>\n",
       "      <th>incredere_sist_fiscal</th>\n",
       "      <th>nemultumiri_sist_fiscal</th>\n",
       "      <th>schimbari_sist_fiscal</th>\n",
       "      <th>ce_ofera_sistemul</th>\n",
       "      <th>motivare_incredere_sist_fiscal</th>\n",
       "      <th>parere_sist_fiscal</th>\n",
       "      <th>nemultumiri_sist_fiscal_sentiment</th>\n",
       "      <th>schimbari_sist_fiscal_sentiment</th>\n",
       "      <th>ce_ofera_sistemul_sentiment</th>\n",
       "      <th>motivare_incredere_sist_fiscal_sentiment</th>\n",
       "      <th>overall_sentiment_all_responses</th>\n",
       "    </tr>\n",
       "  </thead>\n",
       "  <tbody>\n",
       "    <tr>\n",
       "      <th>0</th>\n",
       "      <td>1</td>\n",
       "      <td>- injustetea sociala\\n- impunerea excesiva\\n- ...</td>\n",
       "      <td>as incerca sa-l orientez spre cetatean.</td>\n",
       "      <td>- crestere a nivelului de trai in mod semi-efi...</td>\n",
       "      <td>Îmi creează sentimentul că plătesc un serviciu...</td>\n",
       "      <td>Foarte slabă</td>\n",
       "      <td>0</td>\n",
       "      <td>0</td>\n",
       "      <td>0</td>\n",
       "      <td>0</td>\n",
       "      <td>0</td>\n",
       "    </tr>\n",
       "    <tr>\n",
       "      <th>1</th>\n",
       "      <td>1</td>\n",
       "      <td>Ineficiența utilizării sumelor de bani strânse...</td>\n",
       "      <td>Aș crea un mediu de afacere stabil.</td>\n",
       "      <td>Birocrație excesivă.</td>\n",
       "      <td>Îmi creează sentimentul că plătesc un serviciu...</td>\n",
       "      <td>Bună</td>\n",
       "      <td>0</td>\n",
       "      <td>1</td>\n",
       "      <td>1</td>\n",
       "      <td>0</td>\n",
       "      <td>1</td>\n",
       "    </tr>\n",
       "    <tr>\n",
       "      <th>2</th>\n",
       "      <td>0</td>\n",
       "      <td>Organizarea probabil deficitara,\\nCircuitul lu...</td>\n",
       "      <td>Din postura mea de acum imi este greu sa dau u...</td>\n",
       "      <td>Un trai decent, servicii sociale intre mediocr...</td>\n",
       "      <td>Îmi creează sentimentul că plătesc un serviciu...</td>\n",
       "      <td>Neutră</td>\n",
       "      <td>0</td>\n",
       "      <td>0</td>\n",
       "      <td>0</td>\n",
       "      <td>1</td>\n",
       "      <td>0</td>\n",
       "    </tr>\n",
       "    <tr>\n",
       "      <th>3</th>\n",
       "      <td>1</td>\n",
       "      <td>Nu prea am incredere in sistem.</td>\n",
       "      <td>Nu prea stiu ce as schimba dar as face ceva in...</td>\n",
       "      <td>Nu stiu</td>\n",
       "      <td>Îmi creează sentimentul că plătesc un serviciu...</td>\n",
       "      <td>Bună</td>\n",
       "      <td>0</td>\n",
       "      <td>1</td>\n",
       "      <td>0</td>\n",
       "      <td>0</td>\n",
       "      <td>0</td>\n",
       "    </tr>\n",
       "    <tr>\n",
       "      <th>4</th>\n",
       "      <td>0</td>\n",
       "      <td>Fiscalitatea din Romania e plina de contradictii</td>\n",
       "      <td>Simplificarea legislatiei si a raportarilor fi...</td>\n",
       "      <td>Proceduri complicate....</td>\n",
       "      <td>Îmi creează sentimentul că plătesc un serviciu...</td>\n",
       "      <td>Foarte slabă</td>\n",
       "      <td>1</td>\n",
       "      <td>1</td>\n",
       "      <td>1</td>\n",
       "      <td>0</td>\n",
       "      <td>1</td>\n",
       "    </tr>\n",
       "  </tbody>\n",
       "</table>\n",
       "</div>"
      ],
      "text/plain": [
       "   incredere_sist_fiscal  ... overall_sentiment_all_responses\n",
       "0                      1  ...                               0\n",
       "1                      1  ...                               1\n",
       "2                      0  ...                               0\n",
       "3                      1  ...                               0\n",
       "4                      0  ...                               1\n",
       "\n",
       "[5 rows x 11 columns]"
      ]
     },
     "metadata": {
      "tags": []
     },
     "execution_count": 11
    }
   ]
  },
  {
   "cell_type": "code",
   "metadata": {
    "colab": {
     "base_uri": "https://localhost:8080/",
     "height": 362
    },
    "id": "qPTJdVLI1I1m",
    "outputId": "6e169b1b-90e0-46cf-c3db-f9c89aa32533"
   },
   "source": [
    "fig = df_sent['overall_sentiment_all_responses'].value_counts().sort_index().plot(kind='bar')\n",
    "fig.set_title('Frequency of sentiments for overall_sentiment_all_responses')\n",
    "fig.set_xlabel('Sentiment')\n",
    "fig.set_ylabel('Frequency')\n",
    "plt.show()"
   ],
   "execution_count": null,
   "outputs": [
    {
     "output_type": "execute_result",
     "data": {
      "text/plain": [
       "Text(0.5, 1.0, 'Frequency of sentiments for overall_sentiment_all_responses')"
      ]
     },
     "metadata": {
      "tags": []
     },
     "execution_count": 12
    },
    {
     "output_type": "execute_result",
     "data": {
      "text/plain": [
       "Text(0.5, 0, 'Sentiment')"
      ]
     },
     "metadata": {
      "tags": []
     },
     "execution_count": 12
    },
    {
     "output_type": "execute_result",
     "data": {
      "text/plain": [
       "Text(0, 0.5, 'Frequency')"
      ]
     },
     "metadata": {
      "tags": []
     },
     "execution_count": 12
    },
    {
     "output_type": "display_data",
     "data": {
      "image/png": "[encoded data removed]",
      "text/plain": [
       "<Figure size 360x360 with 1 Axes>"
      ]
     },
     "metadata": {
      "tags": [],
      "needs_background": "light"
     }
    }
   ]
  },
  {
   "cell_type": "code",
   "metadata": {
    "id": "OKcK7rAG2TK3"
   },
   "source": [
    "df_sent[['incredere_sist_fiscal', 'nemultumiri_sist_fiscal_sentiment', 'schimbari_sist_fiscal_sentiment', 'ce_ofera_sistemul_sentiment']].to_csv(os.path.join(path, 'data', 'sentiments_vs_trust.csv'))"
   ],
   "execution_count": null,
   "outputs": []
  },
  {
   "cell_type": "markdown",
   "metadata": {
    "id": "sxtlTgEbqFlA"
   },
   "source": [
    "# 5. Create the full sentiment-based dataset"
   ]
  },
  {
   "cell_type": "code",
   "metadata": {
    "colab": {
     "base_uri": "https://localhost:8080/",
     "height": 388
    },
    "id": "FQEKAs4Tnvc3",
    "outputId": "7c0804ae-7a81-4d53-fed4-c6c9c1f15ce9"
   },
   "source": [
    "df_full = pd.concat([df, df_sent], axis=1)\n",
    "df_full = df_full.loc[:,~df_full.columns.duplicated()]\n",
    "df_full.head()"
   ],
   "execution_count": null,
   "outputs": [
    {
     "output_type": "execute_result",
     "data": {
      "text/html": [
       "<div>\n",
       "<style scoped>\n",
       "    .dataframe tbody tr th:only-of-type {\n",
       "        vertical-align: middle;\n",
       "    }\n",
       "\n",
       "    .dataframe tbody tr th {\n",
       "        vertical-align: top;\n",
       "    }\n",
       "\n",
       "    .dataframe thead th {\n",
       "        text-align: right;\n",
       "    }\n",
       "</style>\n",
       "<table border=\"1\" class=\"dataframe\">\n",
       "  <thead>\n",
       "    <tr style=\"text-align: right;\">\n",
       "      <th></th>\n",
       "      <th>incredere_sist_fiscal</th>\n",
       "      <th>parere_sist_fiscal</th>\n",
       "      <th>TRANSPARENCY</th>\n",
       "      <th>VALUE FOR MONEY</th>\n",
       "      <th>ECONOMICAL</th>\n",
       "      <th>TRUST</th>\n",
       "      <th>SOCIAL WELFARE</th>\n",
       "      <th>WORK PLACE CREATION</th>\n",
       "      <th>SOCIO-ECONOMIC DEVELOPMENT</th>\n",
       "      <th>STABILITY</th>\n",
       "      <th>PREDICTIBILITY</th>\n",
       "      <th>FIN_INSP</th>\n",
       "      <th>FINES</th>\n",
       "      <th>CLEAR_LAW</th>\n",
       "      <th>FISC_FACIL</th>\n",
       "      <th>SUBV</th>\n",
       "      <th>INVEST_TAX</th>\n",
       "      <th>Q_PUBLIC_SV</th>\n",
       "      <th>TRUST.1</th>\n",
       "      <th>PUBLIC_INV</th>\n",
       "      <th>TRANSP</th>\n",
       "      <th>nemultumiri_sist_fiscal</th>\n",
       "      <th>schimbari_sist_fiscal</th>\n",
       "      <th>ce_ofera_sistemul</th>\n",
       "      <th>motivare_incredere_sist_fiscal</th>\n",
       "      <th>nemultumiri_sist_fiscal_sentiment</th>\n",
       "      <th>schimbari_sist_fiscal_sentiment</th>\n",
       "      <th>ce_ofera_sistemul_sentiment</th>\n",
       "      <th>motivare_incredere_sist_fiscal_sentiment</th>\n",
       "      <th>overall_sentiment_all_responses</th>\n",
       "    </tr>\n",
       "  </thead>\n",
       "  <tbody>\n",
       "    <tr>\n",
       "      <th>0</th>\n",
       "      <td>1</td>\n",
       "      <td>1</td>\n",
       "      <td>5</td>\n",
       "      <td>4</td>\n",
       "      <td>4</td>\n",
       "      <td>5</td>\n",
       "      <td>4</td>\n",
       "      <td>4</td>\n",
       "      <td>5</td>\n",
       "      <td>5</td>\n",
       "      <td>5</td>\n",
       "      <td>3</td>\n",
       "      <td>4</td>\n",
       "      <td>4</td>\n",
       "      <td>4</td>\n",
       "      <td>3</td>\n",
       "      <td>2</td>\n",
       "      <td>4</td>\n",
       "      <td>5</td>\n",
       "      <td>4</td>\n",
       "      <td>5</td>\n",
       "      <td>- injustetea sociala\\n- impunerea excesiva\\n- ...</td>\n",
       "      <td>as incerca sa-l orientez spre cetatean.</td>\n",
       "      <td>- crestere a nivelului de trai in mod semi-efi...</td>\n",
       "      <td>Îmi creează sentimentul că plătesc un serviciu...</td>\n",
       "      <td>0</td>\n",
       "      <td>0</td>\n",
       "      <td>0</td>\n",
       "      <td>0</td>\n",
       "      <td>0</td>\n",
       "    </tr>\n",
       "    <tr>\n",
       "      <th>1</th>\n",
       "      <td>1</td>\n",
       "      <td>4</td>\n",
       "      <td>5</td>\n",
       "      <td>4</td>\n",
       "      <td>4</td>\n",
       "      <td>4</td>\n",
       "      <td>4</td>\n",
       "      <td>5</td>\n",
       "      <td>4</td>\n",
       "      <td>5</td>\n",
       "      <td>4</td>\n",
       "      <td>3</td>\n",
       "      <td>4</td>\n",
       "      <td>4</td>\n",
       "      <td>3</td>\n",
       "      <td>4</td>\n",
       "      <td>4</td>\n",
       "      <td>5</td>\n",
       "      <td>5</td>\n",
       "      <td>5</td>\n",
       "      <td>5</td>\n",
       "      <td>Ineficiența utilizării sumelor de bani strânse...</td>\n",
       "      <td>Aș crea un mediu de afacere stabil.</td>\n",
       "      <td>Birocrație excesivă.</td>\n",
       "      <td>Îmi creează sentimentul că plătesc un serviciu...</td>\n",
       "      <td>0</td>\n",
       "      <td>1</td>\n",
       "      <td>1</td>\n",
       "      <td>0</td>\n",
       "      <td>1</td>\n",
       "    </tr>\n",
       "    <tr>\n",
       "      <th>2</th>\n",
       "      <td>0</td>\n",
       "      <td>3</td>\n",
       "      <td>3</td>\n",
       "      <td>5</td>\n",
       "      <td>4</td>\n",
       "      <td>4</td>\n",
       "      <td>4</td>\n",
       "      <td>5</td>\n",
       "      <td>5</td>\n",
       "      <td>4</td>\n",
       "      <td>3</td>\n",
       "      <td>3</td>\n",
       "      <td>3</td>\n",
       "      <td>3</td>\n",
       "      <td>3</td>\n",
       "      <td>5</td>\n",
       "      <td>5</td>\n",
       "      <td>5</td>\n",
       "      <td>5</td>\n",
       "      <td>5</td>\n",
       "      <td>5</td>\n",
       "      <td>Organizarea probabil deficitara,\\nCircuitul lu...</td>\n",
       "      <td>Din postura mea de acum imi este greu sa dau u...</td>\n",
       "      <td>Un trai decent, servicii sociale intre mediocr...</td>\n",
       "      <td>Îmi creează sentimentul că plătesc un serviciu...</td>\n",
       "      <td>0</td>\n",
       "      <td>0</td>\n",
       "      <td>0</td>\n",
       "      <td>1</td>\n",
       "      <td>0</td>\n",
       "    </tr>\n",
       "    <tr>\n",
       "      <th>3</th>\n",
       "      <td>1</td>\n",
       "      <td>4</td>\n",
       "      <td>4</td>\n",
       "      <td>5</td>\n",
       "      <td>4</td>\n",
       "      <td>5</td>\n",
       "      <td>5</td>\n",
       "      <td>5</td>\n",
       "      <td>5</td>\n",
       "      <td>5</td>\n",
       "      <td>4</td>\n",
       "      <td>2</td>\n",
       "      <td>4</td>\n",
       "      <td>4</td>\n",
       "      <td>3</td>\n",
       "      <td>4</td>\n",
       "      <td>5</td>\n",
       "      <td>5</td>\n",
       "      <td>5</td>\n",
       "      <td>5</td>\n",
       "      <td>4</td>\n",
       "      <td>Nu prea am incredere in sistem.</td>\n",
       "      <td>Nu prea stiu ce as schimba dar as face ceva in...</td>\n",
       "      <td>Nu stiu</td>\n",
       "      <td>Îmi creează sentimentul că plătesc un serviciu...</td>\n",
       "      <td>0</td>\n",
       "      <td>1</td>\n",
       "      <td>0</td>\n",
       "      <td>0</td>\n",
       "      <td>0</td>\n",
       "    </tr>\n",
       "    <tr>\n",
       "      <th>4</th>\n",
       "      <td>0</td>\n",
       "      <td>1</td>\n",
       "      <td>5</td>\n",
       "      <td>4</td>\n",
       "      <td>4</td>\n",
       "      <td>5</td>\n",
       "      <td>4</td>\n",
       "      <td>5</td>\n",
       "      <td>5</td>\n",
       "      <td>4</td>\n",
       "      <td>3</td>\n",
       "      <td>2</td>\n",
       "      <td>3</td>\n",
       "      <td>4</td>\n",
       "      <td>3</td>\n",
       "      <td>5</td>\n",
       "      <td>5</td>\n",
       "      <td>5</td>\n",
       "      <td>4</td>\n",
       "      <td>5</td>\n",
       "      <td>5</td>\n",
       "      <td>Fiscalitatea din Romania e plina de contradictii</td>\n",
       "      <td>Simplificarea legislatiei si a raportarilor fi...</td>\n",
       "      <td>Proceduri complicate....</td>\n",
       "      <td>Îmi creează sentimentul că plătesc un serviciu...</td>\n",
       "      <td>1</td>\n",
       "      <td>1</td>\n",
       "      <td>1</td>\n",
       "      <td>0</td>\n",
       "      <td>1</td>\n",
       "    </tr>\n",
       "  </tbody>\n",
       "</table>\n",
       "</div>"
      ],
      "text/plain": [
       "   incredere_sist_fiscal  ...  overall_sentiment_all_responses\n",
       "0                      1  ...                                0\n",
       "1                      1  ...                                1\n",
       "2                      0  ...                                0\n",
       "3                      1  ...                                0\n",
       "4                      0  ...                                1\n",
       "\n",
       "[5 rows x 30 columns]"
      ]
     },
     "metadata": {
      "tags": []
     },
     "execution_count": 14
    }
   ]
  },
  {
   "cell_type": "code",
   "metadata": {
    "colab": {
     "base_uri": "https://localhost:8080/"
    },
    "id": "WZ13z1Otnvg_",
    "outputId": "40b27a29-5e6a-4aa7-85a7-26ae43a8c511"
   },
   "source": [
    "df_full.shape"
   ],
   "execution_count": null,
   "outputs": [
    {
     "output_type": "execute_result",
     "data": {
      "text/plain": [
       "(814, 30)"
      ]
     },
     "metadata": {
      "tags": []
     },
     "execution_count": 15
    }
   ]
  },
  {
   "cell_type": "code",
   "metadata": {
    "colab": {
     "base_uri": "https://localhost:8080/",
     "height": 341
    },
    "id": "rbeOEqoJ6occ",
    "outputId": "0c288044-dd5e-44a3-d6ca-848834b365b2"
   },
   "source": [
    "# Take out values of 3 from the dataset\n",
    "df_full = df_full[df_full.incredere_sist_fiscal != 3] # One outliar in the dataset\n",
    "df_full = df_full.drop(columns=['TRUST.1'])\n",
    "df_full.describe()"
   ],
   "execution_count": null,
   "outputs": [
    {
     "output_type": "execute_result",
     "data": {
      "text/html": [
       "<div>\n",
       "<style scoped>\n",
       "    .dataframe tbody tr th:only-of-type {\n",
       "        vertical-align: middle;\n",
       "    }\n",
       "\n",
       "    .dataframe tbody tr th {\n",
       "        vertical-align: top;\n",
       "    }\n",
       "\n",
       "    .dataframe thead th {\n",
       "        text-align: right;\n",
       "    }\n",
       "</style>\n",
       "<table border=\"1\" class=\"dataframe\">\n",
       "  <thead>\n",
       "    <tr style=\"text-align: right;\">\n",
       "      <th></th>\n",
       "      <th>incredere_sist_fiscal</th>\n",
       "      <th>parere_sist_fiscal</th>\n",
       "      <th>TRANSPARENCY</th>\n",
       "      <th>VALUE FOR MONEY</th>\n",
       "      <th>ECONOMICAL</th>\n",
       "      <th>TRUST</th>\n",
       "      <th>SOCIAL WELFARE</th>\n",
       "      <th>WORK PLACE CREATION</th>\n",
       "      <th>SOCIO-ECONOMIC DEVELOPMENT</th>\n",
       "      <th>STABILITY</th>\n",
       "      <th>PREDICTIBILITY</th>\n",
       "      <th>FIN_INSP</th>\n",
       "      <th>FINES</th>\n",
       "      <th>CLEAR_LAW</th>\n",
       "      <th>FISC_FACIL</th>\n",
       "      <th>SUBV</th>\n",
       "      <th>INVEST_TAX</th>\n",
       "      <th>Q_PUBLIC_SV</th>\n",
       "      <th>PUBLIC_INV</th>\n",
       "      <th>TRANSP</th>\n",
       "      <th>nemultumiri_sist_fiscal_sentiment</th>\n",
       "      <th>schimbari_sist_fiscal_sentiment</th>\n",
       "      <th>ce_ofera_sistemul_sentiment</th>\n",
       "      <th>motivare_incredere_sist_fiscal_sentiment</th>\n",
       "      <th>overall_sentiment_all_responses</th>\n",
       "    </tr>\n",
       "  </thead>\n",
       "  <tbody>\n",
       "    <tr>\n",
       "      <th>count</th>\n",
       "      <td>813.000000</td>\n",
       "      <td>813.000000</td>\n",
       "      <td>813.000000</td>\n",
       "      <td>813.000000</td>\n",
       "      <td>813.000000</td>\n",
       "      <td>813.000000</td>\n",
       "      <td>813.000000</td>\n",
       "      <td>813.000000</td>\n",
       "      <td>813.000000</td>\n",
       "      <td>813.000000</td>\n",
       "      <td>813.000000</td>\n",
       "      <td>813.000000</td>\n",
       "      <td>813.000000</td>\n",
       "      <td>813.000000</td>\n",
       "      <td>813.000000</td>\n",
       "      <td>813.000000</td>\n",
       "      <td>813.000000</td>\n",
       "      <td>813.000000</td>\n",
       "      <td>813.000000</td>\n",
       "      <td>813.000000</td>\n",
       "      <td>813.000000</td>\n",
       "      <td>813.000000</td>\n",
       "      <td>813.000000</td>\n",
       "      <td>813.000000</td>\n",
       "      <td>813.000000</td>\n",
       "    </tr>\n",
       "    <tr>\n",
       "      <th>mean</th>\n",
       "      <td>0.589176</td>\n",
       "      <td>2.927429</td>\n",
       "      <td>4.364084</td>\n",
       "      <td>4.232472</td>\n",
       "      <td>4.211562</td>\n",
       "      <td>4.619926</td>\n",
       "      <td>4.281673</td>\n",
       "      <td>4.547355</td>\n",
       "      <td>4.538745</td>\n",
       "      <td>4.634686</td>\n",
       "      <td>4.065191</td>\n",
       "      <td>3.624846</td>\n",
       "      <td>3.527675</td>\n",
       "      <td>4.156212</td>\n",
       "      <td>4.018450</td>\n",
       "      <td>4.211562</td>\n",
       "      <td>4.083641</td>\n",
       "      <td>4.510455</td>\n",
       "      <td>4.242312</td>\n",
       "      <td>4.305043</td>\n",
       "      <td>0.314883</td>\n",
       "      <td>0.563346</td>\n",
       "      <td>0.555966</td>\n",
       "      <td>0.675277</td>\n",
       "      <td>0.453875</td>\n",
       "    </tr>\n",
       "    <tr>\n",
       "      <th>std</th>\n",
       "      <td>0.492286</td>\n",
       "      <td>1.220069</td>\n",
       "      <td>0.772233</td>\n",
       "      <td>0.681442</td>\n",
       "      <td>0.703275</td>\n",
       "      <td>0.625364</td>\n",
       "      <td>0.777213</td>\n",
       "      <td>0.665315</td>\n",
       "      <td>0.611899</td>\n",
       "      <td>0.604276</td>\n",
       "      <td>0.790604</td>\n",
       "      <td>1.002815</td>\n",
       "      <td>1.061314</td>\n",
       "      <td>0.748694</td>\n",
       "      <td>0.881336</td>\n",
       "      <td>0.795315</td>\n",
       "      <td>0.826227</td>\n",
       "      <td>0.688721</td>\n",
       "      <td>0.752062</td>\n",
       "      <td>0.829230</td>\n",
       "      <td>0.464755</td>\n",
       "      <td>0.496276</td>\n",
       "      <td>0.497164</td>\n",
       "      <td>0.468560</td>\n",
       "      <td>0.498174</td>\n",
       "    </tr>\n",
       "    <tr>\n",
       "      <th>min</th>\n",
       "      <td>0.000000</td>\n",
       "      <td>1.000000</td>\n",
       "      <td>1.000000</td>\n",
       "      <td>2.000000</td>\n",
       "      <td>1.000000</td>\n",
       "      <td>1.000000</td>\n",
       "      <td>1.000000</td>\n",
       "      <td>1.000000</td>\n",
       "      <td>2.000000</td>\n",
       "      <td>1.000000</td>\n",
       "      <td>1.000000</td>\n",
       "      <td>1.000000</td>\n",
       "      <td>1.000000</td>\n",
       "      <td>1.000000</td>\n",
       "      <td>1.000000</td>\n",
       "      <td>1.000000</td>\n",
       "      <td>1.000000</td>\n",
       "      <td>2.000000</td>\n",
       "      <td>1.000000</td>\n",
       "      <td>1.000000</td>\n",
       "      <td>0.000000</td>\n",
       "      <td>0.000000</td>\n",
       "      <td>0.000000</td>\n",
       "      <td>0.000000</td>\n",
       "      <td>0.000000</td>\n",
       "    </tr>\n",
       "    <tr>\n",
       "      <th>25%</th>\n",
       "      <td>0.000000</td>\n",
       "      <td>1.000000</td>\n",
       "      <td>4.000000</td>\n",
       "      <td>4.000000</td>\n",
       "      <td>4.000000</td>\n",
       "      <td>4.000000</td>\n",
       "      <td>4.000000</td>\n",
       "      <td>4.000000</td>\n",
       "      <td>4.000000</td>\n",
       "      <td>4.000000</td>\n",
       "      <td>4.000000</td>\n",
       "      <td>3.000000</td>\n",
       "      <td>3.000000</td>\n",
       "      <td>4.000000</td>\n",
       "      <td>4.000000</td>\n",
       "      <td>4.000000</td>\n",
       "      <td>4.000000</td>\n",
       "      <td>4.000000</td>\n",
       "      <td>4.000000</td>\n",
       "      <td>4.000000</td>\n",
       "      <td>0.000000</td>\n",
       "      <td>0.000000</td>\n",
       "      <td>0.000000</td>\n",
       "      <td>0.000000</td>\n",
       "      <td>0.000000</td>\n",
       "    </tr>\n",
       "    <tr>\n",
       "      <th>50%</th>\n",
       "      <td>1.000000</td>\n",
       "      <td>3.000000</td>\n",
       "      <td>5.000000</td>\n",
       "      <td>4.000000</td>\n",
       "      <td>4.000000</td>\n",
       "      <td>5.000000</td>\n",
       "      <td>4.000000</td>\n",
       "      <td>5.000000</td>\n",
       "      <td>5.000000</td>\n",
       "      <td>5.000000</td>\n",
       "      <td>4.000000</td>\n",
       "      <td>4.000000</td>\n",
       "      <td>4.000000</td>\n",
       "      <td>4.000000</td>\n",
       "      <td>4.000000</td>\n",
       "      <td>4.000000</td>\n",
       "      <td>4.000000</td>\n",
       "      <td>5.000000</td>\n",
       "      <td>4.000000</td>\n",
       "      <td>5.000000</td>\n",
       "      <td>0.000000</td>\n",
       "      <td>1.000000</td>\n",
       "      <td>1.000000</td>\n",
       "      <td>1.000000</td>\n",
       "      <td>0.000000</td>\n",
       "    </tr>\n",
       "    <tr>\n",
       "      <th>75%</th>\n",
       "      <td>1.000000</td>\n",
       "      <td>4.000000</td>\n",
       "      <td>5.000000</td>\n",
       "      <td>5.000000</td>\n",
       "      <td>5.000000</td>\n",
       "      <td>5.000000</td>\n",
       "      <td>5.000000</td>\n",
       "      <td>5.000000</td>\n",
       "      <td>5.000000</td>\n",
       "      <td>5.000000</td>\n",
       "      <td>5.000000</td>\n",
       "      <td>4.000000</td>\n",
       "      <td>4.000000</td>\n",
       "      <td>5.000000</td>\n",
       "      <td>5.000000</td>\n",
       "      <td>5.000000</td>\n",
       "      <td>5.000000</td>\n",
       "      <td>5.000000</td>\n",
       "      <td>5.000000</td>\n",
       "      <td>5.000000</td>\n",
       "      <td>1.000000</td>\n",
       "      <td>1.000000</td>\n",
       "      <td>1.000000</td>\n",
       "      <td>1.000000</td>\n",
       "      <td>1.000000</td>\n",
       "    </tr>\n",
       "    <tr>\n",
       "      <th>max</th>\n",
       "      <td>1.000000</td>\n",
       "      <td>5.000000</td>\n",
       "      <td>5.000000</td>\n",
       "      <td>5.000000</td>\n",
       "      <td>5.000000</td>\n",
       "      <td>5.000000</td>\n",
       "      <td>5.000000</td>\n",
       "      <td>5.000000</td>\n",
       "      <td>5.000000</td>\n",
       "      <td>5.000000</td>\n",
       "      <td>5.000000</td>\n",
       "      <td>5.000000</td>\n",
       "      <td>5.000000</td>\n",
       "      <td>5.000000</td>\n",
       "      <td>5.000000</td>\n",
       "      <td>5.000000</td>\n",
       "      <td>5.000000</td>\n",
       "      <td>5.000000</td>\n",
       "      <td>5.000000</td>\n",
       "      <td>5.000000</td>\n",
       "      <td>1.000000</td>\n",
       "      <td>1.000000</td>\n",
       "      <td>1.000000</td>\n",
       "      <td>1.000000</td>\n",
       "      <td>1.000000</td>\n",
       "    </tr>\n",
       "  </tbody>\n",
       "</table>\n",
       "</div>"
      ],
      "text/plain": [
       "       incredere_sist_fiscal  ...  overall_sentiment_all_responses\n",
       "count             813.000000  ...                       813.000000\n",
       "mean                0.589176  ...                         0.453875\n",
       "std                 0.492286  ...                         0.498174\n",
       "min                 0.000000  ...                         0.000000\n",
       "25%                 0.000000  ...                         0.000000\n",
       "50%                 1.000000  ...                         0.000000\n",
       "75%                 1.000000  ...                         1.000000\n",
       "max                 1.000000  ...                         1.000000\n",
       "\n",
       "[8 rows x 25 columns]"
      ]
     },
     "metadata": {
      "tags": []
     },
     "execution_count": 16
    }
   ]
  },
  {
   "cell_type": "code",
   "metadata": {
    "id": "6FdF9MAd7gFq"
   },
   "source": [
    "# Create a new dataset that doesn't consist of textual data\n",
    "df_fiscal_syst = df_full.drop(columns = ['nemultumiri_sist_fiscal', 'schimbari_sist_fiscal', 'ce_ofera_sistemul', 'motivare_incredere_sist_fiscal'])"
   ],
   "execution_count": null,
   "outputs": []
  },
  {
   "cell_type": "code",
   "metadata": {
    "colab": {
     "base_uri": "https://localhost:8080/",
     "height": 354
    },
    "id": "X82AYKxh5_3D",
    "outputId": "6a6e9c59-893b-401f-fbf2-636a3fcef061"
   },
   "source": [
    "sns.countplot(x = 'incredere_sist_fiscal', data=df_fiscal_syst)\n",
    "# Class imbalance"
   ],
   "execution_count": null,
   "outputs": [
    {
     "output_type": "execute_result",
     "data": {
      "text/plain": [
       "<matplotlib.axes._subplots.AxesSubplot at 0x7ff56b55b1d0>"
      ]
     },
     "metadata": {
      "tags": []
     },
     "execution_count": 18
    },
    {
     "output_type": "display_data",
     "data": {
      "image/png": "[encoded data removed]",
      "text/plain": [
       "<Figure size 360x360 with 1 Axes>"
      ]
     },
     "metadata": {
      "tags": [],
      "needs_background": "light"
     }
    }
   ]
  },
  {
   "cell_type": "code",
   "metadata": {
    "colab": {
     "base_uri": "https://localhost:8080/",
     "height": 197
    },
    "id": "DWHUNUVPcT5k",
    "outputId": "2db8818e-48c1-4012-e0f3-4d9f4e1bbab2"
   },
   "source": [
    "df_fiscal_syst[['incredere_sist_fiscal', 'parere_sist_fiscal', 'nemultumiri_sist_fiscal_sentiment', 'schimbari_sist_fiscal_sentiment', 'ce_ofera_sistemul_sentiment']].corr()"
   ],
   "execution_count": null,
   "outputs": [
    {
     "output_type": "execute_result",
     "data": {
      "text/html": [
       "<div>\n",
       "<style scoped>\n",
       "    .dataframe tbody tr th:only-of-type {\n",
       "        vertical-align: middle;\n",
       "    }\n",
       "\n",
       "    .dataframe tbody tr th {\n",
       "        vertical-align: top;\n",
       "    }\n",
       "\n",
       "    .dataframe thead th {\n",
       "        text-align: right;\n",
       "    }\n",
       "</style>\n",
       "<table border=\"1\" class=\"dataframe\">\n",
       "  <thead>\n",
       "    <tr style=\"text-align: right;\">\n",
       "      <th></th>\n",
       "      <th>incredere_sist_fiscal</th>\n",
       "      <th>parere_sist_fiscal</th>\n",
       "      <th>nemultumiri_sist_fiscal_sentiment</th>\n",
       "      <th>schimbari_sist_fiscal_sentiment</th>\n",
       "      <th>ce_ofera_sistemul_sentiment</th>\n",
       "    </tr>\n",
       "  </thead>\n",
       "  <tbody>\n",
       "    <tr>\n",
       "      <th>incredere_sist_fiscal</th>\n",
       "      <td>1.000000</td>\n",
       "      <td>0.505963</td>\n",
       "      <td>-0.020611</td>\n",
       "      <td>-0.044574</td>\n",
       "      <td>0.224885</td>\n",
       "    </tr>\n",
       "    <tr>\n",
       "      <th>parere_sist_fiscal</th>\n",
       "      <td>0.505963</td>\n",
       "      <td>1.000000</td>\n",
       "      <td>-0.016119</td>\n",
       "      <td>-0.080874</td>\n",
       "      <td>0.233082</td>\n",
       "    </tr>\n",
       "    <tr>\n",
       "      <th>nemultumiri_sist_fiscal_sentiment</th>\n",
       "      <td>-0.020611</td>\n",
       "      <td>-0.016119</td>\n",
       "      <td>1.000000</td>\n",
       "      <td>0.207082</td>\n",
       "      <td>0.078205</td>\n",
       "    </tr>\n",
       "    <tr>\n",
       "      <th>schimbari_sist_fiscal_sentiment</th>\n",
       "      <td>-0.044574</td>\n",
       "      <td>-0.080874</td>\n",
       "      <td>0.207082</td>\n",
       "      <td>1.000000</td>\n",
       "      <td>0.021801</td>\n",
       "    </tr>\n",
       "    <tr>\n",
       "      <th>ce_ofera_sistemul_sentiment</th>\n",
       "      <td>0.224885</td>\n",
       "      <td>0.233082</td>\n",
       "      <td>0.078205</td>\n",
       "      <td>0.021801</td>\n",
       "      <td>1.000000</td>\n",
       "    </tr>\n",
       "  </tbody>\n",
       "</table>\n",
       "</div>"
      ],
      "text/plain": [
       "                                   incredere_sist_fiscal  ...  ce_ofera_sistemul_sentiment\n",
       "incredere_sist_fiscal                           1.000000  ...                     0.224885\n",
       "parere_sist_fiscal                              0.505963  ...                     0.233082\n",
       "nemultumiri_sist_fiscal_sentiment              -0.020611  ...                     0.078205\n",
       "schimbari_sist_fiscal_sentiment                -0.044574  ...                     0.021801\n",
       "ce_ofera_sistemul_sentiment                     0.224885  ...                     1.000000\n",
       "\n",
       "[5 rows x 5 columns]"
      ]
     },
     "metadata": {
      "tags": []
     },
     "execution_count": 19
    }
   ]
  },
  {
   "cell_type": "code",
   "metadata": {
    "id": "AUfAQ6VCcwxL"
   },
   "source": [
    "# df_fiscal_syst.to_csv(os.path.join(path, 'data', 'Perceptia_fiscalitatii_814_febr 2021_last_with_sent.csv'), index=False)"
   ],
   "execution_count": null,
   "outputs": []
  },
  {
   "cell_type": "markdown",
   "metadata": {
    "id": "ODzzp8KdKLxd"
   },
   "source": [
    "# 6 Compare predictive models (ML vs. DL)"
   ]
  },
  {
   "cell_type": "markdown",
   "metadata": {
    "id": "lzv4KdB17gNf"
   },
   "source": [
    "## 6.1. LR"
   ]
  },
  {
   "cell_type": "code",
   "metadata": {
    "colab": {
     "base_uri": "https://localhost:8080/"
    },
    "id": "YKiMRaf46kVn",
    "outputId": "87330bac-65ad-4016-d7ba-ae02e2dbb892"
   },
   "source": [
    "df_fiscal_syst.columns"
   ],
   "execution_count": null,
   "outputs": [
    {
     "output_type": "execute_result",
     "data": {
      "text/plain": [
       "Index(['incredere_sist_fiscal', 'parere_sist_fiscal', 'TRANSPARENCY',\n",
       "       'VALUE FOR MONEY', 'ECONOMICAL', 'TRUST', 'SOCIAL WELFARE',\n",
       "       'WORK PLACE CREATION', 'SOCIO-ECONOMIC DEVELOPMENT', 'STABILITY',\n",
       "       'PREDICTIBILITY', 'FIN_INSP', 'FINES', 'CLEAR_LAW', 'FISC_FACIL',\n",
       "       'SUBV', 'INVEST_TAX', 'Q_PUBLIC_SV', 'PUBLIC_INV', 'TRANSP',\n",
       "       'nemultumiri_sist_fiscal_sentiment', 'schimbari_sist_fiscal_sentiment',\n",
       "       'ce_ofera_sistemul_sentiment',\n",
       "       'motivare_incredere_sist_fiscal_sentiment',\n",
       "       'overall_sentiment_all_responses'],\n",
       "      dtype='object')"
      ]
     },
     "metadata": {
      "tags": []
     },
     "execution_count": 23
    }
   ]
  },
  {
   "cell_type": "code",
   "metadata": {
    "colab": {
     "base_uri": "https://localhost:8080/"
    },
    "id": "hQc_cJpSH9ev",
    "outputId": "97b34998-1f23-4c39-cf6a-a95a352c4216"
   },
   "source": [
    "x = df_fiscal_syst.iloc[:, 1:-1].to_numpy()\n",
    "y = df_fiscal_syst.iloc[:, 0:1].to_numpy()\n",
    "x.shape\n",
    "y.shape"
   ],
   "execution_count": null,
   "outputs": [
    {
     "output_type": "execute_result",
     "data": {
      "text/plain": [
       "(813, 23)"
      ]
     },
     "metadata": {
      "tags": []
     },
     "execution_count": 24
    },
    {
     "output_type": "execute_result",
     "data": {
      "text/plain": [
       "(813, 1)"
      ]
     },
     "metadata": {
      "tags": []
     },
     "execution_count": 24
    }
   ]
  },
  {
   "cell_type": "code",
   "metadata": {
    "id": "Og4blPBYH9lO"
   },
   "source": [
    "#defining dataset class\n",
    "class dataset(Dataset):\n",
    "  def __init__(self,x,y):\n",
    "    self.x = torch.tensor(x,dtype=torch.float32)\n",
    "    self.y = torch.tensor(y,dtype=torch.float32)\n",
    "    self.length = self.x.shape[0]\n",
    " \n",
    "  def __getitem__(self,idx):\n",
    "    return self.x[idx],self.y[idx]\n",
    "  def __len__(self):\n",
    "    return self.length\n",
    "trainset = dataset(x,y)\n",
    "#DataLoader\n",
    "trainloader = DataLoader(trainset,batch_size=64,shuffle=False)"
   ],
   "execution_count": null,
   "outputs": []
  },
  {
   "cell_type": "code",
   "metadata": {
    "id": "74rCYOeEH9n6"
   },
   "source": [
    "#defining the network\n",
    "from torch import nn\n",
    "from torch.nn import functional as F\n",
    "class Net(nn.Module):\n",
    "  def __init__(self,input_shape):\n",
    "    super(Net,self).__init__()\n",
    "    self.fc1 = nn.Linear(input_shape,4) # If simple logistic regression is enough , the layer fc2 and fc3 could be removed\n",
    "    self.fc2 = nn.Linear(4,4)\n",
    "    self.fc3 = nn.Linear(4,1)\n",
    "  def forward(self,x):\n",
    "    x = torch.relu(self.fc1(x))\n",
    "    x = torch.relu(self.fc2(x))\n",
    "    x = torch.sigmoid(self.fc3(x))\n",
    "    return x"
   ],
   "execution_count": null,
   "outputs": []
  },
  {
   "cell_type": "code",
   "metadata": {
    "id": "iNCXWYaQI48F"
   },
   "source": [
    "#hyper parameters\n",
    "learning_rate = 0.001\n",
    "epochs = 5000\n",
    "# Model , Optimizer, Loss\n",
    "model = Net(input_shape=x.shape[1])\n",
    "optimizer = torch.optim.SGD(model.parameters(),lr=learning_rate)\n",
    "loss_fn = nn.BCELoss()"
   ],
   "execution_count": null,
   "outputs": []
  },
  {
   "cell_type": "code",
   "metadata": {
    "colab": {
     "base_uri": "https://localhost:8080/"
    },
    "id": "kRgam1sYI4-R",
    "outputId": "522e09eb-a7f0-4d09-aed3-f6eeefd3cd43"
   },
   "source": [
    "# Training\n",
    "#forward loop\n",
    "losses = []\n",
    "accur = []\n",
    "for i in range(epochs):\n",
    "  for j,(x_train,y_train) in enumerate(trainloader):\n",
    "    \n",
    "    #calculate output\n",
    "    output = model(x_train)\n",
    " \n",
    "    #calculate loss\n",
    "    loss = loss_fn(output,y_train.reshape(-1,1))\n",
    " \n",
    "    #accuracy\n",
    "    predicted = model(torch.tensor(x,dtype=torch.float32))\n",
    "    acc = (predicted.reshape(-1).detach().numpy().round() == y).mean()\n",
    "    #backprop\n",
    "    optimizer.zero_grad()\n",
    "    loss.backward()\n",
    "    optimizer.step()\n",
    "\n",
    "  if i%50 == 0:\n",
    "    losses.append(loss)\n",
    "    accur.append(acc)\n",
    "    print(\"epoch {}\\tloss : {}\\t accuracy : {}\".format(i,loss,acc))"
   ],
   "execution_count": null,
   "outputs": [
    {
     "output_type": "stream",
     "text": [
      "epoch 0\tloss : 0.7855135798454285\t accuracy : 0.4108241082410824\n",
      "epoch 50\tloss : 0.6516152024269104\t accuracy : 0.5885177670964902\n",
      "epoch 100\tloss : 0.6423927545547485\t accuracy : 0.5889565168714418\n",
      "epoch 150\tloss : 0.6385771632194519\t accuracy : 0.588737141983966\n",
      "epoch 200\tloss : 0.634275496006012\t accuracy : 0.588737141983966\n",
      "epoch 250\tloss : 0.6291836500167847\t accuracy : 0.5878596424340627\n",
      "epoch 300\tloss : 0.622953474521637\t accuracy : 0.5876402675465869\n",
      "epoch 350\tloss : 0.6151964068412781\t accuracy : 0.5845690191219255\n",
      "epoch 400\tloss : 0.6061801314353943\t accuracy : 0.5810590209223125\n",
      "epoch 450\tloss : 0.597040593624115\t accuracy : 0.574697149185514\n",
      "epoch 500\tloss : 0.5882660746574402\t accuracy : 0.5667996532363848\n",
      "epoch 550\tloss : 0.5794036388397217\t accuracy : 0.5591215321747314\n",
      "epoch 600\tloss : 0.5694330930709839\t accuracy : 0.5542952846502635\n",
      "epoch 650\tloss : 0.5628288984298706\t accuracy : 0.5501271617882231\n",
      "epoch 700\tloss : 0.5567945837974548\t accuracy : 0.545520289151231\n",
      "epoch 750\tloss : 0.5526027083396912\t accuracy : 0.5442040398263761\n",
      "epoch 800\tloss : 0.5490896701812744\t accuracy : 0.5437652900514245\n",
      "epoch 850\tloss : 0.5458759665489197\t accuracy : 0.5435459151639487\n",
      "epoch 900\tloss : 0.5437772870063782\t accuracy : 0.5424490407265696\n",
      "epoch 950\tloss : 0.5417541265487671\t accuracy : 0.542010290951618\n",
      "epoch 1000\tloss : 0.5400895476341248\t accuracy : 0.5417909160641422\n",
      "epoch 1050\tloss : 0.5386646389961243\t accuracy : 0.5415715411766664\n",
      "epoch 1100\tloss : 0.537312388420105\t accuracy : 0.5417909160641422\n",
      "epoch 1150\tloss : 0.5358848571777344\t accuracy : 0.5417909160641422\n",
      "epoch 1200\tloss : 0.534696102142334\t accuracy : 0.5417909160641422\n",
      "epoch 1250\tloss : 0.5335474014282227\t accuracy : 0.5417909160641422\n",
      "epoch 1300\tloss : 0.5326817631721497\t accuracy : 0.5417909160641422\n",
      "epoch 1350\tloss : 0.5318800806999207\t accuracy : 0.5417909160641422\n",
      "epoch 1400\tloss : 0.5309995412826538\t accuracy : 0.5417909160641422\n",
      "epoch 1450\tloss : 0.5302330851554871\t accuracy : 0.5415715411766664\n",
      "epoch 1500\tloss : 0.5296685695648193\t accuracy : 0.5413521662891906\n",
      "epoch 1550\tloss : 0.5291186571121216\t accuracy : 0.5406940416267632\n",
      "epoch 1600\tloss : 0.5288774967193604\t accuracy : 0.5406940416267632\n",
      "epoch 1650\tloss : 0.5284715294837952\t accuracy : 0.5404746667392873\n",
      "epoch 1700\tloss : 0.5281639099121094\t accuracy : 0.5404746667392873\n",
      "epoch 1750\tloss : 0.5277484655380249\t accuracy : 0.5400359169643357\n",
      "epoch 1800\tloss : 0.5273874998092651\t accuracy : 0.5395971671893841\n",
      "epoch 1850\tloss : 0.5269656181335449\t accuracy : 0.5391584174144325\n",
      "epoch 1900\tloss : 0.5264902710914612\t accuracy : 0.5389390425269567\n",
      "epoch 1950\tloss : 0.526241660118103\t accuracy : 0.5387196676394809\n",
      "epoch 2000\tloss : 0.5260311365127563\t accuracy : 0.5387196676394809\n",
      "epoch 2050\tloss : 0.5258505940437317\t accuracy : 0.5387196676394809\n",
      "epoch 2100\tloss : 0.5257557034492493\t accuracy : 0.5382809178645293\n",
      "epoch 2150\tloss : 0.5256261229515076\t accuracy : 0.5382809178645293\n",
      "epoch 2200\tloss : 0.5255634188652039\t accuracy : 0.5380615429770534\n",
      "epoch 2250\tloss : 0.525772213935852\t accuracy : 0.5371840434271501\n",
      "epoch 2300\tloss : 0.5258117318153381\t accuracy : 0.5371840434271501\n",
      "epoch 2350\tloss : 0.5257212519645691\t accuracy : 0.5369646685396743\n",
      "epoch 2400\tloss : 0.5256723761558533\t accuracy : 0.5369646685396743\n",
      "epoch 2450\tloss : 0.5256913900375366\t accuracy : 0.5369646685396743\n",
      "epoch 2500\tloss : 0.525668740272522\t accuracy : 0.5369646685396743\n",
      "epoch 2550\tloss : 0.5256350040435791\t accuracy : 0.5367452936521985\n",
      "epoch 2600\tloss : 0.5256666541099548\t accuracy : 0.5363065438772469\n",
      "epoch 2650\tloss : 0.5256779789924622\t accuracy : 0.536087168989771\n",
      "epoch 2700\tloss : 0.5256849527359009\t accuracy : 0.5358677941022952\n",
      "epoch 2750\tloss : 0.5256720185279846\t accuracy : 0.5358677941022952\n",
      "epoch 2800\tloss : 0.5257555842399597\t accuracy : 0.5358677941022952\n",
      "epoch 2850\tloss : 0.525738000869751\t accuracy : 0.5358677941022952\n",
      "epoch 2900\tloss : 0.5258426070213318\t accuracy : 0.5356484192148194\n",
      "epoch 2950\tloss : 0.5259019136428833\t accuracy : 0.5356484192148194\n",
      "epoch 3000\tloss : 0.5260818600654602\t accuracy : 0.5356484192148194\n",
      "epoch 3050\tloss : 0.5262235999107361\t accuracy : 0.5354290443273436\n",
      "epoch 3100\tloss : 0.5263717174530029\t accuracy : 0.5354290443273436\n",
      "epoch 3150\tloss : 0.5263890624046326\t accuracy : 0.5354290443273436\n",
      "epoch 3200\tloss : 0.5266395807266235\t accuracy : 0.5356484192148194\n",
      "epoch 3250\tloss : 0.5269168615341187\t accuracy : 0.5354290443273436\n",
      "epoch 3300\tloss : 0.5271522998809814\t accuracy : 0.534990294552392\n",
      "epoch 3350\tloss : 0.5271577835083008\t accuracy : 0.534990294552392\n",
      "epoch 3400\tloss : 0.5272750854492188\t accuracy : 0.534990294552392\n",
      "epoch 3450\tloss : 0.5274209976196289\t accuracy : 0.5347709196649162\n",
      "epoch 3500\tloss : 0.5275436639785767\t accuracy : 0.5345515447774404\n",
      "epoch 3550\tloss : 0.5277376174926758\t accuracy : 0.5341127950024888\n",
      "epoch 3600\tloss : 0.5276905298233032\t accuracy : 0.5341127950024888\n",
      "epoch 3650\tloss : 0.5278368592262268\t accuracy : 0.5341127950024888\n",
      "epoch 3700\tloss : 0.5279510021209717\t accuracy : 0.5341127950024888\n",
      "epoch 3750\tloss : 0.528040885925293\t accuracy : 0.5341127950024888\n",
      "epoch 3800\tloss : 0.527534008026123\t accuracy : 0.5341127950024888\n",
      "epoch 3850\tloss : 0.5274840593338013\t accuracy : 0.5341127950024888\n",
      "epoch 3900\tloss : 0.5273498296737671\t accuracy : 0.5341127950024888\n",
      "epoch 3950\tloss : 0.5272085666656494\t accuracy : 0.5341127950024888\n",
      "epoch 4000\tloss : 0.5270429849624634\t accuracy : 0.5341127950024888\n",
      "epoch 4050\tloss : 0.5269466638565063\t accuracy : 0.5341127950024888\n",
      "epoch 4100\tloss : 0.5268274545669556\t accuracy : 0.5341127950024888\n",
      "epoch 4150\tloss : 0.5267190337181091\t accuracy : 0.533893420115013\n",
      "epoch 4200\tloss : 0.5266668200492859\t accuracy : 0.5336740452275371\n",
      "epoch 4250\tloss : 0.5265940427780151\t accuracy : 0.5334546703400613\n",
      "epoch 4300\tloss : 0.5265381932258606\t accuracy : 0.5332352954525855\n",
      "epoch 4350\tloss : 0.5264338254928589\t accuracy : 0.5332352954525855\n",
      "epoch 4400\tloss : 0.5263245701789856\t accuracy : 0.5330159205651097\n",
      "epoch 4450\tloss : 0.5262045860290527\t accuracy : 0.5330159205651097\n",
      "epoch 4500\tloss : 0.5261244773864746\t accuracy : 0.5330159205651097\n",
      "epoch 4550\tloss : 0.5260207056999207\t accuracy : 0.5330159205651097\n",
      "epoch 4600\tloss : 0.5259009599685669\t accuracy : 0.5327965456776339\n",
      "epoch 4650\tloss : 0.5258339643478394\t accuracy : 0.5327965456776339\n",
      "epoch 4700\tloss : 0.5257325768470764\t accuracy : 0.5327965456776339\n",
      "epoch 4750\tloss : 0.525661051273346\t accuracy : 0.5327965456776339\n",
      "epoch 4800\tloss : 0.5255938768386841\t accuracy : 0.5327965456776339\n",
      "epoch 4850\tloss : 0.5255345702171326\t accuracy : 0.5327965456776339\n",
      "epoch 4900\tloss : 0.5254492163658142\t accuracy : 0.5327965456776339\n",
      "epoch 4950\tloss : 0.5254125595092773\t accuracy : 0.5327965456776339\n"
     ],
     "name": "stdout"
    }
   ]
  },
  {
   "cell_type": "code",
   "metadata": {
    "colab": {
     "base_uri": "https://localhost:8080/",
     "height": 773
    },
    "id": "3HPVXUuqI5AP",
    "outputId": "27c89042-3eea-4fae-9239-578bfe412dde"
   },
   "source": [
    "#plotting the loss\n",
    "plt.plot(losses)\n",
    "plt.title('Loss vs Epochs')\n",
    "plt.xlabel('Epochs')\n",
    "plt.ylabel('loss')"
   ],
   "execution_count": null,
   "outputs": [
    {
     "output_type": "error",
     "ename": "RuntimeError",
     "evalue": "ignored",
     "traceback": [
      "\u001b[0;31m---------------------------------------------------------------------------\u001b[0m",
      "\u001b[0;31mAttributeError\u001b[0m                            Traceback (most recent call last)",
      "\u001b[0;32m/usr/local/lib/python3.7/dist-packages/matplotlib/cbook/__init__.py\u001b[0m in \u001b[0;36mindex_of\u001b[0;34m(y)\u001b[0m\n\u001b[1;32m   1626\u001b[0m     \u001b[0;32mtry\u001b[0m\u001b[0;34m:\u001b[0m\u001b[0;34m\u001b[0m\u001b[0;34m\u001b[0m\u001b[0m\n\u001b[0;32m-> 1627\u001b[0;31m         \u001b[0;32mreturn\u001b[0m \u001b[0my\u001b[0m\u001b[0;34m.\u001b[0m\u001b[0mindex\u001b[0m\u001b[0;34m.\u001b[0m\u001b[0mvalues\u001b[0m\u001b[0;34m,\u001b[0m \u001b[0my\u001b[0m\u001b[0;34m.\u001b[0m\u001b[0mvalues\u001b[0m\u001b[0;34m\u001b[0m\u001b[0;34m\u001b[0m\u001b[0m\n\u001b[0m\u001b[1;32m   1628\u001b[0m     \u001b[0;32mexcept\u001b[0m \u001b[0mAttributeError\u001b[0m\u001b[0;34m:\u001b[0m\u001b[0;34m\u001b[0m\u001b[0;34m\u001b[0m\u001b[0m\n",
      "\u001b[0;31mAttributeError\u001b[0m: 'builtin_function_or_method' object has no attribute 'values'",
      "\nDuring handling of the above exception, another exception occurred:\n",
      "\u001b[0;31mRuntimeError\u001b[0m                              Traceback (most recent call last)",
      "\u001b[0;32m<ipython-input-29-a121d623180f>\u001b[0m in \u001b[0;36m<module>\u001b[0;34m()\u001b[0m\n\u001b[1;32m      1\u001b[0m \u001b[0;31m#plotting the loss\u001b[0m\u001b[0;34m\u001b[0m\u001b[0;34m\u001b[0m\u001b[0;34m\u001b[0m\u001b[0m\n\u001b[0;32m----> 2\u001b[0;31m \u001b[0mplt\u001b[0m\u001b[0;34m.\u001b[0m\u001b[0mplot\u001b[0m\u001b[0;34m(\u001b[0m\u001b[0mlosses\u001b[0m\u001b[0;34m)\u001b[0m\u001b[0;34m\u001b[0m\u001b[0;34m\u001b[0m\u001b[0m\n\u001b[0m\u001b[1;32m      3\u001b[0m \u001b[0mplt\u001b[0m\u001b[0;34m.\u001b[0m\u001b[0mtitle\u001b[0m\u001b[0;34m(\u001b[0m\u001b[0;34m'Loss vs Epochs'\u001b[0m\u001b[0;34m)\u001b[0m\u001b[0;34m\u001b[0m\u001b[0;34m\u001b[0m\u001b[0m\n\u001b[1;32m      4\u001b[0m \u001b[0mplt\u001b[0m\u001b[0;34m.\u001b[0m\u001b[0mxlabel\u001b[0m\u001b[0;34m(\u001b[0m\u001b[0;34m'Epochs'\u001b[0m\u001b[0;34m)\u001b[0m\u001b[0;34m\u001b[0m\u001b[0;34m\u001b[0m\u001b[0m\n\u001b[1;32m      5\u001b[0m \u001b[0mplt\u001b[0m\u001b[0;34m.\u001b[0m\u001b[0mylabel\u001b[0m\u001b[0;34m(\u001b[0m\u001b[0;34m'loss'\u001b[0m\u001b[0;34m)\u001b[0m\u001b[0;34m\u001b[0m\u001b[0;34m\u001b[0m\u001b[0m\n",
      "\u001b[0;32m/usr/local/lib/python3.7/dist-packages/matplotlib/pyplot.py\u001b[0m in \u001b[0;36mplot\u001b[0;34m(scalex, scaley, data, *args, **kwargs)\u001b[0m\n\u001b[1;32m   2761\u001b[0m     return gca().plot(\n\u001b[1;32m   2762\u001b[0m         *args, scalex=scalex, scaley=scaley, **({\"data\": data} if data\n\u001b[0;32m-> 2763\u001b[0;31m         is not None else {}), **kwargs)\n\u001b[0m\u001b[1;32m   2764\u001b[0m \u001b[0;34m\u001b[0m\u001b[0m\n\u001b[1;32m   2765\u001b[0m \u001b[0;34m\u001b[0m\u001b[0m\n",
      "\u001b[0;32m/usr/local/lib/python3.7/dist-packages/matplotlib/axes/_axes.py\u001b[0m in \u001b[0;36mplot\u001b[0;34m(self, scalex, scaley, data, *args, **kwargs)\u001b[0m\n\u001b[1;32m   1645\u001b[0m         \"\"\"\n\u001b[1;32m   1646\u001b[0m         \u001b[0mkwargs\u001b[0m \u001b[0;34m=\u001b[0m \u001b[0mcbook\u001b[0m\u001b[0;34m.\u001b[0m\u001b[0mnormalize_kwargs\u001b[0m\u001b[0;34m(\u001b[0m\u001b[0mkwargs\u001b[0m\u001b[0;34m,\u001b[0m \u001b[0mmlines\u001b[0m\u001b[0;34m.\u001b[0m\u001b[0mLine2D\u001b[0m\u001b[0;34m)\u001b[0m\u001b[0;34m\u001b[0m\u001b[0;34m\u001b[0m\u001b[0m\n\u001b[0;32m-> 1647\u001b[0;31m         \u001b[0mlines\u001b[0m \u001b[0;34m=\u001b[0m \u001b[0;34m[\u001b[0m\u001b[0;34m*\u001b[0m\u001b[0mself\u001b[0m\u001b[0;34m.\u001b[0m\u001b[0m_get_lines\u001b[0m\u001b[0;34m(\u001b[0m\u001b[0;34m*\u001b[0m\u001b[0margs\u001b[0m\u001b[0;34m,\u001b[0m \u001b[0mdata\u001b[0m\u001b[0;34m=\u001b[0m\u001b[0mdata\u001b[0m\u001b[0;34m,\u001b[0m \u001b[0;34m**\u001b[0m\u001b[0mkwargs\u001b[0m\u001b[0;34m)\u001b[0m\u001b[0;34m]\u001b[0m\u001b[0;34m\u001b[0m\u001b[0;34m\u001b[0m\u001b[0m\n\u001b[0m\u001b[1;32m   1648\u001b[0m         \u001b[0;32mfor\u001b[0m \u001b[0mline\u001b[0m \u001b[0;32min\u001b[0m \u001b[0mlines\u001b[0m\u001b[0;34m:\u001b[0m\u001b[0;34m\u001b[0m\u001b[0;34m\u001b[0m\u001b[0m\n\u001b[1;32m   1649\u001b[0m             \u001b[0mself\u001b[0m\u001b[0;34m.\u001b[0m\u001b[0madd_line\u001b[0m\u001b[0;34m(\u001b[0m\u001b[0mline\u001b[0m\u001b[0;34m)\u001b[0m\u001b[0;34m\u001b[0m\u001b[0;34m\u001b[0m\u001b[0m\n",
      "\u001b[0;32m/usr/local/lib/python3.7/dist-packages/matplotlib/axes/_base.py\u001b[0m in \u001b[0;36m__call__\u001b[0;34m(self, *args, **kwargs)\u001b[0m\n\u001b[1;32m    214\u001b[0m                 \u001b[0mthis\u001b[0m \u001b[0;34m+=\u001b[0m \u001b[0margs\u001b[0m\u001b[0;34m[\u001b[0m\u001b[0;36m0\u001b[0m\u001b[0;34m]\u001b[0m\u001b[0;34m,\u001b[0m\u001b[0;34m\u001b[0m\u001b[0;34m\u001b[0m\u001b[0m\n\u001b[1;32m    215\u001b[0m                 \u001b[0margs\u001b[0m \u001b[0;34m=\u001b[0m \u001b[0margs\u001b[0m\u001b[0;34m[\u001b[0m\u001b[0;36m1\u001b[0m\u001b[0;34m:\u001b[0m\u001b[0;34m]\u001b[0m\u001b[0;34m\u001b[0m\u001b[0;34m\u001b[0m\u001b[0m\n\u001b[0;32m--> 216\u001b[0;31m             \u001b[0;32myield\u001b[0m \u001b[0;32mfrom\u001b[0m \u001b[0mself\u001b[0m\u001b[0;34m.\u001b[0m\u001b[0m_plot_args\u001b[0m\u001b[0;34m(\u001b[0m\u001b[0mthis\u001b[0m\u001b[0;34m,\u001b[0m \u001b[0mkwargs\u001b[0m\u001b[0;34m)\u001b[0m\u001b[0;34m\u001b[0m\u001b[0;34m\u001b[0m\u001b[0m\n\u001b[0m\u001b[1;32m    217\u001b[0m \u001b[0;34m\u001b[0m\u001b[0m\n\u001b[1;32m    218\u001b[0m     \u001b[0;32mdef\u001b[0m \u001b[0mget_next_color\u001b[0m\u001b[0;34m(\u001b[0m\u001b[0mself\u001b[0m\u001b[0;34m)\u001b[0m\u001b[0;34m:\u001b[0m\u001b[0;34m\u001b[0m\u001b[0;34m\u001b[0m\u001b[0m\n",
      "\u001b[0;32m/usr/local/lib/python3.7/dist-packages/matplotlib/axes/_base.py\u001b[0m in \u001b[0;36m_plot_args\u001b[0;34m(self, tup, kwargs)\u001b[0m\n\u001b[1;32m    332\u001b[0m             \u001b[0my\u001b[0m \u001b[0;34m=\u001b[0m \u001b[0m_check_1d\u001b[0m\u001b[0;34m(\u001b[0m\u001b[0mtup\u001b[0m\u001b[0;34m[\u001b[0m\u001b[0;34m-\u001b[0m\u001b[0;36m1\u001b[0m\u001b[0;34m]\u001b[0m\u001b[0;34m)\u001b[0m\u001b[0;34m\u001b[0m\u001b[0;34m\u001b[0m\u001b[0m\n\u001b[1;32m    333\u001b[0m         \u001b[0;32melse\u001b[0m\u001b[0;34m:\u001b[0m\u001b[0;34m\u001b[0m\u001b[0;34m\u001b[0m\u001b[0m\n\u001b[0;32m--> 334\u001b[0;31m             \u001b[0mx\u001b[0m\u001b[0;34m,\u001b[0m \u001b[0my\u001b[0m \u001b[0;34m=\u001b[0m \u001b[0mindex_of\u001b[0m\u001b[0;34m(\u001b[0m\u001b[0mtup\u001b[0m\u001b[0;34m[\u001b[0m\u001b[0;34m-\u001b[0m\u001b[0;36m1\u001b[0m\u001b[0;34m]\u001b[0m\u001b[0;34m)\u001b[0m\u001b[0;34m\u001b[0m\u001b[0;34m\u001b[0m\u001b[0m\n\u001b[0m\u001b[1;32m    335\u001b[0m \u001b[0;34m\u001b[0m\u001b[0m\n\u001b[1;32m    336\u001b[0m         \u001b[0;32mif\u001b[0m \u001b[0mself\u001b[0m\u001b[0;34m.\u001b[0m\u001b[0maxes\u001b[0m\u001b[0;34m.\u001b[0m\u001b[0mxaxis\u001b[0m \u001b[0;32mis\u001b[0m \u001b[0;32mnot\u001b[0m \u001b[0;32mNone\u001b[0m\u001b[0;34m:\u001b[0m\u001b[0;34m\u001b[0m\u001b[0;34m\u001b[0m\u001b[0m\n",
      "\u001b[0;32m/usr/local/lib/python3.7/dist-packages/matplotlib/cbook/__init__.py\u001b[0m in \u001b[0;36mindex_of\u001b[0;34m(y)\u001b[0m\n\u001b[1;32m   1627\u001b[0m         \u001b[0;32mreturn\u001b[0m \u001b[0my\u001b[0m\u001b[0;34m.\u001b[0m\u001b[0mindex\u001b[0m\u001b[0;34m.\u001b[0m\u001b[0mvalues\u001b[0m\u001b[0;34m,\u001b[0m \u001b[0my\u001b[0m\u001b[0;34m.\u001b[0m\u001b[0mvalues\u001b[0m\u001b[0;34m\u001b[0m\u001b[0;34m\u001b[0m\u001b[0m\n\u001b[1;32m   1628\u001b[0m     \u001b[0;32mexcept\u001b[0m \u001b[0mAttributeError\u001b[0m\u001b[0;34m:\u001b[0m\u001b[0;34m\u001b[0m\u001b[0;34m\u001b[0m\u001b[0m\n\u001b[0;32m-> 1629\u001b[0;31m         \u001b[0my\u001b[0m \u001b[0;34m=\u001b[0m \u001b[0m_check_1d\u001b[0m\u001b[0;34m(\u001b[0m\u001b[0my\u001b[0m\u001b[0;34m)\u001b[0m\u001b[0;34m\u001b[0m\u001b[0;34m\u001b[0m\u001b[0m\n\u001b[0m\u001b[1;32m   1630\u001b[0m         \u001b[0;32mreturn\u001b[0m \u001b[0mnp\u001b[0m\u001b[0;34m.\u001b[0m\u001b[0marange\u001b[0m\u001b[0;34m(\u001b[0m\u001b[0my\u001b[0m\u001b[0;34m.\u001b[0m\u001b[0mshape\u001b[0m\u001b[0;34m[\u001b[0m\u001b[0;36m0\u001b[0m\u001b[0;34m]\u001b[0m\u001b[0;34m,\u001b[0m \u001b[0mdtype\u001b[0m\u001b[0;34m=\u001b[0m\u001b[0mfloat\u001b[0m\u001b[0;34m)\u001b[0m\u001b[0;34m,\u001b[0m \u001b[0my\u001b[0m\u001b[0;34m\u001b[0m\u001b[0;34m\u001b[0m\u001b[0m\n\u001b[1;32m   1631\u001b[0m \u001b[0;34m\u001b[0m\u001b[0m\n",
      "\u001b[0;32m/usr/local/lib/python3.7/dist-packages/matplotlib/cbook/__init__.py\u001b[0m in \u001b[0;36m_check_1d\u001b[0;34m(x)\u001b[0m\n\u001b[1;32m   1324\u001b[0m     '''\n\u001b[1;32m   1325\u001b[0m     \u001b[0;32mif\u001b[0m \u001b[0;32mnot\u001b[0m \u001b[0mhasattr\u001b[0m\u001b[0;34m(\u001b[0m\u001b[0mx\u001b[0m\u001b[0;34m,\u001b[0m \u001b[0;34m'shape'\u001b[0m\u001b[0;34m)\u001b[0m \u001b[0;32mor\u001b[0m \u001b[0mlen\u001b[0m\u001b[0;34m(\u001b[0m\u001b[0mx\u001b[0m\u001b[0;34m.\u001b[0m\u001b[0mshape\u001b[0m\u001b[0;34m)\u001b[0m \u001b[0;34m<\u001b[0m \u001b[0;36m1\u001b[0m\u001b[0;34m:\u001b[0m\u001b[0;34m\u001b[0m\u001b[0;34m\u001b[0m\u001b[0m\n\u001b[0;32m-> 1326\u001b[0;31m         \u001b[0;32mreturn\u001b[0m \u001b[0mnp\u001b[0m\u001b[0;34m.\u001b[0m\u001b[0matleast_1d\u001b[0m\u001b[0;34m(\u001b[0m\u001b[0mx\u001b[0m\u001b[0;34m)\u001b[0m\u001b[0;34m\u001b[0m\u001b[0;34m\u001b[0m\u001b[0m\n\u001b[0m\u001b[1;32m   1327\u001b[0m     \u001b[0;32melse\u001b[0m\u001b[0;34m:\u001b[0m\u001b[0;34m\u001b[0m\u001b[0;34m\u001b[0m\u001b[0m\n\u001b[1;32m   1328\u001b[0m         \u001b[0;32mtry\u001b[0m\u001b[0;34m:\u001b[0m\u001b[0;34m\u001b[0m\u001b[0;34m\u001b[0m\u001b[0m\n",
      "\u001b[0;32m<__array_function__ internals>\u001b[0m in \u001b[0;36matleast_1d\u001b[0;34m(*args, **kwargs)\u001b[0m\n",
      "\u001b[0;32m/usr/local/lib/python3.7/dist-packages/numpy/core/shape_base.py\u001b[0m in \u001b[0;36matleast_1d\u001b[0;34m(*arys)\u001b[0m\n\u001b[1;32m     64\u001b[0m     \u001b[0mres\u001b[0m \u001b[0;34m=\u001b[0m \u001b[0;34m[\u001b[0m\u001b[0;34m]\u001b[0m\u001b[0;34m\u001b[0m\u001b[0;34m\u001b[0m\u001b[0m\n\u001b[1;32m     65\u001b[0m     \u001b[0;32mfor\u001b[0m \u001b[0mary\u001b[0m \u001b[0;32min\u001b[0m \u001b[0marys\u001b[0m\u001b[0;34m:\u001b[0m\u001b[0;34m\u001b[0m\u001b[0;34m\u001b[0m\u001b[0m\n\u001b[0;32m---> 66\u001b[0;31m         \u001b[0mary\u001b[0m \u001b[0;34m=\u001b[0m \u001b[0masanyarray\u001b[0m\u001b[0;34m(\u001b[0m\u001b[0mary\u001b[0m\u001b[0;34m)\u001b[0m\u001b[0;34m\u001b[0m\u001b[0;34m\u001b[0m\u001b[0m\n\u001b[0m\u001b[1;32m     67\u001b[0m         \u001b[0;32mif\u001b[0m \u001b[0mary\u001b[0m\u001b[0;34m.\u001b[0m\u001b[0mndim\u001b[0m \u001b[0;34m==\u001b[0m \u001b[0;36m0\u001b[0m\u001b[0;34m:\u001b[0m\u001b[0;34m\u001b[0m\u001b[0;34m\u001b[0m\u001b[0m\n\u001b[1;32m     68\u001b[0m             \u001b[0mresult\u001b[0m \u001b[0;34m=\u001b[0m \u001b[0mary\u001b[0m\u001b[0;34m.\u001b[0m\u001b[0mreshape\u001b[0m\u001b[0;34m(\u001b[0m\u001b[0;36m1\u001b[0m\u001b[0;34m)\u001b[0m\u001b[0;34m\u001b[0m\u001b[0;34m\u001b[0m\u001b[0m\n",
      "\u001b[0;32m/usr/local/lib/python3.7/dist-packages/numpy/core/_asarray.py\u001b[0m in \u001b[0;36masanyarray\u001b[0;34m(a, dtype, order, like)\u001b[0m\n\u001b[1;32m    169\u001b[0m         \u001b[0;32mreturn\u001b[0m \u001b[0m_asanyarray_with_like\u001b[0m\u001b[0;34m(\u001b[0m\u001b[0ma\u001b[0m\u001b[0;34m,\u001b[0m \u001b[0mdtype\u001b[0m\u001b[0;34m=\u001b[0m\u001b[0mdtype\u001b[0m\u001b[0;34m,\u001b[0m \u001b[0morder\u001b[0m\u001b[0;34m=\u001b[0m\u001b[0morder\u001b[0m\u001b[0;34m,\u001b[0m \u001b[0mlike\u001b[0m\u001b[0;34m=\u001b[0m\u001b[0mlike\u001b[0m\u001b[0;34m)\u001b[0m\u001b[0;34m\u001b[0m\u001b[0;34m\u001b[0m\u001b[0m\n\u001b[1;32m    170\u001b[0m \u001b[0;34m\u001b[0m\u001b[0m\n\u001b[0;32m--> 171\u001b[0;31m     \u001b[0;32mreturn\u001b[0m \u001b[0marray\u001b[0m\u001b[0;34m(\u001b[0m\u001b[0ma\u001b[0m\u001b[0;34m,\u001b[0m \u001b[0mdtype\u001b[0m\u001b[0;34m,\u001b[0m \u001b[0mcopy\u001b[0m\u001b[0;34m=\u001b[0m\u001b[0;32mFalse\u001b[0m\u001b[0;34m,\u001b[0m \u001b[0morder\u001b[0m\u001b[0;34m=\u001b[0m\u001b[0morder\u001b[0m\u001b[0;34m,\u001b[0m \u001b[0msubok\u001b[0m\u001b[0;34m=\u001b[0m\u001b[0;32mTrue\u001b[0m\u001b[0;34m)\u001b[0m\u001b[0;34m\u001b[0m\u001b[0;34m\u001b[0m\u001b[0m\n\u001b[0m\u001b[1;32m    172\u001b[0m \u001b[0;34m\u001b[0m\u001b[0m\n\u001b[1;32m    173\u001b[0m \u001b[0;34m\u001b[0m\u001b[0m\n",
      "\u001b[0;32m/usr/local/lib/python3.7/dist-packages/torch/tensor.py\u001b[0m in \u001b[0;36m__array__\u001b[0;34m(self, dtype)\u001b[0m\n\u001b[1;32m    619\u001b[0m             \u001b[0;32mreturn\u001b[0m \u001b[0mhandle_torch_function\u001b[0m\u001b[0;34m(\u001b[0m\u001b[0mTensor\u001b[0m\u001b[0;34m.\u001b[0m\u001b[0m__array__\u001b[0m\u001b[0;34m,\u001b[0m \u001b[0;34m(\u001b[0m\u001b[0mself\u001b[0m\u001b[0;34m,\u001b[0m\u001b[0;34m)\u001b[0m\u001b[0;34m,\u001b[0m \u001b[0mself\u001b[0m\u001b[0;34m,\u001b[0m \u001b[0mdtype\u001b[0m\u001b[0;34m=\u001b[0m\u001b[0mdtype\u001b[0m\u001b[0;34m)\u001b[0m\u001b[0;34m\u001b[0m\u001b[0;34m\u001b[0m\u001b[0m\n\u001b[1;32m    620\u001b[0m         \u001b[0;32mif\u001b[0m \u001b[0mdtype\u001b[0m \u001b[0;32mis\u001b[0m \u001b[0;32mNone\u001b[0m\u001b[0;34m:\u001b[0m\u001b[0;34m\u001b[0m\u001b[0;34m\u001b[0m\u001b[0m\n\u001b[0;32m--> 621\u001b[0;31m             \u001b[0;32mreturn\u001b[0m \u001b[0mself\u001b[0m\u001b[0;34m.\u001b[0m\u001b[0mnumpy\u001b[0m\u001b[0;34m(\u001b[0m\u001b[0;34m)\u001b[0m\u001b[0;34m\u001b[0m\u001b[0;34m\u001b[0m\u001b[0m\n\u001b[0m\u001b[1;32m    622\u001b[0m         \u001b[0;32melse\u001b[0m\u001b[0;34m:\u001b[0m\u001b[0;34m\u001b[0m\u001b[0;34m\u001b[0m\u001b[0m\n\u001b[1;32m    623\u001b[0m             \u001b[0;32mreturn\u001b[0m \u001b[0mself\u001b[0m\u001b[0;34m.\u001b[0m\u001b[0mnumpy\u001b[0m\u001b[0;34m(\u001b[0m\u001b[0;34m)\u001b[0m\u001b[0;34m.\u001b[0m\u001b[0mastype\u001b[0m\u001b[0;34m(\u001b[0m\u001b[0mdtype\u001b[0m\u001b[0;34m,\u001b[0m \u001b[0mcopy\u001b[0m\u001b[0;34m=\u001b[0m\u001b[0;32mFalse\u001b[0m\u001b[0;34m)\u001b[0m\u001b[0;34m\u001b[0m\u001b[0;34m\u001b[0m\u001b[0m\n",
      "\u001b[0;31mRuntimeError\u001b[0m: Can't call numpy() on Tensor that requires grad. Use tensor.detach().numpy() instead."
     ]
    },
    {
     "output_type": "display_data",
     "data": {
      "image/png": "[encoded data removed]",
      "text/plain": [
       "<Figure size 360x360 with 1 Axes>"
      ]
     },
     "metadata": {
      "tags": []
     }
    }
   ]
  },
  {
   "cell_type": "code",
   "metadata": {
    "id": "nIRf5ZX8I5CN"
   },
   "source": [
    "#printing the accuracy\n",
    "plt.plot(accur)\n",
    "plt.title('Accuracy vs Epochs')\n",
    "plt.xlabel('Accuracy')\n",
    "plt.ylabel('loss')"
   ],
   "execution_count": null,
   "outputs": []
  },
  {
   "cell_type": "markdown",
   "metadata": {
    "id": "U9-s0cKA36rr"
   },
   "source": [
    "## 6.2. LR"
   ]
  },
  {
   "cell_type": "code",
   "metadata": {
    "id": "IwfgggdGuSIb"
   },
   "source": [
    "# Train test split\n",
    "df_train, df_test = train_test_split(df_fiscal_syst, test_size=0.25, random_state=1)\n",
    "\n",
    "# Standardize x and transform the data to torch tensors\n",
    "scaler = StandardScaler()\n",
    "\n",
    "X_train = torch.tensor(scaler.fit_transform(df_train.drop(columns=['incredere_sist_fiscal', 'motivare_incredere_sist_fiscal_sentiment']).to_numpy()), dtype=torch.float) # or df_fiscal_syst.iloc[:, 1:]\n",
    "X_test = torch.tensor(scaler.fit_transform(df_test.drop(columns=['incredere_sist_fiscal', 'motivare_incredere_sist_fiscal_sentiment']).to_numpy()), dtype=torch.float)\n",
    "Y_train = torch.tensor(df_train['incredere_sist_fiscal'].to_numpy(), dtype=torch.float).view(-1, 1) # or df_fiscal_syst.iloc[:, 0:1]\n",
    "Y_test = torch.tensor(df_test['incredere_sist_fiscal'].to_numpy(), dtype=torch.float).view(-1, 1)\n",
    "\n",
    "print(X_train.shape)\n",
    "print(X_test.shape)\n",
    "print(Y_train.shape)\n",
    "print(Y_test.shape)"
   ],
   "execution_count": null,
   "outputs": []
  },
  {
   "cell_type": "code",
   "metadata": {
    "id": "2l-O0UTSuSMT"
   },
   "source": [
    "# Get the input, hidden, and output layers' shape\n",
    "input_layer_size = X_train.shape[1]\n",
    "hidden_layer_size_1 = 4\n",
    "hidden_layer_size_2 = 16\n",
    "output_layer_size = 1"
   ],
   "execution_count": null,
   "outputs": []
  },
  {
   "cell_type": "code",
   "metadata": {
    "id": "Z6wQorL3uSOb"
   },
   "source": [
    "# Let's initialize our models\n",
    "\n",
    "model_1 = nn.Sequential(\n",
    "    nn.Linear(input_layer_size, output_layer_size),\n",
    "    nn.Sigmoid() #input trebuie sa coincida cu nr valorilor lui x\n",
    "    # y este output\n",
    ")\n",
    "\n",
    "model_2 = nn.Sequential(\n",
    "    nn.Linear(input_layer_size, output_layer_size),\n",
    "    nn.Sigmoid()\n",
    ")\n",
    "\n",
    "model_3 = nn.Sequential(\n",
    "    nn.Linear(input_layer_size, hidden_layer_size_1),\n",
    "    nn.Linear(hidden_layer_size_1, hidden_layer_size_1),\n",
    "    nn.Linear(hidden_layer_size_1, output_layer_size),\n",
    "    nn.Sigmoid()\n",
    ")\n",
    "\n",
    "model_4 = nn.Sequential(\n",
    "    nn.Linear(input_layer_size, hidden_layer_size_2),\n",
    "    nn.Linear(hidden_layer_size_2, hidden_layer_size_2),\n",
    "    nn.Linear(hidden_layer_size_2, output_layer_size),\n",
    "    nn.Sigmoid()\n",
    ")\n",
    "\n",
    "model_5 = nn.Sequential(\n",
    "    nn.Linear(input_layer_size, hidden_layer_size_1),\n",
    "    nn.ReLU(),\n",
    "    nn.Linear(hidden_layer_size_1, hidden_layer_size_1),\n",
    "    nn.ReLU(),\n",
    "    nn.Linear(hidden_layer_size_1, output_layer_size),\n",
    "    nn.Sigmoid()\n",
    ")\n",
    "\n",
    "model_6 = nn.Sequential(\n",
    "    nn.Linear(input_layer_size, hidden_layer_size_2),\n",
    "    nn.ReLU(),\n",
    "    nn.Linear(hidden_layer_size_2, hidden_layer_size_2),\n",
    "    nn.ReLU(),\n",
    "    nn.Linear(hidden_layer_size_2, output_layer_size), # pe ultimul strat nu se pune functie de activare!\n",
    "    nn.Sigmoid()\n",
    ")\n",
    "\n",
    "# model_6 = nn.Sequential(\n",
    "#     nn.Linear(input_layer_size, 64),\n",
    "#     nn.BatchNorm1d(64),\n",
    "#     nn.ReLU(),\n",
    "#     nn.Linear(64, 64),\n",
    "#     nn.BatchNorm1d(64),\n",
    "#     nn.ReLU(),\n",
    "#     nn.Dropout(p=0.1),\n",
    "#     nn.Linear(64, output_layer_size)\n",
    "# )\n",
    "list_of_models = [model_1, model_2, model_3, model_4, model_5, model_6]"
   ],
   "execution_count": null,
   "outputs": []
  },
  {
   "cell_type": "code",
   "metadata": {
    "id": "S8tZeUt4uSQY"
   },
   "source": [
    "criterion = nn.BCELoss()"
   ],
   "execution_count": null,
   "outputs": []
  },
  {
   "cell_type": "code",
   "metadata": {
    "id": "RbVcZzREuSSi"
   },
   "source": [
    "print(model_1)"
   ],
   "execution_count": null,
   "outputs": []
  },
  {
   "cell_type": "code",
   "metadata": {
    "id": "kH2W6mOX80P6"
   },
   "source": [
    "model_loss_dict = {}\n",
    "\n",
    "for i, model in enumerate(list_of_models, start=1):\n",
    "    print(f\"Model {i} Training...\")\n",
    "    if i == 2:\n",
    "        optimizer = torch.optim.Adam(model.parameters(), lr = 0.001)\n",
    "    else:\n",
    "        optimizer = torch.optim.Adam(model.parameters(), lr = 0.001)\n",
    "    model_loss_dict[f'model_{i}_loss_train'] = []\n",
    "    model_loss_dict[f'model_{i}_loss_test'] = []\n",
    "\n",
    "    for epoch in range(1, 5000):\n",
    "        optimizer.zero_grad()\n",
    "\n",
    "        #forward pass\n",
    "        Y_train_pred = model(X_train)\n",
    "\n",
    "        #unnormalize data\n",
    "        #Y_train_pred = Y_train_pred * torch.tensor(std_train, dtype=torch.float) + torch.tensor(mean_train, dtype=torch.float)\n",
    "        \n",
    "        #calculate and print loss\n",
    "        loss_train = criterion(Y_train_pred, Y_train.reshape(-1,1))\n",
    "        \n",
    "        if (epoch+1) % 250 == 0: # sa nu incarcam calculele (folosim doar multiplii de 250)\n",
    "            # test the model    \n",
    "            with torch.no_grad(): #daca nu folosim no_grad el va face si backpropagation\n",
    "                Y_test_pred = model(X_test)\n",
    "\n",
    "            # compute test loss\n",
    "            loss_test = criterion(Y_test_pred, Y_test)\n",
    "\n",
    "            # append and print losses\n",
    "            model_loss_dict[f'model_{i}_loss_train'].append(loss_train)\n",
    "            model_loss_dict[f'model_{i}_loss_test'].append(loss_test)\n",
    "            print(f\"Epoch[{epoch:4}]: \", \n",
    "                  'Loss Train: ', f'{loss_train.item():.2f} ', \n",
    "                  'Loss Test: ', f'{loss_test.item():.2f}')\n",
    "\n",
    "        #backward pass and update parameters\n",
    "        loss_train.backward()\n",
    "        optimizer.step()\n",
    "\n",
    "    print('\\n')"
   ],
   "execution_count": null,
   "outputs": []
  },
  {
   "cell_type": "code",
   "metadata": {
    "id": "aBIy55MQ80R9"
   },
   "source": [
    "model_loss_dict.keys()"
   ],
   "execution_count": null,
   "outputs": []
  },
  {
   "cell_type": "code",
   "metadata": {
    "colab": {
     "base_uri": "https://localhost:8080/",
     "height": 598
    },
    "id": "vegs9hE680UX",
    "outputId": "2c0e5eeb-83b2-46da-febb-a9b2a0f57f51"
   },
   "source": [
    "for i, model in enumerate(list_of_models, start=1):\n",
    "  with torch.no_grad():\n",
    "    y_test_pred = model\n",
    "    plt.subplot(3,2,i) \n",
    "    plt.plot(model_loss_dict[f'model_{i}_loss_train'])\n",
    "    plt.plot(model_loss_dict[f'model_{i}_loss_test'])\n",
    "    plt.title(f'Model {i}')\n",
    "    plt.xlabel('Epoch (in 100s)')\n",
    "    plt.ylabel('Loss')\n",
    "    plt.tight_layout()\n",
    "    plt.suptitle('Train Loss')"
   ],
   "execution_count": null,
   "outputs": [
    {
     "output_type": "execute_result",
     "data": {
      "text/plain": [
       "<matplotlib.axes._subplots.AxesSubplot at 0x7fed33a16b10>"
      ]
     },
     "metadata": {
      "tags": []
     },
     "execution_count": 81
    },
    {
     "output_type": "execute_result",
     "data": {
      "text/plain": [
       "[<matplotlib.lines.Line2D at 0x7fed3321fe50>]"
      ]
     },
     "metadata": {
      "tags": []
     },
     "execution_count": 81
    },
    {
     "output_type": "execute_result",
     "data": {
      "text/plain": [
       "[<matplotlib.lines.Line2D at 0x7fed3322e590>]"
      ]
     },
     "metadata": {
      "tags": []
     },
     "execution_count": 81
    },
    {
     "output_type": "execute_result",
     "data": {
      "text/plain": [
       "Text(0.5, 1.0, 'Model 1')"
      ]
     },
     "metadata": {
      "tags": []
     },
     "execution_count": 81
    },
    {
     "output_type": "execute_result",
     "data": {
      "text/plain": [
       "Text(0.5, 0, 'Epoch (in 100s)')"
      ]
     },
     "metadata": {
      "tags": []
     },
     "execution_count": 81
    },
    {
     "output_type": "execute_result",
     "data": {
      "text/plain": [
       "Text(0, 0.5, 'Loss')"
      ]
     },
     "metadata": {
      "tags": []
     },
     "execution_count": 81
    },
    {
     "output_type": "execute_result",
     "data": {
      "text/plain": [
       "Text(0.5, 0.98, 'Train Loss')"
      ]
     },
     "metadata": {
      "tags": []
     },
     "execution_count": 81
    },
    {
     "output_type": "execute_result",
     "data": {
      "text/plain": [
       "<matplotlib.axes._subplots.AxesSubplot at 0x7fed3322ed10>"
      ]
     },
     "metadata": {
      "tags": []
     },
     "execution_count": 81
    },
    {
     "output_type": "execute_result",
     "data": {
      "text/plain": [
       "[<matplotlib.lines.Line2D at 0x7fed3322eb50>]"
      ]
     },
     "metadata": {
      "tags": []
     },
     "execution_count": 81
    },
    {
     "output_type": "execute_result",
     "data": {
      "text/plain": [
       "[<matplotlib.lines.Line2D at 0x7fed331e8f50>]"
      ]
     },
     "metadata": {
      "tags": []
     },
     "execution_count": 81
    },
    {
     "output_type": "execute_result",
     "data": {
      "text/plain": [
       "Text(0.5, 1.0, 'Model 2')"
      ]
     },
     "metadata": {
      "tags": []
     },
     "execution_count": 81
    },
    {
     "output_type": "execute_result",
     "data": {
      "text/plain": [
       "Text(0.5, 0, 'Epoch (in 100s)')"
      ]
     },
     "metadata": {
      "tags": []
     },
     "execution_count": 81
    },
    {
     "output_type": "execute_result",
     "data": {
      "text/plain": [
       "Text(0, 0.5, 'Loss')"
      ]
     },
     "metadata": {
      "tags": []
     },
     "execution_count": 81
    },
    {
     "output_type": "execute_result",
     "data": {
      "text/plain": [
       "Text(0.5, 0.98, 'Train Loss')"
      ]
     },
     "metadata": {
      "tags": []
     },
     "execution_count": 81
    },
    {
     "output_type": "execute_result",
     "data": {
      "text/plain": [
       "<matplotlib.axes._subplots.AxesSubplot at 0x7fed331dfd50>"
      ]
     },
     "metadata": {
      "tags": []
     },
     "execution_count": 81
    },
    {
     "output_type": "execute_result",
     "data": {
      "text/plain": [
       "[<matplotlib.lines.Line2D at 0x7fed331c1610>]"
      ]
     },
     "metadata": {
      "tags": []
     },
     "execution_count": 81
    },
    {
     "output_type": "execute_result",
     "data": {
      "text/plain": [
       "[<matplotlib.lines.Line2D at 0x7fed331c1590>]"
      ]
     },
     "metadata": {
      "tags": []
     },
     "execution_count": 81
    },
    {
     "output_type": "execute_result",
     "data": {
      "text/plain": [
       "Text(0.5, 1.0, 'Model 3')"
      ]
     },
     "metadata": {
      "tags": []
     },
     "execution_count": 81
    },
    {
     "output_type": "execute_result",
     "data": {
      "text/plain": [
       "Text(0.5, 0, 'Epoch (in 100s)')"
      ]
     },
     "metadata": {
      "tags": []
     },
     "execution_count": 81
    },
    {
     "output_type": "execute_result",
     "data": {
      "text/plain": [
       "Text(0, 0.5, 'Loss')"
      ]
     },
     "metadata": {
      "tags": []
     },
     "execution_count": 81
    },
    {
     "output_type": "execute_result",
     "data": {
      "text/plain": [
       "Text(0.5, 0.98, 'Train Loss')"
      ]
     },
     "metadata": {
      "tags": []
     },
     "execution_count": 81
    },
    {
     "output_type": "execute_result",
     "data": {
      "text/plain": [
       "<matplotlib.axes._subplots.AxesSubplot at 0x7fed331c1b50>"
      ]
     },
     "metadata": {
      "tags": []
     },
     "execution_count": 81
    },
    {
     "output_type": "execute_result",
     "data": {
      "text/plain": [
       "[<matplotlib.lines.Line2D at 0x7fed33192210>]"
      ]
     },
     "metadata": {
      "tags": []
     },
     "execution_count": 81
    },
    {
     "output_type": "execute_result",
     "data": {
      "text/plain": [
       "[<matplotlib.lines.Line2D at 0x7fed33192110>]"
      ]
     },
     "metadata": {
      "tags": []
     },
     "execution_count": 81
    },
    {
     "output_type": "execute_result",
     "data": {
      "text/plain": [
       "Text(0.5, 1.0, 'Model 4')"
      ]
     },
     "metadata": {
      "tags": []
     },
     "execution_count": 81
    },
    {
     "output_type": "execute_result",
     "data": {
      "text/plain": [
       "Text(0.5, 0, 'Epoch (in 100s)')"
      ]
     },
     "metadata": {
      "tags": []
     },
     "execution_count": 81
    },
    {
     "output_type": "execute_result",
     "data": {
      "text/plain": [
       "Text(0, 0.5, 'Loss')"
      ]
     },
     "metadata": {
      "tags": []
     },
     "execution_count": 81
    },
    {
     "output_type": "execute_result",
     "data": {
      "text/plain": [
       "Text(0.5, 0.98, 'Train Loss')"
      ]
     },
     "metadata": {
      "tags": []
     },
     "execution_count": 81
    },
    {
     "output_type": "execute_result",
     "data": {
      "text/plain": [
       "<matplotlib.axes._subplots.AxesSubplot at 0x7fed336e4ad0>"
      ]
     },
     "metadata": {
      "tags": []
     },
     "execution_count": 81
    },
    {
     "output_type": "execute_result",
     "data": {
      "text/plain": [
       "[<matplotlib.lines.Line2D at 0x7fed330d5dd0>]"
      ]
     },
     "metadata": {
      "tags": []
     },
     "execution_count": 81
    },
    {
     "output_type": "execute_result",
     "data": {
      "text/plain": [
       "[<matplotlib.lines.Line2D at 0x7fed330e2490>]"
      ]
     },
     "metadata": {
      "tags": []
     },
     "execution_count": 81
    },
    {
     "output_type": "execute_result",
     "data": {
      "text/plain": [
       "Text(0.5, 1.0, 'Model 5')"
      ]
     },
     "metadata": {
      "tags": []
     },
     "execution_count": 81
    },
    {
     "output_type": "execute_result",
     "data": {
      "text/plain": [
       "Text(0.5, 0, 'Epoch (in 100s)')"
      ]
     },
     "metadata": {
      "tags": []
     },
     "execution_count": 81
    },
    {
     "output_type": "execute_result",
     "data": {
      "text/plain": [
       "Text(0, 0.5, 'Loss')"
      ]
     },
     "metadata": {
      "tags": []
     },
     "execution_count": 81
    },
    {
     "output_type": "execute_result",
     "data": {
      "text/plain": [
       "Text(0.5, 0.98, 'Train Loss')"
      ]
     },
     "metadata": {
      "tags": []
     },
     "execution_count": 81
    },
    {
     "output_type": "execute_result",
     "data": {
      "text/plain": [
       "<matplotlib.axes._subplots.AxesSubplot at 0x7fed33146550>"
      ]
     },
     "metadata": {
      "tags": []
     },
     "execution_count": 81
    },
    {
     "output_type": "execute_result",
     "data": {
      "text/plain": [
       "[<matplotlib.lines.Line2D at 0x7fed330a7650>]"
      ]
     },
     "metadata": {
      "tags": []
     },
     "execution_count": 81
    },
    {
     "output_type": "execute_result",
     "data": {
      "text/plain": [
       "[<matplotlib.lines.Line2D at 0x7fed330a7550>]"
      ]
     },
     "metadata": {
      "tags": []
     },
     "execution_count": 81
    },
    {
     "output_type": "execute_result",
     "data": {
      "text/plain": [
       "Text(0.5, 1.0, 'Model 6')"
      ]
     },
     "metadata": {
      "tags": []
     },
     "execution_count": 81
    },
    {
     "output_type": "execute_result",
     "data": {
      "text/plain": [
       "Text(0.5, 0, 'Epoch (in 100s)')"
      ]
     },
     "metadata": {
      "tags": []
     },
     "execution_count": 81
    },
    {
     "output_type": "execute_result",
     "data": {
      "text/plain": [
       "Text(0, 0.5, 'Loss')"
      ]
     },
     "metadata": {
      "tags": []
     },
     "execution_count": 81
    },
    {
     "output_type": "execute_result",
     "data": {
      "text/plain": [
       "Text(0.5, 0.98, 'Train Loss')"
      ]
     },
     "metadata": {
      "tags": []
     },
     "execution_count": 81
    },
    {
     "output_type": "display_data",
     "data": {
      "image/png": "[encoded data removed]",
      "text/plain": [
       "<Figure size 360x360 with 6 Axes>"
      ]
     },
     "metadata": {
      "tags": []
     }
    }
   ]
  },
  {
   "cell_type": "code",
   "metadata": {
    "colab": {
     "base_uri": "https://localhost:8080/",
     "height": 593
    },
    "id": "WtywvEOW87Qz",
    "outputId": "93c5345f-b48d-44dc-bd54-804ca56c18cd"
   },
   "source": [
    "for i, model in enumerate(list_of_models, start=1):\n",
    "  with torch.no_grad():\n",
    "    Y_test_pred = model(X_test)\n",
    "  plt.subplot(3,2,i)\n",
    "  plt.plot(Y_test, Y_test)\n",
    "  plt.plot(Y_test, Y_test_pred, '+')\n",
    "  plt.title(f'Model {i}')\n",
    "  plt.xlabel('Target')\n",
    "  plt.ylabel('Prediction')\n",
    "  plt.tight_layout()"
   ],
   "execution_count": null,
   "outputs": [
    {
     "output_type": "execute_result",
     "data": {
      "text/plain": [
       "<matplotlib.axes._subplots.AxesSubplot at 0x7fed332d1110>"
      ]
     },
     "metadata": {
      "tags": []
     },
     "execution_count": 82
    },
    {
     "output_type": "execute_result",
     "data": {
      "text/plain": [
       "[<matplotlib.lines.Line2D at 0x7fed33091210>]"
      ]
     },
     "metadata": {
      "tags": []
     },
     "execution_count": 82
    },
    {
     "output_type": "execute_result",
     "data": {
      "text/plain": [
       "[<matplotlib.lines.Line2D at 0x7fed33091150>]"
      ]
     },
     "metadata": {
      "tags": []
     },
     "execution_count": 82
    },
    {
     "output_type": "execute_result",
     "data": {
      "text/plain": [
       "Text(0.5, 1.0, 'Model 1')"
      ]
     },
     "metadata": {
      "tags": []
     },
     "execution_count": 82
    },
    {
     "output_type": "execute_result",
     "data": {
      "text/plain": [
       "Text(0.5, 0, 'Target')"
      ]
     },
     "metadata": {
      "tags": []
     },
     "execution_count": 82
    },
    {
     "output_type": "execute_result",
     "data": {
      "text/plain": [
       "Text(0, 0.5, 'Prediction')"
      ]
     },
     "metadata": {
      "tags": []
     },
     "execution_count": 82
    },
    {
     "output_type": "execute_result",
     "data": {
      "text/plain": [
       "<matplotlib.axes._subplots.AxesSubplot at 0x7fed330c31d0>"
      ]
     },
     "metadata": {
      "tags": []
     },
     "execution_count": 82
    },
    {
     "output_type": "execute_result",
     "data": {
      "text/plain": [
       "[<matplotlib.lines.Line2D at 0x7fed32fd94d0>]"
      ]
     },
     "metadata": {
      "tags": []
     },
     "execution_count": 82
    },
    {
     "output_type": "execute_result",
     "data": {
      "text/plain": [
       "[<matplotlib.lines.Line2D at 0x7fed32fd93d0>]"
      ]
     },
     "metadata": {
      "tags": []
     },
     "execution_count": 82
    },
    {
     "output_type": "execute_result",
     "data": {
      "text/plain": [
       "Text(0.5, 1.0, 'Model 2')"
      ]
     },
     "metadata": {
      "tags": []
     },
     "execution_count": 82
    },
    {
     "output_type": "execute_result",
     "data": {
      "text/plain": [
       "Text(0.5, 0, 'Target')"
      ]
     },
     "metadata": {
      "tags": []
     },
     "execution_count": 82
    },
    {
     "output_type": "execute_result",
     "data": {
      "text/plain": [
       "Text(0, 0.5, 'Prediction')"
      ]
     },
     "metadata": {
      "tags": []
     },
     "execution_count": 82
    },
    {
     "output_type": "execute_result",
     "data": {
      "text/plain": [
       "<matplotlib.axes._subplots.AxesSubplot at 0x7fed33091650>"
      ]
     },
     "metadata": {
      "tags": []
     },
     "execution_count": 82
    },
    {
     "output_type": "execute_result",
     "data": {
      "text/plain": [
       "[<matplotlib.lines.Line2D at 0x7fed32fad690>]"
      ]
     },
     "metadata": {
      "tags": []
     },
     "execution_count": 82
    },
    {
     "output_type": "execute_result",
     "data": {
      "text/plain": [
       "[<matplotlib.lines.Line2D at 0x7fed32fad590>]"
      ]
     },
     "metadata": {
      "tags": []
     },
     "execution_count": 82
    },
    {
     "output_type": "execute_result",
     "data": {
      "text/plain": [
       "Text(0.5, 1.0, 'Model 3')"
      ]
     },
     "metadata": {
      "tags": []
     },
     "execution_count": 82
    },
    {
     "output_type": "execute_result",
     "data": {
      "text/plain": [
       "Text(0.5, 0, 'Target')"
      ]
     },
     "metadata": {
      "tags": []
     },
     "execution_count": 82
    },
    {
     "output_type": "execute_result",
     "data": {
      "text/plain": [
       "Text(0, 0.5, 'Prediction')"
      ]
     },
     "metadata": {
      "tags": []
     },
     "execution_count": 82
    },
    {
     "output_type": "execute_result",
     "data": {
      "text/plain": [
       "<matplotlib.axes._subplots.AxesSubplot at 0x7fed32fd9e90>"
      ]
     },
     "metadata": {
      "tags": []
     },
     "execution_count": 82
    },
    {
     "output_type": "execute_result",
     "data": {
      "text/plain": [
       "[<matplotlib.lines.Line2D at 0x7fed32f74650>]"
      ]
     },
     "metadata": {
      "tags": []
     },
     "execution_count": 82
    },
    {
     "output_type": "execute_result",
     "data": {
      "text/plain": [
       "[<matplotlib.lines.Line2D at 0x7fed32f74350>]"
      ]
     },
     "metadata": {
      "tags": []
     },
     "execution_count": 82
    },
    {
     "output_type": "execute_result",
     "data": {
      "text/plain": [
       "Text(0.5, 1.0, 'Model 4')"
      ]
     },
     "metadata": {
      "tags": []
     },
     "execution_count": 82
    },
    {
     "output_type": "execute_result",
     "data": {
      "text/plain": [
       "Text(0.5, 0, 'Target')"
      ]
     },
     "metadata": {
      "tags": []
     },
     "execution_count": 82
    },
    {
     "output_type": "execute_result",
     "data": {
      "text/plain": [
       "Text(0, 0.5, 'Prediction')"
      ]
     },
     "metadata": {
      "tags": []
     },
     "execution_count": 82
    },
    {
     "output_type": "execute_result",
     "data": {
      "text/plain": [
       "<matplotlib.axes._subplots.AxesSubplot at 0x7fed32f17cd0>"
      ]
     },
     "metadata": {
      "tags": []
     },
     "execution_count": 82
    },
    {
     "output_type": "execute_result",
     "data": {
      "text/plain": [
       "[<matplotlib.lines.Line2D at 0x7fed32f437d0>]"
      ]
     },
     "metadata": {
      "tags": []
     },
     "execution_count": 82
    },
    {
     "output_type": "execute_result",
     "data": {
      "text/plain": [
       "[<matplotlib.lines.Line2D at 0x7fed32f43dd0>]"
      ]
     },
     "metadata": {
      "tags": []
     },
     "execution_count": 82
    },
    {
     "output_type": "execute_result",
     "data": {
      "text/plain": [
       "Text(0.5, 1.0, 'Model 5')"
      ]
     },
     "metadata": {
      "tags": []
     },
     "execution_count": 82
    },
    {
     "output_type": "execute_result",
     "data": {
      "text/plain": [
       "Text(0.5, 0, 'Target')"
      ]
     },
     "metadata": {
      "tags": []
     },
     "execution_count": 82
    },
    {
     "output_type": "execute_result",
     "data": {
      "text/plain": [
       "Text(0, 0.5, 'Prediction')"
      ]
     },
     "metadata": {
      "tags": []
     },
     "execution_count": 82
    },
    {
     "output_type": "execute_result",
     "data": {
      "text/plain": [
       "<matplotlib.axes._subplots.AxesSubplot at 0x7fed330c3050>"
      ]
     },
     "metadata": {
      "tags": []
     },
     "execution_count": 82
    },
    {
     "output_type": "execute_result",
     "data": {
      "text/plain": [
       "[<matplotlib.lines.Line2D at 0x7fed32f10c90>]"
      ]
     },
     "metadata": {
      "tags": []
     },
     "execution_count": 82
    },
    {
     "output_type": "execute_result",
     "data": {
      "text/plain": [
       "[<matplotlib.lines.Line2D at 0x7fed32e9e210>]"
      ]
     },
     "metadata": {
      "tags": []
     },
     "execution_count": 82
    },
    {
     "output_type": "execute_result",
     "data": {
      "text/plain": [
       "Text(0.5, 1.0, 'Model 6')"
      ]
     },
     "metadata": {
      "tags": []
     },
     "execution_count": 82
    },
    {
     "output_type": "execute_result",
     "data": {
      "text/plain": [
       "Text(0.5, 0, 'Target')"
      ]
     },
     "metadata": {
      "tags": []
     },
     "execution_count": 82
    },
    {
     "output_type": "execute_result",
     "data": {
      "text/plain": [
       "Text(0, 0.5, 'Prediction')"
      ]
     },
     "metadata": {
      "tags": []
     },
     "execution_count": 82
    },
    {
     "output_type": "display_data",
     "data": {
      "image/png": "[encoded data removed]",
      "text/plain": [
       "<Figure size 360x360 with 6 Axes>"
      ]
     },
     "metadata": {
      "tags": []
     }
    }
   ]
  },
  {
   "cell_type": "markdown",
   "metadata": {
    "id": "Nc7VsUXk4GIA"
   },
   "source": [
    "## 6.3. LR"
   ]
  },
  {
   "cell_type": "code",
   "metadata": {
    "id": "SseXflNgxSQQ"
   },
   "source": [
    "# Create input and output variables\n",
    "X = df_fiscal_syst.iloc[:, 1:]\n",
    "y = df_fiscal_syst.iloc[:, 0:1]\n",
    "# Train test split\n",
    "X_train, X_test, y_train, y_test = train_test_split(X, y, test_size=0.25, random_state=42)\n",
    "# Standardize x\n",
    "scaler = StandardScaler()\n",
    "X_train = scaler.fit_transform(X_train)\n",
    "X_test = scaler.transform(X_test)"
   ],
   "execution_count": null,
   "outputs": []
  },
  {
   "cell_type": "code",
   "metadata": {
    "id": "w8EuF_p4yuAe"
   },
   "source": [
    "EPOCHS = 50\n",
    "BATCH_SIZE = 64\n",
    "LEARNING_RATE = 0.001"
   ],
   "execution_count": null,
   "outputs": []
  },
  {
   "cell_type": "code",
   "metadata": {
    "id": "p3aMvRdxyx7_"
   },
   "source": [
    "## train data\n",
    "class trainData(Dataset):\n",
    "    \n",
    "  def __init__(self, X_data, y_data):\n",
    "    self.X_data = X_data\n",
    "    self.y_data = y_data\n",
    "      \n",
    "  def __getitem__(self, index):\n",
    "    return self.X_data[index], self.y_data[index]\n",
    "      \n",
    "  def __len__ (self):\n",
    "    return len(self.X_data)"
   ],
   "execution_count": null,
   "outputs": []
  },
  {
   "cell_type": "code",
   "metadata": {
    "id": "8MBfFcoo7m1j"
   },
   "source": [
    "y_train = torch.Tensor(y_train.values)"
   ],
   "execution_count": null,
   "outputs": []
  },
  {
   "cell_type": "code",
   "metadata": {
    "colab": {
     "base_uri": "https://localhost:8080/"
    },
    "id": "3zXGn7mR8wHJ",
    "outputId": "9e64c73f-bb60-4aac-b8c9-90d246af848f"
   },
   "source": [
    "y_train.shape"
   ],
   "execution_count": null,
   "outputs": [
    {
     "output_type": "execute_result",
     "data": {
      "text/plain": [
       "torch.Size([609, 1])"
      ]
     },
     "metadata": {
      "tags": []
     },
     "execution_count": 123
    }
   ]
  },
  {
   "cell_type": "code",
   "metadata": {
    "colab": {
     "base_uri": "https://localhost:8080/"
    },
    "id": "JTA_xG9G8vIE",
    "outputId": "babe55d4-fb44-4a97-a8da-3e8c3c126fc1"
   },
   "source": [
    "X_train.shape"
   ],
   "execution_count": null,
   "outputs": [
    {
     "output_type": "execute_result",
     "data": {
      "text/plain": [
       "(609, 23)"
      ]
     },
     "metadata": {
      "tags": []
     },
     "execution_count": 124
    }
   ]
  },
  {
   "cell_type": "code",
   "metadata": {
    "id": "5QNkof7066jP"
   },
   "source": [
    "train_data = trainData(torch.FloatTensor(X_train), torch.FloatTensor(y_train))\n",
    "## test data    \n",
    "class testData(Dataset):\n",
    "\n",
    "  def __init__(self, X_data):\n",
    "      self.X_data = X_data\n",
    "      \n",
    "  def __getitem__(self, index):\n",
    "      return self.X_data[index]\n",
    "      \n",
    "  def __len__ (self):\n",
    "      return len(self.X_data)\n",
    "    \n",
    "\n",
    "test_data = testData(torch.FloatTensor(X_test))"
   ],
   "execution_count": null,
   "outputs": []
  },
  {
   "cell_type": "code",
   "metadata": {
    "id": "1968GrsL7tPs"
   },
   "source": [
    "train_loader = DataLoader(dataset=train_data, batch_size=BATCH_SIZE, shuffle=True)\n",
    "test_loader = DataLoader(dataset=test_data, batch_size=1)"
   ],
   "execution_count": null,
   "outputs": []
  },
  {
   "cell_type": "code",
   "metadata": {
    "id": "wnFPV6W2zOag"
   },
   "source": [
    "class binaryClassification(nn.Module):\n",
    "  def __init__(self):\n",
    "    super(binaryClassification, self).__init__()\n",
    "    self.layer_1 = nn.Linear(input_layer_size, 64) \n",
    "    self.layer_2 = nn.Linear(64, 64)\n",
    "    self.layer_out = nn.Linear(64, output_layer_size) \n",
    "    \n",
    "    self.relu = nn.ReLU()\n",
    "    self.dropout = nn.Dropout(p=0.1)\n",
    "    self.batchnorm1 = nn.BatchNorm1d(64)\n",
    "    self.batchnorm2 = nn.BatchNorm1d(64)\n",
    "      \n",
    "  def forward(self, inputs):\n",
    "    x = self.relu(self.layer_1(inputs))\n",
    "    x = self.batchnorm1(x)\n",
    "    x = self.relu(self.layer_2(x))\n",
    "    x = self.batchnorm2(x)\n",
    "    x = self.dropout(x)\n",
    "    x = self.layer_out(x)\n",
    "        \n",
    "    return x"
   ],
   "execution_count": null,
   "outputs": []
  },
  {
   "cell_type": "code",
   "metadata": {
    "colab": {
     "base_uri": "https://localhost:8080/"
    },
    "id": "Aulpbg5h6fJG",
    "outputId": "971f6b5b-91f3-458e-b31b-4a7dcdc0d2d9"
   },
   "source": [
    "device = torch.device(\"cuda:0\" if torch.cuda.is_available() else \"cpu\")\n",
    "print(device)"
   ],
   "execution_count": null,
   "outputs": [
    {
     "output_type": "stream",
     "text": [
      "cpu\n"
     ],
     "name": "stdout"
    }
   ]
  },
  {
   "cell_type": "code",
   "metadata": {
    "colab": {
     "base_uri": "https://localhost:8080/"
    },
    "id": "_DwEn8HP7DfC",
    "outputId": "c36d0873-834f-4311-b5d9-3307d0a21a1c"
   },
   "source": [
    "model = binaryClassification()\n",
    "model.to(device)\n",
    "print(model)\n",
    "criterion = nn.BCEWithLogitsLoss()\n",
    "optimizer = optim.Adam(model.parameters(), lr=LEARNING_RATE)"
   ],
   "execution_count": null,
   "outputs": [
    {
     "output_type": "execute_result",
     "data": {
      "text/plain": [
       "binaryClassification(\n",
       "  (layer_1): Linear(in_features=22, out_features=64, bias=True)\n",
       "  (layer_2): Linear(in_features=64, out_features=64, bias=True)\n",
       "  (layer_out): Linear(in_features=64, out_features=1, bias=True)\n",
       "  (relu): ReLU()\n",
       "  (dropout): Dropout(p=0.1, inplace=False)\n",
       "  (batchnorm1): BatchNorm1d(64, eps=1e-05, momentum=0.1, affine=True, track_running_stats=True)\n",
       "  (batchnorm2): BatchNorm1d(64, eps=1e-05, momentum=0.1, affine=True, track_running_stats=True)\n",
       ")"
      ]
     },
     "metadata": {
      "tags": []
     },
     "execution_count": 116
    },
    {
     "output_type": "stream",
     "text": [
      "binaryClassification(\n",
      "  (layer_1): Linear(in_features=22, out_features=64, bias=True)\n",
      "  (layer_2): Linear(in_features=64, out_features=64, bias=True)\n",
      "  (layer_out): Linear(in_features=64, out_features=1, bias=True)\n",
      "  (relu): ReLU()\n",
      "  (dropout): Dropout(p=0.1, inplace=False)\n",
      "  (batchnorm1): BatchNorm1d(64, eps=1e-05, momentum=0.1, affine=True, track_running_stats=True)\n",
      "  (batchnorm2): BatchNorm1d(64, eps=1e-05, momentum=0.1, affine=True, track_running_stats=True)\n",
      ")\n"
     ],
     "name": "stdout"
    }
   ]
  },
  {
   "cell_type": "code",
   "metadata": {
    "id": "ODYh9kyCzSxv"
   },
   "source": [
    "def binary_acc(y_pred, y_test):\n",
    "  y_pred_tag = torch.round(torch.sigmoid(y_pred))\n",
    "\n",
    "  correct_results_sum = (y_pred_tag == y_test).sum().float()\n",
    "  acc = correct_results_sum/y_test.shape[0]\n",
    "  acc = torch.round(acc * 100)\n",
    "  \n",
    "  return acc"
   ],
   "execution_count": null,
   "outputs": []
  },
  {
   "cell_type": "code",
   "metadata": {
    "colab": {
     "base_uri": "https://localhost:8080/",
     "height": 528
    },
    "id": "V2AdFIW_6YdM",
    "outputId": "3e248dcf-1c61-4a97-ff78-75882a7318f4"
   },
   "source": [
    "model.train()\n",
    "for e in range(1, EPOCHS+1):\n",
    "  epoch_loss = 0\n",
    "  epoch_acc = 0\n",
    "  for X_batch, y_batch in train_loader:\n",
    "    X_batch, y_batch = X_batch.to(device), y_batch.to(device)\n",
    "    optimizer.zero_grad()\n",
    "    \n",
    "    y_pred = model(X_batch)\n",
    "\n",
    "    loss = criterion(y_pred, y_batch)\n",
    "    acc = binary_acc(y_pred, y_batch)\n",
    "    \n",
    "    loss.backward()\n",
    "    optimizer.step()\n",
    "    \n",
    "    epoch_loss += loss.item()\n",
    "    epoch_acc += acc.item()\n",
    "\n",
    "  print(f'Epoch {e+0:03}: | Loss: {epoch_loss/len(train_loader):.5f} | Acc: {epoch_acc/len(train_loader):.3f}')"
   ],
   "execution_count": null,
   "outputs": [
    {
     "output_type": "execute_result",
     "data": {
      "text/plain": [
       "binaryClassification(\n",
       "  (layer_1): Linear(in_features=22, out_features=64, bias=True)\n",
       "  (layer_2): Linear(in_features=64, out_features=64, bias=True)\n",
       "  (layer_out): Linear(in_features=64, out_features=1, bias=True)\n",
       "  (relu): ReLU()\n",
       "  (dropout): Dropout(p=0.1, inplace=False)\n",
       "  (batchnorm1): BatchNorm1d(64, eps=1e-05, momentum=0.1, affine=True, track_running_stats=True)\n",
       "  (batchnorm2): BatchNorm1d(64, eps=1e-05, momentum=0.1, affine=True, track_running_stats=True)\n",
       ")"
      ]
     },
     "metadata": {
      "tags": []
     },
     "execution_count": 118
    },
    {
     "output_type": "error",
     "ename": "RuntimeError",
     "evalue": "ignored",
     "traceback": [
      "\u001b[0;31m---------------------------------------------------------------------------\u001b[0m",
      "\u001b[0;31mRuntimeError\u001b[0m                              Traceback (most recent call last)",
      "\u001b[0;32m<ipython-input-118-8b3ad4eb70e4>\u001b[0m in \u001b[0;36m<module>\u001b[0;34m()\u001b[0m\n\u001b[1;32m      7\u001b[0m     \u001b[0moptimizer\u001b[0m\u001b[0;34m.\u001b[0m\u001b[0mzero_grad\u001b[0m\u001b[0;34m(\u001b[0m\u001b[0;34m)\u001b[0m\u001b[0;34m\u001b[0m\u001b[0;34m\u001b[0m\u001b[0m\n\u001b[1;32m      8\u001b[0m \u001b[0;34m\u001b[0m\u001b[0m\n\u001b[0;32m----> 9\u001b[0;31m     \u001b[0my_pred\u001b[0m \u001b[0;34m=\u001b[0m \u001b[0mmodel\u001b[0m\u001b[0;34m(\u001b[0m\u001b[0mX_batch\u001b[0m\u001b[0;34m)\u001b[0m\u001b[0;34m\u001b[0m\u001b[0;34m\u001b[0m\u001b[0m\n\u001b[0m\u001b[1;32m     10\u001b[0m \u001b[0;34m\u001b[0m\u001b[0m\n\u001b[1;32m     11\u001b[0m     \u001b[0mloss\u001b[0m \u001b[0;34m=\u001b[0m \u001b[0mcriterion\u001b[0m\u001b[0;34m(\u001b[0m\u001b[0my_pred\u001b[0m\u001b[0;34m,\u001b[0m \u001b[0my_batch\u001b[0m\u001b[0;34m)\u001b[0m\u001b[0;34m\u001b[0m\u001b[0;34m\u001b[0m\u001b[0m\n",
      "\u001b[0;32m/usr/local/lib/python3.7/dist-packages/torch/nn/modules/module.py\u001b[0m in \u001b[0;36m_call_impl\u001b[0;34m(self, *input, **kwargs)\u001b[0m\n\u001b[1;32m    887\u001b[0m             \u001b[0mresult\u001b[0m \u001b[0;34m=\u001b[0m \u001b[0mself\u001b[0m\u001b[0;34m.\u001b[0m\u001b[0m_slow_forward\u001b[0m\u001b[0;34m(\u001b[0m\u001b[0;34m*\u001b[0m\u001b[0minput\u001b[0m\u001b[0;34m,\u001b[0m \u001b[0;34m**\u001b[0m\u001b[0mkwargs\u001b[0m\u001b[0;34m)\u001b[0m\u001b[0;34m\u001b[0m\u001b[0;34m\u001b[0m\u001b[0m\n\u001b[1;32m    888\u001b[0m         \u001b[0;32melse\u001b[0m\u001b[0;34m:\u001b[0m\u001b[0;34m\u001b[0m\u001b[0;34m\u001b[0m\u001b[0m\n\u001b[0;32m--> 889\u001b[0;31m             \u001b[0mresult\u001b[0m \u001b[0;34m=\u001b[0m \u001b[0mself\u001b[0m\u001b[0;34m.\u001b[0m\u001b[0mforward\u001b[0m\u001b[0;34m(\u001b[0m\u001b[0;34m*\u001b[0m\u001b[0minput\u001b[0m\u001b[0;34m,\u001b[0m \u001b[0;34m**\u001b[0m\u001b[0mkwargs\u001b[0m\u001b[0;34m)\u001b[0m\u001b[0;34m\u001b[0m\u001b[0;34m\u001b[0m\u001b[0m\n\u001b[0m\u001b[1;32m    890\u001b[0m         for hook in itertools.chain(\n\u001b[1;32m    891\u001b[0m                 \u001b[0m_global_forward_hooks\u001b[0m\u001b[0;34m.\u001b[0m\u001b[0mvalues\u001b[0m\u001b[0;34m(\u001b[0m\u001b[0;34m)\u001b[0m\u001b[0;34m,\u001b[0m\u001b[0;34m\u001b[0m\u001b[0;34m\u001b[0m\u001b[0m\n",
      "\u001b[0;32m<ipython-input-114-2c94e7c9ece4>\u001b[0m in \u001b[0;36mforward\u001b[0;34m(self, inputs)\u001b[0m\n\u001b[1;32m     12\u001b[0m \u001b[0;34m\u001b[0m\u001b[0m\n\u001b[1;32m     13\u001b[0m   \u001b[0;32mdef\u001b[0m \u001b[0mforward\u001b[0m\u001b[0;34m(\u001b[0m\u001b[0mself\u001b[0m\u001b[0;34m,\u001b[0m \u001b[0minputs\u001b[0m\u001b[0;34m)\u001b[0m\u001b[0;34m:\u001b[0m\u001b[0;34m\u001b[0m\u001b[0;34m\u001b[0m\u001b[0m\n\u001b[0;32m---> 14\u001b[0;31m     \u001b[0mx\u001b[0m \u001b[0;34m=\u001b[0m \u001b[0mself\u001b[0m\u001b[0;34m.\u001b[0m\u001b[0mrelu\u001b[0m\u001b[0;34m(\u001b[0m\u001b[0mself\u001b[0m\u001b[0;34m.\u001b[0m\u001b[0mlayer_1\u001b[0m\u001b[0;34m(\u001b[0m\u001b[0minputs\u001b[0m\u001b[0;34m)\u001b[0m\u001b[0;34m)\u001b[0m\u001b[0;34m\u001b[0m\u001b[0;34m\u001b[0m\u001b[0m\n\u001b[0m\u001b[1;32m     15\u001b[0m     \u001b[0mx\u001b[0m \u001b[0;34m=\u001b[0m \u001b[0mself\u001b[0m\u001b[0;34m.\u001b[0m\u001b[0mbatchnorm1\u001b[0m\u001b[0;34m(\u001b[0m\u001b[0mx\u001b[0m\u001b[0;34m)\u001b[0m\u001b[0;34m\u001b[0m\u001b[0;34m\u001b[0m\u001b[0m\n\u001b[1;32m     16\u001b[0m     \u001b[0mx\u001b[0m \u001b[0;34m=\u001b[0m \u001b[0mself\u001b[0m\u001b[0;34m.\u001b[0m\u001b[0mrelu\u001b[0m\u001b[0;34m(\u001b[0m\u001b[0mself\u001b[0m\u001b[0;34m.\u001b[0m\u001b[0mlayer_2\u001b[0m\u001b[0;34m(\u001b[0m\u001b[0mx\u001b[0m\u001b[0;34m)\u001b[0m\u001b[0;34m)\u001b[0m\u001b[0;34m\u001b[0m\u001b[0;34m\u001b[0m\u001b[0m\n",
      "\u001b[0;32m/usr/local/lib/python3.7/dist-packages/torch/nn/modules/module.py\u001b[0m in \u001b[0;36m_call_impl\u001b[0;34m(self, *input, **kwargs)\u001b[0m\n\u001b[1;32m    887\u001b[0m             \u001b[0mresult\u001b[0m \u001b[0;34m=\u001b[0m \u001b[0mself\u001b[0m\u001b[0;34m.\u001b[0m\u001b[0m_slow_forward\u001b[0m\u001b[0;34m(\u001b[0m\u001b[0;34m*\u001b[0m\u001b[0minput\u001b[0m\u001b[0;34m,\u001b[0m \u001b[0;34m**\u001b[0m\u001b[0mkwargs\u001b[0m\u001b[0;34m)\u001b[0m\u001b[0;34m\u001b[0m\u001b[0;34m\u001b[0m\u001b[0m\n\u001b[1;32m    888\u001b[0m         \u001b[0;32melse\u001b[0m\u001b[0;34m:\u001b[0m\u001b[0;34m\u001b[0m\u001b[0;34m\u001b[0m\u001b[0m\n\u001b[0;32m--> 889\u001b[0;31m             \u001b[0mresult\u001b[0m \u001b[0;34m=\u001b[0m \u001b[0mself\u001b[0m\u001b[0;34m.\u001b[0m\u001b[0mforward\u001b[0m\u001b[0;34m(\u001b[0m\u001b[0;34m*\u001b[0m\u001b[0minput\u001b[0m\u001b[0;34m,\u001b[0m \u001b[0;34m**\u001b[0m\u001b[0mkwargs\u001b[0m\u001b[0;34m)\u001b[0m\u001b[0;34m\u001b[0m\u001b[0;34m\u001b[0m\u001b[0m\n\u001b[0m\u001b[1;32m    890\u001b[0m         for hook in itertools.chain(\n\u001b[1;32m    891\u001b[0m                 \u001b[0m_global_forward_hooks\u001b[0m\u001b[0;34m.\u001b[0m\u001b[0mvalues\u001b[0m\u001b[0;34m(\u001b[0m\u001b[0;34m)\u001b[0m\u001b[0;34m,\u001b[0m\u001b[0;34m\u001b[0m\u001b[0;34m\u001b[0m\u001b[0m\n",
      "\u001b[0;32m/usr/local/lib/python3.7/dist-packages/torch/nn/modules/linear.py\u001b[0m in \u001b[0;36mforward\u001b[0;34m(self, input)\u001b[0m\n\u001b[1;32m     92\u001b[0m \u001b[0;34m\u001b[0m\u001b[0m\n\u001b[1;32m     93\u001b[0m     \u001b[0;32mdef\u001b[0m \u001b[0mforward\u001b[0m\u001b[0;34m(\u001b[0m\u001b[0mself\u001b[0m\u001b[0;34m,\u001b[0m \u001b[0minput\u001b[0m\u001b[0;34m:\u001b[0m \u001b[0mTensor\u001b[0m\u001b[0;34m)\u001b[0m \u001b[0;34m->\u001b[0m \u001b[0mTensor\u001b[0m\u001b[0;34m:\u001b[0m\u001b[0;34m\u001b[0m\u001b[0;34m\u001b[0m\u001b[0m\n\u001b[0;32m---> 94\u001b[0;31m         \u001b[0;32mreturn\u001b[0m \u001b[0mF\u001b[0m\u001b[0;34m.\u001b[0m\u001b[0mlinear\u001b[0m\u001b[0;34m(\u001b[0m\u001b[0minput\u001b[0m\u001b[0;34m,\u001b[0m \u001b[0mself\u001b[0m\u001b[0;34m.\u001b[0m\u001b[0mweight\u001b[0m\u001b[0;34m,\u001b[0m \u001b[0mself\u001b[0m\u001b[0;34m.\u001b[0m\u001b[0mbias\u001b[0m\u001b[0;34m)\u001b[0m\u001b[0;34m\u001b[0m\u001b[0;34m\u001b[0m\u001b[0m\n\u001b[0m\u001b[1;32m     95\u001b[0m \u001b[0;34m\u001b[0m\u001b[0m\n\u001b[1;32m     96\u001b[0m     \u001b[0;32mdef\u001b[0m \u001b[0mextra_repr\u001b[0m\u001b[0;34m(\u001b[0m\u001b[0mself\u001b[0m\u001b[0;34m)\u001b[0m \u001b[0;34m->\u001b[0m \u001b[0mstr\u001b[0m\u001b[0;34m:\u001b[0m\u001b[0;34m\u001b[0m\u001b[0;34m\u001b[0m\u001b[0m\n",
      "\u001b[0;32m/usr/local/lib/python3.7/dist-packages/torch/nn/functional.py\u001b[0m in \u001b[0;36mlinear\u001b[0;34m(input, weight, bias)\u001b[0m\n\u001b[1;32m   1751\u001b[0m     \u001b[0;32mif\u001b[0m \u001b[0mhas_torch_function_variadic\u001b[0m\u001b[0;34m(\u001b[0m\u001b[0minput\u001b[0m\u001b[0;34m,\u001b[0m \u001b[0mweight\u001b[0m\u001b[0;34m)\u001b[0m\u001b[0;34m:\u001b[0m\u001b[0;34m\u001b[0m\u001b[0;34m\u001b[0m\u001b[0m\n\u001b[1;32m   1752\u001b[0m         \u001b[0;32mreturn\u001b[0m \u001b[0mhandle_torch_function\u001b[0m\u001b[0;34m(\u001b[0m\u001b[0mlinear\u001b[0m\u001b[0;34m,\u001b[0m \u001b[0;34m(\u001b[0m\u001b[0minput\u001b[0m\u001b[0;34m,\u001b[0m \u001b[0mweight\u001b[0m\u001b[0;34m)\u001b[0m\u001b[0;34m,\u001b[0m \u001b[0minput\u001b[0m\u001b[0;34m,\u001b[0m \u001b[0mweight\u001b[0m\u001b[0;34m,\u001b[0m \u001b[0mbias\u001b[0m\u001b[0;34m=\u001b[0m\u001b[0mbias\u001b[0m\u001b[0;34m)\u001b[0m\u001b[0;34m\u001b[0m\u001b[0;34m\u001b[0m\u001b[0m\n\u001b[0;32m-> 1753\u001b[0;31m     \u001b[0;32mreturn\u001b[0m \u001b[0mtorch\u001b[0m\u001b[0;34m.\u001b[0m\u001b[0m_C\u001b[0m\u001b[0;34m.\u001b[0m\u001b[0m_nn\u001b[0m\u001b[0;34m.\u001b[0m\u001b[0mlinear\u001b[0m\u001b[0;34m(\u001b[0m\u001b[0minput\u001b[0m\u001b[0;34m,\u001b[0m \u001b[0mweight\u001b[0m\u001b[0;34m,\u001b[0m \u001b[0mbias\u001b[0m\u001b[0;34m)\u001b[0m\u001b[0;34m\u001b[0m\u001b[0;34m\u001b[0m\u001b[0m\n\u001b[0m\u001b[1;32m   1754\u001b[0m \u001b[0;34m\u001b[0m\u001b[0m\n\u001b[1;32m   1755\u001b[0m \u001b[0;34m\u001b[0m\u001b[0m\n",
      "\u001b[0;31mRuntimeError\u001b[0m: mat1 and mat2 shapes cannot be multiplied (64x23 and 22x64)"
     ]
    }
   ]
  },
  {
   "cell_type": "code",
   "metadata": {
    "colab": {
     "base_uri": "https://localhost:8080/"
    },
    "id": "KKOEIx7j6Yf0",
    "outputId": "33595d5d-322f-473e-a9eb-e44e3cc9df97"
   },
   "source": [
    "y_pred_list = []\n",
    "model.eval()\n",
    "with torch.no_grad():\n",
    "  for X_batch in test_loader:\n",
    "    X_batch = X_batch.to(device)\n",
    "    y_test_pred = model(X_batch)\n",
    "    y_test_pred = torch.sigmoid(y_test_pred)\n",
    "    y_pred_tag = torch.round(y_test_pred)\n",
    "    y_pred_list.append(y_pred_tag.cpu().numpy())\n",
    "\n",
    "y_pred_list = [a.squeeze().tolist() for a in y_pred_list]"
   ],
   "execution_count": null,
   "outputs": [
    {
     "output_type": "execute_result",
     "data": {
      "text/plain": [
       "binaryClassification(\n",
       "  (layer_1): Linear(in_features=23, out_features=64, bias=True)\n",
       "  (layer_2): Linear(in_features=64, out_features=64, bias=True)\n",
       "  (layer_out): Linear(in_features=64, out_features=1, bias=True)\n",
       "  (relu): ReLU()\n",
       "  (dropout): Dropout(p=0.1, inplace=False)\n",
       "  (batchnorm1): BatchNorm1d(64, eps=1e-05, momentum=0.1, affine=True, track_running_stats=True)\n",
       "  (batchnorm2): BatchNorm1d(64, eps=1e-05, momentum=0.1, affine=True, track_running_stats=True)\n",
       ")"
      ]
     },
     "metadata": {
      "tags": []
     },
     "execution_count": 226
    }
   ]
  },
  {
   "cell_type": "code",
   "metadata": {
    "colab": {
     "base_uri": "https://localhost:8080/"
    },
    "id": "FP2AvtNx6YmC",
    "outputId": "522f28d1-5b9c-4e2f-e848-4fd08a504041"
   },
   "source": [
    "confusion_matrix(y_test, y_pred_list)"
   ],
   "execution_count": null,
   "outputs": [
    {
     "output_type": "execute_result",
     "data": {
      "text/plain": [
       "array([[54, 22],\n",
       "       [29, 99]])"
      ]
     },
     "metadata": {
      "tags": []
     },
     "execution_count": 227
    }
   ]
  },
  {
   "cell_type": "code",
   "metadata": {
    "colab": {
     "base_uri": "https://localhost:8080/"
    },
    "id": "C-y6B-ff6Ynz",
    "outputId": "a0b3a3b7-fec1-4769-9b95-016af858b83d"
   },
   "source": [
    "print(classification_report(y_test, y_pred_list)) #Overfitting"
   ],
   "execution_count": null,
   "outputs": [
    {
     "output_type": "stream",
     "text": [
      "              precision    recall  f1-score   support\n",
      "\n",
      "           0       0.65      0.71      0.68        76\n",
      "           1       0.82      0.77      0.80       128\n",
      "\n",
      "    accuracy                           0.75       204\n",
      "   macro avg       0.73      0.74      0.74       204\n",
      "weighted avg       0.76      0.75      0.75       204\n",
      "\n"
     ],
     "name": "stdout"
    }
   ]
  },
  {
   "cell_type": "markdown",
   "metadata": {
    "id": "SSkk0nc37rFd"
   },
   "source": [
    "## 6.4. Simple ML classifiers comparison"
   ]
  },
  {
   "cell_type": "code",
   "metadata": {
    "colab": {
     "base_uri": "https://localhost:8080/"
    },
    "id": "ZTal9ez7KZ6y",
    "outputId": "57ef32eb-c557-4a1a-e469-d792786ab811"
   },
   "source": [
    "df_fiscal_syst.columns"
   ],
   "execution_count": null,
   "outputs": [
    {
     "output_type": "execute_result",
     "data": {
      "text/plain": [
       "Index(['incredere_sist_fiscal', 'parere_sist_fiscal', 'TRANSPARENCY',\n",
       "       'VALUE FOR MONEY', 'ECONOMICAL', 'TRUST', 'SOCIAL WELFARE',\n",
       "       'WORK PLACE CREATION', 'SOCIO-ECONOMIC DEVELOPMENT', 'STABILITY',\n",
       "       'PREDICTIBILITY', 'FIN_INSP', 'FINES', 'CLEAR_LAW', 'FISC_FACIL',\n",
       "       'SUBV', 'INVEST_TAX', 'Q_PUBLIC_SV', 'PUBLIC_INV', 'TRANSP',\n",
       "       'nemultumiri_sist_fiscal_sentiment', 'schimbari_sist_fiscal_sentiment',\n",
       "       'ce_ofera_sistemul_sentiment',\n",
       "       'motivare_incredere_sist_fiscal_sentiment',\n",
       "       'overall_sentiment_all_responses'],\n",
       "      dtype='object')"
      ]
     },
     "metadata": {
      "tags": []
     },
     "execution_count": 21
    }
   ]
  },
  {
   "cell_type": "code",
   "metadata": {
    "colab": {
     "base_uri": "https://localhost:8080/",
     "height": 1000
    },
    "id": "m8OudbDy-CPZ",
    "outputId": "f57332f8-e63b-40af-d53c-783735d4e6bf"
   },
   "source": [
    "results = []\n",
    "nb_model = naive_bayes.BernoulliNB()\n",
    "dt_model = DecisionTreeClassifier()\n",
    "lr_model = LogisticRegression()\n",
    "rf_model = RandomForestClassifier(max_depth=5, random_state=42)\n",
    "svc_model = svm.SVC(C=1.0, kernel='rbf', degree=3, gamma='auto', probability=False)\n",
    "\n",
    "models_dict = {'Naive Bayes': nb_model, 'Decision Tree': dt_model, \n",
    "                  'Logistic Regression': lr_model, 'Random Forest': rf_model, \n",
    "                  'Support Vector Machine': svc_model}\n",
    "\n",
    "x_dict = {'Without attitude': df_fiscal_syst.iloc[:, 2:-5].to_numpy(), \n",
    "          'With attitude': df_fiscal_syst[['parere_sist_fiscal', 'TRANSPARENCY',\n",
    "       'VALUE FOR MONEY', 'ECONOMICAL', 'TRUST', 'SOCIAL WELFARE',\n",
    "       'WORK PLACE CREATION', 'SOCIO-ECONOMIC DEVELOPMENT', 'STABILITY',\n",
    "       'PREDICTIBILITY', 'FIN_INSP', 'FINES', 'CLEAR_LAW', 'FISC_FACIL',\n",
    "       'SUBV', 'INVEST_TAX', 'Q_PUBLIC_SV', 'PUBLIC_INV', 'TRANSP',\n",
    "       'overall_sentiment_all_responses']].to_numpy()}\n",
    "for case_x, x in x_dict.items():\n",
    "  print('-------------------Showing results for', case_x)\n",
    "  y = df_fiscal_syst.iloc[:, 0:1].to_numpy()\n",
    "  X_train,X_test,y_train,y_test=train_test_split(x,y,test_size=0.33,random_state=0)\n",
    "  for model_name, model_class in models_dict.items():\n",
    "    print(model_name.capitalize)\n",
    "    model_class.fit(X_train,y_train)\n",
    "    y_pred=model_class.predict(X_test)\n",
    "    results.append([case_x, model_name, accuracy_score(y_test, y_pred), \n",
    "                    precision_score(y_test, y_pred),\n",
    "                    recall_score(y_test, y_pred)])\n",
    "\n",
    "    # Plot confusion matrix\n",
    "    cnf_matrix = confusion_matrix(y_test, y_pred)\n",
    "    class_names=[0,1] # name  of classes\n",
    "    fig, ax = plt.subplots()\n",
    "    tick_marks = np.arange(len(class_names))\n",
    "    plt.xticks(tick_marks, class_names)\n",
    "    plt.yticks(tick_marks, class_names)\n",
    "    # create heatmap\n",
    "    sns.heatmap(pd.DataFrame(cnf_matrix), annot=True, cmap=\"YlGnBu\" ,fmt='g')\n",
    "    ax.xaxis.set_label_position(\"top\")\n",
    "    plt.tight_layout()\n",
    "    plt.title('Confusion matrix', y=1.1)\n",
    "    plt.ylabel('Actual label')\n",
    "    plt.xlabel('Predicted label')\n",
    "\n",
    "    print(\"Accuracy:\",accuracy_score(y_test, y_pred))\n",
    "    print(\"Precision:\",precision_score(y_test, y_pred))\n",
    "    print(\"Recall:\",recall_score(y_test, y_pred))\n",
    "    print(classification_report(y_test, y_pred)) # Metrics with sentiment"
   ],
   "execution_count": null,
   "outputs": [
    {
     "output_type": "stream",
     "text": [
      "-------------------Showing results for Without attitude\n",
      "<built-in method capitalize of str object at 0x7ff565a58ab0>\n"
     ],
     "name": "stdout"
    },
    {
     "output_type": "execute_result",
     "data": {
      "text/plain": [
       "BernoulliNB()"
      ]
     },
     "metadata": {
      "tags": []
     },
     "execution_count": 28
    },
    {
     "output_type": "execute_result",
     "data": {
      "text/plain": [
       "([<matplotlib.axis.XTick at 0x7ff565a58fd0>,\n",
       "  <matplotlib.axis.XTick at 0x7ff565a589d0>],\n",
       " [Text(0, 0, '0'), Text(0, 0, '1')])"
      ]
     },
     "metadata": {
      "tags": []
     },
     "execution_count": 28
    },
    {
     "output_type": "execute_result",
     "data": {
      "text/plain": [
       "([<matplotlib.axis.YTick at 0x7ff56455c650>,\n",
       "  <matplotlib.axis.YTick at 0x7ff564559e50>],\n",
       " [Text(0, 0, '0'), Text(0, 0, '1')])"
      ]
     },
     "metadata": {
      "tags": []
     },
     "execution_count": 28
    },
    {
     "output_type": "execute_result",
     "data": {
      "text/plain": [
       "<matplotlib.axes._subplots.AxesSubplot at 0x7ff567798750>"
      ]
     },
     "metadata": {
      "tags": []
     },
     "execution_count": 28
    },
    {
     "output_type": "execute_result",
     "data": {
      "text/plain": [
       "Text(0.5, 1.1, 'Confusion matrix')"
      ]
     },
     "metadata": {
      "tags": []
     },
     "execution_count": 28
    },
    {
     "output_type": "execute_result",
     "data": {
      "text/plain": [
       "Text(24.0, 0.5, 'Actual label')"
      ]
     },
     "metadata": {
      "tags": []
     },
     "execution_count": 28
    },
    {
     "output_type": "execute_result",
     "data": {
      "text/plain": [
       "Text(0.5, 320.8, 'Predicted label')"
      ]
     },
     "metadata": {
      "tags": []
     },
     "execution_count": 28
    },
    {
     "output_type": "stream",
     "text": [
      "Accuracy: 0.550185873605948\n",
      "Precision: 0.550185873605948\n",
      "Recall: 1.0\n",
      "              precision    recall  f1-score   support\n",
      "\n",
      "           0       0.00      0.00      0.00       121\n",
      "           1       0.55      1.00      0.71       148\n",
      "\n",
      "    accuracy                           0.55       269\n",
      "   macro avg       0.28      0.50      0.35       269\n",
      "weighted avg       0.30      0.55      0.39       269\n",
      "\n",
      "<built-in method capitalize of str object at 0x7ff61650fd30>\n"
     ],
     "name": "stdout"
    },
    {
     "output_type": "execute_result",
     "data": {
      "text/plain": [
       "DecisionTreeClassifier()"
      ]
     },
     "metadata": {
      "tags": []
     },
     "execution_count": 28
    },
    {
     "output_type": "execute_result",
     "data": {
      "text/plain": [
       "([<matplotlib.axis.XTick at 0x7ff561c84150>,\n",
       "  <matplotlib.axis.XTick at 0x7ff561c9d7d0>],\n",
       " [Text(0, 0, '0'), Text(0, 0, '1')])"
      ]
     },
     "metadata": {
      "tags": []
     },
     "execution_count": 28
    },
    {
     "output_type": "execute_result",
     "data": {
      "text/plain": [
       "([<matplotlib.axis.YTick at 0x7ff561c9df50>,\n",
       "  <matplotlib.axis.YTick at 0x7ff561c9d790>],\n",
       " [Text(0, 0, '0'), Text(0, 0, '1')])"
      ]
     },
     "metadata": {
      "tags": []
     },
     "execution_count": 28
    },
    {
     "output_type": "execute_result",
     "data": {
      "text/plain": [
       "<matplotlib.axes._subplots.AxesSubplot at 0x7ff561c77090>"
      ]
     },
     "metadata": {
      "tags": []
     },
     "execution_count": 28
    },
    {
     "output_type": "execute_result",
     "data": {
      "text/plain": [
       "Text(0.5, 1.1, 'Confusion matrix')"
      ]
     },
     "metadata": {
      "tags": []
     },
     "execution_count": 28
    },
    {
     "output_type": "execute_result",
     "data": {
      "text/plain": [
       "Text(24.0, 0.5, 'Actual label')"
      ]
     },
     "metadata": {
      "tags": []
     },
     "execution_count": 28
    },
    {
     "output_type": "execute_result",
     "data": {
      "text/plain": [
       "Text(0.5, 320.8, 'Predicted label')"
      ]
     },
     "metadata": {
      "tags": []
     },
     "execution_count": 28
    },
    {
     "output_type": "stream",
     "text": [
      "Accuracy: 0.5464684014869888\n",
      "Precision: 0.5792682926829268\n",
      "Recall: 0.6418918918918919\n",
      "              precision    recall  f1-score   support\n",
      "\n",
      "           0       0.50      0.43      0.46       121\n",
      "           1       0.58      0.64      0.61       148\n",
      "\n",
      "    accuracy                           0.55       269\n",
      "   macro avg       0.54      0.54      0.53       269\n",
      "weighted avg       0.54      0.55      0.54       269\n",
      "\n",
      "<built-in method capitalize of str object at 0x7ff614043490>\n"
     ],
     "name": "stdout"
    },
    {
     "output_type": "execute_result",
     "data": {
      "text/plain": [
       "LogisticRegression()"
      ]
     },
     "metadata": {
      "tags": []
     },
     "execution_count": 28
    },
    {
     "output_type": "execute_result",
     "data": {
      "text/plain": [
       "([<matplotlib.axis.XTick at 0x7ff561bdd690>,\n",
       "  <matplotlib.axis.XTick at 0x7ff561bdd610>],\n",
       " [Text(0, 0, '0'), Text(0, 0, '1')])"
      ]
     },
     "metadata": {
      "tags": []
     },
     "execution_count": 28
    },
    {
     "output_type": "execute_result",
     "data": {
      "text/plain": [
       "([<matplotlib.axis.YTick at 0x7ff561b61690>,\n",
       "  <matplotlib.axis.YTick at 0x7ff561bdde90>],\n",
       " [Text(0, 0, '0'), Text(0, 0, '1')])"
      ]
     },
     "metadata": {
      "tags": []
     },
     "execution_count": 28
    },
    {
     "output_type": "execute_result",
     "data": {
      "text/plain": [
       "<matplotlib.axes._subplots.AxesSubplot at 0x7ff561bb3f10>"
      ]
     },
     "metadata": {
      "tags": []
     },
     "execution_count": 28
    },
    {
     "output_type": "execute_result",
     "data": {
      "text/plain": [
       "Text(0.5, 1.1, 'Confusion matrix')"
      ]
     },
     "metadata": {
      "tags": []
     },
     "execution_count": 28
    },
    {
     "output_type": "execute_result",
     "data": {
      "text/plain": [
       "Text(24.0, 0.5, 'Actual label')"
      ]
     },
     "metadata": {
      "tags": []
     },
     "execution_count": 28
    },
    {
     "output_type": "execute_result",
     "data": {
      "text/plain": [
       "Text(0.5, 320.8, 'Predicted label')"
      ]
     },
     "metadata": {
      "tags": []
     },
     "execution_count": 28
    },
    {
     "output_type": "stream",
     "text": [
      "Accuracy: 0.5724907063197026\n",
      "Precision: 0.5739910313901345\n",
      "Recall: 0.8648648648648649\n",
      "              precision    recall  f1-score   support\n",
      "\n",
      "           0       0.57      0.21      0.31       121\n",
      "           1       0.57      0.86      0.69       148\n",
      "\n",
      "    accuracy                           0.57       269\n",
      "   macro avg       0.57      0.54      0.50       269\n",
      "weighted avg       0.57      0.57      0.52       269\n",
      "\n",
      "<built-in method capitalize of str object at 0x7ff61650feb0>\n"
     ],
     "name": "stdout"
    },
    {
     "output_type": "execute_result",
     "data": {
      "text/plain": [
       "RandomForestClassifier(max_depth=5, random_state=42)"
      ]
     },
     "metadata": {
      "tags": []
     },
     "execution_count": 28
    },
    {
     "output_type": "execute_result",
     "data": {
      "text/plain": [
       "([<matplotlib.axis.XTick at 0x7ff561b0e310>,\n",
       "  <matplotlib.axis.XTick at 0x7ff561b0e2d0>],\n",
       " [Text(0, 0, '0'), Text(0, 0, '1')])"
      ]
     },
     "metadata": {
      "tags": []
     },
     "execution_count": 28
    },
    {
     "output_type": "execute_result",
     "data": {
      "text/plain": [
       "([<matplotlib.axis.YTick at 0x7ff561b11350>,\n",
       "  <matplotlib.axis.YTick at 0x7ff561b0eb50>],\n",
       " [Text(0, 0, '0'), Text(0, 0, '1')])"
      ]
     },
     "metadata": {
      "tags": []
     },
     "execution_count": 28
    },
    {
     "output_type": "execute_result",
     "data": {
      "text/plain": [
       "<matplotlib.axes._subplots.AxesSubplot at 0x7ff561af0f50>"
      ]
     },
     "metadata": {
      "tags": []
     },
     "execution_count": 28
    },
    {
     "output_type": "execute_result",
     "data": {
      "text/plain": [
       "Text(0.5, 1.1, 'Confusion matrix')"
      ]
     },
     "metadata": {
      "tags": []
     },
     "execution_count": 28
    },
    {
     "output_type": "execute_result",
     "data": {
      "text/plain": [
       "Text(24.0, 0.5, 'Actual label')"
      ]
     },
     "metadata": {
      "tags": []
     },
     "execution_count": 28
    },
    {
     "output_type": "execute_result",
     "data": {
      "text/plain": [
       "Text(0.5, 320.8, 'Predicted label')"
      ]
     },
     "metadata": {
      "tags": []
     },
     "execution_count": 28
    },
    {
     "output_type": "stream",
     "text": [
      "Accuracy: 0.5724907063197026\n",
      "Precision: 0.5662650602409639\n",
      "Recall: 0.9527027027027027\n",
      "              precision    recall  f1-score   support\n",
      "\n",
      "           0       0.65      0.11      0.18       121\n",
      "           1       0.57      0.95      0.71       148\n",
      "\n",
      "    accuracy                           0.57       269\n",
      "   macro avg       0.61      0.53      0.45       269\n",
      "weighted avg       0.60      0.57      0.47       269\n",
      "\n",
      "<built-in method capitalize of str object at 0x7ff576aa5e90>\n"
     ],
     "name": "stdout"
    },
    {
     "output_type": "execute_result",
     "data": {
      "text/plain": [
       "SVC(gamma='auto')"
      ]
     },
     "metadata": {
      "tags": []
     },
     "execution_count": 28
    },
    {
     "output_type": "execute_result",
     "data": {
      "text/plain": [
       "([<matplotlib.axis.XTick at 0x7ff561a91dd0>,\n",
       "  <matplotlib.axis.XTick at 0x7ff561a28150>],\n",
       " [Text(0, 0, '0'), Text(0, 0, '1')])"
      ]
     },
     "metadata": {
      "tags": []
     },
     "execution_count": 28
    },
    {
     "output_type": "execute_result",
     "data": {
      "text/plain": [
       "([<matplotlib.axis.YTick at 0x7ff561a28b90>,\n",
       "  <matplotlib.axis.YTick at 0x7ff561a28110>],\n",
       " [Text(0, 0, '0'), Text(0, 0, '1')])"
      ]
     },
     "metadata": {
      "tags": []
     },
     "execution_count": 28
    },
    {
     "output_type": "execute_result",
     "data": {
      "text/plain": [
       "<matplotlib.axes._subplots.AxesSubplot at 0x7ff561a8a090>"
      ]
     },
     "metadata": {
      "tags": []
     },
     "execution_count": 28
    },
    {
     "output_type": "execute_result",
     "data": {
      "text/plain": [
       "Text(0.5, 1.1, 'Confusion matrix')"
      ]
     },
     "metadata": {
      "tags": []
     },
     "execution_count": 28
    },
    {
     "output_type": "execute_result",
     "data": {
      "text/plain": [
       "Text(24.0, 0.5, 'Actual label')"
      ]
     },
     "metadata": {
      "tags": []
     },
     "execution_count": 28
    },
    {
     "output_type": "execute_result",
     "data": {
      "text/plain": [
       "Text(0.5, 320.8, 'Predicted label')"
      ]
     },
     "metadata": {
      "tags": []
     },
     "execution_count": 28
    },
    {
     "output_type": "stream",
     "text": [
      "Accuracy: 0.5799256505576208\n",
      "Precision: 0.5708502024291497\n",
      "Recall: 0.9527027027027027\n",
      "              precision    recall  f1-score   support\n",
      "\n",
      "           0       0.68      0.12      0.21       121\n",
      "           1       0.57      0.95      0.71       148\n",
      "\n",
      "    accuracy                           0.58       269\n",
      "   macro avg       0.63      0.54      0.46       269\n",
      "weighted avg       0.62      0.58      0.49       269\n",
      "\n",
      "-------------------Showing results for With attitude\n",
      "<built-in method capitalize of str object at 0x7ff565a58ab0>\n"
     ],
     "name": "stdout"
    },
    {
     "output_type": "execute_result",
     "data": {
      "text/plain": [
       "BernoulliNB()"
      ]
     },
     "metadata": {
      "tags": []
     },
     "execution_count": 28
    },
    {
     "output_type": "execute_result",
     "data": {
      "text/plain": [
       "([<matplotlib.axis.XTick at 0x7ff561c941d0>,\n",
       "  <matplotlib.axis.XTick at 0x7ff561c94ed0>],\n",
       " [Text(0, 0, '0'), Text(0, 0, '1')])"
      ]
     },
     "metadata": {
      "tags": []
     },
     "execution_count": 28
    },
    {
     "output_type": "execute_result",
     "data": {
      "text/plain": [
       "([<matplotlib.axis.YTick at 0x7ff561c4fb50>,\n",
       "  <matplotlib.axis.YTick at 0x7ff561c4f650>],\n",
       " [Text(0, 0, '0'), Text(0, 0, '1')])"
      ]
     },
     "metadata": {
      "tags": []
     },
     "execution_count": 28
    },
    {
     "output_type": "execute_result",
     "data": {
      "text/plain": [
       "<matplotlib.axes._subplots.AxesSubplot at 0x7ff5644f3f10>"
      ]
     },
     "metadata": {
      "tags": []
     },
     "execution_count": 28
    },
    {
     "output_type": "execute_result",
     "data": {
      "text/plain": [
       "Text(0.5, 1.1, 'Confusion matrix')"
      ]
     },
     "metadata": {
      "tags": []
     },
     "execution_count": 28
    },
    {
     "output_type": "execute_result",
     "data": {
      "text/plain": [
       "Text(24.0, 0.5, 'Actual label')"
      ]
     },
     "metadata": {
      "tags": []
     },
     "execution_count": 28
    },
    {
     "output_type": "execute_result",
     "data": {
      "text/plain": [
       "Text(0.5, 320.8, 'Predicted label')"
      ]
     },
     "metadata": {
      "tags": []
     },
     "execution_count": 28
    },
    {
     "output_type": "stream",
     "text": [
      "Accuracy: 0.550185873605948\n",
      "Precision: 0.550185873605948\n",
      "Recall: 1.0\n",
      "              precision    recall  f1-score   support\n",
      "\n",
      "           0       0.00      0.00      0.00       121\n",
      "           1       0.55      1.00      0.71       148\n",
      "\n",
      "    accuracy                           0.55       269\n",
      "   macro avg       0.28      0.50      0.35       269\n",
      "weighted avg       0.30      0.55      0.39       269\n",
      "\n",
      "<built-in method capitalize of str object at 0x7ff61650fd30>\n"
     ],
     "name": "stdout"
    },
    {
     "output_type": "execute_result",
     "data": {
      "text/plain": [
       "DecisionTreeClassifier()"
      ]
     },
     "metadata": {
      "tags": []
     },
     "execution_count": 28
    },
    {
     "output_type": "execute_result",
     "data": {
      "text/plain": [
       "([<matplotlib.axis.XTick at 0x7ff561943c90>,\n",
       "  <matplotlib.axis.XTick at 0x7ff561943c50>],\n",
       " [Text(0, 0, '0'), Text(0, 0, '1')])"
      ]
     },
     "metadata": {
      "tags": []
     },
     "execution_count": 28
    },
    {
     "output_type": "execute_result",
     "data": {
      "text/plain": [
       "([<matplotlib.axis.YTick at 0x7ff561947cd0>,\n",
       "  <matplotlib.axis.YTick at 0x7ff561947510>],\n",
       " [Text(0, 0, '0'), Text(0, 0, '1')])"
      ]
     },
     "metadata": {
      "tags": []
     },
     "execution_count": 28
    },
    {
     "output_type": "execute_result",
     "data": {
      "text/plain": [
       "<matplotlib.axes._subplots.AxesSubplot at 0x7ff56193e110>"
      ]
     },
     "metadata": {
      "tags": []
     },
     "execution_count": 28
    },
    {
     "output_type": "execute_result",
     "data": {
      "text/plain": [
       "Text(0.5, 1.1, 'Confusion matrix')"
      ]
     },
     "metadata": {
      "tags": []
     },
     "execution_count": 28
    },
    {
     "output_type": "execute_result",
     "data": {
      "text/plain": [
       "Text(24.0, 0.5, 'Actual label')"
      ]
     },
     "metadata": {
      "tags": []
     },
     "execution_count": 28
    },
    {
     "output_type": "execute_result",
     "data": {
      "text/plain": [
       "Text(0.5, 320.8, 'Predicted label')"
      ]
     },
     "metadata": {
      "tags": []
     },
     "execution_count": 28
    },
    {
     "output_type": "stream",
     "text": [
      "Accuracy: 0.6171003717472119\n",
      "Precision: 0.6573426573426573\n",
      "Recall: 0.6351351351351351\n",
      "              precision    recall  f1-score   support\n",
      "\n",
      "           0       0.57      0.60      0.58       121\n",
      "           1       0.66      0.64      0.65       148\n",
      "\n",
      "    accuracy                           0.62       269\n",
      "   macro avg       0.61      0.62      0.61       269\n",
      "weighted avg       0.62      0.62      0.62       269\n",
      "\n",
      "<built-in method capitalize of str object at 0x7ff614043490>\n"
     ],
     "name": "stdout"
    },
    {
     "output_type": "execute_result",
     "data": {
      "text/plain": [
       "LogisticRegression()"
      ]
     },
     "metadata": {
      "tags": []
     },
     "execution_count": 28
    },
    {
     "output_type": "execute_result",
     "data": {
      "text/plain": [
       "([<matplotlib.axis.XTick at 0x7ff561875610>,\n",
       "  <matplotlib.axis.XTick at 0x7ff5618755d0>],\n",
       " [Text(0, 0, '0'), Text(0, 0, '1')])"
      ]
     },
     "metadata": {
      "tags": []
     },
     "execution_count": 28
    },
    {
     "output_type": "execute_result",
     "data": {
      "text/plain": [
       "([<matplotlib.axis.YTick at 0x7ff561863190>,\n",
       "  <matplotlib.axis.YTick at 0x7ff561875e50>],\n",
       " [Text(0, 0, '0'), Text(0, 0, '1')])"
      ]
     },
     "metadata": {
      "tags": []
     },
     "execution_count": 28
    },
    {
     "output_type": "execute_result",
     "data": {
      "text/plain": [
       "<matplotlib.axes._subplots.AxesSubplot at 0x7ff5618d8f10>"
      ]
     },
     "metadata": {
      "tags": []
     },
     "execution_count": 28
    },
    {
     "output_type": "execute_result",
     "data": {
      "text/plain": [
       "Text(0.5, 1.1, 'Confusion matrix')"
      ]
     },
     "metadata": {
      "tags": []
     },
     "execution_count": 28
    },
    {
     "output_type": "execute_result",
     "data": {
      "text/plain": [
       "Text(24.0, 0.5, 'Actual label')"
      ]
     },
     "metadata": {
      "tags": []
     },
     "execution_count": 28
    },
    {
     "output_type": "execute_result",
     "data": {
      "text/plain": [
       "Text(0.5, 320.8, 'Predicted label')"
      ]
     },
     "metadata": {
      "tags": []
     },
     "execution_count": 28
    },
    {
     "output_type": "stream",
     "text": [
      "Accuracy: 0.724907063197026\n",
      "Precision: 0.725609756097561\n",
      "Recall: 0.8040540540540541\n",
      "              precision    recall  f1-score   support\n",
      "\n",
      "           0       0.72      0.63      0.67       121\n",
      "           1       0.73      0.80      0.76       148\n",
      "\n",
      "    accuracy                           0.72       269\n",
      "   macro avg       0.72      0.72      0.72       269\n",
      "weighted avg       0.72      0.72      0.72       269\n",
      "\n",
      "<built-in method capitalize of str object at 0x7ff61650feb0>\n"
     ],
     "name": "stdout"
    },
    {
     "output_type": "execute_result",
     "data": {
      "text/plain": [
       "RandomForestClassifier(max_depth=5, random_state=42)"
      ]
     },
     "metadata": {
      "tags": []
     },
     "execution_count": 28
    },
    {
     "output_type": "execute_result",
     "data": {
      "text/plain": [
       "([<matplotlib.axis.XTick at 0x7ff5617ac110>,\n",
       "  <matplotlib.axis.XTick at 0x7ff5617ac0d0>],\n",
       " [Text(0, 0, '0'), Text(0, 0, '1')])"
      ]
     },
     "metadata": {
      "tags": []
     },
     "execution_count": 28
    },
    {
     "output_type": "execute_result",
     "data": {
      "text/plain": [
       "([<matplotlib.axis.YTick at 0x7ff5617ace10>,\n",
       "  <matplotlib.axis.YTick at 0x7ff5617ac950>],\n",
       " [Text(0, 0, '0'), Text(0, 0, '1')])"
      ]
     },
     "metadata": {
      "tags": []
     },
     "execution_count": 28
    },
    {
     "output_type": "execute_result",
     "data": {
      "text/plain": [
       "<matplotlib.axes._subplots.AxesSubplot at 0x7ff5617a7b10>"
      ]
     },
     "metadata": {
      "tags": []
     },
     "execution_count": 28
    },
    {
     "output_type": "execute_result",
     "data": {
      "text/plain": [
       "Text(0.5, 1.1, 'Confusion matrix')"
      ]
     },
     "metadata": {
      "tags": []
     },
     "execution_count": 28
    },
    {
     "output_type": "execute_result",
     "data": {
      "text/plain": [
       "Text(24.0, 0.5, 'Actual label')"
      ]
     },
     "metadata": {
      "tags": []
     },
     "execution_count": 28
    },
    {
     "output_type": "execute_result",
     "data": {
      "text/plain": [
       "Text(0.5, 320.8, 'Predicted label')"
      ]
     },
     "metadata": {
      "tags": []
     },
     "execution_count": 28
    },
    {
     "output_type": "stream",
     "text": [
      "Accuracy: 0.7360594795539034\n",
      "Precision: 0.712707182320442\n",
      "Recall: 0.8716216216216216\n",
      "              precision    recall  f1-score   support\n",
      "\n",
      "           0       0.78      0.57      0.66       121\n",
      "           1       0.71      0.87      0.78       148\n",
      "\n",
      "    accuracy                           0.74       269\n",
      "   macro avg       0.75      0.72      0.72       269\n",
      "weighted avg       0.74      0.74      0.73       269\n",
      "\n",
      "<built-in method capitalize of str object at 0x7ff576aa5e90>\n"
     ],
     "name": "stdout"
    },
    {
     "output_type": "execute_result",
     "data": {
      "text/plain": [
       "SVC(gamma='auto')"
      ]
     },
     "metadata": {
      "tags": []
     },
     "execution_count": 28
    },
    {
     "output_type": "execute_result",
     "data": {
      "text/plain": [
       "([<matplotlib.axis.XTick at 0x7ff56174f810>,\n",
       "  <matplotlib.axis.XTick at 0x7ff56174f7d0>],\n",
       " [Text(0, 0, '0'), Text(0, 0, '1')])"
      ]
     },
     "metadata": {
      "tags": []
     },
     "execution_count": 28
    },
    {
     "output_type": "execute_result",
     "data": {
      "text/plain": [
       "([<matplotlib.axis.YTick at 0x7ff561747290>,\n",
       "  <matplotlib.axis.YTick at 0x7ff561747410>],\n",
       " [Text(0, 0, '0'), Text(0, 0, '1')])"
      ]
     },
     "metadata": {
      "tags": []
     },
     "execution_count": 28
    },
    {
     "output_type": "execute_result",
     "data": {
      "text/plain": [
       "<matplotlib.axes._subplots.AxesSubplot at 0x7ff5617478d0>"
      ]
     },
     "metadata": {
      "tags": []
     },
     "execution_count": 28
    },
    {
     "output_type": "execute_result",
     "data": {
      "text/plain": [
       "Text(0.5, 1.1, 'Confusion matrix')"
      ]
     },
     "metadata": {
      "tags": []
     },
     "execution_count": 28
    },
    {
     "output_type": "execute_result",
     "data": {
      "text/plain": [
       "Text(24.0, 0.5, 'Actual label')"
      ]
     },
     "metadata": {
      "tags": []
     },
     "execution_count": 28
    },
    {
     "output_type": "execute_result",
     "data": {
      "text/plain": [
       "Text(0.5, 320.8, 'Predicted label')"
      ]
     },
     "metadata": {
      "tags": []
     },
     "execution_count": 28
    },
    {
     "output_type": "stream",
     "text": [
      "Accuracy: 0.7472118959107806\n",
      "Precision: 0.7222222222222222\n",
      "Recall: 0.8783783783783784\n",
      "              precision    recall  f1-score   support\n",
      "\n",
      "           0       0.80      0.59      0.68       121\n",
      "           1       0.72      0.88      0.79       148\n",
      "\n",
      "    accuracy                           0.75       269\n",
      "   macro avg       0.76      0.73      0.73       269\n",
      "weighted avg       0.76      0.75      0.74       269\n",
      "\n"
     ],
     "name": "stdout"
    },
    {
     "output_type": "display_data",
     "data": {
      "image/png": "[encoded data removed]",
      "text/plain": [
       "<Figure size 360x360 with 2 Axes>"
      ]
     },
     "metadata": {
      "tags": [],
      "needs_background": "light"
     }
    },
    {
     "output_type": "display_data",
     "data": {
      "image/png": "[encoded data removed]",
      "text/plain": [
       "<Figure size 360x360 with 2 Axes>"
      ]
     },
     "metadata": {
      "tags": [],
      "needs_background": "light"
     }
    },
    {
     "output_type": "display_data",
     "data": {
      "image/png": "[encoded data removed]",
      "text/plain": [
       "<Figure size 360x360 with 2 Axes>"
      ]
     },
     "metadata": {
      "tags": [],
      "needs_background": "light"
     }
    },
    {
     "output_type": "display_data",
     "data": {
      "image/png": "[encoded data removed]",
      "text/plain": [
       "<Figure size 360x360 with 2 Axes>"
      ]
     },
     "metadata": {
      "tags": [],
      "needs_background": "light"
     }
    },
    {
     "output_type": "display_data",
     "data": {
      "image/png": "[encoded data removed]",
      "text/plain": [
       "<Figure size 360x360 with 2 Axes>"
      ]
     },
     "metadata": {
      "tags": [],
      "needs_background": "light"
     }
    },
    {
     "output_type": "display_data",
     "data": {
      "image/png": "[encoded data removed]",
      "text/plain": [
       "<Figure size 360x360 with 2 Axes>"
      ]
     },
     "metadata": {
      "tags": [],
      "needs_background": "light"
     }
    },
    {
     "output_type": "display_data",
     "data": {
      "image/png": "[encoded data removed]",
      "text/plain": [
       "<Figure size 360x360 with 2 Axes>"
      ]
     },
     "metadata": {
      "tags": [],
      "needs_background": "light"
     }
    },
    {
     "output_type": "display_data",
     "data": {
      "image/png": "[encoded data removed]",
      "text/plain": [
       "<Figure size 360x360 with 2 Axes>"
      ]
     },
     "metadata": {
      "tags": [],
      "needs_background": "light"
     }
    },
    {
     "output_type": "display_data",
     "data": {
      "image/png": "[encoded data removed]",
      "text/plain": [
       "<Figure size 360x360 with 2 Axes>"
      ]
     },
     "metadata": {
      "tags": [],
      "needs_background": "light"
     }
    },
    {
     "output_type": "display_data",
     "data": {
      "image/png": "[encoded data removed]",
      "text/plain": [
       "<Figure size 360x360 with 2 Axes>"
      ]
     },
     "metadata": {
      "tags": [],
      "needs_background": "light"
     }
    }
   ]
  },
  {
   "cell_type": "code",
   "metadata": {
    "colab": {
     "base_uri": "https://localhost:8080/",
     "height": 346
    },
    "id": "Mq8RSVQPCXEH",
    "outputId": "11cf0063-f642-4b90-ab90-f870fe245efe"
   },
   "source": [
    "results_df = pd.DataFrame(results, columns=['case', 'model', 'accuracy', 'precision', 'recall'])\n",
    "results_df"
   ],
   "execution_count": null,
   "outputs": [
    {
     "output_type": "execute_result",
     "data": {
      "text/html": [
       "<div>\n",
       "<style scoped>\n",
       "    .dataframe tbody tr th:only-of-type {\n",
       "        vertical-align: middle;\n",
       "    }\n",
       "\n",
       "    .dataframe tbody tr th {\n",
       "        vertical-align: top;\n",
       "    }\n",
       "\n",
       "    .dataframe thead th {\n",
       "        text-align: right;\n",
       "    }\n",
       "</style>\n",
       "<table border=\"1\" class=\"dataframe\">\n",
       "  <thead>\n",
       "    <tr style=\"text-align: right;\">\n",
       "      <th></th>\n",
       "      <th>case</th>\n",
       "      <th>model</th>\n",
       "      <th>accuracy</th>\n",
       "      <th>precision</th>\n",
       "      <th>recall</th>\n",
       "    </tr>\n",
       "  </thead>\n",
       "  <tbody>\n",
       "    <tr>\n",
       "      <th>0</th>\n",
       "      <td>Without sentiment</td>\n",
       "      <td>Naive Bayes</td>\n",
       "      <td>0.544118</td>\n",
       "      <td>0.544118</td>\n",
       "      <td>1.000000</td>\n",
       "    </tr>\n",
       "    <tr>\n",
       "      <th>1</th>\n",
       "      <td>Without sentiment</td>\n",
       "      <td>Decision Tree</td>\n",
       "      <td>0.602941</td>\n",
       "      <td>0.633929</td>\n",
       "      <td>0.639640</td>\n",
       "    </tr>\n",
       "    <tr>\n",
       "      <th>2</th>\n",
       "      <td>Without sentiment</td>\n",
       "      <td>Logistic Regression</td>\n",
       "      <td>0.725490</td>\n",
       "      <td>0.713178</td>\n",
       "      <td>0.828829</td>\n",
       "    </tr>\n",
       "    <tr>\n",
       "      <th>3</th>\n",
       "      <td>Without sentiment</td>\n",
       "      <td>Random Forest</td>\n",
       "      <td>0.740196</td>\n",
       "      <td>0.713235</td>\n",
       "      <td>0.873874</td>\n",
       "    </tr>\n",
       "    <tr>\n",
       "      <th>4</th>\n",
       "      <td>Without sentiment</td>\n",
       "      <td>Support Vector Machine</td>\n",
       "      <td>0.745098</td>\n",
       "      <td>0.712230</td>\n",
       "      <td>0.891892</td>\n",
       "    </tr>\n",
       "    <tr>\n",
       "      <th>5</th>\n",
       "      <td>With sentiment</td>\n",
       "      <td>Naive Bayes</td>\n",
       "      <td>0.622549</td>\n",
       "      <td>0.601190</td>\n",
       "      <td>0.909910</td>\n",
       "    </tr>\n",
       "    <tr>\n",
       "      <th>6</th>\n",
       "      <td>With sentiment</td>\n",
       "      <td>Decision Tree</td>\n",
       "      <td>0.637255</td>\n",
       "      <td>0.658120</td>\n",
       "      <td>0.693694</td>\n",
       "    </tr>\n",
       "    <tr>\n",
       "      <th>7</th>\n",
       "      <td>With sentiment</td>\n",
       "      <td>Logistic Regression</td>\n",
       "      <td>0.740196</td>\n",
       "      <td>0.733871</td>\n",
       "      <td>0.819820</td>\n",
       "    </tr>\n",
       "    <tr>\n",
       "      <th>8</th>\n",
       "      <td>With sentiment</td>\n",
       "      <td>Random Forest</td>\n",
       "      <td>0.725490</td>\n",
       "      <td>0.697842</td>\n",
       "      <td>0.873874</td>\n",
       "    </tr>\n",
       "    <tr>\n",
       "      <th>9</th>\n",
       "      <td>With sentiment</td>\n",
       "      <td>Support Vector Machine</td>\n",
       "      <td>0.750000</td>\n",
       "      <td>0.720588</td>\n",
       "      <td>0.882883</td>\n",
       "    </tr>\n",
       "  </tbody>\n",
       "</table>\n",
       "</div>"
      ],
      "text/plain": [
       "                case                   model  accuracy  precision    recall\n",
       "0  Without sentiment             Naive Bayes  0.544118   0.544118  1.000000\n",
       "1  Without sentiment           Decision Tree  0.602941   0.633929  0.639640\n",
       "2  Without sentiment     Logistic Regression  0.725490   0.713178  0.828829\n",
       "3  Without sentiment           Random Forest  0.740196   0.713235  0.873874\n",
       "4  Without sentiment  Support Vector Machine  0.745098   0.712230  0.891892\n",
       "5     With sentiment             Naive Bayes  0.622549   0.601190  0.909910\n",
       "6     With sentiment           Decision Tree  0.637255   0.658120  0.693694\n",
       "7     With sentiment     Logistic Regression  0.740196   0.733871  0.819820\n",
       "8     With sentiment           Random Forest  0.725490   0.697842  0.873874\n",
       "9     With sentiment  Support Vector Machine  0.750000   0.720588  0.882883"
      ]
     },
     "metadata": {
      "tags": []
     },
     "execution_count": 19
    }
   ]
  },
  {
   "cell_type": "code",
   "metadata": {
    "colab": {
     "base_uri": "https://localhost:8080/",
     "height": 1000
    },
    "id": "dDj44dX1wrgq",
    "outputId": "b3385511-ee57-4f90-e92d-09b22ae39d42"
   },
   "source": [
    "results = []\n",
    "nb_model = naive_bayes.BernoulliNB()\n",
    "dt_model = DecisionTreeClassifier()\n",
    "lr_model = LogisticRegression()\n",
    "rf_model = RandomForestClassifier(max_depth=5, random_state=42)\n",
    "svc_model = svm.SVC(C=1.0, kernel='rbf', degree=3, gamma='auto', probability=False)\n",
    "\n",
    "models_dict = {'Naive Bayes': nb_model, 'Decision Tree': dt_model, \n",
    "                  'Logistic Regression': lr_model, 'Random Forest': rf_model, \n",
    "                  'Support Vector Machine': svc_model}\n",
    "\n",
    "# x_dict = {'Without sentiment': df_fiscal_syst.iloc[:, 1:-3].to_numpy(), \n",
    "#           'With sentiment': df_fiscal_syst.iloc[:, 1:].to_numpy()}\n",
    "# for case_x, x in x_dict.items():\n",
    "case_x = 'using only sentiment'\n",
    "print('-------------------Showing results for', case_x)\n",
    "y = df_fiscal_syst.iloc[:, 0:1].to_numpy()\n",
    "x = df_fiscal_syst.iloc[:, -1:]\n",
    "X_train,X_test,y_train,y_test=train_test_split(x,y,test_size=0.33,random_state=0)\n",
    "for model_name, model_class in models_dict.items():\n",
    "  print(model_name.capitalize)\n",
    "  model_class.fit(X_train,y_train)\n",
    "  y_pred=model_class.predict(X_test)\n",
    "  results.append([case_x, model_name, accuracy_score(y_test, y_pred), \n",
    "                  precision_score(y_test, y_pred),\n",
    "                  recall_score(y_test, y_pred)])\n",
    "\n",
    "  # Plot confusion matrix\n",
    "  cnf_matrix = confusion_matrix(y_test, y_pred)\n",
    "  class_names=[0,1] # name  of classes\n",
    "  fig, ax = plt.subplots()\n",
    "  tick_marks = np.arange(len(class_names))\n",
    "  plt.xticks(tick_marks, class_names)\n",
    "  plt.yticks(tick_marks, class_names)\n",
    "  # create heatmap\n",
    "  sns.heatmap(pd.DataFrame(cnf_matrix), annot=True, cmap=\"YlGnBu\" ,fmt='g')\n",
    "  ax.xaxis.set_label_position(\"top\")\n",
    "  plt.tight_layout()\n",
    "  plt.title('Confusion matrix', y=1.1)\n",
    "  plt.ylabel('Actual label')\n",
    "  plt.xlabel('Predicted label')\n",
    "\n",
    "  print(\"Accuracy:\",accuracy_score(y_test, y_pred))\n",
    "  print(\"Precision:\",precision_score(y_test, y_pred))\n",
    "  print(\"Recall:\",recall_score(y_test, y_pred))\n",
    "  print(classification_report(y_test, y_pred)) # Metrics with sentiment"
   ],
   "execution_count": null,
   "outputs": [
    {
     "output_type": "stream",
     "text": [
      "-------------------Showing results for using only sentiment\n",
      "<built-in method capitalize of str object at 0x7f6b390811b0>\n"
     ],
     "name": "stdout"
    },
    {
     "output_type": "execute_result",
     "data": {
      "text/plain": [
       "BernoulliNB()"
      ]
     },
     "metadata": {
      "tags": []
     },
     "execution_count": 34
    },
    {
     "output_type": "execute_result",
     "data": {
      "text/plain": [
       "([<matplotlib.axis.XTick at 0x7f6b38fadb10>,\n",
       "  <matplotlib.axis.XTick at 0x7f6b38fadad0>],\n",
       " [Text(0, 0, '0'), Text(0, 0, '1')])"
      ]
     },
     "metadata": {
      "tags": []
     },
     "execution_count": 34
    },
    {
     "output_type": "execute_result",
     "data": {
      "text/plain": [
       "([<matplotlib.axis.YTick at 0x7f6b38fc8c10>,\n",
       "  <matplotlib.axis.YTick at 0x7f6b38fc8450>],\n",
       " [Text(0, 0, '0'), Text(0, 0, '1')])"
      ]
     },
     "metadata": {
      "tags": []
     },
     "execution_count": 34
    },
    {
     "output_type": "execute_result",
     "data": {
      "text/plain": [
       "<matplotlib.axes._subplots.AxesSubplot at 0x7f6b38fc0450>"
      ]
     },
     "metadata": {
      "tags": []
     },
     "execution_count": 34
    },
    {
     "output_type": "execute_result",
     "data": {
      "text/plain": [
       "Text(0.5, 1.1, 'Confusion matrix')"
      ]
     },
     "metadata": {
      "tags": []
     },
     "execution_count": 34
    },
    {
     "output_type": "execute_result",
     "data": {
      "text/plain": [
       "Text(24.0, 0.5, 'Actual label')"
      ]
     },
     "metadata": {
      "tags": []
     },
     "execution_count": 34
    },
    {
     "output_type": "execute_result",
     "data": {
      "text/plain": [
       "Text(0.5, 320.8, 'Predicted label')"
      ]
     },
     "metadata": {
      "tags": []
     },
     "execution_count": 34
    },
    {
     "output_type": "stream",
     "text": [
      "Accuracy: 0.550185873605948\n",
      "Precision: 0.550185873605948\n",
      "Recall: 1.0\n",
      "              precision    recall  f1-score   support\n",
      "\n",
      "           0       0.00      0.00      0.00       121\n",
      "           1       0.55      1.00      0.71       148\n",
      "\n",
      "    accuracy                           0.55       269\n",
      "   macro avg       0.28      0.50      0.35       269\n",
      "weighted avg       0.30      0.55      0.39       269\n",
      "\n",
      "<built-in method capitalize of str object at 0x7f6b39081b70>\n"
     ],
     "name": "stdout"
    },
    {
     "output_type": "execute_result",
     "data": {
      "text/plain": [
       "DecisionTreeClassifier()"
      ]
     },
     "metadata": {
      "tags": []
     },
     "execution_count": 34
    },
    {
     "output_type": "execute_result",
     "data": {
      "text/plain": [
       "([<matplotlib.axis.XTick at 0x7f6b38f43c10>,\n",
       "  <matplotlib.axis.XTick at 0x7f6b366f5150>],\n",
       " [Text(0, 0, '0'), Text(0, 0, '1')])"
      ]
     },
     "metadata": {
      "tags": []
     },
     "execution_count": 34
    },
    {
     "output_type": "execute_result",
     "data": {
      "text/plain": [
       "([<matplotlib.axis.YTick at 0x7f6b366f5c10>,\n",
       "  <matplotlib.axis.YTick at 0x7f6b366f5110>],\n",
       " [Text(0, 0, '0'), Text(0, 0, '1')])"
      ]
     },
     "metadata": {
      "tags": []
     },
     "execution_count": 34
    },
    {
     "output_type": "execute_result",
     "data": {
      "text/plain": [
       "<matplotlib.axes._subplots.AxesSubplot at 0x7f6b38f599d0>"
      ]
     },
     "metadata": {
      "tags": []
     },
     "execution_count": 34
    },
    {
     "output_type": "execute_result",
     "data": {
      "text/plain": [
       "Text(0.5, 1.1, 'Confusion matrix')"
      ]
     },
     "metadata": {
      "tags": []
     },
     "execution_count": 34
    },
    {
     "output_type": "execute_result",
     "data": {
      "text/plain": [
       "Text(24.0, 0.5, 'Actual label')"
      ]
     },
     "metadata": {
      "tags": []
     },
     "execution_count": 34
    },
    {
     "output_type": "execute_result",
     "data": {
      "text/plain": [
       "Text(0.5, 320.8, 'Predicted label')"
      ]
     },
     "metadata": {
      "tags": []
     },
     "execution_count": 34
    },
    {
     "output_type": "stream",
     "text": [
      "Accuracy: 0.550185873605948\n",
      "Precision: 0.550185873605948\n",
      "Recall: 1.0\n",
      "              precision    recall  f1-score   support\n",
      "\n",
      "           0       0.00      0.00      0.00       121\n",
      "           1       0.55      1.00      0.71       148\n",
      "\n",
      "    accuracy                           0.55       269\n",
      "   macro avg       0.28      0.50      0.35       269\n",
      "weighted avg       0.30      0.55      0.39       269\n",
      "\n",
      "<built-in method capitalize of str object at 0x7f6b3901ce90>\n"
     ],
     "name": "stdout"
    },
    {
     "output_type": "execute_result",
     "data": {
      "text/plain": [
       "LogisticRegression()"
      ]
     },
     "metadata": {
      "tags": []
     },
     "execution_count": 34
    },
    {
     "output_type": "execute_result",
     "data": {
      "text/plain": [
       "([<matplotlib.axis.XTick at 0x7f6b36627890>,\n",
       "  <matplotlib.axis.XTick at 0x7f6b36627850>],\n",
       " [Text(0, 0, '0'), Text(0, 0, '1')])"
      ]
     },
     "metadata": {
      "tags": []
     },
     "execution_count": 34
    },
    {
     "output_type": "execute_result",
     "data": {
      "text/plain": [
       "([<matplotlib.axis.YTick at 0x7f6b36629950>,\n",
       "  <matplotlib.axis.YTick at 0x7f6b36629190>],\n",
       " [Text(0, 0, '0'), Text(0, 0, '1')])"
      ]
     },
     "metadata": {
      "tags": []
     },
     "execution_count": 34
    },
    {
     "output_type": "execute_result",
     "data": {
      "text/plain": [
       "<matplotlib.axes._subplots.AxesSubplot at 0x7f6b3668ad50>"
      ]
     },
     "metadata": {
      "tags": []
     },
     "execution_count": 34
    },
    {
     "output_type": "execute_result",
     "data": {
      "text/plain": [
       "Text(0.5, 1.1, 'Confusion matrix')"
      ]
     },
     "metadata": {
      "tags": []
     },
     "execution_count": 34
    },
    {
     "output_type": "execute_result",
     "data": {
      "text/plain": [
       "Text(24.0, 0.5, 'Actual label')"
      ]
     },
     "metadata": {
      "tags": []
     },
     "execution_count": 34
    },
    {
     "output_type": "execute_result",
     "data": {
      "text/plain": [
       "Text(0.5, 320.8, 'Predicted label')"
      ]
     },
     "metadata": {
      "tags": []
     },
     "execution_count": 34
    },
    {
     "output_type": "stream",
     "text": [
      "Accuracy: 0.550185873605948\n",
      "Precision: 0.550185873605948\n",
      "Recall: 1.0\n",
      "              precision    recall  f1-score   support\n",
      "\n",
      "           0       0.00      0.00      0.00       121\n",
      "           1       0.55      1.00      0.71       148\n",
      "\n",
      "    accuracy                           0.55       269\n",
      "   macro avg       0.28      0.50      0.35       269\n",
      "weighted avg       0.30      0.55      0.39       269\n",
      "\n",
      "<built-in method capitalize of str object at 0x7f6b390810f0>\n"
     ],
     "name": "stdout"
    },
    {
     "output_type": "execute_result",
     "data": {
      "text/plain": [
       "RandomForestClassifier(max_depth=5, random_state=42)"
      ]
     },
     "metadata": {
      "tags": []
     },
     "execution_count": 34
    },
    {
     "output_type": "execute_result",
     "data": {
      "text/plain": [
       "([<matplotlib.axis.XTick at 0x7f6b3655ffd0>,\n",
       "  <matplotlib.axis.XTick at 0x7f6b3655ff90>],\n",
       " [Text(0, 0, '0'), Text(0, 0, '1')])"
      ]
     },
     "metadata": {
      "tags": []
     },
     "execution_count": 34
    },
    {
     "output_type": "execute_result",
     "data": {
      "text/plain": [
       "([<matplotlib.axis.YTick at 0x7f6b3664da10>,\n",
       "  <matplotlib.axis.YTick at 0x7f6b365628d0>],\n",
       " [Text(0, 0, '0'), Text(0, 0, '1')])"
      ]
     },
     "metadata": {
      "tags": []
     },
     "execution_count": 34
    },
    {
     "output_type": "execute_result",
     "data": {
      "text/plain": [
       "<matplotlib.axes._subplots.AxesSubplot at 0x7f6b3659d990>"
      ]
     },
     "metadata": {
      "tags": []
     },
     "execution_count": 34
    },
    {
     "output_type": "execute_result",
     "data": {
      "text/plain": [
       "Text(0.5, 1.1, 'Confusion matrix')"
      ]
     },
     "metadata": {
      "tags": []
     },
     "execution_count": 34
    },
    {
     "output_type": "execute_result",
     "data": {
      "text/plain": [
       "Text(24.0, 0.5, 'Actual label')"
      ]
     },
     "metadata": {
      "tags": []
     },
     "execution_count": 34
    },
    {
     "output_type": "execute_result",
     "data": {
      "text/plain": [
       "Text(0.5, 320.8, 'Predicted label')"
      ]
     },
     "metadata": {
      "tags": []
     },
     "execution_count": 34
    },
    {
     "output_type": "stream",
     "text": [
      "Accuracy: 0.550185873605948\n",
      "Precision: 0.550185873605948\n",
      "Recall: 1.0\n",
      "              precision    recall  f1-score   support\n",
      "\n",
      "           0       0.00      0.00      0.00       121\n",
      "           1       0.55      1.00      0.71       148\n",
      "\n",
      "    accuracy                           0.55       269\n",
      "   macro avg       0.28      0.50      0.35       269\n",
      "weighted avg       0.30      0.55      0.39       269\n",
      "\n",
      "<built-in method capitalize of str object at 0x7f6b38f9fe40>\n"
     ],
     "name": "stdout"
    },
    {
     "output_type": "execute_result",
     "data": {
      "text/plain": [
       "SVC(gamma='auto')"
      ]
     },
     "metadata": {
      "tags": []
     },
     "execution_count": 34
    },
    {
     "output_type": "execute_result",
     "data": {
      "text/plain": [
       "([<matplotlib.axis.XTick at 0x7f6b3d5ec350>,\n",
       "  <matplotlib.axis.XTick at 0x7f6b3d5ec250>],\n",
       " [Text(0, 0, '0'), Text(0, 0, '1')])"
      ]
     },
     "metadata": {
      "tags": []
     },
     "execution_count": 34
    },
    {
     "output_type": "execute_result",
     "data": {
      "text/plain": [
       "([<matplotlib.axis.YTick at 0x7f6b3d78ae10>,\n",
       "  <matplotlib.axis.YTick at 0x7f6b3d611e50>],\n",
       " [Text(0, 0, '0'), Text(0, 0, '1')])"
      ]
     },
     "metadata": {
      "tags": []
     },
     "execution_count": 34
    },
    {
     "output_type": "execute_result",
     "data": {
      "text/plain": [
       "<matplotlib.axes._subplots.AxesSubplot at 0x7f6b3d5b8250>"
      ]
     },
     "metadata": {
      "tags": []
     },
     "execution_count": 34
    },
    {
     "output_type": "execute_result",
     "data": {
      "text/plain": [
       "Text(0.5, 1.1, 'Confusion matrix')"
      ]
     },
     "metadata": {
      "tags": []
     },
     "execution_count": 34
    },
    {
     "output_type": "execute_result",
     "data": {
      "text/plain": [
       "Text(24.0, 0.5, 'Actual label')"
      ]
     },
     "metadata": {
      "tags": []
     },
     "execution_count": 34
    },
    {
     "output_type": "execute_result",
     "data": {
      "text/plain": [
       "Text(0.5, 320.8, 'Predicted label')"
      ]
     },
     "metadata": {
      "tags": []
     },
     "execution_count": 34
    },
    {
     "output_type": "stream",
     "text": [
      "Accuracy: 0.550185873605948\n",
      "Precision: 0.550185873605948\n",
      "Recall: 1.0\n",
      "              precision    recall  f1-score   support\n",
      "\n",
      "           0       0.00      0.00      0.00       121\n",
      "           1       0.55      1.00      0.71       148\n",
      "\n",
      "    accuracy                           0.55       269\n",
      "   macro avg       0.28      0.50      0.35       269\n",
      "weighted avg       0.30      0.55      0.39       269\n",
      "\n"
     ],
     "name": "stdout"
    },
    {
     "output_type": "display_data",
     "data": {
      "image/png": "[encoded data removed]",
      "text/plain": [
       "<Figure size 360x360 with 2 Axes>"
      ]
     },
     "metadata": {
      "tags": []
     }
    },
    {
     "output_type": "display_data",
     "data": {
      "image/png": "[encoded data removed]",
      "text/plain": [
       "<Figure size 360x360 with 2 Axes>"
      ]
     },
     "metadata": {
      "tags": []
     }
    },
    {
     "output_type": "display_data",
     "data": {
      "image/png": "[encoded data removed]",
      "text/plain": [
       "<Figure size 360x360 with 2 Axes>"
      ]
     },
     "metadata": {
      "tags": []
     }
    },
    {
     "output_type": "display_data",
     "data": {
      "image/png": "[encoded data removed]",
      "text/plain": [
       "<Figure size 360x360 with 2 Axes>"
      ]
     },
     "metadata": {
      "tags": []
     }
    },
    {
     "output_type": "display_data",
     "data": {
      "image/png": "[encoded data removed]",
      "text/plain": [
       "<Figure size 360x360 with 2 Axes>"
      ]
     },
     "metadata": {
      "tags": []
     }
    }
   ]
  },
  {
   "cell_type": "code",
   "metadata": {
    "colab": {
     "base_uri": "https://localhost:8080/",
     "height": 416
    },
    "id": "cUR96-oHw29E",
    "outputId": "8274ac3f-cf7b-4e52-9175-63f4ccac594e"
   },
   "source": [
    "# df_sent.iloc[:, 1:4]\n",
    "df_sent['all_responses'] = df_sent['nemultumiri_sist_fiscal'] + '. '+df_sent['schimbari_sist_fiscal']+'. '+df_sent['ce_ofera_sistemul']\n",
    "df_sent['all_responses'] = df_sent['all_responses'].apply(lambda x: re.sub('\\n', '. ', x))\n",
    "df_sent['all_responses'] = df_sent['all_responses'].apply(lambda x: x.strip())\n",
    "\n",
    "df_sent[['incredere_sist_fiscal', 'all_responses']]"
   ],
   "execution_count": null,
   "outputs": [
    {
     "output_type": "execute_result",
     "data": {
      "text/html": [
       "<div>\n",
       "<style scoped>\n",
       "    .dataframe tbody tr th:only-of-type {\n",
       "        vertical-align: middle;\n",
       "    }\n",
       "\n",
       "    .dataframe tbody tr th {\n",
       "        vertical-align: top;\n",
       "    }\n",
       "\n",
       "    .dataframe thead th {\n",
       "        text-align: right;\n",
       "    }\n",
       "</style>\n",
       "<table border=\"1\" class=\"dataframe\">\n",
       "  <thead>\n",
       "    <tr style=\"text-align: right;\">\n",
       "      <th></th>\n",
       "      <th>incredere_sist_fiscal</th>\n",
       "      <th>all_responses</th>\n",
       "    </tr>\n",
       "  </thead>\n",
       "  <tbody>\n",
       "    <tr>\n",
       "      <th>0</th>\n",
       "      <td>1</td>\n",
       "      <td>- injustetea sociala. - impunerea excesiva. - ...</td>\n",
       "    </tr>\n",
       "    <tr>\n",
       "      <th>1</th>\n",
       "      <td>1</td>\n",
       "      <td>Ineficiența utilizării sumelor de bani strânse...</td>\n",
       "    </tr>\n",
       "    <tr>\n",
       "      <th>2</th>\n",
       "      <td>0</td>\n",
       "      <td>Organizarea probabil deficitara,. Circuitul lu...</td>\n",
       "    </tr>\n",
       "    <tr>\n",
       "      <th>3</th>\n",
       "      <td>1</td>\n",
       "      <td>Nu prea am incredere in sistem.. Nu prea stiu ...</td>\n",
       "    </tr>\n",
       "    <tr>\n",
       "      <th>4</th>\n",
       "      <td>0</td>\n",
       "      <td>Fiscalitatea din Romania e plina de contradict...</td>\n",
       "    </tr>\n",
       "    <tr>\n",
       "      <th>...</th>\n",
       "      <td>...</td>\n",
       "      <td>...</td>\n",
       "    </tr>\n",
       "    <tr>\n",
       "      <th>809</th>\n",
       "      <td>0</td>\n",
       "      <td>Se misca foarte greu. . Foarte multe. Nu prea ...</td>\n",
       "    </tr>\n",
       "    <tr>\n",
       "      <th>810</th>\n",
       "      <td>0</td>\n",
       "      <td>Momentan nimic . Oameni care lucrează în siste...</td>\n",
       "    </tr>\n",
       "    <tr>\n",
       "      <th>811</th>\n",
       "      <td>1</td>\n",
       "      <td>TVA-ul . Deducerea unor cheltuieli din venitur...</td>\n",
       "    </tr>\n",
       "    <tr>\n",
       "      <th>812</th>\n",
       "      <td>1</td>\n",
       "      <td>Ce mă deranjează cel mai mult la sistemul fisc...</td>\n",
       "    </tr>\n",
       "    <tr>\n",
       "      <th>813</th>\n",
       "      <td>1</td>\n",
       "      <td>Organizarea sistemului fiscal ar trebui sa fie...</td>\n",
       "    </tr>\n",
       "  </tbody>\n",
       "</table>\n",
       "<p>814 rows × 2 columns</p>\n",
       "</div>"
      ],
      "text/plain": [
       "     incredere_sist_fiscal                                      all_responses\n",
       "0                        1  - injustetea sociala. - impunerea excesiva. - ...\n",
       "1                        1  Ineficiența utilizării sumelor de bani strânse...\n",
       "2                        0  Organizarea probabil deficitara,. Circuitul lu...\n",
       "3                        1  Nu prea am incredere in sistem.. Nu prea stiu ...\n",
       "4                        0  Fiscalitatea din Romania e plina de contradict...\n",
       "..                     ...                                                ...\n",
       "809                      0  Se misca foarte greu. . Foarte multe. Nu prea ...\n",
       "810                      0  Momentan nimic . Oameni care lucrează în siste...\n",
       "811                      1  TVA-ul . Deducerea unor cheltuieli din venitur...\n",
       "812                      1  Ce mă deranjează cel mai mult la sistemul fisc...\n",
       "813                      1  Organizarea sistemului fiscal ar trebui sa fie...\n",
       "\n",
       "[814 rows x 2 columns]"
      ]
     },
     "metadata": {
      "tags": []
     },
     "execution_count": 47
    }
   ]
  },
  {
   "cell_type": "code",
   "metadata": {
    "colab": {
     "base_uri": "https://localhost:8080/",
     "height": 482
    },
    "id": "mEPavB8dAsZv",
    "outputId": "b2f9e104-b6e2-4e51-e491-8fd11d93184d"
   },
   "source": [
    "class_names=[0,1] # name  of classes\n",
    "fig, ax = plt.subplots()\n",
    "tick_marks = np.arange(len(class_names))\n",
    "plt.xticks(tick_marks, class_names)\n",
    "plt.yticks(tick_marks, class_names)\n",
    "# create heatmap\n",
    "sns.heatmap(pd.DataFrame(cnf_matrix), annot=True, cmap=\"YlGnBu\" ,fmt='g')\n",
    "ax.xaxis.set_label_position(\"top\")\n",
    "plt.tight_layout()\n",
    "plt.title('Confusion matrix', y=1.1)\n",
    "plt.ylabel('Actual label')\n",
    "plt.xlabel('Predicted label')"
   ],
   "execution_count": null,
   "outputs": [
    {
     "output_type": "execute_result",
     "data": {
      "text/plain": [
       "([<matplotlib.axis.XTick at 0x7f4b856b5c50>,\n",
       "  <matplotlib.axis.XTick at 0x7f4b853b9bd0>],\n",
       " [Text(0, 0, '0'), Text(0, 0, '1')])"
      ]
     },
     "metadata": {
      "tags": []
     },
     "execution_count": 232
    },
    {
     "output_type": "execute_result",
     "data": {
      "text/plain": [
       "([<matplotlib.axis.YTick at 0x7f4b95892850>,\n",
       "  <matplotlib.axis.YTick at 0x7f4b8584b150>],\n",
       " [Text(0, 0, '0'), Text(0, 0, '1')])"
      ]
     },
     "metadata": {
      "tags": []
     },
     "execution_count": 232
    },
    {
     "output_type": "execute_result",
     "data": {
      "text/plain": [
       "<matplotlib.axes._subplots.AxesSubplot at 0x7f4b857f6310>"
      ]
     },
     "metadata": {
      "tags": []
     },
     "execution_count": 232
    },
    {
     "output_type": "execute_result",
     "data": {
      "text/plain": [
       "Text(0.5, 1.1, 'Confusion matrix')"
      ]
     },
     "metadata": {
      "tags": []
     },
     "execution_count": 232
    },
    {
     "output_type": "execute_result",
     "data": {
      "text/plain": [
       "Text(24.0, 0.5, 'Actual label')"
      ]
     },
     "metadata": {
      "tags": []
     },
     "execution_count": 232
    },
    {
     "output_type": "execute_result",
     "data": {
      "text/plain": [
       "Text(0.5, 320.8, 'Predicted label')"
      ]
     },
     "metadata": {
      "tags": []
     },
     "execution_count": 232
    },
    {
     "output_type": "display_data",
     "data": {
      "image/png": "[encoded data removed]",
      "text/plain": [
       "<Figure size 360x360 with 2 Axes>"
      ]
     },
     "metadata": {
      "tags": []
     }
    }
   ]
  },
  {
   "cell_type": "code",
   "metadata": {
    "colab": {
     "base_uri": "https://localhost:8080/",
     "height": 374
    },
    "id": "Ue38XIpI-jQ3",
    "outputId": "1581bfa2-9c7a-49b2-b45a-448d0e938069"
   },
   "source": [
    "y_pred_proba = logreg.predict_proba(X_test)[::,1]\n",
    "fpr, tpr, _ = metrics.roc_curve(y_test,  y_pred_proba)\n",
    "auc = metrics.roc_auc_score(y_test, y_pred_proba)\n",
    "plt.plot(fpr,tpr,label=\"data 1, auc=\"+str(auc))\n",
    "plt.legend(loc=4)\n",
    "plt.show()"
   ],
   "execution_count": null,
   "outputs": [
    {
     "output_type": "error",
     "ename": "ValueError",
     "evalue": "ignored",
     "traceback": [
      "\u001b[0;31m---------------------------------------------------------------------------\u001b[0m",
      "\u001b[0;31mValueError\u001b[0m                                Traceback (most recent call last)",
      "\u001b[0;32m<ipython-input-233-3c219ab0becc>\u001b[0m in \u001b[0;36m<module>\u001b[0;34m()\u001b[0m\n\u001b[0;32m----> 1\u001b[0;31m \u001b[0my_pred_proba\u001b[0m \u001b[0;34m=\u001b[0m \u001b[0mlogreg\u001b[0m\u001b[0;34m.\u001b[0m\u001b[0mpredict_proba\u001b[0m\u001b[0;34m(\u001b[0m\u001b[0mX_test\u001b[0m\u001b[0;34m)\u001b[0m\u001b[0;34m[\u001b[0m\u001b[0;34m:\u001b[0m\u001b[0;34m:\u001b[0m\u001b[0;34m,\u001b[0m\u001b[0;36m1\u001b[0m\u001b[0;34m]\u001b[0m\u001b[0;34m\u001b[0m\u001b[0;34m\u001b[0m\u001b[0m\n\u001b[0m\u001b[1;32m      2\u001b[0m \u001b[0mfpr\u001b[0m\u001b[0;34m,\u001b[0m \u001b[0mtpr\u001b[0m\u001b[0;34m,\u001b[0m \u001b[0m_\u001b[0m \u001b[0;34m=\u001b[0m \u001b[0mmetrics\u001b[0m\u001b[0;34m.\u001b[0m\u001b[0mroc_curve\u001b[0m\u001b[0;34m(\u001b[0m\u001b[0my_test\u001b[0m\u001b[0;34m,\u001b[0m  \u001b[0my_pred_proba\u001b[0m\u001b[0;34m)\u001b[0m\u001b[0;34m\u001b[0m\u001b[0;34m\u001b[0m\u001b[0m\n\u001b[1;32m      3\u001b[0m \u001b[0mauc\u001b[0m \u001b[0;34m=\u001b[0m \u001b[0mmetrics\u001b[0m\u001b[0;34m.\u001b[0m\u001b[0mroc_auc_score\u001b[0m\u001b[0;34m(\u001b[0m\u001b[0my_test\u001b[0m\u001b[0;34m,\u001b[0m \u001b[0my_pred_proba\u001b[0m\u001b[0;34m)\u001b[0m\u001b[0;34m\u001b[0m\u001b[0;34m\u001b[0m\u001b[0m\n\u001b[1;32m      4\u001b[0m \u001b[0mplt\u001b[0m\u001b[0;34m.\u001b[0m\u001b[0mplot\u001b[0m\u001b[0;34m(\u001b[0m\u001b[0mfpr\u001b[0m\u001b[0;34m,\u001b[0m\u001b[0mtpr\u001b[0m\u001b[0;34m,\u001b[0m\u001b[0mlabel\u001b[0m\u001b[0;34m=\u001b[0m\u001b[0;34m\"data 1, auc=\"\u001b[0m\u001b[0;34m+\u001b[0m\u001b[0mstr\u001b[0m\u001b[0;34m(\u001b[0m\u001b[0mauc\u001b[0m\u001b[0;34m)\u001b[0m\u001b[0;34m)\u001b[0m\u001b[0;34m\u001b[0m\u001b[0;34m\u001b[0m\u001b[0m\n\u001b[1;32m      5\u001b[0m \u001b[0mplt\u001b[0m\u001b[0;34m.\u001b[0m\u001b[0mlegend\u001b[0m\u001b[0;34m(\u001b[0m\u001b[0mloc\u001b[0m\u001b[0;34m=\u001b[0m\u001b[0;36m4\u001b[0m\u001b[0;34m)\u001b[0m\u001b[0;34m\u001b[0m\u001b[0;34m\u001b[0m\u001b[0m\n",
      "\u001b[0;32m/usr/local/lib/python3.7/dist-packages/sklearn/linear_model/_logistic.py\u001b[0m in \u001b[0;36mpredict_proba\u001b[0;34m(self, X)\u001b[0m\n\u001b[1;32m   1649\u001b[0m                                                 self.solver == 'liblinear')))\n\u001b[1;32m   1650\u001b[0m         \u001b[0;32mif\u001b[0m \u001b[0movr\u001b[0m\u001b[0;34m:\u001b[0m\u001b[0;34m\u001b[0m\u001b[0;34m\u001b[0m\u001b[0m\n\u001b[0;32m-> 1651\u001b[0;31m             \u001b[0;32mreturn\u001b[0m \u001b[0msuper\u001b[0m\u001b[0;34m(\u001b[0m\u001b[0;34m)\u001b[0m\u001b[0;34m.\u001b[0m\u001b[0m_predict_proba_lr\u001b[0m\u001b[0;34m(\u001b[0m\u001b[0mX\u001b[0m\u001b[0;34m)\u001b[0m\u001b[0;34m\u001b[0m\u001b[0;34m\u001b[0m\u001b[0m\n\u001b[0m\u001b[1;32m   1652\u001b[0m         \u001b[0;32melse\u001b[0m\u001b[0;34m:\u001b[0m\u001b[0;34m\u001b[0m\u001b[0;34m\u001b[0m\u001b[0m\n\u001b[1;32m   1653\u001b[0m             \u001b[0mdecision\u001b[0m \u001b[0;34m=\u001b[0m \u001b[0mself\u001b[0m\u001b[0;34m.\u001b[0m\u001b[0mdecision_function\u001b[0m\u001b[0;34m(\u001b[0m\u001b[0mX\u001b[0m\u001b[0;34m)\u001b[0m\u001b[0;34m\u001b[0m\u001b[0;34m\u001b[0m\u001b[0m\n",
      "\u001b[0;32m/usr/local/lib/python3.7/dist-packages/sklearn/linear_model/_base.py\u001b[0m in \u001b[0;36m_predict_proba_lr\u001b[0;34m(self, X)\u001b[0m\n\u001b[1;32m    305\u001b[0m         \u001b[0mmulticlass\u001b[0m \u001b[0;32mis\u001b[0m \u001b[0mhandled\u001b[0m \u001b[0mby\u001b[0m \u001b[0mnormalizing\u001b[0m \u001b[0mthat\u001b[0m \u001b[0mover\u001b[0m \u001b[0mall\u001b[0m \u001b[0mclasses\u001b[0m\u001b[0;34m.\u001b[0m\u001b[0;34m\u001b[0m\u001b[0;34m\u001b[0m\u001b[0m\n\u001b[1;32m    306\u001b[0m         \"\"\"\n\u001b[0;32m--> 307\u001b[0;31m         \u001b[0mprob\u001b[0m \u001b[0;34m=\u001b[0m \u001b[0mself\u001b[0m\u001b[0;34m.\u001b[0m\u001b[0mdecision_function\u001b[0m\u001b[0;34m(\u001b[0m\u001b[0mX\u001b[0m\u001b[0;34m)\u001b[0m\u001b[0;34m\u001b[0m\u001b[0;34m\u001b[0m\u001b[0m\n\u001b[0m\u001b[1;32m    308\u001b[0m         \u001b[0mexpit\u001b[0m\u001b[0;34m(\u001b[0m\u001b[0mprob\u001b[0m\u001b[0;34m,\u001b[0m \u001b[0mout\u001b[0m\u001b[0;34m=\u001b[0m\u001b[0mprob\u001b[0m\u001b[0;34m)\u001b[0m\u001b[0;34m\u001b[0m\u001b[0;34m\u001b[0m\u001b[0m\n\u001b[1;32m    309\u001b[0m         \u001b[0;32mif\u001b[0m \u001b[0mprob\u001b[0m\u001b[0;34m.\u001b[0m\u001b[0mndim\u001b[0m \u001b[0;34m==\u001b[0m \u001b[0;36m1\u001b[0m\u001b[0;34m:\u001b[0m\u001b[0;34m\u001b[0m\u001b[0;34m\u001b[0m\u001b[0m\n",
      "\u001b[0;32m/usr/local/lib/python3.7/dist-packages/sklearn/linear_model/_base.py\u001b[0m in \u001b[0;36mdecision_function\u001b[0;34m(self, X)\u001b[0m\n\u001b[1;32m    271\u001b[0m         \u001b[0;32mif\u001b[0m \u001b[0mX\u001b[0m\u001b[0;34m.\u001b[0m\u001b[0mshape\u001b[0m\u001b[0;34m[\u001b[0m\u001b[0;36m1\u001b[0m\u001b[0;34m]\u001b[0m \u001b[0;34m!=\u001b[0m \u001b[0mn_features\u001b[0m\u001b[0;34m:\u001b[0m\u001b[0;34m\u001b[0m\u001b[0;34m\u001b[0m\u001b[0m\n\u001b[1;32m    272\u001b[0m             raise ValueError(\"X has %d features per sample; expecting %d\"\n\u001b[0;32m--> 273\u001b[0;31m                              % (X.shape[1], n_features))\n\u001b[0m\u001b[1;32m    274\u001b[0m \u001b[0;34m\u001b[0m\u001b[0m\n\u001b[1;32m    275\u001b[0m         scores = safe_sparse_dot(X, self.coef_.T,\n",
      "\u001b[0;31mValueError\u001b[0m: X has 23 features per sample; expecting 24"
     ]
    }
   ]
  },
  {
   "cell_type": "markdown",
   "metadata": {
    "id": "sUu5eHwPq0-T"
   },
   "source": [
    "# 7. Topic analysis and sentiment"
   ]
  },
  {
   "cell_type": "markdown",
   "metadata": {
    "id": "8aL6wQ9YvElE"
   },
   "source": [
    "## 7.1. Preprocess text"
   ]
  },
  {
   "cell_type": "code",
   "metadata": {
    "id": "ndLrPAIW6KYy"
   },
   "source": [
    "df_text = df_full[['incredere_sist_fiscal', 'nemultumiri_sist_fiscal', 'schimbari_sist_fiscal', 'ce_ofera_sistemul', 'motivare_incredere_sist_fiscal']]"
   ],
   "execution_count": null,
   "outputs": []
  },
  {
   "cell_type": "code",
   "metadata": {
    "id": "Ym_1J0SarDhy"
   },
   "source": [
    "ro_stopwords = set(stopwords.words('romanian'))\n",
    "decoded_stopwords = [unidecode.unidecode(word) for word in ro_stopwords] + ['a-si', 'l', 's', 'sa-s', 'intr-o', 'as', 'as-i', 'le-as']\n",
    "stemmer = SnowballStemmer(language=\"romanian\")\n",
    "punctuation_signs= [c for c in string.punctuation] + ['``', \"''\", '...', '..']\n",
    "\n",
    "# Clean the text\n",
    "def clean_text(raw_string):\n",
    "  # replace new line\n",
    "  cleaned_string = re.sub('\\n', ' ', raw_string)\n",
    "  # remove emoji\n",
    "  emoji_pattern = re.compile(\"[\"\n",
    "                              u\"\\U0001F600-\\U0001F64F\"  # emoticons\n",
    "                              u\"\\U0001F300-\\U0001F5FF\"  # symbols & pictographs\n",
    "                              u\"\\U0001F680-\\U0001F6FF\"  # transport & map symbols\n",
    "                              u\"\\U0001F1E0-\\U0001F1FF\"  # flags (iOS)\n",
    "                              u\"\\U00002702-\\U000027B0\"\n",
    "                              u\"\\U000024C2-\\U0001F251\"\n",
    "                              # \"^a-zA-Z\"\n",
    "                              \"]+\", flags=re.UNICODE)\n",
    "  cleaned_string = emoji_pattern.sub(r'', cleaned_string)\n",
    "  # lower all letters\n",
    "  cleaned_string = cleaned_string.lower()\n",
    "  # decode special characters\n",
    "  cleaned_string = unidecode.unidecode(cleaned_string)\n",
    "  # remove special characters and numbers\n",
    "  cleaned_string = re.sub(\"-|.|;|:\", \" \", cleaned_string, re.I)\n",
    "  cleaned_string = re.sub(\"[^a-z ]\", \" \", cleaned_string, re.I)\n",
    "  # remove multiple spaces\n",
    "  cleaned_string = re.sub(' +', ' ', cleaned_string)\n",
    "  # tokenize strings\n",
    "  cleaned_string = nltk.word_tokenize(cleaned_string)\n",
    "  # remove stopwords and punctuation signs\n",
    "  cleaned_string = [word.strip() for word in cleaned_string if word not in decoded_stopwords and len(word)>2]\n",
    "  cleaned_string = [word.strip() for word in cleaned_string if word not in punctuation_signs]\n",
    "  # stem the words - reduce words to stema\n",
    "  cleaned_string = [stemmer.stem(word.strip()) for word in cleaned_string if word]\n",
    "  # cleaned_string = ' '.join(cleaned_string)\n",
    "  # cleaned_string = re.sub(' +', ' ', cleaned_string)\n",
    "\n",
    "  return cleaned_string"
   ],
   "execution_count": null,
   "outputs": []
  },
  {
   "cell_type": "code",
   "metadata": {
    "id": "rk06aU445gc_"
   },
   "source": [
    "# Create three new columns with the prepreocesed text\n",
    "for column in ['nemultumiri_sist_fiscal', 'schimbari_sist_fiscal', 'ce_ofera_sistemul']:\n",
    "  df_text[f'{column}_prep'] = df_text[column].apply(lambda x: clean_text(x))"
   ],
   "execution_count": null,
   "outputs": []
  },
  {
   "cell_type": "code",
   "metadata": {
    "colab": {
     "base_uri": "https://localhost:8080/",
     "height": 147
    },
    "id": "Qek21J8fCKhf",
    "outputId": "f5711061-553f-4c5b-eacd-c43366509a7e"
   },
   "source": [
    "# Create a column with all preprocessed texts\n",
    "df_text['all_responses_prep'] =  df_text['nemultumiri_sist_fiscal_prep'] + df_text['schimbari_sist_fiscal_prep'] + df_text['ce_ofera_sistemul_prep']\n",
    "df_text['all_responses_word_count'] = df_text['all_responses_prep'].apply(len)\n",
    "df_text.head(2)"
   ],
   "execution_count": null,
   "outputs": [
    {
     "output_type": "execute_result",
     "data": {
      "text/html": [
       "<div>\n",
       "<style scoped>\n",
       "    .dataframe tbody tr th:only-of-type {\n",
       "        vertical-align: middle;\n",
       "    }\n",
       "\n",
       "    .dataframe tbody tr th {\n",
       "        vertical-align: top;\n",
       "    }\n",
       "\n",
       "    .dataframe thead th {\n",
       "        text-align: right;\n",
       "    }\n",
       "</style>\n",
       "<table border=\"1\" class=\"dataframe\">\n",
       "  <thead>\n",
       "    <tr style=\"text-align: right;\">\n",
       "      <th></th>\n",
       "      <th>incredere_sist_fiscal</th>\n",
       "      <th>nemultumiri_sist_fiscal</th>\n",
       "      <th>schimbari_sist_fiscal</th>\n",
       "      <th>ce_ofera_sistemul</th>\n",
       "      <th>all_responses</th>\n",
       "      <th>nemultumiri_sist_fiscal_prep</th>\n",
       "      <th>schimbari_sist_fiscal_prep</th>\n",
       "      <th>ce_ofera_sistemul_prep</th>\n",
       "      <th>all_responses_prep</th>\n",
       "      <th>all_responses_word_count</th>\n",
       "    </tr>\n",
       "  </thead>\n",
       "  <tbody>\n",
       "    <tr>\n",
       "      <th>0</th>\n",
       "      <td>1</td>\n",
       "      <td>- injustetea sociala\\n- impunerea excesiva\\n- ...</td>\n",
       "      <td>as incerca sa-l orientez spre cetatean.</td>\n",
       "      <td>- crestere a nivelului de trai in mod semi-efi...</td>\n",
       "      <td>- injustetea sociala\\n- impunerea excesiva\\n- ...</td>\n",
       "      <td>[injustet, social, impun, exces, privileg, rez...</td>\n",
       "      <td>[incerc, orient, cetatean]</td>\n",
       "      <td>[crest, nivel, tra, sem, eficient, sustin, ins...</td>\n",
       "      <td>[injustet, social, impun, exces, privileg, rez...</td>\n",
       "      <td>25</td>\n",
       "    </tr>\n",
       "    <tr>\n",
       "      <th>1</th>\n",
       "      <td>1</td>\n",
       "      <td>Ineficiența utilizării sumelor de bani strânse...</td>\n",
       "      <td>Aș crea un mediu de afacere stabil.</td>\n",
       "      <td>Birocrație excesivă.</td>\n",
       "      <td>Ineficiența utilizării sumelor de bani strânse...</td>\n",
       "      <td>[eficient, utilizar, sum, ban, stran, tax, impoz]</td>\n",
       "      <td>[cre, mediu, afac, stabil]</td>\n",
       "      <td>[rocrat, exces]</td>\n",
       "      <td>[eficient, utilizar, sum, ban, stran, tax, imp...</td>\n",
       "      <td>13</td>\n",
       "    </tr>\n",
       "  </tbody>\n",
       "</table>\n",
       "</div>"
      ],
      "text/plain": [
       "   incredere_sist_fiscal  ... all_responses_word_count\n",
       "0                      1  ...                       25\n",
       "1                      1  ...                       13\n",
       "\n",
       "[2 rows x 10 columns]"
      ]
     },
     "metadata": {
      "tags": []
     },
     "execution_count": 52
    }
   ]
  },
  {
   "cell_type": "markdown",
   "metadata": {
    "id": "77rdZfm3vVjo"
   },
   "source": [
    "## 7.2. Bivariate analysis between text and the variable of interest (incredere in sistemul fiscal)"
   ]
  },
  {
   "cell_type": "code",
   "metadata": {
    "colab": {
     "base_uri": "https://localhost:8080/"
    },
    "id": "z377Q7gwicoj",
    "outputId": "dc55ac1b-7d88-4fa2-9835-7f2597d80a93"
   },
   "source": [
    "# Create a dataframe with words (uni-grams) and value for the trust variable (dependent)\n",
    "words_trust = df_text[['incredere_sist_fiscal','all_responses_prep']].explode('all_responses_prep').reset_index(drop=True)\n",
    "words_trust.shape\n",
    "# words_trust.to_csv(os.path.join(path, 'data', 'uni-grams.csv'), index=False)"
   ],
   "execution_count": null,
   "outputs": [
    {
     "output_type": "execute_result",
     "data": {
      "text/plain": [
       "(15009, 2)"
      ]
     },
     "metadata": {
      "tags": []
     },
     "execution_count": 19
    }
   ]
  },
  {
   "cell_type": "code",
   "metadata": {
    "colab": {
     "base_uri": "https://localhost:8080/"
    },
    "id": "lIa0d3BBOUuH",
    "outputId": "2c7b68e3-5496-4aa4-92e6-c84e05f49631"
   },
   "source": [
    "df_responses_trust = df_text[['incredere_sist_fiscal', 'all_responses_prep']] # get a subsample of the text dataframe with the variables of interest\n",
    "df_responses_trust = df_responses_trust[df_responses_trust.astype(str)['all_responses_prep'] != '[]'] # remove all empty [] values\n",
    "df_responses_trust = df_responses_trust[~df_responses_trust.all_responses.str.len().eq(1)] # remove all rows that contain only one word\n",
    "\n",
    "df_responses_trust.shape"
   ],
   "execution_count": null,
   "outputs": [
    {
     "output_type": "execute_result",
     "data": {
      "text/plain": [
       "(777, 2)"
      ]
     },
     "metadata": {
      "tags": []
     },
     "execution_count": 20
    }
   ]
  },
  {
   "cell_type": "code",
   "metadata": {
    "id": "GbDwsHtl90Su"
   },
   "source": [
    "def create_bigrams(row):\n",
    "  ngrams = nltk.ngrams(row, 2)\n",
    "  ngram_list = []\n",
    "  for item in ngrams:\n",
    "    ngram_list.append(item[0]+' '+item[1])\n",
    "  return ngram_list\n",
    "df_responses_trust['bi-grams'] = df_responses_trust['all_responses'].apply(lambda row: create_bigrams(row))"
   ],
   "execution_count": null,
   "outputs": []
  },
  {
   "cell_type": "code",
   "metadata": {
    "colab": {
     "base_uri": "https://localhost:8080/"
    },
    "id": "xn9rzJQdQjUv",
    "outputId": "9f48aea0-45ed-42d1-cf30-20b9854994c6"
   },
   "source": [
    "bigrams_trust = df_responses_trust[['incredere_sist_fiscal','bi-grams']].explode('bi-grams').reset_index(drop=True)\n",
    "bigrams_trust.shape\n",
    "# bigrams_trust.to_csv(os.path.join(path, 'data', 'bi-grams.csv'), index=False)"
   ],
   "execution_count": null,
   "outputs": [
    {
     "output_type": "execute_result",
     "data": {
      "text/plain": [
       "(14196, 2)"
      ]
     },
     "metadata": {
      "tags": []
     },
     "execution_count": 22
    }
   ]
  },
  {
   "cell_type": "code",
   "metadata": {
    "colab": {
     "base_uri": "https://localhost:8080/",
     "height": 110
    },
    "id": "JegzX1KZAJAu",
    "outputId": "8e797aaf-d803-44af-f611-ed01d2590412"
   },
   "source": [
    "# # Create bi-grams and tri-grams for each response set\n",
    "def create_trigrams(row):\n",
    "  ngrams = nltk.ngrams(row, 3)\n",
    "  ngram_list = []\n",
    "  for item in ngrams:\n",
    "    ngram_list.append(item[0]+' '+item[1] + ' '+ item[2])\n",
    "  return ngram_list\n",
    "df_responses_trust['tri-grams'] = df_responses_trust['all_responses'].apply(lambda row: create_trigrams(row))\n",
    "df_responses_trust.head(2)"
   ],
   "execution_count": null,
   "outputs": [
    {
     "output_type": "execute_result",
     "data": {
      "text/html": [
       "<div>\n",
       "<style scoped>\n",
       "    .dataframe tbody tr th:only-of-type {\n",
       "        vertical-align: middle;\n",
       "    }\n",
       "\n",
       "    .dataframe tbody tr th {\n",
       "        vertical-align: top;\n",
       "    }\n",
       "\n",
       "    .dataframe thead th {\n",
       "        text-align: right;\n",
       "    }\n",
       "</style>\n",
       "<table border=\"1\" class=\"dataframe\">\n",
       "  <thead>\n",
       "    <tr style=\"text-align: right;\">\n",
       "      <th></th>\n",
       "      <th>incredere_sist_fiscal</th>\n",
       "      <th>all_responses</th>\n",
       "      <th>bi-grams</th>\n",
       "      <th>tri-grams</th>\n",
       "    </tr>\n",
       "  </thead>\n",
       "  <tbody>\n",
       "    <tr>\n",
       "      <th>0</th>\n",
       "      <td>1</td>\n",
       "      <td>[injustet, social, impun, exces, privileg, rez...</td>\n",
       "      <td>[injustet social, social impun, impun exces, e...</td>\n",
       "      <td>[injustet social impun, social impun exces, im...</td>\n",
       "    </tr>\n",
       "    <tr>\n",
       "      <th>1</th>\n",
       "      <td>1</td>\n",
       "      <td>[eficient, utilizar, sum, ban, stran, tax, imp...</td>\n",
       "      <td>[eficient utilizar, utilizar sum, sum ban, ban...</td>\n",
       "      <td>[eficient utilizar sum, utilizar sum ban, sum ...</td>\n",
       "    </tr>\n",
       "  </tbody>\n",
       "</table>\n",
       "</div>"
      ],
      "text/plain": [
       "   incredere_sist_fiscal  ...                                          tri-grams\n",
       "0                      1  ...  [injustet social impun, social impun exces, im...\n",
       "1                      1  ...  [eficient utilizar sum, utilizar sum ban, sum ...\n",
       "\n",
       "[2 rows x 4 columns]"
      ]
     },
     "metadata": {
      "tags": []
     },
     "execution_count": 23
    }
   ]
  },
  {
   "cell_type": "code",
   "metadata": {
    "colab": {
     "base_uri": "https://localhost:8080/"
    },
    "id": "pEskSCYlRIM-",
    "outputId": "8fe4b794-f00a-4883-bf46-9b7e3097229a"
   },
   "source": [
    "trigrams_trust = df_responses_trust[['incredere_sist_fiscal','tri-grams']].explode('tri-grams').reset_index(drop=True)\n",
    "trigrams_trust.shape\n",
    "# trigrams_trust.to_csv(os.path.join(path, 'data', 'tri-grams.csv'), index=False)"
   ],
   "execution_count": null,
   "outputs": [
    {
     "output_type": "execute_result",
     "data": {
      "text/plain": [
       "(13433, 2)"
      ]
     },
     "metadata": {
      "tags": []
     },
     "execution_count": 24
    }
   ]
  },
  {
   "cell_type": "code",
   "metadata": {
    "colab": {
     "base_uri": "https://localhost:8080/",
     "height": 141
    },
    "id": "POkl_bEjbgD_",
    "outputId": "100ce37e-2fb7-4374-ed89-f988cbdb05de"
   },
   "source": [
    "trigrams_trust.groupby(by='incredere_sist_fiscal').count()"
   ],
   "execution_count": null,
   "outputs": [
    {
     "output_type": "execute_result",
     "data": {
      "text/html": [
       "<div>\n",
       "<style scoped>\n",
       "    .dataframe tbody tr th:only-of-type {\n",
       "        vertical-align: middle;\n",
       "    }\n",
       "\n",
       "    .dataframe tbody tr th {\n",
       "        vertical-align: top;\n",
       "    }\n",
       "\n",
       "    .dataframe thead th {\n",
       "        text-align: right;\n",
       "    }\n",
       "</style>\n",
       "<table border=\"1\" class=\"dataframe\">\n",
       "  <thead>\n",
       "    <tr style=\"text-align: right;\">\n",
       "      <th></th>\n",
       "      <th>tri-grams</th>\n",
       "    </tr>\n",
       "    <tr>\n",
       "      <th>incredere_sist_fiscal</th>\n",
       "      <th></th>\n",
       "    </tr>\n",
       "  </thead>\n",
       "  <tbody>\n",
       "    <tr>\n",
       "      <th>0</th>\n",
       "      <td>5913</td>\n",
       "    </tr>\n",
       "    <tr>\n",
       "      <th>1</th>\n",
       "      <td>7506</td>\n",
       "    </tr>\n",
       "  </tbody>\n",
       "</table>\n",
       "</div>"
      ],
      "text/plain": [
       "                       tri-grams\n",
       "incredere_sist_fiscal           \n",
       "0                           5913\n",
       "1                           7506"
      ]
     },
     "metadata": {
      "tags": []
     },
     "execution_count": 28
    }
   ]
  },
  {
   "cell_type": "code",
   "metadata": {
    "colab": {
     "base_uri": "https://localhost:8080/",
     "height": 141
    },
    "id": "2pR8Va4xb_eD",
    "outputId": "5f9fc3b0-8905-485a-cbb3-8f1bbbdb94d7"
   },
   "source": [
    "bigrams_trust.groupby(by='incredere_sist_fiscal').count()"
   ],
   "execution_count": null,
   "outputs": [
    {
     "output_type": "execute_result",
     "data": {
      "text/html": [
       "<div>\n",
       "<style scoped>\n",
       "    .dataframe tbody tr th:only-of-type {\n",
       "        vertical-align: middle;\n",
       "    }\n",
       "\n",
       "    .dataframe tbody tr th {\n",
       "        vertical-align: top;\n",
       "    }\n",
       "\n",
       "    .dataframe thead th {\n",
       "        text-align: right;\n",
       "    }\n",
       "</style>\n",
       "<table border=\"1\" class=\"dataframe\">\n",
       "  <thead>\n",
       "    <tr style=\"text-align: right;\">\n",
       "      <th></th>\n",
       "      <th>bi-grams</th>\n",
       "    </tr>\n",
       "    <tr>\n",
       "      <th>incredere_sist_fiscal</th>\n",
       "      <th></th>\n",
       "    </tr>\n",
       "  </thead>\n",
       "  <tbody>\n",
       "    <tr>\n",
       "      <th>0</th>\n",
       "      <td>6231</td>\n",
       "    </tr>\n",
       "    <tr>\n",
       "      <th>1</th>\n",
       "      <td>7965</td>\n",
       "    </tr>\n",
       "  </tbody>\n",
       "</table>\n",
       "</div>"
      ],
      "text/plain": [
       "                       bi-grams\n",
       "incredere_sist_fiscal          \n",
       "0                          6231\n",
       "1                          7965"
      ]
     },
     "metadata": {
      "tags": []
     },
     "execution_count": 29
    }
   ]
  },
  {
   "cell_type": "code",
   "metadata": {
    "colab": {
     "base_uri": "https://localhost:8080/",
     "height": 141
    },
    "id": "DdPVqEjFb_gP",
    "outputId": "fc0357d2-70e2-422c-b82e-9f5afcfa17b0"
   },
   "source": [
    "words_trust.groupby(by='incredere_sist_fiscal').count()"
   ],
   "execution_count": null,
   "outputs": [
    {
     "output_type": "execute_result",
     "data": {
      "text/html": [
       "<div>\n",
       "<style scoped>\n",
       "    .dataframe tbody tr th:only-of-type {\n",
       "        vertical-align: middle;\n",
       "    }\n",
       "\n",
       "    .dataframe tbody tr th {\n",
       "        vertical-align: top;\n",
       "    }\n",
       "\n",
       "    .dataframe thead th {\n",
       "        text-align: right;\n",
       "    }\n",
       "</style>\n",
       "<table border=\"1\" class=\"dataframe\">\n",
       "  <thead>\n",
       "    <tr style=\"text-align: right;\">\n",
       "      <th></th>\n",
       "      <th>all_responses</th>\n",
       "    </tr>\n",
       "    <tr>\n",
       "      <th>incredere_sist_fiscal</th>\n",
       "      <th></th>\n",
       "    </tr>\n",
       "  </thead>\n",
       "  <tbody>\n",
       "    <tr>\n",
       "      <th>0</th>\n",
       "      <td>6553</td>\n",
       "    </tr>\n",
       "    <tr>\n",
       "      <th>1</th>\n",
       "      <td>8429</td>\n",
       "    </tr>\n",
       "  </tbody>\n",
       "</table>\n",
       "</div>"
      ],
      "text/plain": [
       "                       all_responses\n",
       "incredere_sist_fiscal               \n",
       "0                               6553\n",
       "1                               8429"
      ]
     },
     "metadata": {
      "tags": []
     },
     "execution_count": 30
    }
   ]
  },
  {
   "cell_type": "markdown",
   "metadata": {
    "id": "Jvno3fazvgnn"
   },
   "source": [
    "## 7.3. Univariate visualization for the text"
   ]
  },
  {
   "cell_type": "code",
   "metadata": {
    "colab": {
     "base_uri": "https://localhost:8080/",
     "height": 450
    },
    "id": "QGa9tijyuEYy",
    "outputId": "da143811-2269-42a4-853d-999b8f3cfddb"
   },
   "source": [
    "# Top 10 most frequent words\n",
    "words_trust['all_responses'].value_counts()[:10].plot(kind='barh', figsize=(7, 7), color='#666666', zorder=2, width=0.7, fontsize=15)\n",
    "words_trust.to_csv(os.path.join(path, 'data', 'words_trust.csv'), index=False) # save the dataset for more visualization purposes"
   ],
   "execution_count": null,
   "outputs": [
    {
     "output_type": "execute_result",
     "data": {
      "text/plain": [
       "<matplotlib.axes._subplots.AxesSubplot at 0x7fc41639d050>"
      ]
     },
     "metadata": {
      "tags": []
     },
     "execution_count": 86
    },
    {
     "output_type": "display_data",
     "data": {
      "image/png": "[encoded data removed]",
      "text/plain": [
       "<Figure size 504x504 with 1 Axes>"
      ]
     },
     "metadata": {
      "tags": []
     }
    }
   ]
  },
  {
   "cell_type": "code",
   "metadata": {
    "id": "BiIzSAQBGGxV"
   },
   "source": [
    "words = df_text['all_responses'].to_list()\n",
    "words_l = [item for sublist in words for item in sublist]"
   ],
   "execution_count": null,
   "outputs": []
  },
  {
   "cell_type": "code",
   "metadata": {
    "id": "-_-1ik8BGG3o"
   },
   "source": [
    "# Most frequent bi-grams and tri-grams\n",
    "bigrams_series = (pd.Series(nltk.ngrams(words_l, 2)).value_counts())[:20]\n",
    "trigrams_series = (pd.Series(nltk.ngrams(words_l, 3)).value_counts())[:20]"
   ],
   "execution_count": null,
   "outputs": []
  },
  {
   "cell_type": "code",
   "metadata": {
    "colab": {
     "base_uri": "https://localhost:8080/",
     "height": 530
    },
    "id": "Tmvseogq449E",
    "outputId": "3ac6b1ef-71b5-4df1-c1a1-4b6f2bd7e0b2"
   },
   "source": [
    "bigrams_series.sort_values().plot.barh(color='#666666', width=.8, figsize=(12, 8))\n",
    "plt.title('20 Most Frequently Occuring Bigrams')\n",
    "plt.ylabel('Bigram')\n",
    "plt.xlabel('Frequency')"
   ],
   "execution_count": null,
   "outputs": [
    {
     "output_type": "execute_result",
     "data": {
      "text/plain": [
       "<matplotlib.axes._subplots.AxesSubplot at 0x7fc415834690>"
      ]
     },
     "metadata": {
      "tags": []
     },
     "execution_count": 111
    },
    {
     "output_type": "execute_result",
     "data": {
      "text/plain": [
       "Text(0.5, 1.0, '20 Most Frequently Occuring Bigrams')"
      ]
     },
     "metadata": {
      "tags": []
     },
     "execution_count": 111
    },
    {
     "output_type": "execute_result",
     "data": {
      "text/plain": [
       "Text(0, 0.5, 'Bigram')"
      ]
     },
     "metadata": {
      "tags": []
     },
     "execution_count": 111
    },
    {
     "output_type": "execute_result",
     "data": {
      "text/plain": [
       "Text(0.5, 0, 'Frequency')"
      ]
     },
     "metadata": {
      "tags": []
     },
     "execution_count": 111
    },
    {
     "output_type": "display_data",
     "data": {
      "image/png": "[encoded data removed]",
      "text/plain": [
       "<Figure size 864x576 with 1 Axes>"
      ]
     },
     "metadata": {
      "tags": []
     }
    }
   ]
  },
  {
   "cell_type": "code",
   "metadata": {
    "colab": {
     "base_uri": "https://localhost:8080/",
     "height": 530
    },
    "id": "kDmrE1rP49bi",
    "outputId": "809d3051-13b6-4cd8-86b8-3ad87b5a6037"
   },
   "source": [
    "trigrams_series.sort_values().plot.barh(color='#666666', width=.8, figsize=(12, 8))\n",
    "plt.title('20 Most Frequently Occuring Bigrams')\n",
    "plt.ylabel('Trigram')\n",
    "plt.xlabel('Frequency')"
   ],
   "execution_count": null,
   "outputs": [
    {
     "output_type": "execute_result",
     "data": {
      "text/plain": [
       "<matplotlib.axes._subplots.AxesSubplot at 0x7fc415645110>"
      ]
     },
     "metadata": {
      "tags": []
     },
     "execution_count": 112
    },
    {
     "output_type": "execute_result",
     "data": {
      "text/plain": [
       "Text(0.5, 1.0, '20 Most Frequently Occuring Bigrams')"
      ]
     },
     "metadata": {
      "tags": []
     },
     "execution_count": 112
    },
    {
     "output_type": "execute_result",
     "data": {
      "text/plain": [
       "Text(0, 0.5, 'Trigram')"
      ]
     },
     "metadata": {
      "tags": []
     },
     "execution_count": 112
    },
    {
     "output_type": "execute_result",
     "data": {
      "text/plain": [
       "Text(0.5, 0, 'Frequency')"
      ]
     },
     "metadata": {
      "tags": []
     },
     "execution_count": 112
    },
    {
     "output_type": "display_data",
     "data": {
      "image/png": "[encoded data removed]",
      "text/plain": [
       "<Figure size 864x576 with 1 Axes>"
      ]
     },
     "metadata": {
      "tags": []
     }
    }
   ]
  },
  {
   "cell_type": "markdown",
   "metadata": {
    "id": "hU5uyL6IvsHP"
   },
   "source": [
    "## 7.4. Analysis of the words that make a difference between the two groups: 0 and 1"
   ]
  },
  {
   "cell_type": "code",
   "metadata": {
    "id": "frLCuN4Di24y"
   },
   "source": [
    "# Let's try to see which are the words which are specific to only one category of trust\n",
    "all_responses_dict = words_trust[['incredere_sist_fiscal', 'all_responses']].to_dict()\n",
    "# all_responses_dict"
   ],
   "execution_count": null,
   "outputs": []
  },
  {
   "cell_type": "code",
   "metadata": {
    "colab": {
     "base_uri": "https://localhost:8080/",
     "height": 197
    },
    "id": "cCxzYR9cxq1t",
    "outputId": "13b7e7c4-2dea-4cc2-c704-7efb1cd57719"
   },
   "source": [
    "words_trust.head()"
   ],
   "execution_count": null,
   "outputs": [
    {
     "output_type": "execute_result",
     "data": {
      "text/html": [
       "<div>\n",
       "<style scoped>\n",
       "    .dataframe tbody tr th:only-of-type {\n",
       "        vertical-align: middle;\n",
       "    }\n",
       "\n",
       "    .dataframe tbody tr th {\n",
       "        vertical-align: top;\n",
       "    }\n",
       "\n",
       "    .dataframe thead th {\n",
       "        text-align: right;\n",
       "    }\n",
       "</style>\n",
       "<table border=\"1\" class=\"dataframe\">\n",
       "  <thead>\n",
       "    <tr style=\"text-align: right;\">\n",
       "      <th></th>\n",
       "      <th>incredere_sist_fiscal</th>\n",
       "      <th>all_responses</th>\n",
       "    </tr>\n",
       "  </thead>\n",
       "  <tbody>\n",
       "    <tr>\n",
       "      <th>0</th>\n",
       "      <td>1</td>\n",
       "      <td>injustet</td>\n",
       "    </tr>\n",
       "    <tr>\n",
       "      <th>1</th>\n",
       "      <td>1</td>\n",
       "      <td>social</td>\n",
       "    </tr>\n",
       "    <tr>\n",
       "      <th>2</th>\n",
       "      <td>1</td>\n",
       "      <td>impun</td>\n",
       "    </tr>\n",
       "    <tr>\n",
       "      <th>3</th>\n",
       "      <td>1</td>\n",
       "      <td>exces</td>\n",
       "    </tr>\n",
       "    <tr>\n",
       "      <th>4</th>\n",
       "      <td>1</td>\n",
       "      <td>privileg</td>\n",
       "    </tr>\n",
       "  </tbody>\n",
       "</table>\n",
       "</div>"
      ],
      "text/plain": [
       "   incredere_sist_fiscal all_responses\n",
       "0                      1      injustet\n",
       "1                      1        social\n",
       "2                      1         impun\n",
       "3                      1         exces\n",
       "4                      1      privileg"
      ]
     },
     "metadata": {
      "tags": []
     },
     "execution_count": 31
    }
   ]
  },
  {
   "cell_type": "code",
   "metadata": {
    "colab": {
     "base_uri": "https://localhost:8080/",
     "height": 197
    },
    "id": "pYH34MURxtyp",
    "outputId": "a28a23b3-a7a2-4825-9139-db2c193f0b2a"
   },
   "source": [
    "trigrams_trust.head()"
   ],
   "execution_count": null,
   "outputs": [
    {
     "output_type": "execute_result",
     "data": {
      "text/html": [
       "<div>\n",
       "<style scoped>\n",
       "    .dataframe tbody tr th:only-of-type {\n",
       "        vertical-align: middle;\n",
       "    }\n",
       "\n",
       "    .dataframe tbody tr th {\n",
       "        vertical-align: top;\n",
       "    }\n",
       "\n",
       "    .dataframe thead th {\n",
       "        text-align: right;\n",
       "    }\n",
       "</style>\n",
       "<table border=\"1\" class=\"dataframe\">\n",
       "  <thead>\n",
       "    <tr style=\"text-align: right;\">\n",
       "      <th></th>\n",
       "      <th>incredere_sist_fiscal</th>\n",
       "      <th>tri-grams</th>\n",
       "    </tr>\n",
       "  </thead>\n",
       "  <tbody>\n",
       "    <tr>\n",
       "      <th>0</th>\n",
       "      <td>1</td>\n",
       "      <td>injustet social impun</td>\n",
       "    </tr>\n",
       "    <tr>\n",
       "      <th>1</th>\n",
       "      <td>1</td>\n",
       "      <td>social impun exces</td>\n",
       "    </tr>\n",
       "    <tr>\n",
       "      <th>2</th>\n",
       "      <td>1</td>\n",
       "      <td>impun exces privileg</td>\n",
       "    </tr>\n",
       "    <tr>\n",
       "      <th>3</th>\n",
       "      <td>1</td>\n",
       "      <td>exces privileg rezerv</td>\n",
       "    </tr>\n",
       "    <tr>\n",
       "      <th>4</th>\n",
       "      <td>1</td>\n",
       "      <td>privileg rezerv stat</td>\n",
       "    </tr>\n",
       "  </tbody>\n",
       "</table>\n",
       "</div>"
      ],
      "text/plain": [
       "   incredere_sist_fiscal              tri-grams\n",
       "0                      1  injustet social impun\n",
       "1                      1     social impun exces\n",
       "2                      1   impun exces privileg\n",
       "3                      1  exces privileg rezerv\n",
       "4                      1   privileg rezerv stat"
      ]
     },
     "metadata": {
      "tags": []
     },
     "execution_count": 35
    }
   ]
  },
  {
   "cell_type": "code",
   "metadata": {
    "colab": {
     "base_uri": "https://localhost:8080/",
     "height": 197
    },
    "id": "66yyzsekxt0q",
    "outputId": "4b35fbc2-ffab-4719-82ce-6c457d80632a"
   },
   "source": [
    "bigrams_trust.head()"
   ],
   "execution_count": null,
   "outputs": [
    {
     "output_type": "execute_result",
     "data": {
      "text/html": [
       "<div>\n",
       "<style scoped>\n",
       "    .dataframe tbody tr th:only-of-type {\n",
       "        vertical-align: middle;\n",
       "    }\n",
       "\n",
       "    .dataframe tbody tr th {\n",
       "        vertical-align: top;\n",
       "    }\n",
       "\n",
       "    .dataframe thead th {\n",
       "        text-align: right;\n",
       "    }\n",
       "</style>\n",
       "<table border=\"1\" class=\"dataframe\">\n",
       "  <thead>\n",
       "    <tr style=\"text-align: right;\">\n",
       "      <th></th>\n",
       "      <th>incredere_sist_fiscal</th>\n",
       "      <th>bi-grams</th>\n",
       "    </tr>\n",
       "  </thead>\n",
       "  <tbody>\n",
       "    <tr>\n",
       "      <th>0</th>\n",
       "      <td>1</td>\n",
       "      <td>injustet social</td>\n",
       "    </tr>\n",
       "    <tr>\n",
       "      <th>1</th>\n",
       "      <td>1</td>\n",
       "      <td>social impun</td>\n",
       "    </tr>\n",
       "    <tr>\n",
       "      <th>2</th>\n",
       "      <td>1</td>\n",
       "      <td>impun exces</td>\n",
       "    </tr>\n",
       "    <tr>\n",
       "      <th>3</th>\n",
       "      <td>1</td>\n",
       "      <td>exces privileg</td>\n",
       "    </tr>\n",
       "    <tr>\n",
       "      <th>4</th>\n",
       "      <td>1</td>\n",
       "      <td>privileg rezerv</td>\n",
       "    </tr>\n",
       "  </tbody>\n",
       "</table>\n",
       "</div>"
      ],
      "text/plain": [
       "   incredere_sist_fiscal         bi-grams\n",
       "0                      1  injustet social\n",
       "1                      1     social impun\n",
       "2                      1      impun exces\n",
       "3                      1   exces privileg\n",
       "4                      1  privileg rezerv"
      ]
     },
     "metadata": {
      "tags": []
     },
     "execution_count": 36
    }
   ]
  },
  {
   "cell_type": "code",
   "metadata": {
    "colab": {
     "base_uri": "https://localhost:8080/",
     "height": 197
    },
    "id": "tZqHglE3w_pw",
    "outputId": "869be1eb-6de2-45c3-f995-ee12724ad92d"
   },
   "source": [
    "df_responses_trust.head()"
   ],
   "execution_count": null,
   "outputs": [
    {
     "output_type": "execute_result",
     "data": {
      "text/html": [
       "<div>\n",
       "<style scoped>\n",
       "    .dataframe tbody tr th:only-of-type {\n",
       "        vertical-align: middle;\n",
       "    }\n",
       "\n",
       "    .dataframe tbody tr th {\n",
       "        vertical-align: top;\n",
       "    }\n",
       "\n",
       "    .dataframe thead th {\n",
       "        text-align: right;\n",
       "    }\n",
       "</style>\n",
       "<table border=\"1\" class=\"dataframe\">\n",
       "  <thead>\n",
       "    <tr style=\"text-align: right;\">\n",
       "      <th></th>\n",
       "      <th>incredere_sist_fiscal</th>\n",
       "      <th>all_responses</th>\n",
       "      <th>bi-grams</th>\n",
       "      <th>tri-grams</th>\n",
       "    </tr>\n",
       "  </thead>\n",
       "  <tbody>\n",
       "    <tr>\n",
       "      <th>0</th>\n",
       "      <td>1</td>\n",
       "      <td>[injustet, social, impun, exces, privileg, rez...</td>\n",
       "      <td>[injustet social, social impun, impun exces, e...</td>\n",
       "      <td>[injustet social impun, social impun exces, im...</td>\n",
       "    </tr>\n",
       "    <tr>\n",
       "      <th>1</th>\n",
       "      <td>1</td>\n",
       "      <td>[eficient, utilizar, sum, ban, stran, tax, imp...</td>\n",
       "      <td>[eficient utilizar, utilizar sum, sum ban, ban...</td>\n",
       "      <td>[eficient utilizar sum, utilizar sum ban, sum ...</td>\n",
       "    </tr>\n",
       "    <tr>\n",
       "      <th>2</th>\n",
       "      <td>0</td>\n",
       "      <td>[ganiz, probabil, deficitar, circuit, lung, pa...</td>\n",
       "      <td>[ganiz probabil, probabil deficitar, deficitar...</td>\n",
       "      <td>[ganiz probabil deficitar, probabil deficitar ...</td>\n",
       "    </tr>\n",
       "    <tr>\n",
       "      <th>3</th>\n",
       "      <td>1</td>\n",
       "      <td>[incred, sist, stiu, schimb, privint, stiu]</td>\n",
       "      <td>[incred sist, sist stiu, stiu schimb, schimb p...</td>\n",
       "      <td>[incred sist stiu, sist stiu schimb, stiu schi...</td>\n",
       "    </tr>\n",
       "    <tr>\n",
       "      <th>4</th>\n",
       "      <td>0</td>\n",
       "      <td>[scalitat, roman, plin, contradict, mplific, l...</td>\n",
       "      <td>[scalitat roman, roman plin, plin contradict, ...</td>\n",
       "      <td>[scalitat roman plin, roman plin contradict, p...</td>\n",
       "    </tr>\n",
       "  </tbody>\n",
       "</table>\n",
       "</div>"
      ],
      "text/plain": [
       "   incredere_sist_fiscal  ...                                          tri-grams\n",
       "0                      1  ...  [injustet social impun, social impun exces, im...\n",
       "1                      1  ...  [eficient utilizar sum, utilizar sum ban, sum ...\n",
       "2                      0  ...  [ganiz probabil deficitar, probabil deficitar ...\n",
       "3                      1  ...  [incred sist stiu, sist stiu schimb, stiu schi...\n",
       "4                      0  ...  [scalitat roman plin, roman plin contradict, p...\n",
       "\n",
       "[5 rows x 4 columns]"
      ]
     },
     "metadata": {
      "tags": []
     },
     "execution_count": 30
    }
   ]
  },
  {
   "cell_type": "markdown",
   "metadata": {
    "id": "vbWBnM4wDcSh"
   },
   "source": [
    "## 7.5. Topic analysis for each answer (selected no of topics 2)"
   ]
  },
  {
   "cell_type": "code",
   "metadata": {
    "colab": {
     "base_uri": "https://localhost:8080/",
     "height": 1000
    },
    "id": "PqSf-iJgrDes",
    "outputId": "153e098f-6ec3-46d1-bd49-06544dc03663"
   },
   "source": [
    "# Create the dictionary\n",
    "for column in ['nemultumiri_sist_fiscal_prep', 'schimbari_sist_fiscal_prep', 'ce_ofera_sistemul_prep']:\n",
    "  responses_list = df_text[column].to_list()\n",
    "  dictionary_responses = Dictionary(responses_list)\n",
    "  responses_bow = [dictionary_responses.doc2bow(response) for response in responses_list]\n",
    "  # Build the LDA model\n",
    "  ldamodel = LdaModel(responses_bow, \n",
    "                      num_topics = 2,\n",
    "                      id2word = dictionary_responses,\n",
    "                      passes  = 15,\n",
    "                      alpha='symmetric',\n",
    "                      iterations=100,\n",
    "                      random_state = 5)\n",
    "  # pprint(ldamodel.print_topics())\n",
    "  # pyLDAvis.enable_notebook()\n",
    "  # # feed the LDA model into the pyLDAvis instance\n",
    "  # lda_viz = gensimvis.prepare(ldamodel, corpus, dictionary)\n",
    "  lda_display = gensimvis.prepare(ldamodel,\n",
    "                                responses_bow,\n",
    "                                dictionary_responses,\n",
    "                                sort_topics=True)\n",
    "  pyLDAvis.display(lda_display)"
   ],
   "execution_count": null,
   "outputs": [
    {
     "output_type": "execute_result",
     "data": {
      "text/html": [
       "\n",
       "<link rel=\"stylesheet\" type=\"text/css\" href=\"https://cdn.jsdelivr.net/gh/bmabey/pyLDAvis@3.3.1/pyLDAvis/js/ldavis.v1.0.0.css\">\n",
       "\n",
       "\n",
       "<div id=\"ldavis_el375140480185725904381892490\"></div>\n",
       "<script type=\"text/javascript\">\n",
       "\n",
       "var ldavis_el375140480185725904381892490_data = {\"mdsDat\": {\"x\": [0.0931099173018567, -0.0931099173018567], \"y\": [0.0, 0.0], \"topics\": [1, 2], \"cluster\": [1, 1], \"Freq\": [53.05482614829694, 46.94517385170305]}, \"tinfo\": {\"Term\": [\"fiscal\", \"xel\", \"ban\", \"venitur\", \"servic\", \"pozit\", \"salar\", \"mic\", \"lips\", \"roman\", \"sist\", \"ridic\", \"ofer\", \"psa\", \"rocrat\", \"treb\", \"plat\", \"tax\", \"impoz\", \"mar\", \"cot\", \"public\", \"part\", \"indirect\", \"buget\", \"ptul\", \"stat\", \"transparente\", \"dependent\", \"ansparent\", \"xel\", \"venitur\", \"ridic\", \"indirect\", \"dependent\", \"predict\", \"lips\", \"part\", \"rupt\", \"schimbar\", \"cheltuiel\", \"psa\", \"des\", \"eficiente\", \"parer\", \"fondur\", \"veder\", \"treb\", \"acciz\", \"legisl\", \"lucru\", \"fiscal\", \"taier\", \"structur\", \"himbar\", \"pus\", \"transparente\", \"acestor\", \"tul\", \"oarb\", \"buget\", \"roman\", \"sist\", \"stabil\", \"birocrat\", \"evaziun\", \"exces\", \"transparent\", \"stem\", \"impoz\", \"tax\", \"mar\", \"nivel\", \"nemultumest\", \"tar\", \"stat\", \"dest\", \"fapt\", \"servic\", \"pozit\", \"cot\", \"rocrat\", \"ofer\", \"ansparent\", \"europ\", \"profit\", \"salar\", \"sanat\", \"ban\", \"instit\", \"stiu\", \"benefic\", \"greu\", \"activ\", \"sustin\", \"societ\", \"cheltu\", \"lum\", \"folos\", \"lei\", \"merg\", \"deoarec\", \"valoar\", \"proven\", \"total\", \"impun\", \"certitudin\", \"procent\", \"venit\", \"angaj\", \"mic\", \"administr\", \"par\", \"plat\", \"redus\", \"public\", \"ptul\", \"incred\", \"tax\", \"mar\", \"impoz\", \"stat\", \"fapt\", \"nemultumest\", \"trebui\", \"tar\", \"nevoi\", \"persoan\", \"bin\", \"transparent\", \"put\", \"sist\", \"roman\"], \"Freq\": [120.0, 48.0, 44.0, 41.0, 26.0, 25.0, 31.0, 44.0, 28.0, 66.0, 69.0, 22.0, 18.0, 25.0, 17.0, 24.0, 32.0, 135.0, 161.0, 126.0, 14.0, 35.0, 16.0, 13.0, 19.0, 32.0, 42.0, 15.0, 11.0, 9.0, 47.74853663073471, 40.18453987568062, 22.006271888592263, 13.244573266046059, 10.888608502458085, 10.083885064981281, 27.109269363878177, 16.216589132279964, 10.79835164546018, 8.443177084247584, 11.513034000757447, 24.419016920871076, 11.443742291652354, 6.859447068592368, 6.846512242993965, 9.110670069942888, 6.813452041768833, 23.431594028805907, 6.801658490007043, 6.038584841051983, 6.752048360213062, 111.77564808413958, 5.245235069203927, 5.243131556312429, 5.239006758230485, 5.233729605983418, 14.190788999554728, 7.455163435720234, 5.213389038713506, 4.438650136537308, 17.718142766297575, 56.15228232486346, 58.13061316389803, 19.260417190767576, 16.463224415076407, 8.368310803551186, 11.724037279763884, 27.968519681131838, 10.512523491195465, 63.36315017662858, 50.78449532327892, 47.2066269220305, 8.306424252942417, 14.71501333760533, 11.26585053328731, 12.416647620667629, 9.16738443983785, 9.172252786280387, 25.939609678222006, 25.161181645779823, 13.624878700364247, 16.55299246925362, 17.28821532267339, 8.913781397518223, 6.633978038211844, 6.6132418434022755, 29.335590002470557, 5.832908155431123, 41.46052119856705, 5.816821285375423, 5.76517559525434, 5.762997482070536, 6.471107702724739, 4.295796756220417, 4.292441605327004, 4.286915307496642, 4.262682314774245, 4.241537175473284, 6.352152587421122, 3.516426216379463, 3.5154122404481254, 3.5128765265923527, 3.5054600537815896, 3.5050077637542016, 4.193482714611308, 3.484101540919505, 3.481647357952868, 3.4661877081233974, 11.064219488625918, 8.974321694829364, 38.226155737316574, 6.230214370408059, 6.886627299112613, 26.31335553031191, 8.747069305894318, 27.952580498027743, 24.43222944656749, 9.090451610018947, 84.51484537127229, 79.37937359825634, 98.13460723431585, 30.194698525913502, 17.700040228135883, 22.496502435979966, 10.374160619640953, 14.890990454408403, 9.089954168391564, 10.105100429201086, 10.010532854096425, 14.35393926341657, 7.615840087559208, 11.729416596607397, 10.517804629822354], \"Total\": [120.0, 48.0, 44.0, 41.0, 26.0, 25.0, 31.0, 44.0, 28.0, 66.0, 69.0, 22.0, 18.0, 25.0, 17.0, 24.0, 32.0, 135.0, 161.0, 126.0, 14.0, 35.0, 16.0, 13.0, 19.0, 32.0, 42.0, 15.0, 11.0, 9.0, 48.422069175591446, 41.14602352439724, 22.588204285998355, 13.710577640416833, 11.290473255221755, 10.483155116548899, 28.222622547756604, 16.93202216842608, 11.287612189938583, 8.867530720179237, 12.092075276713512, 25.791922142257654, 12.089878587193258, 7.253712420063005, 7.25330151951348, 9.670498179059534, 7.2522542219503325, 24.978812807182564, 7.25187986459009, 6.445883298614881, 7.250308263593515, 120.03260580239785, 5.638926447085188, 5.638860303390079, 5.638729003072062, 5.638562334670537, 15.30419081815658, 8.054403795952773, 5.637917088825715, 4.831550522888925, 19.325047057695162, 66.67008695468581, 69.86002976050543, 24.846606683455114, 20.848896334120763, 9.646969155197644, 14.444196195547338, 42.32245894454841, 12.8421749909248, 161.49775741094442, 135.2993406945512, 126.58600052028683, 9.6450078081035, 37.2115157735853, 26.156840987695713, 42.61134614658113, 15.92678485052759, 26.87229301441627, 26.602587940327442, 25.820670187579545, 14.087254539986887, 17.221016217263973, 18.004353647716357, 9.39704974327472, 7.049469035024324, 7.050147944211073, 31.335844000432743, 6.268287868090659, 44.66479095595315, 6.268814638492745, 6.270505604044831, 6.27057603213129, 7.054799981650583, 4.703798252825472, 4.70390781860173, 4.704089092753251, 4.704882479910468, 4.705573825125278, 7.058693598448177, 3.921907375629698, 3.9219404542941825, 3.9220237437448042, 3.9222662564295425, 3.922280834586019, 4.7071472809004185, 3.9229653608236066, 3.9230454020708763, 3.923551703759596, 12.556267804513016, 10.202470992924999, 44.77065496514265, 7.062684772898371, 7.8486004990109155, 32.24217163903364, 10.209910021620733, 35.41811803711001, 32.30374264100824, 11.006071580321072, 135.2993406945512, 126.58600052028683, 161.49775741094442, 42.61134614658113, 26.87229301441627, 37.2115157735853, 14.193658911074857, 26.156840987695713, 12.620890088706915, 15.009868494727964, 16.627768023668896, 42.32245894454841, 10.246937572523047, 69.86002976050543, 66.67008695468581], \"Category\": [\"Default\", \"Default\", \"Default\", \"Default\", \"Default\", \"Default\", \"Default\", \"Default\", \"Default\", \"Default\", \"Default\", \"Default\", \"Default\", \"Default\", \"Default\", \"Default\", \"Default\", \"Default\", \"Default\", \"Default\", \"Default\", \"Default\", \"Default\", \"Default\", \"Default\", \"Default\", \"Default\", \"Default\", \"Default\", \"Default\", \"Topic1\", \"Topic1\", \"Topic1\", \"Topic1\", \"Topic1\", \"Topic1\", \"Topic1\", \"Topic1\", \"Topic1\", \"Topic1\", \"Topic1\", \"Topic1\", \"Topic1\", \"Topic1\", \"Topic1\", \"Topic1\", \"Topic1\", \"Topic1\", \"Topic1\", \"Topic1\", \"Topic1\", \"Topic1\", \"Topic1\", \"Topic1\", \"Topic1\", \"Topic1\", \"Topic1\", \"Topic1\", \"Topic1\", \"Topic1\", \"Topic1\", \"Topic1\", \"Topic1\", \"Topic1\", \"Topic1\", \"Topic1\", \"Topic1\", \"Topic1\", \"Topic1\", \"Topic1\", \"Topic1\", \"Topic1\", \"Topic1\", \"Topic1\", \"Topic1\", \"Topic1\", \"Topic1\", \"Topic1\", \"Topic2\", \"Topic2\", \"Topic2\", \"Topic2\", \"Topic2\", \"Topic2\", \"Topic2\", \"Topic2\", \"Topic2\", \"Topic2\", \"Topic2\", \"Topic2\", \"Topic2\", \"Topic2\", \"Topic2\", \"Topic2\", \"Topic2\", \"Topic2\", \"Topic2\", \"Topic2\", \"Topic2\", \"Topic2\", \"Topic2\", \"Topic2\", \"Topic2\", \"Topic2\", \"Topic2\", \"Topic2\", \"Topic2\", \"Topic2\", \"Topic2\", \"Topic2\", \"Topic2\", \"Topic2\", \"Topic2\", \"Topic2\", \"Topic2\", \"Topic2\", \"Topic2\", \"Topic2\", \"Topic2\", \"Topic2\", \"Topic2\", \"Topic2\", \"Topic2\", \"Topic2\", \"Topic2\", \"Topic2\", \"Topic2\", \"Topic2\", \"Topic2\", \"Topic2\", \"Topic2\", \"Topic2\", \"Topic2\"], \"logprob\": [30.0, 29.0, 28.0, 27.0, 26.0, 25.0, 24.0, 23.0, 22.0, 21.0, 20.0, 19.0, 18.0, 17.0, 16.0, 15.0, 14.0, 13.0, 12.0, 11.0, 10.0, 9.0, 8.0, 7.0, 6.0, 5.0, 4.0, 3.0, 2.0, 1.0, -3.96, -4.1324, -4.7346, -5.2423, -5.4382, -5.515, -4.5261, -5.0399, -5.4465, -5.6926, -5.3825, -4.6306, -5.3885, -5.9003, -5.9022, -5.6165, -5.907, -4.6718, -5.9088, -6.0278, -5.9161, -3.1094, -6.1686, -6.169, -6.1698, -6.1708, -5.1733, -5.817, -6.1747, -6.3356, -4.9513, -3.7979, -3.7632, -4.8679, -5.0248, -5.7015, -5.3643, -4.4949, -5.4734, -3.677, -3.8983, -3.9714, -5.7089, -5.1371, -5.4042, -5.3069, -5.6103, -5.6097, -4.4478, -4.4783, -5.0917, -4.897, -4.8536, -5.516, -5.8114, -5.8145, -4.3248, -5.9401, -3.9788, -5.9428, -5.9518, -5.9521, -5.8362, -6.2459, -6.2467, -6.248, -6.2537, -6.2587, -5.8548, -6.4461, -6.4464, -6.4472, -6.4493, -6.4494, -6.2701, -6.4554, -6.4561, -6.4605, -5.2999, -5.5092, -4.0601, -5.8742, -5.774, -4.4335, -5.5349, -4.3731, -4.5077, -5.4964, -3.2667, -3.3293, -3.1172, -4.2959, -4.83, -4.5902, -5.3643, -5.0028, -5.4964, -5.3905, -5.3999, -5.0396, -5.6734, -5.2415, -5.3505], \"loglift\": [30.0, 29.0, 28.0, 27.0, 26.0, 25.0, 24.0, 23.0, 22.0, 21.0, 20.0, 19.0, 18.0, 17.0, 16.0, 15.0, 14.0, 13.0, 12.0, 11.0, 10.0, 9.0, 8.0, 7.0, 6.0, 5.0, 4.0, 3.0, 2.0, 1.0, 0.6198, 0.6102, 0.6077, 0.5993, 0.5976, 0.595, 0.5936, 0.5907, 0.5895, 0.5848, 0.5848, 0.5791, 0.5789, 0.578, 0.5761, 0.5742, 0.5714, 0.5699, 0.5698, 0.5686, 0.5626, 0.5626, 0.5615, 0.5611, 0.5603, 0.5593, 0.5583, 0.5565, 0.5556, 0.549, 0.547, 0.4622, 0.45, 0.3792, 0.3977, 0.4917, 0.4252, 0.2196, 0.4337, -0.3018, -0.3461, -0.3525, 0.4844, -0.2939, -0.2085, -0.5992, 0.0815, -0.4411, 0.731, 0.7303, 0.7228, 0.7166, 0.7156, 0.7034, 0.6954, 0.6922, 0.6902, 0.6842, 0.6817, 0.6814, 0.6722, 0.6718, 0.6698, 0.6655, 0.6647, 0.6633, 0.6575, 0.6524, 0.6507, 0.6471, 0.6468, 0.646, 0.6438, 0.6437, 0.6406, 0.6376, 0.6368, 0.6322, 0.6297, 0.6279, 0.5982, 0.6308, 0.6254, 0.553, 0.6015, 0.5195, 0.4769, 0.565, 0.2856, 0.2895, 0.258, 0.4117, 0.3387, 0.2529, 0.4427, 0.1928, 0.428, 0.3605, 0.2488, -0.3251, 0.4594, -1.0282, -1.0905]}, \"token.table\": {\"Topic\": [1, 1, 2, 2, 1, 2, 1, 2, 2, 1, 2, 1, 2, 1, 2, 1, 2, 1, 2, 2, 2, 1, 2, 2, 2, 1, 1, 2, 1, 2, 1, 2, 1, 2, 1, 2, 1, 2, 1, 2, 1, 2, 1, 2, 1, 2, 1, 1, 2, 2, 1, 2, 1, 2, 1, 2, 1, 2, 1, 2, 1, 2, 2, 1, 2, 1, 2, 1, 2, 1, 2, 1, 1, 2, 1, 2, 1, 1, 2, 1, 2, 1, 2, 1, 2, 1, 2, 2, 2, 1, 2, 1, 2, 1, 2, 1, 1, 2, 1, 2, 1, 2, 1, 2, 1, 2, 1, 1, 2, 2, 1, 1, 2, 1, 2, 2, 1, 2, 1, 2, 1, 2, 1, 2, 1, 2, 1, 1, 2, 1, 2, 1, 2, 1, 2, 1, 2, 1, 2, 1, 2, 1, 2, 1, 1, 2, 1, 2, 1, 2], \"Freq\": [0.9652669557006889, 0.8690897771374964, 0.12415568244821376, 0.8503766073719861, 0.1415892160212641, 0.8495352961275846, 0.09801547102593672, 0.8821392392334304, 0.9577474043319946, 0.06716699968345301, 0.9179489956738578, 0.15947498202332022, 0.9568498921399212, 0.42098253896950016, 0.601403627099286, 0.767426713797546, 0.1918566784493865, 0.9314336956728116, 0.10349263285253463, 0.7647120266353217, 0.8501806404473928, 0.9923854859809856, 0.08269879049841547, 0.9938061359124865, 1.0198816379884388, 0.9742727121657709, 0.9098519824386193, 0.08271381658532903, 0.5650858025938529, 0.4395111797952189, 0.9650230936421931, 0.9929825870886809, 0.8292760007105153, 0.10365950008881442, 0.8307835089985276, 0.2076958772496319, 0.3349174555060016, 0.6698349110120032, 0.933079801536414, 0.06664855725260099, 0.14166927435692145, 0.8500156461415288, 0.9306656010223519, 0.10340728900248354, 0.14174746308910008, 0.8504847785346005, 0.8867246496995913, 0.3900982961620407, 0.6068195718076189, 0.7647276292468117, 0.18171788048117124, 0.8177304621652706, 0.9481730340578685, 0.9571187450906384, 0.9308266566491059, 1.019911899208931, 0.9566793431160496, 0.035432568263557396, 0.9654761901848496, 0.8500557314906236, 0.3712890825748754, 0.6240816494343651, 1.0199032970070592, 0.15635241444312198, 0.8487702498340908, 0.4031010209653377, 0.5912148307491619, 0.3169348573583706, 0.713103429056334, 0.8294446369736057, 0.10368057962170071, 0.8278915807773202, 0.05554212162050252, 0.9442160675485427, 0.12741124995800468, 0.8918787497060328, 0.9650777623359479, 0.9449550585774649, 0.059059691161091554, 0.3331141776329479, 0.6662283552658959, 0.18609168349988447, 0.8063972951661661, 0.0387286616782328, 0.96821654195582, 0.9539112880447432, 0.7646133469135535, 0.992886965690947, 1.019814788560948, 0.9305239007634194, 0.038771829198475806, 0.24764932314202925, 0.7429479694260878, 0.19763895960439276, 0.790555838417571, 0.8867508601006097, 0.29277039884037537, 0.7807210635743342, 0.09794405610650611, 0.8814965049585549, 0.9739596703416145, 0.04427089410643702, 0.058068582445065325, 0.9871659015661105, 0.8399569065818373, 0.1649915352214323, 0.9745196605713518, 0.06382467311148154, 0.9254577601164824, 0.9571991788289742, 0.9021677231740447, 0.03759032776221287, 0.9773485218175346, 0.8302315386757771, 0.17177204248464353, 0.8503240310992589, 0.7646919453452669, 0.2414816669511369, 0.2816151350562955, 0.7040378376407387, 0.8565527262923444, 0.1557368593258808, 0.15947677318954048, 0.9568606391372428, 0.8867040024016917, 0.8503567999742454, 0.8866936015071708, 0.42054007994216297, 0.5734637453756768, 0.37694196984401035, 0.6282366164066839, 0.21244289594624974, 0.849771583784999, 0.6615872682796164, 0.3307936341398082, 0.9147821120598344, 0.06534157943284531, 0.920780350032746, 0.0800678565245866, 0.2818159873405812, 0.704539968351453, 0.8868523465713856, 1.0198185789766396, 0.9652171291531898, 0.07964149981259372, 0.876056497938531, 0.9721474051139422, 0.024303685127848553, 0.9912835369744133, 0.02065174035363361], \"Term\": [\"acciz\", \"acestor\", \"acestor\", \"activ\", \"administr\", \"administr\", \"angaj\", \"angaj\", \"ansparent\", \"ban\", \"ban\", \"benefic\", \"benefic\", \"bin\", \"bin\", \"birocrat\", \"birocrat\", \"buget\", \"buget\", \"certitudin\", \"cheltu\", \"cheltuiel\", \"cheltuiel\", \"cot\", \"deoarec\", \"dependent\", \"des\", \"des\", \"dest\", \"dest\", \"eficiente\", \"europ\", \"evaziun\", \"evaziun\", \"exces\", \"exces\", \"fapt\", \"fapt\", \"fiscal\", \"fiscal\", \"folos\", \"folos\", \"fondur\", \"fondur\", \"greu\", \"greu\", \"himbar\", \"impoz\", \"impoz\", \"impun\", \"incred\", \"incred\", \"indirect\", \"instit\", \"legisl\", \"lei\", \"lips\", \"lips\", \"lucru\", \"lum\", \"mar\", \"mar\", \"merg\", \"mic\", \"mic\", \"nemultumest\", \"nemultumest\", \"nevoi\", \"nevoi\", \"nivel\", \"nivel\", \"oarb\", \"ofer\", \"ofer\", \"par\", \"par\", \"parer\", \"part\", \"part\", \"persoan\", \"persoan\", \"plat\", \"plat\", \"pozit\", \"pozit\", \"predict\", \"procent\", \"profit\", \"proven\", \"psa\", \"psa\", \"ptul\", \"ptul\", \"public\", \"public\", \"pus\", \"put\", \"put\", \"redus\", \"redus\", \"ridic\", \"ridic\", \"rocrat\", \"rocrat\", \"roman\", \"roman\", \"rupt\", \"salar\", \"salar\", \"sanat\", \"schimbar\", \"servic\", \"servic\", \"sist\", \"sist\", \"societ\", \"stabil\", \"stabil\", \"stat\", \"stat\", \"stem\", \"stem\", \"stiu\", \"stiu\", \"structur\", \"sustin\", \"taier\", \"tar\", \"tar\", \"tax\", \"tax\", \"total\", \"total\", \"transparent\", \"transparent\", \"transparente\", \"transparente\", \"treb\", \"treb\", \"trebui\", \"trebui\", \"tul\", \"valoar\", \"veder\", \"venit\", \"venit\", \"venitur\", \"venitur\", \"xel\", \"xel\"]}, \"R\": 30, \"lambda.step\": 0.01, \"plot.opts\": {\"xlab\": \"PC1\", \"ylab\": \"PC2\"}, \"topic.order\": [1, 2]};\n",
       "\n",
       "function LDAvis_load_lib(url, callback){\n",
       "  var s = document.createElement('script');\n",
       "  s.src = url;\n",
       "  s.async = true;\n",
       "  s.onreadystatechange = s.onload = callback;\n",
       "  s.onerror = function(){console.warn(\"failed to load library \" + url);};\n",
       "  document.getElementsByTagName(\"head\")[0].appendChild(s);\n",
       "}\n",
       "\n",
       "if(typeof(LDAvis) !== \"undefined\"){\n",
       "   // already loaded: just create the visualization\n",
       "   !function(LDAvis){\n",
       "       new LDAvis(\"#\" + \"ldavis_el375140480185725904381892490\", ldavis_el375140480185725904381892490_data);\n",
       "   }(LDAvis);\n",
       "}else if(typeof define === \"function\" && define.amd){\n",
       "   // require.js is available: use it to load d3/LDAvis\n",
       "   require.config({paths: {d3: \"https://d3js.org/d3.v5\"}});\n",
       "   require([\"d3\"], function(d3){\n",
       "      window.d3 = d3;\n",
       "      LDAvis_load_lib(\"https://cdn.jsdelivr.net/gh/bmabey/pyLDAvis@3.3.1/pyLDAvis/js/ldavis.v3.0.0.js\", function(){\n",
       "        new LDAvis(\"#\" + \"ldavis_el375140480185725904381892490\", ldavis_el375140480185725904381892490_data);\n",
       "      });\n",
       "    });\n",
       "}else{\n",
       "    // require.js not available: dynamically load d3 & LDAvis\n",
       "    LDAvis_load_lib(\"https://d3js.org/d3.v5.js\", function(){\n",
       "         LDAvis_load_lib(\"https://cdn.jsdelivr.net/gh/bmabey/pyLDAvis@3.3.1/pyLDAvis/js/ldavis.v3.0.0.js\", function(){\n",
       "                 new LDAvis(\"#\" + \"ldavis_el375140480185725904381892490\", ldavis_el375140480185725904381892490_data);\n",
       "            })\n",
       "         });\n",
       "}\n",
       "</script>"
      ],
      "text/plain": [
       "<IPython.core.display.HTML object>"
      ]
     },
     "metadata": {
      "tags": []
     },
     "execution_count": 82
    },
    {
     "output_type": "execute_result",
     "data": {
      "text/html": [
       "\n",
       "<link rel=\"stylesheet\" type=\"text/css\" href=\"https://cdn.jsdelivr.net/gh/bmabey/pyLDAvis@3.3.1/pyLDAvis/js/ldavis.v1.0.0.css\">\n",
       "\n",
       "\n",
       "<div id=\"ldavis_el3751404801857754407053273409\"></div>\n",
       "<script type=\"text/javascript\">\n",
       "\n",
       "var ldavis_el3751404801857754407053273409_data = {\"mdsDat\": {\"x\": [0.08850569555721499, -0.08850569555721499], \"y\": [0.0, 0.0], \"topics\": [1, 2], \"cluster\": [1, 1], \"Freq\": [57.096543745147585, 42.90345625485241]}, \"tinfo\": {\"Term\": [\"invest\", \"reduc\", \"public\", \"schimb\", \"numar\", \"incuraj\", \"roman\", \"colect\", \"xel\", \"stiu\", \"tva\", \"tar\", \"pozit\", \"impozit\", \"treb\", \"plat\", \"funct\", \"eficiente\", \"cheltuiel\", \"finant\", \"aloc\", \"bin\", \"cetatean\", \"fondur\", \"impoz\", \"stat\", \"crear\", \"firm\", \"grad\", \"birocrat\", \"invest\", \"numar\", \"incuraj\", \"reduc\", \"birocrat\", \"aferent\", \"stiu\", \"electron\", \"tva\", \"lung\", \"termen\", \"atrag\", \"compet\", \"exces\", \"autor\", \"usor\", \"crear\", \"implement\", \"activ\", \"concurente\", \"context\", \"diminu\", \"manifest\", \"esential\", \"dialog\", \"coerent\", \"precum\", \"roman\", \"perioad\", \"min\", \"trebui\", \"plat\", \"firm\", \"buget\", \"modern\", \"stat\", \"contrib\", \"strateg\", \"fiscal\", \"acestor\", \"tax\", \"mar\", \"stabil\", \"nevoi\", \"contribu\", \"cetaten\", \"ducer\", \"impoz\", \"bun\", \"munc\", \"sist\", \"cot\", \"salar\", \"mic\", \"transparent\", \"econom\", \"locur\", \"scad\", \"ban\", \"xel\", \"colect\", \"eficiente\", \"pozit\", \"neces\", \"intreb\", \"grad\", \"lte\", \"utiliz\", \"cunostint\", \"probabil\", \"impozit\", \"baze\", \"tul\", \"organiz\", \"funct\", \"tiner\", \"onlin\", \"raspund\", \"necesar\", \"sum\", \"structur\", \"puner\", \"poat\", \"pus\", \"lua\", \"constranger\", \"bin\", \"treb\", \"orient\", \"fondur\", \"ansparent\", \"tar\", \"aloc\", \"schimb\", \"cetatean\", \"public\", \"cheltuiel\", \"privest\", \"punct\", \"echilibr\", \"venit\", \"dul\", \"finant\", \"mod\", \"impoz\", \"incerc\", \"sist\", \"venitur\", \"ban\", \"tax\", \"transparent\", \"crest\", \"ministr\", \"mic\", \"fiscal\", \"persoan\", \"anum\", \"scad\", \"dezvolt\"], \"Freq\": [67.0, 72.0, 61.0, 49.0, 35.0, 36.0, 44.0, 16.0, 14.0, 25.0, 25.0, 21.0, 14.0, 15.0, 17.0, 38.0, 15.0, 11.0, 18.0, 36.0, 16.0, 13.0, 15.0, 12.0, 152.0, 54.0, 19.0, 25.0, 9.0, 15.0, 66.90598525953386, 34.69123680992949, 35.26197875668553, 70.39730966159502, 14.619891056025182, 12.992813072905262, 25.147539381250358, 12.975901518019022, 25.126734608325577, 10.418681376687916, 10.415949235612905, 12.010183430487837, 8.80649240051991, 8.799264509686898, 8.791553597558122, 8.771934799601809, 18.197983345422386, 16.608015008726543, 7.112888608077164, 7.08272218529633, 7.082054088830539, 13.376607519663512, 7.080530330928437, 7.080059758635141, 6.289689190601916, 6.289631095257064, 7.85120657705704, 41.59164584388018, 6.271496633361703, 6.266205392345988, 16.316653575360846, 35.01005078353796, 22.94325758915993, 18.998538857341558, 10.06642855251648, 45.5221942911558, 14.3059670505862, 10.693923841657842, 118.8639519757209, 9.944713825451828, 124.02450502339215, 32.31331799128023, 23.38949125269746, 19.496545432343652, 24.845543180042867, 24.668156513940623, 20.67782131734494, 76.10986143790626, 16.193011742714123, 24.00377483048612, 48.2385234731654, 20.169435594018395, 19.054725355147834, 26.6255463693486, 26.996740765742082, 19.528366742519253, 17.891077257641456, 18.162206572195906, 18.4179937361086, 13.895183683006453, 16.20724536896206, 11.526844539890693, 13.784853874148654, 7.547764773385295, 8.258109112559167, 8.993006318090748, 6.71599440856709, 5.922328351166078, 5.170381773930619, 5.166635639257617, 14.739994113749825, 5.1500290435846745, 5.143387403120638, 5.138566445223245, 13.896904896873188, 9.508327771740204, 5.108669708711889, 5.837262968456548, 4.362213866074141, 4.362206694349696, 4.3579569798950315, 4.355435339217442, 5.773001822918874, 5.769091674025963, 4.317921607717566, 4.313046394165678, 12.175229545259544, 15.752167647904802, 3.5786749072173074, 10.700106854748054, 8.515512280932096, 18.654305101352502, 13.804745119617285, 40.42607275813785, 13.107155848275427, 48.89157379818985, 15.529803030655994, 7.749701201274435, 10.824818777444502, 7.031321412581398, 11.13415707973335, 11.109546215951871, 25.21169963015124, 13.04668511501385, 76.63367982408718, 28.361570896535735, 44.97194076742097, 20.524652171590137, 24.711734397608495, 68.58088845158579, 26.9196202379081, 16.50331161563066, 14.846701889948926, 20.9038281028936, 37.65754764923662, 11.972453090168052, 12.238260895961998, 13.810432608916066, 11.618118765084725], \"Total\": [67.0, 72.0, 61.0, 49.0, 35.0, 36.0, 44.0, 16.0, 14.0, 25.0, 25.0, 21.0, 14.0, 15.0, 17.0, 38.0, 15.0, 11.0, 18.0, 36.0, 16.0, 13.0, 15.0, 12.0, 152.0, 54.0, 19.0, 25.0, 9.0, 15.0, 67.89688137861069, 35.2057515615092, 36.03093518318689, 72.05539192939372, 15.075510982836521, 13.40031961539446, 25.961785793294908, 13.399455144744184, 25.96072368641711, 10.880705341614297, 10.880564570646396, 12.554078125674488, 9.20627406033981, 9.205904325890893, 9.205510209719804, 9.204506869816225, 19.238458531027977, 17.565163487079293, 7.52768111590429, 7.526137513103552, 7.526103100855274, 14.215941793118644, 7.526025341894343, 7.526000936610388, 6.68959054806187, 6.689587254046199, 8.361430103929187, 44.31457406420411, 6.688659746908684, 6.688389726400128, 17.550267353846525, 38.4060581273786, 25.053083973405517, 20.871391509830307, 10.862694437982235, 54.06754593480369, 15.855459744054325, 11.690777403095966, 156.52149962495753, 10.85647066686274, 192.60539347497794, 43.04417844770373, 29.851903462950133, 24.080858561862144, 32.31434913817627, 32.3052803502791, 26.529255613304283, 152.74354126199344, 19.931946004373472, 34.65931347139353, 93.21046424058636, 28.0952637459759, 25.650266598082222, 47.529374472242196, 53.91636100365018, 29.654489932172773, 25.590770336176863, 31.972639181111973, 43.129728133717094, 14.351332562043119, 16.74342836615806, 11.962272521156708, 14.35727928913429, 7.982219968850111, 8.78283622645891, 9.58212999505367, 7.188147206468381, 6.392020499987851, 5.593646353593435, 5.593847927280194, 15.983597693216613, 5.594743098887592, 5.595100235740309, 5.59536044194198, 15.190134661070594, 10.39325442679524, 5.5969709376481225, 6.396603963139717, 4.7983005551832525, 4.7983011122145065, 4.798530082010291, 4.798666199617966, 6.400066480316524, 6.400277418078165, 4.800687698931396, 4.800949929343897, 13.605120931334994, 17.606842443815026, 4.001628780526856, 12.006822415835838, 9.60785923551055, 21.64492854931071, 16.0339917262906, 49.83301042530282, 15.23269023035329, 61.12135099274797, 18.45771753344811, 8.810230995344778, 12.838994550127596, 8.010048085241682, 13.661216607818108, 13.662543033195657, 36.39164995676932, 16.91373078573266, 152.74354126199344, 46.28862909104415, 93.21046424058636, 33.28863764032774, 43.129728133717094, 192.60539347497794, 53.91636100365018, 29.31086029367183, 24.3667711119435, 47.529374472242196, 156.52149962495753, 16.971615609975146, 18.63507831743663, 31.972639181111973, 27.057416442499857], \"Category\": [\"Default\", \"Default\", \"Default\", \"Default\", \"Default\", \"Default\", \"Default\", \"Default\", \"Default\", \"Default\", \"Default\", \"Default\", \"Default\", \"Default\", \"Default\", \"Default\", \"Default\", \"Default\", \"Default\", \"Default\", \"Default\", \"Default\", \"Default\", \"Default\", \"Default\", \"Default\", \"Default\", \"Default\", \"Default\", \"Default\", \"Topic1\", \"Topic1\", \"Topic1\", \"Topic1\", \"Topic1\", \"Topic1\", \"Topic1\", \"Topic1\", \"Topic1\", \"Topic1\", \"Topic1\", \"Topic1\", \"Topic1\", \"Topic1\", \"Topic1\", \"Topic1\", \"Topic1\", \"Topic1\", \"Topic1\", \"Topic1\", \"Topic1\", \"Topic1\", \"Topic1\", \"Topic1\", \"Topic1\", \"Topic1\", \"Topic1\", \"Topic1\", \"Topic1\", \"Topic1\", \"Topic1\", \"Topic1\", \"Topic1\", \"Topic1\", \"Topic1\", \"Topic1\", \"Topic1\", \"Topic1\", \"Topic1\", \"Topic1\", \"Topic1\", \"Topic1\", \"Topic1\", \"Topic1\", \"Topic1\", \"Topic1\", \"Topic1\", \"Topic1\", \"Topic1\", \"Topic1\", \"Topic1\", \"Topic1\", \"Topic1\", \"Topic1\", \"Topic1\", \"Topic1\", \"Topic1\", \"Topic1\", \"Topic1\", \"Topic2\", \"Topic2\", \"Topic2\", \"Topic2\", \"Topic2\", \"Topic2\", \"Topic2\", \"Topic2\", \"Topic2\", \"Topic2\", \"Topic2\", \"Topic2\", \"Topic2\", \"Topic2\", \"Topic2\", \"Topic2\", \"Topic2\", \"Topic2\", \"Topic2\", \"Topic2\", \"Topic2\", \"Topic2\", \"Topic2\", \"Topic2\", \"Topic2\", \"Topic2\", \"Topic2\", \"Topic2\", \"Topic2\", \"Topic2\", \"Topic2\", \"Topic2\", \"Topic2\", \"Topic2\", \"Topic2\", \"Topic2\", \"Topic2\", \"Topic2\", \"Topic2\", \"Topic2\", \"Topic2\", \"Topic2\", \"Topic2\", \"Topic2\", \"Topic2\", \"Topic2\", \"Topic2\", \"Topic2\", \"Topic2\", \"Topic2\", \"Topic2\", \"Topic2\", \"Topic2\", \"Topic2\", \"Topic2\", \"Topic2\", \"Topic2\", \"Topic2\", \"Topic2\", \"Topic2\"], \"logprob\": [30.0, 29.0, 28.0, 27.0, 26.0, 25.0, 24.0, 23.0, 22.0, 21.0, 20.0, 19.0, 18.0, 17.0, 16.0, 15.0, 14.0, 13.0, 12.0, 11.0, 10.0, 9.0, 8.0, 7.0, 6.0, 5.0, 4.0, 3.0, 2.0, 1.0, -3.9755, -4.6323, -4.616, -3.9246, -5.4964, -5.6144, -4.954, -5.6157, -4.9549, -5.8352, -5.8355, -5.693, -6.0033, -6.0041, -6.005, -6.0072, -5.2775, -5.3689, -6.2169, -6.2211, -6.2212, -5.5853, -6.2214, -6.2215, -6.3399, -6.3399, -6.1181, -4.4509, -6.3428, -6.3436, -5.3866, -4.6232, -5.0458, -5.2344, -5.8696, -4.3606, -5.5181, -5.8091, -3.4008, -5.8817, -3.3583, -4.7033, -5.0265, -5.2086, -4.9661, -4.9733, -5.1497, -3.8466, -5.3942, -5.0006, -4.3026, -5.1746, -5.2315, -4.8969, -4.8831, -5.2069, -5.2945, -5.2794, -5.2655, -5.2615, -5.1075, -5.4483, -5.2694, -5.8717, -5.7818, -5.6966, -5.9885, -6.1143, -6.2501, -6.2508, -5.2024, -6.254, -6.2553, -6.2562, -5.2613, -5.6408, -6.2621, -6.1287, -6.42, -6.42, -6.421, -6.4216, -6.1398, -6.1405, -6.4302, -6.4314, -5.3936, -5.136, -6.618, -5.5227, -5.7511, -4.9669, -5.268, -4.1935, -5.3198, -4.0034, -5.1502, -5.8453, -5.5112, -5.9426, -5.483, -5.4852, -4.6657, -5.3245, -3.554, -4.548, -4.087, -4.8714, -4.6857, -3.665, -4.6001, -5.0894, -5.1952, -4.8531, -4.2645, -5.4104, -5.3884, -5.2676, -5.4404], \"loglift\": [30.0, 29.0, 28.0, 27.0, 26.0, 25.0, 24.0, 23.0, 22.0, 21.0, 20.0, 19.0, 18.0, 17.0, 16.0, 15.0, 14.0, 13.0, 12.0, 11.0, 10.0, 9.0, 8.0, 7.0, 6.0, 5.0, 4.0, 3.0, 2.0, 1.0, 0.5457, 0.5457, 0.5389, 0.5371, 0.5297, 0.5295, 0.5286, 0.5283, 0.5278, 0.517, 0.5168, 0.5161, 0.516, 0.5152, 0.5144, 0.5123, 0.5048, 0.5044, 0.5037, 0.4997, 0.4996, 0.4996, 0.4994, 0.4993, 0.4988, 0.4988, 0.4975, 0.497, 0.496, 0.4952, 0.4875, 0.4678, 0.4725, 0.4664, 0.4843, 0.3884, 0.4576, 0.4713, 0.2852, 0.4727, 0.1203, 0.2737, 0.3165, 0.3492, 0.2976, 0.2907, 0.3112, -0.1362, 0.3527, 0.1931, -0.0983, 0.229, 0.2632, -0.0191, -0.1313, 0.1427, 0.2025, -0.0051, -0.2905, 0.8139, 0.8137, 0.8091, 0.8055, 0.7903, 0.7846, 0.7828, 0.7783, 0.7699, 0.7675, 0.7668, 0.7652, 0.7634, 0.762, 0.7611, 0.7572, 0.7572, 0.7549, 0.7547, 0.7509, 0.7509, 0.7499, 0.7493, 0.7431, 0.7424, 0.7402, 0.739, 0.7352, 0.7349, 0.7345, 0.731, 0.7255, 0.6975, 0.6965, 0.637, 0.6959, 0.623, 0.6735, 0.718, 0.6756, 0.7159, 0.6417, 0.6394, 0.4792, 0.5866, 0.1565, 0.3564, 0.1174, 0.3626, 0.2893, -0.1864, 0.1516, 0.2718, 0.3508, 0.0248, -0.5784, 0.4973, 0.4257, 0.0068, 0.0008]}, \"token.table\": {\"Topic\": [1, 2, 1, 1, 1, 2, 1, 2, 1, 2, 1, 2, 1, 1, 2, 2, 1, 2, 1, 1, 2, 1, 2, 1, 2, 1, 2, 1, 2, 1, 1, 2, 1, 1, 2, 1, 1, 2, 1, 2, 1, 2, 1, 2, 1, 2, 2, 1, 2, 1, 1, 2, 1, 2, 1, 2, 1, 2, 1, 2, 2, 1, 1, 1, 1, 2, 1, 2, 1, 2, 1, 2, 1, 2, 1, 2, 1, 2, 1, 2, 1, 2, 1, 2, 1, 2, 1, 2, 1, 2, 1, 2, 2, 2, 1, 1, 1, 2, 1, 2, 1, 1, 2, 1, 2, 1, 2, 1, 2, 2, 2, 1, 2, 1, 2, 2, 2, 2, 1, 1, 2, 1, 2, 1, 2, 1, 2, 1, 2, 1, 2, 2, 1, 2, 1, 2, 2, 1, 2, 1, 2, 1, 2, 1, 2, 1, 2, 1, 2, 1, 2, 1, 2, 1, 2, 1, 2, 1, 2, 1, 2, 2, 2, 1, 2, 1, 2, 1, 1, 2, 1, 2, 1, 2, 1, 2, 2, 1, 2, 1, 2, 1, 2, 1, 2, 2], \"Freq\": [0.9211096595621125, 0.09211096595621125, 0.9299012394680988, 0.9701261143850205, 0.12473500262075361, 0.8731450183452754, 0.10408145826117125, 0.9367331243505413, 0.3219734254825143, 0.6439468509650286, 0.9558646903318742, 0.07965539086098951, 0.9776753047861689, 0.4173455474653994, 0.5796465937019436, 0.893696084274925, 0.07350173548967312, 0.8820208258760774, 0.9949911493598798, 0.9103370032156748, 0.09582494770691313, 0.8027314541434778, 0.20068286353586945, 0.13129657137087428, 0.8534277139106827, 0.7738672975108236, 0.24763753520346357, 0.16253363908964133, 0.8668460751447538, 0.8969163226581578, 0.059724924796238706, 0.9555987967398193, 0.9775941864224498, 0.9300919612234685, 0.8331684476756549, 0.930096213962909, 0.8829766040212043, 0.12613951486017203, 0.773650117262146, 0.2166220328334009, 0.7118637568534879, 0.28474550274139515, 0.9356258959609172, 0.05197921644227317, 0.44352161177632443, 0.5799898000151935, 0.8938713111149638, 0.5543766542484474, 0.443501323398758, 0.8969158810083436, 0.9144663216258221, 0.07034356320198631, 0.7915789385914247, 0.22616541102612134, 0.21957844836872237, 0.805120977351982, 0.12484319561607572, 0.8739023693125301, 0.6744341260208824, 0.3372170630104412, 1.003153872207523, 0.9701887024189288, 0.930108839868509, 0.9776334492949483, 0.3022671413103614, 0.6869707757053668, 0.9180506489506475, 0.07983049121309978, 0.7602789411367569, 0.24277814927056102, 0.0832859823662501, 0.9161458060287511, 0.06583220111687413, 0.9216508156362379, 0.10436093024371446, 0.9392483721934302, 0.9678247522435519, 0.05693086777903247, 0.4975660468002438, 0.504112968468668, 0.06256413726081186, 0.9384620589121779, 0.38886440046855075, 0.6049001785066345, 0.9713874986051443, 0.02775392853157555, 0.1138584364111709, 0.9108674912893672, 0.9867905364664771, 0.014728216962186225, 0.7033785917164819, 0.3126127074295475, 0.9738253542861403, 0.8332139582606832, 0.9190580652666004, 0.930105823725284, 0.7434222502092406, 0.25555139850942643, 0.568069752648825, 0.441832029837975, 0.8970769116992472, 0.410394957709372, 0.615592436564058, 0.23649424545494976, 0.7686062977285867, 0.9205819106016866, 0.09205819106016866, 0.6924545698173935, 0.31737501116630534, 1.0022274544198573, 0.8336284803333324, 0.789008413100814, 0.20763379292126685, 0.9941557401167895, 0.028404449717622557, 0.8933403542204253, 0.8935974816779902, 0.9995929706086727, 0.8970406967962508, 0.29460954778290094, 0.7070629146789622, 0.9113145609455161, 0.0781126766524728, 0.15624837696225674, 0.9374902617735404, 0.06965107941842494, 0.9751151118579492, 0.9567741284162209, 0.11959676605202761, 0.11350440193093554, 0.9080352154474843, 0.8938391005618683, 0.19633073885136793, 0.8016838503097524, 0.15577543803693908, 0.856764909203165, 0.8335649602630103, 0.15624322739127045, 0.9374593643476227, 0.1563329550746735, 0.9379977304480411, 0.9714748352016769, 0.027756423862905052, 0.947769461557936, 0.0676978186827097, 0.7407330417930456, 0.2729016469763852, 0.5629813634726034, 0.43787439381202486, 0.18060317695417075, 0.802680786462981, 0.5149636405211626, 0.48277841298859, 0.770470131948062, 0.20099220833427706, 0.8507876435795368, 0.166458452004692, 0.9629537890439221, 0.038518151561756885, 0.9409126203264264, 0.08553751093876603, 0.8335886056015396, 0.833628383558014, 0.1386005961241917, 0.8778037754532141, 0.6438033627345399, 0.35824541958615524, 0.9190699558897905, 0.09621625324805505, 0.9621625324805505, 0.5007756365117461, 0.5007756365117461, 0.11359220180348492, 0.9087376144278794, 0.9116670234937048, 0.05697918896835655, 0.8936390393975545, 0.9629931854742643, 0.03851972741897057, 0.9777818765623554, 0.9386703312374239, 0.21959976817021884, 0.8051991499574691, 0.39052364174408455, 0.6308458828173674, 0.9755191679571042], \"Term\": [\"acestor\", \"acestor\", \"activ\", \"aferent\", \"aloc\", \"aloc\", \"ansparent\", \"ansparent\", \"anum\", \"anum\", \"atrag\", \"atrag\", \"autor\", \"ban\", \"ban\", \"baze\", \"bin\", \"bin\", \"birocrat\", \"buget\", \"buget\", \"bun\", \"bun\", \"cetatean\", \"cetatean\", \"cetaten\", \"cetaten\", \"cheltuiel\", \"cheltuiel\", \"coerent\", \"colect\", \"colect\", \"compet\", \"concurente\", \"constranger\", \"context\", \"contrib\", \"contrib\", \"contribu\", \"contribu\", \"cot\", \"cot\", \"crear\", \"crear\", \"crest\", \"crest\", \"cunostint\", \"dezvolt\", \"dezvolt\", \"dialog\", \"diminu\", \"diminu\", \"ducer\", \"ducer\", \"dul\", \"dul\", \"echilibr\", \"echilibr\", \"econom\", \"econom\", \"eficiente\", \"electron\", \"esential\", \"exces\", \"finant\", \"finant\", \"firm\", \"firm\", \"fiscal\", \"fiscal\", \"fondur\", \"fondur\", \"funct\", \"funct\", \"grad\", \"grad\", \"implement\", \"implement\", \"impoz\", \"impoz\", \"impozit\", \"impozit\", \"incerc\", \"incerc\", \"incuraj\", \"incuraj\", \"intreb\", \"intreb\", \"invest\", \"invest\", \"locur\", \"locur\", \"lte\", \"lua\", \"lung\", \"manifest\", \"mar\", \"mar\", \"mic\", \"mic\", \"min\", \"ministr\", \"ministr\", \"mod\", \"mod\", \"modern\", \"modern\", \"munc\", \"munc\", \"neces\", \"necesar\", \"nevoi\", \"nevoi\", \"numar\", \"numar\", \"onlin\", \"organiz\", \"orient\", \"perioad\", \"persoan\", \"persoan\", \"plat\", \"plat\", \"poat\", \"poat\", \"pozit\", \"pozit\", \"precum\", \"precum\", \"privest\", \"privest\", \"probabil\", \"public\", \"public\", \"punct\", \"punct\", \"puner\", \"pus\", \"pus\", \"raspund\", \"raspund\", \"reduc\", \"reduc\", \"roman\", \"roman\", \"salar\", \"salar\", \"scad\", \"scad\", \"schimb\", \"schimb\", \"sist\", \"sist\", \"stabil\", \"stabil\", \"stat\", \"stat\", \"stiu\", \"stiu\", \"strateg\", \"strateg\", \"structur\", \"sum\", \"tar\", \"tar\", \"tax\", \"tax\", \"termen\", \"tiner\", \"tiner\", \"transparent\", \"transparent\", \"treb\", \"treb\", \"trebui\", \"trebui\", \"tul\", \"tva\", \"tva\", \"usor\", \"utiliz\", \"venit\", \"venit\", \"venitur\", \"venitur\", \"xel\"]}, \"R\": 30, \"lambda.step\": 0.01, \"plot.opts\": {\"xlab\": \"PC1\", \"ylab\": \"PC2\"}, \"topic.order\": [2, 1]};\n",
       "\n",
       "function LDAvis_load_lib(url, callback){\n",
       "  var s = document.createElement('script');\n",
       "  s.src = url;\n",
       "  s.async = true;\n",
       "  s.onreadystatechange = s.onload = callback;\n",
       "  s.onerror = function(){console.warn(\"failed to load library \" + url);};\n",
       "  document.getElementsByTagName(\"head\")[0].appendChild(s);\n",
       "}\n",
       "\n",
       "if(typeof(LDAvis) !== \"undefined\"){\n",
       "   // already loaded: just create the visualization\n",
       "   !function(LDAvis){\n",
       "       new LDAvis(\"#\" + \"ldavis_el3751404801857754407053273409\", ldavis_el3751404801857754407053273409_data);\n",
       "   }(LDAvis);\n",
       "}else if(typeof define === \"function\" && define.amd){\n",
       "   // require.js is available: use it to load d3/LDAvis\n",
       "   require.config({paths: {d3: \"https://d3js.org/d3.v5\"}});\n",
       "   require([\"d3\"], function(d3){\n",
       "      window.d3 = d3;\n",
       "      LDAvis_load_lib(\"https://cdn.jsdelivr.net/gh/bmabey/pyLDAvis@3.3.1/pyLDAvis/js/ldavis.v3.0.0.js\", function(){\n",
       "        new LDAvis(\"#\" + \"ldavis_el3751404801857754407053273409\", ldavis_el3751404801857754407053273409_data);\n",
       "      });\n",
       "    });\n",
       "}else{\n",
       "    // require.js not available: dynamically load d3 & LDAvis\n",
       "    LDAvis_load_lib(\"https://d3js.org/d3.v5.js\", function(){\n",
       "         LDAvis_load_lib(\"https://cdn.jsdelivr.net/gh/bmabey/pyLDAvis@3.3.1/pyLDAvis/js/ldavis.v3.0.0.js\", function(){\n",
       "                 new LDAvis(\"#\" + \"ldavis_el3751404801857754407053273409\", ldavis_el3751404801857754407053273409_data);\n",
       "            })\n",
       "         });\n",
       "}\n",
       "</script>"
      ],
      "text/plain": [
       "<IPython.core.display.HTML object>"
      ]
     },
     "metadata": {
      "tags": []
     },
     "execution_count": 82
    },
    {
     "output_type": "execute_result",
     "data": {
      "text/html": [
       "\n",
       "<link rel=\"stylesheet\" type=\"text/css\" href=\"https://cdn.jsdelivr.net/gh/bmabey/pyLDAvis@3.3.1/pyLDAvis/js/ldavis.v1.0.0.css\">\n",
       "\n",
       "\n",
       "<div id=\"ldavis_el3751404801855373608638722875\"></div>\n",
       "<script type=\"text/javascript\">\n",
       "\n",
       "var ldavis_el3751404801855373608638722875_data = {\"mdsDat\": {\"x\": [0.0951835375302885, -0.0951835375302885], \"y\": [0.0, 0.0], \"topics\": [1, 2], \"cluster\": [1, 1], \"Freq\": [52.38321629257017, 47.61678370742983]}, \"tinfo\": {\"Term\": [\"public\", \"servic\", \"mic\", \"rvic\", \"tax\", \"impoz\", \"sigur\", \"asigur\", \"benef\", \"gratuit\", \"buget\", \"sanat\", \"protect\", \"calitat\", \"obiect\", \"igur\", \"pozit\", \"etc\", \"administr\", \"putin\", \"medic\", \"platit\", \"gurant\", \"ban\", \"persoan\", \"societ\", \"invest\", \"facil\", \"opin\", \"cred\", \"mic\", \"obiect\", \"putin\", \"fizic\", \"pozit\", \"cred\", \"facil\", \"persoan\", \"actiun\", \"jurid\", \"membr\", \"exist\", \"benef\", \"societ\", \"realiz\", \"lucrur\", \"cilitat\", \"abil\", \"gurant\", \"dator\", \"rocrat\", \"mentan\", \"instabil\", \"platit\", \"pens\", \"polit\", \"economico\", \"arte\", \"ocup\", \"ansparent\", \"tax\", \"opin\", \"viitor\", \"impoz\", \"bun\", \"stiu\", \"lte\", \"ofer\", \"actual\", \"fiscal\", \"stem\", \"tar\", \"sist\", \"stat\", \"plat\", \"stabil\", \"social\", \"econom\", \"dezvolt\", \"roman\", \"mar\", \"veder\", \"rvic\", \"public\", \"asigur\", \"servic\", \"gratuit\", \"calitat\", \"buget\", \"protect\", \"sigur\", \"administr\", \"igur\", \"etc\", \"medic\", \"invatam\", \"transport\", \"colect\", \"educat\", \"gratuitat\", \"sanat\", \"relat\", \"secur\", \"slab\", \"serviciu\", \"invest\", \"cultur\", \"proast\", \"lips\", \"feroviar\", \"nejustific\", \"nevo\", \"ban\", \"locur\", \"put\", \"drumur\", \"schimb\", \"financiar\", \"cheltuiel\", \"incred\", \"mar\", \"benefic\", \"nevoi\", \"ofer\", \"fiscal\", \"anum\", \"sist\", \"moment\", \"stat\", \"econom\", \"actual\", \"social\", \"plat\", \"impoz\", \"stem\"], \"Freq\": [80.0, 62.0, 70.0, 28.0, 73.0, 90.0, 25.0, 14.0, 22.0, 13.0, 13.0, 15.0, 12.0, 11.0, 13.0, 10.0, 14.0, 10.0, 10.0, 11.0, 10.0, 16.0, 14.0, 14.0, 11.0, 11.0, 9.0, 10.0, 14.0, 9.0, 68.15848117135577, 12.964954903880617, 11.381682899563488, 8.23856436020591, 13.469174384100505, 8.878577270336024, 9.610598437602569, 10.348350273831112, 5.91257531203898, 5.909543359852568, 5.9073640982762035, 5.893702426536624, 21.350994555354387, 10.28980767287862, 7.327037117962406, 5.850013794021552, 5.1025682377025925, 6.542434833232572, 13.744517983125908, 4.329565485581836, 4.3258303086681735, 4.324697798323451, 4.305276054497388, 15.043499997741195, 5.014114818316321, 5.720655237904726, 3.542142216083766, 3.5345946790546705, 3.5345667460864103, 3.5237069470841527, 63.61739989932709, 13.113830763978081, 9.718163887903668, 74.44291681864419, 12.295719208429658, 8.252382848609406, 11.181409397763229, 74.0391374315587, 37.72484774132737, 63.928363423456986, 26.822171142738444, 11.248058440136058, 33.707863441774144, 28.048847933934265, 20.73983101086417, 12.215395752963307, 20.29059047290927, 17.786712521612017, 12.873662122773306, 10.21574120230254, 12.188547759996647, 9.94246268272009, 28.5306852906415, 79.38917797641982, 14.450401587708896, 60.68006065900495, 12.87159621467563, 11.312571112006234, 12.807652895850493, 12.042443666313686, 24.805706328361826, 9.767869376900117, 10.471682436200668, 10.412169676988157, 9.662027735641322, 6.62593263752269, 5.075034979065276, 5.793842270877489, 5.068643498136061, 5.062791471026563, 14.453879750734774, 5.7616848540389745, 4.295763422376709, 4.295168731336808, 4.281973717634254, 8.53395986116809, 4.950332499881828, 4.236975874409861, 3.515044338696264, 3.5125920733968967, 3.5114648331898035, 3.5023573737809817, 12.18621278661312, 8.19988604440869, 4.858672569444224, 5.509005753991725, 6.13713803063916, 15.842382209153891, 9.421909757648852, 6.613950615356954, 20.769071842411936, 10.330191405772434, 11.524527016933126, 46.26034869264657, 41.42456526904748, 13.876788001923163, 22.894491382557977, 11.690106820899706, 18.337087512081816, 14.433801021197322, 18.127624409446522, 14.297246594592446, 12.28691469362594, 16.130184162933002, 12.512619320841601], \"Total\": [80.0, 62.0, 70.0, 28.0, 73.0, 90.0, 25.0, 14.0, 22.0, 13.0, 13.0, 15.0, 12.0, 11.0, 13.0, 10.0, 14.0, 10.0, 10.0, 11.0, 10.0, 16.0, 14.0, 14.0, 11.0, 11.0, 9.0, 10.0, 14.0, 9.0, 70.1809443240748, 13.404914991568145, 11.827396428172673, 8.672551310951375, 14.191349253132863, 9.460084822849627, 10.248361368135502, 11.03668516243388, 6.3066709112450905, 6.306646213645939, 6.306628692977491, 6.306517735910774, 22.86101555722085, 11.036210689201464, 7.8828240045868805, 6.306165069145248, 5.517763285683275, 7.094121692642628, 14.975936812508237, 4.7291551000958485, 4.729125048818424, 4.729115936575762, 4.728958785798913, 16.551154485638016, 5.517048093308136, 6.305119819226752, 3.9404307490586095, 3.940369442321085, 3.9403696291070522, 3.9402814778197515, 73.27369365514399, 14.970835723707234, 11.031589832130809, 90.5731009815772, 14.18186358365251, 9.4550226408136, 13.39049595349373, 120.29948612420527, 55.85247215077389, 105.35292869250446, 39.33479046358005, 14.173394670745745, 56.602354824332124, 46.38593544601608, 33.02674570449011, 16.528293404672418, 34.58783706750172, 32.22051354280934, 20.445409208612766, 16.512126802352327, 32.957619602408585, 15.727559208888682, 28.95068356370558, 80.59273864371113, 14.868202528526357, 62.6042879869911, 13.303599293414598, 11.738834670217601, 13.304118710887348, 12.52162096483407, 25.82610488717259, 10.17395354014962, 10.956951663946901, 10.95743671532282, 10.174814398116563, 7.044617754795999, 5.479786690723563, 6.26266354392845, 5.479838506357782, 5.479886308060834, 15.656909079064057, 6.262925613979069, 4.697401986345451, 4.697407119045032, 4.6975149670785825, 9.395273550034387, 5.4808029058718155, 4.697880999386758, 3.9150298345038923, 3.9150494531260187, 3.915058919334538, 3.9151331062262837, 14.09791940660271, 9.397995249907591, 5.481549767420423, 6.264984648344627, 7.048600831034836, 21.16674311536269, 11.754242039871206, 7.833450838944257, 32.957619602408585, 14.113046220863934, 17.25825341382737, 120.29948612420527, 105.35292869250446, 22.760231489361345, 56.602354824332124, 19.62311146120387, 46.38593544601608, 32.22051354280934, 55.85247215077389, 34.58783706750172, 33.02674570449011, 90.5731009815772, 39.33479046358005], \"Category\": [\"Default\", \"Default\", \"Default\", \"Default\", \"Default\", \"Default\", \"Default\", \"Default\", \"Default\", \"Default\", \"Default\", \"Default\", \"Default\", \"Default\", \"Default\", \"Default\", \"Default\", \"Default\", \"Default\", \"Default\", \"Default\", \"Default\", \"Default\", \"Default\", \"Default\", \"Default\", \"Default\", \"Default\", \"Default\", \"Default\", \"Topic1\", \"Topic1\", \"Topic1\", \"Topic1\", \"Topic1\", \"Topic1\", \"Topic1\", \"Topic1\", \"Topic1\", \"Topic1\", \"Topic1\", \"Topic1\", \"Topic1\", \"Topic1\", \"Topic1\", \"Topic1\", \"Topic1\", \"Topic1\", \"Topic1\", \"Topic1\", \"Topic1\", \"Topic1\", \"Topic1\", \"Topic1\", \"Topic1\", \"Topic1\", \"Topic1\", \"Topic1\", \"Topic1\", \"Topic1\", \"Topic1\", \"Topic1\", \"Topic1\", \"Topic1\", \"Topic1\", \"Topic1\", \"Topic1\", \"Topic1\", \"Topic1\", \"Topic1\", \"Topic1\", \"Topic1\", \"Topic1\", \"Topic1\", \"Topic1\", \"Topic1\", \"Topic1\", \"Topic1\", \"Topic1\", \"Topic1\", \"Topic1\", \"Topic1\", \"Topic2\", \"Topic2\", \"Topic2\", \"Topic2\", \"Topic2\", \"Topic2\", \"Topic2\", \"Topic2\", \"Topic2\", \"Topic2\", \"Topic2\", \"Topic2\", \"Topic2\", \"Topic2\", \"Topic2\", \"Topic2\", \"Topic2\", \"Topic2\", \"Topic2\", \"Topic2\", \"Topic2\", \"Topic2\", \"Topic2\", \"Topic2\", \"Topic2\", \"Topic2\", \"Topic2\", \"Topic2\", \"Topic2\", \"Topic2\", \"Topic2\", \"Topic2\", \"Topic2\", \"Topic2\", \"Topic2\", \"Topic2\", \"Topic2\", \"Topic2\", \"Topic2\", \"Topic2\", \"Topic2\", \"Topic2\", \"Topic2\", \"Topic2\", \"Topic2\", \"Topic2\", \"Topic2\", \"Topic2\", \"Topic2\", \"Topic2\", \"Topic2\", \"Topic2\", \"Topic2\"], \"logprob\": [30.0, 29.0, 28.0, 27.0, 26.0, 25.0, 24.0, 23.0, 22.0, 21.0, 20.0, 19.0, 18.0, 17.0, 16.0, 15.0, 14.0, 13.0, 12.0, 11.0, 10.0, 9.0, 8.0, 7.0, 6.0, 5.0, 4.0, 3.0, 2.0, 1.0, -3.4301, -5.0897, -5.22, -5.5431, -5.0516, -5.4683, -5.3891, -5.3151, -5.8749, -5.8754, -5.8758, -5.8781, -4.5909, -5.3208, -5.6604, -5.8855, -6.0222, -5.7736, -5.0313, -6.1865, -6.1874, -6.1876, -6.1921, -4.941, -6.0397, -5.9079, -6.3872, -6.3894, -6.3894, -6.3924, -3.4991, -5.0783, -5.378, -3.3419, -5.1427, -5.5415, -5.2377, -3.3474, -4.0216, -3.4942, -4.3627, -5.2318, -4.1342, -4.318, -4.6199, -5.1493, -4.6418, -4.7735, -5.0968, -5.328, -5.1515, -5.3551, -4.2056, -3.1822, -4.8858, -3.4509, -5.0015, -5.1306, -5.0065, -5.0681, -4.3455, -5.2775, -5.2079, -5.2136, -5.2884, -5.6656, -5.9322, -5.7998, -5.9335, -5.9346, -4.8856, -5.8053, -6.0989, -6.0991, -6.1021, -5.4125, -5.9571, -6.1127, -6.2995, -6.3002, -6.3005, -6.3031, -5.0562, -5.4524, -5.9758, -5.8502, -5.7422, -4.7939, -5.3135, -5.6674, -4.5231, -5.2215, -5.1121, -3.7223, -3.8327, -4.9263, -4.4257, -5.0978, -4.6476, -4.887, -4.6591, -4.8965, -5.048, -4.7759, -5.0298], \"loglift\": [30.0, 29.0, 28.0, 27.0, 26.0, 25.0, 24.0, 23.0, 22.0, 21.0, 20.0, 19.0, 18.0, 17.0, 16.0, 15.0, 14.0, 13.0, 12.0, 11.0, 10.0, 9.0, 8.0, 7.0, 6.0, 5.0, 4.0, 3.0, 2.0, 1.0, 0.6173, 0.6132, 0.6082, 0.5952, 0.5944, 0.5831, 0.5823, 0.5822, 0.5821, 0.5815, 0.5812, 0.5789, 0.5782, 0.5766, 0.5735, 0.5715, 0.5684, 0.5656, 0.5608, 0.5583, 0.5574, 0.5572, 0.5527, 0.5511, 0.551, 0.5493, 0.54, 0.5379, 0.5379, 0.5348, 0.5053, 0.5141, 0.5198, 0.4505, 0.5039, 0.5105, 0.4663, 0.1612, 0.2542, 0.147, 0.2637, 0.4154, 0.1283, 0.1435, 0.1813, 0.3442, 0.1132, 0.0524, 0.184, 0.1664, -0.3481, 0.188, 0.7274, 0.7269, 0.7135, 0.7108, 0.709, 0.705, 0.704, 0.703, 0.7017, 0.7013, 0.6967, 0.6909, 0.6903, 0.6807, 0.6653, 0.6642, 0.664, 0.6628, 0.662, 0.6586, 0.6526, 0.6525, 0.6494, 0.6458, 0.6402, 0.6387, 0.6342, 0.6335, 0.6332, 0.6306, 0.5963, 0.6056, 0.6214, 0.6134, 0.6035, 0.4522, 0.5208, 0.5728, 0.2802, 0.43, 0.3382, -0.2137, -0.1915, 0.2472, -0.1632, 0.224, -0.1861, -0.061, -0.3833, -0.1415, -0.2468, -0.9835, -0.4034]}, \"token.table\": {\"Topic\": [1, 2, 1, 1, 2, 2, 1, 1, 2, 1, 2, 1, 2, 1, 2, 1, 2, 2, 1, 2, 2, 1, 2, 1, 2, 1, 2, 1, 2, 1, 1, 2, 1, 2, 1, 2, 1, 2, 1, 2, 1, 1, 2, 2, 1, 2, 1, 2, 1, 2, 2, 1, 2, 2, 1, 2, 1, 2, 1, 2, 1, 2, 1, 2, 1, 2, 1, 2, 1, 1, 2, 1, 2, 1, 1, 1, 2, 1, 2, 2, 2, 1, 2, 1, 1, 1, 2, 1, 2, 1, 2, 1, 2, 1, 2, 1, 2, 1, 2, 1, 2, 2, 2, 1, 2, 1, 2, 1, 1, 2, 1, 2, 1, 1, 2, 2, 1, 2, 1, 2, 2, 1, 2, 2, 1, 2, 1, 2, 2, 1, 2, 1, 2, 1, 2, 1, 2, 1, 2, 1, 2, 1, 2, 1, 2, 2, 1, 2, 1, 2], \"Freq\": [0.9867324389514994, 0.14096177699307136, 0.9513735668848232, 0.6803637965642577, 0.32227758784622734, 0.9829020705212438, 1.0151559025710244, 0.3954265581264763, 0.615107979307852, 1.015133240309515, 0.9416067593335098, 0.14186490519042882, 0.851189431142573, 0.9185943619799939, 0.087485177331428, 0.28342569969668385, 0.7085642492417096, 0.9771410104272089, 0.8461511372759535, 0.14102518954599225, 0.937060646054409, 0.17015133712712915, 0.7656810170720812, 0.9061642809094955, 0.9580588128220463, 0.9513656767919934, 0.1057072974213326, 0.18245501930541194, 0.9122750965270597, 0.845817046668427, 0.6358395602335836, 0.39128588322066676, 0.15961731051714967, 0.957703863102898, 0.558650313753831, 0.43450579958631297, 1.0151174464760286, 0.9124356482766659, 0.09126221998632267, 0.9126221998632267, 0.9513966742429993, 0.9757657483753731, 0.0975765748375373, 1.0216984607451514, 0.23621961927487237, 0.7559027816795916, 0.6074819256975569, 0.38916810864999735, 0.9224505815143345, 0.9771791613142706, 0.91242768899148, 0.9348330041234474, 0.06677378600881767, 0.912662600575698, 0.8170196139696243, 0.1766528895069458, 0.12765765951175276, 0.8936036165822693, 0.8458521592558642, 0.9936664051409144, 0.10643649646543181, 0.9579284681888862, 0.9513772925802566, 1.0217035805825156, 0.10640567199795432, 0.8512453759836346, 0.8214781616904919, 0.14935966576190762, 0.9514498802698252, 0.3641039657828633, 0.6371819401200107, 0.09828189103725643, 0.9828189103725644, 0.9513799356351951, 0.8458240511854109, 0.9689239815012485, 0.028497764161801425, 0.40768254391341074, 0.6115238158701161, 1.02169599038369, 1.0216766305183216, 0.3476597461011194, 0.6953194922022388, 0.9697935427548149, 1.015133192188993, 0.6151314721627109, 0.38237902323627976, 0.8683549963355556, 0.13359307635931625, 0.9062817498482049, 0.18125634996964096, 0.9060691550790543, 0.09060691550790542, 0.6358482966471919, 0.3633418837983954, 0.9062811910199978, 0.1208374921359997, 0.9516076096926306, 0.15860126828210508, 0.9160510229237109, 0.07046546330182392, 0.8514477060023751, 0.9583423770533384, 0.01240806574920919, 0.9802371941875261, 0.18243015979595723, 0.9121507989797861, 0.930044077477455, 0.8880066326391176, 0.1268580903770168, 0.15966978719465627, 0.9580187231679377, 0.8458224214222044, 0.6056155042714058, 0.3633693025628435, 1.0017034636224011, 0.06386956678040429, 0.89417393492566, 0.14187212809626298, 0.8512327685775779, 0.8515345315617697, 0.03194669349830464, 0.9743741516982916, 0.851514051159613, 0.03872051183748905, 0.9680127959372261, 0.6006817226159669, 0.40634351824021286, 0.85153360111848, 0.5782379499755347, 0.4047665649828742, 0.9061081091705363, 0.09061081091705363, 0.7260277698487428, 0.24200925661624761, 0.6036312457810921, 0.3880486580021306, 0.6864152492435217, 0.3304962311172512, 0.8461111415500114, 0.10576389269375143, 0.7761020034744595, 0.21166418276576168, 0.8734376118830615, 0.13647462685672837, 0.9124442760635614, 0.6358265683303446, 0.3814959409982068, 0.9064876551948857, 0.09064876551948857], \"Term\": [\"abil\", \"abil\", \"actiun\", \"actual\", \"actual\", \"administr\", \"ansparent\", \"anum\", \"anum\", \"arte\", \"asigur\", \"ban\", \"ban\", \"benef\", \"benef\", \"benefic\", \"benefic\", \"buget\", \"bun\", \"bun\", \"calitat\", \"cheltuiel\", \"cheltuiel\", \"cilitat\", \"colect\", \"cred\", \"cred\", \"cultur\", \"cultur\", \"dator\", \"dezvolt\", \"dezvolt\", \"drumur\", \"drumur\", \"econom\", \"econom\", \"economico\", \"educat\", \"etc\", \"etc\", \"exist\", \"facil\", \"facil\", \"feroviar\", \"financiar\", \"financiar\", \"fiscal\", \"fiscal\", \"fizic\", \"gratuit\", \"gratuitat\", \"gurant\", \"gurant\", \"igur\", \"impoz\", \"impoz\", \"incred\", \"incred\", \"instabil\", \"invatam\", \"invest\", \"invest\", \"jurid\", \"lips\", \"locur\", \"locur\", \"lte\", \"lte\", \"lucrur\", \"mar\", \"mar\", \"medic\", \"medic\", \"membr\", \"mentan\", \"mic\", \"mic\", \"moment\", \"moment\", \"nejustific\", \"nevo\", \"nevoi\", \"nevoi\", \"obiect\", \"ocup\", \"ofer\", \"ofer\", \"opin\", \"opin\", \"pens\", \"pens\", \"persoan\", \"persoan\", \"plat\", \"plat\", \"platit\", \"platit\", \"polit\", \"polit\", \"pozit\", \"pozit\", \"proast\", \"protect\", \"public\", \"public\", \"put\", \"put\", \"putin\", \"realiz\", \"realiz\", \"relat\", \"relat\", \"rocrat\", \"roman\", \"roman\", \"rvic\", \"sanat\", \"sanat\", \"schimb\", \"schimb\", \"secur\", \"servic\", \"servic\", \"serviciu\", \"sigur\", \"sigur\", \"sist\", \"sist\", \"slab\", \"social\", \"social\", \"societ\", \"societ\", \"stabil\", \"stabil\", \"stat\", \"stat\", \"stem\", \"stem\", \"stiu\", \"stiu\", \"tar\", \"tar\", \"tax\", \"tax\", \"transport\", \"veder\", \"veder\", \"viitor\", \"viitor\"]}, \"R\": 30, \"lambda.step\": 0.01, \"plot.opts\": {\"xlab\": \"PC1\", \"ylab\": \"PC2\"}, \"topic.order\": [2, 1]};\n",
       "\n",
       "function LDAvis_load_lib(url, callback){\n",
       "  var s = document.createElement('script');\n",
       "  s.src = url;\n",
       "  s.async = true;\n",
       "  s.onreadystatechange = s.onload = callback;\n",
       "  s.onerror = function(){console.warn(\"failed to load library \" + url);};\n",
       "  document.getElementsByTagName(\"head\")[0].appendChild(s);\n",
       "}\n",
       "\n",
       "if(typeof(LDAvis) !== \"undefined\"){\n",
       "   // already loaded: just create the visualization\n",
       "   !function(LDAvis){\n",
       "       new LDAvis(\"#\" + \"ldavis_el3751404801855373608638722875\", ldavis_el3751404801855373608638722875_data);\n",
       "   }(LDAvis);\n",
       "}else if(typeof define === \"function\" && define.amd){\n",
       "   // require.js is available: use it to load d3/LDAvis\n",
       "   require.config({paths: {d3: \"https://d3js.org/d3.v5\"}});\n",
       "   require([\"d3\"], function(d3){\n",
       "      window.d3 = d3;\n",
       "      LDAvis_load_lib(\"https://cdn.jsdelivr.net/gh/bmabey/pyLDAvis@3.3.1/pyLDAvis/js/ldavis.v3.0.0.js\", function(){\n",
       "        new LDAvis(\"#\" + \"ldavis_el3751404801855373608638722875\", ldavis_el3751404801855373608638722875_data);\n",
       "      });\n",
       "    });\n",
       "}else{\n",
       "    // require.js not available: dynamically load d3 & LDAvis\n",
       "    LDAvis_load_lib(\"https://d3js.org/d3.v5.js\", function(){\n",
       "         LDAvis_load_lib(\"https://cdn.jsdelivr.net/gh/bmabey/pyLDAvis@3.3.1/pyLDAvis/js/ldavis.v3.0.0.js\", function(){\n",
       "                 new LDAvis(\"#\" + \"ldavis_el3751404801855373608638722875\", ldavis_el3751404801855373608638722875_data);\n",
       "            })\n",
       "         });\n",
       "}\n",
       "</script>"
      ],
      "text/plain": [
       "<IPython.core.display.HTML object>"
      ]
     },
     "metadata": {
      "tags": []
     },
     "execution_count": 82
    }
   ]
  },
  {
   "cell_type": "markdown",
   "metadata": {
    "id": "Jiv2X-M-D0Rt"
   },
   "source": [
    "## 7.2. Topic analysis vs. trust"
   ]
  },
  {
   "cell_type": "code",
   "metadata": {
    "colab": {
     "base_uri": "https://localhost:8080/",
     "height": 1000
    },
    "id": "MHPSW9J4DVdN",
    "outputId": "0b7c174a-0801-48c7-d73c-26429854f096"
   },
   "source": [
    "for trust in [0, 1]:  \n",
    "  responses_list = df_text['all_responses'].loc[df_text['incredere_sist_fiscal'] == trust].to_list()\n",
    "  dictionary_responses = Dictionary(responses_list)\n",
    "  responses_bow = [dictionary_responses.doc2bow(response) for response in responses_list]\n",
    "  # Build the LDA model\n",
    "  ldamodel = LdaModel(responses_bow, \n",
    "                      num_topics = 3,\n",
    "                      id2word = dictionary_responses,\n",
    "                      passes  = 15,\n",
    "                      alpha='symmetric',\n",
    "                      iterations=100,\n",
    "                      random_state = 5)\n",
    "  # pprint(ldamodel.print_topics())\n",
    "  # pyLDAvis.enable_notebook()\n",
    "  # # feed the LDA model into the pyLDAvis instance\n",
    "  # lda_viz = gensimvis.prepare(ldamodel, corpus, dictionary)\n",
    "  lda_display = gensimvis.prepare(ldamodel,\n",
    "                                responses_bow,\n",
    "                                dictionary_responses,\n",
    "                                sort_topics=True)\n",
    "  pyLDAvis.display(lda_display)"
   ],
   "execution_count": null,
   "outputs": [
    {
     "output_type": "execute_result",
     "data": {
      "text/html": [
       "\n",
       "<link rel=\"stylesheet\" type=\"text/css\" href=\"https://cdn.jsdelivr.net/gh/bmabey/pyLDAvis@3.3.1/pyLDAvis/js/ldavis.v1.0.0.css\">\n",
       "\n",
       "\n",
       "<div id=\"ldavis_el3751404801857288484569182271\"></div>\n",
       "<script type=\"text/javascript\">\n",
       "\n",
       "var ldavis_el3751404801857288484569182271_data = {\"mdsDat\": {\"x\": [0.0029874898125549594, -0.07760934891911538, 0.07462185910656043], \"y\": [-0.07694835258470718, 0.036209045287800334, 0.040739307296906786], \"topics\": [1, 2, 3], \"cluster\": [1, 1, 1], \"Freq\": [56.339389754962596, 24.36752472926516, 19.293085515772244]}, \"tinfo\": {\"Term\": [\"salar\", \"fiscal\", \"mic\", \"cot\", \"impoz\", \"pozit\", \"xel\", \"ofer\", \"reduc\", \"sist\", \"mar\", \"ban\", \"ansparent\", \"social\", \"sigur\", \"lips\", \"transparent\", \"econom\", \"angaj\", \"pens\", \"venit\", \"rupt\", \"predict\", \"contribu\", \"ridic\", \"colect\", \"dezvolt\", \"birocrat\", \"schimbar\", \"decat\", \"colect\", \"calitat\", \"rvic\", \"priv\", \"lte\", \"proast\", \"cheltuiel\", \"atrag\", \"gestion\", \"indirect\", \"controal\", \"neincred\", \"imbunatat\", \"acord\", \"modern\", \"birocr\", \"popul\", \"mediu\", \"exces\", \"comparat\", \"povar\", \"amenz\", \"eficientiz\", \"rau\", \"intampl\", \"momentan\", \"autor\", \"compet\", \"las\", \"lucru\", \"ban\", \"buget\", \"slab\", \"public\", \"utiliz\", \"roman\", \"fiscal\", \"privest\", \"venitur\", \"sist\", \"tax\", \"actual\", \"transparent\", \"impoz\", \"platit\", \"invest\", \"instit\", \"stat\", \"treb\", \"munc\", \"mar\", \"contribu\", \"ofer\", \"schimb\", \"plat\", \"servic\", \"tar\", \"mic\", \"nevoi\", \"stem\", \"cetaten\", \"econom\", \"stabil\", \"pens\", \"salar\", \"sustin\", \"tiner\", \"parlamentar\", \"interes\", \"lei\", \"consum\", \"continu\", \"carbur\", \"popor\", \"contribut\", \"nii\", \"ganiz\", \"bugetar\", \"degrab\", \"min\", \"s-a\", \"ligat\", \"confuz\", \"economist\", \"tva-\", \"deducer\", \"retin\", \"a-i\", \"stribu\", \"asemen\", \"cred\", \"compan\", \"mobil\", \"privat\", \"posibil\", \"cot\", \"realiz\", \"angaj\", \"mic\", \"xel\", \"impun\", \"reduc\", \"ridic\", \"impoz\", \"incerc\", \"tax\", \"mar\", \"venit\", \"plat\", \"scad\", \"stat\", \"servic\", \"numar\", \"stiu\", \"leg\", \"fapt\", \"tar\", \"sigur\", \"oamen\", \"invest\", \"ofer\", \"fiscal\", \"sist\", \"ban\", \"public\", \"schimb\", \"raportar\", \"simplu\", \"roap\", \"singur\", \"tehnolog\", \"procent\", \"rel\", \"ilumin\", \"simplif\", \"sa-s\", \"imbunat\", \"neserioz\", \"princip\", \"bulgar\", \"traiest\", \"lipsur\", \"ore\", \"profund\", \"scalitat\", \"men\", \"buzunar\", \"difer\", \"amanunt\", \"rupt\", \"raport\", \"aeris\", \"contibu\", \"bata\", \"anului.m\", \"preocup\", \"elimin\", \"realitat\", \"legisl\", \"stimuleaz\", \"ansparent\", \"declar\", \"schimbar\", \"pozit\", \"punct\", \"lips\", \"social\", \"ofer\", \"cap\", \"fiscal\", \"econom\", \"sigur\", \"incat\", \"clar\", \"predict\", \"sist\", \"dezvolt\", \"transparent\", \"mar\", \"stabil\", \"tax\", \"contribu\", \"incred\", \"impoz\", \"cetaten\", \"roman\", \"stem\", \"venit\", \"birocrat\", \"stat\", \"actual\", \"anum\", \"servic\", \"reduc\"], \"Freq\": [24.0, 155.0, 61.0, 19.0, 168.0, 24.0, 25.0, 62.0, 33.0, 100.0, 93.0, 55.0, 12.0, 24.0, 21.0, 20.0, 50.0, 30.0, 13.0, 6.0, 16.0, 7.0, 12.0, 27.0, 16.0, 18.0, 23.0, 17.0, 8.0, 9.0, 18.398396006730213, 14.910452962973203, 12.32785387315357, 10.599612028232126, 10.564881926144793, 7.170117383269249, 16.630154759773525, 6.3190265885834656, 6.31492375519825, 5.460923670843022, 4.600459453435874, 4.600336961552908, 4.60029355214877, 4.60027893908203, 4.598910898157545, 4.598730813599782, 4.593821252971318, 4.587686343717122, 10.562238680249227, 4.525947426130071, 4.489088114259546, 3.7379029887084623, 3.7374951122279922, 3.737348121968434, 3.736965173660637, 3.7365555779958446, 3.7345737882682912, 3.7337438520366915, 3.7323955817319123, 3.7301627910933, 48.623452940720405, 22.963564474193596, 8.922120504505548, 59.884306238924594, 8.024695973148937, 48.8695988752528, 115.99036796942535, 10.622945657446804, 25.581156701301875, 73.99774363088625, 111.90771093141706, 25.527017867807718, 35.95632062033361, 106.56883903235277, 13.990049813964472, 29.89433572672131, 9.157819815503363, 43.717983970944175, 14.006016738358014, 14.494152479323583, 53.98064446792333, 19.725207452797935, 36.64439663839275, 20.42638193620883, 24.452359186294565, 25.561659431902452, 19.649604603039624, 30.129850225404475, 15.383373063094087, 17.096615884395455, 15.771446259355546, 14.847604741702176, 14.584232580260148, 6.25255244401873, 22.152834775813133, 4.804075578309541, 4.74509488141933, 4.046027772062012, 4.0304819591009595, 3.9945061952138343, 3.289109448279104, 3.2871579494453984, 2.530462138913009, 2.5299713828717647, 2.529306073829487, 2.5283238181772387, 2.5235450812256226, 5.5385708124261415, 2.4751766119424397, 4.951945206739886, 2.443309256868777, 1.7713004651658069, 1.7712420949396892, 1.770981845523878, 1.7703670992252434, 1.7702672749850359, 1.7685085466114705, 1.7681458704612933, 1.7369692916941701, 2.322047714603427, 3.9538098787087708, 3.950283499124527, 1.6945179646643387, 3.2835051630020455, 5.521736393071943, 12.72957818844212, 4.047200009787802, 7.729466391608747, 26.278710042925113, 12.919554313426348, 4.055895686339819, 15.793394922441637, 8.718797110118084, 47.59971927738723, 9.798045488929768, 35.53131142194174, 24.130754130211866, 7.551437201949782, 12.375433757685045, 7.883957136962213, 15.869192936581578, 12.145098153296791, 6.823170108138427, 6.377568827676918, 5.234065239886286, 6.750817796263829, 8.220032822564386, 7.09899582327099, 6.517843262799247, 8.086297339906757, 9.044597405214263, 10.73446898834417, 8.369059073755572, 6.8911725369201795, 6.775687974008522, 6.170091301264257, 3.125196364575319, 3.123493185054647, 3.117898831997202, 2.4043004644852073, 2.4043035552880014, 2.3956541644401494, 1.6834334118878411, 1.683395291986713, 1.6832170556922492, 1.6830829737234165, 1.6829446235031063, 1.6828857510689317, 1.6828691196062773, 1.6828489557975723, 1.682638045302142, 1.682564601940509, 1.681921420597151, 1.6801888048593916, 1.6797088473397828, 1.6710011727820981, 1.6681321718836826, 3.837891628947075, 1.5871665321552473, 5.251836179038355, 3.1581725811295573, 0.9620126640470625, 0.9620106771024091, 0.9620106035118664, 0.9620103827402382, 0.9620098676064393, 2.4070556944045802, 2.4025026475265996, 3.8015437880876557, 1.4379408070797752, 7.017080785990464, 3.1407289732457837, 4.528614523436174, 10.367365011232177, 5.6687118854289436, 7.922963293846746, 8.821302476712233, 16.313668077210966, 3.9539097688020024, 29.15445597225496, 9.549187123463215, 7.562496798984926, 5.023774966083971, 3.796343880339181, 5.101457731701743, 18.182155505802108, 7.359691271567119, 10.86575078018623, 15.616377079603174, 7.26193123972277, 16.940299201873678, 6.880754011242654, 5.870413554705976, 14.265804583830496, 6.04293804560606, 7.596592180512824, 5.6044903018852015, 4.890825997246931, 4.838887852731555, 6.797392999348739, 5.505032977763599, 4.6226753058791585, 5.319611891433219, 5.141827148539632], \"Total\": [24.0, 155.0, 61.0, 19.0, 168.0, 24.0, 25.0, 62.0, 33.0, 100.0, 93.0, 55.0, 12.0, 24.0, 21.0, 20.0, 50.0, 30.0, 13.0, 6.0, 16.0, 7.0, 12.0, 27.0, 16.0, 18.0, 23.0, 17.0, 8.0, 9.0, 18.896342647569774, 15.44113350658439, 12.852365223573946, 11.128256977477674, 11.122691799005644, 7.679973853497222, 17.92475790853979, 6.8187769533873075, 6.818387460983016, 5.956721616057362, 5.094389170997371, 5.0943697066699265, 5.094370189933297, 5.094367802704431, 5.094137375554488, 5.094174501836914, 5.093314371461133, 5.092304862729133, 11.845372290708092, 5.082331577655218, 5.076387520904706, 4.231748628734062, 4.231697178111182, 4.231661389720581, 4.231610207748188, 4.231537693953457, 4.23134044844859, 4.231245975277111, 4.2308559178469825, 4.230815557605958, 55.91794157460626, 26.211146494162556, 10.130687841905246, 71.46372050435387, 9.262281935106914, 62.40498345801824, 155.8792929300245, 12.6136174689829, 31.828971228851003, 100.54895821044394, 164.37932155523245, 33.9016480878618, 50.056819579039384, 168.4343628935705, 17.57086675746721, 41.36891473833477, 10.953534125409863, 66.38456990687449, 18.237869097332762, 19.07410649707034, 93.72777567773836, 27.819589256921596, 62.00266212081797, 30.344930574216793, 39.97011794891587, 43.02636947663246, 30.319614509686865, 61.070861137840836, 21.42830022088455, 26.052625303395722, 25.870864808917243, 30.132460341946995, 26.42412280871939, 6.864823452721005, 24.53165688551928, 5.336922971173475, 5.345175269043726, 4.577421411596126, 4.57694160830207, 4.584670184626163, 3.818164856208978, 3.8182176638606666, 3.058878648353753, 3.058973063886721, 3.059048798578228, 3.0590595714446542, 3.0595699874918245, 6.824860080909477, 3.066308973628113, 6.179452412250641, 3.0702876431843937, 2.299639795500709, 2.2996382373398907, 2.299696221343702, 2.299767331605322, 2.299681641445292, 2.2997077220269375, 2.2997095902702993, 2.3033328165822167, 3.087215539837651, 5.31188821199162, 5.313512232868268, 2.310084999452376, 4.5422852918054755, 7.816623558203627, 19.78511679083347, 6.021284868364376, 13.721351474366468, 61.070861137840836, 25.795234496979056, 6.301721535637044, 33.93759877258898, 16.449586016929324, 168.4343628935705, 23.200533739011295, 164.37932155523245, 93.72777567773836, 16.993509712017953, 39.97011794891587, 19.305322371197903, 66.38456990687449, 43.02636947663246, 16.998456026550347, 15.273951765842204, 10.124280388587954, 18.518641357630095, 30.319614509686865, 21.70865566197721, 20.50328724554332, 41.36891473833477, 62.00266212081797, 155.8792929300245, 100.54895821044394, 55.91794157460626, 71.46372050435387, 30.344930574216793, 3.66760915833701, 3.667936000400134, 3.6689903814179385, 2.945982930535066, 2.945992665919686, 2.946343128963848, 2.2243005177203, 2.2243016758107332, 2.224323249035666, 2.2243079813678497, 2.224392270485878, 2.224331214031047, 2.2244121854603627, 2.224425653225178, 2.2244668347771537, 2.2244094856261216, 2.224559686188349, 2.2249447401130515, 2.2250271746226193, 2.224988297590923, 2.2250931214284195, 5.150313966036499, 2.243030105264225, 7.464330163715324, 4.523813896191189, 1.5027214020732536, 1.5027217696122976, 1.50272178023422, 1.5027218391226156, 1.50272172856537, 3.8080069854171295, 3.8090010985006924, 6.115777952773541, 2.272264635465162, 12.062529870164084, 5.389871270927637, 8.563270365647083, 24.554603204867455, 12.39632597369097, 20.614562353256183, 24.222836562143637, 62.00266212081797, 7.715368073377569, 155.8792929300245, 30.132460341946995, 21.70865566197721, 11.699862729643954, 7.848893782241657, 12.764032694184294, 100.54895821044394, 23.663900142084206, 50.056819579039384, 93.72777567773836, 26.42412280871939, 164.37932155523245, 27.819589256921596, 21.363831595829033, 168.4343628935705, 25.870864808917243, 62.40498345801824, 26.052625303395722, 16.993509712017953, 17.13295853452691, 66.38456990687449, 33.9016480878618, 16.597941026464195, 43.02636947663246, 33.93759877258898], \"Category\": [\"Default\", \"Default\", \"Default\", \"Default\", \"Default\", \"Default\", \"Default\", \"Default\", \"Default\", \"Default\", \"Default\", \"Default\", \"Default\", \"Default\", \"Default\", \"Default\", \"Default\", \"Default\", \"Default\", \"Default\", \"Default\", \"Default\", \"Default\", \"Default\", \"Default\", \"Default\", \"Default\", \"Default\", \"Default\", \"Default\", \"Topic1\", \"Topic1\", \"Topic1\", \"Topic1\", \"Topic1\", \"Topic1\", \"Topic1\", \"Topic1\", \"Topic1\", \"Topic1\", \"Topic1\", \"Topic1\", \"Topic1\", \"Topic1\", \"Topic1\", \"Topic1\", \"Topic1\", \"Topic1\", \"Topic1\", \"Topic1\", \"Topic1\", \"Topic1\", \"Topic1\", \"Topic1\", \"Topic1\", \"Topic1\", \"Topic1\", \"Topic1\", \"Topic1\", \"Topic1\", \"Topic1\", \"Topic1\", \"Topic1\", \"Topic1\", \"Topic1\", \"Topic1\", \"Topic1\", \"Topic1\", \"Topic1\", \"Topic1\", \"Topic1\", \"Topic1\", \"Topic1\", \"Topic1\", \"Topic1\", \"Topic1\", \"Topic1\", \"Topic1\", \"Topic1\", \"Topic1\", \"Topic1\", \"Topic1\", \"Topic1\", \"Topic1\", \"Topic1\", \"Topic1\", \"Topic1\", \"Topic1\", \"Topic1\", \"Topic1\", \"Topic1\", \"Topic1\", \"Topic1\", \"Topic2\", \"Topic2\", \"Topic2\", \"Topic2\", \"Topic2\", \"Topic2\", \"Topic2\", \"Topic2\", \"Topic2\", \"Topic2\", \"Topic2\", \"Topic2\", \"Topic2\", \"Topic2\", \"Topic2\", \"Topic2\", \"Topic2\", \"Topic2\", \"Topic2\", \"Topic2\", \"Topic2\", \"Topic2\", \"Topic2\", \"Topic2\", \"Topic2\", \"Topic2\", \"Topic2\", \"Topic2\", \"Topic2\", \"Topic2\", \"Topic2\", \"Topic2\", \"Topic2\", \"Topic2\", \"Topic2\", \"Topic2\", \"Topic2\", \"Topic2\", \"Topic2\", \"Topic2\", \"Topic2\", \"Topic2\", \"Topic2\", \"Topic2\", \"Topic2\", \"Topic2\", \"Topic2\", \"Topic2\", \"Topic2\", \"Topic2\", \"Topic2\", \"Topic2\", \"Topic2\", \"Topic2\", \"Topic2\", \"Topic2\", \"Topic2\", \"Topic2\", \"Topic2\", \"Topic2\", \"Topic2\", \"Topic2\", \"Topic2\", \"Topic3\", \"Topic3\", \"Topic3\", \"Topic3\", \"Topic3\", \"Topic3\", \"Topic3\", \"Topic3\", \"Topic3\", \"Topic3\", \"Topic3\", \"Topic3\", \"Topic3\", \"Topic3\", \"Topic3\", \"Topic3\", \"Topic3\", \"Topic3\", \"Topic3\", \"Topic3\", \"Topic3\", \"Topic3\", \"Topic3\", \"Topic3\", \"Topic3\", \"Topic3\", \"Topic3\", \"Topic3\", \"Topic3\", \"Topic3\", \"Topic3\", \"Topic3\", \"Topic3\", \"Topic3\", \"Topic3\", \"Topic3\", \"Topic3\", \"Topic3\", \"Topic3\", \"Topic3\", \"Topic3\", \"Topic3\", \"Topic3\", \"Topic3\", \"Topic3\", \"Topic3\", \"Topic3\", \"Topic3\", \"Topic3\", \"Topic3\", \"Topic3\", \"Topic3\", \"Topic3\", \"Topic3\", \"Topic3\", \"Topic3\", \"Topic3\", \"Topic3\", \"Topic3\", \"Topic3\", \"Topic3\", \"Topic3\", \"Topic3\", \"Topic3\", \"Topic3\", \"Topic3\", \"Topic3\", \"Topic3\"], \"logprob\": [30.0, 29.0, 28.0, 27.0, 26.0, 25.0, 24.0, 23.0, 22.0, 21.0, 20.0, 19.0, 18.0, 17.0, 16.0, 15.0, 14.0, 13.0, 12.0, 11.0, 10.0, 9.0, 8.0, 7.0, 6.0, 5.0, 4.0, 3.0, 2.0, 1.0, -5.3016, -5.5118, -5.702, -5.8531, -5.8564, -6.244, -5.4027, -6.3703, -6.371, -6.5163, -6.6877, -6.6878, -6.6878, -6.6878, -6.6881, -6.6881, -6.6892, -6.6905, -5.8566, -6.7041, -6.7123, -6.8954, -6.8955, -6.8955, -6.8956, -6.8957, -6.8963, -6.8965, -6.8969, -6.8975, -4.3298, -5.08, -6.0254, -4.1215, -6.1314, -4.3247, -3.4604, -5.8509, -4.972, -3.9099, -3.4962, -4.9742, -4.6316, -3.5451, -5.5756, -4.8162, -5.9993, -4.4361, -5.5744, -5.5402, -4.2253, -5.232, -4.6126, -5.1971, -5.0172, -4.9728, -5.2358, -4.8084, -5.4806, -5.375, -5.4557, -5.5161, -5.534, -5.5428, -4.2778, -5.8063, -5.8186, -5.978, -5.9819, -5.9908, -6.1851, -6.1857, -6.4474, -6.4476, -6.4478, -6.4482, -6.4501, -5.664, -6.4694, -5.776, -6.4824, -6.804, -6.8041, -6.8042, -6.8046, -6.8046, -6.8056, -6.8058, -6.8236, -6.5333, -6.0011, -6.002, -6.8484, -6.1868, -5.6671, -4.8318, -5.9777, -5.3307, -4.107, -4.817, -5.9756, -4.6162, -5.2103, -3.5129, -5.0936, -3.8053, -4.1923, -5.354, -4.86, -5.3109, -4.6114, -4.8788, -5.4554, -5.523, -5.7206, -5.4661, -5.2692, -5.4158, -5.5012, -5.2856, -5.1736, -5.0023, -5.2512, -5.4455, -5.4624, -5.556, -6.0028, -6.0033, -6.0051, -6.265, -6.265, -6.2686, -6.6214, -6.6214, -6.6215, -6.6216, -6.6217, -6.6217, -6.6218, -6.6218, -6.6219, -6.6219, -6.6223, -6.6233, -6.6236, -6.6288, -6.6306, -5.7973, -6.6803, -5.4837, -5.9923, -7.181, -7.181, -7.181, -7.181, -7.181, -6.2639, -6.2657, -5.8068, -6.779, -5.1939, -5.9978, -5.6318, -4.8036, -5.4073, -5.0725, -4.9651, -4.3503, -5.7675, -3.7696, -4.8858, -5.1191, -5.5281, -5.8082, -5.5127, -4.2418, -5.1462, -4.7566, -4.3939, -5.1596, -4.3126, -5.2135, -5.3723, -4.4844, -5.3434, -5.1146, -5.4187, -5.5549, -5.5656, -5.2257, -5.4366, -5.6113, -5.4709, -5.5048], \"loglift\": [30.0, 29.0, 28.0, 27.0, 26.0, 25.0, 24.0, 23.0, 22.0, 21.0, 20.0, 19.0, 18.0, 17.0, 16.0, 15.0, 14.0, 13.0, 12.0, 11.0, 10.0, 9.0, 8.0, 7.0, 6.0, 5.0, 4.0, 3.0, 2.0, 1.0, 0.5471, 0.5388, 0.5321, 0.5251, 0.5223, 0.5051, 0.4988, 0.4977, 0.4971, 0.4869, 0.4718, 0.4718, 0.4718, 0.4718, 0.4715, 0.4715, 0.4706, 0.4694, 0.4591, 0.4578, 0.4508, 0.4497, 0.4496, 0.4496, 0.4495, 0.4494, 0.4489, 0.4487, 0.4484, 0.4478, 0.434, 0.4415, 0.4467, 0.397, 0.4303, 0.3293, 0.2782, 0.402, 0.3553, 0.2672, 0.1893, 0.2901, 0.2429, 0.116, 0.3459, 0.2489, 0.3947, 0.1561, 0.3098, 0.2992, 0.022, 0.2299, 0.0479, 0.178, 0.0824, 0.0531, 0.14, -0.1327, 0.2424, 0.1525, 0.0789, -0.134, -0.0206, 1.3185, 1.3099, 1.3067, 1.2928, 1.2885, 1.2848, 1.2741, 1.2628, 1.2622, 1.2223, 1.222, 1.2218, 1.2214, 1.2193, 1.2031, 1.1978, 1.1905, 1.1835, 1.1509, 1.1508, 1.1507, 1.1503, 1.1503, 1.1493, 1.1491, 1.1297, 1.1271, 1.1167, 1.1155, 1.102, 1.0874, 1.0644, 0.9709, 1.0146, 0.838, 0.5686, 0.7205, 0.9713, 0.647, 0.7771, 0.1482, 0.5499, -0.1198, 0.055, 0.6008, 0.2395, 0.5164, -0.0192, 0.147, 0.4991, 0.5386, 0.7522, 0.4028, 0.1067, 0.2942, 0.2659, -0.2204, -0.5131, -1.2637, -1.0742, -0.6817, -0.9439, -0.181, 1.4854, 1.4847, 1.4827, 1.4422, 1.4422, 1.4385, 1.3668, 1.3668, 1.3667, 1.3666, 1.3665, 1.3665, 1.3664, 1.3664, 1.3663, 1.3663, 1.3658, 1.3646, 1.3643, 1.3591, 1.3573, 1.3513, 1.2995, 1.2939, 1.2861, 1.1994, 1.1994, 1.1994, 1.1994, 1.1994, 1.1867, 1.1846, 1.17, 1.1879, 1.1037, 1.1054, 1.0084, 0.7832, 0.863, 0.6892, 0.6353, 0.3102, 0.9769, -0.0311, 0.4963, 0.5909, 0.8, 0.9191, 0.7283, -0.0648, 0.4775, 0.1179, -0.1467, 0.3538, -0.6271, 0.2484, 0.3536, -0.8233, 0.1912, -0.4605, 0.1089, 0.4, 0.3811, -0.6335, -0.1724, 0.3671, -0.445, -0.2417]}, \"token.table\": {\"Topic\": [2, 1, 1, 2, 3, 3, 3, 1, 1, 2, 3, 1, 2, 3, 3, 1, 2, 3, 1, 2, 1, 1, 1, 2, 3, 1, 1, 3, 1, 2, 3, 2, 3, 3, 3, 1, 1, 2, 3, 2, 1, 2, 3, 1, 2, 1, 3, 1, 2, 3, 1, 1, 2, 2, 3, 2, 1, 2, 3, 2, 1, 1, 2, 2, 3, 1, 2, 3, 1, 3, 2, 2, 1, 2, 3, 2, 3, 1, 2, 3, 2, 1, 1, 3, 1, 3, 1, 2, 3, 1, 2, 3, 2, 1, 3, 3, 1, 1, 2, 3, 1, 2, 1, 2, 3, 1, 2, 3, 1, 2, 3, 1, 1, 2, 1, 2, 1, 2, 3, 1, 1, 2, 3, 1, 3, 2, 2, 1, 2, 3, 3, 1, 1, 1, 2, 3, 1, 3, 1, 2, 3, 1, 2, 2, 1, 1, 1, 2, 3, 1, 3, 1, 2, 3, 2, 1, 2, 3, 1, 2, 3, 1, 2, 3, 3, 2, 2, 1, 2, 3, 1, 2, 3, 2, 1, 1, 2, 1, 1, 2, 3, 1, 3, 3, 3, 1, 2, 3, 1, 2, 3, 1, 3, 3, 1, 2, 3, 1, 2, 3, 1, 3, 3, 1, 1, 3, 2, 3, 1, 2, 3, 3, 2, 1, 2, 3, 3, 1, 2, 3, 1, 2, 3, 1, 2, 3, 1, 2, 1, 2, 3, 3, 1, 2, 3, 1, 3, 1, 2, 3, 1, 2, 3, 3, 3, 3, 1, 2, 3, 1, 3, 1, 2, 3, 1, 2, 3, 1, 2, 3, 1, 2, 3, 1, 3, 1, 2, 3, 2, 2, 1, 2, 3, 1, 2, 3, 3, 2, 3, 1, 2, 3, 1, 2, 3, 2, 1, 3, 1, 2, 3, 1, 2, 3, 1, 2], \"Freq\": [0.8696750269954423, 0.9814760523073472, 0.766924366998815, 0.08849127311524789, 0.17698254623049578, 0.6654593450391629, 0.8916509837768778, 0.9452357289938108, 0.14575823698826595, 0.5830329479530638, 0.2915164739765319, 0.16580269823388172, 0.24870404735082258, 0.580309443818586, 0.6654591514979669, 0.4217390572022768, 0.301242183715912, 0.301242183715912, 0.3239164830235946, 0.6478329660471892, 0.879923194586887, 0.9453269120584683, 0.8762840444443708, 0.1251834349206244, 0.6654591775758625, 0.9815132948816426, 0.7004044266970704, 0.291835177790446, 0.8774892775149036, 0.07630341543607858, 0.03815170771803929, 0.8791389023173122, 0.14652315038621871, 0.8991084944107774, 0.8988387859992489, 0.9714312743687967, 0.3888343331735158, 0.12961144439117192, 0.5184457775646877, 0.9807515579653869, 0.618456325993597, 0.15461408149839925, 0.2319211222475989, 0.9484089038603298, 0.055788759050607636, 0.5096259563417858, 0.5096259563417858, 0.9525652839659398, 0.7527977399311969, 0.18819943498279923, 0.9838004316725036, 0.9453480188511219, 0.8697020111795942, 0.7857177762037948, 0.6654591822796312, 0.7857069093768341, 0.7189178752890444, 0.03594589376445222, 0.25162125635116556, 0.9806970066624394, 0.9814719355296344, 0.3538012979151647, 0.6570595532710202, 0.7530278952350645, 0.18825697380876613, 0.10204570619411908, 0.5102285309705954, 0.4081828247764763, 0.37106637607242615, 0.5565995641086392, 0.8696855964563209, 0.6522499908525407, 0.46484307041329376, 0.2535507656799784, 0.29580922662664144, 0.19416292027912327, 0.7766516811164931, 0.49780203241879656, 0.19912081296751863, 0.33186802161253104, 0.8696800827160595, 0.9452472215380496, 0.26260456029348905, 0.5252091205869781, 0.9286326955404154, 0.08442115414003776, 0.5399964180352668, 0.3779974926246867, 0.10799928360705334, 0.7441655515596505, 0.07056742299272548, 0.18604138788991262, 0.9805299477588814, 0.8799734591696219, 0.8991586086320877, 0.8991219878511519, 0.9814755923863215, 0.6352622954237115, 0.2849774783209173, 0.08311843117693421, 0.31737359207158605, 0.6347471841431721, 0.42735544130201586, 0.17094217652080634, 0.42735544130201586, 0.4741270232720418, 0.4310245666109471, 0.08620491332218942, 0.46808082881313995, 0.28084849728788397, 0.28084849728788397, 0.8393878919104839, 0.8216526188677241, 0.18258947085949426, 0.94526664877495, 0.8739460413356462, 0.7251821854586943, 0.19338191612231848, 0.07251821854586943, 0.9454351737970643, 0.29631735638036927, 0.4938622606339488, 0.1975449042535795, 0.32702299126033313, 0.6540459825206663, 0.8724727927896001, 0.8697014218979163, 0.5336033727760653, 0.09701879505019369, 0.38807518020077475, 0.8991150293701632, 0.9889692350356581, 0.9454441928599302, 0.5761365786132248, 0.2560607016058776, 0.17070713440391844, 0.9818736573678616, 0.8988811321684135, 0.49123263437022907, 0.42573494978753185, 0.08187210572837152, 0.16182663661549038, 0.809133183077452, 0.8657690087049246, 0.9815204481908497, 0.9452828473478314, 0.7339793348721373, 0.10485419069601962, 0.10485419069601962, 0.9814756854913042, 0.8991466681688549, 0.7000088595632344, 0.1400017719126469, 0.1400017719126469, 0.9806935530134959, 0.529459851291356, 0.41180210655994354, 0.05882887236570622, 0.6340446702187101, 0.34140866857930546, 0.04877266693990078, 0.5967485706968847, 0.14515505773708007, 0.25805343597703123, 0.8990543218136265, 0.8738544346969396, 0.8740210205437672, 0.6004485658679665, 0.30022428293398323, 0.07505607073349581, 0.7967734428382893, 0.17073716632249059, 0.056912388774163526, 0.9807212869629554, 0.9816790473441042, 0.25586495052598246, 0.7675948515779474, 0.7879619086462348, 0.5294322979498611, 0.04072556138075854, 0.40725561380758546, 0.5484160192718267, 0.3917257280513048, 0.6654592004566858, 0.8991139380879095, 0.9884746571060273, 0.6604604967046345, 0.22015349890154484, 0.8720733783983212, 0.07927939803621102, 0.07927939803621102, 0.9114614363970025, 0.6788075632940104, 0.8988987294571541, 0.8395868501744819, 0.09795179918702288, 0.06996557084787348, 0.4033453146207694, 0.16133812584830776, 0.48401437754492327, 0.22105241792593341, 0.6631572537778003, 0.8179715641675076, 0.9452552157686044, 0.2625360229992116, 0.5250720459984232, 0.6643100413693867, 0.3321550206846933, 0.38305597538326597, 0.47145350816401965, 0.14732922130125614, 0.8991590767824004, 0.8696757335046132, 0.30395901725758806, 0.5471262310636585, 0.12158360690303524, 0.8176636317156556, 0.7851937022459723, 0.09614616762195578, 0.1281948901626077, 0.1339704940787689, 0.1339704940787689, 0.6698524703938445, 0.9336802830649001, 0.6514047647749612, 0.8991560596613467, 0.08152731017449434, 0.8968004119194377, 0.5179918681347302, 0.4143934945077841, 0.10359837362694603, 0.8988654263691024, 0.6590886721946703, 0.19772660165840109, 0.13181773443893405, 0.46711125880675614, 0.5838890735084452, 0.6042805915595679, 0.27889873456595443, 0.11620780606914767, 0.3224520260027214, 0.3224520260027214, 0.3685166011459673, 0.8991498878893078, 0.8178986764416639, 0.6788905595039373, 0.7359598877705098, 0.07956323111032539, 0.17901726999823211, 0.8883898250987269, 0.0987099805665252, 0.4128335661409852, 0.24770013968459112, 0.37155020952688667, 0.5676631201188002, 0.18922104003960002, 0.26490945605544003, 0.6628046255586806, 0.2410198638395202, 0.10544619042979009, 0.6525254097054167, 0.11515154288919119, 0.23030308577838238, 0.44008958480986393, 0.44008958480986393, 0.5237675306721045, 0.3928256480040783, 0.06547094133401306, 0.8683069965406411, 0.9368694333807495, 0.6596389935502038, 0.2638555974200815, 0.06596389935502038, 0.6813509080116705, 0.21900564900375125, 0.10341933425177142, 0.678888316029, 0.9354230213847637, 0.8990918492162457, 0.7191827268042118, 0.05993189390035098, 0.21975027763462027, 0.7676335390545961, 0.054830967075328294, 0.16449290122598487, 0.8696531916574042, 0.8637180401168232, 0.1079647550146029, 0.2942299786643814, 0.4707679658630102, 0.2942299786643814, 0.8168658613895947, 0.15708958872876821, 0.06283583549150729, 0.503969056824138, 0.503969056824138], \"Term\": [\"a-i\", \"acord\", \"actual\", \"actual\", \"actual\", \"aeris\", \"amanunt\", \"amenz\", \"angaj\", \"angaj\", \"angaj\", \"ansparent\", \"ansparent\", \"ansparent\", \"anului.m\", \"anum\", \"anum\", \"anum\", \"asemen\", \"asemen\", \"atrag\", \"autor\", \"ban\", \"ban\", \"bata\", \"birocr\", \"birocrat\", \"birocrat\", \"buget\", \"buget\", \"buget\", \"bugetar\", \"bugetar\", \"bulgar\", \"buzunar\", \"calitat\", \"cap\", \"cap\", \"cap\", \"carbur\", \"cetaten\", \"cetaten\", \"cetaten\", \"cheltuiel\", \"cheltuiel\", \"clar\", \"clar\", \"colect\", \"compan\", \"compan\", \"comparat\", \"compet\", \"confuz\", \"consum\", \"contibu\", \"continu\", \"contribu\", \"contribu\", \"contribu\", \"contribut\", \"controal\", \"cot\", \"cot\", \"cred\", \"cred\", \"decat\", \"decat\", \"decat\", \"declar\", \"declar\", \"deducer\", \"degrab\", \"dezvolt\", \"dezvolt\", \"dezvolt\", \"difer\", \"difer\", \"econom\", \"econom\", \"econom\", \"economist\", \"eficientiz\", \"elimin\", \"elimin\", \"exces\", \"exces\", \"fapt\", \"fapt\", \"fapt\", \"fiscal\", \"fiscal\", \"fiscal\", \"ganiz\", \"gestion\", \"ilumin\", \"imbunat\", \"imbunatat\", \"impoz\", \"impoz\", \"impoz\", \"impun\", \"impun\", \"incat\", \"incat\", \"incat\", \"incerc\", \"incerc\", \"incerc\", \"incred\", \"incred\", \"incred\", \"indirect\", \"instit\", \"instit\", \"intampl\", \"interes\", \"invest\", \"invest\", \"invest\", \"las\", \"leg\", \"leg\", \"leg\", \"legisl\", \"legisl\", \"lei\", \"ligat\", \"lips\", \"lips\", \"lips\", \"lipsur\", \"lte\", \"lucru\", \"mar\", \"mar\", \"mar\", \"mediu\", \"men\", \"mic\", \"mic\", \"mic\", \"min\", \"min\", \"mobil\", \"modern\", \"momentan\", \"munc\", \"munc\", \"munc\", \"neincred\", \"neserioz\", \"nevoi\", \"nevoi\", \"nevoi\", \"nii\", \"numar\", \"numar\", \"numar\", \"oamen\", \"oamen\", \"oamen\", \"ofer\", \"ofer\", \"ofer\", \"ore\", \"parlamentar\", \"pens\", \"plat\", \"plat\", \"plat\", \"platit\", \"platit\", \"platit\", \"popor\", \"popul\", \"posibil\", \"posibil\", \"povar\", \"pozit\", \"pozit\", \"pozit\", \"predict\", \"predict\", \"preocup\", \"princip\", \"priv\", \"privat\", \"privat\", \"privest\", \"privest\", \"privest\", \"proast\", \"procent\", \"profund\", \"public\", \"public\", \"public\", \"punct\", \"punct\", \"punct\", \"raport\", \"raport\", \"raportar\", \"rau\", \"realitat\", \"realitat\", \"realiz\", \"realiz\", \"reduc\", \"reduc\", \"reduc\", \"rel\", \"retin\", \"ridic\", \"ridic\", \"ridic\", \"roap\", \"roman\", \"roman\", \"roman\", \"rupt\", \"rupt\", \"rupt\", \"rvic\", \"s-a\", \"sa-s\", \"salar\", \"salar\", \"scad\", \"scad\", \"scad\", \"scalitat\", \"schimb\", \"schimb\", \"schimb\", \"schimbar\", \"schimbar\", \"servic\", \"servic\", \"servic\", \"sigur\", \"sigur\", \"sigur\", \"simplif\", \"simplu\", \"singur\", \"sist\", \"sist\", \"sist\", \"slab\", \"slab\", \"social\", \"social\", \"social\", \"stabil\", \"stabil\", \"stabil\", \"stat\", \"stat\", \"stat\", \"stem\", \"stem\", \"stem\", \"stimuleaz\", \"stimuleaz\", \"stiu\", \"stiu\", \"stiu\", \"stribu\", \"sustin\", \"tar\", \"tar\", \"tar\", \"tax\", \"tax\", \"tax\", \"tehnolog\", \"tiner\", \"traiest\", \"transparent\", \"transparent\", \"transparent\", \"treb\", \"treb\", \"treb\", \"tva-\", \"utiliz\", \"utiliz\", \"venit\", \"venit\", \"venit\", \"venitur\", \"venitur\", \"venitur\", \"xel\", \"xel\"]}, \"R\": 30, \"lambda.step\": 0.01, \"plot.opts\": {\"xlab\": \"PC1\", \"ylab\": \"PC2\"}, \"topic.order\": [2, 3, 1]};\n",
       "\n",
       "function LDAvis_load_lib(url, callback){\n",
       "  var s = document.createElement('script');\n",
       "  s.src = url;\n",
       "  s.async = true;\n",
       "  s.onreadystatechange = s.onload = callback;\n",
       "  s.onerror = function(){console.warn(\"failed to load library \" + url);};\n",
       "  document.getElementsByTagName(\"head\")[0].appendChild(s);\n",
       "}\n",
       "\n",
       "if(typeof(LDAvis) !== \"undefined\"){\n",
       "   // already loaded: just create the visualization\n",
       "   !function(LDAvis){\n",
       "       new LDAvis(\"#\" + \"ldavis_el3751404801857288484569182271\", ldavis_el3751404801857288484569182271_data);\n",
       "   }(LDAvis);\n",
       "}else if(typeof define === \"function\" && define.amd){\n",
       "   // require.js is available: use it to load d3/LDAvis\n",
       "   require.config({paths: {d3: \"https://d3js.org/d3.v5\"}});\n",
       "   require([\"d3\"], function(d3){\n",
       "      window.d3 = d3;\n",
       "      LDAvis_load_lib(\"https://cdn.jsdelivr.net/gh/bmabey/pyLDAvis@3.3.1/pyLDAvis/js/ldavis.v3.0.0.js\", function(){\n",
       "        new LDAvis(\"#\" + \"ldavis_el3751404801857288484569182271\", ldavis_el3751404801857288484569182271_data);\n",
       "      });\n",
       "    });\n",
       "}else{\n",
       "    // require.js not available: dynamically load d3 & LDAvis\n",
       "    LDAvis_load_lib(\"https://d3js.org/d3.v5.js\", function(){\n",
       "         LDAvis_load_lib(\"https://cdn.jsdelivr.net/gh/bmabey/pyLDAvis@3.3.1/pyLDAvis/js/ldavis.v3.0.0.js\", function(){\n",
       "                 new LDAvis(\"#\" + \"ldavis_el3751404801857288484569182271\", ldavis_el3751404801857288484569182271_data);\n",
       "            })\n",
       "         });\n",
       "}\n",
       "</script>"
      ],
      "text/plain": [
       "<IPython.core.display.HTML object>"
      ]
     },
     "metadata": {
      "tags": []
     },
     "execution_count": 83
    },
    {
     "output_type": "execute_result",
     "data": {
      "text/html": [
       "\n",
       "<link rel=\"stylesheet\" type=\"text/css\" href=\"https://cdn.jsdelivr.net/gh/bmabey/pyLDAvis@3.3.1/pyLDAvis/js/ldavis.v1.0.0.css\">\n",
       "\n",
       "\n",
       "<div id=\"ldavis_el3751404801855381282727377768\"></div>\n",
       "<script type=\"text/javascript\">\n",
       "\n",
       "var ldavis_el3751404801855381282727377768_data = {\"mdsDat\": {\"x\": [-0.047607816642505546, -0.055128050832265935, 0.10273586747477148], \"y\": [0.07049361838616763, -0.06713548231028164, -0.00335813607588604], \"topics\": [1, 2, 3], \"cluster\": [1, 1, 1], \"Freq\": [54.003740499387135, 31.020032725936293, 14.976226774676576]}, \"tinfo\": {\"Term\": [\"public\", \"mic\", \"financiar\", \"stat\", \"schimb\", \"transparent\", \"tax\", \"venitur\", \"ban\", \"fac\", \"servic\", \"impoz\", \"acord\", \"pozit\", \"stiu\", \"mar\", \"bun\", \"transparente\", \"asigur\", \"incat\", \"gurant\", \"sist\", \"xel\", \"impozit\", \"eficient\", \"mod\", \"rupt\", \"social\", \"resur\", \"rvic\", \"eficiente\", \"sigur\", \"ministr\", \"aduc\", \"aplic\", \"sum\", \"duc\", \"compet\", \"cod\", \"lum\", \"coerent\", \"taier\", \"merg\", \"dialog\", \"par\", \"aloc\", \"oarb\", \"finant\", \"angaj\", \"baze\", \"cilitat\", \"licar\", \"norm\", \"puner\", \"depun\", \"lucru\", \"trebui\", \"regul\", \"suport\", \"flexibil\", \"reduc\", \"fapt\", \"domen\", \"stimul\", \"crest\", \"invest\", \"fiscal\", \"platit\", \"treb\", \"roman\", \"actual\", \"bun\", \"numar\", \"sist\", \"impoz\", \"ofer\", \"veder\", \"tax\", \"cetaten\", \"part\", \"tar\", \"nemultumest\", \"contribu\", \"plat\", \"mar\", \"stabil\", \"ban\", \"public\", \"salar\", \"stem\", \"mic\", \"transparent\", \"servic\", \"venitur\", \"stat\", \"anum\", \"econom\", \"impozit\", \"modern\", \"europen\", \"esential\", \"concurente\", \"predictib\", \"context\", \"strateg\", \"modif\", \"masin\", \"dificar\", \"favoar\", \"tel\", \"zvolt\", \"ver\", \"politicien\", \"particip\", \"constitu\", \"surs\", \"cercet\", \"medi\", \"incep\", \"exager\", \"combat\", \"erir\", \"brut\", \"gen\", \"fizic\", \"necesar\", \"gurant\", \"crear\", \"ducer\", \"stiu\", \"pozit\", \"med\", \"procedur\", \"locur\", \"mic\", \"venitur\", \"manifest\", \"stat\", \"implement\", \"tax\", \"impoz\", \"mar\", \"venit\", \"persoan\", \"xel\", \"societ\", \"munc\", \"social\", \"rvic\", \"servic\", \"fiscal\", \"ofer\", \"cot\", \"public\", \"econom\", \"sist\", \"plat\", \"salar\", \"stabil\", \"anum\", \"rupt\", \"cheltu\", \"noil\", \"inut\", \"acord\", \"centraliz\", \"hart\", \"adeverint\", \"anaf\", \"const\", \"dor\", \"multor\", \"anul\", \"exprim\", \"rababur\", \"aliz\", \"repar\", \"doresc\", \"solic\", \"dreptat\", \"demers\", \"printr\", \"destul\", \"ervic\", \"urgent\", \"astept\", \"fac\", \"deoseb\", \"calit\", \"ferit\", \"creeaz\", \"transparente\", \"mijloc\", \"nim\", \"tiner\", \"financiar\", \"refer\", \"agent\", \"functionar\", \"public\", \"asigur\", \"resur\", \"scazut\", \"schimb\", \"pens\", \"psa\", \"ad\", \"incat\", \"transparent\", \"ban\", \"servic\", \"mod\", \"sist\", \"stat\", \"sustin\", \"mic\", \"econom\", \"ridic\", \"social\", \"lips\", \"eficient\", \"plat\", \"tax\", \"fiscal\", \"impoz\", \"roman\", \"dezvolt\", \"rvic\", \"bun\"], \"Freq\": [112.0, 105.0, 23.0, 79.0, 41.0, 50.0, 253.0, 56.0, 50.0, 11.0, 63.0, 255.0, 9.0, 30.0, 26.0, 116.0, 27.0, 8.0, 14.0, 11.0, 15.0, 127.0, 39.0, 10.0, 22.0, 15.0, 5.0, 34.0, 11.0, 21.0, 15.261705518934791, 17.74076723161433, 17.704592795389857, 10.019706247043041, 10.00144839479767, 9.086260170526804, 9.083479152108517, 7.361754782719562, 6.4856460142938, 6.484524174356392, 6.4449375853888995, 6.441473500518406, 5.598327855128316, 5.591879792606645, 5.5848943915415, 16.023516973983305, 5.557133489887751, 32.413666289230086, 14.21575007800154, 4.715736579402455, 4.714785903517849, 4.712924825643415, 4.699487122699254, 4.696108884814995, 4.6903274612358175, 14.766729813570908, 22.416136120458486, 4.633035196317133, 3.832266431907017, 3.8322150296992095, 38.593896812241184, 21.980671453663703, 10.614737144783804, 11.425105139022063, 22.877725826891535, 43.58378150282864, 182.67372146225298, 17.552199557071535, 31.156499706335314, 52.99426030422202, 28.362296886704087, 22.612253030593305, 24.264657018436612, 86.21715843992192, 156.24989191831486, 70.33836570681991, 15.677571636723862, 146.614714459567, 24.47684533226614, 22.656121900398865, 25.433346093863562, 20.436135793784025, 21.749730342618776, 42.13566366672388, 64.38476062907657, 30.783415063192823, 32.693025100511704, 57.346333682261466, 26.160188150012907, 24.76856398988697, 38.78161131611831, 26.889347014951266, 27.365967362850842, 26.13448068707312, 28.146401254876395, 22.82638932912284, 22.66531918615874, 10.144047492247898, 8.504471443906272, 7.671781602587969, 6.019944170809944, 6.019636738277528, 6.019574642993754, 6.01923311893299, 8.041687469476843, 5.070107010820364, 3.5756062438051246, 3.573545228283357, 3.572796736602951, 3.5693276192049903, 3.524746249340981, 2.749517070274377, 2.749599255208785, 2.7492960841174128, 2.7491234957551556, 2.748845284532752, 2.7482751645988763, 2.7473254720234936, 2.7469258097313536, 4.131186445229351, 2.7355821580625106, 2.730218221343474, 2.7169423105501025, 2.6981350492824188, 11.515287903415127, 5.27769124009163, 12.774350140556312, 11.779224515878168, 13.107213735564214, 17.91286758638935, 20.93112939217829, 6.861841159891125, 6.103605998928245, 16.045298354453756, 55.69237850830214, 30.58749878897589, 5.0053407166770745, 39.3058982259238, 8.504923156656872, 98.04578420111834, 91.7223608976265, 48.599441226960174, 12.718457079831285, 14.800443761751215, 19.376175822521603, 6.762470442532327, 17.98942133084729, 16.692181452175717, 11.83322184411618, 23.348803178186007, 52.30535594571042, 31.462411596929336, 13.29154419422767, 25.14604767491451, 16.1149193431114, 24.93714209453115, 18.34155759736254, 14.158874072233061, 13.853780462173017, 12.853578852434909, 5.199479108502495, 4.499478587684424, 3.0709083335557, 3.057527068508714, 7.741211137418381, 2.3704964816790874, 2.3665290988325594, 2.3595599838667884, 2.3595837908090833, 2.3553632020269113, 2.310991911151387, 2.8794173401624565, 1.6593828214151454, 1.659335942312725, 1.6590589294347866, 1.6590498181358835, 1.6585545749535744, 1.6567223221354643, 1.6563806484266013, 1.6533342415514471, 1.6530153460898416, 1.6488888094253782, 1.648660879996369, 1.6481972324473524, 1.64825263502294, 1.642895191267966, 8.780545232845865, 1.621539041421463, 1.6160441934007739, 1.6067043772430116, 3.659892967672127, 6.075002630516971, 3.0832132896806588, 2.1248252963154854, 4.200536870676426, 11.831565952199222, 4.548855949481421, 3.378225391645646, 5.157026921697527, 30.36225498281769, 6.422719775768631, 5.182266395310356, 4.293673155888804, 12.709051048693658, 4.495536922213831, 4.712061944125285, 3.050557806586509, 4.942323571740942, 13.243418736318116, 11.667949361278987, 12.634625256647926, 5.740439261752589, 15.861373540553702, 11.767176696764468, 3.683540021367003, 11.139876111632173, 7.713610955651067, 5.083947838412236, 5.9712413951322025, 4.2632120262659425, 5.059873435407521, 6.496107467565154, 8.833186790953086, 8.591773227393004, 7.957774368002654, 5.329045305857815, 4.9627469891013565, 4.838664618034182, 4.86165301299223], \"Total\": [112.0, 105.0, 23.0, 79.0, 41.0, 50.0, 253.0, 56.0, 50.0, 11.0, 63.0, 255.0, 9.0, 30.0, 26.0, 116.0, 27.0, 8.0, 14.0, 11.0, 15.0, 127.0, 39.0, 10.0, 22.0, 15.0, 5.0, 34.0, 11.0, 21.0, 15.832503538167778, 18.468487123121385, 18.453399874515785, 10.535767098084534, 10.53266531735817, 9.647965090547112, 9.647416317105561, 7.8817837782500275, 6.99819881049719, 6.997984770245016, 6.991193724759187, 6.99517563762246, 6.1135321455385085, 6.112880731513581, 6.110787753794517, 17.532984151525106, 6.110698695812145, 35.805313727578664, 15.748049640116369, 5.2291137790880375, 5.229001276186021, 5.228943221311699, 5.228088507199681, 5.225247263511749, 5.225323627782186, 16.474866039643196, 25.133591693332882, 5.223556202425459, 4.344790947223136, 4.344773097012111, 44.19914099096513, 25.101193378944316, 12.07523164190574, 13.049301206393972, 26.847900762613953, 53.63989013055032, 243.5708506353564, 20.843146556600608, 38.2401301250448, 69.53844804526358, 35.56830642556377, 27.967787884029065, 31.00591585830436, 127.01567407500677, 255.93002718394402, 106.31488011399874, 19.1668861849065, 253.4936854516384, 32.28700487847013, 29.530051908200445, 34.04444393160443, 26.23095030133976, 28.877630751506132, 66.97332873165158, 116.76154152395884, 46.34927765876674, 50.65814059190507, 112.85463633999366, 41.218497246058156, 37.64360841075164, 105.61386593605262, 50.841922940280455, 63.34939579768478, 56.99579610665843, 79.21947617756466, 37.540298348975995, 46.4938494849212, 10.706030845433611, 9.06051946439092, 8.235873278125624, 6.585584738997908, 6.585606660753166, 6.585612026857455, 6.585635539587279, 9.093757080759543, 5.76926699595994, 4.107737854967953, 4.107801158711041, 4.107910066214916, 4.107358517328406, 4.111364387391524, 3.282473395221332, 3.282612218921448, 3.2826295667881356, 3.2826419835586975, 3.2826620116068805, 3.2826547125740464, 3.2826455175891827, 3.2827974895683525, 4.952218858999034, 3.2835549939404873, 3.279784010422161, 3.2848780347770683, 3.2849182701564006, 14.036226231793112, 6.523393340121078, 15.828837311429725, 14.806964423215133, 18.136729975103123, 26.009000779525678, 30.942008455309676, 9.031534855072135, 8.080207193506265, 24.292385200838197, 105.61386593605262, 56.99579610665843, 6.658451912885233, 79.21947617756466, 12.598341086424803, 253.4936854516384, 255.93002718394402, 116.76154152395884, 21.65673997846572, 27.017265722995102, 39.23395804672582, 9.724628549513797, 38.19437790333983, 34.49422918504519, 21.85206689531835, 63.34939579768478, 243.5708506353564, 106.31488011399874, 26.3975105631614, 112.85463633999366, 46.4938494849212, 127.01567407500677, 66.97332873165158, 41.218497246058156, 46.34927765876674, 37.540298348975995, 5.7889190822926295, 5.075470729716857, 3.654523657362071, 3.6575965282190004, 9.589328965337915, 2.940673778692644, 2.9414824056239812, 2.943166316161583, 2.9431991608421, 2.943592758367169, 2.955109778450465, 3.688270264618313, 2.2294274094434168, 2.22943810332004, 2.229493567077256, 2.229495870243647, 2.229627833472692, 2.230062880240212, 2.2299107459599288, 2.2305650813663145, 2.230734159290643, 2.2319516340821632, 2.231993854427084, 2.231628269310308, 2.2320959195013343, 2.23334847362106, 11.96066588287447, 2.23552248554419, 2.236374824061097, 2.242245255535801, 5.270862510956797, 8.950078485414558, 4.477231189843708, 3.000366888188926, 6.773952940634286, 23.29823343418643, 7.6600514403254, 5.348587194128324, 9.220206405104642, 112.85463633999366, 14.106001566222414, 11.026271268051499, 8.59265120199184, 41.315169907113074, 9.385496929168617, 10.176667649637535, 5.428384091294358, 11.158801226879884, 50.841922940280455, 50.65814059190507, 63.34939579768478, 15.237668362913162, 127.01567407500677, 79.21947617756466, 7.857030584417147, 105.61386593605262, 46.4938494849212, 17.9334889048981, 34.49422918504519, 11.969974058262046, 22.578025049341832, 66.97332873165158, 253.4936854516384, 243.5708506353564, 255.93002718394402, 69.53844804526358, 33.39897194749279, 21.85206689531835, 27.967787884029065], \"Category\": [\"Default\", \"Default\", \"Default\", \"Default\", \"Default\", \"Default\", \"Default\", \"Default\", \"Default\", \"Default\", \"Default\", \"Default\", \"Default\", \"Default\", \"Default\", \"Default\", \"Default\", \"Default\", \"Default\", \"Default\", \"Default\", \"Default\", \"Default\", \"Default\", \"Default\", \"Default\", \"Default\", \"Default\", \"Default\", \"Default\", \"Topic1\", \"Topic1\", \"Topic1\", \"Topic1\", \"Topic1\", \"Topic1\", \"Topic1\", \"Topic1\", \"Topic1\", \"Topic1\", \"Topic1\", \"Topic1\", \"Topic1\", \"Topic1\", \"Topic1\", \"Topic1\", \"Topic1\", \"Topic1\", \"Topic1\", \"Topic1\", \"Topic1\", \"Topic1\", \"Topic1\", \"Topic1\", \"Topic1\", \"Topic1\", \"Topic1\", \"Topic1\", \"Topic1\", \"Topic1\", \"Topic1\", \"Topic1\", \"Topic1\", \"Topic1\", \"Topic1\", \"Topic1\", \"Topic1\", \"Topic1\", \"Topic1\", \"Topic1\", \"Topic1\", \"Topic1\", \"Topic1\", \"Topic1\", \"Topic1\", \"Topic1\", \"Topic1\", \"Topic1\", \"Topic1\", \"Topic1\", \"Topic1\", \"Topic1\", \"Topic1\", \"Topic1\", \"Topic1\", \"Topic1\", \"Topic1\", \"Topic1\", \"Topic1\", \"Topic1\", \"Topic1\", \"Topic1\", \"Topic1\", \"Topic1\", \"Topic1\", \"Topic1\", \"Topic1\", \"Topic2\", \"Topic2\", \"Topic2\", \"Topic2\", \"Topic2\", \"Topic2\", \"Topic2\", \"Topic2\", \"Topic2\", \"Topic2\", \"Topic2\", \"Topic2\", \"Topic2\", \"Topic2\", \"Topic2\", \"Topic2\", \"Topic2\", \"Topic2\", \"Topic2\", \"Topic2\", \"Topic2\", \"Topic2\", \"Topic2\", \"Topic2\", \"Topic2\", \"Topic2\", \"Topic2\", \"Topic2\", \"Topic2\", \"Topic2\", \"Topic2\", \"Topic2\", \"Topic2\", \"Topic2\", \"Topic2\", \"Topic2\", \"Topic2\", \"Topic2\", \"Topic2\", \"Topic2\", \"Topic2\", \"Topic2\", \"Topic2\", \"Topic2\", \"Topic2\", \"Topic2\", \"Topic2\", \"Topic2\", \"Topic2\", \"Topic2\", \"Topic2\", \"Topic2\", \"Topic2\", \"Topic2\", \"Topic2\", \"Topic2\", \"Topic2\", \"Topic2\", \"Topic2\", \"Topic2\", \"Topic2\", \"Topic2\", \"Topic2\", \"Topic3\", \"Topic3\", \"Topic3\", \"Topic3\", \"Topic3\", \"Topic3\", \"Topic3\", \"Topic3\", \"Topic3\", \"Topic3\", \"Topic3\", \"Topic3\", \"Topic3\", \"Topic3\", \"Topic3\", \"Topic3\", \"Topic3\", \"Topic3\", \"Topic3\", \"Topic3\", \"Topic3\", \"Topic3\", \"Topic3\", \"Topic3\", \"Topic3\", \"Topic3\", \"Topic3\", \"Topic3\", \"Topic3\", \"Topic3\", \"Topic3\", \"Topic3\", \"Topic3\", \"Topic3\", \"Topic3\", \"Topic3\", \"Topic3\", \"Topic3\", \"Topic3\", \"Topic3\", \"Topic3\", \"Topic3\", \"Topic3\", \"Topic3\", \"Topic3\", \"Topic3\", \"Topic3\", \"Topic3\", \"Topic3\", \"Topic3\", \"Topic3\", \"Topic3\", \"Topic3\", \"Topic3\", \"Topic3\", \"Topic3\", \"Topic3\", \"Topic3\", \"Topic3\", \"Topic3\", \"Topic3\", \"Topic3\", \"Topic3\", \"Topic3\", \"Topic3\", \"Topic3\", \"Topic3\", \"Topic3\", \"Topic3\"], \"logprob\": [30.0, 29.0, 28.0, 27.0, 26.0, 25.0, 24.0, 23.0, 22.0, 21.0, 20.0, 19.0, 18.0, 17.0, 16.0, 15.0, 14.0, 13.0, 12.0, 11.0, 10.0, 9.0, 8.0, 7.0, 6.0, 5.0, 4.0, 3.0, 2.0, 1.0, -5.698, -5.5475, -5.5495, -6.1188, -6.1206, -6.2166, -6.2169, -6.427, -6.5537, -6.5539, -6.56, -6.5606, -6.7008, -6.702, -6.7033, -5.6493, -6.7082, -4.9447, -5.769, -6.8724, -6.8726, -6.873, -6.8759, -6.8766, -6.8778, -5.7309, -5.3135, -6.8901, -7.0799, -7.0799, -4.7702, -5.3332, -6.0611, -5.9875, -5.2932, -4.6486, -3.2156, -5.5581, -4.9843, -4.4531, -5.0783, -5.3048, -5.2343, -3.9664, -3.3719, -4.17, -5.6711, -3.4355, -5.2256, -5.3029, -5.1873, -5.406, -5.3437, -4.6824, -4.2584, -4.9963, -4.9362, -4.3742, -5.1591, -5.2137, -4.7654, -5.1316, -5.114, -5.1601, -5.0859, -5.2954, -5.3025, -5.552, -5.7283, -5.8313, -6.0738, -6.0739, -6.0739, -6.0739, -5.7843, -6.2455, -6.5948, -6.5953, -6.5955, -6.5965, -6.6091, -6.8575, -6.8574, -6.8576, -6.8576, -6.8577, -6.8579, -6.8583, -6.8584, -6.4503, -6.8626, -6.8645, -6.8694, -6.8763, -5.4252, -6.2054, -5.3215, -5.4026, -5.2957, -4.9834, -4.8277, -5.9429, -6.06, -5.0935, -3.8491, -4.4483, -6.2584, -4.1975, -5.7283, -3.2835, -3.3501, -3.9853, -5.3258, -5.1742, -4.9049, -5.9575, -4.9791, -5.054, -5.398, -4.7184, -3.9118, -4.4201, -5.2818, -4.6442, -5.0892, -4.6525, -4.9597, -5.2186, -5.2403, -5.3153, -5.4922, -5.6368, -6.0188, -6.0231, -5.0942, -6.2776, -6.2793, -6.2823, -6.2822, -6.284, -6.3031, -6.0831, -6.6343, -6.6343, -6.6345, -6.6345, -6.6348, -6.6359, -6.6361, -6.6379, -6.6381, -6.6406, -6.6408, -6.641, -6.641, -6.6443, -4.9682, -6.6574, -6.6607, -6.6665, -5.8433, -5.3365, -6.0148, -6.387, -5.7055, -4.67, -5.6259, -5.9234, -5.5004, -3.7275, -5.2809, -5.4955, -5.6836, -4.5984, -5.6376, -5.5906, -6.0254, -5.5429, -4.5572, -4.6839, -4.6043, -5.3932, -4.3768, -4.6754, -5.8369, -4.7302, -5.0977, -5.5146, -5.3538, -5.6907, -5.5194, -5.2695, -4.9622, -4.9899, -5.0666, -5.4676, -5.5388, -5.5641, -5.5593], \"loglift\": [30.0, 29.0, 28.0, 27.0, 26.0, 25.0, 24.0, 23.0, 22.0, 21.0, 20.0, 19.0, 18.0, 17.0, 16.0, 15.0, 14.0, 13.0, 12.0, 11.0, 10.0, 9.0, 8.0, 7.0, 6.0, 5.0, 4.0, 3.0, 2.0, 1.0, 0.5794, 0.5759, 0.5747, 0.5659, 0.5644, 0.5561, 0.5559, 0.5479, 0.5401, 0.5399, 0.5348, 0.5337, 0.5281, 0.527, 0.5261, 0.5261, 0.5212, 0.5166, 0.5138, 0.5128, 0.5126, 0.5122, 0.5095, 0.5093, 0.5081, 0.5067, 0.5017, 0.4962, 0.4906, 0.4906, 0.4805, 0.4834, 0.4872, 0.4832, 0.4561, 0.4085, 0.3284, 0.4443, 0.4113, 0.3444, 0.3897, 0.4036, 0.371, 0.2287, 0.1227, 0.203, 0.4152, 0.0686, 0.3392, 0.3511, 0.3245, 0.3665, 0.3327, 0.1527, 0.0209, 0.2069, 0.1782, -0.0609, 0.1615, 0.1975, -0.3857, -0.0209, -0.2232, -0.1636, -0.4187, 0.1186, -0.1024, 1.1166, 1.1072, 1.0996, 1.0807, 1.0807, 1.0807, 1.0806, 1.0476, 1.0414, 1.0318, 1.0312, 1.031, 1.0301, 1.0166, 0.9934, 0.9934, 0.9932, 0.9932, 0.9931, 0.9929, 0.9925, 0.9923, 0.9893, 0.988, 0.9871, 0.9807, 0.9738, 0.9726, 0.9586, 0.9561, 0.9418, 0.8458, 0.7976, 0.7797, 0.8958, 0.89, 0.7558, 0.5306, 0.5482, 0.8852, 0.4697, 0.7776, 0.2206, 0.1444, 0.294, 0.6383, 0.5687, 0.465, 0.8073, 0.4176, 0.4447, 0.5572, 0.1724, -0.3678, -0.0471, 0.4844, -0.3309, 0.111, -0.4574, -0.1246, 0.102, -0.0371, 0.0987, 1.7913, 1.7782, 1.7247, 1.7195, 1.6846, 1.6832, 1.6812, 1.6777, 1.6777, 1.6758, 1.6528, 1.6511, 1.6034, 1.6034, 1.6032, 1.6032, 1.6028, 1.6015, 1.6014, 1.5992, 1.599, 1.5959, 1.5958, 1.5957, 1.5955, 1.5917, 1.5896, 1.5776, 1.5738, 1.5654, 1.5339, 1.5112, 1.5257, 1.5537, 1.4208, 1.2211, 1.3776, 1.4392, 1.3177, 0.5858, 1.1119, 1.1437, 1.2049, 0.7198, 1.1626, 1.1287, 1.3224, 1.0843, 0.5535, 0.4305, 0.2865, 0.9225, -0.1817, -0.0082, 1.1412, -0.3506, 0.1024, 0.6381, 0.1449, 0.8663, 0.4031, -0.4344, -1.4581, -1.4459, -1.572, -0.67, -0.0079, 0.391, 0.149]}, \"token.table\": {\"Topic\": [1, 3, 1, 2, 3, 1, 3, 3, 1, 1, 3, 3, 1, 2, 3, 1, 2, 3, 1, 2, 3, 1, 1, 2, 3, 3, 1, 2, 3, 1, 2, 1, 3, 3, 3, 2, 1, 2, 3, 3, 1, 1, 1, 2, 1, 2, 3, 2, 2, 1, 2, 3, 1, 2, 1, 2, 3, 1, 3, 1, 2, 3, 3, 3, 1, 3, 1, 2, 3, 1, 2, 1, 3, 3, 3, 3, 1, 1, 2, 3, 1, 2, 3, 1, 2, 3, 1, 2, 3, 2, 2, 1, 2, 3, 1, 2, 3, 1, 2, 3, 2, 3, 1, 2, 3, 1, 2, 3, 1, 2, 3, 1, 2, 3, 1, 1, 2, 3, 2, 1, 2, 3, 1, 2, 1, 2, 3, 2, 1, 3, 2, 3, 1, 2, 3, 1, 1, 2, 3, 1, 2, 3, 1, 2, 3, 1, 1, 2, 1, 2, 3, 2, 1, 2, 3, 2, 1, 1, 2, 3, 2, 3, 1, 1, 2, 3, 2, 2, 3, 1, 2, 3, 1, 2, 3, 1, 2, 3, 1, 3, 3, 1, 1, 2, 3, 1, 1, 2, 3, 1, 1, 2, 2, 1, 2, 3, 1, 2, 3, 1, 2, 3, 1, 2, 3, 2, 1, 2, 3, 2, 3, 1, 2, 3, 1, 2, 3, 1, 2, 3, 1, 3, 1, 2, 3, 1, 2, 3, 1, 3, 1, 2, 3, 1, 2, 3, 1, 2, 3, 3, 1, 2, 3, 1, 2, 3, 1, 2, 3, 1, 2, 3, 1, 2, 3, 1, 1, 2, 3, 1, 2, 3, 1, 2, 3, 3, 1, 2, 3, 1, 2, 3, 1, 2, 3, 1, 2, 3, 1, 2, 3, 1, 2, 1, 1, 2, 1, 2, 3, 1, 1, 2, 3, 1, 2, 3, 2, 2, 3, 1, 2, 3, 2, 3, 1, 2, 3, 1, 2, 3, 3, 1, 2, 1, 2, 3, 1, 2, 2, 1, 2, 2], \"Freq\": [0.20856516730516844, 0.8342606692206738, 0.787217689394279, 0.16868950487020265, 0.02811491747836711, 0.3684337670960779, 0.5526506506441169, 0.6795402587402396, 0.9491477845802097, 0.37393052172648483, 0.5608957825897273, 0.8970637832046906, 0.9125657025480309, 0.05703535640925193, 0.6795326753992976, 0.8889989757421509, 0.06349992683872506, 0.8970913300555975, 0.6126749389733441, 0.3462945307240641, 0.05327608164985601, 0.949427300563674, 0.2835672448511715, 0.21267543363837862, 0.42535086727675725, 0.8955163171456543, 0.6514254099028902, 0.11844098361870731, 0.23688196723741461, 0.9561849696206084, 0.9132759171692042, 0.822374658137839, 0.1787770995951824, 0.8943044692160067, 0.6801162422338305, 0.9138944734298885, 0.7433331177771731, 0.09291663972214664, 0.12388885296286219, 0.7881042395890531, 0.9562055421120393, 0.8573634677254515, 0.858222534837092, 0.9136439028845982, 0.8881238304603926, 0.9110777957263859, 0.6794418128373891, 0.9138980172146929, 0.911073800536496, 0.7618353523982425, 0.10388663896339671, 0.1385155186178623, 0.49247068085813855, 0.49247068085813855, 0.1350715746209463, 0.8104294477256778, 0.06753578731047315, 0.18972226991716282, 0.7588890796686513, 0.8566777791442002, 0.07449371992558262, 0.07449371992558262, 0.8965658196743557, 0.8946454410245588, 0.9568785315833498, 0.8960598148749684, 0.5389387442313545, 0.32935145480804995, 0.1497052067309318, 0.9815339548616334, 0.9737569676461976, 0.9109556094829462, 0.08281414631663148, 0.6767938079947459, 0.896835698096804, 0.8966337798020744, 0.9328922588364259, 0.1654101926928502, 0.7167775016690175, 0.11027346179523348, 0.49468908801494954, 0.34413153948866054, 0.17206576974433027, 0.7529445096658516, 0.04429085350975597, 0.22145426754877987, 0.9474180734486595, 0.9146943794063596, 0.8962066073029746, 0.9110808284752231, 0.9713602589354914, 0.20192968616135126, 0.807718744645405, 0.8970870270054302, 0.16721477044715727, 0.08360738522357863, 0.7524664670122078, 0.8764523529966628, 0.039838743318030126, 0.07967748663606025, 0.9737311517351825, 0.8919630870272865, 0.30045196429908805, 0.21460854592792003, 0.515060510227008, 0.89372209509094, 0.05585763094318375, 0.027928815471591876, 0.7513214307978279, 0.21349024263107677, 0.03695023430153252, 0.14248844147794149, 0.8549306488676489, 0.07124422073897074, 0.9206464666131332, 0.21691488369422263, 0.21691488369422263, 0.5422872092355565, 0.9132647308930353, 0.18952750230326473, 0.8212858433141472, 0.679929275176384, 0.3175021197282993, 0.7143797693886734, 0.6095416068075453, 0.3594732552967575, 0.03125854393884848, 0.9340529785849859, 0.5376921658526274, 0.4480768048771894, 0.9138547258955236, 0.8202107522944295, 0.8202850507879774, 0.13049989444354188, 0.055928526190089374, 0.9562161584813943, 0.33416947944336406, 0.33416947944336406, 0.33416947944336406, 0.288156142022582, 0.6586426103373302, 0.041165163146083136, 0.9104778129245937, 0.060698520861639585, 0.060698520861639585, 0.8573896910309975, 0.15018505999342438, 0.7509252999671219, 0.5481256856040012, 0.4196587280405635, 0.034257855350250076, 0.9737719740714094, 0.11072315127460282, 0.7750620589222197, 0.11072315127460282, 0.9138970333303728, 0.9814293696613077, 0.36926969441317326, 0.5302334073625052, 0.10415299073192066, 0.2233523259349286, 0.6700569778047858, 0.9754300086922231, 0.45938786914651875, 0.13125367689900536, 0.39376103069701607, 0.9933205303924605, 0.8666612246410789, 0.8133894169250799, 0.4974554121049995, 0.4712735483099995, 0.026181863794999972, 0.1532944508879545, 0.7664722544397724, 0.1532944508879545, 0.7624580798728626, 0.03812290399364313, 0.15249161597457253, 0.3332925729638409, 0.6665851459276818, 0.8209004185693183, 0.9563724854914799, 0.7740458340169315, 0.16125954875352738, 0.06450381950141096, 0.9818844454091624, 0.6584214733153138, 0.29158665246821036, 0.047030105236808124, 0.9818701355278258, 0.7788675777306351, 0.23704665409193243, 0.9139014740963683, 0.3196421055422736, 0.2130947370281824, 0.4261894740563648, 0.296106944426689, 0.5552005208000419, 0.1850668402666806, 0.6271153128476771, 0.2687637055061473, 0.08958790183538244, 0.8635932176132859, 0.09595480195703177, 0.04797740097851588, 0.9139063038599471, 0.2908667035302161, 0.6786889749038376, 0.03231852261446846, 0.9110770533597772, 0.8960767650426494, 0.12375920271000718, 0.7425552162600431, 0.12375920271000718, 0.2947919793869707, 0.19652798625798049, 0.49131996564495123, 0.5050745086650926, 0.22152390730925112, 0.26582868877110133, 0.956892515865294, 0.8970647099116282, 0.8823700896805234, 0.06787462228311719, 0.06787462228311719, 0.26109485237543517, 0.13054742618771759, 0.652737130938588, 0.9572022978671781, 0.8970106893960675, 0.45346245148960246, 0.0906924902979205, 0.45346245148960246, 0.5018543824755632, 0.22304639221136144, 0.2788079902642018, 0.7621682894835607, 0.15818587140224846, 0.07190266881920385, 0.8637191035014109, 0.22881130759631776, 0.5491471382311627, 0.22881130759631776, 0.630784762597973, 0.3396533337066009, 0.024260952407614347, 0.34913554960831855, 0.11637851653610617, 0.4655140661444247, 0.4598795077623254, 0.24204184619069757, 0.31465440004790685, 0.42620769559078836, 0.3630658147625234, 0.20521111269186104, 0.9746331618828232, 0.6770817903089211, 0.1968261018339887, 0.12596870517375275, 0.34788427755917334, 0.4928360598754956, 0.17394213877958667, 0.10283169119606085, 0.719821838372426, 0.2056633823921217, 0.8968968841571472, 0.6688345874174914, 0.3020543298014477, 0.04315061854306396, 0.3534484365592124, 0.4923031794931887, 0.1514779013825196, 0.6641233679622378, 0.2922142819033846, 0.053129869436979026, 0.8429570155534579, 0.07663245595940527, 0.07663245595940527, 0.30758582645349497, 0.6920681095203637, 0.03844822830668687, 0.10996555011523097, 0.8797244009218478, 0.9328391961967217, 0.920642684213955, 0.9138924413761026, 0.38182363779388895, 0.1272745459312963, 0.5090981837251852, 0.857734002807583, 0.7343342147172446, 0.11749347435475914, 0.11749347435475914, 0.5798961017040588, 0.3865974011360392, 0.035503842961472985, 0.9738619073851297, 0.29524858196206005, 0.5904971639241201, 0.5310578050266613, 0.21635688352938057, 0.25569449871654065, 0.33519259131514123, 0.6703851826302825, 0.8106666974884851, 0.15690323177196486, 0.026150538628660812, 0.8753225670422536, 0.03978738941101153, 0.07957477882202306, 0.8960188415410095, 0.834773047935123, 0.15651994648783557, 0.32322501017976013, 0.6002750189052688, 0.09235000290850288, 0.45617399485648374, 0.5438997630981153, 0.91394495515712, 0.5097624862671498, 0.4842743619537923, 0.9729130339959529], \"Term\": [\"acord\", \"acord\", \"actual\", \"actual\", \"actual\", \"ad\", \"ad\", \"adeverint\", \"aduc\", \"agent\", \"agent\", \"aliz\", \"aloc\", \"aloc\", \"anaf\", \"angaj\", \"angaj\", \"anul\", \"anum\", \"anum\", \"anum\", \"aplic\", \"asigur\", \"asigur\", \"asigur\", \"astept\", \"ban\", \"ban\", \"ban\", \"baze\", \"brut\", \"bun\", \"bun\", \"calit\", \"centraliz\", \"cercet\", \"cetaten\", \"cetaten\", \"cetaten\", \"cheltu\", \"cilitat\", \"cod\", \"coerent\", \"combat\", \"compet\", \"concurente\", \"const\", \"constitu\", \"context\", \"contribu\", \"contribu\", \"contribu\", \"cot\", \"cot\", \"crear\", \"crear\", \"crear\", \"creeaz\", \"creeaz\", \"crest\", \"crest\", \"crest\", \"demers\", \"deoseb\", \"depun\", \"destul\", \"dezvolt\", \"dezvolt\", \"dezvolt\", \"dialog\", \"dificar\", \"domen\", \"domen\", \"dor\", \"doresc\", \"dreptat\", \"duc\", \"ducer\", \"ducer\", \"ducer\", \"econom\", \"econom\", \"econom\", \"eficient\", \"eficient\", \"eficient\", \"eficiente\", \"erir\", \"ervic\", \"esential\", \"europen\", \"exager\", \"exager\", \"exprim\", \"fac\", \"fac\", \"fac\", \"fapt\", \"fapt\", \"fapt\", \"favoar\", \"ferit\", \"financiar\", \"financiar\", \"financiar\", \"finant\", \"finant\", \"finant\", \"fiscal\", \"fiscal\", \"fiscal\", \"fizic\", \"fizic\", \"fizic\", \"flexibil\", \"functionar\", \"functionar\", \"functionar\", \"gen\", \"gurant\", \"gurant\", \"hart\", \"implement\", \"implement\", \"impoz\", \"impoz\", \"impoz\", \"impozit\", \"incat\", \"incat\", \"incep\", \"inut\", \"invest\", \"invest\", \"invest\", \"licar\", \"lips\", \"lips\", \"lips\", \"locur\", \"locur\", \"locur\", \"lucru\", \"lucru\", \"lucru\", \"lum\", \"manifest\", \"manifest\", \"mar\", \"mar\", \"mar\", \"masin\", \"med\", \"med\", \"med\", \"medi\", \"merg\", \"mic\", \"mic\", \"mic\", \"mijloc\", \"mijloc\", \"ministr\", \"mod\", \"mod\", \"mod\", \"modern\", \"modif\", \"multor\", \"munc\", \"munc\", \"munc\", \"necesar\", \"necesar\", \"necesar\", \"nemultumest\", \"nemultumest\", \"nemultumest\", \"nim\", \"nim\", \"noil\", \"norm\", \"numar\", \"numar\", \"numar\", \"oarb\", \"ofer\", \"ofer\", \"ofer\", \"par\", \"part\", \"part\", \"particip\", \"pens\", \"pens\", \"pens\", \"persoan\", \"persoan\", \"persoan\", \"plat\", \"plat\", \"plat\", \"platit\", \"platit\", \"platit\", \"politicien\", \"pozit\", \"pozit\", \"pozit\", \"predictib\", \"printr\", \"procedur\", \"procedur\", \"procedur\", \"psa\", \"psa\", \"psa\", \"public\", \"public\", \"public\", \"puner\", \"rababur\", \"reduc\", \"reduc\", \"reduc\", \"refer\", \"refer\", \"refer\", \"regul\", \"repar\", \"resur\", \"resur\", \"resur\", \"ridic\", \"ridic\", \"ridic\", \"roman\", \"roman\", \"roman\", \"rupt\", \"rvic\", \"rvic\", \"rvic\", \"salar\", \"salar\", \"salar\", \"scazut\", \"scazut\", \"scazut\", \"schimb\", \"schimb\", \"schimb\", \"servic\", \"servic\", \"servic\", \"sigur\", \"sist\", \"sist\", \"sist\", \"social\", \"social\", \"social\", \"societ\", \"societ\", \"societ\", \"solic\", \"stabil\", \"stabil\", \"stabil\", \"stat\", \"stat\", \"stat\", \"stem\", \"stem\", \"stem\", \"stimul\", \"stimul\", \"stimul\", \"stiu\", \"stiu\", \"stiu\", \"strateg\", \"strateg\", \"sum\", \"suport\", \"surs\", \"sustin\", \"sustin\", \"sustin\", \"taier\", \"tar\", \"tar\", \"tar\", \"tax\", \"tax\", \"tax\", \"tel\", \"tiner\", \"tiner\", \"transparent\", \"transparent\", \"transparent\", \"transparente\", \"transparente\", \"treb\", \"treb\", \"treb\", \"trebui\", \"trebui\", \"trebui\", \"urgent\", \"veder\", \"veder\", \"venit\", \"venit\", \"venit\", \"venitur\", \"venitur\", \"ver\", \"xel\", \"xel\", \"zvolt\"]}, \"R\": 30, \"lambda.step\": 0.01, \"plot.opts\": {\"xlab\": \"PC1\", \"ylab\": \"PC2\"}, \"topic.order\": [1, 3, 2]};\n",
       "\n",
       "function LDAvis_load_lib(url, callback){\n",
       "  var s = document.createElement('script');\n",
       "  s.src = url;\n",
       "  s.async = true;\n",
       "  s.onreadystatechange = s.onload = callback;\n",
       "  s.onerror = function(){console.warn(\"failed to load library \" + url);};\n",
       "  document.getElementsByTagName(\"head\")[0].appendChild(s);\n",
       "}\n",
       "\n",
       "if(typeof(LDAvis) !== \"undefined\"){\n",
       "   // already loaded: just create the visualization\n",
       "   !function(LDAvis){\n",
       "       new LDAvis(\"#\" + \"ldavis_el3751404801855381282727377768\", ldavis_el3751404801855381282727377768_data);\n",
       "   }(LDAvis);\n",
       "}else if(typeof define === \"function\" && define.amd){\n",
       "   // require.js is available: use it to load d3/LDAvis\n",
       "   require.config({paths: {d3: \"https://d3js.org/d3.v5\"}});\n",
       "   require([\"d3\"], function(d3){\n",
       "      window.d3 = d3;\n",
       "      LDAvis_load_lib(\"https://cdn.jsdelivr.net/gh/bmabey/pyLDAvis@3.3.1/pyLDAvis/js/ldavis.v3.0.0.js\", function(){\n",
       "        new LDAvis(\"#\" + \"ldavis_el3751404801855381282727377768\", ldavis_el3751404801855381282727377768_data);\n",
       "      });\n",
       "    });\n",
       "}else{\n",
       "    // require.js not available: dynamically load d3 & LDAvis\n",
       "    LDAvis_load_lib(\"https://d3js.org/d3.v5.js\", function(){\n",
       "         LDAvis_load_lib(\"https://cdn.jsdelivr.net/gh/bmabey/pyLDAvis@3.3.1/pyLDAvis/js/ldavis.v3.0.0.js\", function(){\n",
       "                 new LDAvis(\"#\" + \"ldavis_el3751404801855381282727377768\", ldavis_el3751404801855381282727377768_data);\n",
       "            })\n",
       "         });\n",
       "}\n",
       "</script>"
      ],
      "text/plain": [
       "<IPython.core.display.HTML object>"
      ]
     },
     "metadata": {
      "tags": []
     },
     "execution_count": 83
    }
   ]
  },
  {
   "cell_type": "markdown",
   "metadata": {
    "id": "Fuo-MNFI4hgl"
   },
   "source": [
    "## 7.3. Topic analysis of all responses (disregarding any categorization)"
   ]
  },
  {
   "cell_type": "code",
   "metadata": {
    "colab": {
     "base_uri": "https://localhost:8080/",
     "height": 861
    },
    "id": "WSizAxmu4hA4",
    "outputId": "d4017377-9b55-4945-bac7-9ed72a5cb17e"
   },
   "source": [
    "responses_list = df_text['all_responses'].to_list()\n",
    "dictionary_responses = Dictionary(responses_list)\n",
    "responses_bow = [dictionary_responses.doc2bow(response) for response in responses_list]\n",
    "# Build the LDA model\n",
    "ldamodel = LdaModel(responses_bow, \n",
    "                  num_topics = 3,\n",
    "                  id2word = dictionary_responses,\n",
    "                  passes  = 15,\n",
    "                  alpha='symmetric',\n",
    "                  iterations=100,\n",
    "                  random_state = 5)\n",
    "lda_display = gensimvis.prepare(ldamodel,\n",
    "                            responses_bow,\n",
    "                            dictionary_responses,\n",
    "                            sort_topics=True)\n",
    "pyLDAvis.display(lda_display)"
   ],
   "execution_count": null,
   "outputs": [
    {
     "output_type": "execute_result",
     "data": {
      "text/html": [
       "\n",
       "<link rel=\"stylesheet\" type=\"text/css\" href=\"https://cdn.jsdelivr.net/gh/bmabey/pyLDAvis@3.3.1/pyLDAvis/js/ldavis.v1.0.0.css\">\n",
       "\n",
       "\n",
       "<div id=\"ldavis_el3061400983881589287737335999\"></div>\n",
       "<script type=\"text/javascript\">\n",
       "\n",
       "var ldavis_el3061400983881589287737335999_data = {\"mdsDat\": {\"x\": [0.01103109973894091, -0.09401622507713589, 0.08298512533819496], \"y\": [-0.06991794101069265, 0.02842281884022719, 0.04149512217046554], \"topics\": [1, 2, 3], \"cluster\": [1, 1, 1], \"Freq\": [45.04160996591182, 33.2506138045076, 21.707776229580585]}, \"tinfo\": {\"Term\": [\"tax\", \"mic\", \"public\", \"ban\", \"impoz\", \"ofer\", \"xel\", \"sist\", \"sigur\", \"servic\", \"reduc\", \"ducer\", \"numar\", \"crear\", \"invest\", \"pozit\", \"schimb\", \"anum\", \"fiscal\", \"actual\", \"salar\", \"calitat\", \"eficiente\", \"organiz\", \"mar\", \"crest\", \"munc\", \"slab\", \"ansparent\", \"instit\", \"europ\", \"raportar\", \"calc\", \"strain\", \"vin\", \"flexibil\", \"sur\", \"nemultum\", \"explic\", \"cilitat\", \"mplific\", \"umer\", \"administrat\", \"international\", \"legislat\", \"litic\", \"costur\", \"lua\", \"fizic\", \"categor\", \"hart\", \"duc\", \"scap\", \"jur\", \"genereaz\", \"realitat\", \"multim\", \"tipur\", \"ministru\", \"particip\", \"inform\", \"jurid\", \"redus\", \"complic\", \"viat\", \"baz\", \"administr\", \"lucru\", \"rvic\", \"fiscal\", \"roman\", \"priv\", \"actual\", \"venit\", \"sist\", \"stem\", \"persoan\", \"ajung\", \"evaziun\", \"relat\", \"inteles\", \"dest\", \"corect\", \"tar\", \"contrib\", \"ofer\", \"public\", \"nevoi\", \"venitur\", \"impoz\", \"cot\", \"birocrat\", \"finant\", \"schimb\", \"stat\", \"mar\", \"stabil\", \"tax\", \"transparent\", \"treb\", \"mic\", \"cetaten\", \"servic\", \"contribu\", \"plat\", \"ban\", \"buget\", \"crear\", \"ducer\", \"tul\", \"mediu\", \"predictib\", \"context\", \"esential\", \"concurente\", \"ader\", \"taier\", \"eficiente\", \"oarb\", \"creeaz\", \"ester\", \"lei\", \"nitur\", \"sanctiun\", \"minu\", \"promov\", \"forte\", \"carbur\", \"feroviar\", \"rijin\", \"economico\", \"aferent\", \"vrem\", \"ilegal\", \"impiz\", \"nominal\", \"stin\", \"invatam\", \"xel\", \"privat\", \"modern\", \"diminu\", \"reduc\", \"pozit\", \"numar\", \"mic\", \"prim\", \"tax\", \"salar\", \"impoz\", \"crest\", \"munc\", \"invest\", \"mar\", \"plat\", \"locur\", \"lte\", \"aloc\", \"stat\", \"fondur\", \"sum\", \"venitur\", \"econom\", \"ridic\", \"incuraj\", \"fiscal\", \"social\", \"buget\", \"stiu\", \"transparent\", \"servic\", \"stabil\", \"roman\", \"sist\", \"public\", \"ofer\", \"ban\", \"distribu\", \"imbunat\", \"tel\", \"multipl\", \"aliz\", \"realist\", \"minister\", \"zon\", \"nii\", \"scol\", \"beneficiaz\", \"iau\", \"partiz\", \"favor\", \"crester\", \"bur\", \"atent\", \"scopur\", \"reabilit\", \"proven\", \"ces\", \"intocm\", \"confuz\", \"lumin\", \"rel\", \"reped\", \"intervent\", \"ingrijir\", \"rababur\", \"direction\", \"organiz\", \"raspuns\", \"dat\", \"pus\", \"sigur\", \"intreb\", \"slab\", \"reglement\", \"gestion\", \"instit\", \"ban\", \"cheltu\", \"calitat\", \"ansparent\", \"public\", \"servic\", \"anum\", \"ofer\", \"cunostint\", \"domen\", \"spital\", \"schimb\", \"sist\", \"folos\", \"punct\", \"transparent\", \"dezvolt\", \"benefic\", \"econom\", \"incerc\", \"stat\", \"cetatean\", \"tax\", \"fiscal\", \"bin\", \"invest\", \"mar\", \"impoz\", \"bun\", \"ptul\", \"actual\", \"fapt\", \"finant\", \"plat\", \"stem\", \"stabil\"], \"Freq\": [426.0, 174.0, 190.0, 106.0, 436.0, 172.0, 66.0, 235.0, 40.0, 110.0, 80.0, 29.0, 48.0, 23.0, 94.0, 57.0, 75.0, 54.0, 411.0, 70.0, 68.0, 30.0, 19.0, 15.0, 217.0, 47.0, 57.0, 14.0, 22.0, 18.0, 10.973290272313225, 7.415570726232496, 7.393458046056624, 6.531417032984703, 5.6370456129105815, 5.634645647089306, 6.407636144398967, 8.781965145835308, 6.376030047867214, 5.547078710853553, 4.75342101196414, 4.7498843029208055, 4.749751538854097, 4.749312788965002, 4.739280853273447, 4.735570529681341, 6.305091221797108, 4.720088982565172, 20.422599891357322, 7.837664616851218, 4.673862734178471, 17.84044720476373, 3.8635470728480574, 3.8626185099672887, 3.8625599837958697, 3.8623518034545805, 3.8606997156895577, 3.860453434417882, 3.859523300364726, 3.8588677286862136, 18.41156051160817, 10.815166697690525, 18.82028686755755, 7.645031811918525, 4.620792851666713, 9.096873656206908, 26.83376724569627, 16.873541433060414, 28.758990760835076, 283.819445821955, 98.01768363880899, 19.688912664103754, 51.53802400013981, 31.414030134465666, 152.89949556721746, 47.55832918695558, 34.0103170878535, 10.173392269495396, 19.644222236725433, 15.634571450808995, 10.178969145883364, 18.13343000447352, 14.898321641392087, 41.46146072810205, 23.395501579447235, 90.09070415644138, 95.77779514501857, 35.34973212081144, 51.17236505049289, 174.0365908151201, 30.194954336979553, 26.593802087016364, 31.71641482973979, 41.3576125180051, 68.42683251528555, 83.74089265499059, 39.4609214934158, 125.66191502162624, 48.47649404886667, 31.95659681020911, 57.51889908634421, 31.181594033864688, 39.853302943022314, 29.242726457716408, 36.29298546339953, 30.48439257178407, 27.655770072828034, 22.314326668189658, 27.932527200566586, 10.465643749080607, 13.602198727483707, 7.958305897960753, 7.954499782070514, 7.953265099649316, 7.953248861458714, 7.951060765274976, 7.937080263101275, 18.0665575107088, 7.0751779835740685, 7.033601256406153, 12.176912424989599, 4.550023357750584, 4.546859230324538, 4.54641181017989, 3.700500378816558, 3.693464602802482, 3.6928666894270683, 4.430486497562866, 3.6884612103229695, 3.676895849033758, 3.671331369075378, 15.258748180673265, 2.8476532102919707, 2.847458931940115, 2.8465553926201403, 2.8456060384052506, 2.8441086452575135, 9.155283820513755, 51.247270233867525, 8.983639766552155, 10.973262345904947, 12.344723686033541, 58.462116374429236, 41.5707607927396, 35.14211216737296, 113.66243492607687, 10.722371862253645, 245.75465944845834, 44.779046818260156, 224.43358114409958, 31.768326503227847, 36.155015701057856, 52.67847187722411, 102.82515002840968, 57.576415866702746, 25.818013217674775, 17.477571660514943, 16.92338425278306, 52.0985133011347, 16.95308622313724, 12.029455735866366, 35.42708081374592, 32.0905757154835, 19.764696449644607, 20.463571935001934, 73.31676674311304, 24.68060219767154, 23.362369646339186, 19.760790004933856, 26.388887685992632, 24.97356003382112, 22.243433047759, 25.12191910239357, 27.76670743761301, 24.692184667054423, 24.278284787294602, 21.50883354307534, 5.18576614955128, 4.358481695644779, 4.353349599371664, 3.564100585642006, 3.548008406527569, 3.54166209905948, 3.541295223272785, 3.5366000461512144, 3.532331565636047, 9.166616805175519, 2.741413437452679, 2.7408987133742357, 2.74011820312215, 2.7380776695283506, 2.737321769107157, 4.768906660474769, 2.721270480173281, 2.711334923522667, 2.6863724148224932, 3.9399434374885938, 3.2396801647523987, 1.9198575842588574, 1.919737564006657, 1.9197282879934743, 1.9197099252735004, 1.9196644917395445, 1.9195615090625775, 1.9195262980737615, 1.9193881044079786, 1.9192442315504512, 11.477956220894189, 7.452380037218085, 4.374394790912873, 8.506295666591186, 27.067682097183567, 8.39010394685208, 10.079412091953413, 2.5310228573114393, 4.8861198775023205, 11.712877123243846, 54.83286586546437, 7.736959034956099, 16.588534415101662, 13.030797931728547, 70.50876173948028, 45.31891726545079, 24.967594227074603, 58.05262531864097, 5.208492003236077, 10.952116828368522, 7.9748762788701555, 25.988614463412418, 55.15613454626819, 10.624266175665237, 14.037797379487536, 30.23842785392842, 20.043292764861214, 10.415031878963177, 23.117013695391872, 17.02078905715917, 31.500710756730587, 12.512770835366616, 55.48077229089522, 54.22166973546997, 14.511610075054607, 22.31539805233217, 31.0492952789527, 37.95907246406648, 14.401338344789968, 13.16175706445449, 16.224799600054354, 13.851465370027137, 13.94330320111469, 15.557702049880481, 13.298392360022671, 12.927828884821771], \"Total\": [426.0, 174.0, 190.0, 106.0, 436.0, 172.0, 66.0, 235.0, 40.0, 110.0, 80.0, 29.0, 48.0, 23.0, 94.0, 57.0, 75.0, 54.0, 411.0, 70.0, 68.0, 30.0, 19.0, 15.0, 217.0, 47.0, 57.0, 14.0, 22.0, 18.0, 11.555567298859314, 7.989276462721292, 7.987527133035177, 7.097704838683438, 6.206047632961742, 6.205710566894726, 7.092575353992563, 9.744410561913677, 7.091252456814107, 6.201732747051543, 5.314688268617709, 5.314547557595959, 5.314535136464883, 5.314518109459532, 5.314116958876408, 5.313876058577428, 7.080660054601685, 5.312976500786753, 23.05748410673167, 8.858764610371129, 5.311066977809529, 20.385692089639427, 4.423084115300484, 4.423008856220088, 4.423016973188912, 4.423038145159454, 4.42293805613614, 4.422957500221263, 4.4228477619515125, 4.422750633805258, 21.200602768041705, 12.402401482352351, 22.13587324682092, 8.853219872813893, 5.304429674712228, 10.620713448246239, 32.533164633864246, 20.245188019116203, 35.974057431401384, 411.357882300538, 136.03642323909935, 24.676845587755267, 70.74017123883134, 41.37849518952551, 235.82233755109866, 65.55937954688056, 45.601325035848745, 12.316099023059852, 26.44248146583289, 20.292657150510134, 12.335369410958476, 24.45157590535344, 19.406786958790402, 66.42615003748203, 33.33926118520358, 172.42161426237695, 190.97874155155327, 56.591804436771355, 90.83381980407822, 436.42924442328615, 48.19015712145009, 41.24502018996466, 52.055836920960516, 75.06606809115044, 152.02605657315084, 217.61533796235298, 74.63218342599657, 426.8973467609798, 105.10380958878773, 56.664834982525456, 174.8475983355805, 59.82805845667227, 110.14578024229422, 58.11011008190315, 109.42710337998275, 106.82609198032378, 55.659189600059676, 23.076450391413598, 29.073008809098397, 11.10654866332824, 14.537142343897763, 8.545928815197582, 8.546078454034987, 8.546131212227396, 8.546141508236962, 8.546240533262836, 8.54693408437589, 19.62781831225666, 7.692940324854595, 7.692180892999137, 13.701322553760354, 5.128022185146762, 5.128239402081975, 5.12841797832147, 4.2737419338078695, 4.274003564110931, 4.273362209547593, 5.133378275911433, 4.273704368586524, 4.274134214299664, 4.275000349608175, 18.030160208069685, 3.419346124825028, 3.4193355260451623, 3.4193621483170955, 3.4193622215592914, 3.419441449410558, 11.060168764741743, 66.38302816412146, 11.066958205263166, 13.69545736636497, 15.484875212558931, 80.01381678975252, 57.386082020755936, 48.37363933150648, 174.8475983355805, 13.590457497257901, 426.8973467609798, 68.0769377683771, 436.42924442328615, 47.077504238801254, 57.89531020705016, 94.80857536848744, 217.61533796235298, 109.42710337998275, 40.66370762437362, 26.351099095083303, 25.680648765246715, 152.02605657315084, 27.76743411340793, 16.25174404142946, 90.83381980407822, 79.59100805035845, 36.463116190637585, 39.555927445951895, 411.357882300538, 62.09361371582529, 55.659189600059676, 41.80107161126052, 105.10380958878773, 110.14578024229422, 74.63218342599657, 136.03642323909935, 235.82233755109866, 190.97874155155327, 172.42161426237695, 106.82609198032378, 5.795530626665704, 4.972539190297472, 4.972135705108966, 4.147803333081251, 4.14841619589384, 4.148839282689022, 4.148990414780091, 4.149969964153897, 4.149354311152164, 10.808449493610771, 3.3249329953720257, 3.3249441625378235, 3.324975540992521, 3.3250629989016773, 3.325234146909982, 5.821049257509765, 3.326656927827591, 3.3274822290641293, 3.329412841370566, 4.992495720588802, 4.174899344759018, 2.502013244334866, 2.5020211288790297, 2.502022296457599, 2.5020240244104044, 2.502024971568728, 2.5020379078378925, 2.5020405535693726, 2.5020421846144223, 2.5020615779493918, 15.072775444539854, 10.064260393625998, 5.826193173644812, 11.758594698924892, 40.04792435908982, 11.731551843403249, 14.302506278634606, 3.34256997703341, 6.699327479535552, 18.54278723817268, 106.82609198032378, 11.767867585443774, 30.357532503137577, 22.828187723662037, 190.97874155155327, 110.14578024229422, 54.401533677217174, 172.42161426237695, 7.5767857966508405, 20.253386417933463, 13.406238063261402, 75.06606809115044, 235.82233755109866, 21.252695786216584, 32.50287427448819, 105.10380958878773, 59.23574019545885, 22.118332649711853, 79.59100805035845, 49.69424920967085, 152.02605657315084, 30.917389729487, 426.8973467609798, 411.357882300538, 40.425124670405125, 94.80857536848744, 217.61533796235298, 436.42924442328615, 46.30790265725189, 36.89104299770695, 70.74017123883134, 44.06819868413778, 52.055836920960516, 109.42710337998275, 65.55937954688056, 74.63218342599657], \"Category\": [\"Default\", \"Default\", \"Default\", \"Default\", \"Default\", \"Default\", \"Default\", \"Default\", \"Default\", \"Default\", \"Default\", \"Default\", \"Default\", \"Default\", \"Default\", \"Default\", \"Default\", \"Default\", \"Default\", \"Default\", \"Default\", \"Default\", \"Default\", \"Default\", \"Default\", \"Default\", \"Default\", \"Default\", \"Default\", \"Default\", \"Topic1\", \"Topic1\", \"Topic1\", \"Topic1\", \"Topic1\", \"Topic1\", \"Topic1\", \"Topic1\", \"Topic1\", \"Topic1\", \"Topic1\", \"Topic1\", \"Topic1\", \"Topic1\", \"Topic1\", \"Topic1\", \"Topic1\", \"Topic1\", \"Topic1\", \"Topic1\", \"Topic1\", \"Topic1\", \"Topic1\", \"Topic1\", \"Topic1\", \"Topic1\", \"Topic1\", \"Topic1\", \"Topic1\", \"Topic1\", \"Topic1\", \"Topic1\", \"Topic1\", \"Topic1\", \"Topic1\", \"Topic1\", \"Topic1\", \"Topic1\", \"Topic1\", \"Topic1\", \"Topic1\", \"Topic1\", \"Topic1\", \"Topic1\", \"Topic1\", \"Topic1\", \"Topic1\", \"Topic1\", \"Topic1\", \"Topic1\", \"Topic1\", \"Topic1\", \"Topic1\", \"Topic1\", \"Topic1\", \"Topic1\", \"Topic1\", \"Topic1\", \"Topic1\", \"Topic1\", \"Topic1\", \"Topic1\", \"Topic1\", \"Topic1\", \"Topic1\", \"Topic1\", \"Topic1\", \"Topic1\", \"Topic1\", \"Topic1\", \"Topic1\", \"Topic1\", \"Topic1\", \"Topic1\", \"Topic1\", \"Topic1\", \"Topic1\", \"Topic2\", \"Topic2\", \"Topic2\", \"Topic2\", \"Topic2\", \"Topic2\", \"Topic2\", \"Topic2\", \"Topic2\", \"Topic2\", \"Topic2\", \"Topic2\", \"Topic2\", \"Topic2\", \"Topic2\", \"Topic2\", \"Topic2\", \"Topic2\", \"Topic2\", \"Topic2\", \"Topic2\", \"Topic2\", \"Topic2\", \"Topic2\", \"Topic2\", \"Topic2\", \"Topic2\", \"Topic2\", \"Topic2\", \"Topic2\", \"Topic2\", \"Topic2\", \"Topic2\", \"Topic2\", \"Topic2\", \"Topic2\", \"Topic2\", \"Topic2\", \"Topic2\", \"Topic2\", \"Topic2\", \"Topic2\", \"Topic2\", \"Topic2\", \"Topic2\", \"Topic2\", \"Topic2\", \"Topic2\", \"Topic2\", \"Topic2\", \"Topic2\", \"Topic2\", \"Topic2\", \"Topic2\", \"Topic2\", \"Topic2\", \"Topic2\", \"Topic2\", \"Topic2\", \"Topic2\", \"Topic2\", \"Topic2\", \"Topic2\", \"Topic2\", \"Topic2\", \"Topic2\", \"Topic2\", \"Topic2\", \"Topic2\", \"Topic2\", \"Topic3\", \"Topic3\", \"Topic3\", \"Topic3\", \"Topic3\", \"Topic3\", \"Topic3\", \"Topic3\", \"Topic3\", \"Topic3\", \"Topic3\", \"Topic3\", \"Topic3\", \"Topic3\", \"Topic3\", \"Topic3\", \"Topic3\", \"Topic3\", \"Topic3\", \"Topic3\", \"Topic3\", \"Topic3\", \"Topic3\", \"Topic3\", \"Topic3\", \"Topic3\", \"Topic3\", \"Topic3\", \"Topic3\", \"Topic3\", \"Topic3\", \"Topic3\", \"Topic3\", \"Topic3\", \"Topic3\", \"Topic3\", \"Topic3\", \"Topic3\", \"Topic3\", \"Topic3\", \"Topic3\", \"Topic3\", \"Topic3\", \"Topic3\", \"Topic3\", \"Topic3\", \"Topic3\", \"Topic3\", \"Topic3\", \"Topic3\", \"Topic3\", \"Topic3\", \"Topic3\", \"Topic3\", \"Topic3\", \"Topic3\", \"Topic3\", \"Topic3\", \"Topic3\", \"Topic3\", \"Topic3\", \"Topic3\", \"Topic3\", \"Topic3\", \"Topic3\", \"Topic3\", \"Topic3\", \"Topic3\", \"Topic3\", \"Topic3\", \"Topic3\", \"Topic3\", \"Topic3\", \"Topic3\", \"Topic3\", \"Topic3\"], \"logprob\": [30.0, 29.0, 28.0, 27.0, 26.0, 25.0, 24.0, 23.0, 22.0, 21.0, 20.0, 19.0, 18.0, 17.0, 16.0, 15.0, 14.0, 13.0, 12.0, 11.0, 10.0, 9.0, 8.0, 7.0, 6.0, 5.0, 4.0, 3.0, 2.0, 1.0, -6.4216, -6.8134, -6.8164, -6.9404, -7.0877, -7.0881, -6.9595, -6.6443, -6.9645, -7.1037, -7.2582, -7.2589, -7.2589, -7.259, -7.2611, -7.2619, -6.9757, -7.2652, -5.8004, -6.7581, -7.275, -5.9356, -7.4654, -7.4657, -7.4657, -7.4657, -7.4662, -7.4662, -7.4665, -7.4666, -5.904, -6.4361, -5.8821, -6.783, -7.2865, -6.6091, -5.5274, -5.9913, -5.4581, -3.1687, -4.2319, -5.837, -4.8747, -5.3698, -3.7872, -4.9551, -5.2904, -6.4972, -5.8392, -6.0675, -6.4967, -5.9193, -6.1158, -5.0923, -5.6645, -4.3162, -4.255, -5.2517, -4.8818, -3.6578, -5.4093, -5.5363, -5.3602, -5.0948, -4.5913, -4.3893, -5.1417, -3.9834, -4.9359, -5.3526, -4.7649, -5.3772, -5.1318, -5.4414, -5.2254, -5.3998, -5.4972, -5.4083, -5.1837, -6.1654, -5.9033, -6.4393, -6.4398, -6.4399, -6.4399, -6.4402, -6.442, -5.6194, -6.5569, -6.5628, -6.014, -6.9984, -6.9991, -6.9992, -7.205, -7.2069, -7.2071, -7.025, -7.2083, -7.2114, -7.213, -5.7884, -7.467, -7.4671, -7.4674, -7.4677, -7.4683, -6.2992, -4.5768, -6.3181, -6.118, -6.0003, -4.4451, -4.7861, -4.9541, -3.7803, -6.1412, -3.0092, -4.7118, -3.0999, -5.055, -4.9257, -4.5493, -3.8805, -4.4604, -5.2624, -5.6526, -5.6848, -4.5604, -5.6831, -6.0261, -4.946, -5.0449, -5.5296, -5.4949, -4.2187, -5.3075, -5.3624, -5.5298, -5.2406, -5.2957, -5.4115, -5.2898, -5.1897, -5.307, -5.3239, -5.445, -6.4412, -6.615, -6.6162, -6.8162, -6.8207, -6.8225, -6.8226, -6.8239, -6.8251, -5.8715, -7.0786, -7.0788, -7.0791, -7.0798, -7.0801, -6.525, -7.086, -7.0897, -7.0989, -6.7159, -6.9116, -7.4349, -7.4349, -7.4349, -7.4349, -7.435, -7.435, -7.435, -7.4351, -7.4352, -5.6467, -6.0786, -6.6113, -5.9463, -4.7888, -5.9601, -5.7766, -7.1585, -6.5007, -5.6264, -4.0828, -6.0411, -5.2784, -5.5198, -3.8314, -4.2734, -4.8695, -4.0258, -6.4368, -5.6936, -6.0108, -4.8294, -4.0769, -5.724, -5.4454, -4.678, -5.0892, -5.7439, -4.9465, -5.2527, -4.6371, -5.5604, -4.0711, -4.094, -5.4122, -4.9818, -4.6515, -4.4506, -5.4198, -5.5098, -5.3006, -5.4587, -5.4521, -5.3425, -5.4995, -5.5277], \"loglift\": [30.0, 29.0, 28.0, 27.0, 26.0, 25.0, 24.0, 23.0, 22.0, 21.0, 20.0, 19.0, 18.0, 17.0, 16.0, 15.0, 14.0, 13.0, 12.0, 11.0, 10.0, 9.0, 8.0, 7.0, 6.0, 5.0, 4.0, 3.0, 2.0, 1.0, 0.7459, 0.7231, 0.7203, 0.7144, 0.7014, 0.701, 0.696, 0.6936, 0.6913, 0.686, 0.686, 0.6853, 0.6852, 0.6851, 0.6831, 0.6824, 0.6816, 0.6793, 0.6762, 0.6751, 0.6698, 0.6642, 0.6623, 0.6621, 0.6621, 0.662, 0.6616, 0.6616, 0.6613, 0.6612, 0.6565, 0.6606, 0.6353, 0.6509, 0.6596, 0.6427, 0.605, 0.6154, 0.5737, 0.4265, 0.4698, 0.5718, 0.4809, 0.5221, 0.3643, 0.4766, 0.5043, 0.6065, 0.5004, 0.5368, 0.6054, 0.4986, 0.5332, 0.3263, 0.4434, 0.1485, 0.1075, 0.327, 0.2238, -0.1218, 0.3301, 0.3587, 0.3021, 0.2015, -0.0007, -0.1574, 0.1603, -0.4254, 0.0237, 0.2248, -0.3142, 0.1459, -0.219, 0.1109, -0.3061, -0.4564, 0.0982, 1.0675, 1.0611, 1.0417, 1.0346, 1.0299, 1.0294, 1.0292, 1.0292, 1.0289, 1.0271, 1.0182, 1.0174, 1.0116, 0.9831, 0.9815, 0.9808, 0.9806, 0.9571, 0.9551, 0.9551, 0.9538, 0.9538, 0.9506, 0.9489, 0.9342, 0.9181, 0.9181, 0.9178, 0.9174, 0.9169, 0.9121, 0.8423, 0.8925, 0.8795, 0.8745, 0.7873, 0.7787, 0.7815, 0.6704, 0.8641, 0.5489, 0.6822, 0.4361, 0.7078, 0.6303, 0.5134, 0.3514, 0.459, 0.6468, 0.6905, 0.6841, 0.0302, 0.6077, 0.8003, 0.1595, 0.1928, 0.4887, 0.442, -0.6236, 0.1785, 0.233, 0.3519, -0.2809, -0.3829, -0.1094, -0.5881, -1.0381, -0.9446, -0.8593, -0.5016, 1.4163, 1.3957, 1.3946, 1.3758, 1.3712, 1.3693, 1.3691, 1.3676, 1.3665, 1.3627, 1.3345, 1.3343, 1.334, 1.3333, 1.3329, 1.3281, 1.3266, 1.3227, 1.3129, 1.2907, 1.2739, 1.2627, 1.2626, 1.2626, 1.2626, 1.2625, 1.2625, 1.2625, 1.2624, 1.2623, 1.255, 1.227, 1.2409, 1.2037, 1.1358, 1.1923, 1.1776, 1.2494, 1.2119, 1.0681, 0.8606, 1.1081, 0.9232, 0.9668, 0.5311, 0.6394, 0.7487, 0.4389, 1.1527, 0.9127, 1.0081, 0.4668, 0.0746, 0.8342, 0.6879, 0.2817, 0.4439, 0.7743, 0.2912, 0.456, -0.0465, 0.6229, -0.513, -0.4989, 0.503, 0.0809, -0.4197, -0.9146, 0.3595, 0.4968, 0.055, 0.3702, 0.2102, -0.4232, -0.0678, -0.2257]}, \"token.table\": {\"Topic\": [1, 2, 3, 2, 1, 3, 1, 1, 2, 1, 3, 3, 1, 2, 3, 1, 2, 3, 1, 2, 3, 3, 1, 2, 3, 1, 2, 1, 2, 3, 3, 1, 2, 3, 1, 2, 3, 1, 2, 3, 1, 2, 3, 1, 3, 1, 1, 2, 3, 2, 1, 2, 1, 3, 1, 2, 3, 1, 2, 3, 1, 2, 3, 1, 1, 2, 2, 3, 2, 1, 2, 3, 1, 2, 3, 1, 2, 1, 1, 2, 3, 2, 2, 1, 2, 3, 3, 1, 3, 2, 3, 1, 3, 1, 2, 3, 1, 2, 3, 3, 1, 2, 3, 1, 2, 1, 2, 1, 2, 3, 2, 2, 3, 2, 1, 2, 1, 1, 2, 1, 1, 2, 3, 3, 2, 1, 2, 3, 1, 2, 3, 1, 2, 1, 1, 2, 3, 1, 2, 2, 1, 1, 2, 3, 1, 3, 2, 3, 2, 1, 2, 3, 1, 2, 3, 1, 2, 3, 1, 2, 3, 3, 1, 2, 3, 1, 2, 3, 1, 3, 3, 1, 2, 3, 2, 3, 1, 2, 3, 1, 1, 2, 1, 2, 1, 1, 2, 3, 1, 2, 3, 1, 1, 3, 3, 1, 2, 3, 1, 2, 1, 2, 3, 3, 1, 2, 1, 2, 3, 1, 1, 3, 1, 2, 3, 1, 3, 1, 2, 3, 3, 2, 2, 1, 2, 2, 1, 2, 3, 1, 3, 1, 3, 1, 2, 3, 1, 2, 3, 1, 2, 3, 2, 2, 3, 1, 2, 3, 1, 2, 3, 2, 2, 3, 1, 2, 3, 1, 2, 3, 1, 2, 3, 1, 3, 3, 1, 1, 3, 3, 3, 1, 1, 2, 3, 1, 2, 1, 3, 3, 1, 2, 3, 1, 2, 3, 2, 1, 2, 3, 1, 3, 1, 2, 3, 2, 1, 1, 2, 3, 1, 3, 3, 1, 2, 3, 1, 2, 3, 1, 2, 3, 1, 3, 1, 2, 3, 1, 2, 3, 1, 2, 3, 1, 2, 3, 1, 2, 3, 2, 1, 2, 3, 1, 1, 2, 3, 1, 2, 1, 2, 3, 1, 2, 3, 3, 1, 1, 2, 3, 1, 2, 3, 2, 1, 1, 2, 3, 1, 2, 3, 1, 1, 2, 1, 2, 3], \"Freq\": [0.7350844518659532, 0.04240871837688191, 0.22617983134337022, 0.9360841142796283, 0.8299223362948007, 0.1536893215360742, 0.9408160585284783, 0.11092524841264961, 0.8319393630948722, 0.8119454042450177, 0.16238908084900355, 0.9642234074679527, 0.19469913107360567, 0.6619770456502593, 0.15575930485888453, 0.2628329533921274, 0.17522196892808498, 0.5694713990162761, 0.2941093553526165, 0.2389638512240009, 0.4595458677384633, 0.9018062472582924, 0.2808302676234349, 0.2059421962571856, 0.514855490642964, 0.8474006990072911, 0.09415563322303235, 0.31647955163976577, 0.18084545807986616, 0.4521136451996654, 0.9022738215102981, 0.49474182610602613, 0.14842254783180783, 0.3710563695795196, 0.6546244825592151, 0.339434916882556, 0.024245351205896857, 0.5030615824843051, 0.41322915704067925, 0.08983242544362592, 0.36710796698838993, 0.32391879440152055, 0.3023242081080858, 0.17179033465657328, 0.8589516732828665, 0.8763663501121746, 0.19764452197753143, 0.26352602930337526, 0.5599928122696725, 0.77921395716543, 0.9030604550248738, 0.11288255687810922, 0.23952673284335713, 0.7185801985300714, 0.48516385539798573, 0.09703277107959715, 0.420475341344921, 0.5181515295611729, 0.28414761298515934, 0.1838602201668678, 0.16995432566507576, 0.16995432566507576, 0.679817302660303, 0.9674715510520101, 0.9036260383147237, 0.11295325478934046, 0.9360949607831114, 0.7993537612114618, 0.9361018674270234, 0.6898773152839905, 0.20996266117338844, 0.08998399764573789, 0.4990525737969868, 0.34417418882550815, 0.15487838497147866, 0.7729254735393318, 0.20611345961048846, 0.8473786276606559, 0.6225337660633316, 0.3320180085671101, 0.041502251070888764, 0.9533528608969198, 0.9100150006054707, 0.16993254271551644, 0.6797301708620658, 0.14869097487607688, 0.9021921066183535, 0.26396417342087963, 0.659910433552199, 0.1716386618493134, 0.6865546473972536, 0.7361488711269146, 0.24538295704230487, 0.42204250200146154, 0.2363438011208185, 0.33763400160116924, 0.19373743467863822, 0.7749497387145529, 0.7993408386212201, 0.8627337722959476, 0.19749783653257016, 0.24687229566571273, 0.543119050464568, 0.8829722297801259, 0.0981080255311251, 0.03439616472331031, 0.9630926122526885, 0.3015416010916061, 0.4020554681221415, 0.2889773677127892, 0.9356724381008811, 0.9170657540048572, 0.05094809744471429, 0.9360960885498671, 0.0729856549304832, 0.8758278591657983, 0.9519221095346694, 0.7563586657266864, 0.2647255330043402, 0.846112874494335, 0.5673025162473608, 0.1361526038993666, 0.31768940909852206, 0.9022385443496707, 0.9359561764266233, 0.6147245322092796, 0.11526084978923992, 0.26894198284155985, 0.6903963974428224, 0.17746104582157055, 0.13127255444335356, 0.8673973234643135, 0.08673973234643136, 0.9668514081220418, 0.32936998065628187, 0.14115856313840652, 0.5175813981741573, 0.3961475142094055, 0.6122279765054449, 0.936031116450451, 0.9043600836819929, 0.1492687143679275, 0.1492687143679275, 0.7463435718396375, 0.9414304170688836, 0.9022707911311798, 0.8773634459528544, 0.8044179938903021, 0.8773566150273107, 0.39869005623106235, 0.5132561643434366, 0.08707024216540442, 0.38233800293138276, 0.2817227390020715, 0.3420918973596583, 0.30336793433541565, 0.5056132238923594, 0.1769646283623258, 0.8490324636964394, 0.04716847020535774, 0.09433694041071548, 0.7993475553970661, 0.2696466251689965, 0.1078586500675986, 0.6471519004055916, 0.8106769782764848, 0.08106769782764849, 0.08106769782764849, 0.9408190727773215, 0.799348400651642, 0.79935628019894, 0.17048042975871236, 0.08524021487935618, 0.6819217190348494, 0.813730802073358, 0.1808290671274129, 0.2109513820059743, 0.5590211623158319, 0.23204652020657174, 0.9043617433356007, 0.8869250052622584, 0.08062954593293258, 0.9408900930658434, 0.9750347832898274, 0.940932747561776, 0.31969539325056195, 0.6393907865011239, 0.024591953326966304, 0.1138472436832721, 0.6451343808718754, 0.2276944873665442, 0.9410920600269157, 0.8397057110039193, 0.14818336076539754, 0.7993533881898776, 0.3860022036430715, 0.47331222589567096, 0.1424531942016097, 0.06878931060476055, 0.9630503484666477, 0.3317174530969656, 0.6519963733285186, 0.02287706573082521, 0.9640899592707332, 0.9043946830842449, 0.9359479495843195, 0.14603382322315514, 0.8031860277273534, 0.07301691161157757, 0.9407889507883488, 0.9043762198863763, 0.9643658772578657, 0.3281785680403227, 0.6218120236553483, 0.05181766863794569, 0.9236064041858799, 0.1026229337984311, 0.6184641106311541, 0.1767040316089012, 0.1943744347697913, 0.9640054090462348, 0.9749934837227155, 0.8773565962344713, 0.26874140915696837, 0.7235345631149148, 0.9099251657242392, 0.5219763217333382, 0.13919368579555685, 0.3363847406725957, 0.19903434580037857, 0.7297926012680548, 0.9044145445203339, 0.9022622762224849, 0.7455923698109967, 0.10964593673691128, 0.15350431143167578, 0.32898613677994326, 0.5300332203676864, 0.1462160607910859, 0.15683245280179253, 0.7318847797416984, 0.10455496853452835, 0.9361182585295195, 0.8093914426515393, 0.14716208048209803, 0.810476360476319, 0.12157145407144786, 0.0810476360476319, 0.0903590653775511, 0.8132315883979598, 0.1807181307551022, 0.9358906561492472, 0.2003006223672962, 0.8012024894691848, 0.4337096134960055, 0.21685480674800275, 0.3523890609655045, 0.5026737490260691, 0.1309046221422055, 0.3717691268838636, 0.43073113724556755, 0.15383254901627413, 0.43073113724556755, 0.25513252874293685, 0.7653975862288106, 0.7993470343139759, 0.876174461187149, 0.1987229981913684, 0.6955304936697895, 0.9010597792868, 0.9641250787153766, 0.9043557547378549, 0.21246330548972403, 0.7248748069649408, 0.049991365997582124, 0.8583352365702905, 0.1355266163005722, 0.29917099922243595, 0.8975129976673079, 0.7993528361388516, 0.7884625399881542, 0.19711563499703855, 0.7993525335384775, 0.4113746044517023, 0.5484994726022698, 0.02742497363011349, 0.9358620481821761, 0.7203953005126719, 0.18377431135527345, 0.09556264190474219, 0.8061364791919802, 0.19458466739116762, 0.2644067226002828, 0.6610168065007069, 0.07344631183341188, 0.9749595335512218, 0.9043463555583451, 0.5461855275304276, 0.10657278585959562, 0.3463615540436858, 0.09252020843425625, 0.8326818759083062, 0.9015825760980142, 0.36315508330877155, 0.22697192706798222, 0.40854946872236797, 0.049940166238504516, 0.2746709143117748, 0.6741922442198109, 0.6487935010263712, 0.11873345116822481, 0.23322642193758444, 0.2796712633488081, 0.6991781583720202, 0.40261789423971717, 0.40261789423971717, 0.19325658923506425, 0.07459214100787981, 0.29836856403151923, 0.5967371280630385, 0.5225627632705057, 0.2947789946654134, 0.1741875877568352, 0.44729174414440087, 0.34204662787513007, 0.2104902325385416, 0.7321606813816152, 0.07626673764391825, 0.19829351787418745, 0.8773362680379098, 0.23922831675219935, 0.4784566335043987, 0.28707398010263924, 0.9862343051868072, 0.12306371518660007, 0.7383822911196004, 0.12306371518660007, 0.8459550587111452, 0.9360081546228717, 0.6172267996393752, 0.2860319315401983, 0.09032587311795735, 0.29515292366187396, 0.5762509461969919, 0.1288365936619291, 0.8044832718242028, 0.9043722440923061, 0.45669134342320306, 0.24737447768756834, 0.2854320896395019, 0.5647241364043202, 0.3353049559900651, 0.08823814631317503, 0.9003697100808771, 0.9408138596584044, 0.7491814252309323, 0.19333714199507931, 0.04833428549876983, 0.5614648829037818, 0.38531903728690914, 0.044036461404218186, 0.9426084059208978, 0.9667988959885876, 0.8773607264323127, 0.22596137017002133, 0.7682686585780726, 0.9638623976922028], \"Term\": [\"actual\", \"actual\", \"actual\", \"ader\", \"administr\", \"administr\", \"administrat\", \"aferent\", \"aferent\", \"ajung\", \"ajung\", \"aliz\", \"aloc\", \"aloc\", \"aloc\", \"ansparent\", \"ansparent\", \"ansparent\", \"anum\", \"anum\", \"anum\", \"atent\", \"ban\", \"ban\", \"ban\", \"baz\", \"baz\", \"benefic\", \"benefic\", \"benefic\", \"beneficiaz\", \"bin\", \"bin\", \"bin\", \"birocrat\", \"birocrat\", \"birocrat\", \"buget\", \"buget\", \"buget\", \"bun\", \"bun\", \"bun\", \"bur\", \"bur\", \"calc\", \"calitat\", \"calitat\", \"calitat\", \"carbur\", \"categor\", \"categor\", \"ces\", \"ces\", \"cetatean\", \"cetatean\", \"cetatean\", \"cetaten\", \"cetaten\", \"cetaten\", \"cheltu\", \"cheltu\", \"cheltu\", \"cilitat\", \"complic\", \"complic\", \"concurente\", \"confuz\", \"context\", \"contrib\", \"contrib\", \"contrib\", \"contribu\", \"contribu\", \"contribu\", \"corect\", \"corect\", \"costur\", \"cot\", \"cot\", \"cot\", \"crear\", \"creeaz\", \"crest\", \"crest\", \"crest\", \"crester\", \"cunostint\", \"cunostint\", \"dat\", \"dat\", \"dest\", \"dest\", \"dezvolt\", \"dezvolt\", \"dezvolt\", \"diminu\", \"diminu\", \"direction\", \"distribu\", \"domen\", \"domen\", \"domen\", \"duc\", \"duc\", \"ducer\", \"ducer\", \"econom\", \"econom\", \"econom\", \"economico\", \"eficiente\", \"eficiente\", \"esential\", \"ester\", \"ester\", \"europ\", \"evaziun\", \"evaziun\", \"explic\", \"fapt\", \"fapt\", \"fapt\", \"favor\", \"feroviar\", \"finant\", \"finant\", \"finant\", \"fiscal\", \"fiscal\", \"fiscal\", \"fizic\", \"fizic\", \"flexibil\", \"folos\", \"folos\", \"folos\", \"fondur\", \"fondur\", \"forte\", \"genereaz\", \"gestion\", \"gestion\", \"gestion\", \"hart\", \"iau\", \"ilegal\", \"imbunat\", \"impiz\", \"impoz\", \"impoz\", \"impoz\", \"incerc\", \"incerc\", \"incerc\", \"incuraj\", \"incuraj\", \"incuraj\", \"inform\", \"inform\", \"inform\", \"ingrijir\", \"instit\", \"instit\", \"instit\", \"inteles\", \"inteles\", \"inteles\", \"international\", \"intervent\", \"intocm\", \"intreb\", \"intreb\", \"intreb\", \"invatam\", \"invatam\", \"invest\", \"invest\", \"invest\", \"jur\", \"jurid\", \"jurid\", \"legislat\", \"lei\", \"litic\", \"locur\", \"locur\", \"locur\", \"lte\", \"lte\", \"lte\", \"lua\", \"lucru\", \"lucru\", \"lumin\", \"mar\", \"mar\", \"mar\", \"mediu\", \"mediu\", \"mic\", \"mic\", \"mic\", \"minister\", \"ministru\", \"minu\", \"modern\", \"modern\", \"modern\", \"mplific\", \"multim\", \"multipl\", \"munc\", \"munc\", \"munc\", \"nemultum\", \"nemultum\", \"nevoi\", \"nevoi\", \"nevoi\", \"nii\", \"nitur\", \"nominal\", \"numar\", \"numar\", \"oarb\", \"ofer\", \"ofer\", \"ofer\", \"organiz\", \"organiz\", \"particip\", \"partiz\", \"persoan\", \"persoan\", \"persoan\", \"plat\", \"plat\", \"plat\", \"pozit\", \"pozit\", \"pozit\", \"predictib\", \"prim\", \"prim\", \"priv\", \"priv\", \"priv\", \"privat\", \"privat\", \"privat\", \"promov\", \"proven\", \"proven\", \"ptul\", \"ptul\", \"ptul\", \"public\", \"public\", \"public\", \"punct\", \"punct\", \"punct\", \"pus\", \"pus\", \"rababur\", \"raportar\", \"raspuns\", \"raspuns\", \"reabilit\", \"realist\", \"realitat\", \"reduc\", \"reduc\", \"reduc\", \"redus\", \"redus\", \"reglement\", \"reglement\", \"rel\", \"relat\", \"relat\", \"reped\", \"ridic\", \"ridic\", \"ridic\", \"rijin\", \"roman\", \"roman\", \"roman\", \"rvic\", \"rvic\", \"salar\", \"salar\", \"salar\", \"sanctiun\", \"scap\", \"schimb\", \"schimb\", \"schimb\", \"scol\", \"scol\", \"scopur\", \"servic\", \"servic\", \"servic\", \"sigur\", \"sigur\", \"sigur\", \"sist\", \"sist\", \"sist\", \"slab\", \"slab\", \"social\", \"social\", \"social\", \"spital\", \"spital\", \"spital\", \"stabil\", \"stabil\", \"stabil\", \"stat\", \"stat\", \"stat\", \"stem\", \"stem\", \"stem\", \"stin\", \"stiu\", \"stiu\", \"stiu\", \"strain\", \"sum\", \"sum\", \"sum\", \"sur\", \"taier\", \"tar\", \"tar\", \"tar\", \"tax\", \"tax\", \"tax\", \"tel\", \"tipur\", \"transparent\", \"transparent\", \"transparent\", \"treb\", \"treb\", \"treb\", \"tul\", \"umer\", \"venit\", \"venit\", \"venit\", \"venitur\", \"venitur\", \"venitur\", \"viat\", \"vin\", \"vrem\", \"xel\", \"xel\", \"zon\"]}, \"R\": 30, \"lambda.step\": 0.01, \"plot.opts\": {\"xlab\": \"PC1\", \"ylab\": \"PC2\"}, \"topic.order\": [3, 1, 2]};\n",
       "\n",
       "function LDAvis_load_lib(url, callback){\n",
       "  var s = document.createElement('script');\n",
       "  s.src = url;\n",
       "  s.async = true;\n",
       "  s.onreadystatechange = s.onload = callback;\n",
       "  s.onerror = function(){console.warn(\"failed to load library \" + url);};\n",
       "  document.getElementsByTagName(\"head\")[0].appendChild(s);\n",
       "}\n",
       "\n",
       "if(typeof(LDAvis) !== \"undefined\"){\n",
       "   // already loaded: just create the visualization\n",
       "   !function(LDAvis){\n",
       "       new LDAvis(\"#\" + \"ldavis_el3061400983881589287737335999\", ldavis_el3061400983881589287737335999_data);\n",
       "   }(LDAvis);\n",
       "}else if(typeof define === \"function\" && define.amd){\n",
       "   // require.js is available: use it to load d3/LDAvis\n",
       "   require.config({paths: {d3: \"https://d3js.org/d3.v5\"}});\n",
       "   require([\"d3\"], function(d3){\n",
       "      window.d3 = d3;\n",
       "      LDAvis_load_lib(\"https://cdn.jsdelivr.net/gh/bmabey/pyLDAvis@3.3.1/pyLDAvis/js/ldavis.v3.0.0.js\", function(){\n",
       "        new LDAvis(\"#\" + \"ldavis_el3061400983881589287737335999\", ldavis_el3061400983881589287737335999_data);\n",
       "      });\n",
       "    });\n",
       "}else{\n",
       "    // require.js not available: dynamically load d3 & LDAvis\n",
       "    LDAvis_load_lib(\"https://d3js.org/d3.v5.js\", function(){\n",
       "         LDAvis_load_lib(\"https://cdn.jsdelivr.net/gh/bmabey/pyLDAvis@3.3.1/pyLDAvis/js/ldavis.v3.0.0.js\", function(){\n",
       "                 new LDAvis(\"#\" + \"ldavis_el3061400983881589287737335999\", ldavis_el3061400983881589287737335999_data);\n",
       "            })\n",
       "         });\n",
       "}\n",
       "</script>"
      ],
      "text/plain": [
       "<IPython.core.display.HTML object>"
      ]
     },
     "metadata": {
      "tags": []
     },
     "execution_count": 58
    }
   ]
  },
  {
   "cell_type": "markdown",
   "metadata": {
    "id": "1LKCDmMTqwMC"
   },
   "source": [
    "# 8. Model text vs dependent variable"
   ]
  },
  {
   "cell_type": "code",
   "metadata": {
    "colab": {
     "base_uri": "https://localhost:8080/",
     "height": 147
    },
    "id": "WbcKYPf5tfrk",
    "outputId": "9ad6e827-c24c-48f8-b23a-3ae0237a87c2"
   },
   "source": [
    "df_text['all_responses'] =  df_text['nemultumiri_sist_fiscal'] + ' ' + df_text['schimbari_sist_fiscal']+ ' ' + df_text['ce_ofera_sistemul']\n",
    "df_text = df_text.drop(columns=['motivare_incredere_sist_fiscal'])\n",
    "df_text.head(2)"
   ],
   "execution_count": null,
   "outputs": [
    {
     "output_type": "execute_result",
     "data": {
      "text/html": [
       "<div>\n",
       "<style scoped>\n",
       "    .dataframe tbody tr th:only-of-type {\n",
       "        vertical-align: middle;\n",
       "    }\n",
       "\n",
       "    .dataframe tbody tr th {\n",
       "        vertical-align: top;\n",
       "    }\n",
       "\n",
       "    .dataframe thead th {\n",
       "        text-align: right;\n",
       "    }\n",
       "</style>\n",
       "<table border=\"1\" class=\"dataframe\">\n",
       "  <thead>\n",
       "    <tr style=\"text-align: right;\">\n",
       "      <th></th>\n",
       "      <th>incredere_sist_fiscal</th>\n",
       "      <th>nemultumiri_sist_fiscal</th>\n",
       "      <th>schimbari_sist_fiscal</th>\n",
       "      <th>ce_ofera_sistemul</th>\n",
       "      <th>all_responses</th>\n",
       "      <th>nemultumiri_sist_fiscal_prep</th>\n",
       "      <th>schimbari_sist_fiscal_prep</th>\n",
       "      <th>ce_ofera_sistemul_prep</th>\n",
       "      <th>all_responses_prep</th>\n",
       "      <th>all_responses_word_count</th>\n",
       "    </tr>\n",
       "  </thead>\n",
       "  <tbody>\n",
       "    <tr>\n",
       "      <th>0</th>\n",
       "      <td>1</td>\n",
       "      <td>- injustetea sociala\\n- impunerea excesiva\\n- ...</td>\n",
       "      <td>as incerca sa-l orientez spre cetatean.</td>\n",
       "      <td>- crestere a nivelului de trai in mod semi-efi...</td>\n",
       "      <td>- injustetea sociala\\n- impunerea excesiva\\n- ...</td>\n",
       "      <td>[injustet, social, impun, exces, privileg, rez...</td>\n",
       "      <td>[incerc, orient, cetatean]</td>\n",
       "      <td>[crest, nivel, tra, sem, eficient, sustin, ins...</td>\n",
       "      <td>[injustet, social, impun, exces, privileg, rez...</td>\n",
       "      <td>25</td>\n",
       "    </tr>\n",
       "    <tr>\n",
       "      <th>1</th>\n",
       "      <td>1</td>\n",
       "      <td>Ineficiența utilizării sumelor de bani strânse...</td>\n",
       "      <td>Aș crea un mediu de afacere stabil.</td>\n",
       "      <td>Birocrație excesivă.</td>\n",
       "      <td>Ineficiența utilizării sumelor de bani strânse...</td>\n",
       "      <td>[eficient, utilizar, sum, ban, stran, tax, impoz]</td>\n",
       "      <td>[cre, mediu, afac, stabil]</td>\n",
       "      <td>[rocrat, exces]</td>\n",
       "      <td>[eficient, utilizar, sum, ban, stran, tax, imp...</td>\n",
       "      <td>13</td>\n",
       "    </tr>\n",
       "  </tbody>\n",
       "</table>\n",
       "</div>"
      ],
      "text/plain": [
       "   incredere_sist_fiscal  ... all_responses_word_count\n",
       "0                      1  ...                       25\n",
       "1                      1  ...                       13\n",
       "\n",
       "[2 rows x 10 columns]"
      ]
     },
     "metadata": {
      "tags": []
     },
     "execution_count": 54
    }
   ]
  },
  {
   "cell_type": "code",
   "metadata": {
    "colab": {
     "base_uri": "https://localhost:8080/",
     "height": 301
    },
    "id": "Un8hkY_5Fm2k",
    "outputId": "3b83f169-b798-4423-edb3-f8fd35291597"
   },
   "source": [
    "df_text.describe() # after tokenizing and cleaning the text for stopwords and punctuation signs, the maximum number of words is 0 with a maximum of 182\n",
    "# bert's maxlen could be set to 300, in this case, to make sure we include as much info as possible in training"
   ],
   "execution_count": null,
   "outputs": [
    {
     "output_type": "execute_result",
     "data": {
      "text/html": [
       "<div>\n",
       "<style scoped>\n",
       "    .dataframe tbody tr th:only-of-type {\n",
       "        vertical-align: middle;\n",
       "    }\n",
       "\n",
       "    .dataframe tbody tr th {\n",
       "        vertical-align: top;\n",
       "    }\n",
       "\n",
       "    .dataframe thead th {\n",
       "        text-align: right;\n",
       "    }\n",
       "</style>\n",
       "<table border=\"1\" class=\"dataframe\">\n",
       "  <thead>\n",
       "    <tr style=\"text-align: right;\">\n",
       "      <th></th>\n",
       "      <th>incredere_sist_fiscal</th>\n",
       "      <th>all_responses_word_count</th>\n",
       "    </tr>\n",
       "  </thead>\n",
       "  <tbody>\n",
       "    <tr>\n",
       "      <th>count</th>\n",
       "      <td>813.000000</td>\n",
       "      <td>813.000000</td>\n",
       "    </tr>\n",
       "    <tr>\n",
       "      <th>mean</th>\n",
       "      <td>0.589176</td>\n",
       "      <td>18.428044</td>\n",
       "    </tr>\n",
       "    <tr>\n",
       "      <th>std</th>\n",
       "      <td>0.492286</td>\n",
       "      <td>20.791039</td>\n",
       "    </tr>\n",
       "    <tr>\n",
       "      <th>min</th>\n",
       "      <td>0.000000</td>\n",
       "      <td>0.000000</td>\n",
       "    </tr>\n",
       "    <tr>\n",
       "      <th>25%</th>\n",
       "      <td>0.000000</td>\n",
       "      <td>6.000000</td>\n",
       "    </tr>\n",
       "    <tr>\n",
       "      <th>50%</th>\n",
       "      <td>1.000000</td>\n",
       "      <td>12.000000</td>\n",
       "    </tr>\n",
       "    <tr>\n",
       "      <th>75%</th>\n",
       "      <td>1.000000</td>\n",
       "      <td>23.000000</td>\n",
       "    </tr>\n",
       "    <tr>\n",
       "      <th>max</th>\n",
       "      <td>1.000000</td>\n",
       "      <td>182.000000</td>\n",
       "    </tr>\n",
       "  </tbody>\n",
       "</table>\n",
       "</div>"
      ],
      "text/plain": [
       "       incredere_sist_fiscal  all_responses_word_count\n",
       "count             813.000000                813.000000\n",
       "mean                0.589176                 18.428044\n",
       "std                 0.492286                 20.791039\n",
       "min                 0.000000                  0.000000\n",
       "25%                 0.000000                  6.000000\n",
       "50%                 1.000000                 12.000000\n",
       "75%                 1.000000                 23.000000\n",
       "max                 1.000000                182.000000"
      ]
     },
     "metadata": {
      "tags": []
     },
     "execution_count": 55
    }
   ]
  },
  {
   "cell_type": "code",
   "metadata": {
    "colab": {
     "base_uri": "https://localhost:8080/",
     "height": 150
    },
    "id": "Pwv42XPUGIPN",
    "outputId": "ebd237a2-dd64-410a-fd96-7268c0427302"
   },
   "source": [
    "data_train, data_test, labels_train, labels_test = train_test_split(\n",
    "    df_text[['all_responses', 'incredere_sist_fiscal']], # to keep both texts and labels, necessary for the ktrain lib texts_from_df\n",
    "    df_text['incredere_sist_fiscal'],\n",
    "    train_size = 0.8,\n",
    "    random_state = 42\n",
    ")\n",
    "print(data_train.shape)\n",
    "print(data_test.shape)\n",
    "data_train.head(2)"
   ],
   "execution_count": null,
   "outputs": [
    {
     "output_type": "stream",
     "text": [
      "(650, 2)\n",
      "(163, 2)\n"
     ],
     "name": "stdout"
    },
    {
     "output_type": "execute_result",
     "data": {
      "text/html": [
       "<div>\n",
       "<style scoped>\n",
       "    .dataframe tbody tr th:only-of-type {\n",
       "        vertical-align: middle;\n",
       "    }\n",
       "\n",
       "    .dataframe tbody tr th {\n",
       "        vertical-align: top;\n",
       "    }\n",
       "\n",
       "    .dataframe thead th {\n",
       "        text-align: right;\n",
       "    }\n",
       "</style>\n",
       "<table border=\"1\" class=\"dataframe\">\n",
       "  <thead>\n",
       "    <tr style=\"text-align: right;\">\n",
       "      <th></th>\n",
       "      <th>all_responses</th>\n",
       "      <th>incredere_sist_fiscal</th>\n",
       "    </tr>\n",
       "  </thead>\n",
       "  <tbody>\n",
       "    <tr>\n",
       "      <th>239</th>\n",
       "      <td>Se modifică destul de des. Aș face un sistem f...</td>\n",
       "      <td>1</td>\n",
       "    </tr>\n",
       "    <tr>\n",
       "      <th>447</th>\n",
       "      <td>Faptul că nu este stabil, se modifică prea des...</td>\n",
       "      <td>0</td>\n",
       "    </tr>\n",
       "  </tbody>\n",
       "</table>\n",
       "</div>"
      ],
      "text/plain": [
       "                                         all_responses  incredere_sist_fiscal\n",
       "239  Se modifică destul de des. Aș face un sistem f...                      1\n",
       "447  Faptul că nu este stabil, se modifică prea des...                      0"
      ]
     },
     "metadata": {
      "tags": []
     },
     "execution_count": 56
    }
   ]
  },
  {
   "cell_type": "code",
   "metadata": {
    "colab": {
     "base_uri": "https://localhost:8080/",
     "height": 554
    },
    "id": "mGc7SIwXGIRQ",
    "outputId": "87e0d3a7-b4f8-46b3-e6a5-f3b6be7927e7"
   },
   "source": [
    "(X_train, y_train), (X_test, y_test), preprocess = text.texts_from_df(\n",
    "    train_df=data_train,\n",
    "    text_column='all_responses', # no need to run on preprocessed text, as already has a predefined preprocessing function in place\n",
    "    label_columns='incredere_sist_fiscal',\n",
    "    val_df=data_test,\n",
    "    maxlen=300, # max allowed is 512 per document words, which is the maximum for bert\n",
    "    preprocess_mode='bert')"
   ],
   "execution_count": null,
   "outputs": [
    {
     "output_type": "stream",
     "text": [
      "['not_incredere_sist_fiscal', 'incredere_sist_fiscal']\n",
      "     not_incredere_sist_fiscal  incredere_sist_fiscal\n",
      "239                        0.0                    1.0\n",
      "447                        1.0                    0.0\n",
      "335                        1.0                    0.0\n",
      "599                        1.0                    0.0\n",
      "534                        1.0                    0.0\n",
      "['not_incredere_sist_fiscal', 'incredere_sist_fiscal']\n",
      "     not_incredere_sist_fiscal  incredere_sist_fiscal\n",
      "247                        1.0                    0.0\n",
      "590                        0.0                    1.0\n",
      "227                        1.0                    0.0\n",
      "291                        0.0                    1.0\n",
      "540                        0.0                    1.0\n",
      "downloading pretrained BERT model (multi_cased_L-12_H-768_A-12.zip)...\n",
      "[██████████████████████████████████████████████████]\n",
      "extracting pretrained BERT model...\n",
      "done.\n",
      "\n",
      "cleanup downloaded zip...\n",
      "done.\n",
      "\n",
      "preprocessing train...\n",
      "language: ro\n"
     ],
     "name": "stdout"
    },
    {
     "output_type": "display_data",
     "data": {
      "text/html": [
       "done."
      ],
      "text/plain": [
       "<IPython.core.display.HTML object>"
      ]
     },
     "metadata": {
      "tags": []
     }
    },
    {
     "output_type": "stream",
     "text": [
      "Is Multi-Label? False\n",
      "preprocessing test...\n",
      "language: ro\n"
     ],
     "name": "stdout"
    },
    {
     "output_type": "display_data",
     "data": {
      "text/html": [
       "done."
      ],
      "text/plain": [
       "<IPython.core.display.HTML object>"
      ]
     },
     "metadata": {
      "tags": []
     }
    }
   ]
  },
  {
   "cell_type": "code",
   "metadata": {
    "colab": {
     "base_uri": "https://localhost:8080/"
    },
    "id": "HWEEmt3qGITa",
    "outputId": "31da3a45-1d10-49a8-e90d-090241e8d6e9"
   },
   "source": [
    "print(X_train[0].shape)\n",
    "print(X_train[1].shape)"
   ],
   "execution_count": null,
   "outputs": [
    {
     "output_type": "stream",
     "text": [
      "(650, 300)\n",
      "(650, 300)\n"
     ],
     "name": "stdout"
    }
   ]
  },
  {
   "cell_type": "code",
   "metadata": {
    "colab": {
     "base_uri": "https://localhost:8080/"
    },
    "id": "FAR6v4QjGpR_",
    "outputId": "21feae1f-6cc4-4b41-bb22-bf703250d354"
   },
   "source": [
    "# Create BERT model\n",
    "model_bert = text.text_classifier(\n",
    "  name='bert', # ktrain selects BERT model automatically based on the language detected/ TODO try with distilbert if multilanguage ok\n",
    "  train_data=(X_train, y_train),\n",
    "  preproc=preprocess,\n",
    ")"
   ],
   "execution_count": null,
   "outputs": [
    {
     "output_type": "stream",
     "text": [
      "Is Multi-Label? False\n",
      "maxlen is 300\n",
      "done.\n"
     ],
     "name": "stdout"
    }
   ]
  },
  {
   "cell_type": "code",
   "metadata": {
    "id": "tN6C17ATGpT_"
   },
   "source": [
    "# Find the best lerning rate\n",
    "learner = ktrain.get_learner(model=model_bert,\n",
    "                             batch_size=6,\n",
    "                             train_data=(X_train, y_train),\n",
    "                             val_data=(X_test, y_test))"
   ],
   "execution_count": null,
   "outputs": []
  },
  {
   "cell_type": "code",
   "metadata": {
    "colab": {
     "base_uri": "https://localhost:8080/"
    },
    "id": "wHXUfM_dGpWn",
    "outputId": "332384b2-effc-4499-fa02-e223a176aef5"
   },
   "source": [
    "learner.lr_find() #takes a very long time to find the learning rate, but it's good to be used; not possible to run, resources exhausted"
   ],
   "execution_count": null,
   "outputs": [
    {
     "output_type": "stream",
     "text": [
      "simulating training for different learning rates... this may take a few moments...\n",
      "Epoch 1/1024\n",
      "109/109 [==============================] - 2502s 23s/step - loss: 0.7441 - accuracy: 0.4653\n",
      "Epoch 2/1024\n",
      "109/109 [==============================] - 2425s 22s/step - loss: 0.6946 - accuracy: 0.5466\n",
      "Epoch 3/1024\n",
      "109/109 [==============================] - 2416s 22s/step - loss: 0.6970 - accuracy: 0.5316\n",
      "Epoch 4/1024\n",
      "109/109 [==============================] - 2400s 22s/step - loss: 0.6807 - accuracy: 0.5768\n",
      "Epoch 5/1024\n",
      "109/109 [==============================] - 2426s 22s/step - loss: 0.6480 - accuracy: 0.6252\n",
      "Epoch 6/1024\n",
      "109/109 [==============================] - 2512s 23s/step - loss: 0.6277 - accuracy: 0.6639\n",
      "Epoch 7/1024\n",
      "109/109 [==============================] - 2514s 23s/step - loss: 0.7231 - accuracy: 0.5203\n",
      "Epoch 8/1024\n",
      "  6/109 [>.............................] - ETA: 39:00 - loss: 0.7132 - accuracy: 0.7074"
     ],
     "name": "stdout"
    }
   ]
  },
  {
   "cell_type": "code",
   "metadata": {
    "id": "7491iPpaG0qo"
   },
   "source": [
    "# Train model\n",
    "learner.fit_onecycle(lr=3e-5, epochs=100) # trainig will go through the dataset 5 times"
   ],
   "execution_count": null,
   "outputs": []
  },
  {
   "cell_type": "code",
   "metadata": {
    "id": "N2UxtUiGG0sw"
   },
   "source": [
    "# Missclassified\n",
    "learner.view_top_losses(\n",
    "    n=1,\n",
    "    preproc=preprocess)"
   ],
   "execution_count": null,
   "outputs": []
  },
  {
   "cell_type": "code",
   "metadata": {
    "id": "XmeKfZR9G0vS"
   },
   "source": [
    "# Check results\n",
    "learner.validate()"
   ],
   "execution_count": null,
   "outputs": []
  },
  {
   "cell_type": "code",
   "metadata": {
    "id": "nHhx-EnYG0x0"
   },
   "source": [
    "# Save predictor to disk\n",
    "predictor.save(os.path.join(path, 'data', \"bert_predictor\"))"
   ],
   "execution_count": null,
   "outputs": []
  },
  {
   "cell_type": "code",
   "metadata": {
    "id": "V_pzV0XNG0z8"
   },
   "source": [
    ""
   ],
   "execution_count": null,
   "outputs": []
  },
  {
   "cell_type": "code",
   "metadata": {
    "id": "5OU0U1wSG010"
   },
   "source": [
    ""
   ],
   "execution_count": null,
   "outputs": []
  },
  {
   "cell_type": "code",
   "metadata": {
    "colab": {
     "base_uri": "https://localhost:8080/"
    },
    "id": "1EA8imvSq7b0",
    "outputId": "7d36786d-954f-4765-e3d8-7b1a0d358289"
   },
   "source": [
    "# Balance the dataset\n",
    "positive_texts = df_text[df_text.incredere_sist_fiscal==1]\n",
    "negative_texts = df_text[df_text.incredere_sist_fiscal==0]\n",
    "df_text_balanced = pd.concat([positive_texts.sample(negative_texts.shape[0]), negative_texts], axis=0)\n",
    "\n",
    "df_text_balanced['incredere_sist_fiscal'].value_counts()"
   ],
   "execution_count": null,
   "outputs": [
    {
     "output_type": "execute_result",
     "data": {
      "text/plain": [
       "0    334\n",
       "1    334\n",
       "Name: incredere_sist_fiscal, dtype: int64"
      ]
     },
     "metadata": {
      "tags": []
     },
     "execution_count": 48
    }
   ]
  },
  {
   "cell_type": "code",
   "metadata": {
    "colab": {
     "base_uri": "https://localhost:8080/",
     "height": 112
    },
    "id": "Q1QTqvemq7d7",
    "outputId": "e621f484-543d-4cb1-97be-b4f722cefce9"
   },
   "source": [
    "df_text.head(2)"
   ],
   "execution_count": null,
   "outputs": [
    {
     "output_type": "execute_result",
     "data": {
      "text/html": [
       "<div>\n",
       "<style scoped>\n",
       "    .dataframe tbody tr th:only-of-type {\n",
       "        vertical-align: middle;\n",
       "    }\n",
       "\n",
       "    .dataframe tbody tr th {\n",
       "        vertical-align: top;\n",
       "    }\n",
       "\n",
       "    .dataframe thead th {\n",
       "        text-align: right;\n",
       "    }\n",
       "</style>\n",
       "<table border=\"1\" class=\"dataframe\">\n",
       "  <thead>\n",
       "    <tr style=\"text-align: right;\">\n",
       "      <th></th>\n",
       "      <th>incredere_sist_fiscal</th>\n",
       "      <th>nemultumiri_sist_fiscal</th>\n",
       "      <th>schimbari_sist_fiscal</th>\n",
       "      <th>ce_ofera_sistemul</th>\n",
       "      <th>motivare_incredere_sist_fiscal</th>\n",
       "    </tr>\n",
       "  </thead>\n",
       "  <tbody>\n",
       "    <tr>\n",
       "      <th>0</th>\n",
       "      <td>1</td>\n",
       "      <td>- injustetea sociala\\n- impunerea excesiva\\n- ...</td>\n",
       "      <td>as incerca sa-l orientez spre cetatean.</td>\n",
       "      <td>- crestere a nivelului de trai in mod semi-efi...</td>\n",
       "      <td>Îmi creează sentimentul că plătesc un serviciu...</td>\n",
       "    </tr>\n",
       "    <tr>\n",
       "      <th>1</th>\n",
       "      <td>1</td>\n",
       "      <td>Ineficiența utilizării sumelor de bani strânse...</td>\n",
       "      <td>Aș crea un mediu de afacere stabil.</td>\n",
       "      <td>Birocrație excesivă.</td>\n",
       "      <td>Îmi creează sentimentul că plătesc un serviciu...</td>\n",
       "    </tr>\n",
       "  </tbody>\n",
       "</table>\n",
       "</div>"
      ],
      "text/plain": [
       "   incredere_sist_fiscal  ...                     motivare_incredere_sist_fiscal\n",
       "0                      1  ...  Îmi creează sentimentul că plătesc un serviciu...\n",
       "1                      1  ...  Îmi creează sentimentul că plătesc un serviciu...\n",
       "\n",
       "[2 rows x 5 columns]"
      ]
     },
     "metadata": {
      "tags": []
     },
     "execution_count": 22
    }
   ]
  },
  {
   "cell_type": "code",
   "metadata": {
    "id": "g1Gebfaqq7kI"
   },
   "source": [
    "df_preproc_balanced['word_count'] = df_preproc_balanced['text_prep'].apply(lambda x: len(x))\n",
    "df_preproc_balanced.head(2)\n",
    "df_preproc_balanced.describe() # some stats to determine the maxlen when preprocessing for training"
   ],
   "execution_count": null,
   "outputs": []
  },
  {
   "cell_type": "code",
   "metadata": {
    "id": "2oyEHbq4q7mi"
   },
   "source": [
    ""
   ],
   "execution_count": null,
   "outputs": []
  },
  {
   "cell_type": "markdown",
   "metadata": {
    "id": "Lu_pWFFguSyI"
   },
   "source": [
    "# Dataset on tax perception"
   ]
  },
  {
   "cell_type": "code",
   "metadata": {
    "id": "lj4qL4_Fwr6L"
   },
   "source": [
    "df = df.rename(columns = {'4. Ce rol credeți că joacă veniturile din taxe și impozite pentru bugetul de stat?': 'rol_taxe',\n",
    "                '8. În opinia dumneavoastră care credeți că vor fi efectele economice produse de reducerea cotei de TVA la toate produsele?': 'efecte_reducere_tva', \n",
    "                '14. De ce platim taxe și impozite?': 'de_ce_taxe'})\n",
    "df = df[['rol_taxe', 'efecte_reducere_tva', 'de_ce_taxe']]"
   ],
   "execution_count": null,
   "outputs": []
  },
  {
   "cell_type": "code",
   "metadata": {
    "colab": {
     "base_uri": "https://localhost:8080/",
     "height": 661
    },
    "id": "9kve8AZcwr6M",
    "outputId": "c2367573-2192-47c3-ba92-78e8209cf88b"
   },
   "source": [
    "df.head()"
   ],
   "execution_count": null,
   "outputs": [
    {
     "output_type": "execute_result",
     "data": {
      "text/html": [
       "<div>\n",
       "<style scoped>\n",
       "    .dataframe tbody tr th:only-of-type {\n",
       "        vertical-align: middle;\n",
       "    }\n",
       "\n",
       "    .dataframe tbody tr th {\n",
       "        vertical-align: top;\n",
       "    }\n",
       "\n",
       "    .dataframe thead th {\n",
       "        text-align: right;\n",
       "    }\n",
       "</style>\n",
       "<table border=\"1\" class=\"dataframe\">\n",
       "  <thead>\n",
       "    <tr style=\"text-align: right;\">\n",
       "      <th></th>\n",
       "      <th>Aveți încredere în sistemul fiscal?</th>\n",
       "      <th>Ce vă nemulțumește la sistemul fiscal românesc?</th>\n",
       "      <th>Dacă ați fi ministrul finanțelor publice ce ați schimba la sistemul fiscal românesc?</th>\n",
       "      <th>În opinia dumneavoastră, ce vă oferă sistemul fiscal actual?</th>\n",
       "      <th>Care din următoarele afirmații v-ar motiva să aveți încredere în sistemul fiscal?</th>\n",
       "      <th>Ce părere aveți despre sistemul fiscal actual?</th>\n",
       "      <th>TRANSPARENCY</th>\n",
       "      <th>VALUE FOR MONEY</th>\n",
       "      <th>ECONOMICAL</th>\n",
       "      <th>TRUST</th>\n",
       "      <th>SOCIAL WELFARE</th>\n",
       "      <th>WORK PLACE CREATION</th>\n",
       "      <th>SOCIO-ECONOMIC DEVELOPMENT</th>\n",
       "      <th>STABILITY</th>\n",
       "      <th>PREDICTIBILITY</th>\n",
       "      <th>FIN_INSP</th>\n",
       "      <th>FINES</th>\n",
       "      <th>CLEAR_LAW</th>\n",
       "      <th>FISC_FACIL</th>\n",
       "      <th>SUBV</th>\n",
       "      <th>INVEST_TAX</th>\n",
       "      <th>Q_PUBLIC_SV</th>\n",
       "      <th>TRUST.1</th>\n",
       "      <th>PUBLIC_INV</th>\n",
       "      <th>TRANSP</th>\n",
       "      <th>Unnamed: 25</th>\n",
       "      <th>Unnamed: 26</th>\n",
       "      <th>Unnamed: 27</th>\n",
       "      <th>Unnamed: 28</th>\n",
       "      <th>Unnamed: 29</th>\n",
       "      <th>Unnamed: 30</th>\n",
       "      <th>Unnamed: 31</th>\n",
       "      <th>Unnamed: 32</th>\n",
       "      <th>Unnamed: 33</th>\n",
       "      <th>Unnamed: 34</th>\n",
       "      <th>Unnamed: 35</th>\n",
       "      <th>Unnamed: 36</th>\n",
       "      <th>Unnamed: 37</th>\n",
       "      <th>Unnamed: 38</th>\n",
       "      <th>Unnamed: 39</th>\n",
       "      <th>Unnamed: 40</th>\n",
       "    </tr>\n",
       "  </thead>\n",
       "  <tbody>\n",
       "    <tr>\n",
       "      <th>0</th>\n",
       "      <td>1</td>\n",
       "      <td>- injustetea sociala\\n- impunerea excesiva\\n- ...</td>\n",
       "      <td>as incerca sa-l orientez spre cetatean.</td>\n",
       "      <td>- crestere a nivelului de trai in mod semi-efi...</td>\n",
       "      <td>Îmi creează sentimentul că plătesc un serviciu...</td>\n",
       "      <td>Foarte slabă</td>\n",
       "      <td>5</td>\n",
       "      <td>4</td>\n",
       "      <td>4</td>\n",
       "      <td>5</td>\n",
       "      <td>4</td>\n",
       "      <td>4</td>\n",
       "      <td>5</td>\n",
       "      <td>5</td>\n",
       "      <td>5</td>\n",
       "      <td>3</td>\n",
       "      <td>4</td>\n",
       "      <td>4</td>\n",
       "      <td>4</td>\n",
       "      <td>3</td>\n",
       "      <td>2</td>\n",
       "      <td>4</td>\n",
       "      <td>5</td>\n",
       "      <td>4</td>\n",
       "      <td>5</td>\n",
       "      <td>NaN</td>\n",
       "      <td>NaN</td>\n",
       "      <td>NaN</td>\n",
       "      <td>NaN</td>\n",
       "      <td>NaN</td>\n",
       "      <td>NaN</td>\n",
       "      <td>NaN</td>\n",
       "      <td>NaN</td>\n",
       "      <td>NaN</td>\n",
       "      <td>NaN</td>\n",
       "      <td>NaN</td>\n",
       "      <td>NaN</td>\n",
       "      <td>NaN</td>\n",
       "      <td>NaN</td>\n",
       "      <td>NaN</td>\n",
       "      <td>NaN</td>\n",
       "    </tr>\n",
       "    <tr>\n",
       "      <th>1</th>\n",
       "      <td>1</td>\n",
       "      <td>Ineficiența utilizării sumelor de bani strânse...</td>\n",
       "      <td>Aș crea un mediu de afacere stabil.</td>\n",
       "      <td>Birocrație excesivă.</td>\n",
       "      <td>Îmi creează sentimentul că plătesc un serviciu...</td>\n",
       "      <td>Bună</td>\n",
       "      <td>5</td>\n",
       "      <td>4</td>\n",
       "      <td>4</td>\n",
       "      <td>4</td>\n",
       "      <td>4</td>\n",
       "      <td>5</td>\n",
       "      <td>4</td>\n",
       "      <td>5</td>\n",
       "      <td>4</td>\n",
       "      <td>3</td>\n",
       "      <td>4</td>\n",
       "      <td>4</td>\n",
       "      <td>3</td>\n",
       "      <td>4</td>\n",
       "      <td>4</td>\n",
       "      <td>5</td>\n",
       "      <td>5</td>\n",
       "      <td>5</td>\n",
       "      <td>5</td>\n",
       "      <td>NaN</td>\n",
       "      <td>NaN</td>\n",
       "      <td>NaN</td>\n",
       "      <td>NaN</td>\n",
       "      <td>NaN</td>\n",
       "      <td>NaN</td>\n",
       "      <td>NaN</td>\n",
       "      <td>NaN</td>\n",
       "      <td>NaN</td>\n",
       "      <td>NaN</td>\n",
       "      <td>NaN</td>\n",
       "      <td>NaN</td>\n",
       "      <td>NaN</td>\n",
       "      <td>NaN</td>\n",
       "      <td>NaN</td>\n",
       "      <td>NaN</td>\n",
       "    </tr>\n",
       "    <tr>\n",
       "      <th>2</th>\n",
       "      <td>0</td>\n",
       "      <td>Organizarea probabil deficitara,\\nCircuitul lu...</td>\n",
       "      <td>Din postura mea de acum imi este greu sa dau u...</td>\n",
       "      <td>Un trai decent, servicii sociale intre mediocr...</td>\n",
       "      <td>Îmi creează sentimentul că plătesc un serviciu...</td>\n",
       "      <td>Neutră</td>\n",
       "      <td>3</td>\n",
       "      <td>5</td>\n",
       "      <td>4</td>\n",
       "      <td>4</td>\n",
       "      <td>4</td>\n",
       "      <td>5</td>\n",
       "      <td>5</td>\n",
       "      <td>4</td>\n",
       "      <td>3</td>\n",
       "      <td>3</td>\n",
       "      <td>3</td>\n",
       "      <td>3</td>\n",
       "      <td>3</td>\n",
       "      <td>5</td>\n",
       "      <td>5</td>\n",
       "      <td>5</td>\n",
       "      <td>5</td>\n",
       "      <td>5</td>\n",
       "      <td>5</td>\n",
       "      <td>NaN</td>\n",
       "      <td>NaN</td>\n",
       "      <td>NaN</td>\n",
       "      <td>NaN</td>\n",
       "      <td>NaN</td>\n",
       "      <td>NaN</td>\n",
       "      <td>NaN</td>\n",
       "      <td>NaN</td>\n",
       "      <td>NaN</td>\n",
       "      <td>NaN</td>\n",
       "      <td>NaN</td>\n",
       "      <td>NaN</td>\n",
       "      <td>NaN</td>\n",
       "      <td>NaN</td>\n",
       "      <td>NaN</td>\n",
       "      <td>NaN</td>\n",
       "    </tr>\n",
       "    <tr>\n",
       "      <th>3</th>\n",
       "      <td>1</td>\n",
       "      <td>Nu prea am incredere in sistem.</td>\n",
       "      <td>Nu prea stiu ce as schimba dar as face ceva in...</td>\n",
       "      <td>Nu stiu</td>\n",
       "      <td>Îmi creează sentimentul că plătesc un serviciu...</td>\n",
       "      <td>Bună</td>\n",
       "      <td>4</td>\n",
       "      <td>5</td>\n",
       "      <td>4</td>\n",
       "      <td>5</td>\n",
       "      <td>5</td>\n",
       "      <td>5</td>\n",
       "      <td>5</td>\n",
       "      <td>5</td>\n",
       "      <td>4</td>\n",
       "      <td>2</td>\n",
       "      <td>4</td>\n",
       "      <td>4</td>\n",
       "      <td>3</td>\n",
       "      <td>4</td>\n",
       "      <td>5</td>\n",
       "      <td>5</td>\n",
       "      <td>5</td>\n",
       "      <td>5</td>\n",
       "      <td>4</td>\n",
       "      <td>NaN</td>\n",
       "      <td>NaN</td>\n",
       "      <td>NaN</td>\n",
       "      <td>NaN</td>\n",
       "      <td>NaN</td>\n",
       "      <td>NaN</td>\n",
       "      <td>NaN</td>\n",
       "      <td>NaN</td>\n",
       "      <td>NaN</td>\n",
       "      <td>NaN</td>\n",
       "      <td>NaN</td>\n",
       "      <td>NaN</td>\n",
       "      <td>NaN</td>\n",
       "      <td>NaN</td>\n",
       "      <td>NaN</td>\n",
       "      <td>NaN</td>\n",
       "    </tr>\n",
       "    <tr>\n",
       "      <th>4</th>\n",
       "      <td>0</td>\n",
       "      <td>Fiscalitatea din Romania e plina de contradictii</td>\n",
       "      <td>Simplificarea legislatiei si a raportarilor fi...</td>\n",
       "      <td>Proceduri complicate....</td>\n",
       "      <td>Îmi creează sentimentul că plătesc un serviciu...</td>\n",
       "      <td>Foarte slabă</td>\n",
       "      <td>5</td>\n",
       "      <td>4</td>\n",
       "      <td>4</td>\n",
       "      <td>5</td>\n",
       "      <td>4</td>\n",
       "      <td>5</td>\n",
       "      <td>5</td>\n",
       "      <td>4</td>\n",
       "      <td>3</td>\n",
       "      <td>2</td>\n",
       "      <td>3</td>\n",
       "      <td>4</td>\n",
       "      <td>3</td>\n",
       "      <td>5</td>\n",
       "      <td>5</td>\n",
       "      <td>5</td>\n",
       "      <td>4</td>\n",
       "      <td>5</td>\n",
       "      <td>5</td>\n",
       "      <td>NaN</td>\n",
       "      <td>NaN</td>\n",
       "      <td>NaN</td>\n",
       "      <td>NaN</td>\n",
       "      <td>NaN</td>\n",
       "      <td>NaN</td>\n",
       "      <td>NaN</td>\n",
       "      <td>NaN</td>\n",
       "      <td>NaN</td>\n",
       "      <td>NaN</td>\n",
       "      <td>NaN</td>\n",
       "      <td>NaN</td>\n",
       "      <td>NaN</td>\n",
       "      <td>NaN</td>\n",
       "      <td>NaN</td>\n",
       "      <td>NaN</td>\n",
       "    </tr>\n",
       "  </tbody>\n",
       "</table>\n",
       "</div>"
      ],
      "text/plain": [
       "   Aveți încredere în sistemul fiscal?  ... Unnamed: 40\n",
       "0                                    1  ...         NaN\n",
       "1                                    1  ...         NaN\n",
       "2                                    0  ...         NaN\n",
       "3                                    1  ...         NaN\n",
       "4                                    0  ...         NaN\n",
       "\n",
       "[5 rows x 41 columns]"
      ]
     },
     "metadata": {
      "tags": []
     },
     "execution_count": 9
    }
   ]
  },
  {
   "cell_type": "code",
   "metadata": {
    "id": "SrN__FDPwr6N",
    "outputId": "78bff59a-7643-4dd4-e210-86393ef4044c"
   },
   "source": [
    "df.groupby('de_ce_taxe').count()"
   ],
   "execution_count": null,
   "outputs": [
    {
     "output_type": "execute_result",
     "data": {
      "text/html": [
       "<div>\n",
       "<style scoped>\n",
       "    .dataframe tbody tr th:only-of-type {\n",
       "        vertical-align: middle;\n",
       "    }\n",
       "\n",
       "    .dataframe tbody tr th {\n",
       "        vertical-align: top;\n",
       "    }\n",
       "\n",
       "    .dataframe thead th {\n",
       "        text-align: right;\n",
       "    }\n",
       "</style>\n",
       "<table border=\"1\" class=\"dataframe\">\n",
       "  <thead>\n",
       "    <tr style=\"text-align: right;\">\n",
       "      <th></th>\n",
       "      <th>rol_taxe</th>\n",
       "      <th>efecte_reducere_tva</th>\n",
       "    </tr>\n",
       "    <tr>\n",
       "      <th>de_ce_taxe</th>\n",
       "      <th></th>\n",
       "      <th></th>\n",
       "    </tr>\n",
       "  </thead>\n",
       "  <tbody>\n",
       "    <tr>\n",
       "      <th>In mare parte pentru ca este obligatoriu</th>\n",
       "      <td>1</td>\n",
       "      <td>1</td>\n",
       "    </tr>\n",
       "    <tr>\n",
       "      <th>Este oblogatie</th>\n",
       "      <td>1</td>\n",
       "      <td>1</td>\n",
       "    </tr>\n",
       "    <tr>\n",
       "      <th>In mare parte pentru ca e obligatoriu, dar totusi aceste taxe si impozite sprijina intr-o oarecare masura echilibrul tari.</th>\n",
       "      <td>1</td>\n",
       "      <td>1</td>\n",
       "    </tr>\n",
       "    <tr>\n",
       "      <th>PENTRU CA ALTFEL ECONOMIA NATIONALA AR FI IN COLAPS.</th>\n",
       "      <td>1</td>\n",
       "      <td>1</td>\n",
       "    </tr>\n",
       "    <tr>\n",
       "      <th>Pentru ca din ele AR trebui sa se finanteze serviciile publice</th>\n",
       "      <td>1</td>\n",
       "      <td>1</td>\n",
       "    </tr>\n",
       "    <tr>\n",
       "      <th>Pentru ca din ele ar trebui sa se finanteze serviciile publice</th>\n",
       "      <td>1</td>\n",
       "      <td>1</td>\n",
       "    </tr>\n",
       "    <tr>\n",
       "      <th>Pentru ca e obligatoriu si de asemenea  pentru ca din ele se finanteaza servicii publice.</th>\n",
       "      <td>1</td>\n",
       "      <td>1</td>\n",
       "    </tr>\n",
       "    <tr>\n",
       "      <th>Pentru ca trebuie.</th>\n",
       "      <td>1</td>\n",
       "      <td>1</td>\n",
       "    </tr>\n",
       "    <tr>\n",
       "      <th>Pentru că din ele se finanțează serviciile publice</th>\n",
       "      <td>473</td>\n",
       "      <td>474</td>\n",
       "    </tr>\n",
       "    <tr>\n",
       "      <th>Pentru că e obligatoriu</th>\n",
       "      <td>222</td>\n",
       "      <td>222</td>\n",
       "    </tr>\n",
       "    <tr>\n",
       "      <th>Pentru că sunt obligatorii și pentru că din acestea se finanțează serviciile publice.</th>\n",
       "      <td>1</td>\n",
       "      <td>1</td>\n",
       "    </tr>\n",
       "    <tr>\n",
       "      <th>Pentru că vrem</th>\n",
       "      <td>2</td>\n",
       "      <td>2</td>\n",
       "    </tr>\n",
       "    <tr>\n",
       "      <th>Taxele si impozitele, in calitate de venituri ale statului, finanteaza serviciile publice. De asemenea, sunt obligatorii.</th>\n",
       "      <td>1</td>\n",
       "      <td>1</td>\n",
       "    </tr>\n",
       "    <tr>\n",
       "      <th>pentru ca din ele se finanteaza serviciile publice si pentru ca este obligatoriu</th>\n",
       "      <td>1</td>\n",
       "      <td>1</td>\n",
       "    </tr>\n",
       "    <tr>\n",
       "      <th>pentru că e obligatoriu și pentru că și din ele se finanțează serviciile publice</th>\n",
       "      <td>1</td>\n",
       "      <td>1</td>\n",
       "    </tr>\n",
       "  </tbody>\n",
       "</table>\n",
       "</div>"
      ],
      "text/plain": [
       "                                                    rol_taxe  \\\n",
       "de_ce_taxe                                                     \n",
       " In mare parte pentru ca este obligatoriu                  1   \n",
       "Este oblogatie                                             1   \n",
       "In mare parte pentru ca e obligatoriu, dar totu...         1   \n",
       "PENTRU CA ALTFEL ECONOMIA NATIONALA AR FI IN CO...         1   \n",
       "Pentru ca din ele AR trebui sa se finanteze ser...         1   \n",
       "Pentru ca din ele ar trebui sa se finanteze ser...         1   \n",
       "Pentru ca e obligatoriu si de asemenea  pentru ...         1   \n",
       "Pentru ca trebuie.                                         1   \n",
       "Pentru că din ele se finanțează serviciile publice       473   \n",
       "Pentru că e obligatoriu                                  222   \n",
       "Pentru că sunt obligatorii și pentru că din ace...         1   \n",
       "Pentru că vrem                                             2   \n",
       "Taxele si impozitele, in calitate de venituri a...         1   \n",
       "pentru ca din ele se finanteaza serviciile publ...         1   \n",
       "pentru că e obligatoriu și pentru că și din ele...         1   \n",
       "\n",
       "                                                    efecte_reducere_tva  \n",
       "de_ce_taxe                                                               \n",
       " In mare parte pentru ca este obligatoriu                             1  \n",
       "Este oblogatie                                                        1  \n",
       "In mare parte pentru ca e obligatoriu, dar totu...                    1  \n",
       "PENTRU CA ALTFEL ECONOMIA NATIONALA AR FI IN CO...                    1  \n",
       "Pentru ca din ele AR trebui sa se finanteze ser...                    1  \n",
       "Pentru ca din ele ar trebui sa se finanteze ser...                    1  \n",
       "Pentru ca e obligatoriu si de asemenea  pentru ...                    1  \n",
       "Pentru ca trebuie.                                                    1  \n",
       "Pentru că din ele se finanțează serviciile publice                  474  \n",
       "Pentru că e obligatoriu                                             222  \n",
       "Pentru că sunt obligatorii și pentru că din ace...                    1  \n",
       "Pentru că vrem                                                        2  \n",
       "Taxele si impozitele, in calitate de venituri a...                    1  \n",
       "pentru ca din ele se finanteaza serviciile publ...                    1  \n",
       "pentru că e obligatoriu și pentru că și din ele...                    1  "
      ]
     },
     "metadata": {
      "tags": []
     },
     "execution_count": 11
    }
   ]
  },
  {
   "cell_type": "code",
   "metadata": {
    "id": "v7EgaMPSwr6N",
    "outputId": "24dbc3de-5d4f-4b29-e288-fd6e0911e947"
   },
   "source": [
    "df.groupby('rol_taxe').count()"
   ],
   "execution_count": null,
   "outputs": [
    {
     "output_type": "execute_result",
     "data": {
      "text/html": [
       "<div>\n",
       "<style scoped>\n",
       "    .dataframe tbody tr th:only-of-type {\n",
       "        vertical-align: middle;\n",
       "    }\n",
       "\n",
       "    .dataframe tbody tr th {\n",
       "        vertical-align: top;\n",
       "    }\n",
       "\n",
       "    .dataframe thead th {\n",
       "        text-align: right;\n",
       "    }\n",
       "</style>\n",
       "<table border=\"1\" class=\"dataframe\">\n",
       "  <thead>\n",
       "    <tr style=\"text-align: right;\">\n",
       "      <th></th>\n",
       "      <th>efecte_reducere_tva</th>\n",
       "      <th>de_ce_taxe</th>\n",
       "    </tr>\n",
       "    <tr>\n",
       "      <th>rol_taxe</th>\n",
       "      <th></th>\n",
       "      <th></th>\n",
       "    </tr>\n",
       "  </thead>\n",
       "  <tbody>\n",
       "    <tr>\n",
       "      <th>Ajută la reabilitarea spitalelor, școlilor, furnizarea serviciilor publice, etc.</th>\n",
       "      <td>22</td>\n",
       "      <td>22</td>\n",
       "    </tr>\n",
       "    <tr>\n",
       "      <th>Ajută la reabilitarea spitalelor, școlilor, furnizarea serviciilor publice, etc., Susțin măsurile de protecție socială</th>\n",
       "      <td>2</td>\n",
       "      <td>2</td>\n",
       "    </tr>\n",
       "    <tr>\n",
       "      <th>Ajută la reabilitarea spitalelor, școlilor, furnizarea serviciilor publice, etc., Susțin un sistem administrativ statal eficient</th>\n",
       "      <td>5</td>\n",
       "      <td>5</td>\n",
       "    </tr>\n",
       "    <tr>\n",
       "      <th>Ajută la reabilitarea spitalelor, școlilor, furnizarea serviciilor publice, etc., Susțin un sistem administrativ statal eficient, Susțin măsurile de protecție socială</th>\n",
       "      <td>2</td>\n",
       "      <td>2</td>\n",
       "    </tr>\n",
       "    <tr>\n",
       "      <th>Bani mai mulți pentru pensii speciale,ajutoare sociale pentru putori,si condiții pentru criminali din pușcarii.Prea puțin pentru infrastructura,spitale,scoli!!</th>\n",
       "      <td>1</td>\n",
       "      <td>1</td>\n",
       "    </tr>\n",
       "    <tr>\n",
       "      <th>...</th>\n",
       "      <td>...</td>\n",
       "      <td>...</td>\n",
       "    </tr>\n",
       "    <tr>\n",
       "      <th>Susțin dezvoltarea infrastructurii, Susțin un sistem administrativ statal eficient, Susțin măsurile de protecție socială</th>\n",
       "      <td>3</td>\n",
       "      <td>3</td>\n",
       "    </tr>\n",
       "    <tr>\n",
       "      <th>Susțin măsurile de protecție socială</th>\n",
       "      <td>6</td>\n",
       "      <td>6</td>\n",
       "    </tr>\n",
       "    <tr>\n",
       "      <th>Susțin măsurile de protecție socială, sustin un sistem administrativ statal ineficient</th>\n",
       "      <td>1</td>\n",
       "      <td>1</td>\n",
       "    </tr>\n",
       "    <tr>\n",
       "      <th>Susțin un sistem administrativ statal eficient</th>\n",
       "      <td>24</td>\n",
       "      <td>24</td>\n",
       "    </tr>\n",
       "    <tr>\n",
       "      <th>sunt numai bune de furat de catre \"cei de sus\"</th>\n",
       "      <td>1</td>\n",
       "      <td>1</td>\n",
       "    </tr>\n",
       "  </tbody>\n",
       "</table>\n",
       "<p>67 rows × 2 columns</p>\n",
       "</div>"
      ],
      "text/plain": [
       "                                                    efecte_reducere_tva  \\\n",
       "rol_taxe                                                                  \n",
       "Ajută la reabilitarea spitalelor, școlilor, fur...                   22   \n",
       "Ajută la reabilitarea spitalelor, școlilor, fur...                    2   \n",
       "Ajută la reabilitarea spitalelor, școlilor, fur...                    5   \n",
       "Ajută la reabilitarea spitalelor, școlilor, fur...                    2   \n",
       "Bani mai mulți pentru pensii speciale,ajutoare ...                    1   \n",
       "...                                                                 ...   \n",
       "Susțin dezvoltarea infrastructurii, Susțin un s...                    3   \n",
       "Susțin măsurile de protecție socială                                  6   \n",
       "Susțin măsurile de protecție socială, sustin un...                    1   \n",
       "Susțin un sistem administrativ statal eficient                       24   \n",
       "sunt numai bune de furat de catre \"cei de sus\"                        1   \n",
       "\n",
       "                                                    de_ce_taxe  \n",
       "rol_taxe                                                        \n",
       "Ajută la reabilitarea spitalelor, școlilor, fur...          22  \n",
       "Ajută la reabilitarea spitalelor, școlilor, fur...           2  \n",
       "Ajută la reabilitarea spitalelor, școlilor, fur...           5  \n",
       "Ajută la reabilitarea spitalelor, școlilor, fur...           2  \n",
       "Bani mai mulți pentru pensii speciale,ajutoare ...           1  \n",
       "...                                                        ...  \n",
       "Susțin dezvoltarea infrastructurii, Susțin un s...           3  \n",
       "Susțin măsurile de protecție socială                         6  \n",
       "Susțin măsurile de protecție socială, sustin un...           1  \n",
       "Susțin un sistem administrativ statal eficient              24  \n",
       "sunt numai bune de furat de catre \"cei de sus\"               1  \n",
       "\n",
       "[67 rows x 2 columns]"
      ]
     },
     "metadata": {
      "tags": []
     },
     "execution_count": 12
    }
   ]
  },
  {
   "cell_type": "code",
   "metadata": {
    "id": "NlgL63z1wr6O",
    "outputId": "2fb554f2-bafc-4661-f820-1bf081c07ffb"
   },
   "source": [
    "df.groupby('efecte_reducere_tva').count()"
   ],
   "execution_count": null,
   "outputs": [
    {
     "output_type": "execute_result",
     "data": {
      "text/html": [
       "<div>\n",
       "<style scoped>\n",
       "    .dataframe tbody tr th:only-of-type {\n",
       "        vertical-align: middle;\n",
       "    }\n",
       "\n",
       "    .dataframe tbody tr th {\n",
       "        vertical-align: top;\n",
       "    }\n",
       "\n",
       "    .dataframe thead th {\n",
       "        text-align: right;\n",
       "    }\n",
       "</style>\n",
       "<table border=\"1\" class=\"dataframe\">\n",
       "  <thead>\n",
       "    <tr style=\"text-align: right;\">\n",
       "      <th></th>\n",
       "      <th>rol_taxe</th>\n",
       "      <th>de_ce_taxe</th>\n",
       "    </tr>\n",
       "    <tr>\n",
       "      <th>efecte_reducere_tva</th>\n",
       "      <th></th>\n",
       "      <th></th>\n",
       "    </tr>\n",
       "  </thead>\n",
       "  <tbody>\n",
       "    <tr>\n",
       "      <th>Ieftiniirea painii</th>\n",
       "      <td>1</td>\n",
       "      <td>1</td>\n",
       "    </tr>\n",
       "    <tr>\n",
       "      <th>In momentul de fata, scaderea cotei TVA este ca o sabie cu 2 tăișuri. Pe de o parte consumul ar fi stimulat(in cazul in care preturile scad, ceea ce nu este obligatoriu) iar pe de alta parte, inlocuirea veniturilor din impozite se va compensa cu marirea altor impozite.</th>\n",
       "      <td>1</td>\n",
       "      <td>1</td>\n",
       "    </tr>\n",
       "    <tr>\n",
       "      <th>Normal ar fi, scad prețurile și vom putea cumpăra mai mult, dar acest lucru nu înseamnă ca prețurile vor scădea. Sau chiar dacă vor scădea, un alt lucru (impozit, taxă) va crește pentru a compensa pierderea din TVA.</th>\n",
       "      <td>1</td>\n",
       "      <td>1</td>\n",
       "    </tr>\n",
       "    <tr>\n",
       "      <th>Nu cred ca va exista un efect major anume, eventual cresterea altor taxe sau impozite.</th>\n",
       "      <td>1</td>\n",
       "      <td>1</td>\n",
       "    </tr>\n",
       "    <tr>\n",
       "      <th>Scad prețurile și vom putea cumpăra mai mult</th>\n",
       "      <td>34</td>\n",
       "      <td>34</td>\n",
       "    </tr>\n",
       "    <tr>\n",
       "      <th>Scad prețurile și vom putea cumpăra mai mult, Scăderea TVA-ului nu va fi urmată neaparat de scăderea prețurilor la bunurile de consum</th>\n",
       "      <td>3</td>\n",
       "      <td>3</td>\n",
       "    </tr>\n",
       "    <tr>\n",
       "      <th>Scad veniturile bugetare și vor crește alte impozite sau taxe</th>\n",
       "      <td>117</td>\n",
       "      <td>117</td>\n",
       "    </tr>\n",
       "    <tr>\n",
       "      <th>Scad veniturile bugetare și vor crește alte impozite sau taxe, Scad prețurile și vom putea cumpăra mai mult</th>\n",
       "      <td>2</td>\n",
       "      <td>2</td>\n",
       "    </tr>\n",
       "    <tr>\n",
       "      <th>Scad veniturile bugetare și vor crește alte impozite sau taxe, Scăderea TVA-ului nu va fi urmată neaparat de scăderea prețurilor la bunurile de consum</th>\n",
       "      <td>71</td>\n",
       "      <td>71</td>\n",
       "    </tr>\n",
       "    <tr>\n",
       "      <th>Scad veniturile bugetare și vor crește alte impozite sau taxe, Scăderea TVA-ului nu va fi urmată neaparat de scăderea prețurilor la bunurile de consum, Reducerea evaziunii fiscale.</th>\n",
       "      <td>1</td>\n",
       "      <td>1</td>\n",
       "    </tr>\n",
       "    <tr>\n",
       "      <th>Scăderea TVA-ului nu va determina creşterea consumului.</th>\n",
       "      <td>1</td>\n",
       "      <td>1</td>\n",
       "    </tr>\n",
       "    <tr>\n",
       "      <th>Scăderea TVA-ului nu va fi urmată neaparat de scăderea prețurilor la bunurile de consum</th>\n",
       "      <td>164</td>\n",
       "      <td>164</td>\n",
       "    </tr>\n",
       "    <tr>\n",
       "      <th>Scăderea TVA-ului nu va fi urmată neaparat de scăderea prețurilor la bunurile de consum, din pacate nu se observa in preturi reducerea tva</th>\n",
       "      <td>1</td>\n",
       "      <td>1</td>\n",
       "    </tr>\n",
       "    <tr>\n",
       "      <th>Stimuleaza marile companii, sa inregistreze o mare parte din tranzactiile pe care cu TVA-ul mare, le tranzactionau \"la negru\". Astfel, chiar daca cota este mai mica, tranzactiile transparent, in opinia mea, vor fi mai multe, iar statul v-a avea de castigat</th>\n",
       "      <td>1</td>\n",
       "      <td>1</td>\n",
       "    </tr>\n",
       "    <tr>\n",
       "      <th>Stimulează consumul și acest fapt ajută la redresarea economică</th>\n",
       "      <td>164</td>\n",
       "      <td>165</td>\n",
       "    </tr>\n",
       "    <tr>\n",
       "      <th>Stimulează consumul și acest fapt ajută la redresarea economică, Reduce economia subterană</th>\n",
       "      <td>1</td>\n",
       "      <td>1</td>\n",
       "    </tr>\n",
       "    <tr>\n",
       "      <th>Stimulează consumul și acest fapt ajută la redresarea economică, Reduce evaziunea fiscală.</th>\n",
       "      <td>1</td>\n",
       "      <td>1</td>\n",
       "    </tr>\n",
       "    <tr>\n",
       "      <th>Stimulează consumul și acest fapt ajută la redresarea economică, Scad prețurile și vom putea cumpăra mai mult</th>\n",
       "      <td>29</td>\n",
       "      <td>29</td>\n",
       "    </tr>\n",
       "    <tr>\n",
       "      <th>Stimulează consumul și acest fapt ajută la redresarea economică, Scad prețurile și vom putea cumpăra mai mult, Scăderea TVA-ului nu va fi urmată neaparat de scăderea prețurilor la bunurile de consum</th>\n",
       "      <td>6</td>\n",
       "      <td>6</td>\n",
       "    </tr>\n",
       "    <tr>\n",
       "      <th>Stimulează consumul și acest fapt ajută la redresarea economică, Scad prețurile și vom putea cumpăra mai mult, Vor creste veniturile bugetare deoarece se va reduce evaziunea suficient cat sa compenseze reducerile veniturlor din reducerea TVA si chiar mai mult.</th>\n",
       "      <td>1</td>\n",
       "      <td>1</td>\n",
       "    </tr>\n",
       "    <tr>\n",
       "      <th>Stimulează consumul și acest fapt ajută la redresarea economică, Scad veniturile bugetare și vor crește alte impozite sau taxe</th>\n",
       "      <td>26</td>\n",
       "      <td>26</td>\n",
       "    </tr>\n",
       "    <tr>\n",
       "      <th>Stimulează consumul și acest fapt ajută la redresarea economică, Scad veniturile bugetare și vor crește alte impozite sau taxe, Scad prețurile și vom putea cumpăra mai mult</th>\n",
       "      <td>7</td>\n",
       "      <td>7</td>\n",
       "    </tr>\n",
       "    <tr>\n",
       "      <th>Stimulează consumul și acest fapt ajută la redresarea economică, Scad veniturile bugetare și vor crește alte impozite sau taxe, Scad prețurile și vom putea cumpăra mai mult, Scăderea TVA-ului nu va fi urmată neaparat de scăderea prețurilor la bunurile de consum</th>\n",
       "      <td>2</td>\n",
       "      <td>2</td>\n",
       "    </tr>\n",
       "    <tr>\n",
       "      <th>Stimulează consumul și acest fapt ajută la redresarea economică, Scad veniturile bugetare și vor crește alte impozite sau taxe, Scăderea TVA-ului nu va fi urmată neaparat de scăderea prețurilor la bunurile de consum</th>\n",
       "      <td>21</td>\n",
       "      <td>21</td>\n",
       "    </tr>\n",
       "    <tr>\n",
       "      <th>Stimulează consumul și acest fapt ajută la redresarea economică, Scad veniturile bugetare și vor crește alte impozite sau taxe, Teoretic, stimuleaza consumul, insa practic avem urmatoarea situatie: sporirea altor taxe si impozite si ramanerea veniturilor la acelasi nivel. Astfel, contribuabilul va dispune de o suma sensibil egala cu cea de pana acum pentru cheltuielile alimentare si nonalimentare.</th>\n",
       "      <td>1</td>\n",
       "      <td>1</td>\n",
       "    </tr>\n",
       "    <tr>\n",
       "      <th>Stimulează consumul și acest fapt ajută la redresarea economică, Scăderea TVA-ului nu va fi urmată neaparat de scăderea prețurilor la bunurile de consum</th>\n",
       "      <td>50</td>\n",
       "      <td>50</td>\n",
       "    </tr>\n",
       "    <tr>\n",
       "      <th>Stimulează consumul și acest fapt ajută la redresarea economică, Scăderea TVA-ului nu va fi urmată neaparat de scăderea prețurilor la bunurile de consum, Stimulează producția</th>\n",
       "      <td>1</td>\n",
       "      <td>1</td>\n",
       "    </tr>\n",
       "  </tbody>\n",
       "</table>\n",
       "</div>"
      ],
      "text/plain": [
       "                                                    rol_taxe  de_ce_taxe\n",
       "efecte_reducere_tva                                                     \n",
       "Ieftiniirea painii                                         1           1\n",
       "In momentul de fata, scaderea cotei TVA este ca...         1           1\n",
       "Normal ar fi, scad prețurile și vom putea cumpă...         1           1\n",
       "Nu cred ca va exista un efect major anume, even...         1           1\n",
       "Scad prețurile și vom putea cumpăra mai mult              34          34\n",
       "Scad prețurile și vom putea cumpăra mai mult, S...         3           3\n",
       "Scad veniturile bugetare și vor crește alte imp...       117         117\n",
       "Scad veniturile bugetare și vor crește alte imp...         2           2\n",
       "Scad veniturile bugetare și vor crește alte imp...        71          71\n",
       "Scad veniturile bugetare și vor crește alte imp...         1           1\n",
       "Scăderea TVA-ului nu va determina creşterea con...         1           1\n",
       "Scăderea TVA-ului nu va fi urmată neaparat de s...       164         164\n",
       "Scăderea TVA-ului nu va fi urmată neaparat de s...         1           1\n",
       "Stimuleaza marile companii, sa inregistreze o m...         1           1\n",
       "Stimulează consumul și acest fapt ajută la redr...       164         165\n",
       "Stimulează consumul și acest fapt ajută la redr...         1           1\n",
       "Stimulează consumul și acest fapt ajută la redr...         1           1\n",
       "Stimulează consumul și acest fapt ajută la redr...        29          29\n",
       "Stimulează consumul și acest fapt ajută la redr...         6           6\n",
       "Stimulează consumul și acest fapt ajută la redr...         1           1\n",
       "Stimulează consumul și acest fapt ajută la redr...        26          26\n",
       "Stimulează consumul și acest fapt ajută la redr...         7           7\n",
       "Stimulează consumul și acest fapt ajută la redr...         2           2\n",
       "Stimulează consumul și acest fapt ajută la redr...        21          21\n",
       "Stimulează consumul și acest fapt ajută la redr...         1           1\n",
       "Stimulează consumul și acest fapt ajută la redr...        50          50\n",
       "Stimulează consumul și acest fapt ajută la redr...         1           1"
      ]
     },
     "metadata": {
      "tags": []
     },
     "execution_count": 13
    }
   ]
  },
  {
   "cell_type": "code",
   "metadata": {
    "id": "MgJiIBA1wr6O"
   },
   "source": [
    ""
   ],
   "execution_count": null,
   "outputs": []
  },
  {
   "cell_type": "code",
   "metadata": {
    "id": "OpSXr_uhyspE"
   },
   "source": [
    ""
   ],
   "execution_count": null,
   "outputs": []
  }
 ]
}