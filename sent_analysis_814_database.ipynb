{
 "nbformat": 4,
 "nbformat_minor": 0,
 "metadata": {
  "colab": {
   "name": "Perceptia_fiscalitatii_sent_analysis.ipynb",
   "provenance": [],
   "collapsed_sections": [
    "Gl7927Ydp7I1",
    "sxtlTgEbqFlA",
    "SSkk0nc37rFd",
    "Lu_pWFFguSyI"
   ]
  },
  "kernelspec": {
   "display_name": "Python 3",
   "language": "python",
   "name": "python3"
  },
  "language_info": {
   "codemirror_mode": {
    "name": "ipython",
    "version": 3
   },
   "file_extension": ".py",
   "mimetype": "text/x-python",
   "name": "python",
   "nbconvert_exporter": "python",
   "pygments_lexer": "ipython3",
   "version": "3.8.5"
  },
  "pycharm": {
   "stem_cell": {
    "cell_type": "raw",
    "source": [],
    "metadata": {
     "collapsed": false
    }
   }
  }
 },
 "cells": [
  {
   "metadata": {},
   "cell_type": "markdown",
   "source": [
    "# Modelling taxpayers’ behaviour based on prediction of Trust using sentiment analysis\n",
    "[1. Import libraries](#1-import-libraries)  \n",
    "[2. Read and explore data](#2-read-and-explore-data)  \n",
    "[3. Compare models for trust prediction](#3-compare-models-using-classical-ml-for-trust-prediction)  \n",
    "[4. Topic analysis and sentiment](#4-topic-analysis-and-sentiment)  \n",
    "[5. Future steps](#5-future-steps)  \n",
    "\n",
    "# 1. Import libraries"
   ]
  },
  {
   "metadata": {
    "ExecuteTime": {
     "end_time": "2024-09-22T13:39:58.551952Z",
     "start_time": "2024-09-22T13:39:57.504284Z"
    }
   },
   "cell_type": "code",
   "source": [
    "import os\n",
    "import re\n",
    "import string\n",
    "\n",
    "import numpy as np\n",
    "import pandas as pd\n",
    "import unidecode\n",
    "\n",
    "# Visualization\n",
    "import seaborn as sns\n",
    "%matplotlib inline\n",
    "import matplotlib.pyplot as plt\n",
    "\n",
    "plt.rcParams['figure.figsize'] = [5, 5]\n",
    "plt.rcParams['xtick.color'] = 'black'\n",
    "plt.rcParams['ytick.color'] = 'black'\n",
    "plt.rcParams['text.color'] = 'black'\n",
    "plt.rcParams['axes.labelcolor'] = 'black'\n",
    "\n",
    "# NLP libraries\n",
    "import nltk\n",
    "from nltk.stem import SnowballStemmer\n",
    "from nltk.corpus import stopwords\n",
    "\n",
    "nltk.download(\"stopwords\")\n",
    "nltk.download('punkt')\n",
    "\n",
    "from gensim.corpora.dictionary import Dictionary\n",
    "from gensim.models import LdaModel\n",
    "import pyLDAvis\n",
    "import pyLDAvis.gensim_models as gensimvis\n",
    "\n",
    "# ML experiments\n",
    "from sklearn.model_selection import train_test_split\n",
    "from sklearn.metrics import classification_report, confusion_matrix, accuracy_score, precision_score, recall_score\n",
    "from sklearn import naive_bayes, svm\n",
    "from sklearn.linear_model import LogisticRegression\n",
    "from sklearn.tree import DecisionTreeClassifier\n",
    "from sklearn.ensemble import RandomForestClassifier\n",
    "\n",
    "# Display every call in output\n",
    "from IPython.core.interactiveshell import InteractiveShell\n",
    "InteractiveShell.ast_node_interactivity = \"all\"\n",
    "\n",
    "import warnings\n",
    "warnings.filterwarnings(\"ignore\")"
   ],
   "outputs": [
    {
     "name": "stderr",
     "output_type": "stream",
     "text": [
      "[nltk_data] Downloading package stopwords to\n",
      "[nltk_data]     C:\\Users\\scioban\\AppData\\Roaming\\nltk_data...\n",
      "[nltk_data]   Package stopwords is already up-to-date!\n",
      "[nltk_data] Downloading package punkt to\n",
      "[nltk_data]     C:\\Users\\scioban\\AppData\\Roaming\\nltk_data...\n",
      "[nltk_data]   Package punkt is already up-to-date!\n",
      "[nltk_data] Downloading package punkt to\n",
      "[nltk_data]     C:\\Users\\scioban\\AppData\\Roaming\\nltk_data...\n",
      "[nltk_data]   Package punkt is already up-to-date!\n"
     ]
    }
   ],
   "execution_count": 13
  },
  {
   "cell_type": "markdown",
   "metadata": {
    "id": "kpJBa8nvnLKD"
   },
   "source": "# 2. Read and explore data"
  },
  {
   "cell_type": "code",
   "metadata": {
    "colab": {
     "base_uri": "https://localhost:8080/",
     "height": 171
    },
    "id": "bUCEkMutwr6J",
    "outputId": "7bc51272-73b5-42cb-9083-7c3c5b099b9a",
    "ExecuteTime": {
     "end_time": "2024-09-22T13:51:49.298959Z",
     "start_time": "2024-09-22T13:51:49.276576Z"
    }
   },
   "source": [
    "df_sent = pd.read_csv(os.path.join('data', 'db_responses_814_febr_with_sentiment.csv'))\n",
    "df_sent.head(3)"
   ],
   "outputs": [
    {
     "data": {
      "text/plain": [
       "   incredere_sist_fiscal  parere_sist_fiscal  TRANSPARENCY  VALUE FOR MONEY  \\\n",
       "0                      1                   1             5                4   \n",
       "1                      1                   4             5                4   \n",
       "2                      0                   3             3                5   \n",
       "\n",
       "   ECONOMICAL  TRUST  SOCIAL WELFARE  WORK PLACE CREATION  \\\n",
       "0           4      5               4                    4   \n",
       "1           4      4               4                    5   \n",
       "2           4      4               4                    5   \n",
       "\n",
       "   SOCIO-ECONOMIC DEVELOPMENT  STABILITY  ...  TRANSP  \\\n",
       "0                           5          5  ...       5   \n",
       "1                           4          5  ...       5   \n",
       "2                           5          4  ...       5   \n",
       "\n",
       "                             nemultumiri_sist_fiscal  \\\n",
       "0  - injustetea sociala\\n- impunerea excesiva\\n- ...   \n",
       "1  Ineficiența utilizării sumelor de bani strânse...   \n",
       "2  Organizarea probabil deficitara,\\nCircuitul lu...   \n",
       "\n",
       "                               schimbari_sist_fiscal  \\\n",
       "0            as incerca sa-l orientez spre cetatean.   \n",
       "1                Aș crea un mediu de afacere stabil.   \n",
       "2  Din postura mea de acum imi este greu sa dau u...   \n",
       "\n",
       "                                   ce_ofera_sistemul  \\\n",
       "0  - crestere a nivelului de trai in mod semi-efi...   \n",
       "1                               Birocrație excesivă.   \n",
       "2  Un trai decent, servicii sociale intre mediocr...   \n",
       "\n",
       "                      motivare_incredere_sist_fiscal  \\\n",
       "0  Îmi creează sentimentul că plătesc un serviciu...   \n",
       "1  Îmi creează sentimentul că plătesc un serviciu...   \n",
       "2  Îmi creează sentimentul că plătesc un serviciu...   \n",
       "\n",
       "   nemultumiri_sist_fiscal_sentiment  schimbari_sist_fiscal_sentiment  \\\n",
       "0                                  0                                0   \n",
       "1                                  0                                1   \n",
       "2                                  0                                0   \n",
       "\n",
       "   ce_ofera_sistemul_sentiment  motivare_incredere_sist_fiscal_sentiment  \\\n",
       "0                            0                                         0   \n",
       "1                            1                                         0   \n",
       "2                            0                                         1   \n",
       "\n",
       "   overall_sentiment_all_responses  \n",
       "0                                0  \n",
       "1                                1  \n",
       "2                                0  \n",
       "\n",
       "[3 rows x 29 columns]"
      ],
      "text/html": [
       "<div>\n",
       "<style scoped>\n",
       "    .dataframe tbody tr th:only-of-type {\n",
       "        vertical-align: middle;\n",
       "    }\n",
       "\n",
       "    .dataframe tbody tr th {\n",
       "        vertical-align: top;\n",
       "    }\n",
       "\n",
       "    .dataframe thead th {\n",
       "        text-align: right;\n",
       "    }\n",
       "</style>\n",
       "<table border=\"1\" class=\"dataframe\">\n",
       "  <thead>\n",
       "    <tr style=\"text-align: right;\">\n",
       "      <th></th>\n",
       "      <th>incredere_sist_fiscal</th>\n",
       "      <th>parere_sist_fiscal</th>\n",
       "      <th>TRANSPARENCY</th>\n",
       "      <th>VALUE FOR MONEY</th>\n",
       "      <th>ECONOMICAL</th>\n",
       "      <th>TRUST</th>\n",
       "      <th>SOCIAL WELFARE</th>\n",
       "      <th>WORK PLACE CREATION</th>\n",
       "      <th>SOCIO-ECONOMIC DEVELOPMENT</th>\n",
       "      <th>STABILITY</th>\n",
       "      <th>...</th>\n",
       "      <th>TRANSP</th>\n",
       "      <th>nemultumiri_sist_fiscal</th>\n",
       "      <th>schimbari_sist_fiscal</th>\n",
       "      <th>ce_ofera_sistemul</th>\n",
       "      <th>motivare_incredere_sist_fiscal</th>\n",
       "      <th>nemultumiri_sist_fiscal_sentiment</th>\n",
       "      <th>schimbari_sist_fiscal_sentiment</th>\n",
       "      <th>ce_ofera_sistemul_sentiment</th>\n",
       "      <th>motivare_incredere_sist_fiscal_sentiment</th>\n",
       "      <th>overall_sentiment_all_responses</th>\n",
       "    </tr>\n",
       "  </thead>\n",
       "  <tbody>\n",
       "    <tr>\n",
       "      <th>0</th>\n",
       "      <td>1</td>\n",
       "      <td>1</td>\n",
       "      <td>5</td>\n",
       "      <td>4</td>\n",
       "      <td>4</td>\n",
       "      <td>5</td>\n",
       "      <td>4</td>\n",
       "      <td>4</td>\n",
       "      <td>5</td>\n",
       "      <td>5</td>\n",
       "      <td>...</td>\n",
       "      <td>5</td>\n",
       "      <td>- injustetea sociala\\n- impunerea excesiva\\n- ...</td>\n",
       "      <td>as incerca sa-l orientez spre cetatean.</td>\n",
       "      <td>- crestere a nivelului de trai in mod semi-efi...</td>\n",
       "      <td>Îmi creează sentimentul că plătesc un serviciu...</td>\n",
       "      <td>0</td>\n",
       "      <td>0</td>\n",
       "      <td>0</td>\n",
       "      <td>0</td>\n",
       "      <td>0</td>\n",
       "    </tr>\n",
       "    <tr>\n",
       "      <th>1</th>\n",
       "      <td>1</td>\n",
       "      <td>4</td>\n",
       "      <td>5</td>\n",
       "      <td>4</td>\n",
       "      <td>4</td>\n",
       "      <td>4</td>\n",
       "      <td>4</td>\n",
       "      <td>5</td>\n",
       "      <td>4</td>\n",
       "      <td>5</td>\n",
       "      <td>...</td>\n",
       "      <td>5</td>\n",
       "      <td>Ineficiența utilizării sumelor de bani strânse...</td>\n",
       "      <td>Aș crea un mediu de afacere stabil.</td>\n",
       "      <td>Birocrație excesivă.</td>\n",
       "      <td>Îmi creează sentimentul că plătesc un serviciu...</td>\n",
       "      <td>0</td>\n",
       "      <td>1</td>\n",
       "      <td>1</td>\n",
       "      <td>0</td>\n",
       "      <td>1</td>\n",
       "    </tr>\n",
       "    <tr>\n",
       "      <th>2</th>\n",
       "      <td>0</td>\n",
       "      <td>3</td>\n",
       "      <td>3</td>\n",
       "      <td>5</td>\n",
       "      <td>4</td>\n",
       "      <td>4</td>\n",
       "      <td>4</td>\n",
       "      <td>5</td>\n",
       "      <td>5</td>\n",
       "      <td>4</td>\n",
       "      <td>...</td>\n",
       "      <td>5</td>\n",
       "      <td>Organizarea probabil deficitara,\\nCircuitul lu...</td>\n",
       "      <td>Din postura mea de acum imi este greu sa dau u...</td>\n",
       "      <td>Un trai decent, servicii sociale intre mediocr...</td>\n",
       "      <td>Îmi creează sentimentul că plătesc un serviciu...</td>\n",
       "      <td>0</td>\n",
       "      <td>0</td>\n",
       "      <td>0</td>\n",
       "      <td>1</td>\n",
       "      <td>0</td>\n",
       "    </tr>\n",
       "  </tbody>\n",
       "</table>\n",
       "<p>3 rows × 29 columns</p>\n",
       "</div>"
      ]
     },
     "execution_count": 30,
     "metadata": {},
     "output_type": "execute_result"
    }
   ],
   "execution_count": 30
  },
  {
   "cell_type": "code",
   "metadata": {
    "colab": {
     "base_uri": "https://localhost:8080/"
    },
    "id": "EDTuqnl8sfll",
    "outputId": "de2845d2-f679-40ee-bf63-c3ff66f3d9fa",
    "ExecuteTime": {
     "end_time": "2024-09-22T13:51:50.087700Z",
     "start_time": "2024-09-22T13:51:50.079911Z"
    }
   },
   "source": [
    "df_sent.shape"
   ],
   "outputs": [
    {
     "data": {
      "text/plain": [
       "(814, 29)"
      ]
     },
     "execution_count": 31,
     "metadata": {},
     "output_type": "execute_result"
    }
   ],
   "execution_count": 31
  },
  {
   "cell_type": "code",
   "metadata": {
    "colab": {
     "base_uri": "https://localhost:8080/",
     "height": 362
    },
    "id": "oWDwd2w9zvhw",
    "outputId": "e821fcc9-032d-4482-bc91-333624f333d8",
    "ExecuteTime": {
     "end_time": "2024-09-22T13:51:51.979311Z",
     "start_time": "2024-09-22T13:51:51.892396Z"
    }
   },
   "source": [
    "fig = df_sent['nemultumiri_sist_fiscal_sentiment'].value_counts().sort_index().plot(kind='bar')\n",
    "fig.set_title('Frequency of sentiments for fiscal system complaints')\n",
    "fig.set_xlabel('Sentiment')\n",
    "fig.set_ylabel('Frequency')\n",
    "plt.show()"
   ],
   "outputs": [
    {
     "data": {
      "text/plain": [
       "Text(0.5, 1.0, 'Frequency of sentiments for fiscal system complaints')"
      ]
     },
     "execution_count": 32,
     "metadata": {},
     "output_type": "execute_result"
    },
    {
     "data": {
      "text/plain": [
       "Text(0.5, 0, 'Sentiment')"
      ]
     },
     "execution_count": 32,
     "metadata": {},
     "output_type": "execute_result"
    },
    {
     "data": {
      "text/plain": [
       "Text(0, 0.5, 'Frequency')"
      ]
     },
     "execution_count": 32,
     "metadata": {},
     "output_type": "execute_result"
    },
    {
     "data": {
      "text/plain": [
       "<Figure size 500x500 with 1 Axes>"
      ],
      "image/png": "[encoded data removed]"
     },
     "metadata": {},
     "output_type": "display_data"
    }
   ],
   "execution_count": 32
  },
  {
   "cell_type": "code",
   "metadata": {
    "colab": {
     "base_uri": "https://localhost:8080/",
     "height": 362
    },
    "id": "Lxdv9_Vdz7Rd",
    "outputId": "bc4be716-ba4d-4810-a2e1-427fe98aeaf6",
    "ExecuteTime": {
     "end_time": "2024-09-22T13:51:52.280006Z",
     "start_time": "2024-09-22T13:51:52.184707Z"
    }
   },
   "source": [
    "fig = df_sent['schimbari_sist_fiscal_sentiment'].value_counts().sort_index().plot(kind='bar')\n",
    "fig.set_title('Frequency of sentiments for fiscal system changes')\n",
    "fig.set_xlabel('Sentiment')\n",
    "fig.set_ylabel('Frequency')\n",
    "plt.show()"
   ],
   "outputs": [
    {
     "data": {
      "text/plain": [
       "Text(0.5, 1.0, 'Frequency of sentiments for fiscal system changes')"
      ]
     },
     "execution_count": 33,
     "metadata": {},
     "output_type": "execute_result"
    },
    {
     "data": {
      "text/plain": [
       "Text(0.5, 0, 'Sentiment')"
      ]
     },
     "execution_count": 33,
     "metadata": {},
     "output_type": "execute_result"
    },
    {
     "data": {
      "text/plain": [
       "Text(0, 0.5, 'Frequency')"
      ]
     },
     "execution_count": 33,
     "metadata": {},
     "output_type": "execute_result"
    },
    {
     "data": {
      "text/plain": [
       "<Figure size 500x500 with 1 Axes>"
      ],
      "image/png": "[encoded data removed]"
     },
     "metadata": {},
     "output_type": "display_data"
    }
   ],
   "execution_count": 33
  },
  {
   "cell_type": "code",
   "metadata": {
    "colab": {
     "base_uri": "https://localhost:8080/",
     "height": 362
    },
    "id": "bBrGfhTkz7Tx",
    "outputId": "50e49483-52aa-4c8d-f6d3-bda708dc3220",
    "ExecuteTime": {
     "end_time": "2024-09-22T13:51:52.427768Z",
     "start_time": "2024-09-22T13:51:52.340870Z"
    }
   },
   "source": [
    "fig = df_sent['ce_ofera_sistemul_sentiment'].value_counts().sort_index().plot(kind='bar')\n",
    "fig.set_title('Frequency of sentiments for fiscal system offerings')\n",
    "fig.set_xlabel('Sentiment')\n",
    "fig.set_ylabel('Frequency')\n",
    "plt.show()"
   ],
   "outputs": [
    {
     "data": {
      "text/plain": [
       "Text(0.5, 1.0, 'Frequency of sentiments for fiscal system offerings')"
      ]
     },
     "execution_count": 34,
     "metadata": {},
     "output_type": "execute_result"
    },
    {
     "data": {
      "text/plain": [
       "Text(0.5, 0, 'Sentiment')"
      ]
     },
     "execution_count": 34,
     "metadata": {},
     "output_type": "execute_result"
    },
    {
     "data": {
      "text/plain": [
       "Text(0, 0.5, 'Frequency')"
      ]
     },
     "execution_count": 34,
     "metadata": {},
     "output_type": "execute_result"
    },
    {
     "data": {
      "text/plain": [
       "<Figure size 500x500 with 1 Axes>"
      ],
      "image/png": "[encoded data removed]"
     },
     "metadata": {},
     "output_type": "display_data"
    }
   ],
   "execution_count": 34
  },
  {
   "cell_type": "code",
   "metadata": {
    "colab": {
     "base_uri": "https://localhost:8080/",
     "height": 353
    },
    "id": "CgbuhM8-0qNt",
    "outputId": "de7a4d61-d9a7-4d3e-81b5-41af205c227b",
    "ExecuteTime": {
     "end_time": "2024-09-22T13:51:52.683231Z",
     "start_time": "2024-09-22T13:51:52.591625Z"
    }
   },
   "source": [
    "col = df_sent.loc[:, \"nemultumiri_sist_fiscal_sentiment\":\"ce_ofera_sistemul_sentiment\"]\n",
    "df_sent['overall_sentiment_all_responses'] = col.mode(axis=1)\n",
    "df_sent.head()"
   ],
   "outputs": [
    {
     "data": {
      "text/plain": [
       "   incredere_sist_fiscal  parere_sist_fiscal  TRANSPARENCY  VALUE FOR MONEY  \\\n",
       "0                      1                   1             5                4   \n",
       "1                      1                   4             5                4   \n",
       "2                      0                   3             3                5   \n",
       "3                      1                   4             4                5   \n",
       "4                      0                   1             5                4   \n",
       "\n",
       "   ECONOMICAL  TRUST  SOCIAL WELFARE  WORK PLACE CREATION  \\\n",
       "0           4      5               4                    4   \n",
       "1           4      4               4                    5   \n",
       "2           4      4               4                    5   \n",
       "3           4      5               5                    5   \n",
       "4           4      5               4                    5   \n",
       "\n",
       "   SOCIO-ECONOMIC DEVELOPMENT  STABILITY  ...  TRANSP  \\\n",
       "0                           5          5  ...       5   \n",
       "1                           4          5  ...       5   \n",
       "2                           5          4  ...       5   \n",
       "3                           5          5  ...       4   \n",
       "4                           5          4  ...       5   \n",
       "\n",
       "                             nemultumiri_sist_fiscal  \\\n",
       "0  - injustetea sociala\\n- impunerea excesiva\\n- ...   \n",
       "1  Ineficiența utilizării sumelor de bani strânse...   \n",
       "2  Organizarea probabil deficitara,\\nCircuitul lu...   \n",
       "3                    Nu prea am incredere in sistem.   \n",
       "4   Fiscalitatea din Romania e plina de contradictii   \n",
       "\n",
       "                               schimbari_sist_fiscal  \\\n",
       "0            as incerca sa-l orientez spre cetatean.   \n",
       "1                Aș crea un mediu de afacere stabil.   \n",
       "2  Din postura mea de acum imi este greu sa dau u...   \n",
       "3  Nu prea stiu ce as schimba dar as face ceva in...   \n",
       "4  Simplificarea legislatiei si a raportarilor fi...   \n",
       "\n",
       "                                   ce_ofera_sistemul  \\\n",
       "0  - crestere a nivelului de trai in mod semi-efi...   \n",
       "1                               Birocrație excesivă.   \n",
       "2  Un trai decent, servicii sociale intre mediocr...   \n",
       "3                                            Nu stiu   \n",
       "4                           Proceduri complicate....   \n",
       "\n",
       "                      motivare_incredere_sist_fiscal  \\\n",
       "0  Îmi creează sentimentul că plătesc un serviciu...   \n",
       "1  Îmi creează sentimentul că plătesc un serviciu...   \n",
       "2  Îmi creează sentimentul că plătesc un serviciu...   \n",
       "3  Îmi creează sentimentul că plătesc un serviciu...   \n",
       "4  Îmi creează sentimentul că plătesc un serviciu...   \n",
       "\n",
       "   nemultumiri_sist_fiscal_sentiment  schimbari_sist_fiscal_sentiment  \\\n",
       "0                                  0                                0   \n",
       "1                                  0                                1   \n",
       "2                                  0                                0   \n",
       "3                                  0                                1   \n",
       "4                                  1                                1   \n",
       "\n",
       "   ce_ofera_sistemul_sentiment  motivare_incredere_sist_fiscal_sentiment  \\\n",
       "0                            0                                         0   \n",
       "1                            1                                         0   \n",
       "2                            0                                         1   \n",
       "3                            0                                         0   \n",
       "4                            1                                         0   \n",
       "\n",
       "   overall_sentiment_all_responses  \n",
       "0                                0  \n",
       "1                                1  \n",
       "2                                0  \n",
       "3                                0  \n",
       "4                                1  \n",
       "\n",
       "[5 rows x 29 columns]"
      ],
      "text/html": [
       "<div>\n",
       "<style scoped>\n",
       "    .dataframe tbody tr th:only-of-type {\n",
       "        vertical-align: middle;\n",
       "    }\n",
       "\n",
       "    .dataframe tbody tr th {\n",
       "        vertical-align: top;\n",
       "    }\n",
       "\n",
       "    .dataframe thead th {\n",
       "        text-align: right;\n",
       "    }\n",
       "</style>\n",
       "<table border=\"1\" class=\"dataframe\">\n",
       "  <thead>\n",
       "    <tr style=\"text-align: right;\">\n",
       "      <th></th>\n",
       "      <th>incredere_sist_fiscal</th>\n",
       "      <th>parere_sist_fiscal</th>\n",
       "      <th>TRANSPARENCY</th>\n",
       "      <th>VALUE FOR MONEY</th>\n",
       "      <th>ECONOMICAL</th>\n",
       "      <th>TRUST</th>\n",
       "      <th>SOCIAL WELFARE</th>\n",
       "      <th>WORK PLACE CREATION</th>\n",
       "      <th>SOCIO-ECONOMIC DEVELOPMENT</th>\n",
       "      <th>STABILITY</th>\n",
       "      <th>...</th>\n",
       "      <th>TRANSP</th>\n",
       "      <th>nemultumiri_sist_fiscal</th>\n",
       "      <th>schimbari_sist_fiscal</th>\n",
       "      <th>ce_ofera_sistemul</th>\n",
       "      <th>motivare_incredere_sist_fiscal</th>\n",
       "      <th>nemultumiri_sist_fiscal_sentiment</th>\n",
       "      <th>schimbari_sist_fiscal_sentiment</th>\n",
       "      <th>ce_ofera_sistemul_sentiment</th>\n",
       "      <th>motivare_incredere_sist_fiscal_sentiment</th>\n",
       "      <th>overall_sentiment_all_responses</th>\n",
       "    </tr>\n",
       "  </thead>\n",
       "  <tbody>\n",
       "    <tr>\n",
       "      <th>0</th>\n",
       "      <td>1</td>\n",
       "      <td>1</td>\n",
       "      <td>5</td>\n",
       "      <td>4</td>\n",
       "      <td>4</td>\n",
       "      <td>5</td>\n",
       "      <td>4</td>\n",
       "      <td>4</td>\n",
       "      <td>5</td>\n",
       "      <td>5</td>\n",
       "      <td>...</td>\n",
       "      <td>5</td>\n",
       "      <td>- injustetea sociala\\n- impunerea excesiva\\n- ...</td>\n",
       "      <td>as incerca sa-l orientez spre cetatean.</td>\n",
       "      <td>- crestere a nivelului de trai in mod semi-efi...</td>\n",
       "      <td>Îmi creează sentimentul că plătesc un serviciu...</td>\n",
       "      <td>0</td>\n",
       "      <td>0</td>\n",
       "      <td>0</td>\n",
       "      <td>0</td>\n",
       "      <td>0</td>\n",
       "    </tr>\n",
       "    <tr>\n",
       "      <th>1</th>\n",
       "      <td>1</td>\n",
       "      <td>4</td>\n",
       "      <td>5</td>\n",
       "      <td>4</td>\n",
       "      <td>4</td>\n",
       "      <td>4</td>\n",
       "      <td>4</td>\n",
       "      <td>5</td>\n",
       "      <td>4</td>\n",
       "      <td>5</td>\n",
       "      <td>...</td>\n",
       "      <td>5</td>\n",
       "      <td>Ineficiența utilizării sumelor de bani strânse...</td>\n",
       "      <td>Aș crea un mediu de afacere stabil.</td>\n",
       "      <td>Birocrație excesivă.</td>\n",
       "      <td>Îmi creează sentimentul că plătesc un serviciu...</td>\n",
       "      <td>0</td>\n",
       "      <td>1</td>\n",
       "      <td>1</td>\n",
       "      <td>0</td>\n",
       "      <td>1</td>\n",
       "    </tr>\n",
       "    <tr>\n",
       "      <th>2</th>\n",
       "      <td>0</td>\n",
       "      <td>3</td>\n",
       "      <td>3</td>\n",
       "      <td>5</td>\n",
       "      <td>4</td>\n",
       "      <td>4</td>\n",
       "      <td>4</td>\n",
       "      <td>5</td>\n",
       "      <td>5</td>\n",
       "      <td>4</td>\n",
       "      <td>...</td>\n",
       "      <td>5</td>\n",
       "      <td>Organizarea probabil deficitara,\\nCircuitul lu...</td>\n",
       "      <td>Din postura mea de acum imi este greu sa dau u...</td>\n",
       "      <td>Un trai decent, servicii sociale intre mediocr...</td>\n",
       "      <td>Îmi creează sentimentul că plătesc un serviciu...</td>\n",
       "      <td>0</td>\n",
       "      <td>0</td>\n",
       "      <td>0</td>\n",
       "      <td>1</td>\n",
       "      <td>0</td>\n",
       "    </tr>\n",
       "    <tr>\n",
       "      <th>3</th>\n",
       "      <td>1</td>\n",
       "      <td>4</td>\n",
       "      <td>4</td>\n",
       "      <td>5</td>\n",
       "      <td>4</td>\n",
       "      <td>5</td>\n",
       "      <td>5</td>\n",
       "      <td>5</td>\n",
       "      <td>5</td>\n",
       "      <td>5</td>\n",
       "      <td>...</td>\n",
       "      <td>4</td>\n",
       "      <td>Nu prea am incredere in sistem.</td>\n",
       "      <td>Nu prea stiu ce as schimba dar as face ceva in...</td>\n",
       "      <td>Nu stiu</td>\n",
       "      <td>Îmi creează sentimentul că plătesc un serviciu...</td>\n",
       "      <td>0</td>\n",
       "      <td>1</td>\n",
       "      <td>0</td>\n",
       "      <td>0</td>\n",
       "      <td>0</td>\n",
       "    </tr>\n",
       "    <tr>\n",
       "      <th>4</th>\n",
       "      <td>0</td>\n",
       "      <td>1</td>\n",
       "      <td>5</td>\n",
       "      <td>4</td>\n",
       "      <td>4</td>\n",
       "      <td>5</td>\n",
       "      <td>4</td>\n",
       "      <td>5</td>\n",
       "      <td>5</td>\n",
       "      <td>4</td>\n",
       "      <td>...</td>\n",
       "      <td>5</td>\n",
       "      <td>Fiscalitatea din Romania e plina de contradictii</td>\n",
       "      <td>Simplificarea legislatiei si a raportarilor fi...</td>\n",
       "      <td>Proceduri complicate....</td>\n",
       "      <td>Îmi creează sentimentul că plătesc un serviciu...</td>\n",
       "      <td>1</td>\n",
       "      <td>1</td>\n",
       "      <td>1</td>\n",
       "      <td>0</td>\n",
       "      <td>1</td>\n",
       "    </tr>\n",
       "  </tbody>\n",
       "</table>\n",
       "<p>5 rows × 29 columns</p>\n",
       "</div>"
      ]
     },
     "execution_count": 35,
     "metadata": {},
     "output_type": "execute_result"
    }
   ],
   "execution_count": 35
  },
  {
   "cell_type": "code",
   "metadata": {
    "colab": {
     "base_uri": "https://localhost:8080/",
     "height": 362
    },
    "id": "qPTJdVLI1I1m",
    "outputId": "6e169b1b-90e0-46cf-c3db-f9c89aa32533",
    "ExecuteTime": {
     "end_time": "2024-09-22T13:51:52.998990Z",
     "start_time": "2024-09-22T13:51:52.925570Z"
    }
   },
   "source": [
    "fig = df_sent['overall_sentiment_all_responses'].value_counts().sort_index().plot(kind='bar')\n",
    "fig.set_title('Frequency of sentiments for overall sentiment')\n",
    "fig.set_xlabel('Sentiment')\n",
    "fig.set_ylabel('Frequency')\n",
    "plt.show()"
   ],
   "outputs": [
    {
     "data": {
      "text/plain": [
       "Text(0.5, 1.0, 'Frequency of sentiments for overall sentiment')"
      ]
     },
     "execution_count": 36,
     "metadata": {},
     "output_type": "execute_result"
    },
    {
     "data": {
      "text/plain": [
       "Text(0.5, 0, 'Sentiment')"
      ]
     },
     "execution_count": 36,
     "metadata": {},
     "output_type": "execute_result"
    },
    {
     "data": {
      "text/plain": [
       "Text(0, 0.5, 'Frequency')"
      ]
     },
     "execution_count": 36,
     "metadata": {},
     "output_type": "execute_result"
    },
    {
     "data": {
      "text/plain": [
       "<Figure size 500x500 with 1 Axes>"
      ],
      "image/png": "[encoded data removed]"
     },
     "metadata": {},
     "output_type": "display_data"
    }
   ],
   "execution_count": 36
  },
  {
   "cell_type": "code",
   "metadata": {
    "colab": {
     "base_uri": "https://localhost:8080/",
     "height": 341
    },
    "id": "rbeOEqoJ6occ",
    "outputId": "0c288044-dd5e-44a3-d6ca-848834b365b2",
    "ExecuteTime": {
     "end_time": "2024-09-22T13:52:34.102452Z",
     "start_time": "2024-09-22T13:52:34.065579Z"
    }
   },
   "source": [
    "# Take out outliers from the dataset\n",
    "df_sent = df_sent[df_sent.incredere_sist_fiscal != 3]  # One outlier\n",
    "df_sent.describe()"
   ],
   "outputs": [
    {
     "data": {
      "text/plain": [
       "       incredere_sist_fiscal  parere_sist_fiscal  TRANSPARENCY  \\\n",
       "count             813.000000          813.000000    813.000000   \n",
       "mean                0.589176            2.927429      4.364084   \n",
       "std                 0.492286            1.220069      0.772233   \n",
       "min                 0.000000            1.000000      1.000000   \n",
       "25%                 0.000000            1.000000      4.000000   \n",
       "50%                 1.000000            3.000000      5.000000   \n",
       "75%                 1.000000            4.000000      5.000000   \n",
       "max                 1.000000            5.000000      5.000000   \n",
       "\n",
       "       VALUE FOR MONEY  ECONOMICAL       TRUST  SOCIAL WELFARE  \\\n",
       "count       813.000000  813.000000  813.000000      813.000000   \n",
       "mean          4.232472    4.211562    4.619926        4.281673   \n",
       "std           0.681442    0.703275    0.625364        0.777213   \n",
       "min           2.000000    1.000000    1.000000        1.000000   \n",
       "25%           4.000000    4.000000    4.000000        4.000000   \n",
       "50%           4.000000    4.000000    5.000000        4.000000   \n",
       "75%           5.000000    5.000000    5.000000        5.000000   \n",
       "max           5.000000    5.000000    5.000000        5.000000   \n",
       "\n",
       "       WORK PLACE CREATION  SOCIO-ECONOMIC DEVELOPMENT   STABILITY  ...  \\\n",
       "count           813.000000                  813.000000  813.000000  ...   \n",
       "mean              4.547355                    4.538745    4.634686  ...   \n",
       "std               0.665315                    0.611899    0.604276  ...   \n",
       "min               1.000000                    2.000000    1.000000  ...   \n",
       "25%               4.000000                    4.000000    4.000000  ...   \n",
       "50%               5.000000                    5.000000    5.000000  ...   \n",
       "75%               5.000000                    5.000000    5.000000  ...   \n",
       "max               5.000000                    5.000000    5.000000  ...   \n",
       "\n",
       "             SUBV  INVEST_TAX  Q_PUBLIC_SV  PUBLIC_INV      TRANSP  \\\n",
       "count  813.000000  813.000000   813.000000  813.000000  813.000000   \n",
       "mean     4.211562    4.083641     4.510455    4.242312    4.305043   \n",
       "std      0.795315    0.826227     0.688721    0.752062    0.829230   \n",
       "min      1.000000    1.000000     2.000000    1.000000    1.000000   \n",
       "25%      4.000000    4.000000     4.000000    4.000000    4.000000   \n",
       "50%      4.000000    4.000000     5.000000    4.000000    5.000000   \n",
       "75%      5.000000    5.000000     5.000000    5.000000    5.000000   \n",
       "max      5.000000    5.000000     5.000000    5.000000    5.000000   \n",
       "\n",
       "       nemultumiri_sist_fiscal_sentiment  schimbari_sist_fiscal_sentiment  \\\n",
       "count                         813.000000                       813.000000   \n",
       "mean                            0.314883                         0.563346   \n",
       "std                             0.464755                         0.496276   \n",
       "min                             0.000000                         0.000000   \n",
       "25%                             0.000000                         0.000000   \n",
       "50%                             0.000000                         1.000000   \n",
       "75%                             1.000000                         1.000000   \n",
       "max                             1.000000                         1.000000   \n",
       "\n",
       "       ce_ofera_sistemul_sentiment  motivare_incredere_sist_fiscal_sentiment  \\\n",
       "count                   813.000000                                813.000000   \n",
       "mean                      0.555966                                  0.675277   \n",
       "std                       0.497164                                  0.468560   \n",
       "min                       0.000000                                  0.000000   \n",
       "25%                       0.000000                                  0.000000   \n",
       "50%                       1.000000                                  1.000000   \n",
       "75%                       1.000000                                  1.000000   \n",
       "max                       1.000000                                  1.000000   \n",
       "\n",
       "       overall_sentiment_all_responses  \n",
       "count                       813.000000  \n",
       "mean                          0.453875  \n",
       "std                           0.498174  \n",
       "min                           0.000000  \n",
       "25%                           0.000000  \n",
       "50%                           0.000000  \n",
       "75%                           1.000000  \n",
       "max                           1.000000  \n",
       "\n",
       "[8 rows x 25 columns]"
      ],
      "text/html": [
       "<div>\n",
       "<style scoped>\n",
       "    .dataframe tbody tr th:only-of-type {\n",
       "        vertical-align: middle;\n",
       "    }\n",
       "\n",
       "    .dataframe tbody tr th {\n",
       "        vertical-align: top;\n",
       "    }\n",
       "\n",
       "    .dataframe thead th {\n",
       "        text-align: right;\n",
       "    }\n",
       "</style>\n",
       "<table border=\"1\" class=\"dataframe\">\n",
       "  <thead>\n",
       "    <tr style=\"text-align: right;\">\n",
       "      <th></th>\n",
       "      <th>incredere_sist_fiscal</th>\n",
       "      <th>parere_sist_fiscal</th>\n",
       "      <th>TRANSPARENCY</th>\n",
       "      <th>VALUE FOR MONEY</th>\n",
       "      <th>ECONOMICAL</th>\n",
       "      <th>TRUST</th>\n",
       "      <th>SOCIAL WELFARE</th>\n",
       "      <th>WORK PLACE CREATION</th>\n",
       "      <th>SOCIO-ECONOMIC DEVELOPMENT</th>\n",
       "      <th>STABILITY</th>\n",
       "      <th>...</th>\n",
       "      <th>SUBV</th>\n",
       "      <th>INVEST_TAX</th>\n",
       "      <th>Q_PUBLIC_SV</th>\n",
       "      <th>PUBLIC_INV</th>\n",
       "      <th>TRANSP</th>\n",
       "      <th>nemultumiri_sist_fiscal_sentiment</th>\n",
       "      <th>schimbari_sist_fiscal_sentiment</th>\n",
       "      <th>ce_ofera_sistemul_sentiment</th>\n",
       "      <th>motivare_incredere_sist_fiscal_sentiment</th>\n",
       "      <th>overall_sentiment_all_responses</th>\n",
       "    </tr>\n",
       "  </thead>\n",
       "  <tbody>\n",
       "    <tr>\n",
       "      <th>count</th>\n",
       "      <td>813.000000</td>\n",
       "      <td>813.000000</td>\n",
       "      <td>813.000000</td>\n",
       "      <td>813.000000</td>\n",
       "      <td>813.000000</td>\n",
       "      <td>813.000000</td>\n",
       "      <td>813.000000</td>\n",
       "      <td>813.000000</td>\n",
       "      <td>813.000000</td>\n",
       "      <td>813.000000</td>\n",
       "      <td>...</td>\n",
       "      <td>813.000000</td>\n",
       "      <td>813.000000</td>\n",
       "      <td>813.000000</td>\n",
       "      <td>813.000000</td>\n",
       "      <td>813.000000</td>\n",
       "      <td>813.000000</td>\n",
       "      <td>813.000000</td>\n",
       "      <td>813.000000</td>\n",
       "      <td>813.000000</td>\n",
       "      <td>813.000000</td>\n",
       "    </tr>\n",
       "    <tr>\n",
       "      <th>mean</th>\n",
       "      <td>0.589176</td>\n",
       "      <td>2.927429</td>\n",
       "      <td>4.364084</td>\n",
       "      <td>4.232472</td>\n",
       "      <td>4.211562</td>\n",
       "      <td>4.619926</td>\n",
       "      <td>4.281673</td>\n",
       "      <td>4.547355</td>\n",
       "      <td>4.538745</td>\n",
       "      <td>4.634686</td>\n",
       "      <td>...</td>\n",
       "      <td>4.211562</td>\n",
       "      <td>4.083641</td>\n",
       "      <td>4.510455</td>\n",
       "      <td>4.242312</td>\n",
       "      <td>4.305043</td>\n",
       "      <td>0.314883</td>\n",
       "      <td>0.563346</td>\n",
       "      <td>0.555966</td>\n",
       "      <td>0.675277</td>\n",
       "      <td>0.453875</td>\n",
       "    </tr>\n",
       "    <tr>\n",
       "      <th>std</th>\n",
       "      <td>0.492286</td>\n",
       "      <td>1.220069</td>\n",
       "      <td>0.772233</td>\n",
       "      <td>0.681442</td>\n",
       "      <td>0.703275</td>\n",
       "      <td>0.625364</td>\n",
       "      <td>0.777213</td>\n",
       "      <td>0.665315</td>\n",
       "      <td>0.611899</td>\n",
       "      <td>0.604276</td>\n",
       "      <td>...</td>\n",
       "      <td>0.795315</td>\n",
       "      <td>0.826227</td>\n",
       "      <td>0.688721</td>\n",
       "      <td>0.752062</td>\n",
       "      <td>0.829230</td>\n",
       "      <td>0.464755</td>\n",
       "      <td>0.496276</td>\n",
       "      <td>0.497164</td>\n",
       "      <td>0.468560</td>\n",
       "      <td>0.498174</td>\n",
       "    </tr>\n",
       "    <tr>\n",
       "      <th>min</th>\n",
       "      <td>0.000000</td>\n",
       "      <td>1.000000</td>\n",
       "      <td>1.000000</td>\n",
       "      <td>2.000000</td>\n",
       "      <td>1.000000</td>\n",
       "      <td>1.000000</td>\n",
       "      <td>1.000000</td>\n",
       "      <td>1.000000</td>\n",
       "      <td>2.000000</td>\n",
       "      <td>1.000000</td>\n",
       "      <td>...</td>\n",
       "      <td>1.000000</td>\n",
       "      <td>1.000000</td>\n",
       "      <td>2.000000</td>\n",
       "      <td>1.000000</td>\n",
       "      <td>1.000000</td>\n",
       "      <td>0.000000</td>\n",
       "      <td>0.000000</td>\n",
       "      <td>0.000000</td>\n",
       "      <td>0.000000</td>\n",
       "      <td>0.000000</td>\n",
       "    </tr>\n",
       "    <tr>\n",
       "      <th>25%</th>\n",
       "      <td>0.000000</td>\n",
       "      <td>1.000000</td>\n",
       "      <td>4.000000</td>\n",
       "      <td>4.000000</td>\n",
       "      <td>4.000000</td>\n",
       "      <td>4.000000</td>\n",
       "      <td>4.000000</td>\n",
       "      <td>4.000000</td>\n",
       "      <td>4.000000</td>\n",
       "      <td>4.000000</td>\n",
       "      <td>...</td>\n",
       "      <td>4.000000</td>\n",
       "      <td>4.000000</td>\n",
       "      <td>4.000000</td>\n",
       "      <td>4.000000</td>\n",
       "      <td>4.000000</td>\n",
       "      <td>0.000000</td>\n",
       "      <td>0.000000</td>\n",
       "      <td>0.000000</td>\n",
       "      <td>0.000000</td>\n",
       "      <td>0.000000</td>\n",
       "    </tr>\n",
       "    <tr>\n",
       "      <th>50%</th>\n",
       "      <td>1.000000</td>\n",
       "      <td>3.000000</td>\n",
       "      <td>5.000000</td>\n",
       "      <td>4.000000</td>\n",
       "      <td>4.000000</td>\n",
       "      <td>5.000000</td>\n",
       "      <td>4.000000</td>\n",
       "      <td>5.000000</td>\n",
       "      <td>5.000000</td>\n",
       "      <td>5.000000</td>\n",
       "      <td>...</td>\n",
       "      <td>4.000000</td>\n",
       "      <td>4.000000</td>\n",
       "      <td>5.000000</td>\n",
       "      <td>4.000000</td>\n",
       "      <td>5.000000</td>\n",
       "      <td>0.000000</td>\n",
       "      <td>1.000000</td>\n",
       "      <td>1.000000</td>\n",
       "      <td>1.000000</td>\n",
       "      <td>0.000000</td>\n",
       "    </tr>\n",
       "    <tr>\n",
       "      <th>75%</th>\n",
       "      <td>1.000000</td>\n",
       "      <td>4.000000</td>\n",
       "      <td>5.000000</td>\n",
       "      <td>5.000000</td>\n",
       "      <td>5.000000</td>\n",
       "      <td>5.000000</td>\n",
       "      <td>5.000000</td>\n",
       "      <td>5.000000</td>\n",
       "      <td>5.000000</td>\n",
       "      <td>5.000000</td>\n",
       "      <td>...</td>\n",
       "      <td>5.000000</td>\n",
       "      <td>5.000000</td>\n",
       "      <td>5.000000</td>\n",
       "      <td>5.000000</td>\n",
       "      <td>5.000000</td>\n",
       "      <td>1.000000</td>\n",
       "      <td>1.000000</td>\n",
       "      <td>1.000000</td>\n",
       "      <td>1.000000</td>\n",
       "      <td>1.000000</td>\n",
       "    </tr>\n",
       "    <tr>\n",
       "      <th>max</th>\n",
       "      <td>1.000000</td>\n",
       "      <td>5.000000</td>\n",
       "      <td>5.000000</td>\n",
       "      <td>5.000000</td>\n",
       "      <td>5.000000</td>\n",
       "      <td>5.000000</td>\n",
       "      <td>5.000000</td>\n",
       "      <td>5.000000</td>\n",
       "      <td>5.000000</td>\n",
       "      <td>5.000000</td>\n",
       "      <td>...</td>\n",
       "      <td>5.000000</td>\n",
       "      <td>5.000000</td>\n",
       "      <td>5.000000</td>\n",
       "      <td>5.000000</td>\n",
       "      <td>5.000000</td>\n",
       "      <td>1.000000</td>\n",
       "      <td>1.000000</td>\n",
       "      <td>1.000000</td>\n",
       "      <td>1.000000</td>\n",
       "      <td>1.000000</td>\n",
       "    </tr>\n",
       "  </tbody>\n",
       "</table>\n",
       "<p>8 rows × 25 columns</p>\n",
       "</div>"
      ]
     },
     "execution_count": 39,
     "metadata": {},
     "output_type": "execute_result"
    }
   ],
   "execution_count": 39
  },
  {
   "cell_type": "code",
   "metadata": {
    "id": "6FdF9MAd7gFq",
    "ExecuteTime": {
     "end_time": "2024-09-22T13:52:44.623471Z",
     "start_time": "2024-09-22T13:52:44.614850Z"
    }
   },
   "source": [
    "# Create a new dataset that doesn't consist of textual data\n",
    "df_fiscal_syst = df_sent.drop(\n",
    "    columns=['nemultumiri_sist_fiscal', 'schimbari_sist_fiscal', 'ce_ofera_sistemul', 'motivare_incredere_sist_fiscal'])"
   ],
   "outputs": [],
   "execution_count": 40
  },
  {
   "cell_type": "code",
   "metadata": {
    "colab": {
     "base_uri": "https://localhost:8080/",
     "height": 354
    },
    "id": "X82AYKxh5_3D",
    "outputId": "6a6e9c59-893b-401f-fbf2-636a3fcef061",
    "ExecuteTime": {
     "end_time": "2024-09-22T13:52:49.055148Z",
     "start_time": "2024-09-22T13:52:48.958313Z"
    }
   },
   "source": [
    "sns.countplot(x='incredere_sist_fiscal', data=df_fiscal_syst)\n",
    "# Class imbalance"
   ],
   "outputs": [
    {
     "data": {
      "text/plain": [
       "<Axes: xlabel='incredere_sist_fiscal', ylabel='count'>"
      ]
     },
     "execution_count": 41,
     "metadata": {},
     "output_type": "execute_result"
    },
    {
     "data": {
      "text/plain": [
       "<Figure size 500x500 with 1 Axes>"
      ],
      "image/png": "[encoded data removed]"
     },
     "metadata": {},
     "output_type": "display_data"
    }
   ],
   "execution_count": 41
  },
  {
   "cell_type": "code",
   "metadata": {
    "colab": {
     "base_uri": "https://localhost:8080/",
     "height": 197
    },
    "id": "DWHUNUVPcT5k",
    "outputId": "2db8818e-48c1-4012-e0f3-4d9f4e1bbab2"
   },
   "source": [
    "df_fiscal_syst[['incredere_sist_fiscal', 'parere_sist_fiscal', 'nemultumiri_sist_fiscal_sentiment',\n",
    "                'schimbari_sist_fiscal_sentiment', 'ce_ofera_sistemul_sentiment']].corr()"
   ],
   "execution_count": null,
   "outputs": [
    {
     "output_type": "execute_result",
     "data": {
      "text/html": [
       "<div>\n",
       "<style scoped>\n",
       "    .dataframe tbody tr th:only-of-type {\n",
       "        vertical-align: middle;\n",
       "    }\n",
       "\n",
       "    .dataframe tbody tr th {\n",
       "        vertical-align: top;\n",
       "    }\n",
       "\n",
       "    .dataframe thead th {\n",
       "        text-align: right;\n",
       "    }\n",
       "</style>\n",
       "<table border=\"1\" class=\"dataframe\">\n",
       "  <thead>\n",
       "    <tr style=\"text-align: right;\">\n",
       "      <th></th>\n",
       "      <th>incredere_sist_fiscal</th>\n",
       "      <th>parere_sist_fiscal</th>\n",
       "      <th>nemultumiri_sist_fiscal_sentiment</th>\n",
       "      <th>schimbari_sist_fiscal_sentiment</th>\n",
       "      <th>ce_ofera_sistemul_sentiment</th>\n",
       "    </tr>\n",
       "  </thead>\n",
       "  <tbody>\n",
       "    <tr>\n",
       "      <th>incredere_sist_fiscal</th>\n",
       "      <td>1.000000</td>\n",
       "      <td>0.505963</td>\n",
       "      <td>-0.020611</td>\n",
       "      <td>-0.044574</td>\n",
       "      <td>0.224885</td>\n",
       "    </tr>\n",
       "    <tr>\n",
       "      <th>parere_sist_fiscal</th>\n",
       "      <td>0.505963</td>\n",
       "      <td>1.000000</td>\n",
       "      <td>-0.016119</td>\n",
       "      <td>-0.080874</td>\n",
       "      <td>0.233082</td>\n",
       "    </tr>\n",
       "    <tr>\n",
       "      <th>nemultumiri_sist_fiscal_sentiment</th>\n",
       "      <td>-0.020611</td>\n",
       "      <td>-0.016119</td>\n",
       "      <td>1.000000</td>\n",
       "      <td>0.207082</td>\n",
       "      <td>0.078205</td>\n",
       "    </tr>\n",
       "    <tr>\n",
       "      <th>schimbari_sist_fiscal_sentiment</th>\n",
       "      <td>-0.044574</td>\n",
       "      <td>-0.080874</td>\n",
       "      <td>0.207082</td>\n",
       "      <td>1.000000</td>\n",
       "      <td>0.021801</td>\n",
       "    </tr>\n",
       "    <tr>\n",
       "      <th>ce_ofera_sistemul_sentiment</th>\n",
       "      <td>0.224885</td>\n",
       "      <td>0.233082</td>\n",
       "      <td>0.078205</td>\n",
       "      <td>0.021801</td>\n",
       "      <td>1.000000</td>\n",
       "    </tr>\n",
       "  </tbody>\n",
       "</table>\n",
       "</div>"
      ],
      "text/plain": [
       "                                   incredere_sist_fiscal  ...  ce_ofera_sistemul_sentiment\n",
       "incredere_sist_fiscal                           1.000000  ...                     0.224885\n",
       "parere_sist_fiscal                              0.505963  ...                     0.233082\n",
       "nemultumiri_sist_fiscal_sentiment              -0.020611  ...                     0.078205\n",
       "schimbari_sist_fiscal_sentiment                -0.044574  ...                     0.021801\n",
       "ce_ofera_sistemul_sentiment                     0.224885  ...                     1.000000\n",
       "\n",
       "[5 rows x 5 columns]"
      ]
     },
     "metadata": {
      "tags": []
     },
     "execution_count": 19
    }
   ]
  },
  {
   "metadata": {
    "ExecuteTime": {
     "end_time": "2024-09-22T13:53:39.799510Z",
     "start_time": "2024-09-22T13:53:39.783762Z"
    }
   },
   "cell_type": "code",
   "source": "df_fiscal_syst[['incredere_sist_fiscal', 'parere_sist_fiscal', 'nemultumiri_sist_fiscal_sentiment', 'schimbari_sist_fiscal_sentiment', 'ce_ofera_sistemul_sentiment']].corr()",
   "outputs": [
    {
     "data": {
      "text/plain": [
       "                                   incredere_sist_fiscal  parere_sist_fiscal  \\\n",
       "incredere_sist_fiscal                           1.000000            0.505963   \n",
       "parere_sist_fiscal                              0.505963            1.000000   \n",
       "nemultumiri_sist_fiscal_sentiment              -0.020611           -0.016119   \n",
       "schimbari_sist_fiscal_sentiment                -0.044574           -0.080874   \n",
       "ce_ofera_sistemul_sentiment                     0.224885            0.233082   \n",
       "\n",
       "                                   nemultumiri_sist_fiscal_sentiment  \\\n",
       "incredere_sist_fiscal                                      -0.020611   \n",
       "parere_sist_fiscal                                         -0.016119   \n",
       "nemultumiri_sist_fiscal_sentiment                           1.000000   \n",
       "schimbari_sist_fiscal_sentiment                             0.207082   \n",
       "ce_ofera_sistemul_sentiment                                 0.078205   \n",
       "\n",
       "                                   schimbari_sist_fiscal_sentiment  \\\n",
       "incredere_sist_fiscal                                    -0.044574   \n",
       "parere_sist_fiscal                                       -0.080874   \n",
       "nemultumiri_sist_fiscal_sentiment                         0.207082   \n",
       "schimbari_sist_fiscal_sentiment                           1.000000   \n",
       "ce_ofera_sistemul_sentiment                               0.021801   \n",
       "\n",
       "                                   ce_ofera_sistemul_sentiment  \n",
       "incredere_sist_fiscal                                 0.224885  \n",
       "parere_sist_fiscal                                    0.233082  \n",
       "nemultumiri_sist_fiscal_sentiment                     0.078205  \n",
       "schimbari_sist_fiscal_sentiment                       0.021801  \n",
       "ce_ofera_sistemul_sentiment                           1.000000  "
      ],
      "text/html": [
       "<div>\n",
       "<style scoped>\n",
       "    .dataframe tbody tr th:only-of-type {\n",
       "        vertical-align: middle;\n",
       "    }\n",
       "\n",
       "    .dataframe tbody tr th {\n",
       "        vertical-align: top;\n",
       "    }\n",
       "\n",
       "    .dataframe thead th {\n",
       "        text-align: right;\n",
       "    }\n",
       "</style>\n",
       "<table border=\"1\" class=\"dataframe\">\n",
       "  <thead>\n",
       "    <tr style=\"text-align: right;\">\n",
       "      <th></th>\n",
       "      <th>incredere_sist_fiscal</th>\n",
       "      <th>parere_sist_fiscal</th>\n",
       "      <th>nemultumiri_sist_fiscal_sentiment</th>\n",
       "      <th>schimbari_sist_fiscal_sentiment</th>\n",
       "      <th>ce_ofera_sistemul_sentiment</th>\n",
       "    </tr>\n",
       "  </thead>\n",
       "  <tbody>\n",
       "    <tr>\n",
       "      <th>incredere_sist_fiscal</th>\n",
       "      <td>1.000000</td>\n",
       "      <td>0.505963</td>\n",
       "      <td>-0.020611</td>\n",
       "      <td>-0.044574</td>\n",
       "      <td>0.224885</td>\n",
       "    </tr>\n",
       "    <tr>\n",
       "      <th>parere_sist_fiscal</th>\n",
       "      <td>0.505963</td>\n",
       "      <td>1.000000</td>\n",
       "      <td>-0.016119</td>\n",
       "      <td>-0.080874</td>\n",
       "      <td>0.233082</td>\n",
       "    </tr>\n",
       "    <tr>\n",
       "      <th>nemultumiri_sist_fiscal_sentiment</th>\n",
       "      <td>-0.020611</td>\n",
       "      <td>-0.016119</td>\n",
       "      <td>1.000000</td>\n",
       "      <td>0.207082</td>\n",
       "      <td>0.078205</td>\n",
       "    </tr>\n",
       "    <tr>\n",
       "      <th>schimbari_sist_fiscal_sentiment</th>\n",
       "      <td>-0.044574</td>\n",
       "      <td>-0.080874</td>\n",
       "      <td>0.207082</td>\n",
       "      <td>1.000000</td>\n",
       "      <td>0.021801</td>\n",
       "    </tr>\n",
       "    <tr>\n",
       "      <th>ce_ofera_sistemul_sentiment</th>\n",
       "      <td>0.224885</td>\n",
       "      <td>0.233082</td>\n",
       "      <td>0.078205</td>\n",
       "      <td>0.021801</td>\n",
       "      <td>1.000000</td>\n",
       "    </tr>\n",
       "  </tbody>\n",
       "</table>\n",
       "</div>"
      ]
     },
     "execution_count": 42,
     "metadata": {},
     "output_type": "execute_result"
    }
   ],
   "execution_count": 42
  },
  {
   "cell_type": "markdown",
   "metadata": {
    "id": "ODzzp8KdKLxd"
   },
   "source": "# 3 Compare models (using classical ML) for trust prediction"
  },
  {
   "cell_type": "code",
   "metadata": {
    "colab": {
     "base_uri": "https://localhost:8080/"
    },
    "id": "ZTal9ez7KZ6y",
    "outputId": "57ef32eb-c557-4a1a-e469-d792786ab811"
   },
   "source": [
    "df_fiscal_syst.columns"
   ],
   "execution_count": null,
   "outputs": [
    {
     "output_type": "execute_result",
     "data": {
      "text/plain": [
       "Index(['incredere_sist_fiscal', 'parere_sist_fiscal', 'TRANSPARENCY',\n",
       "       'VALUE FOR MONEY', 'ECONOMICAL', 'TRUST', 'SOCIAL WELFARE',\n",
       "       'WORK PLACE CREATION', 'SOCIO-ECONOMIC DEVELOPMENT', 'STABILITY',\n",
       "       'PREDICTIBILITY', 'FIN_INSP', 'FINES', 'CLEAR_LAW', 'FISC_FACIL',\n",
       "       'SUBV', 'INVEST_TAX', 'Q_PUBLIC_SV', 'PUBLIC_INV', 'TRANSP',\n",
       "       'nemultumiri_sist_fiscal_sentiment', 'schimbari_sist_fiscal_sentiment',\n",
       "       'ce_ofera_sistemul_sentiment',\n",
       "       'motivare_incredere_sist_fiscal_sentiment',\n",
       "       'overall_sentiment_all_responses'],\n",
       "      dtype='object')"
      ]
     },
     "metadata": {
      "tags": []
     },
     "execution_count": 21
    }
   ]
  },
  {
   "cell_type": "code",
   "metadata": {
    "colab": {
     "base_uri": "https://localhost:8080/",
     "height": 1000
    },
    "id": "m8OudbDy-CPZ",
    "outputId": "f57332f8-e63b-40af-d53c-783735d4e6bf"
   },
   "source": [
    "results = []\n",
    "nb_model = naive_bayes.BernoulliNB()\n",
    "dt_model = DecisionTreeClassifier()\n",
    "lr_model = LogisticRegression()\n",
    "rf_model = RandomForestClassifier(max_depth=5, random_state=42)\n",
    "svc_model = svm.SVC(C=1.0, kernel='rbf', degree=3, gamma='auto', probability=False)\n",
    "\n",
    "models_dict = {'Naive Bayes': nb_model, 'Decision Tree': dt_model,\n",
    "               'Logistic Regression': lr_model, 'Random Forest': rf_model,\n",
    "               'Support Vector Machine': svc_model}\n",
    "\n",
    "x_dict = {'Without attitude': df_fiscal_syst.iloc[:, 2:-5].to_numpy(),\n",
    "          'With attitude': df_fiscal_syst[['parere_sist_fiscal', 'TRANSPARENCY',\n",
    "                                           'VALUE FOR MONEY', 'ECONOMICAL', 'TRUST', 'SOCIAL WELFARE',\n",
    "                                           'WORK PLACE CREATION', 'SOCIO-ECONOMIC DEVELOPMENT', 'STABILITY',\n",
    "                                           'PREDICTIBILITY', 'FIN_INSP', 'FINES', 'CLEAR_LAW', 'FISC_FACIL',\n",
    "                                           'SUBV', 'INVEST_TAX', 'Q_PUBLIC_SV', 'PUBLIC_INV', 'TRANSP',\n",
    "                                           'overall_sentiment_all_responses']].to_numpy()}\n",
    "for case_x, x in x_dict.items():\n",
    "    print('-------------------Showing results for', case_x)\n",
    "    y = df_fiscal_syst.iloc[:, 0:1].to_numpy()\n",
    "    X_train, X_test, y_train, y_test = train_test_split(x, y, test_size=0.33, random_state=0)\n",
    "    for model_name, model_class in models_dict.items():\n",
    "        print(model_name.capitalize)\n",
    "        model_class.fit(X_train, y_train)\n",
    "        y_pred = model_class.predict(X_test)\n",
    "        results.append([case_x, model_name, accuracy_score(y_test, y_pred),\n",
    "                        precision_score(y_test, y_pred),\n",
    "                        recall_score(y_test, y_pred)])\n",
    "\n",
    "        # Plot confusion matrix\n",
    "        cnf_matrix = confusion_matrix(y_test, y_pred)\n",
    "        class_names = [0, 1]  # name  of classes\n",
    "        fig, ax = plt.subplots()\n",
    "        tick_marks = np.arange(len(class_names))\n",
    "        plt.xticks(tick_marks, class_names)\n",
    "        plt.yticks(tick_marks, class_names)\n",
    "        # create heatmap\n",
    "        sns.heatmap(pd.DataFrame(cnf_matrix), annot=True, cmap=\"YlGnBu\", fmt='g')\n",
    "        ax.xaxis.set_label_position(\"top\")\n",
    "        plt.tight_layout()\n",
    "        plt.title('Confusion matrix', y=1.1)\n",
    "        plt.ylabel('Actual label')\n",
    "        plt.xlabel('Predicted label')\n",
    "\n",
    "        print(\"Accuracy:\", accuracy_score(y_test, y_pred))\n",
    "        print(\"Precision:\", precision_score(y_test, y_pred))\n",
    "        print(\"Recall:\", recall_score(y_test, y_pred))\n",
    "        print(classification_report(y_test, y_pred))  # Metrics with sentiment"
   ],
   "execution_count": null,
   "outputs": [
    {
     "output_type": "stream",
     "text": [
      "-------------------Showing results for Without attitude\n",
      "<built-in method capitalize of str object at 0x7ff565a58ab0>\n"
     ],
     "name": "stdout"
    },
    {
     "output_type": "execute_result",
     "data": {
      "text/plain": [
       "BernoulliNB()"
      ]
     },
     "metadata": {
      "tags": []
     },
     "execution_count": 28
    },
    {
     "output_type": "execute_result",
     "data": {
      "text/plain": [
       "([<matplotlib.axis.XTick at 0x7ff565a58fd0>,\n",
       "  <matplotlib.axis.XTick at 0x7ff565a589d0>],\n",
       " [Text(0, 0, '0'), Text(0, 0, '1')])"
      ]
     },
     "metadata": {
      "tags": []
     },
     "execution_count": 28
    },
    {
     "output_type": "execute_result",
     "data": {
      "text/plain": [
       "([<matplotlib.axis.YTick at 0x7ff56455c650>,\n",
       "  <matplotlib.axis.YTick at 0x7ff564559e50>],\n",
       " [Text(0, 0, '0'), Text(0, 0, '1')])"
      ]
     },
     "metadata": {
      "tags": []
     },
     "execution_count": 28
    },
    {
     "output_type": "execute_result",
     "data": {
      "text/plain": [
       "<matplotlib.axes._subplots.AxesSubplot at 0x7ff567798750>"
      ]
     },
     "metadata": {
      "tags": []
     },
     "execution_count": 28
    },
    {
     "output_type": "execute_result",
     "data": {
      "text/plain": [
       "Text(0.5, 1.1, 'Confusion matrix')"
      ]
     },
     "metadata": {
      "tags": []
     },
     "execution_count": 28
    },
    {
     "output_type": "execute_result",
     "data": {
      "text/plain": [
       "Text(24.0, 0.5, 'Actual label')"
      ]
     },
     "metadata": {
      "tags": []
     },
     "execution_count": 28
    },
    {
     "output_type": "execute_result",
     "data": {
      "text/plain": [
       "Text(0.5, 320.8, 'Predicted label')"
      ]
     },
     "metadata": {
      "tags": []
     },
     "execution_count": 28
    },
    {
     "output_type": "stream",
     "text": [
      "Accuracy: 0.550185873605948\n",
      "Precision: 0.550185873605948\n",
      "Recall: 1.0\n",
      "              precision    recall  f1-score   support\n",
      "\n",
      "           0       0.00      0.00      0.00       121\n",
      "           1       0.55      1.00      0.71       148\n",
      "\n",
      "    accuracy                           0.55       269\n",
      "   macro avg       0.28      0.50      0.35       269\n",
      "weighted avg       0.30      0.55      0.39       269\n",
      "\n",
      "<built-in method capitalize of str object at 0x7ff61650fd30>\n"
     ],
     "name": "stdout"
    },
    {
     "output_type": "execute_result",
     "data": {
      "text/plain": [
       "DecisionTreeClassifier()"
      ]
     },
     "metadata": {
      "tags": []
     },
     "execution_count": 28
    },
    {
     "output_type": "execute_result",
     "data": {
      "text/plain": [
       "([<matplotlib.axis.XTick at 0x7ff561c84150>,\n",
       "  <matplotlib.axis.XTick at 0x7ff561c9d7d0>],\n",
       " [Text(0, 0, '0'), Text(0, 0, '1')])"
      ]
     },
     "metadata": {
      "tags": []
     },
     "execution_count": 28
    },
    {
     "output_type": "execute_result",
     "data": {
      "text/plain": [
       "([<matplotlib.axis.YTick at 0x7ff561c9df50>,\n",
       "  <matplotlib.axis.YTick at 0x7ff561c9d790>],\n",
       " [Text(0, 0, '0'), Text(0, 0, '1')])"
      ]
     },
     "metadata": {
      "tags": []
     },
     "execution_count": 28
    },
    {
     "output_type": "execute_result",
     "data": {
      "text/plain": [
       "<matplotlib.axes._subplots.AxesSubplot at 0x7ff561c77090>"
      ]
     },
     "metadata": {
      "tags": []
     },
     "execution_count": 28
    },
    {
     "output_type": "execute_result",
     "data": {
      "text/plain": [
       "Text(0.5, 1.1, 'Confusion matrix')"
      ]
     },
     "metadata": {
      "tags": []
     },
     "execution_count": 28
    },
    {
     "output_type": "execute_result",
     "data": {
      "text/plain": [
       "Text(24.0, 0.5, 'Actual label')"
      ]
     },
     "metadata": {
      "tags": []
     },
     "execution_count": 28
    },
    {
     "output_type": "execute_result",
     "data": {
      "text/plain": [
       "Text(0.5, 320.8, 'Predicted label')"
      ]
     },
     "metadata": {
      "tags": []
     },
     "execution_count": 28
    },
    {
     "output_type": "stream",
     "text": [
      "Accuracy: 0.5464684014869888\n",
      "Precision: 0.5792682926829268\n",
      "Recall: 0.6418918918918919\n",
      "              precision    recall  f1-score   support\n",
      "\n",
      "           0       0.50      0.43      0.46       121\n",
      "           1       0.58      0.64      0.61       148\n",
      "\n",
      "    accuracy                           0.55       269\n",
      "   macro avg       0.54      0.54      0.53       269\n",
      "weighted avg       0.54      0.55      0.54       269\n",
      "\n",
      "<built-in method capitalize of str object at 0x7ff614043490>\n"
     ],
     "name": "stdout"
    },
    {
     "output_type": "execute_result",
     "data": {
      "text/plain": [
       "LogisticRegression()"
      ]
     },
     "metadata": {
      "tags": []
     },
     "execution_count": 28
    },
    {
     "output_type": "execute_result",
     "data": {
      "text/plain": [
       "([<matplotlib.axis.XTick at 0x7ff561bdd690>,\n",
       "  <matplotlib.axis.XTick at 0x7ff561bdd610>],\n",
       " [Text(0, 0, '0'), Text(0, 0, '1')])"
      ]
     },
     "metadata": {
      "tags": []
     },
     "execution_count": 28
    },
    {
     "output_type": "execute_result",
     "data": {
      "text/plain": [
       "([<matplotlib.axis.YTick at 0x7ff561b61690>,\n",
       "  <matplotlib.axis.YTick at 0x7ff561bdde90>],\n",
       " [Text(0, 0, '0'), Text(0, 0, '1')])"
      ]
     },
     "metadata": {
      "tags": []
     },
     "execution_count": 28
    },
    {
     "output_type": "execute_result",
     "data": {
      "text/plain": [
       "<matplotlib.axes._subplots.AxesSubplot at 0x7ff561bb3f10>"
      ]
     },
     "metadata": {
      "tags": []
     },
     "execution_count": 28
    },
    {
     "output_type": "execute_result",
     "data": {
      "text/plain": [
       "Text(0.5, 1.1, 'Confusion matrix')"
      ]
     },
     "metadata": {
      "tags": []
     },
     "execution_count": 28
    },
    {
     "output_type": "execute_result",
     "data": {
      "text/plain": [
       "Text(24.0, 0.5, 'Actual label')"
      ]
     },
     "metadata": {
      "tags": []
     },
     "execution_count": 28
    },
    {
     "output_type": "execute_result",
     "data": {
      "text/plain": [
       "Text(0.5, 320.8, 'Predicted label')"
      ]
     },
     "metadata": {
      "tags": []
     },
     "execution_count": 28
    },
    {
     "output_type": "stream",
     "text": [
      "Accuracy: 0.5724907063197026\n",
      "Precision: 0.5739910313901345\n",
      "Recall: 0.8648648648648649\n",
      "              precision    recall  f1-score   support\n",
      "\n",
      "           0       0.57      0.21      0.31       121\n",
      "           1       0.57      0.86      0.69       148\n",
      "\n",
      "    accuracy                           0.57       269\n",
      "   macro avg       0.57      0.54      0.50       269\n",
      "weighted avg       0.57      0.57      0.52       269\n",
      "\n",
      "<built-in method capitalize of str object at 0x7ff61650feb0>\n"
     ],
     "name": "stdout"
    },
    {
     "output_type": "execute_result",
     "data": {
      "text/plain": [
       "RandomForestClassifier(max_depth=5, random_state=42)"
      ]
     },
     "metadata": {
      "tags": []
     },
     "execution_count": 28
    },
    {
     "output_type": "execute_result",
     "data": {
      "text/plain": [
       "([<matplotlib.axis.XTick at 0x7ff561b0e310>,\n",
       "  <matplotlib.axis.XTick at 0x7ff561b0e2d0>],\n",
       " [Text(0, 0, '0'), Text(0, 0, '1')])"
      ]
     },
     "metadata": {
      "tags": []
     },
     "execution_count": 28
    },
    {
     "output_type": "execute_result",
     "data": {
      "text/plain": [
       "([<matplotlib.axis.YTick at 0x7ff561b11350>,\n",
       "  <matplotlib.axis.YTick at 0x7ff561b0eb50>],\n",
       " [Text(0, 0, '0'), Text(0, 0, '1')])"
      ]
     },
     "metadata": {
      "tags": []
     },
     "execution_count": 28
    },
    {
     "output_type": "execute_result",
     "data": {
      "text/plain": [
       "<matplotlib.axes._subplots.AxesSubplot at 0x7ff561af0f50>"
      ]
     },
     "metadata": {
      "tags": []
     },
     "execution_count": 28
    },
    {
     "output_type": "execute_result",
     "data": {
      "text/plain": [
       "Text(0.5, 1.1, 'Confusion matrix')"
      ]
     },
     "metadata": {
      "tags": []
     },
     "execution_count": 28
    },
    {
     "output_type": "execute_result",
     "data": {
      "text/plain": [
       "Text(24.0, 0.5, 'Actual label')"
      ]
     },
     "metadata": {
      "tags": []
     },
     "execution_count": 28
    },
    {
     "output_type": "execute_result",
     "data": {
      "text/plain": [
       "Text(0.5, 320.8, 'Predicted label')"
      ]
     },
     "metadata": {
      "tags": []
     },
     "execution_count": 28
    },
    {
     "output_type": "stream",
     "text": [
      "Accuracy: 0.5724907063197026\n",
      "Precision: 0.5662650602409639\n",
      "Recall: 0.9527027027027027\n",
      "              precision    recall  f1-score   support\n",
      "\n",
      "           0       0.65      0.11      0.18       121\n",
      "           1       0.57      0.95      0.71       148\n",
      "\n",
      "    accuracy                           0.57       269\n",
      "   macro avg       0.61      0.53      0.45       269\n",
      "weighted avg       0.60      0.57      0.47       269\n",
      "\n",
      "<built-in method capitalize of str object at 0x7ff576aa5e90>\n"
     ],
     "name": "stdout"
    },
    {
     "output_type": "execute_result",
     "data": {
      "text/plain": [
       "SVC(gamma='auto')"
      ]
     },
     "metadata": {
      "tags": []
     },
     "execution_count": 28
    },
    {
     "output_type": "execute_result",
     "data": {
      "text/plain": [
       "([<matplotlib.axis.XTick at 0x7ff561a91dd0>,\n",
       "  <matplotlib.axis.XTick at 0x7ff561a28150>],\n",
       " [Text(0, 0, '0'), Text(0, 0, '1')])"
      ]
     },
     "metadata": {
      "tags": []
     },
     "execution_count": 28
    },
    {
     "output_type": "execute_result",
     "data": {
      "text/plain": [
       "([<matplotlib.axis.YTick at 0x7ff561a28b90>,\n",
       "  <matplotlib.axis.YTick at 0x7ff561a28110>],\n",
       " [Text(0, 0, '0'), Text(0, 0, '1')])"
      ]
     },
     "metadata": {
      "tags": []
     },
     "execution_count": 28
    },
    {
     "output_type": "execute_result",
     "data": {
      "text/plain": [
       "<matplotlib.axes._subplots.AxesSubplot at 0x7ff561a8a090>"
      ]
     },
     "metadata": {
      "tags": []
     },
     "execution_count": 28
    },
    {
     "output_type": "execute_result",
     "data": {
      "text/plain": [
       "Text(0.5, 1.1, 'Confusion matrix')"
      ]
     },
     "metadata": {
      "tags": []
     },
     "execution_count": 28
    },
    {
     "output_type": "execute_result",
     "data": {
      "text/plain": [
       "Text(24.0, 0.5, 'Actual label')"
      ]
     },
     "metadata": {
      "tags": []
     },
     "execution_count": 28
    },
    {
     "output_type": "execute_result",
     "data": {
      "text/plain": [
       "Text(0.5, 320.8, 'Predicted label')"
      ]
     },
     "metadata": {
      "tags": []
     },
     "execution_count": 28
    },
    {
     "output_type": "stream",
     "text": [
      "Accuracy: 0.5799256505576208\n",
      "Precision: 0.5708502024291497\n",
      "Recall: 0.9527027027027027\n",
      "              precision    recall  f1-score   support\n",
      "\n",
      "           0       0.68      0.12      0.21       121\n",
      "           1       0.57      0.95      0.71       148\n",
      "\n",
      "    accuracy                           0.58       269\n",
      "   macro avg       0.63      0.54      0.46       269\n",
      "weighted avg       0.62      0.58      0.49       269\n",
      "\n",
      "-------------------Showing results for With attitude\n",
      "<built-in method capitalize of str object at 0x7ff565a58ab0>\n"
     ],
     "name": "stdout"
    },
    {
     "output_type": "execute_result",
     "data": {
      "text/plain": [
       "BernoulliNB()"
      ]
     },
     "metadata": {
      "tags": []
     },
     "execution_count": 28
    },
    {
     "output_type": "execute_result",
     "data": {
      "text/plain": [
       "([<matplotlib.axis.XTick at 0x7ff561c941d0>,\n",
       "  <matplotlib.axis.XTick at 0x7ff561c94ed0>],\n",
       " [Text(0, 0, '0'), Text(0, 0, '1')])"
      ]
     },
     "metadata": {
      "tags": []
     },
     "execution_count": 28
    },
    {
     "output_type": "execute_result",
     "data": {
      "text/plain": [
       "([<matplotlib.axis.YTick at 0x7ff561c4fb50>,\n",
       "  <matplotlib.axis.YTick at 0x7ff561c4f650>],\n",
       " [Text(0, 0, '0'), Text(0, 0, '1')])"
      ]
     },
     "metadata": {
      "tags": []
     },
     "execution_count": 28
    },
    {
     "output_type": "execute_result",
     "data": {
      "text/plain": [
       "<matplotlib.axes._subplots.AxesSubplot at 0x7ff5644f3f10>"
      ]
     },
     "metadata": {
      "tags": []
     },
     "execution_count": 28
    },
    {
     "output_type": "execute_result",
     "data": {
      "text/plain": [
       "Text(0.5, 1.1, 'Confusion matrix')"
      ]
     },
     "metadata": {
      "tags": []
     },
     "execution_count": 28
    },
    {
     "output_type": "execute_result",
     "data": {
      "text/plain": [
       "Text(24.0, 0.5, 'Actual label')"
      ]
     },
     "metadata": {
      "tags": []
     },
     "execution_count": 28
    },
    {
     "output_type": "execute_result",
     "data": {
      "text/plain": [
       "Text(0.5, 320.8, 'Predicted label')"
      ]
     },
     "metadata": {
      "tags": []
     },
     "execution_count": 28
    },
    {
     "output_type": "stream",
     "text": [
      "Accuracy: 0.550185873605948\n",
      "Precision: 0.550185873605948\n",
      "Recall: 1.0\n",
      "              precision    recall  f1-score   support\n",
      "\n",
      "           0       0.00      0.00      0.00       121\n",
      "           1       0.55      1.00      0.71       148\n",
      "\n",
      "    accuracy                           0.55       269\n",
      "   macro avg       0.28      0.50      0.35       269\n",
      "weighted avg       0.30      0.55      0.39       269\n",
      "\n",
      "<built-in method capitalize of str object at 0x7ff61650fd30>\n"
     ],
     "name": "stdout"
    },
    {
     "output_type": "execute_result",
     "data": {
      "text/plain": [
       "DecisionTreeClassifier()"
      ]
     },
     "metadata": {
      "tags": []
     },
     "execution_count": 28
    },
    {
     "output_type": "execute_result",
     "data": {
      "text/plain": [
       "([<matplotlib.axis.XTick at 0x7ff561943c90>,\n",
       "  <matplotlib.axis.XTick at 0x7ff561943c50>],\n",
       " [Text(0, 0, '0'), Text(0, 0, '1')])"
      ]
     },
     "metadata": {
      "tags": []
     },
     "execution_count": 28
    },
    {
     "output_type": "execute_result",
     "data": {
      "text/plain": [
       "([<matplotlib.axis.YTick at 0x7ff561947cd0>,\n",
       "  <matplotlib.axis.YTick at 0x7ff561947510>],\n",
       " [Text(0, 0, '0'), Text(0, 0, '1')])"
      ]
     },
     "metadata": {
      "tags": []
     },
     "execution_count": 28
    },
    {
     "output_type": "execute_result",
     "data": {
      "text/plain": [
       "<matplotlib.axes._subplots.AxesSubplot at 0x7ff56193e110>"
      ]
     },
     "metadata": {
      "tags": []
     },
     "execution_count": 28
    },
    {
     "output_type": "execute_result",
     "data": {
      "text/plain": [
       "Text(0.5, 1.1, 'Confusion matrix')"
      ]
     },
     "metadata": {
      "tags": []
     },
     "execution_count": 28
    },
    {
     "output_type": "execute_result",
     "data": {
      "text/plain": [
       "Text(24.0, 0.5, 'Actual label')"
      ]
     },
     "metadata": {
      "tags": []
     },
     "execution_count": 28
    },
    {
     "output_type": "execute_result",
     "data": {
      "text/plain": [
       "Text(0.5, 320.8, 'Predicted label')"
      ]
     },
     "metadata": {
      "tags": []
     },
     "execution_count": 28
    },
    {
     "output_type": "stream",
     "text": [
      "Accuracy: 0.6171003717472119\n",
      "Precision: 0.6573426573426573\n",
      "Recall: 0.6351351351351351\n",
      "              precision    recall  f1-score   support\n",
      "\n",
      "           0       0.57      0.60      0.58       121\n",
      "           1       0.66      0.64      0.65       148\n",
      "\n",
      "    accuracy                           0.62       269\n",
      "   macro avg       0.61      0.62      0.61       269\n",
      "weighted avg       0.62      0.62      0.62       269\n",
      "\n",
      "<built-in method capitalize of str object at 0x7ff614043490>\n"
     ],
     "name": "stdout"
    },
    {
     "output_type": "execute_result",
     "data": {
      "text/plain": [
       "LogisticRegression()"
      ]
     },
     "metadata": {
      "tags": []
     },
     "execution_count": 28
    },
    {
     "output_type": "execute_result",
     "data": {
      "text/plain": [
       "([<matplotlib.axis.XTick at 0x7ff561875610>,\n",
       "  <matplotlib.axis.XTick at 0x7ff5618755d0>],\n",
       " [Text(0, 0, '0'), Text(0, 0, '1')])"
      ]
     },
     "metadata": {
      "tags": []
     },
     "execution_count": 28
    },
    {
     "output_type": "execute_result",
     "data": {
      "text/plain": [
       "([<matplotlib.axis.YTick at 0x7ff561863190>,\n",
       "  <matplotlib.axis.YTick at 0x7ff561875e50>],\n",
       " [Text(0, 0, '0'), Text(0, 0, '1')])"
      ]
     },
     "metadata": {
      "tags": []
     },
     "execution_count": 28
    },
    {
     "output_type": "execute_result",
     "data": {
      "text/plain": [
       "<matplotlib.axes._subplots.AxesSubplot at 0x7ff5618d8f10>"
      ]
     },
     "metadata": {
      "tags": []
     },
     "execution_count": 28
    },
    {
     "output_type": "execute_result",
     "data": {
      "text/plain": [
       "Text(0.5, 1.1, 'Confusion matrix')"
      ]
     },
     "metadata": {
      "tags": []
     },
     "execution_count": 28
    },
    {
     "output_type": "execute_result",
     "data": {
      "text/plain": [
       "Text(24.0, 0.5, 'Actual label')"
      ]
     },
     "metadata": {
      "tags": []
     },
     "execution_count": 28
    },
    {
     "output_type": "execute_result",
     "data": {
      "text/plain": [
       "Text(0.5, 320.8, 'Predicted label')"
      ]
     },
     "metadata": {
      "tags": []
     },
     "execution_count": 28
    },
    {
     "output_type": "stream",
     "text": [
      "Accuracy: 0.724907063197026\n",
      "Precision: 0.725609756097561\n",
      "Recall: 0.8040540540540541\n",
      "              precision    recall  f1-score   support\n",
      "\n",
      "           0       0.72      0.63      0.67       121\n",
      "           1       0.73      0.80      0.76       148\n",
      "\n",
      "    accuracy                           0.72       269\n",
      "   macro avg       0.72      0.72      0.72       269\n",
      "weighted avg       0.72      0.72      0.72       269\n",
      "\n",
      "<built-in method capitalize of str object at 0x7ff61650feb0>\n"
     ],
     "name": "stdout"
    },
    {
     "output_type": "execute_result",
     "data": {
      "text/plain": [
       "RandomForestClassifier(max_depth=5, random_state=42)"
      ]
     },
     "metadata": {
      "tags": []
     },
     "execution_count": 28
    },
    {
     "output_type": "execute_result",
     "data": {
      "text/plain": [
       "([<matplotlib.axis.XTick at 0x7ff5617ac110>,\n",
       "  <matplotlib.axis.XTick at 0x7ff5617ac0d0>],\n",
       " [Text(0, 0, '0'), Text(0, 0, '1')])"
      ]
     },
     "metadata": {
      "tags": []
     },
     "execution_count": 28
    },
    {
     "output_type": "execute_result",
     "data": {
      "text/plain": [
       "([<matplotlib.axis.YTick at 0x7ff5617ace10>,\n",
       "  <matplotlib.axis.YTick at 0x7ff5617ac950>],\n",
       " [Text(0, 0, '0'), Text(0, 0, '1')])"
      ]
     },
     "metadata": {
      "tags": []
     },
     "execution_count": 28
    },
    {
     "output_type": "execute_result",
     "data": {
      "text/plain": [
       "<matplotlib.axes._subplots.AxesSubplot at 0x7ff5617a7b10>"
      ]
     },
     "metadata": {
      "tags": []
     },
     "execution_count": 28
    },
    {
     "output_type": "execute_result",
     "data": {
      "text/plain": [
       "Text(0.5, 1.1, 'Confusion matrix')"
      ]
     },
     "metadata": {
      "tags": []
     },
     "execution_count": 28
    },
    {
     "output_type": "execute_result",
     "data": {
      "text/plain": [
       "Text(24.0, 0.5, 'Actual label')"
      ]
     },
     "metadata": {
      "tags": []
     },
     "execution_count": 28
    },
    {
     "output_type": "execute_result",
     "data": {
      "text/plain": [
       "Text(0.5, 320.8, 'Predicted label')"
      ]
     },
     "metadata": {
      "tags": []
     },
     "execution_count": 28
    },
    {
     "output_type": "stream",
     "text": [
      "Accuracy: 0.7360594795539034\n",
      "Precision: 0.712707182320442\n",
      "Recall: 0.8716216216216216\n",
      "              precision    recall  f1-score   support\n",
      "\n",
      "           0       0.78      0.57      0.66       121\n",
      "           1       0.71      0.87      0.78       148\n",
      "\n",
      "    accuracy                           0.74       269\n",
      "   macro avg       0.75      0.72      0.72       269\n",
      "weighted avg       0.74      0.74      0.73       269\n",
      "\n",
      "<built-in method capitalize of str object at 0x7ff576aa5e90>\n"
     ],
     "name": "stdout"
    },
    {
     "output_type": "execute_result",
     "data": {
      "text/plain": [
       "SVC(gamma='auto')"
      ]
     },
     "metadata": {
      "tags": []
     },
     "execution_count": 28
    },
    {
     "output_type": "execute_result",
     "data": {
      "text/plain": [
       "([<matplotlib.axis.XTick at 0x7ff56174f810>,\n",
       "  <matplotlib.axis.XTick at 0x7ff56174f7d0>],\n",
       " [Text(0, 0, '0'), Text(0, 0, '1')])"
      ]
     },
     "metadata": {
      "tags": []
     },
     "execution_count": 28
    },
    {
     "output_type": "execute_result",
     "data": {
      "text/plain": [
       "([<matplotlib.axis.YTick at 0x7ff561747290>,\n",
       "  <matplotlib.axis.YTick at 0x7ff561747410>],\n",
       " [Text(0, 0, '0'), Text(0, 0, '1')])"
      ]
     },
     "metadata": {
      "tags": []
     },
     "execution_count": 28
    },
    {
     "output_type": "execute_result",
     "data": {
      "text/plain": [
       "<matplotlib.axes._subplots.AxesSubplot at 0x7ff5617478d0>"
      ]
     },
     "metadata": {
      "tags": []
     },
     "execution_count": 28
    },
    {
     "output_type": "execute_result",
     "data": {
      "text/plain": [
       "Text(0.5, 1.1, 'Confusion matrix')"
      ]
     },
     "metadata": {
      "tags": []
     },
     "execution_count": 28
    },
    {
     "output_type": "execute_result",
     "data": {
      "text/plain": [
       "Text(24.0, 0.5, 'Actual label')"
      ]
     },
     "metadata": {
      "tags": []
     },
     "execution_count": 28
    },
    {
     "output_type": "execute_result",
     "data": {
      "text/plain": [
       "Text(0.5, 320.8, 'Predicted label')"
      ]
     },
     "metadata": {
      "tags": []
     },
     "execution_count": 28
    },
    {
     "output_type": "stream",
     "text": [
      "Accuracy: 0.7472118959107806\n",
      "Precision: 0.7222222222222222\n",
      "Recall: 0.8783783783783784\n",
      "              precision    recall  f1-score   support\n",
      "\n",
      "           0       0.80      0.59      0.68       121\n",
      "           1       0.72      0.88      0.79       148\n",
      "\n",
      "    accuracy                           0.75       269\n",
      "   macro avg       0.76      0.73      0.73       269\n",
      "weighted avg       0.76      0.75      0.74       269\n",
      "\n"
     ],
     "name": "stdout"
    },
    {
     "output_type": "display_data",
     "data": {
      "image/png": "[encoded data removed]",
      "text/plain": [
       "<Figure size 360x360 with 2 Axes>"
      ]
     },
     "metadata": {
      "tags": [],
      "needs_background": "light"
     }
    },
    {
     "output_type": "display_data",
     "data": {
      "image/png": "[encoded data removed]",
      "text/plain": [
       "<Figure size 360x360 with 2 Axes>"
      ]
     },
     "metadata": {
      "tags": [],
      "needs_background": "light"
     }
    },
    {
     "output_type": "display_data",
     "data": {
      "image/png": "[encoded data removed]",
      "text/plain": [
       "<Figure size 360x360 with 2 Axes>"
      ]
     },
     "metadata": {
      "tags": [],
      "needs_background": "light"
     }
    },
    {
     "output_type": "display_data",
     "data": {
      "image/png": "[encoded data removed]",
      "text/plain": [
       "<Figure size 360x360 with 2 Axes>"
      ]
     },
     "metadata": {
      "tags": [],
      "needs_background": "light"
     }
    },
    {
     "output_type": "display_data",
     "data": {
      "image/png": "[encoded data removed]",
      "text/plain": [
       "<Figure size 360x360 with 2 Axes>"
      ]
     },
     "metadata": {
      "tags": [],
      "needs_background": "light"
     }
    },
    {
     "output_type": "display_data",
     "data": {
      "image/png": "[encoded data removed]",
      "text/plain": [
       "<Figure size 360x360 with 2 Axes>"
      ]
     },
     "metadata": {
      "tags": [],
      "needs_background": "light"
     }
    },
    {
     "output_type": "display_data",
     "data": {
      "image/png": "[encoded data removed]",
      "text/plain": [
       "<Figure size 360x360 with 2 Axes>"
      ]
     },
     "metadata": {
      "tags": [],
      "needs_background": "light"
     }
    },
    {
     "output_type": "display_data",
     "data": {
      "image/png": "[encoded data removed]",
      "text/plain": [
       "<Figure size 360x360 with 2 Axes>"
      ]
     },
     "metadata": {
      "tags": [],
      "needs_background": "light"
     }
    },
    {
     "output_type": "display_data",
     "data": {
      "image/png": "[encoded data removed]",
      "text/plain": [
       "<Figure size 360x360 with 2 Axes>"
      ]
     },
     "metadata": {
      "tags": [],
      "needs_background": "light"
     }
    },
    {
     "output_type": "display_data",
     "data": {
      "image/png": "[encoded data removed]",
      "text/plain": [
       "<Figure size 360x360 with 2 Axes>"
      ]
     },
     "metadata": {
      "tags": [],
      "needs_background": "light"
     }
    }
   ]
  },
  {
   "cell_type": "code",
   "metadata": {
    "colab": {
     "base_uri": "https://localhost:8080/",
     "height": 346
    },
    "id": "Mq8RSVQPCXEH",
    "outputId": "11cf0063-f642-4b90-ab90-f870fe245efe"
   },
   "source": [
    "results_df = pd.DataFrame(results, columns=['case', 'model', 'accuracy', 'precision', 'recall'])\n",
    "results_df"
   ],
   "execution_count": null,
   "outputs": [
    {
     "output_type": "execute_result",
     "data": {
      "text/html": [
       "<div>\n",
       "<style scoped>\n",
       "    .dataframe tbody tr th:only-of-type {\n",
       "        vertical-align: middle;\n",
       "    }\n",
       "\n",
       "    .dataframe tbody tr th {\n",
       "        vertical-align: top;\n",
       "    }\n",
       "\n",
       "    .dataframe thead th {\n",
       "        text-align: right;\n",
       "    }\n",
       "</style>\n",
       "<table border=\"1\" class=\"dataframe\">\n",
       "  <thead>\n",
       "    <tr style=\"text-align: right;\">\n",
       "      <th></th>\n",
       "      <th>case</th>\n",
       "      <th>model</th>\n",
       "      <th>accuracy</th>\n",
       "      <th>precision</th>\n",
       "      <th>recall</th>\n",
       "    </tr>\n",
       "  </thead>\n",
       "  <tbody>\n",
       "    <tr>\n",
       "      <th>0</th>\n",
       "      <td>Without sentiment</td>\n",
       "      <td>Naive Bayes</td>\n",
       "      <td>0.544118</td>\n",
       "      <td>0.544118</td>\n",
       "      <td>1.000000</td>\n",
       "    </tr>\n",
       "    <tr>\n",
       "      <th>1</th>\n",
       "      <td>Without sentiment</td>\n",
       "      <td>Decision Tree</td>\n",
       "      <td>0.602941</td>\n",
       "      <td>0.633929</td>\n",
       "      <td>0.639640</td>\n",
       "    </tr>\n",
       "    <tr>\n",
       "      <th>2</th>\n",
       "      <td>Without sentiment</td>\n",
       "      <td>Logistic Regression</td>\n",
       "      <td>0.725490</td>\n",
       "      <td>0.713178</td>\n",
       "      <td>0.828829</td>\n",
       "    </tr>\n",
       "    <tr>\n",
       "      <th>3</th>\n",
       "      <td>Without sentiment</td>\n",
       "      <td>Random Forest</td>\n",
       "      <td>0.740196</td>\n",
       "      <td>0.713235</td>\n",
       "      <td>0.873874</td>\n",
       "    </tr>\n",
       "    <tr>\n",
       "      <th>4</th>\n",
       "      <td>Without sentiment</td>\n",
       "      <td>Support Vector Machine</td>\n",
       "      <td>0.745098</td>\n",
       "      <td>0.712230</td>\n",
       "      <td>0.891892</td>\n",
       "    </tr>\n",
       "    <tr>\n",
       "      <th>5</th>\n",
       "      <td>With sentiment</td>\n",
       "      <td>Naive Bayes</td>\n",
       "      <td>0.622549</td>\n",
       "      <td>0.601190</td>\n",
       "      <td>0.909910</td>\n",
       "    </tr>\n",
       "    <tr>\n",
       "      <th>6</th>\n",
       "      <td>With sentiment</td>\n",
       "      <td>Decision Tree</td>\n",
       "      <td>0.637255</td>\n",
       "      <td>0.658120</td>\n",
       "      <td>0.693694</td>\n",
       "    </tr>\n",
       "    <tr>\n",
       "      <th>7</th>\n",
       "      <td>With sentiment</td>\n",
       "      <td>Logistic Regression</td>\n",
       "      <td>0.740196</td>\n",
       "      <td>0.733871</td>\n",
       "      <td>0.819820</td>\n",
       "    </tr>\n",
       "    <tr>\n",
       "      <th>8</th>\n",
       "      <td>With sentiment</td>\n",
       "      <td>Random Forest</td>\n",
       "      <td>0.725490</td>\n",
       "      <td>0.697842</td>\n",
       "      <td>0.873874</td>\n",
       "    </tr>\n",
       "    <tr>\n",
       "      <th>9</th>\n",
       "      <td>With sentiment</td>\n",
       "      <td>Support Vector Machine</td>\n",
       "      <td>0.750000</td>\n",
       "      <td>0.720588</td>\n",
       "      <td>0.882883</td>\n",
       "    </tr>\n",
       "  </tbody>\n",
       "</table>\n",
       "</div>"
      ],
      "text/plain": [
       "                case                   model  accuracy  precision    recall\n",
       "0  Without sentiment             Naive Bayes  0.544118   0.544118  1.000000\n",
       "1  Without sentiment           Decision Tree  0.602941   0.633929  0.639640\n",
       "2  Without sentiment     Logistic Regression  0.725490   0.713178  0.828829\n",
       "3  Without sentiment           Random Forest  0.740196   0.713235  0.873874\n",
       "4  Without sentiment  Support Vector Machine  0.745098   0.712230  0.891892\n",
       "5     With sentiment             Naive Bayes  0.622549   0.601190  0.909910\n",
       "6     With sentiment           Decision Tree  0.637255   0.658120  0.693694\n",
       "7     With sentiment     Logistic Regression  0.740196   0.733871  0.819820\n",
       "8     With sentiment           Random Forest  0.725490   0.697842  0.873874\n",
       "9     With sentiment  Support Vector Machine  0.750000   0.720588  0.882883"
      ]
     },
     "metadata": {
      "tags": []
     },
     "execution_count": 19
    }
   ]
  },
  {
   "cell_type": "markdown",
   "metadata": {
    "id": "sUu5eHwPq0-T"
   },
   "source": "# 4. Topic analysis and sentiment"
  },
  {
   "metadata": {},
   "cell_type": "code",
   "outputs": [
    {
     "data": {
      "text/plain": [
       "     incredere_sist_fiscal                                      all_responses\n",
       "0                        1  - injustetea sociala. - impunerea excesiva. - ...\n",
       "1                        1  Ineficiența utilizării sumelor de bani strânse...\n",
       "2                        0  Organizarea probabil deficitara,. Circuitul lu...\n",
       "3                        1  Nu prea am incredere in sistem.. Nu prea stiu ...\n",
       "4                        0  Fiscalitatea din Romania e plina de contradict...\n",
       "..                     ...                                                ...\n",
       "809                      0  Se misca foarte greu. . Foarte multe. Nu prea ...\n",
       "810                      0  Momentan nimic . Oameni care lucrează în siste...\n",
       "811                      1  TVA-ul . Deducerea unor cheltuieli din venitur...\n",
       "812                      1  Ce mă deranjează cel mai mult la sistemul fisc...\n",
       "813                      1  Organizarea sistemului fiscal ar trebui sa fie...\n",
       "\n",
       "[813 rows x 2 columns]"
      ],
      "text/html": [
       "<div>\n",
       "<style scoped>\n",
       "    .dataframe tbody tr th:only-of-type {\n",
       "        vertical-align: middle;\n",
       "    }\n",
       "\n",
       "    .dataframe tbody tr th {\n",
       "        vertical-align: top;\n",
       "    }\n",
       "\n",
       "    .dataframe thead th {\n",
       "        text-align: right;\n",
       "    }\n",
       "</style>\n",
       "<table border=\"1\" class=\"dataframe\">\n",
       "  <thead>\n",
       "    <tr style=\"text-align: right;\">\n",
       "      <th></th>\n",
       "      <th>incredere_sist_fiscal</th>\n",
       "      <th>all_responses</th>\n",
       "    </tr>\n",
       "  </thead>\n",
       "  <tbody>\n",
       "    <tr>\n",
       "      <th>0</th>\n",
       "      <td>1</td>\n",
       "      <td>- injustetea sociala. - impunerea excesiva. - ...</td>\n",
       "    </tr>\n",
       "    <tr>\n",
       "      <th>1</th>\n",
       "      <td>1</td>\n",
       "      <td>Ineficiența utilizării sumelor de bani strânse...</td>\n",
       "    </tr>\n",
       "    <tr>\n",
       "      <th>2</th>\n",
       "      <td>0</td>\n",
       "      <td>Organizarea probabil deficitara,. Circuitul lu...</td>\n",
       "    </tr>\n",
       "    <tr>\n",
       "      <th>3</th>\n",
       "      <td>1</td>\n",
       "      <td>Nu prea am incredere in sistem.. Nu prea stiu ...</td>\n",
       "    </tr>\n",
       "    <tr>\n",
       "      <th>4</th>\n",
       "      <td>0</td>\n",
       "      <td>Fiscalitatea din Romania e plina de contradict...</td>\n",
       "    </tr>\n",
       "    <tr>\n",
       "      <th>...</th>\n",
       "      <td>...</td>\n",
       "      <td>...</td>\n",
       "    </tr>\n",
       "    <tr>\n",
       "      <th>809</th>\n",
       "      <td>0</td>\n",
       "      <td>Se misca foarte greu. . Foarte multe. Nu prea ...</td>\n",
       "    </tr>\n",
       "    <tr>\n",
       "      <th>810</th>\n",
       "      <td>0</td>\n",
       "      <td>Momentan nimic . Oameni care lucrează în siste...</td>\n",
       "    </tr>\n",
       "    <tr>\n",
       "      <th>811</th>\n",
       "      <td>1</td>\n",
       "      <td>TVA-ul . Deducerea unor cheltuieli din venitur...</td>\n",
       "    </tr>\n",
       "    <tr>\n",
       "      <th>812</th>\n",
       "      <td>1</td>\n",
       "      <td>Ce mă deranjează cel mai mult la sistemul fisc...</td>\n",
       "    </tr>\n",
       "    <tr>\n",
       "      <th>813</th>\n",
       "      <td>1</td>\n",
       "      <td>Organizarea sistemului fiscal ar trebui sa fie...</td>\n",
       "    </tr>\n",
       "  </tbody>\n",
       "</table>\n",
       "<p>813 rows × 2 columns</p>\n",
       "</div>"
      ]
     },
     "execution_count": 56,
     "metadata": {},
     "output_type": "execute_result"
    }
   ],
   "execution_count": 56,
   "source": [
    "# Concatenate all responses into a single column\n",
    "df_sent['all_responses'] = df_sent['nemultumiri_sist_fiscal'] + '. ' + df_sent['schimbari_sist_fiscal'] + '. ' + \\\n",
    "                           df_sent['ce_ofera_sistemul']\n",
    "df_sent['all_responses'] = df_sent['all_responses'].apply(lambda x: re.sub('\\n', '. ', x))\n",
    "df_sent['all_responses'] = df_sent['all_responses'].apply(lambda x: x.strip())\n",
    "\n",
    "df_sent[['incredere_sist_fiscal', 'all_responses']]"
   ]
  },
  {
   "cell_type": "markdown",
   "metadata": {
    "id": "8aL6wQ9YvElE"
   },
   "source": "## 4.1. Preprocess text"
  },
  {
   "cell_type": "code",
   "metadata": {
    "id": "ndLrPAIW6KYy",
    "ExecuteTime": {
     "end_time": "2024-09-22T14:22:34.587857Z",
     "start_time": "2024-09-22T14:22:34.583546Z"
    }
   },
   "source": [
    "df_text = df_sent[['incredere_sist_fiscal', 'nemultumiri_sist_fiscal', 'schimbari_sist_fiscal', 'ce_ofera_sistemul',\n",
    "                   'motivare_incredere_sist_fiscal']]"
   ],
   "outputs": [],
   "execution_count": 58
  },
  {
   "cell_type": "code",
   "metadata": {
    "id": "Ym_1J0SarDhy",
    "ExecuteTime": {
     "end_time": "2024-09-22T14:22:36.413791Z",
     "start_time": "2024-09-22T14:22:35.206590Z"
    }
   },
   "source": [
    "ro_stopwords = set(stopwords.words('romanian'))\n",
    "nltk.download('punkt_tab')\n",
    "decoded_stopwords = [unidecode.unidecode(word) for word in ro_stopwords] + ['a-si', 'l', 's', 'sa-s', 'intr-o', 'as',\n",
    "                                                                            'as-i', 'le-as']\n",
    "stemmer = SnowballStemmer(language=\"romanian\")\n",
    "punctuation_signs = [c for c in string.punctuation] + ['``', \"''\", '...', '..']\n",
    "\n",
    "\n",
    "# Clean the text\n",
    "def clean_text(raw_string):\n",
    "    # replace new line\n",
    "    cleaned_string = re.sub('\\n', ' ', raw_string)\n",
    "    # remove emoji\n",
    "    emoji_pattern = re.compile(\"[\"\n",
    "                               u\"\\U0001F600-\\U0001F64F\"  # emoticons\n",
    "                               u\"\\U0001F300-\\U0001F5FF\"  # symbols & pictographs\n",
    "                               u\"\\U0001F680-\\U0001F6FF\"  # transport & map symbols\n",
    "                               u\"\\U0001F1E0-\\U0001F1FF\"  # flags (iOS)\n",
    "                               u\"\\U00002702-\\U000027B0\"\n",
    "                               u\"\\U000024C2-\\U0001F251\"\n",
    "                               # \"^a-zA-Z\"\n",
    "                               \"]+\", flags=re.UNICODE)\n",
    "    cleaned_string = emoji_pattern.sub(r'', cleaned_string)\n",
    "    # lower all letters\n",
    "    cleaned_string = cleaned_string.lower()\n",
    "    # decode special characters\n",
    "    cleaned_string = unidecode.unidecode(cleaned_string)\n",
    "    # remove special characters and numbers\n",
    "    cleaned_string = re.sub(\"-|.|;|:\", \" \", cleaned_string, re.I)\n",
    "    cleaned_string = re.sub(\"[^a-z ]\", \" \", cleaned_string, re.I)\n",
    "    # remove multiple spaces\n",
    "    cleaned_string = re.sub(' +', ' ', cleaned_string)\n",
    "    # tokenize strings\n",
    "    cleaned_string = nltk.word_tokenize(cleaned_string)\n",
    "    # remove stopwords and punctuation signs\n",
    "    cleaned_string = [word.strip() for word in cleaned_string if word not in decoded_stopwords and len(word) > 2]\n",
    "    cleaned_string = [word.strip() for word in cleaned_string if word not in punctuation_signs]\n",
    "    # stem the words - reduce words to stema\n",
    "    cleaned_string = [stemmer.stem(word.strip()) for word in cleaned_string if word]\n",
    "    # cleaned_string = ' '.join(cleaned_string)\n",
    "    # cleaned_string = re.sub(' +', ' ', cleaned_string)\n",
    "\n",
    "    return cleaned_string"
   ],
   "outputs": [
    {
     "name": "stderr",
     "output_type": "stream",
     "text": [
      "[nltk_data] Downloading package punkt_tab to\n",
      "[nltk_data]     C:\\Users\\scioban\\AppData\\Roaming\\nltk_data...\n",
      "[nltk_data]   Package punkt_tab is already up-to-date!\n"
     ]
    },
    {
     "data": {
      "text/plain": [
       "True"
      ]
     },
     "execution_count": 59,
     "metadata": {},
     "output_type": "execute_result"
    }
   ],
   "execution_count": 59
  },
  {
   "cell_type": "code",
   "metadata": {
    "id": "rk06aU445gc_",
    "ExecuteTime": {
     "end_time": "2024-09-22T14:22:38.036076Z",
     "start_time": "2024-09-22T14:22:37.586114Z"
    }
   },
   "source": [
    "# Create three new columns with the prepreocesed text\n",
    "for column in ['nemultumiri_sist_fiscal', 'schimbari_sist_fiscal', 'ce_ofera_sistemul']:\n",
    "    df_text[f'{column}_prep'] = df_text[column].apply(lambda x: clean_text(x))"
   ],
   "outputs": [],
   "execution_count": 60
  },
  {
   "metadata": {
    "ExecuteTime": {
     "end_time": "2024-09-22T14:22:40.473708Z",
     "start_time": "2024-09-22T14:22:40.449719Z"
    }
   },
   "cell_type": "code",
   "source": [
    "# Create a column with all preprocessed texts\n",
    "df_text['all_responses_prep'] = df_text['nemultumiri_sist_fiscal_prep'] + df_text['schimbari_sist_fiscal_prep'] + \\\n",
    "                                df_text['ce_ofera_sistemul_prep']\n",
    "df_text['all_responses_word_count'] = df_text['all_responses_prep'].apply(len)\n",
    "df_text.head(2)"
   ],
   "outputs": [
    {
     "data": {
      "text/plain": [
       "   incredere_sist_fiscal                            nemultumiri_sist_fiscal  \\\n",
       "0                      1  - injustetea sociala\\n- impunerea excesiva\\n- ...   \n",
       "1                      1  Ineficiența utilizării sumelor de bani strânse...   \n",
       "\n",
       "                     schimbari_sist_fiscal  \\\n",
       "0  as incerca sa-l orientez spre cetatean.   \n",
       "1      Aș crea un mediu de afacere stabil.   \n",
       "\n",
       "                                   ce_ofera_sistemul  \\\n",
       "0  - crestere a nivelului de trai in mod semi-efi...   \n",
       "1                               Birocrație excesivă.   \n",
       "\n",
       "                      motivare_incredere_sist_fiscal  \\\n",
       "0  Îmi creează sentimentul că plătesc un serviciu...   \n",
       "1  Îmi creează sentimentul că plătesc un serviciu...   \n",
       "\n",
       "                        nemultumiri_sist_fiscal_prep  \\\n",
       "0  [injustet, social, impun, exces, privileg, rez...   \n",
       "1  [eficient, utilizar, sum, ban, stran, tax, impoz]   \n",
       "\n",
       "   schimbari_sist_fiscal_prep  \\\n",
       "0  [incerc, orient, cetatean]   \n",
       "1  [cre, mediu, afac, stabil]   \n",
       "\n",
       "                              ce_ofera_sistemul_prep  \\\n",
       "0  [crest, nivel, tra, sem, eficient, sustin, ins...   \n",
       "1                                    [rocrat, exces]   \n",
       "\n",
       "                                  all_responses_prep  all_responses_word_count  \n",
       "0  [injustet, social, impun, exces, privileg, rez...                        25  \n",
       "1  [eficient, utilizar, sum, ban, stran, tax, imp...                        13  "
      ],
      "text/html": [
       "<div>\n",
       "<style scoped>\n",
       "    .dataframe tbody tr th:only-of-type {\n",
       "        vertical-align: middle;\n",
       "    }\n",
       "\n",
       "    .dataframe tbody tr th {\n",
       "        vertical-align: top;\n",
       "    }\n",
       "\n",
       "    .dataframe thead th {\n",
       "        text-align: right;\n",
       "    }\n",
       "</style>\n",
       "<table border=\"1\" class=\"dataframe\">\n",
       "  <thead>\n",
       "    <tr style=\"text-align: right;\">\n",
       "      <th></th>\n",
       "      <th>incredere_sist_fiscal</th>\n",
       "      <th>nemultumiri_sist_fiscal</th>\n",
       "      <th>schimbari_sist_fiscal</th>\n",
       "      <th>ce_ofera_sistemul</th>\n",
       "      <th>motivare_incredere_sist_fiscal</th>\n",
       "      <th>nemultumiri_sist_fiscal_prep</th>\n",
       "      <th>schimbari_sist_fiscal_prep</th>\n",
       "      <th>ce_ofera_sistemul_prep</th>\n",
       "      <th>all_responses_prep</th>\n",
       "      <th>all_responses_word_count</th>\n",
       "    </tr>\n",
       "  </thead>\n",
       "  <tbody>\n",
       "    <tr>\n",
       "      <th>0</th>\n",
       "      <td>1</td>\n",
       "      <td>- injustetea sociala\\n- impunerea excesiva\\n- ...</td>\n",
       "      <td>as incerca sa-l orientez spre cetatean.</td>\n",
       "      <td>- crestere a nivelului de trai in mod semi-efi...</td>\n",
       "      <td>Îmi creează sentimentul că plătesc un serviciu...</td>\n",
       "      <td>[injustet, social, impun, exces, privileg, rez...</td>\n",
       "      <td>[incerc, orient, cetatean]</td>\n",
       "      <td>[crest, nivel, tra, sem, eficient, sustin, ins...</td>\n",
       "      <td>[injustet, social, impun, exces, privileg, rez...</td>\n",
       "      <td>25</td>\n",
       "    </tr>\n",
       "    <tr>\n",
       "      <th>1</th>\n",
       "      <td>1</td>\n",
       "      <td>Ineficiența utilizării sumelor de bani strânse...</td>\n",
       "      <td>Aș crea un mediu de afacere stabil.</td>\n",
       "      <td>Birocrație excesivă.</td>\n",
       "      <td>Îmi creează sentimentul că plătesc un serviciu...</td>\n",
       "      <td>[eficient, utilizar, sum, ban, stran, tax, impoz]</td>\n",
       "      <td>[cre, mediu, afac, stabil]</td>\n",
       "      <td>[rocrat, exces]</td>\n",
       "      <td>[eficient, utilizar, sum, ban, stran, tax, imp...</td>\n",
       "      <td>13</td>\n",
       "    </tr>\n",
       "  </tbody>\n",
       "</table>\n",
       "</div>"
      ]
     },
     "execution_count": 61,
     "metadata": {},
     "output_type": "execute_result"
    }
   ],
   "execution_count": 61
  },
  {
   "cell_type": "markdown",
   "metadata": {
    "id": "77rdZfm3vVjo"
   },
   "source": "## 4.2. Bivariate analysis between text and the variable of interest (trust in the fiscal system)"
  },
  {
   "cell_type": "code",
   "metadata": {
    "colab": {
     "base_uri": "https://localhost:8080/"
    },
    "id": "z377Q7gwicoj",
    "outputId": "dc55ac1b-7d88-4fa2-9835-7f2597d80a93",
    "ExecuteTime": {
     "end_time": "2024-09-22T14:22:42.159130Z",
     "start_time": "2024-09-22T14:22:42.138323Z"
    }
   },
   "source": [
    "# Create a dataframe with words (uni-grams) and value for the trust variable (dependent)\n",
    "words_trust = df_text[['incredere_sist_fiscal', 'all_responses_prep']].explode('all_responses_prep').reset_index(\n",
    "    drop=True)\n",
    "words_trust.shape"
   ],
   "outputs": [
    {
     "data": {
      "text/plain": [
       "(15011, 2)"
      ]
     },
     "execution_count": 62,
     "metadata": {},
     "output_type": "execute_result"
    }
   ],
   "execution_count": 62
  },
  {
   "cell_type": "code",
   "metadata": {
    "colab": {
     "base_uri": "https://localhost:8080/"
    },
    "id": "lIa0d3BBOUuH",
    "outputId": "2c7b68e3-5496-4aa4-92e6-c84e05f49631",
    "ExecuteTime": {
     "end_time": "2024-09-22T14:23:37.434733Z",
     "start_time": "2024-09-22T14:23:37.414455Z"
    }
   },
   "source": [
    "df_responses_trust = df_text[['incredere_sist_fiscal', 'all_responses_prep']] # get a subsample of the text dataframe with the variables of interest\n",
    "df_responses_trust = df_responses_trust[df_responses_trust.astype(str)['all_responses_prep'] != '[]'] # remove all empty [] values\n",
    "df_responses_trust = df_responses_trust[~df_responses_trust.all_responses_prep.str.len().eq(1)] # remove all rows that contain only one word\n",
    "\n",
    "df_responses_trust.shape"
   ],
   "outputs": [
    {
     "data": {
      "text/plain": [
       "(777, 2)"
      ]
     },
     "execution_count": 64,
     "metadata": {},
     "output_type": "execute_result"
    }
   ],
   "execution_count": 64
  },
  {
   "cell_type": "code",
   "metadata": {
    "id": "GbDwsHtl90Su",
    "ExecuteTime": {
     "end_time": "2024-09-22T14:23:45.737014Z",
     "start_time": "2024-09-22T14:23:45.711365Z"
    }
   },
   "source": [
    "def create_bigrams(row):\n",
    "  ngrams = nltk.ngrams(row, 2)\n",
    "  ngram_list = []\n",
    "  for item in ngrams:\n",
    "    ngram_list.append(item[0]+' '+item[1])\n",
    "  return ngram_list\n",
    "df_responses_trust['bi-grams'] = df_responses_trust['all_responses_prep'].apply(lambda row: create_bigrams(row))"
   ],
   "outputs": [],
   "execution_count": 65
  },
  {
   "cell_type": "code",
   "metadata": {
    "colab": {
     "base_uri": "https://localhost:8080/"
    },
    "id": "xn9rzJQdQjUv",
    "outputId": "9f48aea0-45ed-42d1-cf30-20b9854994c6",
    "ExecuteTime": {
     "end_time": "2024-09-22T14:23:52.960479Z",
     "start_time": "2024-09-22T14:23:52.945498Z"
    }
   },
   "source": [
    "bigrams_trust = df_responses_trust[['incredere_sist_fiscal','bi-grams']].explode('bi-grams').reset_index(drop=True)\n",
    "bigrams_trust.shape"
   ],
   "outputs": [
    {
     "data": {
      "text/plain": [
       "(14198, 2)"
      ]
     },
     "execution_count": 66,
     "metadata": {},
     "output_type": "execute_result"
    }
   ],
   "execution_count": 66
  },
  {
   "cell_type": "code",
   "metadata": {
    "colab": {
     "base_uri": "https://localhost:8080/",
     "height": 110
    },
    "id": "JegzX1KZAJAu",
    "outputId": "8e797aaf-d803-44af-f611-ed01d2590412",
    "ExecuteTime": {
     "end_time": "2024-09-22T14:23:58.569409Z",
     "start_time": "2024-09-22T14:23:58.553299Z"
    }
   },
   "source": [
    "# # Create bi-grams and tri-grams for each response set\n",
    "def create_trigrams(row):\n",
    "  ngrams = nltk.ngrams(row, 3)\n",
    "  ngram_list = []\n",
    "  for item in ngrams:\n",
    "    ngram_list.append(item[0]+' '+item[1] + ' '+ item[2])\n",
    "  return ngram_list\n",
    "df_responses_trust['tri-grams'] = df_responses_trust['all_responses_prep'].apply(lambda row: create_trigrams(row))\n",
    "df_responses_trust.head(2)"
   ],
   "outputs": [
    {
     "data": {
      "text/plain": [
       "   incredere_sist_fiscal                                 all_responses_prep  \\\n",
       "0                      1  [injustet, social, impun, exces, privileg, rez...   \n",
       "1                      1  [eficient, utilizar, sum, ban, stran, tax, imp...   \n",
       "\n",
       "                                            bi-grams  \\\n",
       "0  [injustet social, social impun, impun exces, e...   \n",
       "1  [eficient utilizar, utilizar sum, sum ban, ban...   \n",
       "\n",
       "                                           tri-grams  \n",
       "0  [injustet social impun, social impun exces, im...  \n",
       "1  [eficient utilizar sum, utilizar sum ban, sum ...  "
      ],
      "text/html": [
       "<div>\n",
       "<style scoped>\n",
       "    .dataframe tbody tr th:only-of-type {\n",
       "        vertical-align: middle;\n",
       "    }\n",
       "\n",
       "    .dataframe tbody tr th {\n",
       "        vertical-align: top;\n",
       "    }\n",
       "\n",
       "    .dataframe thead th {\n",
       "        text-align: right;\n",
       "    }\n",
       "</style>\n",
       "<table border=\"1\" class=\"dataframe\">\n",
       "  <thead>\n",
       "    <tr style=\"text-align: right;\">\n",
       "      <th></th>\n",
       "      <th>incredere_sist_fiscal</th>\n",
       "      <th>all_responses_prep</th>\n",
       "      <th>bi-grams</th>\n",
       "      <th>tri-grams</th>\n",
       "    </tr>\n",
       "  </thead>\n",
       "  <tbody>\n",
       "    <tr>\n",
       "      <th>0</th>\n",
       "      <td>1</td>\n",
       "      <td>[injustet, social, impun, exces, privileg, rez...</td>\n",
       "      <td>[injustet social, social impun, impun exces, e...</td>\n",
       "      <td>[injustet social impun, social impun exces, im...</td>\n",
       "    </tr>\n",
       "    <tr>\n",
       "      <th>1</th>\n",
       "      <td>1</td>\n",
       "      <td>[eficient, utilizar, sum, ban, stran, tax, imp...</td>\n",
       "      <td>[eficient utilizar, utilizar sum, sum ban, ban...</td>\n",
       "      <td>[eficient utilizar sum, utilizar sum ban, sum ...</td>\n",
       "    </tr>\n",
       "  </tbody>\n",
       "</table>\n",
       "</div>"
      ]
     },
     "execution_count": 67,
     "metadata": {},
     "output_type": "execute_result"
    }
   ],
   "execution_count": 67
  },
  {
   "cell_type": "code",
   "metadata": {
    "colab": {
     "base_uri": "https://localhost:8080/"
    },
    "id": "pEskSCYlRIM-",
    "outputId": "8fe4b794-f00a-4883-bf46-9b7e3097229a",
    "ExecuteTime": {
     "end_time": "2024-09-22T14:24:07.461132Z",
     "start_time": "2024-09-22T14:24:07.442063Z"
    }
   },
   "source": [
    "trigrams_trust = df_responses_trust[['incredere_sist_fiscal','tri-grams']].explode('tri-grams').reset_index(drop=True)\n",
    "trigrams_trust.shape"
   ],
   "outputs": [
    {
     "data": {
      "text/plain": [
       "(13435, 2)"
      ]
     },
     "execution_count": 68,
     "metadata": {},
     "output_type": "execute_result"
    }
   ],
   "execution_count": 68
  },
  {
   "cell_type": "code",
   "metadata": {
    "colab": {
     "base_uri": "https://localhost:8080/",
     "height": 141
    },
    "id": "POkl_bEjbgD_",
    "outputId": "100ce37e-2fb7-4374-ed89-f988cbdb05de",
    "ExecuteTime": {
     "end_time": "2024-09-22T14:24:28.932714Z",
     "start_time": "2024-09-22T14:24:28.924615Z"
    }
   },
   "source": [
    "trigrams_trust.groupby(by='incredere_sist_fiscal').count()"
   ],
   "outputs": [
    {
     "data": {
      "text/plain": [
       "                       tri-grams\n",
       "incredere_sist_fiscal           \n",
       "0                           5913\n",
       "1                           7508"
      ],
      "text/html": [
       "<div>\n",
       "<style scoped>\n",
       "    .dataframe tbody tr th:only-of-type {\n",
       "        vertical-align: middle;\n",
       "    }\n",
       "\n",
       "    .dataframe tbody tr th {\n",
       "        vertical-align: top;\n",
       "    }\n",
       "\n",
       "    .dataframe thead th {\n",
       "        text-align: right;\n",
       "    }\n",
       "</style>\n",
       "<table border=\"1\" class=\"dataframe\">\n",
       "  <thead>\n",
       "    <tr style=\"text-align: right;\">\n",
       "      <th></th>\n",
       "      <th>tri-grams</th>\n",
       "    </tr>\n",
       "    <tr>\n",
       "      <th>incredere_sist_fiscal</th>\n",
       "      <th></th>\n",
       "    </tr>\n",
       "  </thead>\n",
       "  <tbody>\n",
       "    <tr>\n",
       "      <th>0</th>\n",
       "      <td>5913</td>\n",
       "    </tr>\n",
       "    <tr>\n",
       "      <th>1</th>\n",
       "      <td>7508</td>\n",
       "    </tr>\n",
       "  </tbody>\n",
       "</table>\n",
       "</div>"
      ]
     },
     "execution_count": 70,
     "metadata": {},
     "output_type": "execute_result"
    }
   ],
   "execution_count": 70
  },
  {
   "cell_type": "code",
   "metadata": {
    "colab": {
     "base_uri": "https://localhost:8080/",
     "height": 141
    },
    "id": "2pR8Va4xb_eD",
    "outputId": "5f9fc3b0-8905-485a-cbb3-8f1bbbdb94d7",
    "ExecuteTime": {
     "end_time": "2024-09-22T14:24:29.291668Z",
     "start_time": "2024-09-22T14:24:29.279044Z"
    }
   },
   "source": [
    "bigrams_trust.groupby(by='incredere_sist_fiscal').count()"
   ],
   "outputs": [
    {
     "data": {
      "text/plain": [
       "                       bi-grams\n",
       "incredere_sist_fiscal          \n",
       "0                          6231\n",
       "1                          7967"
      ],
      "text/html": [
       "<div>\n",
       "<style scoped>\n",
       "    .dataframe tbody tr th:only-of-type {\n",
       "        vertical-align: middle;\n",
       "    }\n",
       "\n",
       "    .dataframe tbody tr th {\n",
       "        vertical-align: top;\n",
       "    }\n",
       "\n",
       "    .dataframe thead th {\n",
       "        text-align: right;\n",
       "    }\n",
       "</style>\n",
       "<table border=\"1\" class=\"dataframe\">\n",
       "  <thead>\n",
       "    <tr style=\"text-align: right;\">\n",
       "      <th></th>\n",
       "      <th>bi-grams</th>\n",
       "    </tr>\n",
       "    <tr>\n",
       "      <th>incredere_sist_fiscal</th>\n",
       "      <th></th>\n",
       "    </tr>\n",
       "  </thead>\n",
       "  <tbody>\n",
       "    <tr>\n",
       "      <th>0</th>\n",
       "      <td>6231</td>\n",
       "    </tr>\n",
       "    <tr>\n",
       "      <th>1</th>\n",
       "      <td>7967</td>\n",
       "    </tr>\n",
       "  </tbody>\n",
       "</table>\n",
       "</div>"
      ]
     },
     "execution_count": 71,
     "metadata": {},
     "output_type": "execute_result"
    }
   ],
   "execution_count": 71
  },
  {
   "cell_type": "code",
   "metadata": {
    "colab": {
     "base_uri": "https://localhost:8080/",
     "height": 141
    },
    "id": "DdPVqEjFb_gP",
    "outputId": "fc0357d2-70e2-422c-b82e-9f5afcfa17b0",
    "ExecuteTime": {
     "end_time": "2024-09-22T14:24:32.055513Z",
     "start_time": "2024-09-22T14:24:32.034723Z"
    }
   },
   "source": [
    "words_trust.groupby(by='incredere_sist_fiscal').count()"
   ],
   "outputs": [
    {
     "data": {
      "text/plain": [
       "                       all_responses_prep\n",
       "incredere_sist_fiscal                    \n",
       "0                                    6553\n",
       "1                                    8431"
      ],
      "text/html": [
       "<div>\n",
       "<style scoped>\n",
       "    .dataframe tbody tr th:only-of-type {\n",
       "        vertical-align: middle;\n",
       "    }\n",
       "\n",
       "    .dataframe tbody tr th {\n",
       "        vertical-align: top;\n",
       "    }\n",
       "\n",
       "    .dataframe thead th {\n",
       "        text-align: right;\n",
       "    }\n",
       "</style>\n",
       "<table border=\"1\" class=\"dataframe\">\n",
       "  <thead>\n",
       "    <tr style=\"text-align: right;\">\n",
       "      <th></th>\n",
       "      <th>all_responses_prep</th>\n",
       "    </tr>\n",
       "    <tr>\n",
       "      <th>incredere_sist_fiscal</th>\n",
       "      <th></th>\n",
       "    </tr>\n",
       "  </thead>\n",
       "  <tbody>\n",
       "    <tr>\n",
       "      <th>0</th>\n",
       "      <td>6553</td>\n",
       "    </tr>\n",
       "    <tr>\n",
       "      <th>1</th>\n",
       "      <td>8431</td>\n",
       "    </tr>\n",
       "  </tbody>\n",
       "</table>\n",
       "</div>"
      ]
     },
     "execution_count": 72,
     "metadata": {},
     "output_type": "execute_result"
    }
   ],
   "execution_count": 72
  },
  {
   "cell_type": "markdown",
   "metadata": {
    "id": "Jvno3fazvgnn"
   },
   "source": "## 4.3. Univariate visualization for the text"
  },
  {
   "cell_type": "code",
   "metadata": {
    "colab": {
     "base_uri": "https://localhost:8080/",
     "height": 450
    },
    "id": "QGa9tijyuEYy",
    "outputId": "da143811-2269-42a4-853d-999b8f3cfddb",
    "ExecuteTime": {
     "end_time": "2024-09-22T14:25:31.396717Z",
     "start_time": "2024-09-22T14:25:31.229055Z"
    }
   },
   "source": [
    "# Top 10 most frequent words\n",
    "words_trust['all_responses_prep'].value_counts()[:10].plot(kind='barh', figsize=(7, 7), color='#666666', zorder=2, width=0.7, fontsize=15)"
   ],
   "outputs": [
    {
     "data": {
      "text/plain": [
       "<Axes: ylabel='all_responses_prep'>"
      ]
     },
     "execution_count": 74,
     "metadata": {},
     "output_type": "execute_result"
    },
    {
     "data": {
      "text/plain": [
       "<Figure size 700x700 with 1 Axes>"
      ],
      "image/png": "[encoded data removed]"
     },
     "metadata": {},
     "output_type": "display_data"
    }
   ],
   "execution_count": 74
  },
  {
   "cell_type": "code",
   "metadata": {
    "id": "BiIzSAQBGGxV",
    "ExecuteTime": {
     "end_time": "2024-09-22T14:25:38.759679Z",
     "start_time": "2024-09-22T14:25:38.743509Z"
    }
   },
   "source": [
    "words = df_text['all_responses_prep'].to_list()\n",
    "words_l = [item for sublist in words for item in sublist]"
   ],
   "outputs": [],
   "execution_count": 75
  },
  {
   "cell_type": "code",
   "metadata": {
    "id": "-_-1ik8BGG3o",
    "ExecuteTime": {
     "end_time": "2024-09-22T14:25:43.901477Z",
     "start_time": "2024-09-22T14:25:43.866903Z"
    }
   },
   "source": [
    "# Most frequent bi-grams and tri-grams\n",
    "bigrams_series = (pd.Series(nltk.ngrams(words_l, 2)).value_counts())[:20]\n",
    "trigrams_series = (pd.Series(nltk.ngrams(words_l, 3)).value_counts())[:20]"
   ],
   "outputs": [],
   "execution_count": 76
  },
  {
   "cell_type": "code",
   "metadata": {
    "colab": {
     "base_uri": "https://localhost:8080/",
     "height": 530
    },
    "id": "Tmvseogq449E",
    "outputId": "3ac6b1ef-71b5-4df1-c1a1-4b6f2bd7e0b2",
    "ExecuteTime": {
     "end_time": "2024-09-22T14:25:49.366879Z",
     "start_time": "2024-09-22T14:25:49.155712Z"
    }
   },
   "source": [
    "bigrams_series.sort_values().plot.barh(color='#666666', width=.8, figsize=(12, 8))\n",
    "plt.title('20 Most Frequently Occuring Bigrams')\n",
    "plt.ylabel('Bigram')\n",
    "plt.xlabel('Frequency')"
   ],
   "outputs": [
    {
     "data": {
      "text/plain": [
       "<Axes: >"
      ]
     },
     "execution_count": 77,
     "metadata": {},
     "output_type": "execute_result"
    },
    {
     "data": {
      "text/plain": [
       "Text(0.5, 1.0, '20 Most Frequently Occuring Bigrams')"
      ]
     },
     "execution_count": 77,
     "metadata": {},
     "output_type": "execute_result"
    },
    {
     "data": {
      "text/plain": [
       "Text(0, 0.5, 'Bigram')"
      ]
     },
     "execution_count": 77,
     "metadata": {},
     "output_type": "execute_result"
    },
    {
     "data": {
      "text/plain": [
       "Text(0.5, 0, 'Frequency')"
      ]
     },
     "execution_count": 77,
     "metadata": {},
     "output_type": "execute_result"
    },
    {
     "data": {
      "text/plain": [
       "<Figure size 1200x800 with 1 Axes>"
      ],
      "image/png": "[encoded data removed]"
     },
     "metadata": {},
     "output_type": "display_data"
    }
   ],
   "execution_count": 77
  },
  {
   "cell_type": "code",
   "metadata": {
    "colab": {
     "base_uri": "https://localhost:8080/",
     "height": 530
    },
    "id": "kDmrE1rP49bi",
    "outputId": "809d3051-13b6-4cd8-86b8-3ad87b5a6037",
    "ExecuteTime": {
     "end_time": "2024-09-22T14:26:03.833869Z",
     "start_time": "2024-09-22T14:26:03.631432Z"
    }
   },
   "source": [
    "trigrams_series.sort_values().plot.barh(color='#666666', width=.8, figsize=(12, 8))\n",
    "plt.title('20 Most Frequently Occuring Bigrams')\n",
    "plt.ylabel('Trigram')\n",
    "plt.xlabel('Frequency')"
   ],
   "outputs": [
    {
     "data": {
      "text/plain": [
       "<Axes: >"
      ]
     },
     "execution_count": 78,
     "metadata": {},
     "output_type": "execute_result"
    },
    {
     "data": {
      "text/plain": [
       "Text(0.5, 1.0, '20 Most Frequently Occuring Bigrams')"
      ]
     },
     "execution_count": 78,
     "metadata": {},
     "output_type": "execute_result"
    },
    {
     "data": {
      "text/plain": [
       "Text(0, 0.5, 'Trigram')"
      ]
     },
     "execution_count": 78,
     "metadata": {},
     "output_type": "execute_result"
    },
    {
     "data": {
      "text/plain": [
       "Text(0.5, 0, 'Frequency')"
      ]
     },
     "execution_count": 78,
     "metadata": {},
     "output_type": "execute_result"
    },
    {
     "data": {
      "text/plain": [
       "<Figure size 1200x800 with 1 Axes>"
      ],
      "image/png": "[encoded data removed]"
     },
     "metadata": {},
     "output_type": "display_data"
    }
   ],
   "execution_count": 78
  },
  {
   "cell_type": "markdown",
   "metadata": {
    "id": "hU5uyL6IvsHP"
   },
   "source": "## 4.4. Analysis of the words that make a difference between the two groups: trust and no trust"
  },
  {
   "cell_type": "code",
   "metadata": {
    "id": "frLCuN4Di24y",
    "ExecuteTime": {
     "end_time": "2024-09-22T14:26:43.577742Z",
     "start_time": "2024-09-22T14:26:43.556909Z"
    }
   },
   "source": [
    "# Let's try to see which are the words which are specific to only one category of trust\n",
    "all_responses_dict = words_trust[['incredere_sist_fiscal', 'all_responses_prep']].to_dict()"
   ],
   "outputs": [],
   "execution_count": 79
  },
  {
   "cell_type": "code",
   "metadata": {
    "colab": {
     "base_uri": "https://localhost:8080/",
     "height": 197
    },
    "id": "cCxzYR9cxq1t",
    "outputId": "13b7e7c4-2dea-4cc2-c704-7efb1cd57719",
    "ExecuteTime": {
     "end_time": "2024-09-22T14:26:46.348054Z",
     "start_time": "2024-09-22T14:26:46.329133Z"
    }
   },
   "source": [
    "words_trust.head()"
   ],
   "outputs": [
    {
     "data": {
      "text/plain": [
       "   incredere_sist_fiscal all_responses_prep\n",
       "0                      1           injustet\n",
       "1                      1             social\n",
       "2                      1              impun\n",
       "3                      1              exces\n",
       "4                      1           privileg"
      ],
      "text/html": [
       "<div>\n",
       "<style scoped>\n",
       "    .dataframe tbody tr th:only-of-type {\n",
       "        vertical-align: middle;\n",
       "    }\n",
       "\n",
       "    .dataframe tbody tr th {\n",
       "        vertical-align: top;\n",
       "    }\n",
       "\n",
       "    .dataframe thead th {\n",
       "        text-align: right;\n",
       "    }\n",
       "</style>\n",
       "<table border=\"1\" class=\"dataframe\">\n",
       "  <thead>\n",
       "    <tr style=\"text-align: right;\">\n",
       "      <th></th>\n",
       "      <th>incredere_sist_fiscal</th>\n",
       "      <th>all_responses_prep</th>\n",
       "    </tr>\n",
       "  </thead>\n",
       "  <tbody>\n",
       "    <tr>\n",
       "      <th>0</th>\n",
       "      <td>1</td>\n",
       "      <td>injustet</td>\n",
       "    </tr>\n",
       "    <tr>\n",
       "      <th>1</th>\n",
       "      <td>1</td>\n",
       "      <td>social</td>\n",
       "    </tr>\n",
       "    <tr>\n",
       "      <th>2</th>\n",
       "      <td>1</td>\n",
       "      <td>impun</td>\n",
       "    </tr>\n",
       "    <tr>\n",
       "      <th>3</th>\n",
       "      <td>1</td>\n",
       "      <td>exces</td>\n",
       "    </tr>\n",
       "    <tr>\n",
       "      <th>4</th>\n",
       "      <td>1</td>\n",
       "      <td>privileg</td>\n",
       "    </tr>\n",
       "  </tbody>\n",
       "</table>\n",
       "</div>"
      ]
     },
     "execution_count": 80,
     "metadata": {},
     "output_type": "execute_result"
    }
   ],
   "execution_count": 80
  },
  {
   "cell_type": "code",
   "metadata": {
    "colab": {
     "base_uri": "https://localhost:8080/",
     "height": 197
    },
    "id": "pYH34MURxtyp",
    "outputId": "a28a23b3-a7a2-4825-9139-db2c193f0b2a",
    "ExecuteTime": {
     "end_time": "2024-09-22T14:26:51.469471Z",
     "start_time": "2024-09-22T14:26:51.463242Z"
    }
   },
   "source": [
    "trigrams_trust.head()"
   ],
   "outputs": [
    {
     "data": {
      "text/plain": [
       "   incredere_sist_fiscal              tri-grams\n",
       "0                      1  injustet social impun\n",
       "1                      1     social impun exces\n",
       "2                      1   impun exces privileg\n",
       "3                      1  exces privileg rezerv\n",
       "4                      1   privileg rezerv stat"
      ],
      "text/html": [
       "<div>\n",
       "<style scoped>\n",
       "    .dataframe tbody tr th:only-of-type {\n",
       "        vertical-align: middle;\n",
       "    }\n",
       "\n",
       "    .dataframe tbody tr th {\n",
       "        vertical-align: top;\n",
       "    }\n",
       "\n",
       "    .dataframe thead th {\n",
       "        text-align: right;\n",
       "    }\n",
       "</style>\n",
       "<table border=\"1\" class=\"dataframe\">\n",
       "  <thead>\n",
       "    <tr style=\"text-align: right;\">\n",
       "      <th></th>\n",
       "      <th>incredere_sist_fiscal</th>\n",
       "      <th>tri-grams</th>\n",
       "    </tr>\n",
       "  </thead>\n",
       "  <tbody>\n",
       "    <tr>\n",
       "      <th>0</th>\n",
       "      <td>1</td>\n",
       "      <td>injustet social impun</td>\n",
       "    </tr>\n",
       "    <tr>\n",
       "      <th>1</th>\n",
       "      <td>1</td>\n",
       "      <td>social impun exces</td>\n",
       "    </tr>\n",
       "    <tr>\n",
       "      <th>2</th>\n",
       "      <td>1</td>\n",
       "      <td>impun exces privileg</td>\n",
       "    </tr>\n",
       "    <tr>\n",
       "      <th>3</th>\n",
       "      <td>1</td>\n",
       "      <td>exces privileg rezerv</td>\n",
       "    </tr>\n",
       "    <tr>\n",
       "      <th>4</th>\n",
       "      <td>1</td>\n",
       "      <td>privileg rezerv stat</td>\n",
       "    </tr>\n",
       "  </tbody>\n",
       "</table>\n",
       "</div>"
      ]
     },
     "execution_count": 81,
     "metadata": {},
     "output_type": "execute_result"
    }
   ],
   "execution_count": 81
  },
  {
   "cell_type": "code",
   "metadata": {
    "colab": {
     "base_uri": "https://localhost:8080/",
     "height": 197
    },
    "id": "66yyzsekxt0q",
    "outputId": "4b35fbc2-ffab-4719-82ce-6c457d80632a",
    "ExecuteTime": {
     "end_time": "2024-09-22T14:26:52.093380Z",
     "start_time": "2024-09-22T14:26:52.075898Z"
    }
   },
   "source": [
    "bigrams_trust.head()"
   ],
   "outputs": [
    {
     "data": {
      "text/plain": [
       "   incredere_sist_fiscal         bi-grams\n",
       "0                      1  injustet social\n",
       "1                      1     social impun\n",
       "2                      1      impun exces\n",
       "3                      1   exces privileg\n",
       "4                      1  privileg rezerv"
      ],
      "text/html": [
       "<div>\n",
       "<style scoped>\n",
       "    .dataframe tbody tr th:only-of-type {\n",
       "        vertical-align: middle;\n",
       "    }\n",
       "\n",
       "    .dataframe tbody tr th {\n",
       "        vertical-align: top;\n",
       "    }\n",
       "\n",
       "    .dataframe thead th {\n",
       "        text-align: right;\n",
       "    }\n",
       "</style>\n",
       "<table border=\"1\" class=\"dataframe\">\n",
       "  <thead>\n",
       "    <tr style=\"text-align: right;\">\n",
       "      <th></th>\n",
       "      <th>incredere_sist_fiscal</th>\n",
       "      <th>bi-grams</th>\n",
       "    </tr>\n",
       "  </thead>\n",
       "  <tbody>\n",
       "    <tr>\n",
       "      <th>0</th>\n",
       "      <td>1</td>\n",
       "      <td>injustet social</td>\n",
       "    </tr>\n",
       "    <tr>\n",
       "      <th>1</th>\n",
       "      <td>1</td>\n",
       "      <td>social impun</td>\n",
       "    </tr>\n",
       "    <tr>\n",
       "      <th>2</th>\n",
       "      <td>1</td>\n",
       "      <td>impun exces</td>\n",
       "    </tr>\n",
       "    <tr>\n",
       "      <th>3</th>\n",
       "      <td>1</td>\n",
       "      <td>exces privileg</td>\n",
       "    </tr>\n",
       "    <tr>\n",
       "      <th>4</th>\n",
       "      <td>1</td>\n",
       "      <td>privileg rezerv</td>\n",
       "    </tr>\n",
       "  </tbody>\n",
       "</table>\n",
       "</div>"
      ]
     },
     "execution_count": 82,
     "metadata": {},
     "output_type": "execute_result"
    }
   ],
   "execution_count": 82
  },
  {
   "cell_type": "code",
   "metadata": {
    "colab": {
     "base_uri": "https://localhost:8080/",
     "height": 197
    },
    "id": "tZqHglE3w_pw",
    "outputId": "869be1eb-6de2-45c3-f995-ee12724ad92d"
   },
   "source": [
    "df_responses_trust.head()"
   ],
   "execution_count": null,
   "outputs": [
    {
     "output_type": "execute_result",
     "data": {
      "text/html": [
       "<div>\n",
       "<style scoped>\n",
       "    .dataframe tbody tr th:only-of-type {\n",
       "        vertical-align: middle;\n",
       "    }\n",
       "\n",
       "    .dataframe tbody tr th {\n",
       "        vertical-align: top;\n",
       "    }\n",
       "\n",
       "    .dataframe thead th {\n",
       "        text-align: right;\n",
       "    }\n",
       "</style>\n",
       "<table border=\"1\" class=\"dataframe\">\n",
       "  <thead>\n",
       "    <tr style=\"text-align: right;\">\n",
       "      <th></th>\n",
       "      <th>incredere_sist_fiscal</th>\n",
       "      <th>all_responses</th>\n",
       "      <th>bi-grams</th>\n",
       "      <th>tri-grams</th>\n",
       "    </tr>\n",
       "  </thead>\n",
       "  <tbody>\n",
       "    <tr>\n",
       "      <th>0</th>\n",
       "      <td>1</td>\n",
       "      <td>[injustet, social, impun, exces, privileg, rez...</td>\n",
       "      <td>[injustet social, social impun, impun exces, e...</td>\n",
       "      <td>[injustet social impun, social impun exces, im...</td>\n",
       "    </tr>\n",
       "    <tr>\n",
       "      <th>1</th>\n",
       "      <td>1</td>\n",
       "      <td>[eficient, utilizar, sum, ban, stran, tax, imp...</td>\n",
       "      <td>[eficient utilizar, utilizar sum, sum ban, ban...</td>\n",
       "      <td>[eficient utilizar sum, utilizar sum ban, sum ...</td>\n",
       "    </tr>\n",
       "    <tr>\n",
       "      <th>2</th>\n",
       "      <td>0</td>\n",
       "      <td>[ganiz, probabil, deficitar, circuit, lung, pa...</td>\n",
       "      <td>[ganiz probabil, probabil deficitar, deficitar...</td>\n",
       "      <td>[ganiz probabil deficitar, probabil deficitar ...</td>\n",
       "    </tr>\n",
       "    <tr>\n",
       "      <th>3</th>\n",
       "      <td>1</td>\n",
       "      <td>[incred, sist, stiu, schimb, privint, stiu]</td>\n",
       "      <td>[incred sist, sist stiu, stiu schimb, schimb p...</td>\n",
       "      <td>[incred sist stiu, sist stiu schimb, stiu schi...</td>\n",
       "    </tr>\n",
       "    <tr>\n",
       "      <th>4</th>\n",
       "      <td>0</td>\n",
       "      <td>[scalitat, roman, plin, contradict, mplific, l...</td>\n",
       "      <td>[scalitat roman, roman plin, plin contradict, ...</td>\n",
       "      <td>[scalitat roman plin, roman plin contradict, p...</td>\n",
       "    </tr>\n",
       "  </tbody>\n",
       "</table>\n",
       "</div>"
      ],
      "text/plain": [
       "   incredere_sist_fiscal  ...                                          tri-grams\n",
       "0                      1  ...  [injustet social impun, social impun exces, im...\n",
       "1                      1  ...  [eficient utilizar sum, utilizar sum ban, sum ...\n",
       "2                      0  ...  [ganiz probabil deficitar, probabil deficitar ...\n",
       "3                      1  ...  [incred sist stiu, sist stiu schimb, stiu schi...\n",
       "4                      0  ...  [scalitat roman plin, roman plin contradict, p...\n",
       "\n",
       "[5 rows x 4 columns]"
      ]
     },
     "metadata": {
      "tags": []
     },
     "execution_count": 30
    }
   ]
  },
  {
   "cell_type": "markdown",
   "metadata": {
    "id": "vbWBnM4wDcSh"
   },
   "source": "## 4.5. Topic analysis for each answer (selected no of topics 2)"
  },
  {
   "cell_type": "code",
   "metadata": {
    "colab": {
     "base_uri": "https://localhost:8080/",
     "height": 1000
    },
    "id": "PqSf-iJgrDes",
    "outputId": "153e098f-6ec3-46d1-bd49-06544dc03663",
    "ExecuteTime": {
     "end_time": "2024-09-22T14:48:07.460791Z",
     "start_time": "2024-09-22T14:47:53.742249Z"
    }
   },
   "source": [
    "# Create the dictionary\n",
    "for column in ['nemultumiri_sist_fiscal_prep', 'schimbari_sist_fiscal_prep', 'ce_ofera_sistemul_prep']:\n",
    "  responses_list = df_text[column].to_list()\n",
    "  dictionary_responses = Dictionary(responses_list)\n",
    "  responses_bow = [dictionary_responses.doc2bow(response) for response in responses_list]\n",
    "  # Build the LDA model\n",
    "  ldamodel = LdaModel(responses_bow,\n",
    "                      num_topics = 2,\n",
    "                      id2word = dictionary_responses,\n",
    "                      passes  = 15,\n",
    "                      alpha='symmetric',\n",
    "                      iterations=100,\n",
    "                      random_state = 5)\n",
    "\n",
    "  lda_display = gensimvis.prepare(ldamodel,\n",
    "                                responses_bow,\n",
    "                                dictionary_responses,\n",
    "                                sort_topics=True)\n",
    "  pyLDAvis.display(lda_display)\n",
    "  pyLDAvis.save_html(lda_display, f'Results/lda_result_topic_analysis_for_{column}.html')"
   ],
   "outputs": [
    {
     "data": {
      "text/plain": [
       "<IPython.core.display.HTML object>"
      ],
      "text/html": [
       "\n",
       "<link rel=\"stylesheet\" type=\"text/css\" href=\"https://cdn.jsdelivr.net/gh/bmabey/pyLDAvis@3.4.0/pyLDAvis/js/ldavis.v1.0.0.css\">\n",
       "\n",
       "\n",
       "<div id=\"ldavis_el1772826999395586089539224135\" style=\"background-color:white;\"></div>\n",
       "<script type=\"text/javascript\">\n",
       "\n",
       "var ldavis_el1772826999395586089539224135_data = {\"mdsDat\": {\"x\": [0.09606879885740606, -0.09606879885740606], \"y\": [0.0, 0.0], \"topics\": [1, 2], \"cluster\": [1, 1], \"Freq\": [51.23381103381125, 48.76618896618876]}, \"tinfo\": {\"Term\": [\"fiscal\", \"xel\", \"ban\", \"venitur\", \"mic\", \"servic\", \"pozit\", \"lips\", \"roman\", \"psa\", \"salar\", \"sist\", \"ridic\", \"tax\", \"ofer\", \"treb\", \"rocrat\", \"impoz\", \"cot\", \"part\", \"plat\", \"buget\", \"public\", \"mar\", \"indirect\", \"transparente\", \"bin\", \"cheltuiel\", \"dependent\", \"rupt\", \"xel\", \"psa\", \"ridic\", \"indirect\", \"dependent\", \"venitur\", \"lips\", \"predict\", \"rupt\", \"part\", \"cheltuiel\", \"schimbar\", \"eficiente\", \"parer\", \"transparente\", \"acciz\", \"lucru\", \"legisl\", \"veder\", \"treb\", \"taier\", \"structur\", \"buget\", \"himbar\", \"tul\", \"fiscal\", \"continu\", \"evaziun\", \"modific\", \"oarb\", \"acestor\", \"nivel\", \"bun\", \"roman\", \"sist\", \"stabil\", \"fondur\", \"transparent\", \"impoz\", \"stem\", \"mar\", \"tax\", \"nemultumest\", \"tar\", \"stat\", \"birocrat\", \"fapt\", \"servic\", \"rocrat\", \"cot\", \"ofer\", \"pozit\", \"ansparent\", \"ban\", \"europ\", \"firm\", \"administr\", \"raport\", \"profit\", \"benefic\", \"sanat\", \"mic\", \"instit\", \"ester\", \"stiu\", \"folos\", \"sustin\", \"salar\", \"societ\", \"put\", \"cheltu\", \"lei\", \"deoarec\", \"pun\", \"merg\", \"distribu\", \"proven\", \"bin\", \"angaj\", \"redus\", \"plat\", \"platit\", \"gandit\", \"fizic\", \"public\", \"tax\", \"venit\", \"impoz\", \"mar\", \"ptul\", \"incred\", \"stat\", \"persoan\", \"fapt\", \"nemultumest\", \"trebui\", \"nevoi\", \"tar\", \"transparent\", \"birocrat\", \"sist\", \"roman\", \"fiscal\"], \"Freq\": [119.0, 48.0, 44.0, 40.0, 44.0, 26.0, 25.0, 28.0, 66.0, 25.0, 31.0, 69.0, 22.0, 135.0, 18.0, 24.0, 17.0, 161.0, 14.0, 16.0, 32.0, 19.0, 35.0, 126.0, 13.0, 15.0, 16.0, 12.0, 11.0, 11.0, 47.52550361535699, 24.959474205287925, 21.828790895699296, 13.218778106589184, 10.84716483979706, 39.47706771904045, 27.06819774716756, 10.039107636563562, 10.757079790483656, 16.12253248485168, 11.498616115934901, 8.366347742075853, 6.829639197465667, 6.8143766169854825, 14.343365997944801, 6.793241300157261, 6.781638336793247, 6.00423697501434, 6.754064752512689, 23.168306517476456, 5.222407684937724, 5.216540018091618, 17.86221656416415, 5.198662137893042, 5.191956313394349, 110.47080085167013, 5.184531746177442, 8.872863084563141, 6.650536510634329, 4.419305074924765, 7.353851044638001, 8.773427057299061, 10.14812220608722, 55.08391018946576, 56.81821609050746, 19.80334011909382, 8.460005663694606, 26.023157100444827, 58.77333147076662, 10.02285706648483, 45.14971420552972, 43.837902848527335, 15.716736880172991, 12.265407573450274, 14.831663803604142, 9.362166904716783, 9.403764421172392, 26.02629012781445, 16.823791271695328, 13.707794894084877, 17.48815193945311, 25.0760101466443, 9.001320999417825, 42.389107519475516, 6.675910685333026, 7.413209504837217, 6.635890431152603, 7.371763632310166, 6.623086673448265, 5.879888077980817, 5.864676478232586, 41.56213950417645, 5.8161084116037625, 5.08234227329022, 5.782324634522995, 6.500574104701983, 4.3213376564200345, 28.712631192558735, 4.3063482901447925, 9.234334270254552, 4.250291572046794, 3.5378520729897467, 3.5324715566612053, 3.5323125886883675, 3.5298358515871073, 3.5256509459817638, 3.5255249511297677, 14.581106496689658, 8.966389864961432, 8.95997753121729, 26.46400803891175, 8.844898122590473, 4.876469902018379, 7.494563040400354, 28.05757591480625, 91.59382667158415, 10.536867977893952, 102.93551652283439, 81.66000222424206, 23.75692661308398, 9.253817899707911, 27.957391242278604, 11.783196186280335, 17.538697857184122, 21.586658317522623, 10.333736396764255, 9.312929322781432, 13.952983020662575, 16.223290156412247, 11.288047140901664, 12.837394576783666, 11.388251114768341, 9.111668899240955], \"Total\": [119.0, 48.0, 44.0, 40.0, 44.0, 26.0, 25.0, 28.0, 66.0, 25.0, 31.0, 69.0, 22.0, 135.0, 18.0, 24.0, 17.0, 161.0, 14.0, 16.0, 32.0, 19.0, 35.0, 126.0, 13.0, 15.0, 16.0, 12.0, 11.0, 11.0, 48.21997631553793, 25.70871653253889, 22.494780180956205, 13.656730012912947, 11.245865965287843, 40.96689089765302, 28.11388170045456, 10.441837179372769, 11.243780411906219, 16.86560629180082, 12.046368615188802, 8.832511638243545, 7.226256917656449, 7.225887096228552, 15.253961889922616, 7.225385413461577, 7.225144471496813, 6.421833474738591, 7.224539482119183, 24.883126879560198, 5.61840662296442, 5.6182685720128385, 19.26263620846765, 5.617838432111272, 5.61761343430286, 119.58246975091109, 5.617499249243261, 9.629874267791894, 7.222233460269098, 4.81449550130546, 8.02392397048889, 9.627671684703069, 11.230326035299452, 66.4721613042341, 69.65561066729113, 24.80983027459253, 9.620746105268324, 42.246447256857074, 161.708847993601, 12.800495341356282, 126.80971642977178, 135.4317295201115, 37.303395197695615, 26.218390594112847, 42.78905504588275, 20.650214045618448, 26.942462278356516, 26.753598966506164, 17.311351816872456, 14.165097588913872, 18.10052017209311, 25.970792164327953, 9.446316633392392, 44.87944176215514, 7.086383785664902, 7.873858845447892, 7.087244135875348, 7.8747415890056205, 7.087535500141582, 6.300180768348113, 6.300486632371597, 44.89787994228803, 6.301509806621665, 5.513979769676672, 6.302181673921999, 7.090190271856272, 4.727046234648909, 31.517260754647914, 4.727344373905012, 10.244918005220699, 4.728505047014316, 3.9405800657222043, 3.9406799978249163, 3.940674558309863, 3.9407396835587427, 3.940817208135987, 3.9408155216959235, 16.557274532731665, 10.250843654793316, 10.251018997988975, 32.37121080402131, 10.253613572281411, 5.51845451698787, 8.675777409144445, 35.551443786387786, 135.4317295201115, 12.627658860790254, 161.708847993601, 126.80971642977178, 32.4314730352194, 11.04835736958147, 42.78905504588275, 15.01168933956919, 26.942462278356516, 37.303395197695615, 14.240017733639348, 12.654881590592428, 26.218390594112847, 42.246447256857074, 20.650214045618448, 69.65561066729113, 66.4721613042341, 119.58246975091109], \"Category\": [\"Default\", \"Default\", \"Default\", \"Default\", \"Default\", \"Default\", \"Default\", \"Default\", \"Default\", \"Default\", \"Default\", \"Default\", \"Default\", \"Default\", \"Default\", \"Default\", \"Default\", \"Default\", \"Default\", \"Default\", \"Default\", \"Default\", \"Default\", \"Default\", \"Default\", \"Default\", \"Default\", \"Default\", \"Default\", \"Default\", \"Topic1\", \"Topic1\", \"Topic1\", \"Topic1\", \"Topic1\", \"Topic1\", \"Topic1\", \"Topic1\", \"Topic1\", \"Topic1\", \"Topic1\", \"Topic1\", \"Topic1\", \"Topic1\", \"Topic1\", \"Topic1\", \"Topic1\", \"Topic1\", \"Topic1\", \"Topic1\", \"Topic1\", \"Topic1\", \"Topic1\", \"Topic1\", \"Topic1\", \"Topic1\", \"Topic1\", \"Topic1\", \"Topic1\", \"Topic1\", \"Topic1\", \"Topic1\", \"Topic1\", \"Topic1\", \"Topic1\", \"Topic1\", \"Topic1\", \"Topic1\", \"Topic1\", \"Topic1\", \"Topic1\", \"Topic1\", \"Topic1\", \"Topic1\", \"Topic1\", \"Topic1\", \"Topic1\", \"Topic2\", \"Topic2\", \"Topic2\", \"Topic2\", \"Topic2\", \"Topic2\", \"Topic2\", \"Topic2\", \"Topic2\", \"Topic2\", \"Topic2\", \"Topic2\", \"Topic2\", \"Topic2\", \"Topic2\", \"Topic2\", \"Topic2\", \"Topic2\", \"Topic2\", \"Topic2\", \"Topic2\", \"Topic2\", \"Topic2\", \"Topic2\", \"Topic2\", \"Topic2\", \"Topic2\", \"Topic2\", \"Topic2\", \"Topic2\", \"Topic2\", \"Topic2\", \"Topic2\", \"Topic2\", \"Topic2\", \"Topic2\", \"Topic2\", \"Topic2\", \"Topic2\", \"Topic2\", \"Topic2\", \"Topic2\", \"Topic2\", \"Topic2\", \"Topic2\", \"Topic2\", \"Topic2\", \"Topic2\", \"Topic2\", \"Topic2\", \"Topic2\", \"Topic2\", \"Topic2\", \"Topic2\", \"Topic2\", \"Topic2\"], \"logprob\": [30.0, 29.0, 28.0, 27.0, 26.0, 25.0, 24.0, 23.0, 22.0, 21.0, 20.0, 19.0, 18.0, 17.0, 16.0, 15.0, 14.0, 13.0, 12.0, 11.0, 10.0, 9.0, 8.0, 7.0, 6.0, 5.0, 4.0, 3.0, 2.0, 1.0, -3.93, -4.574, -4.708, -5.2096, -5.4073, -4.1155, -4.4929, -5.4847, -5.4157, -5.011, -5.349, -5.667, -5.8699, -5.8722, -5.1279, -5.8753, -5.877, -5.9988, -5.8811, -4.6484, -6.1383, -6.1394, -4.9085, -6.1428, -6.1441, -3.0865, -6.1455, -5.6082, -5.8965, -6.3052, -5.796, -5.6195, -5.4739, -3.7824, -3.7514, -4.8054, -5.6559, -4.5322, -3.7175, -5.4863, -3.9812, -4.0107, -5.0365, -5.2844, -5.0945, -5.5545, -5.5501, -4.4827, -4.9191, -5.1239, -4.8803, -4.5199, -5.5445, -3.995, -5.8433, -5.7386, -5.8494, -5.7442, -5.8513, -5.9703, -5.9729, -4.0147, -5.9812, -6.1161, -5.987, -5.87, -6.2783, -4.3845, -6.2818, -5.5189, -6.2949, -6.4783, -6.4799, -6.4799, -6.4806, -6.4818, -6.4818, -5.0621, -5.5484, -5.5491, -4.4661, -5.562, -6.1574, -5.7277, -4.4076, -3.2245, -5.387, -3.1078, -3.3393, -4.574, -5.5168, -4.4112, -5.2752, -4.8774, -4.6698, -5.4064, -5.5105, -5.1062, -4.9554, -5.3181, -5.1895, -5.3093, -5.5323], \"loglift\": [30.0, 29.0, 28.0, 27.0, 26.0, 25.0, 24.0, 23.0, 22.0, 21.0, 20.0, 19.0, 18.0, 17.0, 16.0, 15.0, 14.0, 13.0, 12.0, 11.0, 10.0, 9.0, 8.0, 7.0, 6.0, 5.0, 4.0, 3.0, 2.0, 1.0, 0.6543, 0.6392, 0.6387, 0.6362, 0.6327, 0.6317, 0.6309, 0.6294, 0.6245, 0.6237, 0.6222, 0.6145, 0.6123, 0.6101, 0.6072, 0.6071, 0.6054, 0.6015, 0.6014, 0.5974, 0.5957, 0.5946, 0.5933, 0.5912, 0.59, 0.5895, 0.5886, 0.5869, 0.5863, 0.5831, 0.5816, 0.5759, 0.5674, 0.4808, 0.4651, 0.4434, 0.5402, 0.1842, -0.3433, 0.4242, -0.3639, -0.4592, -0.1956, -0.0909, -0.3907, -0.1223, -0.3838, 0.6906, 0.6896, 0.6853, 0.6837, 0.6831, 0.6699, 0.661, 0.6585, 0.6578, 0.6523, 0.6521, 0.6504, 0.6491, 0.6465, 0.6409, 0.638, 0.6366, 0.632, 0.6313, 0.6284, 0.6249, 0.6249, 0.6143, 0.6115, 0.6103, 0.6088, 0.6087, 0.608, 0.6068, 0.6068, 0.591, 0.5843, 0.5835, 0.5166, 0.5703, 0.5945, 0.5718, 0.4814, 0.327, 0.5371, 0.2664, 0.278, 0.4069, 0.5409, 0.2925, 0.476, 0.2888, 0.1711, 0.3975, 0.4115, 0.0874, -0.2389, 0.1142, -0.9731, -1.0461, -1.8563]}, \"token.table\": {\"Topic\": [1, 1, 2, 2, 1, 2, 2, 1, 2, 2, 1, 2, 1, 2, 1, 2, 1, 2, 2, 1, 2, 1, 2, 2, 1, 2, 1, 2, 2, 1, 2, 1, 2, 2, 1, 2, 1, 2, 1, 2, 1, 2, 1, 2, 1, 1, 2, 1, 2, 1, 2, 1, 2, 1, 2, 1, 1, 2, 2, 1, 2, 1, 2, 1, 2, 1, 2, 1, 2, 1, 1, 2, 1, 1, 2, 1, 2, 1, 2, 1, 2, 1, 2, 1, 2, 2, 1, 2, 1, 2, 1, 2, 2, 1, 2, 1, 2, 1, 2, 1, 2, 2, 1, 2, 1, 1, 2, 2, 1, 1, 2, 1, 2, 2, 1, 2, 1, 2, 1, 2, 1, 2, 1, 2, 1, 1, 2, 1, 2, 1, 2, 1, 2, 1, 2, 1, 2, 1, 1, 1, 2, 1, 2, 1, 2], \"Freq\": [0.9688064510660341, 0.8723911175810278, 0.1246273025115754, 0.9876899773448297, 0.09755294624285854, 0.8779765161857269, 0.9527523106927541, 0.044563834162627936, 0.9358405174151866, 0.9523536261282833, 0.12079282710727841, 0.9059462033045881, 0.4358308335263777, 0.5326821298655727, 0.934451536393933, 0.05191397424410739, 0.8904460982314976, 0.08904460982314975, 0.8459333256978735, 0.913138253641892, 0.08301256851289927, 0.8900757753859166, 0.9883447616313576, 1.0150532401026793, 0.9781372136172752, 1.0150178982526334, 0.9686896106470255, 0.9067860617655458, 0.9878098917194341, 0.9345916415649814, 0.10384351572944238, 0.33404519256689846, 0.6680903851337969, 0.8890177151253993, 0.9198672700867337, 0.07526186755255095, 0.1152634458954629, 0.8068441212682403, 0.14103993851468127, 0.987279569602769, 0.8315363395380736, 0.1039420424422592, 0.18121015529286788, 0.9060507764643394, 0.8900220361305267, 0.36485325776567706, 0.6369472127095718, 0.18102238487564085, 0.8146007319403838, 0.9519116206960243, 0.9521527672138451, 0.9343126108146611, 1.0150789815932608, 0.9603796547085652, 0.03556961684105797, 0.9688387585348628, 0.3548623975113244, 0.6466381465761911, 1.0150378662890367, 0.06681829974725345, 0.9354561964615483, 0.9692292610739258, 0.13846132301056083, 0.4289153819700676, 0.589758650208843, 0.2370626685460403, 0.7111880056381209, 0.9348054539811173, 0.10386727266456858, 0.8308243301744476, 0.05524703105172485, 0.9391995278793225, 0.9687391882518548, 0.9486762422397094, 0.059292265139981835, 0.19984426350286402, 0.7993770540114561, 0.18534987882673362, 0.803182808249179, 0.09752659322985406, 0.8777393390686865, 0.038504793911274864, 0.9626198477818717, 0.9576858773238112, 0.9876493740116246, 1.0150183326213165, 0.9724328310344904, 0.038897313241379614, 0.2775082090852404, 0.7400218908939743, 0.19689776994880345, 0.7875910797952138, 1.0150546412326882, 0.09760937076220726, 0.8784843368598654, 0.12698829399000947, 0.8889180579300663, 0.09755127760432188, 0.8779614984388969, 0.9780046669949201, 0.044454757590678184, 0.9820145867193919, 0.8274140470365094, 0.1654828094073019, 0.9783186434654954, 0.09518593710773497, 0.9201307253747714, 0.9523073930785423, 0.9057446316131772, 0.03737814868391866, 0.9718318657818852, 0.8183116830639754, 0.18663248911985403, 0.8461410220249744, 0.806132076626166, 0.2015330191565415, 0.3505569352703743, 0.654372945838032, 0.7812197679328592, 0.23436593037985776, 0.15867520990991615, 0.952051259459497, 0.8899538952102225, 0.8461943889357983, 0.8899320279816038, 0.45769399753677154, 0.5339763304595668, 0.3248869386510052, 0.679309053543011, 0.6154363665640525, 0.3787300717317246, 0.9177943475294091, 0.0655567391092435, 0.9243211317984694, 0.08037575059117126, 0.2808985265903677, 0.7022463164759193, 0.8900576834761317, 0.968919889956319, 0.15838248578365838, 0.871103671810121, 0.9519882799364278, 0.02440995589580584, 0.9954380667029269, 0.020738293056310978], \"Term\": [\"acciz\", \"acestor\", \"acestor\", \"administr\", \"angaj\", \"angaj\", \"ansparent\", \"ban\", \"ban\", \"benefic\", \"bin\", \"bin\", \"birocrat\", \"birocrat\", \"buget\", \"buget\", \"bun\", \"bun\", \"cheltu\", \"cheltuiel\", \"cheltuiel\", \"continu\", \"cot\", \"deoarec\", \"dependent\", \"distribu\", \"eficiente\", \"ester\", \"europ\", \"evaziun\", \"evaziun\", \"fapt\", \"fapt\", \"firm\", \"fiscal\", \"fiscal\", \"fizic\", \"fizic\", \"folos\", \"folos\", \"fondur\", \"fondur\", \"gandit\", \"gandit\", \"himbar\", \"impoz\", \"impoz\", \"incred\", \"incred\", \"indirect\", \"instit\", \"legisl\", \"lei\", \"lips\", \"lips\", \"lucru\", \"mar\", \"mar\", \"merg\", \"mic\", \"mic\", \"modific\", \"modific\", \"nemultumest\", \"nemultumest\", \"nevoi\", \"nevoi\", \"nivel\", \"nivel\", \"oarb\", \"ofer\", \"ofer\", \"parer\", \"part\", \"part\", \"persoan\", \"persoan\", \"plat\", \"plat\", \"platit\", \"platit\", \"pozit\", \"pozit\", \"predict\", \"profit\", \"proven\", \"psa\", \"psa\", \"ptul\", \"ptul\", \"public\", \"public\", \"pun\", \"put\", \"put\", \"raport\", \"raport\", \"redus\", \"redus\", \"ridic\", \"ridic\", \"rocrat\", \"roman\", \"roman\", \"rupt\", \"salar\", \"salar\", \"sanat\", \"schimbar\", \"servic\", \"servic\", \"sist\", \"sist\", \"societ\", \"stabil\", \"stabil\", \"stat\", \"stat\", \"stem\", \"stem\", \"stiu\", \"stiu\", \"structur\", \"sustin\", \"taier\", \"tar\", \"tar\", \"tax\", \"tax\", \"transparent\", \"transparent\", \"transparente\", \"transparente\", \"treb\", \"treb\", \"trebui\", \"trebui\", \"tul\", \"veder\", \"venit\", \"venit\", \"venitur\", \"venitur\", \"xel\", \"xel\"]}, \"R\": 30, \"lambda.step\": 0.01, \"plot.opts\": {\"xlab\": \"PC1\", \"ylab\": \"PC2\"}, \"topic.order\": [1, 2]};\n",
       "\n",
       "function LDAvis_load_lib(url, callback){\n",
       "  var s = document.createElement('script');\n",
       "  s.src = url;\n",
       "  s.async = true;\n",
       "  s.onreadystatechange = s.onload = callback;\n",
       "  s.onerror = function(){console.warn(\"failed to load library \" + url);};\n",
       "  document.getElementsByTagName(\"head\")[0].appendChild(s);\n",
       "}\n",
       "\n",
       "if(typeof(LDAvis) !== \"undefined\"){\n",
       "   // already loaded: just create the visualization\n",
       "   !function(LDAvis){\n",
       "       new LDAvis(\"#\" + \"ldavis_el1772826999395586089539224135\", ldavis_el1772826999395586089539224135_data);\n",
       "   }(LDAvis);\n",
       "}else if(typeof define === \"function\" && define.amd){\n",
       "   // require.js is available: use it to load d3/LDAvis\n",
       "   require.config({paths: {d3: \"https://d3js.org/d3.v5\"}});\n",
       "   require([\"d3\"], function(d3){\n",
       "      window.d3 = d3;\n",
       "      LDAvis_load_lib(\"https://cdn.jsdelivr.net/gh/bmabey/pyLDAvis@3.4.0/pyLDAvis/js/ldavis.v3.0.0.js\", function(){\n",
       "        new LDAvis(\"#\" + \"ldavis_el1772826999395586089539224135\", ldavis_el1772826999395586089539224135_data);\n",
       "      });\n",
       "    });\n",
       "}else{\n",
       "    // require.js not available: dynamically load d3 & LDAvis\n",
       "    LDAvis_load_lib(\"https://d3js.org/d3.v5.js\", function(){\n",
       "         LDAvis_load_lib(\"https://cdn.jsdelivr.net/gh/bmabey/pyLDAvis@3.4.0/pyLDAvis/js/ldavis.v3.0.0.js\", function(){\n",
       "                 new LDAvis(\"#\" + \"ldavis_el1772826999395586089539224135\", ldavis_el1772826999395586089539224135_data);\n",
       "            })\n",
       "         });\n",
       "}\n",
       "</script>"
      ]
     },
     "execution_count": 98,
     "metadata": {},
     "output_type": "execute_result"
    },
    {
     "data": {
      "text/plain": [
       "<IPython.core.display.HTML object>"
      ],
      "text/html": [
       "\n",
       "<link rel=\"stylesheet\" type=\"text/css\" href=\"https://cdn.jsdelivr.net/gh/bmabey/pyLDAvis@3.4.0/pyLDAvis/js/ldavis.v1.0.0.css\">\n",
       "\n",
       "\n",
       "<div id=\"ldavis_el1772826999391401769737703010\" style=\"background-color:white;\"></div>\n",
       "<script type=\"text/javascript\">\n",
       "\n",
       "var ldavis_el1772826999391401769737703010_data = {\"mdsDat\": {\"x\": [0.09002935200060108, -0.09002935200060108], \"y\": [0.0, 0.0], \"topics\": [1, 2], \"cluster\": [1, 1], \"Freq\": [54.69967705369959, 45.30032294630041]}, \"tinfo\": {\"Term\": [\"impoz\", \"fiscal\", \"sist\", \"mic\", \"roman\", \"stiu\", \"locur\", \"salar\", \"munc\", \"contribu\", \"stabil\", \"ofer\", \"nevoi\", \"tax\", \"funct\", \"xel\", \"pozit\", \"crear\", \"trebui\", \"scad\", \"predict\", \"eficient\", \"acord\", \"eficiente\", \"tiner\", \"birocrat\", \"schimb\", \"ansparent\", \"venit\", \"numar\", \"roman\", \"nevoi\", \"trebui\", \"contribu\", \"stabil\", \"predict\", \"fac\", \"autor\", \"birocrat\", \"compet\", \"schimbar\", \"duc\", \"clar\", \"imbunatat\", \"direct\", \"lte\", \"apar\", \"legat\", \"dialog\", \"coerent\", \"eficient\", \"eficientiz\", \"declar\", \"corect\", \"povar\", \"resur\", \"facilit\", \"consider\", \"depun\", \"tul\", \"sist\", \"fiscal\", \"electron\", \"controal\", \"aferent\", \"administr\", \"punct\", \"numar\", \"incat\", \"priv\", \"veder\", \"transparent\", \"incuraj\", \"buget\", \"incerc\", \"econom\", \"plat\", \"tax\", \"stat\", \"invest\", \"reduc\", \"bun\", \"dezvolt\", \"public\", \"finant\", \"mar\", \"cetaten\", \"ban\", \"schimb\", \"impoz\", \"stiu\", \"locur\", \"salar\", \"xel\", \"pozit\", \"funct\", \"ofer\", \"mic\", \"ansparent\", \"ader\", \"tiner\", \"simplif\", \"infiint\", \"baze\", \"eficiente\", \"sigur\", \"acord\", \"mijloc\", \"subvent\", \"constranger\", \"popul\", \"birocr\", \"crear\", \"munc\", \"exact\", \"zvolt\", \"cheltu\", \"context\", \"ajutor\", \"esential\", \"concurente\", \"impoz\", \"termen\", \"manifest\", \"venit\", \"profit\", \"aloc\", \"scad\", \"impozit\", \"mod\", \"atrag\", \"strateg\", \"tax\", \"aduc\", \"part\", \"schimb\", \"colect\", \"public\", \"ban\", \"tar\", \"mar\", \"reduc\", \"ducer\", \"invest\", \"venitur\", \"firm\", \"finant\", \"stat\", \"cot\", \"crest\", \"cetaten\", \"transparent\", \"incerc\"], \"Freq\": [150.0, 157.0, 95.0, 46.0, 44.0, 24.0, 24.0, 24.0, 33.0, 32.0, 30.0, 20.0, 24.0, 190.0, 15.0, 14.0, 14.0, 18.0, 17.0, 31.0, 16.0, 20.0, 12.0, 12.0, 10.0, 15.0, 50.0, 9.0, 13.0, 34.0, 43.55789987989359, 23.782091161497313, 17.13662763342445, 31.761589696750114, 29.31246300566126, 16.160810898132443, 10.383437674079005, 8.77988741778097, 14.360297680013609, 8.774797228813547, 8.751602759498075, 9.526212323549087, 10.319241024997678, 9.504178690830374, 7.098889483140275, 7.084954673417838, 7.059254069203067, 6.27180970736908, 6.267465713707176, 6.2672136690488385, 19.567618240422878, 6.243337804552943, 6.241624775479167, 6.2372883352060775, 5.436570283944312, 5.433870543763293, 5.429658535632253, 5.4279864538767875, 5.4174697513663075, 5.404116950129367, 87.98546037358646, 143.64188231818576, 12.306418358062112, 8.478510384456142, 12.108374864094058, 12.723730368566999, 11.984546198056053, 29.369786070921382, 16.67363193227583, 11.071305711171268, 8.269330015001259, 38.6890299752979, 26.239873241074037, 16.306274855015893, 31.553287905678395, 20.804088907113215, 24.64980379607601, 80.37226144115957, 31.37935005824491, 35.48293605114806, 36.28383697392849, 15.135731756085743, 17.62805110969666, 27.85526323556543, 17.765201568322787, 17.824202280993287, 16.10975476030769, 17.17467604061705, 17.52443451703273, 22.34475918926433, 24.295449192003773, 24.198999411641378, 24.085534814349494, 13.97769712936723, 13.97676605540677, 14.625968239062349, 19.97767600888622, 44.260548459274155, 9.093510304301846, 7.571487520252178, 9.809820269202362, 8.297374904357007, 7.5285323506548325, 5.200143217819689, 11.094644389441, 5.152404606365367, 11.752347396879848, 5.858568894050339, 4.3926219159036295, 4.379229332253129, 4.373169449892366, 4.366581476077367, 16.73650614842821, 30.44343722476492, 4.335056655051192, 4.3325064079162106, 5.760154903204173, 6.473742760783227, 3.596394330418149, 6.469194062820808, 6.467755309918681, 128.3416684081604, 9.277266376331475, 6.4671212050927105, 11.817618710461614, 11.772325320472758, 13.310757130756288, 24.451477170345285, 13.22910049579397, 13.719540741359921, 10.189210520173038, 9.555020093342483, 110.46821954991509, 8.88735841364196, 12.78007657976483, 32.87548405953826, 13.035027544830468, 34.20283732048286, 26.004505902520958, 15.590193436873253, 24.582633489822218, 34.14718095878981, 17.213434627608976, 30.91016471540576, 19.197733657622887, 15.784852424487966, 19.034779911306746, 22.025371035198027, 16.266710196220362, 15.59224390668434, 15.814488758867322, 15.834412688072142, 15.454086753863972], \"Total\": [150.0, 157.0, 95.0, 46.0, 44.0, 24.0, 24.0, 24.0, 33.0, 32.0, 30.0, 20.0, 24.0, 190.0, 15.0, 14.0, 14.0, 18.0, 17.0, 31.0, 16.0, 20.0, 12.0, 12.0, 10.0, 15.0, 50.0, 9.0, 13.0, 34.0, 44.327509548987514, 24.252272852576773, 17.558226309959032, 32.6055410781566, 30.097161060810866, 16.715071193483233, 10.859330588635167, 9.188423362052653, 15.035452439152028, 9.188200363859709, 9.18712441577591, 10.02141539268815, 10.856492882329155, 10.02041837688063, 7.514013483535475, 7.513299273814282, 7.512246613911005, 6.67744094287117, 6.677245545463606, 6.677233224365191, 20.8662203127953, 6.676148053616713, 6.676088767295198, 6.675858493235199, 5.840479625240883, 5.84035239664908, 5.8401680324045495, 5.840088126629561, 5.8396214176819505, 5.838888117336173, 95.09829058881266, 157.5663646857506, 13.344726572512158, 9.175071984221644, 13.336146670167103, 14.163451383486908, 13.330737738847404, 34.90318495666455, 19.139023264800752, 12.490312141258336, 9.16600642252549, 54.52344266337004, 35.56755852345393, 20.72421322501769, 47.007374659542364, 29.726695120686898, 37.90020441950292, 190.84048099107466, 53.40472109344294, 66.39310076655381, 70.4310179327183, 19.872669300151102, 27.186636808057457, 62.05810055604829, 36.79998147962954, 42.406835770815505, 31.924243519175015, 43.179181943138005, 50.39991857657099, 150.6864275974247, 24.84228432861925, 24.84677480630642, 24.851868547700562, 14.43029961597382, 14.43035197335967, 15.237731212673735, 20.85336859997406, 46.533912960757426, 9.630099418070479, 8.025472873331992, 10.434679477297731, 8.82933876011709, 8.027443819296293, 5.6223176726805715, 12.0502182414835, 5.6244079721420315, 12.857243695462982, 6.429284914189805, 4.822011795122923, 4.822590794271982, 4.82281483447142, 4.823081163458812, 18.489824799367018, 33.769906723624196, 4.82447132744552, 4.824666588064573, 6.433612366465381, 7.238262140325041, 4.0211826553556325, 7.238470238661909, 7.238536548174421, 150.6864275974247, 10.458817943138607, 7.238564309043323, 13.691243166650017, 13.693338147896295, 16.134457764570566, 31.53134085970214, 16.138140111528173, 16.95285409719642, 12.091361541859788, 11.283137061275058, 190.84048099107466, 10.476487262959193, 16.15855990664118, 50.39991857657099, 16.983992090779516, 62.05810055604829, 43.179181943138005, 21.889985666972645, 42.406835770815505, 70.4310179327183, 26.001317506223497, 66.39310076655381, 33.44441087780791, 24.392253835674957, 36.79998147962954, 53.40472109344294, 27.718474536323733, 29.423252574751807, 31.924243519175015, 54.52344266337004, 47.007374659542364], \"Category\": [\"Default\", \"Default\", \"Default\", \"Default\", \"Default\", \"Default\", \"Default\", \"Default\", \"Default\", \"Default\", \"Default\", \"Default\", \"Default\", \"Default\", \"Default\", \"Default\", \"Default\", \"Default\", \"Default\", \"Default\", \"Default\", \"Default\", \"Default\", \"Default\", \"Default\", \"Default\", \"Default\", \"Default\", \"Default\", \"Default\", \"Topic1\", \"Topic1\", \"Topic1\", \"Topic1\", \"Topic1\", \"Topic1\", \"Topic1\", \"Topic1\", \"Topic1\", \"Topic1\", \"Topic1\", \"Topic1\", \"Topic1\", \"Topic1\", \"Topic1\", \"Topic1\", \"Topic1\", \"Topic1\", \"Topic1\", \"Topic1\", \"Topic1\", \"Topic1\", \"Topic1\", \"Topic1\", \"Topic1\", \"Topic1\", \"Topic1\", \"Topic1\", \"Topic1\", \"Topic1\", \"Topic1\", \"Topic1\", \"Topic1\", \"Topic1\", \"Topic1\", \"Topic1\", \"Topic1\", \"Topic1\", \"Topic1\", \"Topic1\", \"Topic1\", \"Topic1\", \"Topic1\", \"Topic1\", \"Topic1\", \"Topic1\", \"Topic1\", \"Topic1\", \"Topic1\", \"Topic1\", \"Topic1\", \"Topic1\", \"Topic1\", \"Topic1\", \"Topic1\", \"Topic1\", \"Topic1\", \"Topic1\", \"Topic1\", \"Topic1\", \"Topic2\", \"Topic2\", \"Topic2\", \"Topic2\", \"Topic2\", \"Topic2\", \"Topic2\", \"Topic2\", \"Topic2\", \"Topic2\", \"Topic2\", \"Topic2\", \"Topic2\", \"Topic2\", \"Topic2\", \"Topic2\", \"Topic2\", \"Topic2\", \"Topic2\", \"Topic2\", \"Topic2\", \"Topic2\", \"Topic2\", \"Topic2\", \"Topic2\", \"Topic2\", \"Topic2\", \"Topic2\", \"Topic2\", \"Topic2\", \"Topic2\", \"Topic2\", \"Topic2\", \"Topic2\", \"Topic2\", \"Topic2\", \"Topic2\", \"Topic2\", \"Topic2\", \"Topic2\", \"Topic2\", \"Topic2\", \"Topic2\", \"Topic2\", \"Topic2\", \"Topic2\", \"Topic2\", \"Topic2\", \"Topic2\", \"Topic2\", \"Topic2\", \"Topic2\", \"Topic2\", \"Topic2\", \"Topic2\", \"Topic2\", \"Topic2\", \"Topic2\", \"Topic2\", \"Topic2\", \"Topic2\", \"Topic2\", \"Topic2\"], \"logprob\": [30.0, 29.0, 28.0, 27.0, 26.0, 25.0, 24.0, 23.0, 22.0, 21.0, 20.0, 19.0, 18.0, 17.0, 16.0, 15.0, 14.0, 13.0, 12.0, 11.0, 10.0, 9.0, 8.0, 7.0, 6.0, 5.0, 4.0, 3.0, 2.0, 1.0, -4.3618, -4.967, -5.2947, -4.6776, -4.7579, -5.3533, -5.7957, -5.9634, -5.4714, -5.964, -5.9667, -5.8819, -5.8019, -5.8842, -6.176, -6.1779, -6.1816, -6.2998, -6.3005, -6.3006, -5.162, -6.3044, -6.3047, -6.3054, -6.4428, -6.4433, -6.444, -6.4443, -6.4463, -6.4487, -3.6587, -3.1686, -5.6258, -5.9984, -5.642, -5.5924, -5.6523, -4.7559, -5.3221, -5.7315, -6.0234, -4.4803, -4.8686, -5.3444, -4.6842, -5.1008, -4.9311, -3.7492, -4.6898, -4.5669, -4.5445, -5.4188, -5.2664, -4.8089, -5.2587, -5.2553, -5.3565, -5.2925, -5.2723, -5.0293, -4.7571, -4.761, -4.7657, -5.3099, -5.31, -5.2646, -4.9527, -4.1573, -5.7398, -5.923, -5.664, -5.8314, -5.9287, -6.2987, -5.5409, -6.3079, -5.4833, -6.1795, -6.4674, -6.4705, -6.4719, -6.4734, -5.1298, -4.5315, -6.4806, -6.4812, -6.1964, -6.0796, -6.6674, -6.0803, -6.0805, -3.0927, -5.7198, -6.0806, -5.4778, -5.4816, -5.3588, -4.7507, -5.3649, -5.3285, -5.626, -5.6903, -3.2426, -5.7627, -5.3995, -4.4546, -5.3797, -4.4151, -4.6891, -5.2007, -4.7453, -4.4167, -5.1017, -4.5163, -4.9926, -5.1883, -5.0011, -4.8552, -5.1582, -5.2006, -5.1864, -5.1852, -5.2095], \"loglift\": [30.0, 29.0, 28.0, 27.0, 26.0, 25.0, 24.0, 23.0, 22.0, 21.0, 20.0, 19.0, 18.0, 17.0, 16.0, 15.0, 14.0, 13.0, 12.0, 11.0, 10.0, 9.0, 8.0, 7.0, 6.0, 5.0, 4.0, 3.0, 2.0, 1.0, 0.5858, 0.5837, 0.579, 0.5771, 0.5769, 0.5696, 0.5585, 0.5578, 0.5574, 0.5573, 0.5547, 0.5526, 0.5526, 0.5504, 0.5465, 0.5446, 0.5411, 0.5406, 0.54, 0.5399, 0.5391, 0.5363, 0.536, 0.5354, 0.5316, 0.5312, 0.5304, 0.5301, 0.5283, 0.5259, 0.5256, 0.5108, 0.5223, 0.5244, 0.5067, 0.4961, 0.4969, 0.4307, 0.4654, 0.4827, 0.5004, 0.2602, 0.2992, 0.3636, 0.2047, 0.2464, 0.1731, -0.2615, 0.0716, -0.0232, -0.0599, 0.331, 0.1701, -0.1977, -0.1249, -0.2634, -0.0806, -0.3186, -0.4531, -1.3053, 0.7696, 0.7654, 0.7605, 0.76, 0.7599, 0.7509, 0.749, 0.7418, 0.7345, 0.7336, 0.7301, 0.7297, 0.7277, 0.7138, 0.7092, 0.7042, 0.702, 0.6989, 0.6986, 0.6954, 0.694, 0.6924, 0.6922, 0.6882, 0.6849, 0.6843, 0.6813, 0.6802, 0.6802, 0.6795, 0.6793, 0.6314, 0.672, 0.6792, 0.6447, 0.6407, 0.5995, 0.5376, 0.5931, 0.5802, 0.6207, 0.6256, 0.2451, 0.6274, 0.5573, 0.3646, 0.5272, 0.1961, 0.2848, 0.4525, 0.2466, 0.0679, 0.3794, 0.0273, 0.2368, 0.3566, 0.1326, -0.0938, 0.2589, 0.1568, 0.0894, -0.4446, -0.3206]}, \"token.table\": {\"Topic\": [1, 2, 2, 1, 2, 1, 2, 1, 2, 2, 1, 2, 1, 2, 1, 1, 2, 1, 1, 2, 2, 2, 1, 2, 1, 2, 1, 2, 1, 2, 1, 2, 1, 2, 1, 1, 2, 1, 1, 2, 1, 2, 1, 2, 1, 2, 1, 2, 1, 1, 2, 1, 2, 1, 2, 1, 1, 1, 2, 1, 1, 1, 1, 2, 1, 2, 1, 2, 1, 2, 1, 1, 2, 1, 2, 2, 1, 1, 1, 2, 1, 2, 1, 2, 1, 2, 1, 2, 1, 2, 1, 2, 1, 2, 1, 2, 1, 2, 2, 1, 2, 1, 1, 2, 1, 1, 2, 1, 2, 1, 2, 1, 2, 1, 2, 1, 2, 1, 1, 2, 1, 2, 1, 2, 1, 2, 2, 1, 2, 1, 2, 1, 2, 1, 2, 1, 2, 1, 2, 1, 2, 1, 1, 2, 1, 2, 1, 2, 1, 2, 1, 2, 1, 2, 1, 2, 1, 2, 1, 2, 1, 2, 1, 2, 2, 1, 2, 1, 2, 1, 2, 1, 2, 1, 2, 1, 1, 1, 2, 1, 2, 1, 2, 2, 2], \"Freq\": [0.07777716777297115, 0.9333260132756539, 0.9968259972048954, 0.9178553763496254, 0.07060425971920196, 0.19090368267532062, 0.8590665720389428, 0.8998101398242675, 0.07498417831868895, 0.9947322324870221, 0.18593745409825044, 0.8057289677590852, 0.10384108788363512, 0.9345697909527161, 0.9318117947615779, 0.16540734416683214, 0.8270367208341607, 0.9794933956971525, 0.39370824631154516, 0.6021420237705984, 0.8893129650598581, 0.8293453633551234, 0.9311326051981164, 0.06650947179986545, 0.7720437840643933, 0.19301094601609833, 0.7548054956002286, 0.25160183186674284, 0.5011865039304609, 0.5011865039304609, 0.15543367287908252, 0.9326020372744952, 0.9211077747102614, 0.09211077747102614, 0.8985757720886595, 0.23551588923381392, 0.7654266400098952, 0.9795171680626421, 0.13814947169841987, 0.8288968301905192, 0.8561514640851159, 0.8294296925940695, 0.13815470904665164, 0.8289282542799098, 0.9814282769696998, 0.03066963365530312, 0.8719277640281827, 0.10899097050352284, 0.8987608119734619, 0.396847235787995, 0.5772323429643563, 0.10816760146199267, 0.9194246124269376, 0.4758141529197709, 0.543787603336881, 0.8987298115915985, 0.8562198886490077, 0.6620899866019926, 0.3678277703344403, 0.8985741140036831, 0.931592685498666, 0.9978630371211061, 0.3461363062793192, 0.6538130229720474, 0.7064357445300414, 0.3027581762271606, 0.9584869564391532, 0.047924347821957654, 0.08298604887979938, 0.9128465376777932, 0.898721830584566, 0.8992316129367488, 0.07493596774472908, 0.13815073724539595, 0.8289044234723757, 0.8291063887652816, 0.9208670754038467, 0.8561397501334169, 0.48913068094786455, 0.5163046076671903, 0.3689695942257302, 0.655945945290187, 0.913900630297543, 0.08885145016781668, 0.06562656776412136, 0.9843985164618204, 0.9979623229177996, 0.09979623229177996, 0.1459985504386328, 0.8494461116429545, 0.18589502751044837, 0.8055451192119429, 0.8882375952416179, 0.10449854061666093, 0.680744249849403, 0.31909886711690766, 0.731003225393025, 0.25303957802066246, 0.9965812505307949, 0.5271632081632133, 0.4669159843731317, 0.8985478196412346, 0.04024667216552337, 0.9659201319725609, 0.9316812421404191, 0.1381489418765921, 0.8288936512595526, 0.4244598700379255, 0.5895275972748966, 0.042979407334315996, 0.945546961354952, 0.15553829288121016, 0.933229757287261, 0.17696135310314065, 0.8258196478146563, 0.08883649056398812, 0.8883649056398812, 0.9895979707093734, 0.8308697339800397, 0.171904082892422, 0.04795388309595428, 0.9590776619190857, 0.1856601093991673, 0.804527140729725, 0.6596270490598026, 0.34300606551109736, 0.8293911620677843, 0.8560940746015839, 0.9701773058512948, 0.9572199732082493, 0.05982624832551558, 0.8806825542545492, 0.0800620503867772, 0.14605642381709968, 0.876338542902598, 0.45119009040103586, 0.5478736812012578, 0.9001752367410641, 0.07501460306175535, 0.5111384310019523, 0.48274185150184384, 0.8561127241001357, 0.9926115959971634, 0.022559354454480988, 0.040238423041736464, 0.9657221530016752, 0.22200134244675204, 0.7611474598174356, 0.3571434341238701, 0.6547629625604285, 0.9796318840033792, 0.8889824537560655, 0.11325876457669619, 0.9060701166135695, 0.9253583787378014, 0.07360805285414329, 0.9635460281920255, 0.03322572511006985, 0.5804730249552075, 0.41194859835530856, 0.040253947131905346, 0.9660947311657283, 0.17725566827192196, 0.8862783413596098, 0.829529285690607, 0.2740979410074594, 0.7309278426865584, 0.4191982727382745, 0.5763976250151274, 0.09561309943788046, 0.8605178949409241, 0.0958342805043179, 0.9583428050431789, 0.7152886555749531, 0.2934517561333141, 0.9682071354985096, 0.8563274204817455, 0.8727901368626554, 0.10909876710783192, 0.14607877280798903, 0.8764726368479342, 0.4186050712972708, 0.5681068824748675, 0.9701808259408908, 0.8290728337363951], \"Term\": [\"acord\", \"acord\", \"ader\", \"administr\", \"administr\", \"aduc\", \"aduc\", \"aferent\", \"aferent\", \"ajutor\", \"aloc\", \"aloc\", \"ansparent\", \"ansparent\", \"apar\", \"atrag\", \"atrag\", \"autor\", \"ban\", \"ban\", \"baze\", \"birocr\", \"birocrat\", \"birocrat\", \"buget\", \"buget\", \"bun\", \"bun\", \"cetaten\", \"cetaten\", \"cheltu\", \"cheltu\", \"clar\", \"clar\", \"coerent\", \"colect\", \"colect\", \"compet\", \"concurente\", \"concurente\", \"consider\", \"constranger\", \"context\", \"context\", \"contribu\", \"contribu\", \"controal\", \"controal\", \"corect\", \"cot\", \"cot\", \"crear\", \"crear\", \"crest\", \"crest\", \"declar\", \"depun\", \"dezvolt\", \"dezvolt\", \"dialog\", \"direct\", \"duc\", \"ducer\", \"ducer\", \"econom\", \"econom\", \"eficient\", \"eficient\", \"eficiente\", \"eficiente\", \"eficientiz\", \"electron\", \"electron\", \"esential\", \"esential\", \"exact\", \"fac\", \"facilit\", \"finant\", \"finant\", \"firm\", \"firm\", \"fiscal\", \"fiscal\", \"funct\", \"funct\", \"imbunatat\", \"imbunatat\", \"impoz\", \"impoz\", \"impozit\", \"impozit\", \"incat\", \"incat\", \"incerc\", \"incerc\", \"incuraj\", \"incuraj\", \"infiint\", \"invest\", \"invest\", \"legat\", \"locur\", \"locur\", \"lte\", \"manifest\", \"manifest\", \"mar\", \"mar\", \"mic\", \"mic\", \"mijloc\", \"mijloc\", \"mod\", \"mod\", \"munc\", \"munc\", \"nevoi\", \"numar\", \"numar\", \"ofer\", \"ofer\", \"part\", \"part\", \"plat\", \"plat\", \"popul\", \"povar\", \"pozit\", \"predict\", \"predict\", \"priv\", \"priv\", \"profit\", \"profit\", \"public\", \"public\", \"punct\", \"punct\", \"reduc\", \"reduc\", \"resur\", \"roman\", \"roman\", \"salar\", \"salar\", \"scad\", \"scad\", \"schimb\", \"schimb\", \"schimbar\", \"sigur\", \"simplif\", \"simplif\", \"sist\", \"sist\", \"stabil\", \"stabil\", \"stat\", \"stat\", \"stiu\", \"stiu\", \"strateg\", \"strateg\", \"subvent\", \"tar\", \"tar\", \"tax\", \"tax\", \"termen\", \"termen\", \"tiner\", \"tiner\", \"transparent\", \"transparent\", \"trebui\", \"tul\", \"veder\", \"veder\", \"venit\", \"venit\", \"venitur\", \"venitur\", \"xel\", \"zvolt\"]}, \"R\": 30, \"lambda.step\": 0.01, \"plot.opts\": {\"xlab\": \"PC1\", \"ylab\": \"PC2\"}, \"topic.order\": [2, 1]};\n",
       "\n",
       "function LDAvis_load_lib(url, callback){\n",
       "  var s = document.createElement('script');\n",
       "  s.src = url;\n",
       "  s.async = true;\n",
       "  s.onreadystatechange = s.onload = callback;\n",
       "  s.onerror = function(){console.warn(\"failed to load library \" + url);};\n",
       "  document.getElementsByTagName(\"head\")[0].appendChild(s);\n",
       "}\n",
       "\n",
       "if(typeof(LDAvis) !== \"undefined\"){\n",
       "   // already loaded: just create the visualization\n",
       "   !function(LDAvis){\n",
       "       new LDAvis(\"#\" + \"ldavis_el1772826999391401769737703010\", ldavis_el1772826999391401769737703010_data);\n",
       "   }(LDAvis);\n",
       "}else if(typeof define === \"function\" && define.amd){\n",
       "   // require.js is available: use it to load d3/LDAvis\n",
       "   require.config({paths: {d3: \"https://d3js.org/d3.v5\"}});\n",
       "   require([\"d3\"], function(d3){\n",
       "      window.d3 = d3;\n",
       "      LDAvis_load_lib(\"https://cdn.jsdelivr.net/gh/bmabey/pyLDAvis@3.4.0/pyLDAvis/js/ldavis.v3.0.0.js\", function(){\n",
       "        new LDAvis(\"#\" + \"ldavis_el1772826999391401769737703010\", ldavis_el1772826999391401769737703010_data);\n",
       "      });\n",
       "    });\n",
       "}else{\n",
       "    // require.js not available: dynamically load d3 & LDAvis\n",
       "    LDAvis_load_lib(\"https://d3js.org/d3.v5.js\", function(){\n",
       "         LDAvis_load_lib(\"https://cdn.jsdelivr.net/gh/bmabey/pyLDAvis@3.4.0/pyLDAvis/js/ldavis.v3.0.0.js\", function(){\n",
       "                 new LDAvis(\"#\" + \"ldavis_el1772826999391401769737703010\", ldavis_el1772826999391401769737703010_data);\n",
       "            })\n",
       "         });\n",
       "}\n",
       "</script>"
      ]
     },
     "execution_count": 98,
     "metadata": {},
     "output_type": "execute_result"
    },
    {
     "data": {
      "text/plain": [
       "<IPython.core.display.HTML object>"
      ],
      "text/html": [
       "\n",
       "<link rel=\"stylesheet\" type=\"text/css\" href=\"https://cdn.jsdelivr.net/gh/bmabey/pyLDAvis@3.4.0/pyLDAvis/js/ldavis.v1.0.0.css\">\n",
       "\n",
       "\n",
       "<div id=\"ldavis_el1772826999395566885768308053\" style=\"background-color:white;\"></div>\n",
       "<script type=\"text/javascript\">\n",
       "\n",
       "var ldavis_el1772826999395566885768308053_data = {\"mdsDat\": {\"x\": [0.11097571876171874, -0.11097571876171874], \"y\": [0.0, 0.0], \"topics\": [1, 2], \"cluster\": [1, 1], \"Freq\": [63.77695119444189, 36.22304880555811]}, \"tinfo\": {\"Term\": [\"mic\", \"social\", \"fiscal\", \"ofer\", \"actual\", \"public\", \"gurant\", \"anum\", \"sigur\", \"econom\", \"pozit\", \"obiect\", \"sist\", \"lte\", \"etc\", \"protect\", \"mar\", \"rvic\", \"stem\", \"societ\", \"munc\", \"sanat\", \"stabil\", \"cred\", \"bin\", \"invatam\", \"moment\", \"abil\", \"cap\", \"igur\", \"rvic\", \"opin\", \"benefic\", \"mar\", \"buget\", \"calitat\", \"fiscal\", \"moment\", \"actual\", \"cheltuiel\", \"putin\", \"ban\", \"administr\", \"facil\", \"stiu\", \"salar\", \"spun\", \"avantaj\", \"stem\", \"ofer\", \"schimb\", \"infrastructur\", \"sist\", \"lucrur\", \"nesigur\", \"relat\", \"platit\", \"posibil\", \"baz\", \"public\", \"student\", \"cetatean\", \"impoz\", \"servic\", \"plat\", \"fiind\", \"benef\", \"tax\", \"stat\", \"financiar\", \"nevoi\", \"gratuit\", \"roman\", \"dezvolt\", \"contribu\", \"veder\", \"mic\", \"social\", \"gurant\", \"obiect\", \"etc\", \"protect\", \"pozit\", \"lte\", \"invatam\", \"polit\", \"abil\", \"exist\", \"domen\", \"actiun\", \"membr\", \"societ\", \"cred\", \"cultur\", \"nim\", \"nant\", \"bin\", \"ocup\", \"general\", \"dezvoltar\", \"urma\", \"ansparent\", \"otect\", \"utiliz\", \"constitu\", \"forte\", \"norm\", \"munc\", \"anum\", \"cap\", \"sigur\", \"sanat\", \"econom\", \"stabil\", \"igur\", \"neces\", \"tax\", \"locur\", \"stat\", \"servic\", \"impoz\", \"dezvolt\", \"bun\", \"plat\", \"ofer\"], \"Freq\": [65.0, 32.0, 109.0, 124.0, 57.0, 83.0, 13.0, 21.0, 24.0, 31.0, 13.0, 12.0, 58.0, 12.0, 11.0, 11.0, 34.0, 30.0, 40.0, 10.0, 11.0, 15.0, 15.0, 8.0, 8.0, 6.0, 20.0, 6.0, 8.0, 10.0, 29.559506005037225, 15.14842988106939, 14.330250399713593, 33.41739849783166, 13.490026670956825, 11.873008494691998, 105.91652507933584, 19.756758972254136, 56.06261392990344, 11.832537743886608, 11.822944933427914, 14.16870398633269, 10.207374570910305, 10.190473464017796, 9.374444218824912, 8.591959373922077, 8.585484197022934, 8.574225744285393, 38.83178506178461, 118.5263358967096, 6.9524410023161, 11.521475019975762, 55.286566664098395, 6.127197311840011, 6.125917196222623, 6.124202020332473, 15.98618409074702, 5.324426364342185, 5.313829752266499, 78.19241721661339, 6.0653990590212885, 6.812787251549773, 80.25968995171024, 52.29491319143285, 26.406547222351808, 6.8003274595405285, 17.90984396691635, 44.82684877991876, 30.26923074926111, 16.34196074590131, 12.957721773769455, 11.002076314089855, 12.13497684510689, 13.266892671802855, 10.561591215703826, 10.888910512769757, 64.36406788245226, 31.72336429515874, 13.514354518671704, 12.00913696257108, 11.278358975621327, 11.268787540054804, 12.640425981401854, 11.934638532076885, 6.221295502161419, 5.486291752508645, 6.169237983315259, 5.478584235214673, 5.478080885763003, 5.46522157835728, 5.465056167897742, 9.525719233901103, 8.138389169984585, 4.670345343556847, 3.994512101466272, 3.974645898528601, 7.272515579764911, 3.2955498673324466, 3.291421384961165, 3.949493001047015, 3.2871803692444588, 3.281738432916796, 3.2774252196019713, 2.564115322882432, 2.563706203159761, 2.5630903203626656, 3.1923100136699016, 9.87146573530572, 17.473053899824333, 6.770078597268178, 18.79958884074306, 11.267475102966001, 21.51257933946025, 11.607596292922851, 7.766165470554491, 7.264577233530475, 28.089429369782884, 6.299464824616288, 16.183603441604888, 11.886255972661713, 12.540665848595104, 7.195927147439735, 6.30152703206677, 7.177105606461693, 6.1852407673639425], \"Total\": [65.0, 32.0, 109.0, 124.0, 57.0, 83.0, 13.0, 21.0, 24.0, 31.0, 13.0, 12.0, 58.0, 12.0, 11.0, 11.0, 34.0, 30.0, 40.0, 10.0, 11.0, 15.0, 15.0, 8.0, 8.0, 6.0, 20.0, 6.0, 8.0, 10.0, 30.253825603130068, 15.532395477544185, 14.712662519113849, 34.32773199604104, 13.89057331017697, 12.25318795421382, 109.44831294474086, 20.418742181330536, 57.985006833637335, 12.248854940022051, 12.247823815623802, 14.695430927061667, 10.610598664835791, 10.60878732201435, 9.789250010781904, 8.973399240808234, 8.972714065535195, 8.971475995400365, 40.765514174768605, 124.71157666407353, 7.333615509133585, 12.215788771080026, 58.63553597492132, 6.513118598886375, 6.512983942227398, 6.51279478798715, 17.086977140744988, 5.6950560814725035, 5.693929048727498, 83.7862057694267, 6.50654193312525, 7.3186825583136565, 92.80035580030534, 64.18116916409456, 33.5836528288135, 7.317410258671074, 23.154237158495246, 72.91627814970164, 46.452834190866, 21.522057061495737, 17.498437177294225, 13.62639002817906, 16.678226960550578, 20.46281981924259, 12.846749933514289, 15.813087019341623, 65.33015950148041, 32.30942334334686, 13.973488499521325, 12.512383048746708, 11.779274855999603, 11.780377876369297, 13.257334323992787, 12.521207351248188, 6.640357985048556, 5.907708163615414, 6.646437185521804, 5.908608864357285, 5.908658553199876, 5.9101601512329625, 5.910181424300959, 10.34739605677056, 8.872239692266316, 5.184564765809779, 4.444916641210221, 4.447233849757684, 8.155226241424456, 3.708084096265559, 3.708566641075302, 4.450191276690097, 3.7090570177231084, 3.7096393084748267, 3.710165320107553, 2.97501945587071, 2.975067626866838, 2.975132532829899, 3.720194893934889, 11.946094808471436, 21.702413565141153, 8.214786497539459, 24.824557133922298, 15.059993075884744, 31.881676973738752, 15.839503358478748, 10.556230274611039, 9.795874871401347, 72.91627814970164, 9.090520300898879, 46.452834190866, 64.18116916409456, 92.80035580030534, 20.46281981924259, 14.009711293877992, 33.5836528288135, 124.71157666407353], \"Category\": [\"Default\", \"Default\", \"Default\", \"Default\", \"Default\", \"Default\", \"Default\", \"Default\", \"Default\", \"Default\", \"Default\", \"Default\", \"Default\", \"Default\", \"Default\", \"Default\", \"Default\", \"Default\", \"Default\", \"Default\", \"Default\", \"Default\", \"Default\", \"Default\", \"Default\", \"Default\", \"Default\", \"Default\", \"Default\", \"Default\", \"Topic1\", \"Topic1\", \"Topic1\", \"Topic1\", \"Topic1\", \"Topic1\", \"Topic1\", \"Topic1\", \"Topic1\", \"Topic1\", \"Topic1\", \"Topic1\", \"Topic1\", \"Topic1\", \"Topic1\", \"Topic1\", \"Topic1\", \"Topic1\", \"Topic1\", \"Topic1\", \"Topic1\", \"Topic1\", \"Topic1\", \"Topic1\", \"Topic1\", \"Topic1\", \"Topic1\", \"Topic1\", \"Topic1\", \"Topic1\", \"Topic1\", \"Topic1\", \"Topic1\", \"Topic1\", \"Topic1\", \"Topic1\", \"Topic1\", \"Topic1\", \"Topic1\", \"Topic1\", \"Topic1\", \"Topic1\", \"Topic1\", \"Topic1\", \"Topic1\", \"Topic1\", \"Topic2\", \"Topic2\", \"Topic2\", \"Topic2\", \"Topic2\", \"Topic2\", \"Topic2\", \"Topic2\", \"Topic2\", \"Topic2\", \"Topic2\", \"Topic2\", \"Topic2\", \"Topic2\", \"Topic2\", \"Topic2\", \"Topic2\", \"Topic2\", \"Topic2\", \"Topic2\", \"Topic2\", \"Topic2\", \"Topic2\", \"Topic2\", \"Topic2\", \"Topic2\", \"Topic2\", \"Topic2\", \"Topic2\", \"Topic2\", \"Topic2\", \"Topic2\", \"Topic2\", \"Topic2\", \"Topic2\", \"Topic2\", \"Topic2\", \"Topic2\", \"Topic2\", \"Topic2\", \"Topic2\", \"Topic2\", \"Topic2\", \"Topic2\", \"Topic2\", \"Topic2\", \"Topic2\", \"Topic2\", \"Topic2\"], \"logprob\": [30.0, 29.0, 28.0, 27.0, 26.0, 25.0, 24.0, 23.0, 22.0, 21.0, 20.0, 19.0, 18.0, 17.0, 16.0, 15.0, 14.0, 13.0, 12.0, 11.0, 10.0, 9.0, 8.0, 7.0, 6.0, 5.0, 4.0, 3.0, 2.0, 1.0, -4.4626, -5.1311, -5.1866, -4.3399, -5.2471, -5.3747, -3.1864, -4.8655, -3.8225, -5.3782, -5.379, -5.198, -5.5259, -5.5276, -5.611, -5.6982, -5.6989, -5.7002, -4.1898, -3.0739, -5.9099, -5.4048, -3.8365, -6.0363, -6.0365, -6.0368, -5.0773, -6.1767, -6.1787, -3.4898, -6.0464, -5.9302, -3.4637, -3.8921, -4.5754, -5.932, -4.9637, -4.0462, -4.4389, -5.0553, -5.2873, -5.4509, -5.3529, -5.2637, -5.4918, -5.4613, -3.1188, -3.8263, -4.6796, -4.7976, -4.8604, -4.8613, -4.7464, -4.8039, -5.4553, -5.5811, -5.4637, -5.5825, -5.5826, -5.5849, -5.5849, -5.0293, -5.1867, -5.7421, -5.8984, -5.9034, -5.2992, -6.0907, -6.092, -5.9097, -6.0933, -6.0949, -6.0963, -6.3417, -6.3419, -6.3421, -6.1226, -4.9937, -4.4227, -5.3708, -4.3495, -4.8614, -4.2147, -4.8317, -5.2335, -5.3003, -3.9479, -5.4428, -4.4993, -4.8079, -4.7543, -5.3098, -5.4425, -5.3124, -5.4611], \"loglift\": [30.0, 29.0, 28.0, 27.0, 26.0, 25.0, 24.0, 23.0, 22.0, 21.0, 20.0, 19.0, 18.0, 17.0, 16.0, 15.0, 14.0, 13.0, 12.0, 11.0, 10.0, 9.0, 8.0, 7.0, 6.0, 5.0, 4.0, 3.0, 2.0, 1.0, 0.4266, 0.4247, 0.4234, 0.4229, 0.4205, 0.4183, 0.417, 0.4168, 0.4161, 0.4152, 0.4145, 0.4133, 0.411, 0.4095, 0.4065, 0.4063, 0.4057, 0.4045, 0.4012, 0.3989, 0.3964, 0.3913, 0.391, 0.3887, 0.3885, 0.3883, 0.3832, 0.3825, 0.3807, 0.3807, 0.3796, 0.3781, 0.3046, 0.245, 0.2094, 0.3765, 0.193, -0.0367, 0.0215, 0.1744, 0.1494, 0.2359, 0.1318, 0.0164, 0.2539, 0.0767, 1.0006, 0.9972, 0.9821, 0.9744, 0.972, 0.9711, 0.9678, 0.9675, 0.9503, 0.9415, 0.941, 0.9399, 0.9398, 0.9372, 0.9372, 0.9327, 0.9291, 0.911, 0.9086, 0.9031, 0.9009, 0.8975, 0.8961, 0.8961, 0.8947, 0.8929, 0.8915, 0.8668, 0.8667, 0.8664, 0.8624, 0.8247, 0.7987, 0.8221, 0.7375, 0.7254, 0.6221, 0.7046, 0.7085, 0.7165, 0.0616, 0.6487, -0.039, -0.6709, -0.986, -0.0296, 0.2165, -0.5277, -1.9884]}, \"token.table\": {\"Topic\": [2, 2, 1, 2, 1, 2, 1, 2, 1, 1, 2, 1, 1, 2, 1, 1, 2, 1, 1, 2, 1, 1, 2, 1, 2, 1, 2, 1, 2, 1, 2, 1, 2, 1, 2, 1, 2, 2, 1, 2, 1, 2, 2, 1, 1, 2, 1, 2, 1, 2, 2, 2, 1, 2, 2, 1, 2, 1, 2, 1, 2, 2, 1, 2, 1, 2, 1, 1, 2, 2, 1, 2, 1, 2, 1, 2, 2, 1, 2, 1, 1, 2, 2, 1, 2, 1, 2, 2, 1, 2, 1, 2, 1, 2, 1, 2, 2, 1, 1, 2, 1, 2, 1, 2, 1, 1, 1, 2, 1, 2, 1, 1, 2, 1, 1, 2, 1, 2, 1, 2, 1, 2, 1, 2, 1, 1, 2, 1, 2, 1, 2, 1, 1, 1, 2, 2, 2, 1, 2], \"Freq\": [0.9027392921233103, 0.8460007634407187, 0.9657668948917701, 0.03449167481756322, 0.9424538912343038, 0.8087039602870214, 0.1843112973584136, 0.7833230137732577, 1.0031794104575724, 0.9526770646935553, 0.06804836176382538, 0.8781282585734748, 0.7773955098061106, 0.21594319716836405, 0.9515612814344108, 0.12262075513251881, 0.8583452859276317, 0.9358864972459784, 0.5710324668500389, 0.4282743501375292, 0.9793369729445186, 0.1217317090711397, 0.8521219634979779, 0.9564562944526609, 0.13663661349323727, 0.9796834119400876, 1.008380439122797, 0.8562476935355819, 0.15568139882465126, 0.11271111181449169, 0.9016888945159335, 0.1928802214208254, 0.9644011071041271, 0.6352985617248709, 0.34208384092877664, 0.22470944231946957, 0.8988377692778783, 0.8462157620010408, 0.31365978672442785, 0.6900515307937413, 0.08489486935527822, 0.9338435629080605, 0.8462228783092549, 0.9426148056761349, 0.9566225963215681, 0.13666037090308117, 0.7434233611723374, 0.23231980036635544, 0.9684936857228501, 0.036546931536711326, 1.0083584401352526, 0.8089378701659646, 0.8072570928361991, 0.22016102531896337, 1.0018972714279317, 0.28419236052621444, 0.7578462947365718, 0.8620656603100737, 0.14008566980038697, 0.982335256844741, 0.08186127140372841, 0.9035657435200952, 0.3300141136809691, 0.6600282273619382, 0.07986450283488948, 0.9583740340186738, 0.9212176791968584, 0.9613218841199831, 0.029130966185454035, 0.8459977183511564, 0.01530686604212775, 0.979639426696176, 0.9794922636462199, 0.04897461318231099, 0.16741872821750275, 0.8370936410875138, 0.899435499713591, 0.30625135982069107, 0.7145865062482792, 0.9212367254736451, 0.7429234890112731, 0.2857398034658743, 0.8999043903129119, 0.26880312147901736, 0.806409364437052, 0.07992082692034945, 0.9590499230441933, 0.8090431398309774, 0.9542017123281314, 0.04811101070562007, 0.965723543524636, 0.8085893056412468, 0.7741861831567347, 0.2084347416191209, 0.9363856385016738, 0.05852410240635461, 0.8463518951044608, 0.8779544798981521, 0.07542994508256652, 0.9805892860733647, 0.08488692047866628, 0.933756125265329, 0.9309408306977177, 0.07161083313059367, 0.9797658898956672, 0.9212634813961896, 0.7195009414600183, 0.29979205894167427, 0.9916101320057915, 0.03305367106685972, 1.002964401613916, 0.2656043717845473, 0.7304120224075051, 0.9545087264640358, 0.8102064932324546, 0.18697072920748953, 0.24169615464362548, 0.7653711563714807, 0.9379977361087608, 0.05116351287865968, 0.03095072262272114, 0.9904231239270764, 0.09664267169378088, 0.9664267169378088, 1.0030409900800932, 0.2525331703571902, 0.7575995110715706, 0.645816353782325, 0.34443538868390666, 0.9566909872104262, 0.049061076267201346, 0.9193758449408665, 0.9221488252390397, 0.6171461454411072, 0.38400204605224453, 0.8088309200060829, 1.008396766642986, 0.695626349652377, 0.316193795296535], \"Term\": [\"abil\", \"actiun\", \"actual\", \"actual\", \"administr\", \"ansparent\", \"anum\", \"anum\", \"avantaj\", \"ban\", \"ban\", \"baz\", \"benef\", \"benef\", \"benefic\", \"bin\", \"bin\", \"buget\", \"bun\", \"bun\", \"calitat\", \"cap\", \"cap\", \"cetatean\", \"cetatean\", \"cheltuiel\", \"constitu\", \"contribu\", \"contribu\", \"cred\", \"cred\", \"cultur\", \"cultur\", \"dezvolt\", \"dezvolt\", \"dezvoltar\", \"dezvoltar\", \"domen\", \"econom\", \"econom\", \"etc\", \"etc\", \"exist\", \"facil\", \"fiind\", \"fiind\", \"financiar\", \"financiar\", \"fiscal\", \"fiscal\", \"forte\", \"general\", \"gratuit\", \"gratuit\", \"gurant\", \"igur\", \"igur\", \"impoz\", \"impoz\", \"infrastructur\", \"infrastructur\", \"invatam\", \"locur\", \"locur\", \"lte\", \"lte\", \"lucrur\", \"mar\", \"mar\", \"membr\", \"mic\", \"mic\", \"moment\", \"moment\", \"munc\", \"munc\", \"nant\", \"neces\", \"neces\", \"nesigur\", \"nevoi\", \"nevoi\", \"nim\", \"norm\", \"norm\", \"obiect\", \"obiect\", \"ocup\", \"ofer\", \"ofer\", \"opin\", \"otect\", \"plat\", \"plat\", \"platit\", \"platit\", \"polit\", \"posibil\", \"pozit\", \"pozit\", \"protect\", \"protect\", \"public\", \"public\", \"putin\", \"relat\", \"roman\", \"roman\", \"rvic\", \"rvic\", \"salar\", \"sanat\", \"sanat\", \"schimb\", \"servic\", \"servic\", \"sigur\", \"sigur\", \"sist\", \"sist\", \"social\", \"social\", \"societ\", \"societ\", \"spun\", \"stabil\", \"stabil\", \"stat\", \"stat\", \"stem\", \"stem\", \"stiu\", \"student\", \"tax\", \"tax\", \"urma\", \"utiliz\", \"veder\", \"veder\"]}, \"R\": 30, \"lambda.step\": 0.01, \"plot.opts\": {\"xlab\": \"PC1\", \"ylab\": \"PC2\"}, \"topic.order\": [1, 2]};\n",
       "\n",
       "function LDAvis_load_lib(url, callback){\n",
       "  var s = document.createElement('script');\n",
       "  s.src = url;\n",
       "  s.async = true;\n",
       "  s.onreadystatechange = s.onload = callback;\n",
       "  s.onerror = function(){console.warn(\"failed to load library \" + url);};\n",
       "  document.getElementsByTagName(\"head\")[0].appendChild(s);\n",
       "}\n",
       "\n",
       "if(typeof(LDAvis) !== \"undefined\"){\n",
       "   // already loaded: just create the visualization\n",
       "   !function(LDAvis){\n",
       "       new LDAvis(\"#\" + \"ldavis_el1772826999395566885768308053\", ldavis_el1772826999395566885768308053_data);\n",
       "   }(LDAvis);\n",
       "}else if(typeof define === \"function\" && define.amd){\n",
       "   // require.js is available: use it to load d3/LDAvis\n",
       "   require.config({paths: {d3: \"https://d3js.org/d3.v5\"}});\n",
       "   require([\"d3\"], function(d3){\n",
       "      window.d3 = d3;\n",
       "      LDAvis_load_lib(\"https://cdn.jsdelivr.net/gh/bmabey/pyLDAvis@3.4.0/pyLDAvis/js/ldavis.v3.0.0.js\", function(){\n",
       "        new LDAvis(\"#\" + \"ldavis_el1772826999395566885768308053\", ldavis_el1772826999395566885768308053_data);\n",
       "      });\n",
       "    });\n",
       "}else{\n",
       "    // require.js not available: dynamically load d3 & LDAvis\n",
       "    LDAvis_load_lib(\"https://d3js.org/d3.v5.js\", function(){\n",
       "         LDAvis_load_lib(\"https://cdn.jsdelivr.net/gh/bmabey/pyLDAvis@3.4.0/pyLDAvis/js/ldavis.v3.0.0.js\", function(){\n",
       "                 new LDAvis(\"#\" + \"ldavis_el1772826999395566885768308053\", ldavis_el1772826999395566885768308053_data);\n",
       "            })\n",
       "         });\n",
       "}\n",
       "</script>"
      ]
     },
     "execution_count": 98,
     "metadata": {},
     "output_type": "execute_result"
    }
   ],
   "execution_count": 98
  },
  {
   "cell_type": "markdown",
   "metadata": {
    "id": "Jiv2X-M-D0Rt"
   },
   "source": "## 4.2. Topic analysis vs. trust"
  },
  {
   "cell_type": "code",
   "metadata": {
    "colab": {
     "base_uri": "https://localhost:8080/",
     "height": 1000
    },
    "id": "MHPSW9J4DVdN",
    "outputId": "0b7c174a-0801-48c7-d73c-26429854f096",
    "ExecuteTime": {
     "end_time": "2024-09-22T14:48:14.537028Z",
     "start_time": "2024-09-22T14:48:07.460791Z"
    }
   },
   "source": [
    "for trust in [0, 1]:\n",
    "    responses_list = df_text['all_responses_prep'].loc[df_text['incredere_sist_fiscal'] == trust].to_list()\n",
    "    dictionary_responses = Dictionary(responses_list)\n",
    "    responses_bow = [dictionary_responses.doc2bow(response) for response in responses_list]\n",
    "    # Build the LDA model\n",
    "    ldamodel = LdaModel(responses_bow,\n",
    "                        num_topics=3,\n",
    "                        id2word=dictionary_responses,\n",
    "                        passes=15,\n",
    "                        alpha='symmetric',\n",
    "                        iterations=100,\n",
    "                        random_state=5)\n",
    "\n",
    "    lda_display = gensimvis.prepare(ldamodel,\n",
    "                                    responses_bow,\n",
    "                                    dictionary_responses,\n",
    "                                    sort_topics=True)\n",
    "    pyLDAvis.display(lda_display)\n",
    "    pyLDAvis.save_html(lda_display, f'Results/lda_result_topic_analysis_vs_trust{trust}.html')"
   ],
   "outputs": [
    {
     "data": {
      "text/plain": [
       "<IPython.core.display.HTML object>"
      ],
      "text/html": [
       "\n",
       "<link rel=\"stylesheet\" type=\"text/css\" href=\"https://cdn.jsdelivr.net/gh/bmabey/pyLDAvis@3.4.0/pyLDAvis/js/ldavis.v1.0.0.css\">\n",
       "\n",
       "\n",
       "<div id=\"ldavis_el1772826999454300969468150449\" style=\"background-color:white;\"></div>\n",
       "<script type=\"text/javascript\">\n",
       "\n",
       "var ldavis_el1772826999454300969468150449_data = {\"mdsDat\": {\"x\": [-0.05163075562533291, -0.04643754475220521, 0.09806830037753812], \"y\": [0.06815748482266, -0.07060690955664414, 0.0024494247339840723], \"topics\": [1, 2, 3], \"cluster\": [1, 1, 1], \"Freq\": [43.83991701593618, 38.540809033551895, 17.61927395051192]}, \"tinfo\": {\"Term\": [\"mic\", \"impoz\", \"xel\", \"tax\", \"mar\", \"fiscal\", \"pozit\", \"lips\", \"tva\", \"roman\", \"oamen\", \"transparent\", \"ptul\", \"lum\", \"scad\", \"birocrat\", \"stiu\", \"social\", \"domeniu\", \"ducer\", \"incerc\", \"schimb\", \"tul\", \"modific\", \"euro\", \"eficient\", \"nevoi\", \"impun\", \"sustin\", \"neces\", \"neces\", \"acestui\", \"dul\", \"incertitudin\", \"eficient\", \"birocrat\", \"exces\", \"fiind\", \"neincred\", \"ad\", \"comparat\", \"nemultum\", \"complic\", \"imbunatat\", \"compet\", \"cod\", \"nesigur\", \"inut\", \"evaziun\", \"aferent\", \"cheltui\", \"propun\", \"and\", \"sprijin\", \"informatiz\", \"international\", \"investit\", \"caut\", \"urmar\", \"efectu\", \"predict\", \"adopt\", \"nevoi\", \"corupt\", \"condit\", \"fiscal\", \"transparent\", \"roman\", \"urma\", \"incred\", \"ban\", \"sist\", \"veder\", \"put\", \"colect\", \"relat\", \"stem\", \"priv\", \"tax\", \"actual\", \"cetaten\", \"tar\", \"administr\", \"public\", \"ofer\", \"impoz\", \"invest\", \"plat\", \"platit\", \"social\", \"stat\", \"servic\", \"econom\", \"reduc\", \"stabil\", \"venitur\", \"mar\", \"contribu\", \"buget\", \"xel\", \"ducer\", \"infiint\", \"activ\", \"tiner\", \"pozit\", \"mediu\", \"incep\", \"ester\", \"stiu\", \"accept\", \"las\", \"somaj\", \"dat\", \"lucreaz\", \"intreprinder\", \"aplic\", \"structur\", \"procent\", \"minu\", \"afacer\", \"traiest\", \"bulgar\", \"buzunar\", \"rat\", \"proiect\", \"bucur\", \"ilumin\", \"scad\", \"organ\", \"ajut\", \"sarac\", \"firm\", \"mic\", \"mar\", \"invatam\", \"clar\", \"impoz\", \"salar\", \"venit\", \"tax\", \"locur\", \"antreprenor\", \"crear\", \"reduc\", \"munc\", \"public\", \"ofer\", \"stat\", \"invest\", \"cheltuiel\", \"schimb\", \"plat\", \"servic\", \"sist\", \"venitur\", \"dezvolt\", \"fiscal\", \"cot\", \"buget\", \"sigur\", \"roman\", \"actual\", \"contribu\", \"transparent\", \"ban\", \"euro\", \"comercial\", \"necesar\", \"realist\", \"parcurs\", \"pretur\", \"profund\", \"multumeasc\", \"crescut\", \"legatur\", \"procentaj\", \"nefiind\", \"prod\", \"ore\", \"a-i\", \"furat\", \"deducer\", \"acces\", \"mobil\", \"trecut\", \"intermed\", \"baze\", \"sustin\", \"evident\", \"lum\", \"certitudin\", \"interes\", \"angajeaz\", \"experient\", \"cur\", \"domeniu\", \"tva\", \"lei\", \"ani\", \"impun\", \"tul\", \"lips\", \"scazut\", \"oamen\", \"ptul\", \"modific\", \"modif\", \"suficient\", \"consum\", \"raspuns\", \"mic\", \"incerc\", \"social\", \"stat\", \"schimb\", \"medic\", \"angaj\", \"fiscal\", \"cot\", \"sist\", \"putin\", \"servic\", \"econom\", \"mar\", \"sigur\", \"ban\", \"bin\", \"cetaten\", \"consider\", \"ofer\", \"public\", \"trebui\", \"impoz\"], \"Freq\": [60.0, 169.0, 26.0, 165.0, 94.0, 156.0, 25.0, 20.0, 11.0, 62.0, 19.0, 50.0, 15.0, 7.0, 19.0, 17.0, 15.0, 24.0, 6.0, 10.0, 22.0, 29.0, 6.0, 7.0, 4.0, 14.0, 21.0, 6.0, 5.0, 10.0, 10.361478878600556, 7.002950102263245, 10.76168149245191, 5.349828998422043, 12.97201875915371, 15.86746926934173, 10.601879371039923, 5.299740044214056, 4.506251733569817, 4.5002475070950725, 4.4990963597923335, 5.247844771998489, 4.4912707654469575, 4.467267571645427, 3.660437055743935, 3.658330409358127, 3.6146794521221683, 3.5858017748989592, 9.269730375353374, 3.5712923691517133, 3.5460972261965042, 2.8169510933942212, 2.8169149737228976, 2.816651768340197, 2.8165403993536158, 2.816262478549265, 2.8161815437301883, 2.816042416107312, 2.815446775971874, 2.814871871203307, 11.09265674291479, 3.4986827998734684, 17.349484801295066, 8.144980532406874, 4.852169156953026, 112.89365409378979, 38.53650809566165, 46.60104878226529, 4.117131504428183, 16.643295729591536, 37.474244615222155, 63.31026023649116, 10.702140889806182, 7.706114485934828, 13.071001374001995, 8.024278624085474, 16.917581824794848, 8.081485494634016, 71.79879502934075, 19.428313689121694, 15.696635263871595, 17.436360637421927, 10.226312379679664, 32.55905031066488, 29.301711462423405, 59.50117601782901, 20.808721910110567, 19.323501091768662, 10.935078656820414, 13.645005826317236, 24.24369730192145, 18.638524969256913, 15.403162934367435, 15.150908500905908, 13.458424981915622, 14.07047682579065, 19.816371397931892, 12.818177052392917, 12.04306629674156, 25.05145038177786, 9.848985407999132, 6.791742903085205, 5.122629871288005, 5.062174865324924, 22.369275416947602, 4.321754077666126, 3.514288206795871, 3.5086066393492925, 13.019167735937241, 3.4400394346996794, 3.41694740886371, 2.7161896894159905, 2.7157668942396205, 2.7153044068874435, 2.712755875184538, 6.690920072278389, 2.6919592331746625, 2.683428061521282, 2.627981914128886, 5.227892345462826, 1.9014661777035156, 1.901449271776783, 1.9014206052053673, 1.9013251969753726, 1.9012963833958982, 1.901239491277242, 1.9011546676274624, 15.050842626293953, 1.9011011566941527, 6.762194283318017, 4.344462118453181, 9.057730409760556, 43.64951513620701, 66.65757467339449, 4.353612194033028, 5.988075132415473, 106.04104766989762, 17.857674544446525, 12.279287937933882, 90.17895812546769, 10.518494800506787, 6.51814738139488, 5.938433451206597, 19.89685390217575, 11.465657137120559, 32.416716411689976, 29.094531867443816, 29.68808690036006, 20.232902563360877, 10.154898005215129, 14.371932362458576, 17.621560785394614, 18.060525672140212, 27.8889128990085, 13.59568629896503, 11.680017231701477, 30.879849477229325, 10.084812795352999, 11.245784828376504, 10.529642715602236, 15.044014395990738, 11.908132576304167, 11.107737205017607, 11.19162705960918, 11.13773037715383, 3.7308238320125398, 3.053054655234254, 2.346329889384123, 2.3445639834069527, 2.3319615062856656, 2.2616290385117233, 1.6460569036302142, 1.6458060906789735, 1.645796278596744, 1.6452601087883307, 1.6450861795499034, 1.6438954228858944, 1.6437304992571848, 1.6423502215528492, 1.6377642156132033, 1.6372842300564614, 1.6359081191267713, 1.6287423420332339, 1.6264848910599827, 1.6205901146454011, 1.5853297922986935, 1.5852889310247507, 3.650817188808483, 3.0652350784075804, 5.124348922654814, 3.064092306858037, 3.0576190208281604, 1.4858458970445687, 1.4858371602590217, 1.483726621695045, 4.4571719558495015, 7.295545510151157, 2.9533195437926327, 2.89937674805646, 3.7121026479424977, 3.9110432872095093, 8.663311062286752, 3.0870711281432444, 7.788017949620917, 6.5016066562569765, 3.8802139936680526, 3.008149996940377, 2.356301384347005, 2.354580372006338, 2.3527273669978688, 13.108851533919447, 6.5807511803456755, 6.8055779743037546, 11.218816533588031, 7.075334427203583, 4.133534805596926, 4.477860932848891, 12.388553298043547, 5.073240071325908, 9.092990476673346, 4.140197612667129, 6.204895203763473, 5.475691898409762, 7.607540154395928, 4.522076863617497, 5.646338793713133, 4.063798052185202, 4.466213588006015, 3.6823451563695264, 4.685946163929786, 4.7357705733712026, 3.8823998029998186, 3.890416139769375], \"Total\": [60.0, 169.0, 26.0, 165.0, 94.0, 156.0, 25.0, 20.0, 11.0, 62.0, 19.0, 50.0, 15.0, 7.0, 19.0, 17.0, 15.0, 24.0, 6.0, 10.0, 22.0, 29.0, 6.0, 7.0, 4.0, 14.0, 21.0, 6.0, 5.0, 10.0, 10.923943244948756, 7.544216961448295, 11.754524126813068, 5.85970254463527, 14.282167045037239, 17.488354287814953, 11.69178580787584, 5.851095528880418, 5.014528644332089, 5.014224317022736, 5.0142484057457235, 5.855959384469, 5.013548050115018, 5.013063321752007, 4.169262819602812, 4.169064098133428, 4.167533907795716, 4.166432481108847, 10.78471433651196, 4.165951914477472, 4.15139021662924, 3.324080903203562, 3.324076049032475, 3.324042298436187, 3.324054910783736, 3.3240324520861257, 3.3239977096744995, 3.323946423633904, 3.3239702113177145, 3.323971126148074, 13.399297295069447, 4.148524968663729, 21.407290477613223, 9.878742193060942, 5.83053228754309, 156.16205686906267, 50.911761123740575, 62.640140510630616, 4.950132534260179, 22.203572953726134, 54.25831378608912, 100.29216361217301, 14.1670524089909, 9.909335647270831, 18.35926624105916, 10.73486607781211, 26.647606616691142, 10.82938213006591, 165.099241303875, 33.73945181706525, 25.950791917650214, 30.219375459765352, 14.837059890278839, 69.71153729572605, 63.082189493797, 169.432639827496, 41.435964665617234, 40.134855022108525, 17.154670198212223, 24.700220723039802, 65.15060073586953, 42.90394584516059, 30.674719172837854, 35.516845291536434, 26.895241665303175, 30.964473866798528, 94.08148622572232, 27.60098906408412, 25.374206106373745, 26.010173611462513, 10.566325921267465, 7.309371139959995, 5.676607136983702, 5.665888179412987, 25.092822944221272, 4.860692629874977, 4.046912237932808, 4.049119036841829, 15.253216993036354, 4.0520363058753714, 4.052894459530495, 3.233768242988306, 3.2337131952047518, 3.233740815663177, 3.233828731139893, 8.001820226964984, 3.230542817982778, 3.234714271414858, 3.2271807618886212, 6.521492966193208, 2.4186351828735364, 2.4186326937055194, 2.41862760173844, 2.4186163442206143, 2.4186303081367373, 2.4186088712599134, 2.4185983353193556, 19.147939658973588, 2.418617559181153, 8.723923849924986, 5.574521456370057, 11.889028328276405, 60.03504559571331, 94.08148622572232, 5.708463138155256, 8.045085341905317, 169.432639827496, 25.889095026445197, 17.67633934568166, 165.099241303875, 15.423897702545478, 9.00928751179307, 8.18313325475729, 35.516845291536434, 18.436488034433676, 69.71153729572605, 63.082189493797, 65.15060073586953, 41.435964665617234, 17.10784239497213, 29.344349991181613, 40.134855022108525, 42.90394584516059, 100.29216361217301, 30.964473866798528, 24.471252460599462, 156.16205686906267, 19.755351255089256, 25.374206106373745, 22.383517884634582, 62.640140510630616, 33.73945181706525, 27.60098906408412, 50.911761123740575, 54.25831378608912, 4.324103771712673, 3.612598261554113, 2.906985340390677, 2.9074061945417435, 2.90910442226103, 2.9199649488763324, 2.20031369725175, 2.200349476765876, 2.2003503079327853, 2.2004407377575363, 2.200452842742452, 2.2006279444315595, 2.2006390852218645, 2.200999239937002, 2.2018841804456235, 2.201930840654904, 2.2020921440680192, 2.203651517697928, 2.2035330142335097, 2.204087581791534, 2.209781392104923, 2.2097638060172082, 5.184611762780198, 4.425522158038679, 7.399605139173339, 4.426003234373667, 4.426751033154618, 2.224894374328268, 2.2248967557570913, 2.2252037447047233, 6.714604116096315, 11.13626414127225, 4.476694146496974, 4.451362770884232, 6.018023413579764, 6.823817112656048, 20.182685387968633, 5.2962078367392476, 19.38276859335342, 15.490642343779474, 7.559890771316467, 5.279862069580927, 3.7201950570280635, 3.7204950459034754, 3.7505671848267323, 60.03504559571331, 22.836400444446934, 24.700220723039802, 65.15060073586953, 29.344349991181613, 11.81338463438506, 14.238332318571471, 156.16205686906267, 19.755351255089256, 100.29216361217301, 13.442735465533502, 42.90394584516059, 30.674719172837854, 94.08148622572232, 22.383517884634582, 54.25831378608912, 15.030575306683803, 25.950791917650214, 11.77539602331016, 63.082189493797, 69.71153729572605, 18.466407337956777, 169.432639827496], \"Category\": [\"Default\", \"Default\", \"Default\", \"Default\", \"Default\", \"Default\", \"Default\", \"Default\", \"Default\", \"Default\", \"Default\", \"Default\", \"Default\", \"Default\", \"Default\", \"Default\", \"Default\", \"Default\", \"Default\", \"Default\", \"Default\", \"Default\", \"Default\", \"Default\", \"Default\", \"Default\", \"Default\", \"Default\", \"Default\", \"Default\", \"Topic1\", \"Topic1\", \"Topic1\", \"Topic1\", \"Topic1\", \"Topic1\", \"Topic1\", \"Topic1\", \"Topic1\", \"Topic1\", \"Topic1\", \"Topic1\", \"Topic1\", \"Topic1\", \"Topic1\", \"Topic1\", \"Topic1\", \"Topic1\", \"Topic1\", \"Topic1\", \"Topic1\", \"Topic1\", \"Topic1\", \"Topic1\", \"Topic1\", \"Topic1\", \"Topic1\", \"Topic1\", \"Topic1\", \"Topic1\", \"Topic1\", \"Topic1\", \"Topic1\", \"Topic1\", \"Topic1\", \"Topic1\", \"Topic1\", \"Topic1\", \"Topic1\", \"Topic1\", \"Topic1\", \"Topic1\", \"Topic1\", \"Topic1\", \"Topic1\", \"Topic1\", \"Topic1\", \"Topic1\", \"Topic1\", \"Topic1\", \"Topic1\", \"Topic1\", \"Topic1\", \"Topic1\", \"Topic1\", \"Topic1\", \"Topic1\", \"Topic1\", \"Topic1\", \"Topic1\", \"Topic1\", \"Topic1\", \"Topic1\", \"Topic1\", \"Topic1\", \"Topic1\", \"Topic1\", \"Topic1\", \"Topic1\", \"Topic2\", \"Topic2\", \"Topic2\", \"Topic2\", \"Topic2\", \"Topic2\", \"Topic2\", \"Topic2\", \"Topic2\", \"Topic2\", \"Topic2\", \"Topic2\", \"Topic2\", \"Topic2\", \"Topic2\", \"Topic2\", \"Topic2\", \"Topic2\", \"Topic2\", \"Topic2\", \"Topic2\", \"Topic2\", \"Topic2\", \"Topic2\", \"Topic2\", \"Topic2\", \"Topic2\", \"Topic2\", \"Topic2\", \"Topic2\", \"Topic2\", \"Topic2\", \"Topic2\", \"Topic2\", \"Topic2\", \"Topic2\", \"Topic2\", \"Topic2\", \"Topic2\", \"Topic2\", \"Topic2\", \"Topic2\", \"Topic2\", \"Topic2\", \"Topic2\", \"Topic2\", \"Topic2\", \"Topic2\", \"Topic2\", \"Topic2\", \"Topic2\", \"Topic2\", \"Topic2\", \"Topic2\", \"Topic2\", \"Topic2\", \"Topic2\", \"Topic2\", \"Topic2\", \"Topic2\", \"Topic2\", \"Topic2\", \"Topic2\", \"Topic2\", \"Topic2\", \"Topic2\", \"Topic3\", \"Topic3\", \"Topic3\", \"Topic3\", \"Topic3\", \"Topic3\", \"Topic3\", \"Topic3\", \"Topic3\", \"Topic3\", \"Topic3\", \"Topic3\", \"Topic3\", \"Topic3\", \"Topic3\", \"Topic3\", \"Topic3\", \"Topic3\", \"Topic3\", \"Topic3\", \"Topic3\", \"Topic3\", \"Topic3\", \"Topic3\", \"Topic3\", \"Topic3\", \"Topic3\", \"Topic3\", \"Topic3\", \"Topic3\", \"Topic3\", \"Topic3\", \"Topic3\", \"Topic3\", \"Topic3\", \"Topic3\", \"Topic3\", \"Topic3\", \"Topic3\", \"Topic3\", \"Topic3\", \"Topic3\", \"Topic3\", \"Topic3\", \"Topic3\", \"Topic3\", \"Topic3\", \"Topic3\", \"Topic3\", \"Topic3\", \"Topic3\", \"Topic3\", \"Topic3\", \"Topic3\", \"Topic3\", \"Topic3\", \"Topic3\", \"Topic3\", \"Topic3\", \"Topic3\", \"Topic3\", \"Topic3\", \"Topic3\", \"Topic3\", \"Topic3\", \"Topic3\", \"Topic3\", \"Topic3\"], \"logprob\": [30.0, 29.0, 28.0, 27.0, 26.0, 25.0, 24.0, 23.0, 22.0, 21.0, 20.0, 19.0, 18.0, 17.0, 16.0, 15.0, 14.0, 13.0, 12.0, 11.0, 10.0, 9.0, 8.0, 7.0, 6.0, 5.0, 4.0, 3.0, 2.0, 1.0, -5.625, -6.0167, -5.5871, -6.286, -5.4003, -5.1988, -5.602, -6.2954, -6.4576, -6.4589, -6.4592, -6.3052, -6.4609, -6.4663, -6.6655, -6.666, -6.678, -6.6861, -5.7363, -6.6901, -6.6972, -6.9274, -6.9274, -6.9275, -6.9275, -6.9276, -6.9277, -6.9277, -6.9279, -6.9281, -5.5568, -6.7107, -5.1095, -5.8657, -6.3836, -3.2366, -4.3114, -4.1214, -6.5479, -5.151, -4.3394, -3.815, -5.5926, -5.921, -5.3927, -5.8806, -5.1347, -5.8735, -3.6892, -4.9963, -5.2096, -5.1045, -5.6381, -4.48, -4.5854, -3.8771, -4.9277, -5.0017, -5.5711, -5.3497, -4.7749, -5.0378, -5.2285, -5.245, -5.3634, -5.319, -4.9765, -5.4122, -5.4746, -4.6133, -5.5469, -5.9185, -6.2006, -6.2124, -4.7265, -6.3706, -6.5774, -6.579, -5.2678, -6.5987, -6.6055, -6.835, -6.8352, -6.8353, -6.8363, -5.9335, -6.844, -6.8471, -6.868, -6.1802, -7.1916, -7.1916, -7.1916, -7.1917, -7.1917, -7.1917, -7.1918, -5.1228, -7.1918, -5.9229, -6.3653, -5.6306, -4.058, -3.6347, -6.3632, -6.0445, -3.1704, -4.9518, -5.3263, -3.3324, -5.4811, -5.9596, -6.0528, -4.8437, -5.3949, -4.3556, -4.4637, -4.4435, -4.8269, -5.5163, -5.1689, -4.9651, -4.9405, -4.506, -5.2245, -5.3763, -4.4041, -5.5232, -5.4142, -5.48, -5.1232, -5.357, -5.4266, -5.4191, -5.4239, -5.7349, -5.9354, -6.1986, -6.1994, -6.2048, -6.2354, -6.5531, -6.5533, -6.5533, -6.5536, -6.5537, -6.5544, -6.5545, -6.5554, -6.5582, -6.5585, -6.5593, -6.5637, -6.5651, -6.5687, -6.5907, -6.5907, -5.7566, -5.9314, -5.4175, -5.9318, -5.9339, -6.6555, -6.6555, -6.6569, -5.557, -5.0642, -5.9686, -5.987, -5.7399, -5.6877, -4.8924, -5.9243, -4.9989, -5.1795, -5.6956, -5.9502, -6.1944, -6.1951, -6.1959, -4.4782, -5.1674, -5.1338, -4.6339, -5.0949, -5.6324, -5.5524, -4.5347, -5.4275, -4.844, -5.6308, -5.2262, -5.3512, -5.0224, -5.5425, -5.3205, -5.6494, -5.555, -5.748, -5.5069, -5.4964, -5.695, -5.693], \"loglift\": [30.0, 29.0, 28.0, 27.0, 26.0, 25.0, 24.0, 23.0, 22.0, 21.0, 20.0, 19.0, 18.0, 17.0, 16.0, 15.0, 14.0, 13.0, 12.0, 11.0, 10.0, 9.0, 8.0, 7.0, 6.0, 5.0, 4.0, 3.0, 2.0, 1.0, 0.7718, 0.7502, 0.7364, 0.7336, 0.7284, 0.7274, 0.7268, 0.7257, 0.7178, 0.7165, 0.7162, 0.715, 0.7146, 0.7094, 0.6945, 0.6939, 0.6823, 0.6745, 0.6732, 0.6706, 0.667, 0.6591, 0.6591, 0.659, 0.6589, 0.6589, 0.6588, 0.6588, 0.6586, 0.6584, 0.6357, 0.6543, 0.6145, 0.6316, 0.6409, 0.5002, 0.5461, 0.5288, 0.6404, 0.5364, 0.4545, 0.3646, 0.5442, 0.5732, 0.4849, 0.5336, 0.3703, 0.5319, -0.0081, 0.2727, 0.3219, 0.2747, 0.4525, 0.0633, 0.0578, -0.2218, 0.1358, 0.0937, 0.3743, 0.2312, -0.1639, -0.0091, 0.1358, -0.0273, 0.1323, 0.0359, -0.733, 0.0576, 0.0794, 0.9159, 0.8831, 0.88, 0.8508, 0.8408, 0.8386, 0.8359, 0.8123, 0.8102, 0.7951, 0.7897, 0.7828, 0.779, 0.7789, 0.7787, 0.7778, 0.7745, 0.7711, 0.7666, 0.7481, 0.7324, 0.7129, 0.7129, 0.7129, 0.7128, 0.7128, 0.7128, 0.7127, 0.7127, 0.7127, 0.6987, 0.7041, 0.6815, 0.6347, 0.6089, 0.6825, 0.6582, 0.4848, 0.5821, 0.5891, 0.3487, 0.5707, 0.6298, 0.6328, 0.374, 0.4785, 0.1878, 0.1796, 0.1675, 0.2366, 0.4319, 0.2396, 0.1303, 0.0882, -0.3264, 0.1304, 0.2138, -0.6673, 0.2811, 0.1397, 0.1993, -0.473, -0.088, 0.0432, -0.5615, -0.63, 1.5886, 1.5679, 1.5219, 1.521, 1.515, 1.4807, 1.446, 1.4458, 1.4458, 1.4454, 1.4453, 1.4445, 1.4444, 1.4434, 1.4402, 1.4399, 1.439, 1.4339, 1.4325, 1.4287, 1.4041, 1.4041, 1.3854, 1.3689, 1.3688, 1.3684, 1.3661, 1.3325, 1.3324, 1.3309, 1.3264, 1.3132, 1.3202, 1.3075, 1.253, 1.1796, 0.8904, 1.1964, 0.8244, 0.868, 1.0692, 1.1736, 1.2795, 1.2787, 1.2698, 0.2145, 0.492, 0.4471, -0.0229, 0.3137, 0.6861, 0.5794, -0.7979, 0.3767, -0.6644, 0.5585, -0.1974, 0.0131, -0.7788, 0.1368, -0.5266, 0.4282, -0.0235, 0.5737, -0.8637, -0.953, 0.1767, -2.0378]}, \"token.table\": {\"Topic\": [3, 2, 3, 1, 2, 1, 2, 3, 1, 1, 2, 3, 1, 1, 2, 1, 2, 3, 1, 1, 2, 3, 3, 2, 3, 1, 2, 2, 3, 1, 2, 3, 3, 1, 2, 3, 1, 3, 2, 1, 2, 3, 2, 2, 1, 2, 3, 1, 2, 3, 1, 1, 2, 3, 1, 2, 3, 1, 1, 2, 3, 1, 1, 1, 1, 2, 1, 2, 3, 2, 3, 1, 2, 3, 1, 3, 1, 2, 3, 1, 2, 3, 3, 2, 3, 1, 2, 3, 1, 3, 2, 1, 2, 1, 2, 3, 1, 1, 2, 2, 3, 1, 2, 3, 2, 3, 1, 3, 3, 1, 1, 2, 3, 1, 2, 3, 3, 2, 1, 1, 2, 3, 1, 3, 2, 1, 2, 3, 1, 1, 2, 3, 2, 1, 2, 3, 3, 1, 2, 1, 1, 2, 1, 2, 1, 2, 3, 1, 3, 1, 2, 3, 1, 2, 3, 2, 1, 2, 3, 1, 2, 3, 1, 2, 3, 2, 1, 2, 3, 2, 3, 1, 2, 3, 2, 3, 3, 1, 2, 3, 1, 3, 3, 1, 1, 1, 1, 2, 3, 1, 2, 3, 1, 2, 3, 3, 2, 3, 1, 2, 3, 1, 2, 3, 1, 2, 3, 1, 2, 3, 1, 2, 2, 3, 3, 3, 2, 1, 1, 2, 3, 1, 2, 3, 1, 2, 3, 1, 2, 3, 1, 3, 2, 3, 1, 2, 1, 2, 3, 1, 2, 3, 1, 2, 3, 2, 3, 1, 2, 3, 1, 3, 1, 2, 3, 1, 2, 3, 1, 2, 3, 1, 2, 3, 1, 2, 3, 2, 1, 1, 2, 3, 1, 2, 3, 1, 2, 1, 2, 3, 2, 2, 3, 1, 3, 1, 2, 3, 1, 2, 3, 2, 2, 1, 2, 3, 1, 2, 3, 3, 1, 3, 1, 2, 3, 1, 3, 1, 1, 2, 1, 2, 3, 1, 2, 3, 2, 3], \"Freq\": [0.9083129883767249, 0.7403684897023406, 0.9075845177595616, 0.9278630288299902, 0.8808078275180372, 0.5631389657134231, 0.3556667151874251, 0.05927778586457085, 0.9971632068843738, 0.6739879783427946, 0.20219639350283836, 0.06739879783427946, 0.7231485944186863, 0.15333912114663065, 0.7666956057331532, 0.9601647071583429, 0.8023912313333856, 0.22925463752382447, 0.9025064275750242, 0.49163060977792294, 0.14046588850797798, 0.28093177701595595, 0.4494595390857224, 0.22465030406887218, 0.6739509122066165, 0.2219931373465459, 0.7769759807129107, 0.8748009579634152, 0.12497156542334502, 0.6819231453795409, 0.20273390808580946, 0.1105821316831688, 0.905074105455968, 0.332655264218436, 0.3991863170621232, 0.2661242113747488, 0.9148945484909368, 0.05718090928068355, 0.8269216340706426, 0.47292119996557136, 0.43351109996844045, 0.0788201999942619, 0.8269134892639924, 0.8269152301753514, 0.9025416230145643, 0.22593747610342904, 0.6778124283102871, 0.6165515122148444, 0.23120681708056662, 0.1541378780537111, 0.9635326459982452, 0.35071634759526166, 0.5845272459921028, 0.05845272459921028, 0.12429948937784296, 0.7457969362670578, 0.12429948937784296, 0.9594479494308755, 0.7080893010269903, 0.27234203885653474, 0.830427239011465, 0.7977267331663271, 0.9594022188270355, 0.7978381696986497, 0.8575546371096309, 0.17151092742192617, 0.2547685015485938, 0.4246141692476564, 0.33969133539812507, 0.2687814357127205, 0.537562871425441, 0.4709976142455088, 0.39853644282312284, 0.14492234284477193, 0.8098196960357348, 0.10122746200446685, 0.25309598070102296, 0.5061919614020459, 0.25309598070102296, 0.24440516092503975, 0.7332154827751193, 0.9089461767926339, 0.4493970506654421, 0.9277260594565643, 0.9082272081064302, 0.4086427540274346, 0.4903713048329215, 0.08172855080548692, 0.2978582155283854, 0.5957164310567707, 0.946402758585405, 0.9358098959453462, 0.08507362690412239, 0.48900203178656465, 0.32600135452437645, 0.16300067726218823, 0.9025349156617066, 0.9102260153522874, 0.07001738579632981, 0.9878692040429268, 0.925047179988397, 0.8345144543634542, 0.09272382826260601, 0.09272382826260601, 0.22596203663415484, 0.6778861099024646, 0.9408314675582032, 0.08553013341438212, 0.44945905800456726, 0.8545408249310755, 0.08411116303101396, 0.7570004672791256, 0.16822232606202792, 0.7236072722501805, 0.19851172955535926, 0.07684325015046164, 0.9082937406904001, 0.8269252363211921, 0.7979153151015947, 0.3541230312004089, 0.6256173551207224, 0.023608202080027257, 0.3323350313803979, 0.6646700627607958, 0.9884078934321612, 0.26273843001640845, 0.4378973833606808, 0.30652816835247654, 0.8532856338548528, 0.7656425402987727, 0.13511338946448928, 0.13511338946448928, 0.9576747254946903, 0.9025121667718385, 0.22589930911189599, 0.677697927335688, 0.9050669026110785, 0.9025182645606343, 0.9276929143190986, 0.9600539593852837, 0.17517849827495943, 0.7007139930998377, 0.5068061084004494, 0.4826724841909042, 0.9025276976781591, 0.7402117252141655, 0.9089088225289789, 0.22337912023373382, 0.6701373607012016, 0.44592678461732893, 0.09909484102607309, 0.44592678461732893, 0.25933781960573177, 0.7131790039157624, 0.06483445490143294, 0.9277181354389896, 0.1351423462727792, 0.1351423462727792, 0.6757117313638961, 0.2125816757615369, 0.7121486138011486, 0.08503267030461475, 0.5078984715807764, 0.08464974526346272, 0.3385989810538509, 0.8229279867266334, 0.04997081238519472, 0.7329052483161892, 0.21654018700251043, 0.9296039550769788, 0.9076333266083114, 0.18939888709618732, 0.18939888709618732, 0.5681966612885619, 0.39683113033623696, 0.5291081737816493, 0.9089465201408123, 0.21696106072529828, 0.5966429169945703, 0.1627207955439737, 0.9154203546987496, 0.6879979655250738, 0.9088315019632347, 0.9971026899310843, 0.8538310585385633, 0.9598002292237312, 0.7941219846471383, 0.0467130579204199, 0.14013917376125973, 0.30955330096947403, 0.30955330096947403, 0.4127377346259654, 0.45971771482110063, 0.45971771482110063, 0.07926167496915527, 0.9086781874841741, 0.8269186636836953, 0.687496806472677, 0.4734039774040229, 0.4484879785932849, 0.07474799643221415, 0.641224801928653, 0.23317265524678293, 0.11658632762339147, 0.039852032679738573, 0.8767447189542487, 0.039852032679738573, 0.8209385729539475, 0.14926155871889954, 0.6849397287353208, 0.7387309731909247, 0.18468274329773118, 0.9274389477027304, 0.908903822500179, 0.9088269009810682, 0.9089613006082055, 0.8269143048739676, 0.9025051096406134, 0.32277551111415553, 0.19366530666849333, 0.45188571555981777, 0.4733793182613289, 0.45903449043522804, 0.07172413913050438, 0.8073195100827281, 0.10091493876034101, 0.10091493876034101, 0.44633772756919143, 0.22316886378459572, 0.29755848504612764, 0.26662633962286897, 0.5332526792457379, 0.8269190790755567, 0.6878983761384033, 0.42233480695917713, 0.5631130759455696, 0.7452351936215763, 0.18630879840539408, 0.09315439920269704, 0.7503176017305335, 0.23946306438208517, 0.01596420429213901, 0.23175781130515063, 0.6952734339154519, 0.11587890565257532, 0.7175503819129018, 0.17938759547822544, 0.05222494000973911, 0.7833741001460867, 0.15667482002921734, 0.37762868483487494, 0.5664430272523123, 0.2726248835773875, 0.47709354626042816, 0.23854677313021408, 0.44284971057372174, 0.41954183106984166, 0.13984727702328056, 0.31273010954213004, 0.4914330292804901, 0.22337864967295004, 0.628164731230839, 0.27918432499148405, 0.08973781874726272, 0.566796554451075, 0.16194187270030713, 0.2833982772255375, 0.927710266963262, 0.9025155911557942, 0.48335687634928187, 0.3718129818071399, 0.11154389454214196, 0.3683772632780419, 0.4604715790975524, 0.16883957900243587, 0.637955980232453, 0.337741401299534, 0.06555994059853316, 0.8522792277809311, 0.13111988119706633, 0.9286365075554905, 0.2688031096947013, 0.5376062193894026, 0.1928784730187318, 0.7715138920749272, 0.5625529893109181, 0.29782217081166257, 0.1323654092496278, 0.4361013377855547, 0.5451266722319434, 0.018170889074398112, 0.8824741755701263, 0.8269126382358486, 0.766031249738363, 0.2160600960800511, 0.019641826916368284, 0.4873714651306835, 0.32491431008712235, 0.21660954005808156, 0.9074049581888, 0.439636635987201, 0.586182181316268, 0.089796720633977, 0.269390161901931, 0.628577044437839, 0.808059172621288, 0.202014793155322, 0.9025351640593422, 0.7764494463942987, 0.21175893992571784, 0.16971839821195225, 0.678873592847809, 0.11314559880796818, 0.45213104734879467, 0.45213104734879467, 0.09688522443188458, 0.961162365674586, 0.03844649462698344], \"Term\": [\"a-i\", \"accept\", \"acces\", \"acestui\", \"activ\", \"actual\", \"actual\", \"actual\", \"ad\", \"administr\", \"administr\", \"administr\", \"adopt\", \"afacer\", \"afacer\", \"aferent\", \"ajut\", \"ajut\", \"and\", \"angaj\", \"angaj\", \"angaj\", \"angajeaz\", \"ani\", \"ani\", \"antreprenor\", \"antreprenor\", \"aplic\", \"aplic\", \"ban\", \"ban\", \"ban\", \"baze\", \"bin\", \"bin\", \"bin\", \"birocrat\", \"birocrat\", \"bucur\", \"buget\", \"buget\", \"buget\", \"bulgar\", \"buzunar\", \"caut\", \"certitudin\", \"certitudin\", \"cetaten\", \"cetaten\", \"cetaten\", \"cheltui\", \"cheltuiel\", \"cheltuiel\", \"cheltuiel\", \"clar\", \"clar\", \"clar\", \"cod\", \"colect\", \"colect\", \"comercial\", \"comparat\", \"compet\", \"complic\", \"condit\", \"condit\", \"consider\", \"consider\", \"consider\", \"consum\", \"consum\", \"contribu\", \"contribu\", \"contribu\", \"corupt\", \"corupt\", \"cot\", \"cot\", \"cot\", \"crear\", \"crear\", \"crescut\", \"cur\", \"dat\", \"deducer\", \"dezvolt\", \"dezvolt\", \"dezvolt\", \"domeniu\", \"domeniu\", \"ducer\", \"dul\", \"dul\", \"econom\", \"econom\", \"econom\", \"efectu\", \"eficient\", \"eficient\", \"ester\", \"euro\", \"evaziun\", \"evaziun\", \"evaziun\", \"evident\", \"evident\", \"exces\", \"exces\", \"experient\", \"fiind\", \"firm\", \"firm\", \"firm\", \"fiscal\", \"fiscal\", \"fiscal\", \"furat\", \"ilumin\", \"imbunatat\", \"impoz\", \"impoz\", \"impoz\", \"impun\", \"impun\", \"incep\", \"incerc\", \"incerc\", \"incerc\", \"incertitudin\", \"incred\", \"incred\", \"incred\", \"infiint\", \"informatiz\", \"interes\", \"interes\", \"intermed\", \"international\", \"intreprinder\", \"inut\", \"invatam\", \"invatam\", \"invest\", \"invest\", \"investit\", \"las\", \"legatur\", \"lei\", \"lei\", \"lips\", \"lips\", \"lips\", \"locur\", \"locur\", \"locur\", \"lucreaz\", \"lum\", \"lum\", \"lum\", \"mar\", \"mar\", \"mar\", \"medic\", \"medic\", \"medic\", \"mediu\", \"mic\", \"mic\", \"mic\", \"minu\", \"mobil\", \"modif\", \"modif\", \"modif\", \"modific\", \"modific\", \"multumeasc\", \"munc\", \"munc\", \"munc\", \"neces\", \"necesar\", \"nefiind\", \"neincred\", \"nemultum\", \"nesigur\", \"nevoi\", \"nevoi\", \"nevoi\", \"oamen\", \"oamen\", \"oamen\", \"ofer\", \"ofer\", \"ofer\", \"ore\", \"organ\", \"parcurs\", \"plat\", \"plat\", \"plat\", \"platit\", \"platit\", \"platit\", \"pozit\", \"pozit\", \"pozit\", \"predict\", \"predict\", \"pretur\", \"priv\", \"priv\", \"procent\", \"procentaj\", \"prod\", \"profund\", \"proiect\", \"propun\", \"ptul\", \"ptul\", \"ptul\", \"public\", \"public\", \"public\", \"put\", \"put\", \"put\", \"putin\", \"putin\", \"putin\", \"raspuns\", \"raspuns\", \"rat\", \"realist\", \"reduc\", \"reduc\", \"relat\", \"relat\", \"relat\", \"roman\", \"roman\", \"roman\", \"salar\", \"salar\", \"salar\", \"sarac\", \"sarac\", \"scad\", \"scad\", \"scad\", \"scazut\", \"scazut\", \"schimb\", \"schimb\", \"schimb\", \"servic\", \"servic\", \"servic\", \"sigur\", \"sigur\", \"sigur\", \"sist\", \"sist\", \"sist\", \"social\", \"social\", \"social\", \"somaj\", \"sprijin\", \"stabil\", \"stabil\", \"stabil\", \"stat\", \"stat\", \"stat\", \"stem\", \"stem\", \"stiu\", \"stiu\", \"stiu\", \"structur\", \"suficient\", \"suficient\", \"sustin\", \"sustin\", \"tar\", \"tar\", \"tar\", \"tax\", \"tax\", \"tax\", \"tiner\", \"traiest\", \"transparent\", \"transparent\", \"transparent\", \"trebui\", \"trebui\", \"trebui\", \"trecut\", \"tul\", \"tul\", \"tva\", \"tva\", \"tva\", \"urma\", \"urma\", \"urmar\", \"veder\", \"veder\", \"venit\", \"venit\", \"venit\", \"venitur\", \"venitur\", \"venitur\", \"xel\", \"xel\"]}, \"R\": 30, \"lambda.step\": 0.01, \"plot.opts\": {\"xlab\": \"PC1\", \"ylab\": \"PC2\"}, \"topic.order\": [3, 1, 2]};\n",
       "\n",
       "function LDAvis_load_lib(url, callback){\n",
       "  var s = document.createElement('script');\n",
       "  s.src = url;\n",
       "  s.async = true;\n",
       "  s.onreadystatechange = s.onload = callback;\n",
       "  s.onerror = function(){console.warn(\"failed to load library \" + url);};\n",
       "  document.getElementsByTagName(\"head\")[0].appendChild(s);\n",
       "}\n",
       "\n",
       "if(typeof(LDAvis) !== \"undefined\"){\n",
       "   // already loaded: just create the visualization\n",
       "   !function(LDAvis){\n",
       "       new LDAvis(\"#\" + \"ldavis_el1772826999454300969468150449\", ldavis_el1772826999454300969468150449_data);\n",
       "   }(LDAvis);\n",
       "}else if(typeof define === \"function\" && define.amd){\n",
       "   // require.js is available: use it to load d3/LDAvis\n",
       "   require.config({paths: {d3: \"https://d3js.org/d3.v5\"}});\n",
       "   require([\"d3\"], function(d3){\n",
       "      window.d3 = d3;\n",
       "      LDAvis_load_lib(\"https://cdn.jsdelivr.net/gh/bmabey/pyLDAvis@3.4.0/pyLDAvis/js/ldavis.v3.0.0.js\", function(){\n",
       "        new LDAvis(\"#\" + \"ldavis_el1772826999454300969468150449\", ldavis_el1772826999454300969468150449_data);\n",
       "      });\n",
       "    });\n",
       "}else{\n",
       "    // require.js not available: dynamically load d3 & LDAvis\n",
       "    LDAvis_load_lib(\"https://d3js.org/d3.v5.js\", function(){\n",
       "         LDAvis_load_lib(\"https://cdn.jsdelivr.net/gh/bmabey/pyLDAvis@3.4.0/pyLDAvis/js/ldavis.v3.0.0.js\", function(){\n",
       "                 new LDAvis(\"#\" + \"ldavis_el1772826999454300969468150449\", ldavis_el1772826999454300969468150449_data);\n",
       "            })\n",
       "         });\n",
       "}\n",
       "</script>"
      ]
     },
     "execution_count": 99,
     "metadata": {},
     "output_type": "execute_result"
    },
    {
     "data": {
      "text/plain": [
       "<IPython.core.display.HTML object>"
      ],
      "text/html": [
       "\n",
       "<link rel=\"stylesheet\" type=\"text/css\" href=\"https://cdn.jsdelivr.net/gh/bmabey/pyLDAvis@3.4.0/pyLDAvis/js/ldavis.v1.0.0.css\">\n",
       "\n",
       "\n",
       "<div id=\"ldavis_el1772826999454272804273865191\" style=\"background-color:white;\"></div>\n",
       "<script type=\"text/javascript\">\n",
       "\n",
       "var ldavis_el1772826999454272804273865191_data = {\"mdsDat\": {\"x\": [-0.04360555734373725, -0.046712263967744624, 0.09031782131148187], \"y\": [0.0656971376466259, -0.0642076710649683, -0.0014894665816576006], \"topics\": [1, 2, 3], \"cluster\": [1, 1, 1], \"Freq\": [52.635482996445916, 26.75061996795593, 20.613897035598157]}, \"tinfo\": {\"Term\": [\"mic\", \"stiu\", \"crear\", \"mar\", \"social\", \"xel\", \"stat\", \"pozit\", \"transparent\", \"firm\", \"gurant\", \"ducer\", \"asigur\", \"reduc\", \"anum\", \"dezvolt\", \"servic\", \"cetaten\", \"incred\", \"protect\", \"munc\", \"modern\", \"termen\", \"strateg\", \"psa\", \"dul\", \"platit\", \"locur\", \"scad\", \"invest\", \"eficiente\", \"indirect\", \"aduc\", \"elimin\", \"dependent\", \"duc\", \"nemultumest\", \"ajung\", \"modific\", \"taier\", \"pens\", \"oarb\", \"reduc\", \"structur\", \"categor\", \"cilitat\", \"puner\", \"slab\", \"calc\", \"ministru\", \"complic\", \"flexibil\", \"procent\", \"mplific\", \"raspund\", \"legat\", \"ales\", \"nant\", \"cauz\", \"dialog\", \"neces\", \"exces\", \"crest\", \"aloc\", \"finant\", \"fapt\", \"benefic\", \"compet\", \"actual\", \"lucrur\", \"birocrat\", \"fiscal\", \"roman\", \"impoz\", \"ministr\", \"tax\", \"stabil\", \"stem\", \"venitur\", \"public\", \"sist\", \"fondur\", \"transparent\", \"ofer\", \"mar\", \"treb\", \"part\", \"plat\", \"nevoi\", \"salar\", \"ban\", \"tar\", \"invest\", \"stat\", \"schimb\", \"servic\", \"econom\", \"mic\", \"crear\", \"modern\", \"strateg\", \"termen\", \"concurente\", \"context\", \"esential\", \"stud\", \"general\", \"castig\", \"cultur\", \"ces\", \"proven\", \"lung\", \"mediu\", \"asigur\", \"aver\", \"particip\", \"constitu\", \"surs\", \"obligatoriu\", \"gen\", \"imed\", \"vatam\", \"predictib\", \"gasesc\", \"atrag\", \"implementar\", \"strict\", \"redres\", \"manifest\", \"europen\", \"urma\", \"etc\", \"platit\", \"incred\", \"ducer\", \"dezvolt\", \"anum\", \"locur\", \"facil\", \"folos\", \"munc\", \"invest\", \"tax\", \"servic\", \"stat\", \"incerc\", \"sist\", \"public\", \"fiscal\", \"plat\", \"cetaten\", \"impoz\", \"ofer\", \"mar\", \"ban\", \"venitur\", \"roman\", \"buget\", \"numar\", \"persoan\", \"schimb\", \"mic\", \"econom\", \"stiu\", \"dul\", \"microintreprinder\", \"noil\", \"dificar\", \"rupt\", \"vel\", \"populat\", \"loc\", \"centraliz\", \"tel\", \"carbur\", \"imuleaz\", \"computeriz\", \"preven\", \"claritat\", \"ntribut\", \"anul\", \"transparentiz\", \"deoseb\", \"ved\", \"subteran\", \"dispun\", \"reform\", \"umit\", \"adu\", \"noapt\", \"rer\", \"investeasc\", \"zon\", \"protect\", \"psa\", \"mic\", \"infiint\", \"gurant\", \"legatur\", \"educat\", \"med\", \"social\", \"activ\", \"firm\", \"jurid\", \"ajutor\", \"pozit\", \"xel\", \"oamen\", \"ridic\", \"mar\", \"lte\", \"transparent\", \"econom\", \"fac\", \"ofer\", \"impoz\", \"stat\", \"scad\", \"rvic\", \"tax\", \"fiscal\", \"salar\", \"servic\", \"stabil\", \"tva\", \"ban\", \"sist\", \"schimb\", \"public\", \"plat\"], \"Freq\": [100.0, 23.0, 14.0, 113.0, 33.0, 37.0, 79.0, 29.0, 52.0, 22.0, 14.0, 17.0, 14.0, 44.0, 36.0, 33.0, 63.0, 32.0, 18.0, 10.0, 37.0, 8.0, 8.0, 8.0, 10.0, 6.0, 19.0, 23.0, 17.0, 52.0, 15.423888713006424, 11.812273833083454, 10.090837017438544, 9.189346242199255, 9.993070540417799, 9.090876134195746, 25.52255969536614, 6.528154454545302, 6.499675997919102, 6.496527223440432, 9.717635690401078, 5.597313691499252, 40.762807954494974, 7.954693429244957, 4.75077949238662, 4.749791205991592, 4.74865310095853, 4.746412537395939, 4.727354573406089, 3.859995583606796, 3.860000749766728, 3.8597525157819863, 3.8596450596553966, 3.8592873030800927, 3.8576119174140833, 3.8567274708336923, 3.856428866789612, 3.8557593324623998, 3.855548811445163, 5.40342202646822, 16.769903786075012, 15.214853483366161, 23.569552860456753, 15.066550596656743, 30.197957165102203, 21.429452510371103, 9.727095962468905, 6.806630622914103, 28.88400844673272, 7.432720128176229, 18.79899472476974, 168.33420482562912, 52.751791321290995, 173.31408542944862, 14.917875746432205, 158.81893175269988, 34.161662376115736, 28.27257275411825, 40.99449576220591, 74.75873991998604, 79.60600313188225, 14.700219229097105, 34.14976161009594, 56.38940025152877, 57.244949399723076, 24.559095665580298, 20.334106749836298, 36.63044208694323, 22.408518343152164, 25.282758950097698, 28.14129029792143, 21.95819244771901, 26.57818595187829, 32.73137586900127, 23.139060886235267, 27.135810922639063, 23.28181015101758, 28.11196924061029, 13.666202704790082, 8.29074151987987, 8.273454262407128, 8.273218486501012, 5.8796440674816735, 5.879636190781024, 5.878962995432157, 4.284879993725109, 3.480137705202993, 3.468564731494973, 3.46630070517154, 3.4676239908807016, 3.4429961735157506, 7.491306814812257, 8.078764277106606, 12.0692709630147, 2.677253005250781, 2.6768512935176423, 2.676721853070298, 2.6766336340230206, 2.673527325843439, 2.6713696349787783, 2.6719806043925125, 2.6672842529084306, 5.077664137877432, 2.569022149745847, 6.458627775216998, 1.8746312558219267, 1.8745948917205937, 1.8745616782995205, 4.957414749964389, 5.811120972735678, 3.0383703236936954, 9.247865146389017, 12.381372098427466, 11.48658100506697, 10.615746634176066, 18.039600010190565, 19.35696874182401, 13.523302551375181, 8.693256676484474, 7.086858190754821, 17.674467674869774, 21.434733149651294, 64.47676850814959, 24.337477978093528, 28.275922823386896, 11.923347206777041, 35.50272215367919, 33.60357611114664, 48.04040055002747, 21.574192760222374, 13.555055107034539, 44.05989412326432, 25.653567533541448, 26.097191715950586, 13.25053660878062, 12.8379686816934, 13.264332387412004, 10.441238856393763, 10.316976026942974, 9.979891047295888, 10.66634130801643, 12.234055741514926, 10.241148605127757, 21.85863037159842, 6.282314429630199, 3.2708450485159557, 3.266128652746611, 3.2628712218390374, 5.095205444459839, 2.51593604266048, 2.5159152031956675, 2.513957102802904, 2.509893002514678, 2.974894097119423, 1.7610808552286947, 1.760944285920458, 1.7608457536936264, 1.7608334118746598, 1.7607955771181558, 1.76068146587394, 1.7598693337209588, 1.7582153276545356, 1.754847427350966, 1.754049457941061, 1.753651889510416, 1.7511730048222427, 1.7503843423577878, 2.322495430300783, 1.7425930127416542, 1.7412544311960327, 1.7395540927272597, 1.7349269222392965, 1.735443255386882, 7.350266187551717, 7.227417744807359, 60.565651607899, 3.3024150167826734, 9.122981129242977, 3.1835019956894466, 3.1664895063811658, 5.266704932920665, 15.938179692667644, 7.110256250382882, 11.34910293708193, 5.482004120619588, 3.125859833693372, 13.374585614905254, 15.555073445952816, 6.263810603475973, 8.070662611779, 30.410487960740628, 6.883981746099348, 14.98168305766022, 13.685052366330597, 6.022541396122745, 21.738001028369233, 37.50288863395238, 18.17886484688717, 7.055478806661362, 8.055774736257082, 29.092164802815574, 25.14852228630313, 10.143825985093155, 12.275661961124646, 9.762991442367783, 8.12571278946719, 9.760755347560918, 12.444800722639537, 8.876958096013702, 9.276315888083806, 8.337937043319325], \"Total\": [100.0, 23.0, 14.0, 113.0, 33.0, 37.0, 79.0, 29.0, 52.0, 22.0, 14.0, 17.0, 14.0, 44.0, 36.0, 33.0, 63.0, 32.0, 18.0, 10.0, 37.0, 8.0, 8.0, 8.0, 10.0, 6.0, 19.0, 23.0, 17.0, 52.0, 15.962537721912922, 12.393453278637391, 10.61733548600654, 9.725243185535417, 10.607549844139179, 9.70943318743906, 27.343621891450738, 7.052903739730062, 7.0501750281880025, 7.049816703684803, 10.573567630672185, 6.157921635873377, 44.96678537718512, 8.782183966995106, 5.271413635559911, 5.271204742964177, 5.271067162727564, 5.270792809145911, 5.268035825158334, 4.380319592600509, 4.380339381069583, 4.380308023732474, 4.380290895633605, 4.380236907438402, 4.3800778878673245, 4.3800096840087255, 4.379867222086364, 4.37968941746008, 4.379600579739408, 6.138941051433019, 19.252266598833096, 17.4517222653241, 27.162937924651338, 17.425046671631183, 35.859625521960076, 25.37922948678428, 11.31670163878851, 7.883727820544472, 35.626475815469604, 8.700793755937541, 23.27767422696659, 241.5231276619597, 70.01320023159371, 254.87686818666532, 18.23052916290094, 252.38786506366503, 46.11885909818134, 37.811590406263655, 57.621525475530404, 117.63863191921648, 127.55352600820098, 18.30201660179677, 52.209996929587916, 103.78096881343944, 113.75262907641428, 37.4652898861887, 29.22184165779318, 66.54257189048494, 34.03600347435016, 41.20416219053942, 51.15258225426297, 34.12411982978249, 52.1641218782742, 79.18616353927533, 42.6823602902654, 63.74895086185724, 47.20801112247593, 100.91167659002421, 14.50304670704889, 8.852890928005978, 8.854699933594357, 8.855147896674007, 6.442606157058596, 6.442600803404362, 6.442681606395399, 4.834113709028271, 4.03056599126814, 4.031818544977483, 4.029706707780134, 4.0315948956537815, 4.034529083883265, 8.806757676139439, 9.631838782483314, 14.54319578742496, 3.226923375014177, 3.2269728496371846, 3.2269768682412927, 3.2270006509986295, 3.2273993202002274, 3.22653585768344, 3.227376567342804, 3.2265031679383576, 6.394300874642968, 3.2385795013611443, 8.161251628937492, 2.4233962333178383, 2.4233960980183693, 2.423396457884834, 6.542549699973438, 8.105968744638812, 4.0783469913336114, 14.026315811602547, 19.68295350089998, 18.281635364188094, 17.304932121705164, 33.11850144369108, 36.16561654592716, 23.97596288245275, 14.155095524601961, 11.04666469932646, 37.837463955595716, 52.1641218782742, 252.38786506366503, 63.74895086185724, 79.18616353927533, 24.932100204907382, 127.55352600820098, 117.63863191921648, 241.5231276619597, 66.54257189048494, 32.334102287793655, 254.87686818666532, 103.78096881343944, 113.75262907641428, 51.15258225426297, 57.621525475530404, 70.01320023159371, 29.113510545677816, 30.898509108438663, 27.36873180375367, 42.6823602902654, 100.91167659002421, 47.20801112247593, 23.54861636372294, 6.857150991904877, 3.8360481863194114, 3.836611152769434, 3.8373377768971717, 6.154859318231211, 3.081114545247057, 3.081114096881919, 3.0814526442743753, 3.081724285032498, 3.8889928422488222, 2.3261769977341133, 2.326204674804556, 2.326196687166969, 2.3261976506036106, 2.3262011098670956, 2.3261980445089705, 2.3262534926105474, 2.3266528272355815, 2.326838470034254, 2.326746361716152, 2.327407399882263, 2.327798490588005, 2.327907017024719, 3.0939194325666097, 2.32916918252374, 2.3295333848537387, 2.329835518869835, 2.3277081148857004, 2.330560655485702, 10.002866831184313, 10.011399850934364, 100.91167659002421, 4.720802484354497, 14.713930771909197, 4.742370391475394, 4.745156087450274, 8.776162100573128, 33.915712554632094, 12.770528647896505, 22.687563471738606, 9.410882606860845, 4.75266952409766, 29.691639593309155, 37.758196219711046, 11.938686105361903, 17.97700530653392, 113.75262907641428, 15.43803263147252, 52.209996929587916, 47.20801112247593, 12.969988224660717, 103.78096881343944, 254.87686818666532, 79.18616353927533, 17.379892267182424, 22.184361948429057, 252.38786506366503, 241.5231276619597, 41.20416219053942, 63.74895086185724, 46.11885909818134, 29.332061050902798, 51.15258225426297, 127.55352600820098, 42.6823602902654, 117.63863191921648, 66.54257189048494], \"Category\": [\"Default\", \"Default\", \"Default\", \"Default\", \"Default\", \"Default\", \"Default\", \"Default\", \"Default\", \"Default\", \"Default\", \"Default\", \"Default\", \"Default\", \"Default\", \"Default\", \"Default\", \"Default\", \"Default\", \"Default\", \"Default\", \"Default\", \"Default\", \"Default\", \"Default\", \"Default\", \"Default\", \"Default\", \"Default\", \"Default\", \"Topic1\", \"Topic1\", \"Topic1\", \"Topic1\", \"Topic1\", \"Topic1\", \"Topic1\", \"Topic1\", \"Topic1\", \"Topic1\", \"Topic1\", \"Topic1\", \"Topic1\", \"Topic1\", \"Topic1\", \"Topic1\", \"Topic1\", \"Topic1\", \"Topic1\", \"Topic1\", \"Topic1\", \"Topic1\", \"Topic1\", \"Topic1\", \"Topic1\", \"Topic1\", \"Topic1\", \"Topic1\", \"Topic1\", \"Topic1\", \"Topic1\", \"Topic1\", \"Topic1\", \"Topic1\", \"Topic1\", \"Topic1\", \"Topic1\", \"Topic1\", \"Topic1\", \"Topic1\", \"Topic1\", \"Topic1\", \"Topic1\", \"Topic1\", \"Topic1\", \"Topic1\", \"Topic1\", \"Topic1\", \"Topic1\", \"Topic1\", \"Topic1\", \"Topic1\", \"Topic1\", \"Topic1\", \"Topic1\", \"Topic1\", \"Topic1\", \"Topic1\", \"Topic1\", \"Topic1\", \"Topic1\", \"Topic1\", \"Topic1\", \"Topic1\", \"Topic1\", \"Topic1\", \"Topic1\", \"Topic1\", \"Topic2\", \"Topic2\", \"Topic2\", \"Topic2\", \"Topic2\", \"Topic2\", \"Topic2\", \"Topic2\", \"Topic2\", \"Topic2\", \"Topic2\", \"Topic2\", \"Topic2\", \"Topic2\", \"Topic2\", \"Topic2\", \"Topic2\", \"Topic2\", \"Topic2\", \"Topic2\", \"Topic2\", \"Topic2\", \"Topic2\", \"Topic2\", \"Topic2\", \"Topic2\", \"Topic2\", \"Topic2\", \"Topic2\", \"Topic2\", \"Topic2\", \"Topic2\", \"Topic2\", \"Topic2\", \"Topic2\", \"Topic2\", \"Topic2\", \"Topic2\", \"Topic2\", \"Topic2\", \"Topic2\", \"Topic2\", \"Topic2\", \"Topic2\", \"Topic2\", \"Topic2\", \"Topic2\", \"Topic2\", \"Topic2\", \"Topic2\", \"Topic2\", \"Topic2\", \"Topic2\", \"Topic2\", \"Topic2\", \"Topic2\", \"Topic2\", \"Topic2\", \"Topic2\", \"Topic2\", \"Topic2\", \"Topic2\", \"Topic2\", \"Topic2\", \"Topic2\", \"Topic3\", \"Topic3\", \"Topic3\", \"Topic3\", \"Topic3\", \"Topic3\", \"Topic3\", \"Topic3\", \"Topic3\", \"Topic3\", \"Topic3\", \"Topic3\", \"Topic3\", \"Topic3\", \"Topic3\", \"Topic3\", \"Topic3\", \"Topic3\", \"Topic3\", \"Topic3\", \"Topic3\", \"Topic3\", \"Topic3\", \"Topic3\", \"Topic3\", \"Topic3\", \"Topic3\", \"Topic3\", \"Topic3\", \"Topic3\", \"Topic3\", \"Topic3\", \"Topic3\", \"Topic3\", \"Topic3\", \"Topic3\", \"Topic3\", \"Topic3\", \"Topic3\", \"Topic3\", \"Topic3\", \"Topic3\", \"Topic3\", \"Topic3\", \"Topic3\", \"Topic3\", \"Topic3\", \"Topic3\", \"Topic3\", \"Topic3\", \"Topic3\", \"Topic3\", \"Topic3\", \"Topic3\", \"Topic3\", \"Topic3\", \"Topic3\", \"Topic3\", \"Topic3\", \"Topic3\", \"Topic3\", \"Topic3\", \"Topic3\", \"Topic3\", \"Topic3\", \"Topic3\", \"Topic3\", \"Topic3\"], \"logprob\": [30.0, 29.0, 28.0, 27.0, 26.0, 25.0, 24.0, 23.0, 22.0, 21.0, 20.0, 19.0, 18.0, 17.0, 16.0, 15.0, 14.0, 13.0, 12.0, 11.0, 10.0, 9.0, 8.0, 7.0, 6.0, 5.0, 4.0, 3.0, 2.0, 1.0, -5.662, -5.9288, -6.0863, -6.1798, -6.096, -6.1906, -5.1583, -6.5218, -6.5261, -6.5266, -6.1239, -6.6756, -4.6901, -6.3241, -6.8396, -6.8398, -6.84, -6.8405, -6.8445, -7.0472, -7.0472, -7.0473, -7.0473, -7.0474, -7.0478, -7.0481, -7.0481, -7.0483, -7.0484, -6.7109, -5.5783, -5.6756, -5.2379, -5.6854, -4.9901, -5.3331, -6.123, -6.48, -5.0346, -6.392, -5.4641, -3.2719, -4.4323, -3.2428, -5.6953, -3.3301, -4.8668, -5.056, -4.6845, -4.0836, -4.0208, -5.71, -4.8671, -4.3656, -4.3506, -5.1968, -5.3856, -4.797, -5.2884, -5.1678, -5.0607, -5.3088, -5.1178, -4.9096, -5.2564, -5.097, -5.2502, -5.0617, -5.1061, -5.6059, -5.608, -5.608, -5.9496, -5.9496, -5.9497, -6.266, -6.474, -6.4773, -6.478, -6.4776, -6.4847, -5.7073, -5.6318, -5.2304, -6.7363, -6.7364, -6.7365, -6.7365, -6.7377, -6.7385, -6.7382, -6.74, -6.0962, -6.7775, -5.8556, -7.0926, -7.0927, -7.0927, -6.1202, -5.9613, -6.6097, -5.4967, -5.2049, -5.2799, -5.3587, -4.8285, -4.758, -5.1166, -5.5585, -5.7628, -4.8489, -4.656, -3.5548, -4.529, -4.379, -5.2426, -4.1514, -4.2064, -3.849, -4.6496, -5.1143, -3.9355, -4.4764, -4.4592, -5.137, -5.1687, -5.136, -5.3753, -5.3873, -5.4205, -5.354, -5.2168, -5.3946, -4.3759, -5.6227, -6.2754, -6.2769, -6.2779, -5.8322, -6.5378, -6.5378, -6.5386, -6.5402, -6.3703, -6.8945, -6.8946, -6.8947, -6.8947, -6.8947, -6.8948, -6.8952, -6.8962, -6.8981, -6.8985, -6.8988, -6.9002, -6.9006, -6.6178, -6.9051, -6.9059, -6.9068, -6.9095, -6.9092, -5.4657, -5.4826, -3.3567, -6.2658, -5.2497, -6.3025, -6.3078, -5.7991, -4.6917, -5.4989, -5.0313, -5.759, -6.3208, -4.8671, -4.7161, -5.6257, -5.3722, -4.0457, -5.5313, -4.7536, -4.8442, -5.665, -4.3814, -3.836, -4.5602, -5.5067, -5.3741, -4.09, -4.2357, -5.1436, -4.9528, -5.1819, -5.3654, -5.1821, -4.9392, -5.277, -5.233, -5.3397], \"loglift\": [30.0, 29.0, 28.0, 27.0, 26.0, 25.0, 24.0, 23.0, 22.0, 21.0, 20.0, 19.0, 18.0, 17.0, 16.0, 15.0, 14.0, 13.0, 12.0, 11.0, 10.0, 9.0, 8.0, 7.0, 6.0, 5.0, 4.0, 3.0, 2.0, 1.0, 0.6075, 0.5938, 0.5909, 0.5851, 0.5821, 0.576, 0.5729, 0.5645, 0.5605, 0.56, 0.5574, 0.5463, 0.5436, 0.5428, 0.5378, 0.5376, 0.5374, 0.537, 0.5335, 0.5153, 0.5153, 0.5153, 0.5152, 0.5152, 0.5148, 0.5145, 0.5145, 0.5144, 0.5143, 0.5142, 0.5037, 0.5046, 0.4999, 0.4963, 0.4699, 0.4726, 0.4904, 0.4949, 0.432, 0.4843, 0.4281, 0.2808, 0.3587, 0.2561, 0.4412, 0.1786, 0.3417, 0.3511, 0.3013, 0.1884, 0.1703, 0.4226, 0.2173, 0.0318, -0.0449, 0.2194, 0.2792, 0.0448, 0.2238, 0.1534, 0.0442, 0.2009, -0.0325, -0.2417, 0.0295, -0.2123, -0.0651, -0.6363, 1.2592, 1.253, 1.2507, 1.2506, 1.2272, 1.2272, 1.227, 1.198, 1.1718, 1.1681, 1.168, 1.1679, 1.1601, 1.1568, 1.1428, 1.1322, 1.1319, 1.1317, 1.1317, 1.1316, 1.1303, 1.1298, 1.1298, 1.1283, 1.0881, 1.087, 1.0846, 1.0619, 1.0618, 1.0618, 1.0412, 0.9858, 1.0242, 0.9021, 0.8551, 0.8539, 0.83, 0.7111, 0.6936, 0.746, 0.8311, 0.8747, 0.5574, 0.4292, -0.046, 0.3557, 0.2888, 0.581, 0.0397, 0.0656, -0.2963, 0.1923, 0.4492, -0.4366, -0.079, -0.1536, -0.0322, -0.1829, -0.345, 0.2932, 0.2217, 0.3098, -0.0681, -0.7914, -0.2095, 1.5047, 1.4917, 1.4198, 1.4182, 1.417, 1.3903, 1.3766, 1.3766, 1.3757, 1.374, 1.3113, 1.3009, 1.3008, 1.3008, 1.3008, 1.3007, 1.3007, 1.3002, 1.2991, 1.2971, 1.2967, 1.2962, 1.2946, 1.2941, 1.2924, 1.2891, 1.2881, 1.287, 1.2853, 1.2844, 1.2711, 1.2534, 1.0687, 1.2219, 1.1012, 1.1806, 1.1747, 1.0686, 0.824, 0.9936, 0.8865, 1.0388, 1.1602, 0.7817, 0.6924, 0.9342, 0.7783, 0.26, 0.7716, 0.3308, 0.3409, 0.8121, 0.016, -0.3372, 0.1077, 0.6777, 0.5662, -0.5813, -0.683, 0.1775, -0.0681, 0.0266, 0.2956, -0.0772, -0.748, 0.0089, -0.9609, -0.4978]}, \"token.table\": {\"Topic\": [1, 2, 3, 1, 2, 3, 3, 1, 1, 1, 3, 1, 1, 3, 3, 1, 2, 3, 1, 2, 3, 1, 2, 2, 1, 2, 3, 1, 3, 1, 3, 1, 2, 1, 3, 2, 1, 1, 3, 2, 1, 2, 1, 3, 1, 2, 1, 3, 2, 2, 2, 1, 2, 1, 2, 3, 2, 3, 1, 1, 2, 3, 1, 3, 3, 1, 2, 3, 3, 1, 2, 3, 1, 3, 1, 1, 2, 1, 2, 3, 1, 2, 3, 1, 3, 1, 2, 3, 1, 2, 1, 2, 1, 2, 3, 1, 2, 3, 1, 2, 3, 1, 2, 3, 1, 2, 2, 2, 2, 2, 3, 2, 2, 1, 2, 3, 3, 1, 2, 3, 1, 2, 1, 1, 3, 1, 2, 3, 3, 1, 2, 3, 1, 1, 3, 3, 1, 2, 3, 1, 2, 3, 1, 3, 2, 3, 1, 2, 1, 2, 3, 1, 2, 3, 1, 2, 3, 1, 2, 3, 3, 1, 2, 3, 1, 2, 1, 1, 1, 2, 3, 1, 1, 2, 3, 1, 2, 3, 1, 2, 3, 3, 3, 3, 1, 2, 1, 2, 3, 1, 2, 1, 2, 3, 1, 2, 3, 2, 1, 1, 2, 3, 1, 2, 3, 1, 2, 3, 3, 1, 2, 3, 2, 3, 3, 1, 2, 3, 2, 2, 3, 1, 2, 3, 1, 1, 2, 1, 2, 3, 3, 1, 2, 3, 1, 2, 3, 1, 3, 1, 2, 3, 1, 2, 3, 1, 2, 3, 1, 2, 3, 1, 2, 3, 1, 2, 3, 1, 1, 2, 3, 1, 2, 3, 1, 2, 3, 1, 2, 3, 2, 3, 2, 2, 1, 3, 2, 3, 2, 1, 1, 2, 3, 1, 2, 3, 1, 3, 2, 1, 2, 3, 3, 1, 2, 3, 1, 2, 3, 3, 1, 2, 2, 3, 3, 1, 2, 3, 1, 2, 3, 3], \"Freq\": [0.31322117590322773, 0.15661058795161387, 0.5481370578306485, 0.8140013665737805, 0.11227605056190076, 0.05613802528095038, 0.8586752800124751, 0.9418558934282356, 0.9924990129339144, 0.21040806538928447, 0.6312241961678534, 0.9132696945307366, 0.8608298320612664, 0.11477731094150219, 0.8597515302408328, 0.3318068692334072, 0.5253608762862281, 0.13825286218058633, 0.06876067781915364, 0.8251281338298436, 0.06876067781915364, 0.12253022519907149, 0.735181351194429, 0.9296781024392375, 0.5473819456625091, 0.2541416176290221, 0.19549355202232468, 0.8836496992838041, 0.08836496992838042, 0.8162327479430478, 0.17183847325116797, 0.6182696508467707, 0.34348313935931707, 0.9491203488255933, 0.8597798026324581, 0.7440811054696794, 0.9485121725737838, 0.9133252969470574, 0.9734809874363448, 0.7441223827409144, 0.5566877917249344, 0.4329793935638379, 0.948549761166805, 0.859770890623583, 0.8879048286977215, 0.12684354695681735, 0.9131712527314008, 0.8597725252698911, 0.9313001375113282, 0.9296626912714762, 0.9313009114004882, 0.0689510294077707, 0.9653144117087897, 0.8835568548061637, 0.11044460685077047, 0.03681486895025682, 0.7444710539871091, 0.8595353849253478, 0.9427247712180341, 0.3623352348958997, 0.5435028523438495, 0.09058380872397492, 0.8144727173806051, 0.7817920064430102, 0.8591808990712068, 0.926933614584542, 0.6356569284778044, 0.3467219609878933, 0.8749989619717028, 0.4872054435915349, 0.21182845373544995, 0.29655983522963, 0.2107412235910942, 0.6322236707732826, 0.939700206904346, 0.925426730036521, 0.9312892311865969, 0.28517823594783215, 0.6416510308826223, 0.07129455898695804, 0.123365884017427, 0.740195304104562, 0.123365884017427, 0.8595140222810228, 0.1146018696374697, 0.3855053615617909, 0.15420214462471635, 0.46260643387414907, 0.3532296897120798, 0.6358134414817436, 0.8274482884098323, 0.15760919779234903, 0.8365954625384556, 0.1394325770897426, 0.027886515417948524, 0.3966931050666194, 0.08815402334813766, 0.4848471284147571, 0.6955855599681366, 0.19873873141946763, 0.10350975594763938, 0.9131777898558804, 0.6336754296911724, 0.3621002455378128, 0.8195818158381192, 0.16391636316762384, 0.9263320535250497, 0.9297897597685196, 0.7443123388872013, 0.33981402233763724, 0.611665240207747, 0.9295475558558666, 0.8252880699009042, 0.6787591248700499, 0.17263237857966585, 0.14909159968243868, 0.85976957301405, 0.40108935540182455, 0.4813072264821895, 0.12032680662054737, 0.3281982098687628, 0.6016967180927318, 0.9682531357651877, 0.21182839216725582, 0.6354851765017675, 0.5175971343484881, 0.40257554893771297, 0.07668105694051676, 0.8592142576683022, 0.10625995900437296, 0.3187798770131189, 0.5312997950218649, 0.9132399899945134, 0.21086501421262693, 0.6325950426378808, 0.9735668031680702, 0.33366751688854784, 0.5839181545549588, 0.08341687922213696, 0.388650558217385, 0.12955018607246166, 0.45342565125361584, 0.8045242993173013, 0.11493204275961447, 0.7948441705129946, 0.11354916721614208, 0.15284561002326966, 0.7642280501163483, 0.5010873195881018, 0.22856614577702888, 0.2637301682042641, 0.3418350715974224, 0.11394502386580746, 0.5697251193290374, 0.10382233575364896, 0.8305786860291917, 0.10382233575364896, 0.2774703676142071, 0.11891587183466021, 0.6044890151595227, 0.7820548268134301, 0.8227956449297668, 0.10970608599063557, 0.10970608599063557, 0.9131753780607773, 0.9036596141371321, 0.8510427012110772, 0.9131926159535587, 0.47571898637614723, 0.47571898637614723, 0.05285766515290525, 0.9133067710357705, 0.8830129124136683, 0.05194193602433343, 0.05194193602433343, 0.9508615977508512, 0.036571599913494277, 0.036571599913494277, 0.6463743610961669, 0.20566456943968944, 0.14690326388549246, 0.8585410335836725, 0.7819400717308733, 0.8597720235906111, 0.6472804215183903, 0.32364021075919513, 0.25128393304960417, 0.25128393304960417, 0.5025678660992083, 0.9743547181644219, 0.929541002634245, 0.5395979690714556, 0.2505276284974616, 0.211984916420929, 0.6844195596640704, 0.23954684588242467, 0.034220977983203525, 0.9296638489962183, 0.9457545787092372, 0.43845656006443745, 0.36538046672036456, 0.18269023336018228, 0.5560350156121739, 0.3306154146883197, 0.12022378715938896, 0.254026917239396, 0.6096646013745505, 0.10161076689575842, 0.9736737769743723, 0.2694361143263626, 0.2694361143263626, 0.4378336857803392, 0.7819463140728704, 0.15638926281457408, 0.8597721691796191, 0.9131813606231747, 0.19994267980904482, 0.6997993793316569, 0.74358120554493, 0.1997722625985556, 0.6992029190949446, 0.6375456665587813, 0.2890207021733142, 0.07650547998705376, 0.9485745192843837, 0.9132257695873107, 0.8252879934245761, 0.9117841014448466, 0.08895454648242405, 0.8591408442748651, 0.8584296976338343, 0.4450129408980216, 0.1112532352245054, 0.4450129408980216, 0.7570001060469103, 0.18567927129452513, 0.05713208347523851, 0.16247325053196843, 0.8123662526598422, 0.45076797895952697, 0.18030719158381078, 0.36061438316762157, 0.6067348217006112, 0.1456163572081467, 0.24269392868024448, 0.575377559668911, 0.0575377559668911, 0.4027642917682377, 0.538864295310436, 0.2577177064528172, 0.21085994164321406, 0.42353638193212756, 0.37647678393966894, 0.18823839196983447, 0.6271876795852468, 0.28223445581336104, 0.09407815193778703, 0.9486238941746998, 0.35381830709498335, 0.17690915354749168, 0.4717577427933111, 0.737225522591923, 0.04336620721128959, 0.21683103605644793, 0.4167394722138852, 0.3535971279390541, 0.22731243938939194, 0.7405136811003241, 0.13223458591077217, 0.13223458591077217, 0.04246533998237441, 0.934237479612237, 0.9034749974585066, 0.8252881159771679, 0.9109351421087645, 0.11386689276359556, 0.8274526088473123, 0.8593252733067595, 0.9296558397258514, 0.8510859575772964, 0.6447052732712266, 0.2637430663382291, 0.08791435544607636, 0.6299827448514299, 0.25357796019177054, 0.11490251321189601, 0.2571359836758524, 0.7714079510275572, 0.9034292925818664, 0.6512162803965206, 0.0574602600349871, 0.28730130017493555, 0.8596039669469316, 0.6672843070464554, 0.21353097825486572, 0.13345686140929108, 0.6136629802032266, 0.13636955115627258, 0.27273910231254517, 0.6464292440675704, 0.24519738073414934, 0.7355921422024481, 0.9297991800568767, 0.8595694111346318, 0.9736736352849378, 0.7115396487968908, 0.2256101325453556, 0.06941850232164788, 0.4767176878699358, 0.10593726397109685, 0.4237490558843874, 0.8581626036174497], \"Term\": [\"activ\", \"activ\", \"activ\", \"actual\", \"actual\", \"actual\", \"adu\", \"aduc\", \"ajung\", \"ajutor\", \"ajutor\", \"ales\", \"aloc\", \"aloc\", \"anul\", \"anum\", \"anum\", \"anum\", \"asigur\", \"asigur\", \"asigur\", \"atrag\", \"atrag\", \"aver\", \"ban\", \"ban\", \"ban\", \"benefic\", \"benefic\", \"birocrat\", \"birocrat\", \"buget\", \"buget\", \"calc\", \"carbur\", \"castig\", \"categor\", \"cauz\", \"centraliz\", \"ces\", \"cetaten\", \"cetaten\", \"cilitat\", \"claritat\", \"compet\", \"compet\", \"complic\", \"computeriz\", \"concurente\", \"constitu\", \"context\", \"crear\", \"crear\", \"crest\", \"crest\", \"crest\", \"cultur\", \"deoseb\", \"dependent\", \"dezvolt\", \"dezvolt\", \"dezvolt\", \"dialog\", \"dificar\", \"dispun\", \"duc\", \"ducer\", \"ducer\", \"dul\", \"econom\", \"econom\", \"econom\", \"educat\", \"educat\", \"eficiente\", \"elimin\", \"esential\", \"etc\", \"etc\", \"etc\", \"europen\", \"europen\", \"europen\", \"exces\", \"exces\", \"fac\", \"fac\", \"fac\", \"facil\", \"facil\", \"fapt\", \"fapt\", \"finant\", \"finant\", \"finant\", \"firm\", \"firm\", \"firm\", \"fiscal\", \"fiscal\", \"fiscal\", \"flexibil\", \"folos\", \"folos\", \"fondur\", \"fondur\", \"gasesc\", \"gen\", \"general\", \"gurant\", \"gurant\", \"imed\", \"implementar\", \"impoz\", \"impoz\", \"impoz\", \"imuleaz\", \"incerc\", \"incerc\", \"incerc\", \"incred\", \"incred\", \"indirect\", \"infiint\", \"infiint\", \"invest\", \"invest\", \"invest\", \"investeasc\", \"jurid\", \"jurid\", \"jurid\", \"legat\", \"legatur\", \"legatur\", \"loc\", \"locur\", \"locur\", \"locur\", \"lte\", \"lte\", \"lte\", \"lucrur\", \"lucrur\", \"lung\", \"lung\", \"manifest\", \"manifest\", \"mar\", \"mar\", \"mar\", \"med\", \"med\", \"med\", \"mediu\", \"mediu\", \"mediu\", \"mic\", \"mic\", \"mic\", \"microintreprinder\", \"ministr\", \"ministr\", \"ministr\", \"ministru\", \"modern\", \"modific\", \"mplific\", \"munc\", \"munc\", \"munc\", \"nant\", \"neces\", \"neces\", \"neces\", \"nemultumest\", \"nemultumest\", \"nemultumest\", \"nevoi\", \"nevoi\", \"nevoi\", \"noapt\", \"noil\", \"ntribut\", \"numar\", \"numar\", \"oamen\", \"oamen\", \"oamen\", \"oarb\", \"obligatoriu\", \"ofer\", \"ofer\", \"ofer\", \"part\", \"part\", \"part\", \"particip\", \"pens\", \"persoan\", \"persoan\", \"persoan\", \"plat\", \"plat\", \"plat\", \"platit\", \"platit\", \"platit\", \"populat\", \"pozit\", \"pozit\", \"pozit\", \"predictib\", \"predictib\", \"preven\", \"procent\", \"protect\", \"protect\", \"proven\", \"psa\", \"psa\", \"public\", \"public\", \"public\", \"puner\", \"raspund\", \"redres\", \"reduc\", \"reduc\", \"reform\", \"rer\", \"ridic\", \"ridic\", \"ridic\", \"roman\", \"roman\", \"roman\", \"rupt\", \"rupt\", \"rvic\", \"rvic\", \"rvic\", \"salar\", \"salar\", \"salar\", \"scad\", \"scad\", \"scad\", \"schimb\", \"schimb\", \"schimb\", \"servic\", \"servic\", \"servic\", \"sist\", \"sist\", \"sist\", \"slab\", \"social\", \"social\", \"social\", \"stabil\", \"stabil\", \"stabil\", \"stat\", \"stat\", \"stat\", \"stem\", \"stem\", \"stem\", \"stiu\", \"stiu\", \"strateg\", \"strict\", \"structur\", \"structur\", \"stud\", \"subteran\", \"surs\", \"taier\", \"tar\", \"tar\", \"tar\", \"tax\", \"tax\", \"tax\", \"tel\", \"tel\", \"termen\", \"transparent\", \"transparent\", \"transparent\", \"transparentiz\", \"treb\", \"treb\", \"treb\", \"tva\", \"tva\", \"tva\", \"umit\", \"urma\", \"urma\", \"vatam\", \"ved\", \"vel\", \"venitur\", \"venitur\", \"venitur\", \"xel\", \"xel\", \"xel\", \"zon\"]}, \"R\": 30, \"lambda.step\": 0.01, \"plot.opts\": {\"xlab\": \"PC1\", \"ylab\": \"PC2\"}, \"topic.order\": [1, 3, 2]};\n",
       "\n",
       "function LDAvis_load_lib(url, callback){\n",
       "  var s = document.createElement('script');\n",
       "  s.src = url;\n",
       "  s.async = true;\n",
       "  s.onreadystatechange = s.onload = callback;\n",
       "  s.onerror = function(){console.warn(\"failed to load library \" + url);};\n",
       "  document.getElementsByTagName(\"head\")[0].appendChild(s);\n",
       "}\n",
       "\n",
       "if(typeof(LDAvis) !== \"undefined\"){\n",
       "   // already loaded: just create the visualization\n",
       "   !function(LDAvis){\n",
       "       new LDAvis(\"#\" + \"ldavis_el1772826999454272804273865191\", ldavis_el1772826999454272804273865191_data);\n",
       "   }(LDAvis);\n",
       "}else if(typeof define === \"function\" && define.amd){\n",
       "   // require.js is available: use it to load d3/LDAvis\n",
       "   require.config({paths: {d3: \"https://d3js.org/d3.v5\"}});\n",
       "   require([\"d3\"], function(d3){\n",
       "      window.d3 = d3;\n",
       "      LDAvis_load_lib(\"https://cdn.jsdelivr.net/gh/bmabey/pyLDAvis@3.4.0/pyLDAvis/js/ldavis.v3.0.0.js\", function(){\n",
       "        new LDAvis(\"#\" + \"ldavis_el1772826999454272804273865191\", ldavis_el1772826999454272804273865191_data);\n",
       "      });\n",
       "    });\n",
       "}else{\n",
       "    // require.js not available: dynamically load d3 & LDAvis\n",
       "    LDAvis_load_lib(\"https://d3js.org/d3.v5.js\", function(){\n",
       "         LDAvis_load_lib(\"https://cdn.jsdelivr.net/gh/bmabey/pyLDAvis@3.4.0/pyLDAvis/js/ldavis.v3.0.0.js\", function(){\n",
       "                 new LDAvis(\"#\" + \"ldavis_el1772826999454272804273865191\", ldavis_el1772826999454272804273865191_data);\n",
       "            })\n",
       "         });\n",
       "}\n",
       "</script>"
      ]
     },
     "execution_count": 99,
     "metadata": {},
     "output_type": "execute_result"
    }
   ],
   "execution_count": 99
  },
  {
   "cell_type": "markdown",
   "metadata": {
    "id": "Fuo-MNFI4hgl"
   },
   "source": "## 4.3. Topic analysis of all responses (disregarding any categorization)"
  },
  {
   "cell_type": "code",
   "metadata": {
    "colab": {
     "base_uri": "https://localhost:8080/",
     "height": 861
    },
    "id": "WSizAxmu4hA4",
    "outputId": "d4017377-9b55-4945-bac7-9ed72a5cb17e",
    "ExecuteTime": {
     "end_time": "2024-09-22T14:54:49.389376Z",
     "start_time": "2024-09-22T14:54:31.508363Z"
    }
   },
   "source": [
    "# Simulations using different number of topics to fine tune the model until it converge to a maximum number of distinct topics\n",
    "\n",
    "for num_topics in [2,3,4]: #4 already have overlapping topics, hence is too large\n",
    "    responses_list = df_text['all_responses_prep'].to_list()\n",
    "    dictionary_responses = Dictionary(responses_list)\n",
    "    responses_bow = [dictionary_responses.doc2bow(response) for response in responses_list]\n",
    "    # Build the LDA model\n",
    "    ldamodel = LdaModel(responses_bow,\n",
    "                        num_topics=num_topics,\n",
    "                        id2word=dictionary_responses,\n",
    "                        passes=15,\n",
    "                        alpha='symmetric',\n",
    "                        iterations=100,\n",
    "                        random_state=5)\n",
    "    lda_display = gensimvis.prepare(ldamodel,\n",
    "                                    responses_bow,\n",
    "                                    dictionary_responses,\n",
    "                                    sort_topics=True)\n",
    "    pyLDAvis.display(lda_display)\n",
    "    pyLDAvis.save_html(lda_display, f'Results/lda_result_{num_topics}topics_all_responses.html')"
   ],
   "outputs": [
    {
     "data": {
      "text/plain": [
       "<IPython.core.display.HTML object>"
      ],
      "text/html": [
       "\n",
       "<link rel=\"stylesheet\" type=\"text/css\" href=\"https://cdn.jsdelivr.net/gh/bmabey/pyLDAvis@3.4.0/pyLDAvis/js/ldavis.v1.0.0.css\">\n",
       "\n",
       "\n",
       "<div id=\"ldavis_el1772826999373507365691884048\" style=\"background-color:white;\"></div>\n",
       "<script type=\"text/javascript\">\n",
       "\n",
       "var ldavis_el1772826999373507365691884048_data = {\"mdsDat\": {\"x\": [0.07414300972555214, -0.07414300972555214], \"y\": [0.0, 0.0], \"topics\": [1, 2], \"cluster\": [1, 1], \"Freq\": [71.71062227832017, 28.289377721679816]}, \"tinfo\": {\"Term\": [\"mic\", \"pozit\", \"salar\", \"fiscal\", \"ofer\", \"persoan\", \"cot\", \"ansparent\", \"stat\", \"venit\", \"sist\", \"munc\", \"lte\", \"fizic\", \"ridic\", \"fondur\", \"putin\", \"locur\", \"tva\", \"rupt\", \"profit\", \"societ\", \"angaj\", \"tiner\", \"venitur\", \"mediu\", \"roman\", \"modern\", \"cheltuiel\", \"aloc\", \"ofer\", \"punct\", \"eficient\", \"exces\", \"masur\", \"predict\", \"autor\", \"electron\", \"veder\", \"ajung\", \"compet\", \"clar\", \"usor\", \"instit\", \"actual\", \"protect\", \"simplu\", \"instabil\", \"grad\", \"opin\", \"bin\", \"plan\", \"precum\", \"oarec\", \"major\", \"complic\", \"fiscal\", \"povar\", \"simt\", \"popul\", \"sist\", \"roman\", \"econom\", \"stem\", \"priv\", \"contribu\", \"privest\", \"tar\", \"birocrat\", \"fapt\", \"platit\", \"transparent\", \"reduc\", \"trebui\", \"impoz\", \"tax\", \"numar\", \"ban\", \"mar\", \"public\", \"schimb\", \"stabil\", \"social\", \"treb\", \"xel\", \"servic\", \"invest\", \"nevoi\", \"plat\", \"stat\", \"incerc\", \"venitur\", \"finant\", \"dezvolt\", \"ansparent\", \"rupt\", \"tiner\", \"parlamentar\", \"ader\", \"context\", \"concurente\", \"esential\", \"suficient\", \"realizeaz\", \"predictib\", \"lei\", \"multor\", \"sibil\", \"gratuitat\", \"euro\", \"comercial\", \"decent\", \"constitu\", \"nant\", \"masin\", \"claritat\", \"vatam\", \"per\", \"ligat\", \"retin\", \"civiliz\", \"univers\", \"depind\", \"caracter\", \"ajutoar\", \"pozit\", \"accent\", \"abil\", \"mic\", \"mediu\", \"europ\", \"lar\", \"europen\", \"fizic\", \"modern\", \"societ\", \"salar\", \"persoan\", \"lte\", \"creeaz\", \"med\", \"putin\", \"cot\", \"fondur\", \"venit\", \"profit\", \"ridic\", \"munc\", \"acord\", \"stat\", \"locur\", \"tva\", \"tax\", \"impoz\", \"angaj\", \"venitur\", \"mar\", \"public\", \"plat\", \"cheltuiel\", \"servic\", \"cetaten\", \"invest\", \"buget\", \"fiscal\", \"ban\"], \"Freq\": [165.0, 54.0, 66.0, 417.0, 178.0, 43.0, 45.0, 21.0, 151.0, 39.0, 240.0, 56.0, 25.0, 21.0, 35.0, 26.0, 23.0, 39.0, 41.0, 13.0, 23.0, 18.0, 29.0, 12.0, 89.0, 13.0, 137.0, 13.0, 43.0, 25.0, 175.10204156474404, 33.07747024341765, 37.345036452682976, 28.64764523777647, 26.005979366360403, 30.26437400204826, 13.772537494164647, 13.763280859621101, 32.61298733278131, 12.007033347536579, 11.13658446733782, 14.552830506598964, 13.6954710080034, 18.822134211186043, 69.27484162566766, 14.515132236972098, 13.658635857002892, 10.236097182596977, 14.496686516299247, 19.599208666771638, 40.00420987235194, 10.18726593358666, 14.41819150626655, 9.325649633997626, 9.323435547086534, 8.472975368467312, 398.08944418986925, 8.468754843474079, 8.4667277655987, 8.464238481444422, 229.34840176868929, 131.16211833330595, 79.27660522844998, 63.02825948864806, 23.593485250104415, 55.897363533959336, 21.75334886202074, 61.731114781095584, 38.42827784848598, 41.54217968741689, 35.96068674235095, 94.80993349100484, 73.32376362522136, 41.13609363178471, 357.8342719442831, 346.8215387453448, 44.73414747886043, 94.6924693004404, 177.95076334014047, 156.76708027689506, 66.40585532600024, 65.36934742567652, 54.83173476172026, 50.12813853497096, 57.61072155569325, 87.5251522415125, 77.36136751270072, 49.726870932887664, 83.41136374994664, 103.12093026392573, 44.98688862700287, 61.214984853292506, 44.9985469829415, 47.331419031364284, 20.566750089833548, 12.847902382203081, 11.29676038960615, 5.96921801427578, 7.386578641233, 7.3580570263071445, 7.3545237766640925, 7.3533863268837525, 5.143266628444109, 5.857853045044628, 7.3196482340281905, 4.388768801525098, 6.546648713133349, 5.079690341047097, 5.079184533661045, 5.046814341365614, 3.5817375727554737, 3.5789931358993514, 4.267184549213224, 4.25776123424343, 3.528279406961972, 2.792475480825492, 2.789272116292269, 2.7839317772368073, 2.7826095227090755, 2.7819830617563026, 2.7811091252873297, 2.7804740285986975, 2.7782968362208837, 3.4718544957977966, 4.849062405303081, 44.53676176573949, 4.839594184506818, 9.550792248255856, 129.1972328064567, 11.482414893406196, 8.790973821106205, 5.43691372325455, 8.535648174274883, 16.198844239203556, 10.09554828344512, 13.3738848211046, 41.79743529136373, 27.804209311599276, 17.49431515553479, 6.029881344599757, 8.228273713742315, 16.12992415845674, 27.324356506305648, 17.287041703848974, 23.381510457147225, 15.088165240027669, 19.393322353491293, 27.10421136695372, 10.398104990309376, 48.296613117742574, 19.772724279268203, 19.97925752502321, 85.80481361868496, 82.3389523235736, 16.04528901232827, 28.287713799484884, 42.03350768846415, 37.02847994577507, 26.794592108568327, 17.151886022531066, 24.710355778486683, 17.61346462380493, 19.42825020401297, 15.540653125529982, 19.15021701310697, 15.899075641345341], \"Total\": [165.0, 54.0, 66.0, 417.0, 178.0, 43.0, 45.0, 21.0, 151.0, 39.0, 240.0, 56.0, 25.0, 21.0, 35.0, 26.0, 23.0, 39.0, 41.0, 13.0, 23.0, 18.0, 29.0, 12.0, 89.0, 13.0, 137.0, 13.0, 43.0, 25.0, 178.14667880551727, 33.82656432030646, 38.268731476523264, 29.367417722179706, 26.69345463043622, 31.134761492001964, 14.225816999068044, 14.22484539698228, 33.77774380337947, 12.442825826585713, 11.552707454187619, 15.106448102140368, 14.217562739481114, 19.548687166966953, 71.97611781417028, 15.102396139833644, 14.213829350970984, 10.659316061076716, 15.100578405190442, 20.429082958985102, 41.743067842266214, 10.654116065606335, 15.092161836502449, 9.764837900280078, 9.764600008994671, 8.876611605576931, 417.2396612029762, 8.876160054973798, 8.875933250447885, 8.875666187865544, 240.55818203977816, 137.58640014972326, 83.41078538151552, 66.52732074690329, 24.84255635766301, 59.388076256256305, 23.051708061893983, 67.18991293942975, 41.57758884361119, 45.09977519700379, 38.92200442967007, 107.40859669301031, 81.986980863494, 45.057132720750936, 440.1732242678567, 432.6263523640298, 49.428992419715456, 110.59154494178574, 219.9842710286046, 193.79556022267013, 76.46770351382757, 75.56005855746868, 63.27021462304625, 57.18464701489161, 67.55593302765024, 112.23550801999919, 96.78961771671369, 57.142541147613244, 110.20595585851497, 151.4175433816683, 51.05311260239339, 89.50269865277738, 52.652005885585716, 60.08628937135982, 21.684501454475242, 13.66473267589457, 12.061544004680002, 6.439257055616709, 8.057821853356389, 8.061194817105493, 8.061607051574558, 8.06174012179394, 5.643472369405548, 6.452059597071621, 8.06564877726318, 4.839737651176143, 7.263737831445726, 5.650759293948013, 5.650798291104332, 5.654414868308148, 4.0418069685136935, 4.042083446849823, 4.853608765564112, 4.854299379277114, 4.047822327847807, 3.2419136239923474, 3.2422793409782513, 3.2428891259532415, 3.2429835508701577, 3.2431197068232547, 3.243156853045609, 3.2432147530511832, 3.243524929392289, 4.0544064054853255, 5.677297513836703, 54.57333719433661, 5.678568709093722, 11.37330631832726, 165.13343950312964, 13.824496355027387, 10.569982646995369, 6.501107091691095, 10.600009177986152, 21.303717449760352, 13.0945812294493, 18.06500272922024, 66.4973260397681, 43.14805301415123, 25.614478276512862, 7.323640031526553, 10.635786134448345, 23.98926596496345, 45.88184603768488, 26.53123107751857, 39.20424239511977, 23.21902352659322, 35.20938326010968, 56.61806494559076, 14.84387079626213, 151.4175433816683, 39.627547403580465, 41.38830711609337, 432.6263523640298, 440.1732242678567, 29.354411861518763, 89.50269865277738, 219.9842710286046, 193.79556022267013, 110.20595585851497, 43.50502671117118, 112.23550801999919, 59.51636285041815, 96.78961771671369, 55.29687275487413, 417.2396612029762, 110.59154494178574], \"Category\": [\"Default\", \"Default\", \"Default\", \"Default\", \"Default\", \"Default\", \"Default\", \"Default\", \"Default\", \"Default\", \"Default\", \"Default\", \"Default\", \"Default\", \"Default\", \"Default\", \"Default\", \"Default\", \"Default\", \"Default\", \"Default\", \"Default\", \"Default\", \"Default\", \"Default\", \"Default\", \"Default\", \"Default\", \"Default\", \"Default\", \"Topic1\", \"Topic1\", \"Topic1\", \"Topic1\", \"Topic1\", \"Topic1\", \"Topic1\", \"Topic1\", \"Topic1\", \"Topic1\", \"Topic1\", \"Topic1\", \"Topic1\", \"Topic1\", \"Topic1\", \"Topic1\", \"Topic1\", \"Topic1\", \"Topic1\", \"Topic1\", \"Topic1\", \"Topic1\", \"Topic1\", \"Topic1\", \"Topic1\", \"Topic1\", \"Topic1\", \"Topic1\", \"Topic1\", \"Topic1\", \"Topic1\", \"Topic1\", \"Topic1\", \"Topic1\", \"Topic1\", \"Topic1\", \"Topic1\", \"Topic1\", \"Topic1\", \"Topic1\", \"Topic1\", \"Topic1\", \"Topic1\", \"Topic1\", \"Topic1\", \"Topic1\", \"Topic1\", \"Topic1\", \"Topic1\", \"Topic1\", \"Topic1\", \"Topic1\", \"Topic1\", \"Topic1\", \"Topic1\", \"Topic1\", \"Topic1\", \"Topic1\", \"Topic1\", \"Topic1\", \"Topic1\", \"Topic1\", \"Topic1\", \"Topic1\", \"Topic2\", \"Topic2\", \"Topic2\", \"Topic2\", \"Topic2\", \"Topic2\", \"Topic2\", \"Topic2\", \"Topic2\", \"Topic2\", \"Topic2\", \"Topic2\", \"Topic2\", \"Topic2\", \"Topic2\", \"Topic2\", \"Topic2\", \"Topic2\", \"Topic2\", \"Topic2\", \"Topic2\", \"Topic2\", \"Topic2\", \"Topic2\", \"Topic2\", \"Topic2\", \"Topic2\", \"Topic2\", \"Topic2\", \"Topic2\", \"Topic2\", \"Topic2\", \"Topic2\", \"Topic2\", \"Topic2\", \"Topic2\", \"Topic2\", \"Topic2\", \"Topic2\", \"Topic2\", \"Topic2\", \"Topic2\", \"Topic2\", \"Topic2\", \"Topic2\", \"Topic2\", \"Topic2\", \"Topic2\", \"Topic2\", \"Topic2\", \"Topic2\", \"Topic2\", \"Topic2\", \"Topic2\", \"Topic2\", \"Topic2\", \"Topic2\", \"Topic2\", \"Topic2\", \"Topic2\", \"Topic2\", \"Topic2\", \"Topic2\", \"Topic2\", \"Topic2\", \"Topic2\", \"Topic2\", \"Topic2\", \"Topic2\", \"Topic2\", \"Topic2\", \"Topic2\"], \"logprob\": [30.0, 29.0, 28.0, 27.0, 26.0, 25.0, 24.0, 23.0, 22.0, 21.0, 20.0, 19.0, 18.0, 17.0, 16.0, 15.0, 14.0, 13.0, 12.0, 11.0, 10.0, 9.0, 8.0, 7.0, 6.0, 5.0, 4.0, 3.0, 2.0, 1.0, -4.1168, -5.7834, -5.662, -5.9271, -6.0239, -5.8722, -6.6595, -6.6602, -5.7975, -6.7967, -6.872, -6.6044, -6.6651, -6.3472, -5.0441, -6.607, -6.6678, -6.9563, -6.6083, -6.3067, -5.5932, -6.9611, -6.6137, -7.0494, -7.0497, -7.1453, -3.2955, -7.1458, -7.1461, -7.1464, -3.847, -4.4058, -4.9093, -5.1386, -6.1212, -5.2587, -6.2024, -5.1594, -5.6334, -5.5555, -5.6998, -4.7303, -4.9873, -5.5653, -3.4021, -3.4334, -5.4815, -4.7316, -4.1007, -4.2274, -5.0864, -5.1022, -5.2779, -5.3676, -5.2285, -4.8103, -4.9337, -5.3757, -4.8584, -4.6463, -5.4758, -5.1678, -5.4756, -5.425, -5.3284, -5.7989, -5.9275, -6.5654, -6.3524, -6.3563, -6.3567, -6.3569, -6.7144, -6.5843, -6.3615, -6.873, -6.4731, -6.7268, -6.7269, -6.7333, -7.0762, -7.077, -6.9011, -6.9033, -7.0912, -7.3251, -7.3263, -7.3282, -7.3287, -7.3289, -7.3292, -7.3294, -7.3302, -7.1074, -6.7733, -4.5557, -6.7752, -6.0954, -3.4907, -5.9112, -6.1783, -6.6588, -6.2078, -5.5671, -6.04, -5.7588, -4.6192, -5.0269, -5.4902, -6.5553, -6.2445, -5.5714, -5.0443, -5.5021, -5.2001, -5.6381, -5.3871, -5.0524, -6.0104, -4.4747, -5.3678, -5.3574, -3.9, -3.9412, -5.5766, -5.0096, -4.6136, -4.7404, -5.0639, -5.5099, -5.1448, -5.4834, -5.3853, -5.6086, -5.3997, -5.5858], \"loglift\": [30.0, 29.0, 28.0, 27.0, 26.0, 25.0, 24.0, 23.0, 22.0, 21.0, 20.0, 19.0, 18.0, 17.0, 16.0, 15.0, 14.0, 13.0, 12.0, 11.0, 10.0, 9.0, 8.0, 7.0, 6.0, 5.0, 4.0, 3.0, 2.0, 1.0, 0.3153, 0.3101, 0.3081, 0.3077, 0.3064, 0.3042, 0.3001, 0.2995, 0.2974, 0.2969, 0.2958, 0.2952, 0.2951, 0.2947, 0.2943, 0.2929, 0.2927, 0.292, 0.2917, 0.2911, 0.29, 0.2877, 0.2868, 0.2865, 0.2863, 0.286, 0.2855, 0.2855, 0.2853, 0.2851, 0.2848, 0.2847, 0.2817, 0.2785, 0.2809, 0.272, 0.2746, 0.2478, 0.2538, 0.2504, 0.2534, 0.2078, 0.2209, 0.2415, 0.1254, 0.1115, 0.2327, 0.1773, 0.1205, 0.1205, 0.1914, 0.1877, 0.1894, 0.2008, 0.1733, 0.0839, 0.1085, 0.1935, 0.054, -0.0516, 0.206, -0.0473, 0.1755, 0.0939, 1.2098, 1.201, 1.1972, 1.1869, 1.1757, 1.1714, 1.1709, 1.1707, 1.1699, 1.1661, 1.1656, 1.1649, 1.1587, 1.1561, 1.156, 1.149, 1.1418, 1.141, 1.1339, 1.1316, 1.1253, 1.1134, 1.1122, 1.1101, 1.1096, 1.1093, 1.109, 1.1087, 1.1079, 1.1076, 1.105, 1.0595, 1.1028, 1.088, 1.0173, 1.0771, 1.0784, 1.0839, 1.0461, 0.9887, 1.0026, 0.962, 0.7984, 0.8232, 0.8814, 1.0683, 1.006, 0.8658, 0.7444, 0.8343, 0.7458, 0.8316, 0.6663, 0.526, 0.9067, 0.12, 0.5675, 0.5344, -0.3551, -0.4136, 0.6587, 0.1108, -0.3924, -0.3924, -0.1515, 0.3319, -0.2507, 0.0451, -0.3431, -0.0066, -1.8187, -0.6769]}, \"token.table\": {\"Topic\": [1, 2, 1, 2, 1, 2, 1, 2, 1, 2, 1, 1, 2, 1, 2, 1, 2, 1, 2, 1, 1, 2, 1, 2, 1, 2, 1, 2, 1, 2, 1, 2, 1, 2, 2, 1, 2, 2, 2, 1, 1, 1, 2, 1, 2, 1, 2, 1, 2, 1, 2, 1, 2, 2, 2, 1, 2, 1, 2, 1, 2, 1, 1, 2, 1, 2, 1, 2, 1, 2, 1, 2, 1, 2, 1, 2, 1, 2, 1, 2, 1, 2, 1, 2, 1, 2, 1, 2, 1, 2, 1, 1, 2, 1, 2, 1, 2, 2, 2, 1, 2, 1, 2, 1, 1, 2, 1, 2, 1, 2, 1, 2, 1, 2, 1, 2, 1, 2, 1, 2, 1, 2, 1, 2, 1, 2, 1, 2, 1, 1, 2, 1, 2, 2, 2, 1, 2, 1, 1, 2, 1, 2, 1, 1, 1, 2, 1, 2, 1, 2, 1, 2, 1, 2, 1, 2, 1, 2, 1, 2, 1, 2, 1, 2, 1, 2, 1, 2, 1, 2, 2, 1, 2, 1, 2, 1, 2, 1, 2, 1, 2, 1, 2, 1, 2, 1, 2, 1, 1, 2, 1, 2, 1, 2, 1, 2, 1, 2, 1, 2, 1, 2, 1, 2, 1, 2, 1, 2, 1, 2, 1, 2, 1, 2, 1, 2, 2, 1, 2, 2, 1, 2, 1, 2, 1, 2, 1, 2], \"Freq\": [0.1758503590795884, 0.879251795397942, 0.17610071326575463, 0.8805035663287732, 0.26947149129102155, 0.6736787282275539, 0.9586513151229676, 0.04168049196186816, 0.12410301669594023, 0.8687211168715816, 0.96441115283961, 0.1761401437149984, 0.880700718574992, 0.4752274550492879, 0.5148297429700618, 0.44286358252818336, 0.545062870803918, 0.04611588613643779, 0.9684336088651937, 0.9841262544651855, 0.8590168448230562, 0.1446765212333568, 0.9582429387113397, 0.04791214693556699, 0.9139539125977739, 0.072154256257719, 0.7233682124722723, 0.28934728498890894, 0.24664522990272278, 0.7399356897081684, 0.7056882845068702, 0.3024378362172301, 0.5976320891057801, 0.3907594428768562, 0.925024639860615, 0.9929534658696318, 0.06619689772464213, 0.9253793740209414, 0.9896563668578494, 0.952157755540908, 0.9012447942381324, 0.12404474611605937, 0.8683132228124155, 0.2060322634767977, 0.8241290539071908, 0.12405108953303609, 0.8683576267312526, 0.9429502272200746, 0.05051519074393257, 0.4141071391154232, 0.5884680397956014, 0.1365441222800731, 0.8192647336804385, 0.9895886744043791, 0.9249196677400238, 0.7822083954880161, 0.21635551364562147, 0.9471197236503544, 0.04795542904558756, 0.9668467851540469, 0.02613099419335262, 0.9841934734116703, 0.1240426985852125, 0.8682988900964874, 0.17685295884544974, 0.8842647942272487, 0.18921506938978008, 0.8514678122540104, 0.1886790819156603, 0.8490558686204712, 0.9874889332914615, 0.03405134252729178, 0.931268500043217, 0.088692238099354, 0.8546682931280198, 0.15194102988942576, 0.9538882254206016, 0.045537377595455855, 0.2347008221354459, 0.7510426308334269, 0.33922285677976755, 0.6407542850284499, 0.9271168046905974, 0.06622262890647125, 0.1769661468140231, 0.8848307340701155, 0.8133161679597026, 0.18629029545445702, 0.8814349939927146, 0.11752466586569528, 0.9381464948314783, 0.9719322754371907, 0.051154330286167934, 0.7955398710775525, 0.19630204611004543, 0.15381995495476078, 0.7690997747738039, 0.8264910803642277, 0.9250740723600154, 0.5046994151899732, 0.5046994151899732, 0.3123233631245022, 0.6636871466395672, 0.9216967404409439, 0.8091487594440542, 0.19092274099241727, 0.24704641632126467, 0.9881856652850587, 0.9740215479773257, 0.03746236722989714, 0.1880443979145257, 0.7521775916581028, 0.1446707314782346, 0.7956890231302902, 0.21800551183527986, 0.7811864174097528, 0.22910240101860566, 0.7636746700620188, 0.1376701669587883, 0.963691168711518, 0.5298662190032389, 0.47687959710291505, 0.2060029515832863, 0.8240118063331452, 0.8750048387039299, 0.12250067741855018, 0.9103968702799434, 0.10115520780888261, 0.9216742860362136, 0.9823365845121789, 0.016840055734494496, 0.9789964649981323, 0.04894982324990661, 0.9317845130544117, 0.9251010082307872, 0.34764025146350086, 0.648928469398535, 0.9386043796051786, 0.7531353396776248, 0.24499583338910688, 0.9249266713652949, 0.07707722261377457, 0.9013407929803939, 0.9012906426261615, 0.183239664534163, 0.8245784904037334, 0.9276338374625094, 0.06625955981875067, 0.9635532299711541, 0.03211844099903847, 0.12398258684645057, 0.867878107925154, 0.9660841523097475, 0.04025350634623948, 0.9543761330366435, 0.04338073331984743, 0.3445450662831466, 0.6460219992808998, 0.9932198745890682, 0.06621465830593788, 0.8101320784625189, 0.19092284651664457, 0.9755646387117635, 0.029562564809447377, 0.33348248386107665, 0.6669649677221533, 0.15498926892334772, 0.9299356135400864, 0.8903852688702238, 0.1097735262990687, 0.9250352349585644, 0.4544243187050405, 0.5396288784622356, 0.9521289884570288, 0.04360896130337536, 0.07318108767426248, 0.9513541397654124, 0.3759549667463168, 0.6316043441338122, 0.8631094823982165, 0.13077416399972977, 0.7840655916514346, 0.22274590671915756, 0.17696736809706337, 0.8848368404853169, 0.984956246083229, 0.0703540175773735, 0.9013136730829195, 0.9519526546893053, 0.0457269834130234, 0.869287394197746, 0.12644180279239942, 0.27677825876618734, 0.719623472792087, 0.8602428484165742, 0.1323450536025499, 0.6802382187668613, 0.31700421845445964, 0.9469793656605737, 0.04509425550764637, 0.17719587065247464, 0.8859793532623732, 0.9227575582050784, 0.07441593211331278, 0.8020778163509091, 0.19878585650195443, 0.08290812516307944, 0.9119893767938738, 0.8844729651530974, 0.12103314259989754, 0.8743605602213363, 0.1224104784309871, 0.9099558166318374, 0.08877617723237438, 0.5073896823345643, 0.48322826889006115, 0.9250081257115739, 0.9846976065119123, 0.07033554332227945, 0.9252749946877953, 0.9769746668721652, 0.029605292935520156, 0.40811909687589615, 0.5866712017591007, 0.6815436955331077, 0.3128397290971642, 0.8585478343739393, 0.14802548868516197], \"Term\": [\"abil\", \"abil\", \"accent\", \"accent\", \"acord\", \"acord\", \"actual\", \"actual\", \"ader\", \"ader\", \"ajung\", \"ajutoar\", \"ajutoar\", \"aloc\", \"aloc\", \"angaj\", \"angaj\", \"ansparent\", \"ansparent\", \"autor\", \"ban\", \"ban\", \"bin\", \"bin\", \"birocrat\", \"birocrat\", \"buget\", \"buget\", \"caracter\", \"caracter\", \"cetaten\", \"cetaten\", \"cheltuiel\", \"cheltuiel\", \"civiliz\", \"clar\", \"clar\", \"claritat\", \"comercial\", \"compet\", \"complic\", \"concurente\", \"concurente\", \"constitu\", \"constitu\", \"context\", \"context\", \"contribu\", \"contribu\", \"cot\", \"cot\", \"creeaz\", \"creeaz\", \"decent\", \"depind\", \"dezvolt\", \"dezvolt\", \"econom\", \"econom\", \"eficient\", \"eficient\", \"electron\", \"esential\", \"esential\", \"euro\", \"euro\", \"europ\", \"europ\", \"europen\", \"europen\", \"exces\", \"exces\", \"fapt\", \"fapt\", \"finant\", \"finant\", \"fiscal\", \"fiscal\", \"fizic\", \"fizic\", \"fondur\", \"fondur\", \"grad\", \"grad\", \"gratuitat\", \"gratuitat\", \"impoz\", \"impoz\", \"incerc\", \"incerc\", \"instabil\", \"instit\", \"instit\", \"invest\", \"invest\", \"lar\", \"lar\", \"lei\", \"ligat\", \"locur\", \"locur\", \"lte\", \"lte\", \"major\", \"mar\", \"mar\", \"masin\", \"masin\", \"masur\", \"masur\", \"med\", \"med\", \"mediu\", \"mediu\", \"mic\", \"mic\", \"modern\", \"modern\", \"multor\", \"multor\", \"munc\", \"munc\", \"nant\", \"nant\", \"nevoi\", \"nevoi\", \"numar\", \"numar\", \"oarec\", \"ofer\", \"ofer\", \"opin\", \"opin\", \"parlamentar\", \"per\", \"persoan\", \"persoan\", \"plan\", \"plat\", \"plat\", \"platit\", \"platit\", \"popul\", \"povar\", \"pozit\", \"pozit\", \"precum\", \"precum\", \"predict\", \"predict\", \"predictib\", \"predictib\", \"priv\", \"priv\", \"privest\", \"privest\", \"profit\", \"profit\", \"protect\", \"protect\", \"public\", \"public\", \"punct\", \"punct\", \"putin\", \"putin\", \"realizeaz\", \"realizeaz\", \"reduc\", \"reduc\", \"retin\", \"ridic\", \"ridic\", \"roman\", \"roman\", \"rupt\", \"rupt\", \"salar\", \"salar\", \"schimb\", \"schimb\", \"servic\", \"servic\", \"sibil\", \"sibil\", \"simplu\", \"simplu\", \"simt\", \"sist\", \"sist\", \"social\", \"social\", \"societ\", \"societ\", \"stabil\", \"stabil\", \"stat\", \"stat\", \"stem\", \"stem\", \"suficient\", \"suficient\", \"tar\", \"tar\", \"tax\", \"tax\", \"tiner\", \"tiner\", \"transparent\", \"transparent\", \"treb\", \"treb\", \"trebui\", \"trebui\", \"tva\", \"tva\", \"univers\", \"usor\", \"usor\", \"vatam\", \"veder\", \"veder\", \"venit\", \"venit\", \"venitur\", \"venitur\", \"xel\", \"xel\"]}, \"R\": 30, \"lambda.step\": 0.01, \"plot.opts\": {\"xlab\": \"PC1\", \"ylab\": \"PC2\"}, \"topic.order\": [2, 1]};\n",
       "\n",
       "function LDAvis_load_lib(url, callback){\n",
       "  var s = document.createElement('script');\n",
       "  s.src = url;\n",
       "  s.async = true;\n",
       "  s.onreadystatechange = s.onload = callback;\n",
       "  s.onerror = function(){console.warn(\"failed to load library \" + url);};\n",
       "  document.getElementsByTagName(\"head\")[0].appendChild(s);\n",
       "}\n",
       "\n",
       "if(typeof(LDAvis) !== \"undefined\"){\n",
       "   // already loaded: just create the visualization\n",
       "   !function(LDAvis){\n",
       "       new LDAvis(\"#\" + \"ldavis_el1772826999373507365691884048\", ldavis_el1772826999373507365691884048_data);\n",
       "   }(LDAvis);\n",
       "}else if(typeof define === \"function\" && define.amd){\n",
       "   // require.js is available: use it to load d3/LDAvis\n",
       "   require.config({paths: {d3: \"https://d3js.org/d3.v5\"}});\n",
       "   require([\"d3\"], function(d3){\n",
       "      window.d3 = d3;\n",
       "      LDAvis_load_lib(\"https://cdn.jsdelivr.net/gh/bmabey/pyLDAvis@3.4.0/pyLDAvis/js/ldavis.v3.0.0.js\", function(){\n",
       "        new LDAvis(\"#\" + \"ldavis_el1772826999373507365691884048\", ldavis_el1772826999373507365691884048_data);\n",
       "      });\n",
       "    });\n",
       "}else{\n",
       "    // require.js not available: dynamically load d3 & LDAvis\n",
       "    LDAvis_load_lib(\"https://d3js.org/d3.v5.js\", function(){\n",
       "         LDAvis_load_lib(\"https://cdn.jsdelivr.net/gh/bmabey/pyLDAvis@3.4.0/pyLDAvis/js/ldavis.v3.0.0.js\", function(){\n",
       "                 new LDAvis(\"#\" + \"ldavis_el1772826999373507365691884048\", ldavis_el1772826999373507365691884048_data);\n",
       "            })\n",
       "         });\n",
       "}\n",
       "</script>"
      ]
     },
     "execution_count": 102,
     "metadata": {},
     "output_type": "execute_result"
    },
    {
     "data": {
      "text/plain": [
       "<IPython.core.display.HTML object>"
      ],
      "text/html": [
       "\n",
       "<link rel=\"stylesheet\" type=\"text/css\" href=\"https://cdn.jsdelivr.net/gh/bmabey/pyLDAvis@3.4.0/pyLDAvis/js/ldavis.v1.0.0.css\">\n",
       "\n",
       "\n",
       "<div id=\"ldavis_el1772826999373529128484817386\" style=\"background-color:white;\"></div>\n",
       "<script type=\"text/javascript\">\n",
       "\n",
       "var ldavis_el1772826999373529128484817386_data = {\"mdsDat\": {\"x\": [0.017249245900397094, -0.09414095436956968, 0.07689170846917259], \"y\": [-0.08515203616235933, 0.029694194343784213, 0.05545784181857511], \"topics\": [1, 2, 3], \"cluster\": [1, 1, 1], \"Freq\": [64.73255969263275, 18.002144398253836, 17.26529590911341]}, \"tinfo\": {\"Term\": [\"mic\", \"pozit\", \"mar\", \"fiscal\", \"salar\", \"public\", \"tax\", \"transparent\", \"cot\", \"ansparent\", \"stat\", \"ofer\", \"venit\", \"persoan\", \"servic\", \"impoz\", \"cetaten\", \"lte\", \"strateg\", \"sanat\", \"venitur\", \"putin\", \"tva\", \"rupt\", \"angaj\", \"societ\", \"stabil\", \"benefic\", \"implement\", \"crear\", \"exces\", \"autor\", \"xel\", \"compet\", \"instabil\", \"simplu\", \"aferent\", \"simt\", \"usor\", \"complic\", \"coerent\", \"rau\", \"asemen\", \"urma\", \"major\", \"numar\", \"dialog\", \"amenz\", \"aplic\", \"eficientiz\", \"gand\", \"birocr\", \"regul\", \"platnic\", \"explic\", \"sistem\", \"platit\", \"aprop\", \"eficient\", \"constranger\", \"indirect\", \"ofer\", \"roman\", \"contribu\", \"trebui\", \"reduc\", \"fiscal\", \"sist\", \"tax\", \"fapt\", \"econom\", \"impoz\", \"tar\", \"bun\", \"incat\", \"invest\", \"social\", \"stem\", \"actual\", \"plat\", \"treb\", \"mar\", \"schimb\", \"part\", \"public\", \"incerc\", \"stat\", \"ban\", \"servic\", \"transparent\", \"venitur\", \"stabil\", \"nevoi\", \"dezvolt\", \"mic\", \"tul\", \"rupt\", \"ader\", \"lei\", \"decent\", \"comercial\", \"ansparent\", \"corespunz\", \"ligat\", \"claritat\", \"civiliz\", \"dreptat\", \"climat\", \"defin\", \"erir\", \"depind\", \"cur\", \"acum\", \"tiner\", \"parlamentar\", \"nevo\", \"procentaj\", \"inafar\", \"corectitudin\", \"deducer\", \"ear\", \"defavoar\", \"ortun\", \"gres\", \"mentin\", \"mic\", \"caz\", \"societ\", \"nevoit\", \"lte\", \"ajutoar\", \"mentan\", \"constitu\", \"cunostint\", \"putin\", \"antreprenor\", \"angaj\", \"leg\", \"salar\", \"fondur\", \"tva\", \"sustin\", \"transparente\", \"solut\", \"cetaten\", \"tax\", \"impoz\", \"stat\", \"avantaj\", \"pozit\", \"neces\", \"greu\", \"plat\", \"medic\", \"ban\", \"ridic\", \"public\", \"munc\", \"servic\", \"stiu\", \"scad\", \"mar\", \"incred\", \"sist\", \"transparent\", \"strateg\", \"context\", \"concurente\", \"predictib\", \"esential\", \"serviciu\", \"europen\", \"cultur\", \"nim\", \"zvolt\", \"modern\", \"transport\", \"feroviar\", \"anterior\", \"util\", \"contradict\", \"subiect\", \"vatam\", \"manifest\", \"combat\", \"zon\", \"noilor\", \"preven\", \"computeriz\", \"pind\", \"solic\", \"teres\", \"proport\", \"gislat\", \"redres\", \"concret\", \"pozit\", \"mediu\", \"implement\", \"bur\", \"cheltu\", \"benefic\", \"termen\", \"schimbat\", \"atrag\", \"grad\", \"cot\", \"lung\", \"situat\", \"venit\", \"fizic\", \"crear\", \"mar\", \"sanat\", \"persoan\", \"transparent\", \"public\", \"salar\", \"fiscal\", \"venitur\", \"servic\", \"stabil\", \"impoz\", \"stat\", \"locur\", \"sist\", \"ofer\", \"tax\", \"munc\", \"ban\", \"mod\", \"stiu\", \"invest\", \"mic\", \"roman\", \"actual\"], \"Freq\": [164.0, 52.0, 220.0, 421.0, 65.0, 193.0, 440.0, 105.0, 45.0, 20.0, 152.0, 180.0, 39.0, 43.0, 111.0, 446.0, 59.0, 25.0, 13.0, 30.0, 90.0, 24.0, 41.0, 13.0, 29.0, 17.0, 75.0, 21.0, 17.0, 22.0, 29.14392353980634, 14.076770624278874, 67.40529999849137, 11.32083744955261, 10.408595095478583, 13.812936971575699, 18.078858573154605, 8.575845966293542, 13.722828924198774, 8.567701237650311, 8.558527831924872, 8.554508538758979, 8.539406972021899, 8.533708033236044, 9.384069419736758, 47.78313673359872, 7.638140184620853, 7.619765143831821, 17.733786531121442, 7.599005288555821, 6.733391590652302, 6.713987308194298, 7.548758760407925, 6.7104428324961, 6.706647115688361, 9.218201732978127, 36.71947194211925, 6.668907878101499, 35.832533237589956, 6.656888955090472, 16.519711576846394, 160.42858435119476, 124.64113675415199, 54.364917582432, 41.151008295586955, 73.94220749140037, 360.50926237589357, 207.7101331711442, 356.62692892532056, 40.50622762875523, 72.32467996544952, 356.27379571348513, 58.17219261038293, 41.97639800955959, 22.59804815075365, 82.4024317344964, 54.61648389394842, 56.268663497065965, 60.263900750159294, 86.29539748299045, 47.34596139456814, 157.58704175641924, 61.17658009438789, 38.031318644492366, 134.89232506010245, 41.746227278014324, 103.61553726384314, 77.98989259643058, 74.7956413590654, 70.05070966849016, 61.802232561688726, 53.267695150497815, 45.2331557766315, 45.686116961555925, 50.20341630267241, 9.368716482837561, 12.225991174466483, 6.911775276410456, 4.12178577177361, 3.3453020650185237, 3.3426884474399072, 17.524760884674738, 2.5748281399791124, 2.5749174796644563, 2.574625908846032, 2.574490250694649, 2.571238380355184, 2.5677275976411464, 2.56213813637831, 2.5585659620703014, 2.5487568100454, 3.171230047101971, 3.799819362828485, 9.297462038823532, 4.874115105042019, 3.693694807462498, 1.803533043490935, 1.8033761887533981, 1.8033012941489885, 1.8029183424924797, 1.8027742057066352, 1.802761487754943, 1.8026363493907618, 1.8025422993529394, 1.802528325307253, 102.00329338540894, 6.906274212762468, 12.315009299747746, 3.342477109625368, 14.628053634283104, 3.8810277237002575, 5.186666461452952, 3.3077671502576824, 4.616488342672363, 12.345273628446146, 6.725657317088673, 13.892001395039689, 11.825915188533497, 22.38347941758176, 11.765857566384557, 15.773870112437457, 7.065844625514954, 7.994272056312703, 4.614934868424926, 18.54382617395939, 60.87852479358959, 58.21325411773969, 29.573796049413783, 7.109253349816589, 14.205576468055966, 9.640922100151933, 6.157282949283882, 18.655793136516312, 7.632686558646712, 17.78186950827175, 10.20534039992171, 21.780782909430023, 11.47732021495644, 14.691743880263525, 10.171173387183057, 9.665304140675076, 14.580607195836826, 9.43581451182449, 12.434390985152959, 9.505556618669395, 12.637834574153457, 7.266686514512971, 7.266054057186711, 7.265705904487113, 7.265690845979345, 5.726724001227895, 9.21472073448592, 4.934574814129808, 4.128965730448298, 4.818160803446475, 10.892131885615251, 5.394013500175853, 3.254414882992491, 2.603553048538899, 2.589321252847285, 2.5873615386463467, 2.570765256064988, 2.5684649184183357, 7.108234270033794, 3.175454694000087, 3.162123397073004, 1.826433155703824, 1.8263280473196029, 1.8262991349846882, 1.8261310820379963, 1.826099609756761, 1.8255644303906835, 1.8255186525270684, 1.8252466958767768, 1.8250548504878115, 4.846999050502974, 34.21233212749396, 9.214573763450105, 10.947756808629926, 4.004047879258175, 6.871953634006063, 11.922371139034484, 8.201809607125577, 3.336088615084703, 7.999991871975879, 8.044757201528522, 19.040697620974445, 8.191086142573772, 7.041894917571975, 16.246931224542088, 10.19860688929344, 10.620161983836857, 48.304729405678145, 12.608386156362196, 15.71467079961022, 26.22356727656965, 36.855536335177305, 19.51401904650204, 51.58873214824383, 20.254148317345134, 22.41021100341165, 17.478556937448538, 32.17868185809511, 19.588740566727886, 11.892209550315325, 22.65841857993201, 18.32505709780412, 22.914714382144766, 12.507132750129612, 14.210787266256846, 9.547945634163321, 10.378765671550152, 11.696293545530093, 12.091655269321395, 11.306162544997111, 10.458949213713636], \"Total\": [164.0, 52.0, 220.0, 421.0, 65.0, 193.0, 440.0, 105.0, 45.0, 20.0, 152.0, 180.0, 39.0, 43.0, 111.0, 446.0, 59.0, 25.0, 13.0, 30.0, 90.0, 24.0, 41.0, 13.0, 29.0, 17.0, 75.0, 21.0, 17.0, 22.0, 30.147563081202232, 14.608967112058217, 70.26812969930192, 11.851733934919523, 10.93359747919169, 14.569253396694899, 19.110971365830643, 9.096123583260583, 14.556308154977495, 9.094884672101596, 9.093432390636826, 9.09283074292997, 9.09027204674246, 9.08938272280598, 9.997540877184411, 50.90721165334708, 8.174073482069948, 8.171251868822225, 19.055323701205108, 8.167967603708707, 7.257090148419341, 7.253867120785596, 8.15964627837218, 7.253602572438384, 7.252791699520045, 9.971126228406405, 39.857461807190795, 7.247257975058661, 38.96860409733582, 7.245607706333305, 18.100184404229278, 180.34426703149308, 139.77903506830197, 60.47995062824457, 45.9753533785483, 83.65342177298417, 421.29689589160506, 242.80294273622917, 440.4201681010549, 45.868734478634885, 84.27132515774146, 446.6657316893199, 68.05995766706988, 48.42492102213239, 25.258868692136588, 99.05518613905213, 64.38419421039742, 67.0446144178367, 72.32837847356237, 111.98501056287319, 57.8647832548951, 220.4723783579342, 77.08549786688215, 45.522484292628235, 193.5286443047098, 51.51819359869729, 152.77807387998482, 109.98254937095918, 111.89759624274058, 105.77983356372921, 90.4778825332011, 75.17065947908254, 57.531508809056916, 60.692459021784124, 164.29836495740273, 10.124233351715025, 13.26631435405924, 7.839523672735115, 4.6905413688328155, 3.917855413520443, 3.918451834135615, 20.992360415815046, 3.144230629311959, 3.144342956721926, 3.1441165758480967, 3.144438136157173, 3.1449101854108266, 3.145557658312552, 3.14625209389377, 3.14702726092984, 3.149014098196389, 3.9457320286862507, 4.750318609955985, 11.860338041930532, 6.251024792351117, 4.766903554221104, 2.3709866193815934, 2.370982788629739, 2.3709803566577916, 2.3710774888659154, 2.3710459789435414, 2.371114416200934, 2.3709933249942354, 2.371058003687109, 2.3711363304380204, 164.29836495740273, 9.678015243089144, 17.793187226307342, 4.702977433478671, 25.356756931299984, 5.653740616066901, 8.164424262267005, 4.843053779408319, 7.272745698474671, 24.249515578099615, 11.538885177161934, 29.182276747444906, 26.02051528187308, 65.9090505514117, 26.891338553973636, 41.17763421915254, 13.169607190499002, 16.07411660288034, 7.353634755599726, 59.162039690888925, 440.4201681010549, 446.6657316893199, 152.77807387998482, 14.995040526293279, 52.9483004214073, 29.115831216607944, 12.554188414045335, 111.98501056287319, 19.131621010444867, 109.98254937095918, 35.396053201986604, 193.5286443047098, 57.23882784954033, 111.89759624274058, 41.31056217273054, 38.46425517437744, 220.4723783579342, 42.029787051738886, 242.80294273622917, 105.77983356372921, 13.376949896161477, 7.877416282883047, 7.877560683305542, 7.877585567535817, 7.877626552615488, 6.307797841327897, 10.25038649815871, 5.52562055635468, 4.7409507820252195, 5.54554161972945, 12.56817743930271, 6.348943788679995, 3.9565190475539898, 3.174553228988965, 3.1766712577601623, 3.176901713097756, 3.1742448222865765, 3.173078176374036, 8.823279415257577, 3.9934831898520122, 3.9859286996073315, 2.3907101326075253, 2.3907046756012997, 2.3907066022930716, 2.390712010131984, 2.390777607660847, 2.3906982625146185, 2.3908062129516097, 2.3908969468690784, 2.39073076644194, 6.459685492112736, 52.9483004214073, 13.602238342858316, 17.34711184266493, 5.687247974806782, 11.226407998744905, 21.620766142002033, 14.145468233798919, 4.884172612359475, 14.031456172899016, 14.160373748355717, 45.90582299538619, 14.892321857125731, 12.378157169104302, 39.32831315397809, 21.53297487272524, 22.831553152496564, 220.4723783579342, 30.74060456004525, 43.367631542572596, 105.77983356372921, 193.5286443047098, 65.9090505514117, 421.29689589160506, 90.4778825332011, 111.89759624274058, 75.17065947908254, 446.6657316893199, 152.77807387998482, 40.13589261381591, 242.80294273622917, 180.34426703149308, 440.4201681010549, 57.23882784954033, 109.98254937095918, 26.380449586674715, 41.31056217273054, 99.05518613905213, 164.29836495740273, 139.77903506830197, 72.32837847356237], \"Category\": [\"Default\", \"Default\", \"Default\", \"Default\", \"Default\", \"Default\", \"Default\", \"Default\", \"Default\", \"Default\", \"Default\", \"Default\", \"Default\", \"Default\", \"Default\", \"Default\", \"Default\", \"Default\", \"Default\", \"Default\", \"Default\", \"Default\", \"Default\", \"Default\", \"Default\", \"Default\", \"Default\", \"Default\", \"Default\", \"Default\", \"Topic1\", \"Topic1\", \"Topic1\", \"Topic1\", \"Topic1\", \"Topic1\", \"Topic1\", \"Topic1\", \"Topic1\", \"Topic1\", \"Topic1\", \"Topic1\", \"Topic1\", \"Topic1\", \"Topic1\", \"Topic1\", \"Topic1\", \"Topic1\", \"Topic1\", \"Topic1\", \"Topic1\", \"Topic1\", \"Topic1\", \"Topic1\", \"Topic1\", \"Topic1\", \"Topic1\", \"Topic1\", \"Topic1\", \"Topic1\", \"Topic1\", \"Topic1\", \"Topic1\", \"Topic1\", \"Topic1\", \"Topic1\", \"Topic1\", \"Topic1\", \"Topic1\", \"Topic1\", \"Topic1\", \"Topic1\", \"Topic1\", \"Topic1\", \"Topic1\", \"Topic1\", \"Topic1\", \"Topic1\", \"Topic1\", \"Topic1\", \"Topic1\", \"Topic1\", \"Topic1\", \"Topic1\", \"Topic1\", \"Topic1\", \"Topic1\", \"Topic1\", \"Topic1\", \"Topic1\", \"Topic1\", \"Topic1\", \"Topic1\", \"Topic1\", \"Topic1\", \"Topic2\", \"Topic2\", \"Topic2\", \"Topic2\", \"Topic2\", \"Topic2\", \"Topic2\", \"Topic2\", \"Topic2\", \"Topic2\", \"Topic2\", \"Topic2\", \"Topic2\", \"Topic2\", \"Topic2\", \"Topic2\", \"Topic2\", \"Topic2\", \"Topic2\", \"Topic2\", \"Topic2\", \"Topic2\", \"Topic2\", \"Topic2\", \"Topic2\", \"Topic2\", \"Topic2\", \"Topic2\", \"Topic2\", \"Topic2\", \"Topic2\", \"Topic2\", \"Topic2\", \"Topic2\", \"Topic2\", \"Topic2\", \"Topic2\", \"Topic2\", \"Topic2\", \"Topic2\", \"Topic2\", \"Topic2\", \"Topic2\", \"Topic2\", \"Topic2\", \"Topic2\", \"Topic2\", \"Topic2\", \"Topic2\", \"Topic2\", \"Topic2\", \"Topic2\", \"Topic2\", \"Topic2\", \"Topic2\", \"Topic2\", \"Topic2\", \"Topic2\", \"Topic2\", \"Topic2\", \"Topic2\", \"Topic2\", \"Topic2\", \"Topic2\", \"Topic2\", \"Topic2\", \"Topic2\", \"Topic2\", \"Topic2\", \"Topic2\", \"Topic3\", \"Topic3\", \"Topic3\", \"Topic3\", \"Topic3\", \"Topic3\", \"Topic3\", \"Topic3\", \"Topic3\", \"Topic3\", \"Topic3\", \"Topic3\", \"Topic3\", \"Topic3\", \"Topic3\", \"Topic3\", \"Topic3\", \"Topic3\", \"Topic3\", \"Topic3\", \"Topic3\", \"Topic3\", \"Topic3\", \"Topic3\", \"Topic3\", \"Topic3\", \"Topic3\", \"Topic3\", \"Topic3\", \"Topic3\", \"Topic3\", \"Topic3\", \"Topic3\", \"Topic3\", \"Topic3\", \"Topic3\", \"Topic3\", \"Topic3\", \"Topic3\", \"Topic3\", \"Topic3\", \"Topic3\", \"Topic3\", \"Topic3\", \"Topic3\", \"Topic3\", \"Topic3\", \"Topic3\", \"Topic3\", \"Topic3\", \"Topic3\", \"Topic3\", \"Topic3\", \"Topic3\", \"Topic3\", \"Topic3\", \"Topic3\", \"Topic3\", \"Topic3\", \"Topic3\", \"Topic3\", \"Topic3\", \"Topic3\", \"Topic3\", \"Topic3\", \"Topic3\", \"Topic3\", \"Topic3\", \"Topic3\", \"Topic3\", \"Topic3\"], \"logprob\": [30.0, 29.0, 28.0, 27.0, 26.0, 25.0, 24.0, 23.0, 22.0, 21.0, 20.0, 19.0, 18.0, 17.0, 16.0, 15.0, 14.0, 13.0, 12.0, 11.0, 10.0, 9.0, 8.0, 7.0, 6.0, 5.0, 4.0, 3.0, 2.0, 1.0, -5.8076, -6.5353, -4.9691, -6.7532, -6.8372, -6.5542, -6.2851, -7.0309, -6.5608, -7.0318, -7.0329, -7.0334, -7.0351, -7.0358, -6.9408, -5.3132, -7.1467, -7.1491, -6.3044, -7.1518, -7.2728, -7.2756, -7.1584, -7.2762, -7.2767, -6.9587, -5.5765, -7.2824, -5.601, -7.2842, -6.3753, -4.102, -4.3544, -5.1841, -5.4626, -4.8765, -3.2923, -3.8437, -3.3031, -5.4784, -4.8987, -3.3041, -5.1164, -5.4427, -6.062, -4.7682, -5.1795, -5.1497, -5.0811, -4.7221, -5.3224, -4.1199, -5.0661, -5.5414, -4.2754, -5.4482, -4.5391, -4.8233, -4.8651, -4.9306, -5.0559, -5.2045, -5.368, -5.358, -5.2637, -5.6627, -5.3965, -5.9668, -6.4838, -6.6925, -6.6933, -5.0364, -6.9543, -6.9542, -6.9544, -6.9544, -6.9557, -6.957, -6.9592, -6.9606, -6.9645, -6.7459, -6.5651, -5.6703, -6.3161, -6.5934, -7.3103, -7.3104, -7.3104, -7.3107, -7.3107, -7.3107, -7.3108, -7.3109, -7.3109, -3.2751, -5.9676, -5.3892, -6.6933, -5.2171, -6.544, -6.254, -6.7038, -6.3704, -5.3868, -5.9941, -5.2687, -5.4298, -4.7917, -5.4349, -5.1417, -5.9448, -5.8213, -6.3708, -4.9799, -3.7912, -3.8359, -4.5132, -5.9387, -5.2464, -5.634, -6.0824, -4.9739, -5.8676, -5.0219, -5.5771, -4.819, -5.4597, -5.2128, -5.5805, -5.6315, -5.2204, -5.6555, -5.3796, -5.6482, -5.3216, -5.875, -5.8751, -5.8751, -5.8751, -6.1131, -5.6375, -6.262, -6.4402, -6.2859, -5.4702, -6.173, -6.6783, -6.9014, -6.9069, -6.9076, -6.9141, -6.915, -5.897, -6.7028, -6.707, -7.2559, -7.256, -7.256, -7.2561, -7.2561, -7.2564, -7.2564, -7.2566, -7.2567, -6.2799, -4.3257, -5.6375, -5.4651, -6.471, -5.9308, -5.3798, -5.7539, -6.6535, -5.7788, -5.7732, -4.9117, -5.7552, -5.9064, -5.0704, -5.536, -5.4955, -3.9807, -5.3239, -5.1037, -4.5916, -4.2513, -4.8871, -3.915, -4.8499, -4.7487, -4.9973, -4.387, -4.8833, -5.3824, -4.7377, -4.95, -4.7265, -5.332, -5.2043, -5.6019, -5.5185, -5.399, -5.3658, -5.4329, -5.5108], \"loglift\": [30.0, 29.0, 28.0, 27.0, 26.0, 25.0, 24.0, 23.0, 22.0, 21.0, 20.0, 19.0, 18.0, 17.0, 16.0, 15.0, 14.0, 13.0, 12.0, 11.0, 10.0, 9.0, 8.0, 7.0, 6.0, 5.0, 4.0, 3.0, 2.0, 1.0, 0.401, 0.3978, 0.3933, 0.3891, 0.3857, 0.3816, 0.3794, 0.376, 0.3759, 0.3752, 0.3743, 0.3739, 0.3724, 0.3718, 0.3716, 0.3716, 0.3671, 0.365, 0.363, 0.3627, 0.36, 0.3576, 0.3571, 0.3571, 0.3566, 0.3564, 0.3529, 0.3517, 0.351, 0.3502, 0.3435, 0.3179, 0.3203, 0.3283, 0.324, 0.3115, 0.2791, 0.2788, 0.2239, 0.3106, 0.282, 0.2088, 0.2779, 0.292, 0.3236, 0.2508, 0.2704, 0.2597, 0.2524, 0.1743, 0.2343, 0.0991, 0.2038, 0.2551, 0.074, 0.2246, 0.0466, 0.0912, 0.0321, 0.0228, 0.0537, 0.0905, 0.1944, 0.1509, -0.7507, 1.6371, 1.633, 1.5887, 1.5854, 1.5567, 1.5558, 1.5341, 1.5149, 1.5149, 1.5149, 1.5147, 1.5133, 1.5117, 1.5093, 1.5077, 1.5032, 1.4962, 1.4914, 1.4712, 1.4659, 1.4596, 1.4411, 1.441, 1.441, 1.4407, 1.4407, 1.4406, 1.4406, 1.4405, 1.4405, 1.238, 1.3773, 1.3467, 1.3732, 1.1646, 1.3385, 1.261, 1.3334, 1.2602, 1.0396, 1.1749, 0.9724, 0.9261, 0.6347, 0.8881, 0.7551, 1.092, 1.0162, 1.2488, 0.5545, -0.2642, -0.323, 0.0726, 0.9684, 0.399, 0.6094, 1.0023, -0.0775, 0.7958, -0.1075, 0.471, -0.4697, 0.1078, -0.3156, 0.3131, 0.3335, -1.0014, 0.2208, -1.2571, -0.6948, 1.6996, 1.6758, 1.6757, 1.6756, 1.6756, 1.6598, 1.65, 1.6433, 1.6183, 1.6159, 1.6133, 1.5935, 1.5611, 1.5582, 1.552, 1.5512, 1.5456, 1.5451, 1.5403, 1.5273, 1.5249, 1.4872, 1.4872, 1.4872, 1.4871, 1.487, 1.4868, 1.4867, 1.4865, 1.4865, 1.4693, 1.3197, 1.367, 1.2962, 1.4056, 1.2657, 1.1612, 1.2114, 1.3753, 1.1946, 1.191, 0.8765, 1.1587, 1.1924, 0.8724, 1.0091, 0.9911, 0.2382, 0.8652, 0.7414, 0.3618, 0.0981, 0.5393, -0.3436, 0.2597, 0.1484, 0.2977, -0.874, -0.2976, 0.5401, -0.6152, -0.5301, -1.1995, 0.2355, -0.2898, 0.7402, 0.3751, -0.3799, -0.8527, -0.7582, -0.1773]}, \"token.table\": {\"Topic\": [1, 2, 3, 1, 2, 1, 2, 1, 2, 1, 2, 1, 1, 2, 3, 1, 2, 3, 3, 1, 2, 1, 2, 1, 1, 1, 2, 3, 1, 1, 2, 3, 1, 2, 3, 1, 2, 3, 1, 1, 2, 3, 1, 3, 1, 2, 1, 2, 3, 1, 2, 3, 2, 2, 2, 1, 1, 3, 2, 1, 1, 3, 1, 3, 3, 1, 2, 1, 3, 3, 1, 2, 3, 2, 2, 1, 2, 3, 1, 2, 3, 3, 1, 2, 3, 2, 2, 2, 2, 2, 2, 1, 2, 3, 1, 2, 2, 1, 2, 3, 1, 2, 3, 1, 2, 3, 1, 2, 3, 1, 2, 1, 1, 2, 3, 1, 2, 3, 1, 2, 3, 1, 2, 3, 1, 3, 1, 3, 2, 1, 2, 1, 3, 1, 2, 3, 2, 1, 2, 3, 1, 2, 3, 1, 2, 3, 1, 3, 1, 1, 2, 3, 1, 2, 3, 2, 2, 1, 2, 3, 1, 2, 3, 1, 2, 3, 1, 1, 3, 1, 2, 3, 1, 2, 3, 1, 2, 3, 1, 2, 2, 1, 2, 3, 1, 2, 3, 2, 3, 1, 2, 3, 1, 2, 3, 1, 2, 1, 2, 3, 2, 3, 3, 3, 1, 2, 3, 1, 2, 3, 2, 2, 3, 1, 2, 3, 1, 2, 3, 3, 1, 2, 3, 1, 2, 3, 1, 1, 2, 3, 3, 3, 2, 3, 1, 2, 3, 1, 2, 1, 3, 1, 2, 1, 1, 2, 3, 1, 2, 3, 1, 2, 1, 2, 3, 1, 2, 3, 1, 2, 3, 1, 2, 3, 1, 3, 1, 2, 3, 3, 1, 1, 1, 2, 3, 1, 1, 2, 3, 1, 2, 3, 1, 2, 3, 3, 1, 2, 1, 2, 3, 1, 2, 3, 1, 2, 3, 1, 2, 3, 3, 3, 1, 2, 3, 1, 2, 3, 1, 2, 3, 3, 1, 3, 1, 2, 3, 1, 2, 3, 1, 2, 3, 1, 3, 1, 2, 3, 1, 2, 3, 2, 1, 2, 3, 1, 1, 3, 3, 3, 1, 2, 3, 1, 2, 3, 1, 2, 3, 1, 3, 3], \"Freq\": [0.8295499120297759, 0.027651663734325864, 0.13825831867162933, 0.210512195519716, 0.842048782078864, 0.12755877037247496, 0.8929113926073247, 0.9418673522886964, 0.05232596401603869, 0.3537480998538144, 0.7074961997076288, 0.9790421502639463, 0.44547586579714804, 0.4797432400892363, 0.06853474858417662, 0.0476363772435342, 0.8574547903836156, 0.1429091317306026, 0.9450148677946228, 0.3466539391445636, 0.6066443935029863, 0.944617907428234, 0.05247877263490189, 0.9658825481430914, 0.9900693789714677, 0.3563422027185763, 0.07126844054371526, 0.570147524349722, 0.9583155258419621, 0.4668210124357947, 0.4668210124357947, 0.06668871606225639, 0.7092034185979312, 0.16366232736875336, 0.12729292128680816, 0.41626646997101374, 0.046251829996779306, 0.5550219599613516, 0.9650025129274629, 0.8673220134071895, 0.12390314477245565, 0.020650524128742607, 0.17583196731174253, 0.7033278692469701, 0.3099809128883356, 0.7232887967394498, 0.6084982902566166, 0.3211518754132143, 0.06761092113962407, 0.17815137310380993, 0.17815137310380993, 0.6235298058633348, 0.9540655182570418, 0.954163094029291, 0.9537259608235453, 0.9897252889092759, 0.2504079652923385, 0.7512238958770155, 0.7656084920747228, 0.9281342342313301, 0.989567248456415, 0.8365727513705273, 0.15480629842133928, 0.7740314921066963, 0.8885999462796516, 0.20648129167010223, 0.6194438750103067, 0.9661025387672283, 0.8886162351493855, 0.9443162775957392, 0.8928578717255369, 0.049603215095863164, 0.06613762012781756, 0.8435329269531625, 0.9541284828258542, 0.4356745766655816, 0.15248610183295358, 0.41389084783230257, 0.48178938710515107, 0.04379903519137737, 0.48178938710515107, 0.9048757418295407, 0.27499930327819166, 0.6874982581954793, 0.13749965163909583, 0.7603151907401232, 0.7657250417274354, 0.8434983712643649, 0.8434852347633465, 0.9535154559999768, 0.9526791263710959, 0.7579195297308581, 0.13181209212710576, 0.11533558061121754, 0.9787041941264923, 0.9539223135582497, 0.8435095809028271, 0.8543831471171048, 0.03559929779654603, 0.1067978933896381, 0.9238206200581156, 0.02566168389050321, 0.07698505167150962, 0.9794358141635576, 0.9532805887145704, 0.8885925161907932, 0.0975572970033502, 0.0975572970033502, 0.8780156730301518, 0.9619351296119265, 0.03317017688316988, 0.9651456004814294, 0.8938550510718214, 0.10900671354534408, 0.758242274065297, 0.8568779013574342, 0.021362606959049606, 0.12342839576339773, 0.37152321252801934, 0.13932120469800727, 0.4644040156600242, 0.48342703260782965, 0.44624033779184274, 0.07437338963197379, 0.9645739348469665, 0.8365061499697991, 0.4237176296774449, 0.5649568395699265, 0.8435053030714154, 0.477928146536923, 0.477928146536923, 0.3458789021722395, 0.6341113206491057, 0.797016593714463, 0.12985101807707541, 0.07164194100804161, 0.843532061721907, 0.9105712643084525, 0.03959005496993272, 0.07918010993986543, 0.8152459755705027, 0.1164637107957861, 0.0776424738638574, 0.7375721404878601, 0.21413384723841103, 0.04758529938631356, 0.9392169505205588, 0.05524805591297405, 0.9146120496050391, 0.8278213710576413, 0.050476912869368375, 0.12114459088648409, 0.4996057864025588, 0.46117457206390045, 0.03843121433865837, 0.8527800280323189, 0.9540943978730589, 0.573053157713571, 0.1245767734159937, 0.29898425619838487, 0.3549349794370013, 0.5915582990616688, 0.07887443987488918, 0.40289217877258665, 0.06714869646209778, 0.5371895716967823, 0.9002213754923554, 0.11333654449056198, 0.7933558114339337, 0.7166430605809901, 0.06803573359946108, 0.21771434751827548, 0.41815588943730475, 0.41815588943730475, 0.15680845853898928, 0.14703462397790396, 0.14703462397790396, 0.6616558079005679, 0.367447832649377, 0.6124130544156284, 0.8434774392033965, 0.304324391864541, 0.6208217594036637, 0.07303785404748984, 0.5306960351074409, 0.075813719301063, 0.37906859650531494, 0.07956603133823043, 0.8752263447205346, 0.576531722255822, 0.1921772407519407, 0.22711855725229355, 0.6182203718000889, 0.3434557621111605, 0.0686911524222321, 0.20977978442934886, 0.8391191377173954, 0.7821800771704402, 0.08690889746338225, 0.12167245644873514, 0.637893768880149, 0.212631256293383, 0.8437126188201635, 0.8365715160200616, 0.9428919487253838, 0.019643582265112165, 0.03928716453022433, 0.8871920501473972, 0.011089900626842465, 0.09980910564158219, 0.8435283131827723, 0.7998688480836139, 0.15997376961672277, 0.834752333719924, 0.06590150003052031, 0.08786866670736042, 0.43811477187423337, 0.20752804983516318, 0.3689387552625123, 0.8365708590260464, 0.7679599222050876, 0.16966556420810075, 0.06250836576087922, 0.9283079835586703, 0.07526821488313543, 0.025089404961045142, 0.9650377078278315, 0.09443173737789082, 0.26440886465809427, 0.6421358141696575, 0.888597139312276, 0.8365734255725118, 0.8435306988453798, 0.8365378963654552, 0.6975711553450622, 0.11367826235252866, 0.19118616850198, 0.4536173089550042, 0.49485524613273185, 0.989790776320988, 0.8365642957682541, 0.884602188788149, 0.10758675269045055, 0.9804346569782888, 0.5085312731700197, 0.28251737398334426, 0.197762161788341, 0.8942685856925519, 0.028616594742161657, 0.07869563554094455, 0.07537888620090018, 0.9045466344108021, 0.3641381540047985, 0.3337933078377319, 0.3034484616706654, 0.5530144980328577, 0.0325302645901681, 0.4228934396721853, 0.7279485816912921, 0.2599816363183186, 0.02599816363183186, 0.7913291304849588, 0.10378086957179788, 0.10378086957179788, 0.20474296863904531, 0.614228905917136, 0.670255684825452, 0.13405113696509038, 0.1966083342154659, 0.9512035976626828, 0.9609277578476302, 0.9894324673163547, 0.8566617754133334, 0.04942279473538462, 0.09472702324282052, 0.9026061644230522, 0.32314987969161846, 0.08078746992290461, 0.5655122894603324, 0.8542469261985115, 0.09319057376711035, 0.04659528688355517, 0.2810064288317872, 0.6744154291962894, 0.056201285766357446, 0.8365479054142613, 0.271974345540757, 0.6799358638518924, 0.7050623257435716, 0.05321225099951484, 0.22615206674793809, 0.6807259533962802, 0.19636325578738853, 0.13090883719159235, 0.8352647037537684, 0.014915441138460151, 0.1491544113846015, 0.5083445708676965, 0.24206884327033162, 0.24206884327033162, 0.9718209383239416, 0.945106684568502, 0.3796620451676925, 0.5315268632347695, 0.0759324090335385, 0.8521897748411723, 0.07346463576217002, 0.07346463576217002, 0.8105895820785526, 0.13850410225992077, 0.05222285822915045, 0.8365756696942304, 0.42416411396433745, 0.5655521519524499, 0.1686292576931016, 0.7588316596189573, 0.0843146288465508, 0.6617518447675291, 0.09453597782393273, 0.2457935423422251, 0.18663545090014005, 0.4976945357337068, 0.31105908483356676, 0.1575065134114078, 0.787532567057039, 0.8122384178467308, 0.05184500539447218, 0.12097167925376842, 0.891782161246644, 0.08700313768259942, 0.021750784420649854, 0.888956199184743, 0.4857005600068593, 0.38856044800548745, 0.12142514000171482, 0.9901662493997848, 0.9617823318210486, 0.06869873798721775, 0.9443847841262833, 0.9454541720204898, 0.4576855338169847, 0.15256184460566155, 0.40683158561509747, 0.6852503425602267, 0.08841939904002925, 0.2210484976000731, 0.9534905836644975, 0.014231202741261157, 0.028462405482522313, 0.25088256096967154, 0.7526476829090146, 0.9016251870171582], \"Term\": [\"actual\", \"actual\", \"actual\", \"acum\", \"acum\", \"ader\", \"ader\", \"aferent\", \"aferent\", \"ajutoar\", \"ajutoar\", \"amenz\", \"angaj\", \"angaj\", \"angaj\", \"ansparent\", \"ansparent\", \"ansparent\", \"anterior\", \"antreprenor\", \"antreprenor\", \"aplic\", \"aplic\", \"aprop\", \"asemen\", \"atrag\", \"atrag\", \"atrag\", \"autor\", \"avantaj\", \"avantaj\", \"avantaj\", \"ban\", \"ban\", \"ban\", \"benefic\", \"benefic\", \"benefic\", \"birocr\", \"bun\", \"bun\", \"bun\", \"bur\", \"bur\", \"caz\", \"caz\", \"cetaten\", \"cetaten\", \"cetaten\", \"cheltu\", \"cheltu\", \"cheltu\", \"civiliz\", \"claritat\", \"climat\", \"coerent\", \"combat\", \"combat\", \"comercial\", \"compet\", \"complic\", \"computeriz\", \"concret\", \"concret\", \"concurente\", \"constitu\", \"constitu\", \"constranger\", \"context\", \"contradict\", \"contribu\", \"contribu\", \"contribu\", \"corectitudin\", \"corespunz\", \"cot\", \"cot\", \"cot\", \"crear\", \"crear\", \"crear\", \"cultur\", \"cunostint\", \"cunostint\", \"cunostint\", \"cur\", \"decent\", \"deducer\", \"defavoar\", \"defin\", \"depind\", \"dezvolt\", \"dezvolt\", \"dezvolt\", \"dialog\", \"dreptat\", \"ear\", \"econom\", \"econom\", \"econom\", \"eficient\", \"eficient\", \"eficient\", \"eficientiz\", \"erir\", \"esential\", \"europen\", \"europen\", \"europen\", \"exces\", \"exces\", \"explic\", \"fapt\", \"fapt\", \"feroviar\", \"fiscal\", \"fiscal\", \"fiscal\", \"fizic\", \"fizic\", \"fizic\", \"fondur\", \"fondur\", \"fondur\", \"gand\", \"gislat\", \"grad\", \"grad\", \"gres\", \"greu\", \"greu\", \"implement\", \"implement\", \"impoz\", \"impoz\", \"impoz\", \"inafar\", \"incat\", \"incat\", \"incat\", \"incerc\", \"incerc\", \"incerc\", \"incred\", \"incred\", \"incred\", \"indirect\", \"indirect\", \"instabil\", \"invest\", \"invest\", \"invest\", \"leg\", \"leg\", \"leg\", \"lei\", \"ligat\", \"locur\", \"locur\", \"locur\", \"lte\", \"lte\", \"lte\", \"lung\", \"lung\", \"lung\", \"major\", \"manifest\", \"manifest\", \"mar\", \"mar\", \"mar\", \"medic\", \"medic\", \"medic\", \"mediu\", \"mediu\", \"mediu\", \"mentan\", \"mentan\", \"mentin\", \"mic\", \"mic\", \"mic\", \"mod\", \"mod\", \"mod\", \"modern\", \"modern\", \"munc\", \"munc\", \"munc\", \"neces\", \"neces\", \"neces\", \"nevo\", \"nevo\", \"nevoi\", \"nevoi\", \"nevoi\", \"nevoit\", \"nevoit\", \"nim\", \"noilor\", \"numar\", \"numar\", \"numar\", \"ofer\", \"ofer\", \"ofer\", \"ortun\", \"parlamentar\", \"parlamentar\", \"part\", \"part\", \"part\", \"persoan\", \"persoan\", \"persoan\", \"pind\", \"plat\", \"plat\", \"plat\", \"platit\", \"platit\", \"platit\", \"platnic\", \"pozit\", \"pozit\", \"pozit\", \"predictib\", \"preven\", \"procentaj\", \"proport\", \"public\", \"public\", \"public\", \"putin\", \"putin\", \"rau\", \"redres\", \"reduc\", \"reduc\", \"regul\", \"ridic\", \"ridic\", \"ridic\", \"roman\", \"roman\", \"roman\", \"rupt\", \"rupt\", \"salar\", \"salar\", \"salar\", \"sanat\", \"sanat\", \"sanat\", \"scad\", \"scad\", \"scad\", \"schimb\", \"schimb\", \"schimb\", \"schimbat\", \"schimbat\", \"servic\", \"servic\", \"servic\", \"serviciu\", \"simplu\", \"simt\", \"sist\", \"sist\", \"sist\", \"sistem\", \"situat\", \"situat\", \"situat\", \"social\", \"social\", \"social\", \"societ\", \"societ\", \"societ\", \"solic\", \"solut\", \"solut\", \"stabil\", \"stabil\", \"stabil\", \"stat\", \"stat\", \"stat\", \"stem\", \"stem\", \"stem\", \"stiu\", \"stiu\", \"stiu\", \"strateg\", \"subiect\", \"sustin\", \"sustin\", \"sustin\", \"tar\", \"tar\", \"tar\", \"tax\", \"tax\", \"tax\", \"teres\", \"termen\", \"termen\", \"tiner\", \"tiner\", \"tiner\", \"transparent\", \"transparent\", \"transparent\", \"transparente\", \"transparente\", \"transparente\", \"transport\", \"transport\", \"treb\", \"treb\", \"treb\", \"trebui\", \"trebui\", \"trebui\", \"tul\", \"tva\", \"tva\", \"tva\", \"urma\", \"usor\", \"usor\", \"util\", \"vatam\", \"venit\", \"venit\", \"venit\", \"venitur\", \"venitur\", \"venitur\", \"xel\", \"xel\", \"xel\", \"zon\", \"zon\", \"zvolt\"]}, \"R\": 30, \"lambda.step\": 0.01, \"plot.opts\": {\"xlab\": \"PC1\", \"ylab\": \"PC2\"}, \"topic.order\": [2, 1, 3]};\n",
       "\n",
       "function LDAvis_load_lib(url, callback){\n",
       "  var s = document.createElement('script');\n",
       "  s.src = url;\n",
       "  s.async = true;\n",
       "  s.onreadystatechange = s.onload = callback;\n",
       "  s.onerror = function(){console.warn(\"failed to load library \" + url);};\n",
       "  document.getElementsByTagName(\"head\")[0].appendChild(s);\n",
       "}\n",
       "\n",
       "if(typeof(LDAvis) !== \"undefined\"){\n",
       "   // already loaded: just create the visualization\n",
       "   !function(LDAvis){\n",
       "       new LDAvis(\"#\" + \"ldavis_el1772826999373529128484817386\", ldavis_el1772826999373529128484817386_data);\n",
       "   }(LDAvis);\n",
       "}else if(typeof define === \"function\" && define.amd){\n",
       "   // require.js is available: use it to load d3/LDAvis\n",
       "   require.config({paths: {d3: \"https://d3js.org/d3.v5\"}});\n",
       "   require([\"d3\"], function(d3){\n",
       "      window.d3 = d3;\n",
       "      LDAvis_load_lib(\"https://cdn.jsdelivr.net/gh/bmabey/pyLDAvis@3.4.0/pyLDAvis/js/ldavis.v3.0.0.js\", function(){\n",
       "        new LDAvis(\"#\" + \"ldavis_el1772826999373529128484817386\", ldavis_el1772826999373529128484817386_data);\n",
       "      });\n",
       "    });\n",
       "}else{\n",
       "    // require.js not available: dynamically load d3 & LDAvis\n",
       "    LDAvis_load_lib(\"https://d3js.org/d3.v5.js\", function(){\n",
       "         LDAvis_load_lib(\"https://cdn.jsdelivr.net/gh/bmabey/pyLDAvis@3.4.0/pyLDAvis/js/ldavis.v3.0.0.js\", function(){\n",
       "                 new LDAvis(\"#\" + \"ldavis_el1772826999373529128484817386\", ldavis_el1772826999373529128484817386_data);\n",
       "            })\n",
       "         });\n",
       "}\n",
       "</script>"
      ]
     },
     "execution_count": 102,
     "metadata": {},
     "output_type": "execute_result"
    },
    {
     "data": {
      "text/plain": [
       "<IPython.core.display.HTML object>"
      ],
      "text/html": [
       "\n",
       "<link rel=\"stylesheet\" type=\"text/css\" href=\"https://cdn.jsdelivr.net/gh/bmabey/pyLDAvis@3.4.0/pyLDAvis/js/ldavis.v1.0.0.css\">\n",
       "\n",
       "\n",
       "<div id=\"ldavis_el177282699939140560291824981\" style=\"background-color:white;\"></div>\n",
       "<script type=\"text/javascript\">\n",
       "\n",
       "var ldavis_el177282699939140560291824981_data = {\"mdsDat\": {\"x\": [-0.09586941365428385, -0.055161924103412315, 0.06739141023267388, 0.08363992752502232], \"y\": [0.013770049206123737, -0.005972431528714291, -0.10110878897620662, 0.09331117129879717], \"topics\": [1, 2, 3, 4], \"cluster\": [1, 1, 1, 1], \"Freq\": [50.42090067134407, 28.570491738162822, 11.288931052429636, 9.719676538063466]}, \"tinfo\": {\"Term\": [\"mic\", \"pozit\", \"stiu\", \"xel\", \"mar\", \"tax\", \"transparent\", \"fiscal\", \"impoz\", \"public\", \"cot\", \"venit\", \"stat\", \"tva\", \"persoan\", \"servic\", \"venitur\", \"salar\", \"crear\", \"cetaten\", \"ansparent\", \"implement\", \"munc\", \"locur\", \"lte\", \"strateg\", \"fizic\", \"modern\", \"angaj\", \"leg\", \"exces\", \"opin\", \"evaziun\", \"electron\", \"legat\", \"rapid\", \"complic\", \"coerent\", \"dialog\", \"birocrat\", \"calc\", \"raportar\", \"depun\", \"simplu\", \"tin\", \"facilit\", \"distribu\", \"declar\", \"pregat\", \"povar\", \"neces\", \"compet\", \"flexibil\", \"schimbat\", \"neincred\", \"parafiscal\", \"lua\", \"afac\", \"axa\", \"vorb\", \"priv\", \"numar\", \"fiscal\", \"aferent\", \"nemultumest\", \"actual\", \"roman\", \"sist\", \"reduc\", \"nevoi\", \"ministr\", \"stem\", \"fapt\", \"public\", \"calitat\", \"finant\", \"rocrat\", \"rvic\", \"ofer\", \"ban\", \"transparent\", \"tax\", \"treb\", \"impoz\", \"servic\", \"mar\", \"stabil\", \"invest\", \"stat\", \"plat\", \"tar\", \"social\", \"contribu\", \"anum\", \"dezvolt\", \"structur\", \"taier\", \"oarb\", \"constranger\", \"merg\", \"roap\", \"privint\", \"realitat\", \"gasesc\", \"otect\", \"particip\", \"eficiente\", \"xel\", \"general\", \"masin\", \"descuraj\", \"traiest\", \"ilegal\", \"preveder\", \"reus\", \"stie\", \"nominal\", \"indiferent\", \"om\", \"intreprinz\", \"cazur\", \"stin\", \"restructur\", \"brut\", \"infiint\", \"rau\", \"baze\", \"platnic\", \"larg\", \"cilitat\", \"part\", \"himbar\", \"gurant\", \"impoz\", \"econom\", \"fondur\", \"sum\", \"crest\", \"ptul\", \"tax\", \"platit\", \"utiliz\", \"venitur\", \"mar\", \"munc\", \"firm\", \"trebui\", \"bin\", \"plat\", \"schimb\", \"locur\", \"ofer\", \"stat\", \"tar\", \"mic\", \"fiscal\", \"invest\", \"ban\", \"sist\", \"social\", \"buget\", \"public\", \"servic\", \"roman\", \"lei\", \"vel\", \"decent\", \"claritat\", \"ligat\", \"dreptat\", \"corectitudin\", \"ortun\", \"procentaj\", \"gres\", \"mentin\", \"zorganiz\", \"a-i\", \"onom\", \"inafar\", \"defavoar\", \"ear\", \"cert\", \"deducer\", \"m-as\", \"pacitat\", \"gramad\", \"stion\", \"zilnic\", \"acum\", \"ver\", \"abil\", \"rim\", \"comercial\", \"rupt\", \"interes\", \"mic\", \"ansparent\", \"transparente\", \"ani\", \"accent\", \"angaj\", \"tva\", \"putin\", \"noil\", \"leg\", \"greu\", \"psa\", \"cetaten\", \"arte\", \"egal\", \"lum\", \"cass\", \"efectu\", \"salar\", \"funct\", \"medic\", \"tax\", \"stat\", \"scad\", \"sustin\", \"impoz\", \"benef\", \"spital\", \"plat\", \"ridic\", \"cot\", \"servic\", \"incuraj\", \"impozit\", \"pozit\", \"ban\", \"mar\", \"public\", \"munc\", \"bun\", \"context\", \"concurente\", \"esential\", \"predictib\", \"feroviar\", \"modern\", \"univers\", \"europen\", \"noilor\", \"solic\", \"ocamd\", \"rsel\", \"implementar\", \"proport\", \"asistent\", \"gratuitat\", \"teres\", \"igurar\", \"ntrol\", \"mijloac\", \"cultur\", \"balant\", \"manifest\", \"strateg\", \"stiu\", \"medi\", \"romanest\", \"moder\", \"comand\", \"latesc\", \"pozit\", \"europ\", \"atrag\", \"termen\", \"implement\", \"lung\", \"venit\", \"crear\", \"fizic\", \"cot\", \"lte\", \"impun\", \"mediu\", \"zvolt\", \"profit\", \"tul\", \"persoan\", \"modif\", \"transparent\", \"mic\", \"mar\", \"mod\", \"public\", \"servic\", \"locur\", \"venitur\", \"stat\", \"fiscal\", \"impoz\", \"stabil\", \"munc\", \"invest\", \"schimb\", \"tax\", \"ofer\", \"sist\"], \"Freq\": [160.0, 52.0, 38.0, 67.0, 219.0, 436.0, 106.0, 425.0, 443.0, 196.0, 45.0, 38.0, 152.0, 41.0, 43.0, 112.0, 89.0, 67.0, 21.0, 59.0, 22.0, 17.0, 56.0, 39.0, 25.0, 13.0, 21.0, 12.0, 29.0, 26.0, 29.490086721049533, 20.384116745599012, 26.45767579847965, 13.982122588408119, 8.527610623382111, 8.495522889336401, 8.493618716318585, 8.451978454260638, 7.600896670233243, 39.47740647601711, 7.581590202836445, 7.574640191202829, 6.6577918771952245, 13.23976248725566, 6.576330651872564, 5.7524499574165215, 5.749252002177363, 9.012423628025648, 5.7329992478142175, 8.190205237035503, 27.6023995318927, 10.64606247368274, 5.700855224127334, 4.8441937294186355, 4.843936907930782, 4.842311544541904, 4.834404609008342, 6.462524871016342, 4.826338479333336, 4.82304069793366, 22.364857747820455, 44.046774387900726, 349.53145564467195, 16.61653672353656, 35.991607120514324, 60.83529707383715, 114.45775914321541, 192.8754844839946, 68.30733180348878, 48.13664954575733, 24.2032193798479, 52.93363165793033, 36.92825971343285, 139.42232054665018, 26.59562763658511, 41.58888720606868, 24.47131990455117, 29.428254309271953, 116.77710344570968, 72.82839616704057, 69.4673346563778, 223.68159487085526, 41.058508616421, 216.26658858391733, 65.86909674263136, 109.3347192845461, 48.25046016400459, 57.2474938523232, 74.66812458191775, 59.01226205567042, 40.53131390960219, 38.89515346392566, 37.046777552923224, 35.13124458189848, 35.4103145504254, 10.54394418948871, 7.911601008924501, 7.104127024638469, 6.240762358220091, 5.38774444025239, 4.519744893019441, 4.515445916470356, 3.667217375344378, 3.6590402993266293, 3.6569683082528037, 3.6524742181726544, 16.874466745987192, 56.22438557700673, 4.983481663242775, 3.5637085257722725, 2.8054340505200464, 2.8053388610323493, 2.805048558013587, 2.803890086997085, 2.8039142581497205, 2.8011019320812665, 2.800684294433674, 2.800487934966906, 2.7979544493087483, 2.7974563242147523, 2.7950895447536346, 2.7889316321359106, 2.7665207374617595, 2.75147706059851, 9.537556071869748, 6.857991429793564, 5.33832863678057, 5.2358255065077985, 4.529998445479546, 4.52604534068157, 26.54796337377401, 4.519209140667219, 10.583758314060152, 190.75378474955335, 44.760796310279446, 17.053494748754208, 10.701489270493052, 26.90458007438412, 21.213385003458992, 169.0801172080136, 21.402553926098577, 10.894848524088435, 38.93104521520984, 76.84598102407287, 26.534162393180775, 18.57138930981773, 21.110484668884155, 19.824579348695476, 40.81086515972614, 29.953217285478864, 19.03726759432711, 53.256490979947486, 46.043579813971085, 24.11856816797425, 40.0891434477496, 61.173270097652996, 26.890384381360228, 27.176786126249564, 38.18754654064475, 19.494310699580495, 18.152451902100047, 28.09759440906031, 23.220394051515605, 21.332941006509415, 3.9515234587839543, 3.130323609098275, 3.0786359403309564, 2.4473796088672084, 2.4474530601794995, 2.372435639881129, 1.6951607812842526, 1.6950359337453984, 1.6950442044025464, 1.694350256883741, 1.694295513010237, 1.6940072215325042, 1.693634648120024, 1.6923058292048996, 1.6924948727968556, 1.6922562052620111, 1.6921327361660148, 1.6906211751119995, 1.6906316118936389, 1.688148642465541, 1.6819192622697723, 1.6704106428482224, 1.6668666662602714, 1.6258338684843718, 3.2048833863677855, 2.101836673151146, 7.239975731100405, 1.562112098185988, 2.4557286403377843, 8.485239741625179, 3.9465531876787763, 78.86098371867415, 10.560280667139002, 7.444724119458212, 3.921159907189279, 3.1576195345726465, 10.456788752722659, 13.395598994104136, 8.696384104844164, 2.4474546355427655, 8.926339880826045, 5.382933180536424, 8.787652775677282, 14.141237332403346, 3.2876998394363848, 2.962289652422826, 5.348637522229063, 2.4060152955839564, 2.401061762713483, 13.8382886748407, 5.916665861318208, 5.921002442549517, 34.58988575388174, 19.03858644734756, 8.378509668014955, 4.688236970338756, 23.707282611731124, 6.745093477669674, 4.6396874251979074, 9.87836419759838, 6.404632270009881, 6.826111259728975, 8.69478038503907, 6.318531184531045, 5.110825803478958, 6.504790715754733, 7.287056249995429, 8.219075028649014, 7.518635437823232, 6.03284181307317, 5.634573831878931, 6.849261314375606, 6.848912726057016, 6.848840160006259, 6.340120269391812, 3.131218986481333, 9.691857311313045, 2.357917679760616, 7.480146490533286, 1.6738068312942478, 1.6737435903201068, 1.6732140955151666, 1.6707707558949325, 1.669399800085536, 1.6694760961669395, 1.6660994011508694, 3.897533776254511, 1.6651265413395515, 1.6647772748335712, 1.6614431360762396, 1.6576513903773349, 3.908990395838056, 1.6479651789760457, 5.975686102428481, 9.18995116940847, 24.738995578638473, 2.3853174676079245, 0.9297771943913614, 0.9297664281665411, 0.9297644783777942, 0.9297560858088398, 28.868779713090568, 5.749768997174775, 7.116798779769141, 7.065422015833131, 8.479205358924153, 7.0669119935295175, 14.78278963904086, 9.161016304403324, 8.809987867583127, 14.998251129299035, 9.576429817491977, 4.889048827209897, 5.789323598523894, 3.032241266904547, 7.8283258621270315, 4.549076879412994, 11.955855023506535, 4.517967067447306, 17.706724040628302, 22.36017192483907, 25.023839708043877, 7.74475825552527, 21.145060864973118, 14.285284933299028, 8.87099421427334, 11.995756856799463, 12.282212359444108, 13.419911041462234, 12.87477587892815, 9.296728383066862, 8.812551415918282, 9.266770133289825, 8.497056607410393, 8.875236954586763, 8.298782420183402, 8.32458745038253], \"Total\": [160.0, 52.0, 38.0, 67.0, 219.0, 436.0, 106.0, 425.0, 443.0, 196.0, 45.0, 38.0, 152.0, 41.0, 43.0, 112.0, 89.0, 67.0, 21.0, 59.0, 22.0, 17.0, 56.0, 39.0, 25.0, 13.0, 21.0, 12.0, 29.0, 26.0, 30.33615046833322, 21.09841589841904, 27.498471928764218, 14.657606855752995, 9.125962761210229, 9.12380870634259, 9.123806845391748, 9.120663171730865, 8.202427381488235, 42.6929171008504, 8.201480067325246, 8.196266445575269, 7.276243261059148, 14.609633450830444, 7.259759565018072, 6.3561875690437954, 6.3556370560366, 9.964069280410117, 6.35544174138126, 9.104034377613495, 30.707724556305834, 11.852335388386068, 6.35324359481565, 5.434750760762784, 5.434804250179949, 5.43466115792608, 5.433558732784202, 7.263634498990674, 5.431288801346459, 5.433268290623249, 25.535944051333917, 50.87852773771749, 425.9400535107657, 19.063892601301593, 42.23029666604863, 73.14933774674567, 140.48115457561212, 244.36794039783885, 84.33554248046543, 58.57184230073758, 28.93444522722236, 67.2316875425122, 46.09114894496678, 196.18361125850686, 32.587841485772486, 53.651057827761356, 29.8484102282959, 36.94142326086715, 178.816699783908, 111.71639432269504, 106.71017768742203, 436.22683478733734, 58.69375497108465, 443.60243182412995, 112.06955611248506, 219.42361504531183, 75.68503281237476, 97.45479153543171, 152.03250320268052, 111.70068051630643, 67.76239620994009, 63.83512097380827, 59.22620427961306, 56.73168110667813, 60.31499081406879, 11.179388141960372, 8.582917182484865, 7.726575017308859, 6.863974227755344, 6.001010315682997, 5.137816732517101, 5.136509443830242, 4.274306056834936, 4.272885083785831, 4.273541833789633, 4.275239091095976, 19.797176494378295, 67.1024746913692, 5.950250027414784, 4.28140005832717, 3.410815476377322, 3.410878017651348, 3.4107687491509453, 3.410719529972635, 3.4108325061764018, 3.410866770302901, 3.4105902684931912, 3.4108629102280252, 3.4109005792154323, 3.411006289041814, 3.4115012074284032, 3.4087391789125365, 3.4062526473845844, 3.40342857702051, 11.929441998882423, 8.666924894249927, 6.926769662048615, 6.932436044883032, 5.8913874899751235, 5.890528812518355, 44.84603718725174, 5.89041965868724, 15.692560323792947, 443.60243182412995, 82.56487300531063, 27.39103183387542, 16.134976670132748, 47.87376618539007, 36.360339299409354, 436.22683478733734, 38.55825607920799, 17.362392917257754, 89.50968769324577, 219.42361504531183, 56.53244030066426, 36.50628964411797, 45.061940108561075, 41.664625009231244, 111.70068051630643, 75.21190782782668, 39.44574014728316, 178.816699783908, 152.03250320268052, 67.76239620994009, 160.565126019438, 425.9400535107657, 97.45479153543171, 111.71639432269504, 244.36794039783885, 63.83512097380827, 55.03426173742937, 196.18361125850686, 112.06955611248506, 140.48115457561212, 4.5893617546783565, 3.849618802210514, 3.8618051100883637, 3.081320220667745, 3.0815515107989655, 3.098148079188184, 2.3278236861206203, 2.3278150097942496, 2.3278722662900786, 2.3278760268693777, 2.3279988523916346, 2.3279563398129572, 2.328026020858578, 2.3280758108362543, 2.328369680929731, 2.3283163920894077, 2.3282654033627685, 2.328296388434402, 2.3287199798640232, 2.3290772794336685, 2.327845295072616, 2.330859850193809, 2.3274341186321132, 2.3424078622903797, 4.6964667200272485, 3.13155198148577, 10.860355845631327, 2.357173842303059, 3.9431581791952572, 13.655151048207463, 6.375029344705535, 160.565126019438, 22.333220868220486, 16.435252885334748, 7.184816319424412, 5.4666919077123595, 29.255905023151676, 41.62855539700194, 24.08915265805936, 3.9449200780011973, 26.19231242691859, 12.570726589287556, 26.32154150487876, 59.036061126778776, 6.448750143002249, 5.494543875336945, 13.716821982598173, 4.012795544826104, 4.0139689177501365, 67.84059520660401, 18.92698452002843, 18.997174507818027, 436.22683478733734, 152.03250320268052, 37.910871996029705, 13.184097684692874, 443.60243182412995, 31.06802727019869, 13.477079262453618, 111.70068051630643, 36.095675638754365, 45.08476485709598, 112.06955611248506, 40.42437278458771, 19.41824844819942, 52.93806809872322, 111.71639432269504, 219.42361504531183, 196.18361125850686, 56.53244030066426, 47.69892667100888, 7.521852463921881, 7.521916502291295, 7.521943883222932, 7.643112462558236, 3.800180126848084, 12.21676442381778, 3.063563857733643, 10.138394579038602, 2.3088243258097627, 2.3088357049944115, 2.308912057649755, 2.3093214388854095, 2.309168847856273, 2.3093317536244204, 2.3100444371676483, 5.404620445601797, 2.3107451019152183, 2.310887751409439, 2.3089391847177243, 2.309001368796137, 5.461551760135322, 2.309553398449605, 8.653829726283202, 13.408358043843347, 38.2892380351137, 3.9823760077708883, 1.5647889573322602, 1.5647873075253784, 1.5647865989229053, 1.564784544585543, 52.93806809872322, 10.084703663013364, 13.559513735042033, 13.59378302541601, 17.261160666520865, 14.347854662839454, 38.403846818907766, 21.870823622494385, 21.35291014208815, 45.08476485709598, 25.06258888562162, 10.64233237972258, 13.779419509268767, 5.543854873657665, 22.49351425894263, 10.150919176364855, 43.72143792358288, 10.179307446981891, 106.71017768742203, 160.565126019438, 219.42361504531183, 26.1236129112409, 196.18361125850686, 112.06955611248506, 39.44574014728316, 89.50968769324577, 152.03250320268052, 425.9400535107657, 443.60243182412995, 75.68503281237476, 56.53244030066426, 97.45479153543171, 75.21190782782668, 436.22683478733734, 178.816699783908, 244.36794039783885], \"Category\": [\"Default\", \"Default\", \"Default\", \"Default\", \"Default\", \"Default\", \"Default\", \"Default\", \"Default\", \"Default\", \"Default\", \"Default\", \"Default\", \"Default\", \"Default\", \"Default\", \"Default\", \"Default\", \"Default\", \"Default\", \"Default\", \"Default\", \"Default\", \"Default\", \"Default\", \"Default\", \"Default\", \"Default\", \"Default\", \"Default\", \"Topic1\", \"Topic1\", \"Topic1\", \"Topic1\", \"Topic1\", \"Topic1\", \"Topic1\", \"Topic1\", \"Topic1\", \"Topic1\", \"Topic1\", \"Topic1\", \"Topic1\", \"Topic1\", \"Topic1\", \"Topic1\", \"Topic1\", \"Topic1\", \"Topic1\", \"Topic1\", \"Topic1\", \"Topic1\", \"Topic1\", \"Topic1\", \"Topic1\", \"Topic1\", \"Topic1\", \"Topic1\", \"Topic1\", \"Topic1\", \"Topic1\", \"Topic1\", \"Topic1\", \"Topic1\", \"Topic1\", \"Topic1\", \"Topic1\", \"Topic1\", \"Topic1\", \"Topic1\", \"Topic1\", \"Topic1\", \"Topic1\", \"Topic1\", \"Topic1\", \"Topic1\", \"Topic1\", \"Topic1\", \"Topic1\", \"Topic1\", \"Topic1\", \"Topic1\", \"Topic1\", \"Topic1\", \"Topic1\", \"Topic1\", \"Topic1\", \"Topic1\", \"Topic1\", \"Topic1\", \"Topic1\", \"Topic1\", \"Topic1\", \"Topic1\", \"Topic1\", \"Topic2\", \"Topic2\", \"Topic2\", \"Topic2\", \"Topic2\", \"Topic2\", \"Topic2\", \"Topic2\", \"Topic2\", \"Topic2\", \"Topic2\", \"Topic2\", \"Topic2\", \"Topic2\", \"Topic2\", \"Topic2\", \"Topic2\", \"Topic2\", \"Topic2\", \"Topic2\", \"Topic2\", \"Topic2\", \"Topic2\", \"Topic2\", \"Topic2\", \"Topic2\", \"Topic2\", \"Topic2\", \"Topic2\", \"Topic2\", \"Topic2\", \"Topic2\", \"Topic2\", \"Topic2\", \"Topic2\", \"Topic2\", \"Topic2\", \"Topic2\", \"Topic2\", \"Topic2\", \"Topic2\", \"Topic2\", \"Topic2\", \"Topic2\", \"Topic2\", \"Topic2\", \"Topic2\", \"Topic2\", \"Topic2\", \"Topic2\", \"Topic2\", \"Topic2\", \"Topic2\", \"Topic2\", \"Topic2\", \"Topic2\", \"Topic2\", \"Topic2\", \"Topic2\", \"Topic2\", \"Topic2\", \"Topic2\", \"Topic2\", \"Topic2\", \"Topic2\", \"Topic2\", \"Topic2\", \"Topic2\", \"Topic2\", \"Topic3\", \"Topic3\", \"Topic3\", \"Topic3\", \"Topic3\", \"Topic3\", \"Topic3\", \"Topic3\", \"Topic3\", \"Topic3\", \"Topic3\", \"Topic3\", \"Topic3\", \"Topic3\", \"Topic3\", \"Topic3\", \"Topic3\", \"Topic3\", \"Topic3\", \"Topic3\", \"Topic3\", \"Topic3\", \"Topic3\", \"Topic3\", \"Topic3\", \"Topic3\", \"Topic3\", \"Topic3\", \"Topic3\", \"Topic3\", \"Topic3\", \"Topic3\", \"Topic3\", \"Topic3\", \"Topic3\", \"Topic3\", \"Topic3\", \"Topic3\", \"Topic3\", \"Topic3\", \"Topic3\", \"Topic3\", \"Topic3\", \"Topic3\", \"Topic3\", \"Topic3\", \"Topic3\", \"Topic3\", \"Topic3\", \"Topic3\", \"Topic3\", \"Topic3\", \"Topic3\", \"Topic3\", \"Topic3\", \"Topic3\", \"Topic3\", \"Topic3\", \"Topic3\", \"Topic3\", \"Topic3\", \"Topic3\", \"Topic3\", \"Topic3\", \"Topic3\", \"Topic3\", \"Topic3\", \"Topic3\", \"Topic3\", \"Topic3\", \"Topic3\", \"Topic4\", \"Topic4\", \"Topic4\", \"Topic4\", \"Topic4\", \"Topic4\", \"Topic4\", \"Topic4\", \"Topic4\", \"Topic4\", \"Topic4\", \"Topic4\", \"Topic4\", \"Topic4\", \"Topic4\", \"Topic4\", \"Topic4\", \"Topic4\", \"Topic4\", \"Topic4\", \"Topic4\", \"Topic4\", \"Topic4\", \"Topic4\", \"Topic4\", \"Topic4\", \"Topic4\", \"Topic4\", \"Topic4\", \"Topic4\", \"Topic4\", \"Topic4\", \"Topic4\", \"Topic4\", \"Topic4\", \"Topic4\", \"Topic4\", \"Topic4\", \"Topic4\", \"Topic4\", \"Topic4\", \"Topic4\", \"Topic4\", \"Topic4\", \"Topic4\", \"Topic4\", \"Topic4\", \"Topic4\", \"Topic4\", \"Topic4\", \"Topic4\", \"Topic4\", \"Topic4\", \"Topic4\", \"Topic4\", \"Topic4\", \"Topic4\", \"Topic4\", \"Topic4\", \"Topic4\", \"Topic4\", \"Topic4\", \"Topic4\", \"Topic4\", \"Topic4\", \"Topic4\"], \"logprob\": [30.0, 29.0, 28.0, 27.0, 26.0, 25.0, 24.0, 23.0, 22.0, 21.0, 20.0, 19.0, 18.0, 17.0, 16.0, 15.0, 14.0, 13.0, 12.0, 11.0, 10.0, 9.0, 8.0, 7.0, 6.0, 5.0, 4.0, 3.0, 2.0, 1.0, -5.5459, -5.9152, -5.6544, -6.2922, -6.7867, -6.7904, -6.7907, -6.7956, -6.9017, -5.2542, -6.9043, -6.9052, -7.0342, -6.3467, -7.0465, -7.1803, -7.1809, -6.7314, -7.1837, -6.827, -5.6121, -6.5648, -7.1894, -7.3522, -7.3522, -7.3526, -7.3542, -7.064, -7.3559, -7.3566, -5.8225, -5.1447, -3.0734, -6.1196, -5.3467, -4.8218, -4.1898, -3.6679, -4.706, -5.0559, -5.7435, -4.9609, -5.321, -3.9925, -5.6492, -5.2021, -5.7325, -5.548, -4.1697, -4.6419, -4.6891, -3.5198, -5.215, -3.5535, -4.7423, -4.2356, -5.0536, -4.8826, -4.6169, -4.8522, -5.2279, -5.2691, -5.3178, -5.3709, -5.363, -6.0064, -6.2936, -6.4013, -6.5308, -6.6778, -6.8535, -6.8544, -7.0625, -7.0647, -7.0653, -7.0665, -5.5361, -4.3326, -6.7558, -7.0911, -7.3304, -7.3304, -7.3305, -7.3309, -7.3309, -7.3319, -7.3321, -7.3321, -7.3331, -7.3332, -7.3341, -7.3363, -7.3444, -7.3498, -6.1067, -6.4365, -6.687, -6.7064, -6.8512, -6.8521, -5.083, -6.8536, -6.0026, -3.111, -4.5606, -5.5256, -5.9916, -5.0696, -5.3073, -3.2316, -5.2984, -5.9737, -4.7002, -4.0201, -5.0835, -5.4403, -5.3122, -5.375, -4.653, -4.9623, -5.4155, -4.3868, -4.5324, -5.179, -4.6708, -4.2482, -5.0702, -5.0596, -4.7194, -5.3918, -5.4631, -5.0263, -5.2169, -5.3017, -6.0593, -6.2923, -6.3089, -6.5384, -6.5383, -6.5695, -6.9056, -6.9057, -6.9057, -6.9061, -6.9061, -6.9063, -6.9065, -6.9073, -6.9072, -6.9073, -6.9074, -6.9083, -6.9083, -6.9098, -6.9135, -6.9203, -6.9224, -6.9474, -6.2687, -6.6906, -5.4538, -6.9874, -6.535, -5.2951, -6.0605, -3.0657, -5.0763, -5.4259, -6.067, -6.2836, -5.0861, -4.8385, -5.2705, -6.5383, -5.2444, -5.7502, -5.26, -4.7843, -6.2432, -6.3474, -5.7565, -6.5554, -6.5575, -4.806, -5.6556, -5.6549, -3.8898, -4.4869, -5.3077, -5.8883, -4.2676, -5.5246, -5.8987, -5.143, -5.5764, -5.5126, -5.2707, -5.5899, -5.802, -5.5609, -5.4473, -5.3269, -5.416, -5.6362, -5.7045, -5.3596, -5.3596, -5.3596, -5.4368, -6.1423, -5.0124, -6.4259, -5.2715, -6.7686, -6.7687, -6.769, -6.7704, -6.7713, -6.7712, -6.7732, -5.9234, -6.7738, -6.774, -6.776, -6.7783, -5.9204, -6.7842, -5.496, -5.0656, -4.0753, -6.4144, -7.3565, -7.3565, -7.3565, -7.3566, -3.921, -5.5346, -5.3213, -5.3285, -5.1461, -5.3283, -4.5903, -5.0688, -5.1078, -4.5758, -5.0244, -5.6967, -5.5277, -6.1744, -5.226, -5.7688, -4.8025, -5.7757, -4.4098, -4.1764, -4.0639, -5.2367, -4.2323, -4.6245, -5.1009, -4.7992, -4.7756, -4.687, -4.7285, -5.0541, -5.1075, -5.0573, -5.144, -5.1005, -5.1676, -5.1645], \"loglift\": [30.0, 29.0, 28.0, 27.0, 26.0, 25.0, 24.0, 23.0, 22.0, 21.0, 20.0, 19.0, 18.0, 17.0, 16.0, 15.0, 14.0, 13.0, 12.0, 11.0, 10.0, 9.0, 8.0, 7.0, 6.0, 5.0, 4.0, 3.0, 2.0, 1.0, 0.6565, 0.6503, 0.6462, 0.6376, 0.617, 0.6134, 0.6132, 0.6086, 0.6086, 0.6065, 0.6062, 0.6059, 0.5959, 0.5863, 0.5859, 0.585, 0.5845, 0.5844, 0.5817, 0.579, 0.5782, 0.5774, 0.5764, 0.5697, 0.5697, 0.5694, 0.5679, 0.5679, 0.5667, 0.5656, 0.5522, 0.5406, 0.4871, 0.5474, 0.5249, 0.5004, 0.4799, 0.4481, 0.474, 0.4886, 0.5062, 0.4457, 0.4631, 0.3432, 0.4816, 0.4301, 0.4861, 0.4574, 0.2587, 0.2569, 0.2555, 0.0168, 0.3274, -0.0337, 0.1533, -0.0118, 0.2346, 0.1528, -0.0263, 0.0467, 0.1708, 0.1893, 0.2156, 0.2055, 0.1522, 1.1943, 1.1714, 1.1688, 1.1576, 1.145, 1.1246, 1.1239, 1.0996, 1.0977, 1.097, 1.0954, 1.0931, 1.0759, 1.0755, 1.0693, 1.0574, 1.0574, 1.0573, 1.0569, 1.0569, 1.0558, 1.0558, 1.0556, 1.0547, 1.0545, 1.0535, 1.0521, 1.0448, 1.0402, 1.029, 1.0187, 0.9923, 0.9721, 0.99, 0.9893, 0.7285, 0.9878, 0.8589, 0.4089, 0.6405, 0.7789, 0.8422, 0.6765, 0.7139, 0.305, 0.6641, 0.7868, 0.4202, 0.2036, 0.4964, 0.5769, 0.4945, 0.5101, 0.2459, 0.3321, 0.5243, 0.0416, 0.0583, 0.2198, -0.1348, -0.6878, -0.0348, -0.1608, -0.6034, 0.0666, 0.1436, -0.6906, -0.3213, -0.632, 2.0317, 1.9745, 1.9547, 1.951, 1.951, 1.9145, 1.8642, 1.8641, 1.8641, 1.8637, 1.8636, 1.8635, 1.8632, 1.8624, 1.8624, 1.8623, 1.8622, 1.8613, 1.8611, 1.8595, 1.8563, 1.8482, 1.8475, 1.8162, 1.7992, 1.7826, 1.7758, 1.7699, 1.7078, 1.7056, 1.7018, 1.4703, 1.4324, 1.3894, 1.5758, 1.6325, 1.1525, 1.0475, 1.1625, 1.704, 1.1049, 1.3332, 1.0843, 0.7523, 1.5076, 1.5636, 1.2396, 1.6698, 1.6675, 0.5916, 1.0185, 1.0156, -0.3533, 0.1037, 0.6718, 1.1474, -0.7478, 0.654, 1.115, -0.2441, 0.4522, 0.2936, -0.375, 0.3254, 0.8465, 0.0848, -0.5485, -1.1032, -1.0803, -0.0562, 0.0454, 2.2373, 2.2373, 2.2373, 2.1441, 2.1374, 2.0995, 2.0692, 2.0269, 2.0094, 2.0093, 2.009, 2.0073, 2.0066, 2.0066, 2.0042, 2.0041, 2.0033, 2.0031, 2.0019, 1.9996, 1.9966, 1.9935, 1.9607, 1.9533, 1.8942, 1.8185, 1.8105, 1.8104, 1.8104, 1.8104, 1.7247, 1.7692, 1.6864, 1.6766, 1.6202, 1.6228, 1.3763, 1.4608, 1.4457, 1.2304, 1.3689, 1.5532, 1.4639, 1.7276, 1.2755, 1.5284, 1.0344, 1.5187, 0.5348, 0.3596, 0.1598, 1.1152, 0.1034, 0.2711, 0.8389, 0.3212, -0.1849, -1.1265, -1.2086, 0.2341, 0.4724, -0.0219, 0.1504, -1.5639, -0.7392, -1.0484]}, \"token.table\": {\"Topic\": [3, 1, 3, 4, 1, 3, 4, 1, 2, 3, 4, 2, 3, 1, 1, 2, 3, 1, 2, 3, 4, 2, 3, 1, 3, 4, 1, 2, 3, 4, 1, 2, 3, 4, 1, 2, 3, 4, 1, 4, 1, 2, 3, 4, 1, 2, 1, 2, 3, 4, 1, 2, 4, 1, 3, 4, 2, 1, 2, 3, 4, 1, 2, 3, 1, 1, 2, 3, 1, 3, 2, 3, 1, 2, 3, 4, 2, 3, 3, 1, 4, 2, 3, 1, 2, 1, 4, 2, 4, 1, 2, 3, 4, 3, 1, 2, 3, 4, 1, 2, 4, 1, 2, 3, 1, 4, 3, 1, 4, 3, 3, 1, 2, 1, 2, 3, 4, 1, 1, 3, 3, 1, 2, 3, 4, 1, 3, 1, 2, 3, 1, 3, 4, 1, 4, 1, 2, 3, 4, 1, 4, 1, 3, 1, 1, 1, 2, 3, 4, 1, 2, 3, 4, 1, 2, 3, 4, 1, 2, 3, 4, 1, 2, 3, 4, 1, 1, 2, 3, 1, 2, 3, 4, 2, 2, 3, 3, 2, 4, 3, 1, 3, 2, 3, 4, 2, 3, 4, 2, 1, 2, 4, 4, 1, 2, 3, 4, 1, 2, 3, 4, 1, 3, 4, 3, 1, 2, 3, 4, 2, 1, 2, 3, 1, 2, 3, 2, 1, 2, 3, 4, 2, 3, 4, 1, 2, 3, 1, 3, 3, 1, 2, 3, 4, 1, 2, 3, 4, 1, 1, 3, 4, 1, 2, 3, 4, 3, 1, 4, 1, 2, 3, 4, 2, 1, 4, 1, 2, 3, 4, 1, 2, 3, 4, 3, 2, 1, 2, 3, 4, 4, 1, 2, 3, 1, 2, 3, 4, 4, 1, 3, 4, 2, 3, 4, 1, 2, 3, 4, 1, 3, 4, 1, 1, 2, 3, 4, 1, 2, 3, 4, 2, 3, 4, 2, 4, 1, 2, 3, 2, 4, 1, 2, 4, 2, 3, 1, 3, 2, 3, 1, 1, 2, 3, 2, 1, 2, 3, 4, 1, 2, 3, 4, 1, 2, 3, 1, 2, 1, 2, 1, 2, 3, 4, 1, 4, 1, 2, 1, 2, 2, 3, 1, 2, 3, 4, 4, 1, 2, 3, 4, 1, 2, 3, 4, 1, 2, 3, 4, 1, 2, 3, 1, 1, 1, 2, 2, 1, 2, 3, 2, 2, 1, 2, 3, 4, 3, 2, 1, 2, 3, 4, 1, 2, 3, 4, 4, 4, 1, 3, 1, 2, 4, 1, 2, 3, 4, 1, 2, 3, 1, 2, 3, 4, 1, 1, 2, 3, 4, 1, 2, 1, 2, 3, 4, 1, 2, 3, 4, 4, 1, 2, 3, 1, 2, 3, 4, 1, 2, 3, 4, 1, 2, 3, 4, 2, 2, 3, 2, 4, 1, 4, 2, 1, 2, 3, 1, 3, 4, 2, 1, 2, 3, 4, 1, 2, 3, 4, 4, 1, 2, 4, 1, 2, 1, 2, 3, 4, 1, 2, 3, 4, 1, 2, 1, 2, 3, 2, 3, 4, 1, 2, 3, 4, 1, 2, 3, 3, 1, 2, 3, 4, 1, 2, 3, 4, 2, 3, 1, 1, 2, 3, 3, 2, 4], \"Freq\": [0.8590969267870977, 0.18415602844215437, 0.6445460995475403, 0.18415602844215437, 0.1829259846506457, 0.5487779539519371, 0.1829259846506457, 0.8339104888576222, 0.10936531001411438, 0.013670663751764298, 0.041011991255292896, 0.21292602707811759, 0.6387780812343528, 0.8260327527264396, 0.8917381332099679, 0.1049103686129374, 0.0524551843064687, 0.41017360394435903, 0.20508680197217952, 0.3418113366202992, 0.03418113366202992, 0.41754720881164226, 0.5567296117488564, 0.492539793740753, 0.492539793740753, 0.044776344885523005, 0.6169392360185145, 0.2996562003518499, 0.0176268353148147, 0.0705073412592588, 0.1550688083465496, 0.3101376166930992, 0.46520642503964876, 0.8657842108233231, 0.22124687202071708, 0.22124687202071708, 0.07374895734023902, 0.5162427013816732, 0.9205918121607639, 0.8659682869175456, 0.6534403517279482, 0.2416834177623918, 0.0626586638643238, 0.0358049507796136, 0.1443674394832189, 0.7218371974160944, 0.38624917815463394, 0.2574994521030893, 0.22531202059020314, 0.12874972605154464, 0.4800235210461821, 0.4800235210461821, 0.024001176052309108, 0.9135004738109863, 0.04684617814415314, 0.02342308907207657, 0.8814640683972612, 0.45426247596953306, 0.3270689826980638, 0.10902299423268794, 0.10902299423268794, 0.6289449699134178, 0.2515779879653671, 0.12578899398268356, 0.9754336942025935, 0.8285298678584747, 0.15343145701082866, 0.030686291402165732, 0.2492028285092545, 0.498405657018509, 0.87937826123808, 0.8589971663121654, 0.5081639836298629, 0.2032655934519452, 0.23714319236060272, 0.0508163983629863, 0.8488202263562767, 0.16976404527125535, 0.6490724289494927, 0.8771292009550011, 0.6390647777072818, 0.25360382580545776, 0.5072076516109155, 0.9280871355343809, 0.08437155777585281, 0.8768269797426324, 0.9306138931305192, 0.8741291562165611, 0.9306218160453271, 0.6247234724906422, 0.25326627263134144, 0.06753767270169105, 0.05065325452626828, 0.8591715996038569, 0.35488706774261297, 0.17744353387130649, 0.1552630921373932, 0.33270662600869966, 0.045723015157576825, 0.5486761818909219, 0.4115071364181914, 0.33421226853221375, 0.5639832031481107, 0.08355306713305344, 0.18309814571366853, 0.7323925828546741, 0.7768387876858331, 0.903245425811568, 0.100360602867952, 0.8588409157363706, 0.8589897862657833, 0.9620349057682636, 0.8795550567825923, 0.5802869158662968, 0.2486943925141272, 0.0828981308380424, 0.0828981308380424, 0.9753210394833747, 0.9440438381076505, 0.6455469360664211, 0.8590085980366985, 0.3996857113542392, 0.545025970028508, 0.0363350646685672, 0.024223376445711466, 0.2491299809467654, 0.4982599618935308, 0.10102450723556108, 0.8587083115022692, 0.05051225361778054, 0.18199872868221958, 0.5459961860466587, 0.18199872868221958, 0.9551354554515911, 0.9306105055653121, 0.09916007781840905, 0.1983201556368181, 0.1983201556368181, 0.5949604669104543, 0.1972698916389635, 0.6904446207363722, 0.9455070837155584, 0.03636565706598301, 0.9559551740182731, 0.9439620739358736, 0.8027571637274287, 0.15187297692140542, 0.04339227912040155, 0.7894362635089712, 0.7828363819933369, 0.1304727303322228, 0.07455584590412732, 0.03727792295206366, 0.38349556025767556, 0.5204582603497026, 0.08217762005521619, 0.027392540018405395, 0.8217118749813785, 0.1432126410681831, 0.00469549642846502, 0.03052072678502263, 0.2809921439314054, 0.2809921439314054, 0.046832023988567575, 0.42148821589710816, 0.9443994883017074, 0.21904979835697888, 0.6206410953447735, 0.14603319890465258, 0.36984232710671044, 0.15850385447430448, 0.31700770894860897, 0.15850385447430448, 0.9361356370613994, 0.8403008238247694, 0.1680601647649539, 0.8580524478267973, 0.18502686915115119, 0.7401074766046047, 0.8591522817001905, 0.5568492759969195, 0.39774948285494244, 0.7009691072094768, 0.25489785716708246, 0.06372446429177062, 0.8488359556226114, 0.16976719112452227, 0.8654682594514491, 0.8795671066080926, 0.4634682542244402, 0.05793353177805503, 0.4634682542244402, 0.866112498380839, 0.4869224884809357, 0.43056571898082746, 0.05410249872010397, 0.02930552014005632, 0.15449385190445322, 0.30898770380890644, 0.25748975317408873, 0.25748975317408873, 0.4698218230363463, 0.09396436460726926, 0.4698218230363463, 0.8589701267718745, 0.6926514394968014, 0.12368775705300025, 0.1484253084636003, 0.02473755141060005, 0.8795428250733894, 0.08382621752917549, 0.8382621752917548, 0.08382621752917549, 0.1568620230478626, 0.1568620230478626, 0.6274480921914504, 0.8795058542219019, 0.5848865828139037, 0.2770515392276386, 0.04104467247816868, 0.09235051307587953, 0.8486965096945461, 0.1697393019389092, 0.6390656167075481, 0.45814969691898055, 0.19089570704957523, 0.3436122726892354, 0.9861973180796187, 0.8715808894172341, 0.6490237119162913, 0.22816151925139827, 0.48167431841961855, 0.05070255983364406, 0.22816151925139827, 0.19950053934246573, 0.279300755079452, 0.11970032360547944, 0.39900107868493145, 0.9202072243798048, 0.364515921132697, 0.364515921132697, 0.2187095526796182, 0.06969683088510593, 0.34848415442552966, 0.06969683088510593, 0.4878778161957415, 0.8587091624912996, 0.23111154982927945, 0.6933346494878383, 0.49675601223455856, 0.35091938478955054, 0.03645915686125201, 0.11393486519141252, 0.9342738229332582, 0.2511063741968816, 0.5022127483937632, 0.3158364417577352, 0.2631970347981127, 0.3158364417577352, 0.10527881391924507, 0.21771599289665586, 0.2902879905288745, 0.07257199763221862, 0.4354319857933117, 0.8591069527140575, 0.8331930353349062, 0.11833204675901952, 0.2491200984400411, 0.4920121944190812, 0.13701605414202261, 0.866175320217656, 0.8294612117677691, 0.10368265147097114, 0.06912176764731409, 0.4976340770386375, 0.15311817755035, 0.076559088775175, 0.3062363551007, 0.6390644883114771, 0.08185473381564123, 0.08185473381564123, 0.8185473381564123, 0.2947155310540781, 0.19647702070271875, 0.4911925517567968, 0.26533438005193893, 0.4776018840934901, 0.10613375202077557, 0.15920062803116336, 0.9118226897163632, 0.06513019212259737, 0.03256509606129868, 0.9199963365441262, 0.8524685555652862, 0.047359364198071456, 0.047359364198071456, 0.047359364198071456, 0.819506406398208, 0.102438300799776, 0.017073050133296, 0.051219150399888, 0.25349056006900844, 0.5069811201380169, 0.8662417394179827, 0.8796131355073058, 0.8661986479494508, 0.8648048981846173, 0.09827328388461559, 0.03930931355384624, 0.9059641541457625, 0.8662088247898896, 0.6543013048635238, 0.2963928987843313, 0.04473855075989906, 0.879533111659928, 0.8590785534950393, 0.9479384659157587, 0.8591748019430356, 0.9359917734683634, 0.8591636240747738, 0.9200205596457183, 0.3790747425244642, 0.6020598851859138, 0.022298514266144955, 0.9356201874956618, 0.411697346996243, 0.2515928231643707, 0.06861622449937384, 0.27446489799749535, 0.5281973191863141, 0.36705237434981147, 0.08952496935361255, 0.01790499387072251, 0.38902174333783063, 0.5446304406729628, 0.05186956577837742, 0.14424943750301453, 0.7212471875150726, 0.878731303966923, 0.10984141299586538, 0.188899979903898, 0.13222998593272858, 0.13222998593272858, 0.5478099417213041, 0.13083675072148404, 0.7850205043289044, 0.9440728503469831, 0.8795797994049864, 0.8615307096449716, 0.11748146040613248, 0.9734236945686509, 0.8591536696244045, 0.17782903791521776, 0.26674355687282664, 0.2222862973940222, 0.3556580758304355, 0.866051400740091, 0.3039335670563664, 0.22795017529227482, 0.3419252629384122, 0.11397508764613741, 0.19251745541642154, 0.5775523662492646, 0.055004987261834726, 0.16501496178550418, 0.7085199375642175, 0.14272344066041792, 0.040778125902976546, 0.10704258049531344, 0.24907476344929125, 0.4151246057488187, 0.37361214517393687, 0.8768268008993488, 0.9760541647982635, 0.11538117754585021, 0.8076682428209515, 0.9358244231490396, 0.8063029892260524, 0.16600355660536373, 0.023714793800766246, 0.8807332604360641, 0.8795506652899377, 0.5817871428746221, 0.13852074830348143, 0.16622489796417772, 0.11081659864278515, 0.8484736951119036, 0.9731760123624373, 0.804062923835331, 0.1340104873058885, 0.03350262182647212, 0.03350262182647212, 0.8114967473351808, 0.1494862429301649, 0.0071183925204840424, 0.021355177561452127, 0.6390638145254143, 0.8660552690167277, 0.29292975126225995, 0.5858595025245199, 0.7850266026626086, 0.1353494142521739, 0.054139765700869556, 0.4422131012948368, 0.2505874240670742, 0.20636611393759052, 0.10318305696879526, 0.474797836406535, 0.29015423335954915, 0.21102126062512666, 0.42546454310471216, 0.39887300916066765, 0.05318306788808902, 0.10636613577617804, 0.9200053912496688, 0.5889199733579323, 0.20522968768534006, 0.0803072690942635, 0.12492241859107654, 0.8898238305397765, 0.0684479869645982, 0.7897926368155733, 0.15550321346627868, 0.020460949140299826, 0.032737518624479725, 0.6109489479310584, 0.2976417951459002, 0.03133071527851581, 0.04699607291777372, 0.8662374701125999, 0.44520031997701914, 0.22260015998850957, 0.37100026664751595, 0.6342072958994851, 0.224615083964401, 0.01321265199790594, 0.11891386798115347, 0.4933155635806019, 0.3025668789961025, 0.1249732761070858, 0.0789304901728963, 0.7883187517268079, 0.1189915096946125, 0.014873938711826563, 0.07436969355913282, 0.8795418296955603, 0.8800908026518669, 0.8593154083241875, 0.3395209898948149, 0.6529249805669517, 0.2983213893096076, 0.6712231259466171, 0.9839536708375781, 0.18593147429542073, 0.6817487390832093, 0.18593147429542073, 0.45509371543614824, 0.3792447628634569, 0.15169790514538276, 0.9320840257349305, 0.6050553447516027, 0.3541787383911821, 0.02951489486593184, 0.01475744743296592, 0.5134943156562137, 0.38741312207991124, 0.0802334868212834, 0.02063146803975859, 0.8655216875034537, 0.07356303967264455, 0.36781519836322274, 0.5149412777085118, 0.9642192606116391, 0.8795389294120025, 0.6466112370472892, 0.16868119227320588, 0.018742354697022876, 0.16868119227320588, 0.3650689187358856, 0.1825344593679428, 0.4259137385251998, 0.06084481978931426, 0.6985410972632192, 0.2896389915481641, 0.488216884293012, 0.4660252077342388, 0.04438335311754655, 0.2955397386066401, 0.19702649240442674, 0.4925662310110669, 0.4804394437727807, 0.19217577750911227, 0.31228563845230745, 0.6528344414793938, 0.2879787379440154, 0.633553223476834, 0.057595747588803085, 0.77929793939009, 0.26039058136948395, 0.26039058136948395, 0.07811717441084519, 0.3905858720542259, 0.3910191276719317, 0.4357070279772953, 0.044687900305363626, 0.13406370091609088, 0.3193304808325578, 0.6386609616651155, 0.9202564152094266, 0.1490258004044404, 0.8345444822648663, 0.8538222707485377, 0.8591226415185659, 0.3607598044283691, 0.5411397066425536], \"Term\": [\"a-i\", \"abil\", \"abil\", \"abil\", \"accent\", \"accent\", \"accent\", \"actual\", \"actual\", \"actual\", \"actual\", \"acum\", \"acum\", \"afac\", \"aferent\", \"aferent\", \"aferent\", \"angaj\", \"angaj\", \"angaj\", \"angaj\", \"ani\", \"ani\", \"ansparent\", \"ansparent\", \"ansparent\", \"anum\", \"anum\", \"anum\", \"anum\", \"arte\", \"arte\", \"arte\", \"asistent\", \"atrag\", \"atrag\", \"atrag\", \"atrag\", \"axa\", \"balant\", \"ban\", \"ban\", \"ban\", \"ban\", \"baze\", \"baze\", \"benef\", \"benef\", \"benef\", \"benef\", \"bin\", \"bin\", \"bin\", \"birocrat\", \"birocrat\", \"birocrat\", \"brut\", \"buget\", \"buget\", \"buget\", \"buget\", \"bun\", \"bun\", \"bun\", \"calc\", \"calitat\", \"calitat\", \"calitat\", \"cass\", \"cass\", \"cazur\", \"cert\", \"cetaten\", \"cetaten\", \"cetaten\", \"cetaten\", \"cilitat\", \"cilitat\", \"claritat\", \"coerent\", \"comand\", \"comercial\", \"comercial\", \"compet\", \"compet\", \"complic\", \"concurente\", \"constranger\", \"context\", \"contribu\", \"contribu\", \"contribu\", \"contribu\", \"corectitudin\", \"cot\", \"cot\", \"cot\", \"cot\", \"crear\", \"crear\", \"crear\", \"crest\", \"crest\", \"crest\", \"cultur\", \"cultur\", \"decent\", \"declar\", \"declar\", \"deducer\", \"defavoar\", \"depun\", \"descuraj\", \"dezvolt\", \"dezvolt\", \"dezvolt\", \"dezvolt\", \"dialog\", \"distribu\", \"dreptat\", \"ear\", \"econom\", \"econom\", \"econom\", \"econom\", \"efectu\", \"efectu\", \"eficiente\", \"eficiente\", \"eficiente\", \"egal\", \"egal\", \"egal\", \"electron\", \"esential\", \"europ\", \"europ\", \"europ\", \"europ\", \"europen\", \"europen\", \"evaziun\", \"evaziun\", \"exces\", \"facilit\", \"fapt\", \"fapt\", \"fapt\", \"feroviar\", \"finant\", \"finant\", \"finant\", \"finant\", \"firm\", \"firm\", \"firm\", \"firm\", \"fiscal\", \"fiscal\", \"fiscal\", \"fiscal\", \"fizic\", \"fizic\", \"fizic\", \"fizic\", \"flexibil\", \"fondur\", \"fondur\", \"fondur\", \"funct\", \"funct\", \"funct\", \"funct\", \"gasesc\", \"general\", \"general\", \"gramad\", \"gratuitat\", \"gratuitat\", \"gres\", \"greu\", \"greu\", \"gurant\", \"gurant\", \"gurant\", \"himbar\", \"himbar\", \"igurar\", \"ilegal\", \"implement\", \"implement\", \"implement\", \"implementar\", \"impoz\", \"impoz\", \"impoz\", \"impoz\", \"impozit\", \"impozit\", \"impozit\", \"impozit\", \"impun\", \"impun\", \"impun\", \"inafar\", \"incuraj\", \"incuraj\", \"incuraj\", \"incuraj\", \"indiferent\", \"infiint\", \"infiint\", \"infiint\", \"interes\", \"interes\", \"interes\", \"intreprinz\", \"invest\", \"invest\", \"invest\", \"invest\", \"larg\", \"larg\", \"latesc\", \"leg\", \"leg\", \"leg\", \"legat\", \"lei\", \"ligat\", \"locur\", \"locur\", \"locur\", \"locur\", \"lte\", \"lte\", \"lte\", \"lte\", \"lua\", \"lum\", \"lum\", \"lum\", \"lung\", \"lung\", \"lung\", \"lung\", \"m-as\", \"manifest\", \"manifest\", \"mar\", \"mar\", \"mar\", \"mar\", \"masin\", \"medi\", \"medi\", \"medic\", \"medic\", \"medic\", \"medic\", \"mediu\", \"mediu\", \"mediu\", \"mediu\", \"mentin\", \"merg\", \"mic\", \"mic\", \"mic\", \"mic\", \"mijloac\", \"ministr\", \"ministr\", \"ministr\", \"mod\", \"mod\", \"mod\", \"mod\", \"moder\", \"modern\", \"modern\", \"modern\", \"modif\", \"modif\", \"modif\", \"munc\", \"munc\", \"munc\", \"munc\", \"neces\", \"neces\", \"neces\", \"neincred\", \"nemultumest\", \"nemultumest\", \"nemultumest\", \"nemultumest\", \"nevoi\", \"nevoi\", \"nevoi\", \"nevoi\", \"noil\", \"noil\", \"noilor\", \"nominal\", \"ntrol\", \"numar\", \"numar\", \"numar\", \"oarb\", \"ocamd\", \"ofer\", \"ofer\", \"ofer\", \"om\", \"onom\", \"opin\", \"ortun\", \"otect\", \"pacitat\", \"parafiscal\", \"part\", \"part\", \"part\", \"particip\", \"persoan\", \"persoan\", \"persoan\", \"persoan\", \"plat\", \"plat\", \"plat\", \"plat\", \"platit\", \"platit\", \"platit\", \"platnic\", \"platnic\", \"povar\", \"povar\", \"pozit\", \"pozit\", \"pozit\", \"pozit\", \"predictib\", \"predictib\", \"pregat\", \"preveder\", \"priv\", \"priv\", \"privint\", \"procentaj\", \"profit\", \"profit\", \"profit\", \"profit\", \"proport\", \"psa\", \"psa\", \"psa\", \"psa\", \"ptul\", \"ptul\", \"ptul\", \"ptul\", \"public\", \"public\", \"public\", \"public\", \"putin\", \"putin\", \"putin\", \"rapid\", \"raportar\", \"rau\", \"rau\", \"realitat\", \"reduc\", \"reduc\", \"reduc\", \"restructur\", \"reus\", \"ridic\", \"ridic\", \"ridic\", \"ridic\", \"rim\", \"roap\", \"rocrat\", \"rocrat\", \"rocrat\", \"rocrat\", \"roman\", \"roman\", \"roman\", \"roman\", \"romanest\", \"rsel\", \"rupt\", \"rupt\", \"rvic\", \"rvic\", \"rvic\", \"salar\", \"salar\", \"salar\", \"salar\", \"scad\", \"scad\", \"scad\", \"schimb\", \"schimb\", \"schimb\", \"schimb\", \"schimbat\", \"servic\", \"servic\", \"servic\", \"servic\", \"simplu\", \"simplu\", \"sist\", \"sist\", \"sist\", \"sist\", \"social\", \"social\", \"social\", \"social\", \"solic\", \"spital\", \"spital\", \"spital\", \"stabil\", \"stabil\", \"stabil\", \"stabil\", \"stat\", \"stat\", \"stat\", \"stat\", \"stem\", \"stem\", \"stem\", \"stem\", \"stie\", \"stin\", \"stion\", \"stiu\", \"stiu\", \"strateg\", \"strateg\", \"structur\", \"sum\", \"sum\", \"sum\", \"sustin\", \"sustin\", \"sustin\", \"taier\", \"tar\", \"tar\", \"tar\", \"tar\", \"tax\", \"tax\", \"tax\", \"tax\", \"teres\", \"termen\", \"termen\", \"termen\", \"tin\", \"traiest\", \"transparent\", \"transparent\", \"transparent\", \"transparent\", \"transparente\", \"transparente\", \"transparente\", \"transparente\", \"treb\", \"treb\", \"trebui\", \"trebui\", \"trebui\", \"tul\", \"tul\", \"tul\", \"tva\", \"tva\", \"tva\", \"univers\", \"utiliz\", \"utiliz\", \"utiliz\", \"vel\", \"venit\", \"venit\", \"venit\", \"venit\", \"venitur\", \"venitur\", \"venitur\", \"venitur\", \"ver\", \"ver\", \"vorb\", \"xel\", \"xel\", \"zilnic\", \"zorganiz\", \"zvolt\", \"zvolt\"]}, \"R\": 30, \"lambda.step\": 0.01, \"plot.opts\": {\"xlab\": \"PC1\", \"ylab\": \"PC2\"}, \"topic.order\": [4, 2, 1, 3]};\n",
       "\n",
       "function LDAvis_load_lib(url, callback){\n",
       "  var s = document.createElement('script');\n",
       "  s.src = url;\n",
       "  s.async = true;\n",
       "  s.onreadystatechange = s.onload = callback;\n",
       "  s.onerror = function(){console.warn(\"failed to load library \" + url);};\n",
       "  document.getElementsByTagName(\"head\")[0].appendChild(s);\n",
       "}\n",
       "\n",
       "if(typeof(LDAvis) !== \"undefined\"){\n",
       "   // already loaded: just create the visualization\n",
       "   !function(LDAvis){\n",
       "       new LDAvis(\"#\" + \"ldavis_el177282699939140560291824981\", ldavis_el177282699939140560291824981_data);\n",
       "   }(LDAvis);\n",
       "}else if(typeof define === \"function\" && define.amd){\n",
       "   // require.js is available: use it to load d3/LDAvis\n",
       "   require.config({paths: {d3: \"https://d3js.org/d3.v5\"}});\n",
       "   require([\"d3\"], function(d3){\n",
       "      window.d3 = d3;\n",
       "      LDAvis_load_lib(\"https://cdn.jsdelivr.net/gh/bmabey/pyLDAvis@3.4.0/pyLDAvis/js/ldavis.v3.0.0.js\", function(){\n",
       "        new LDAvis(\"#\" + \"ldavis_el177282699939140560291824981\", ldavis_el177282699939140560291824981_data);\n",
       "      });\n",
       "    });\n",
       "}else{\n",
       "    // require.js not available: dynamically load d3 & LDAvis\n",
       "    LDAvis_load_lib(\"https://d3js.org/d3.v5.js\", function(){\n",
       "         LDAvis_load_lib(\"https://cdn.jsdelivr.net/gh/bmabey/pyLDAvis@3.4.0/pyLDAvis/js/ldavis.v3.0.0.js\", function(){\n",
       "                 new LDAvis(\"#\" + \"ldavis_el177282699939140560291824981\", ldavis_el177282699939140560291824981_data);\n",
       "            })\n",
       "         });\n",
       "}\n",
       "</script>"
      ]
     },
     "execution_count": 102,
     "metadata": {},
     "output_type": "execute_result"
    }
   ],
   "execution_count": 102
  },
  {
   "metadata": {},
   "cell_type": "markdown",
   "source": "# 5. Future steps"
  },
  {
   "metadata": {
    "ExecuteTime": {
     "end_time": "2024-09-22T14:32:09.665938Z",
     "start_time": "2024-09-22T14:32:09.648338Z"
    }
   },
   "cell_type": "code",
   "source": [
    "# Balancing the dataset before training\n",
    "positive_texts = df_text[df_text.incredere_sist_fiscal==1]\n",
    "negative_texts = df_text[df_text.incredere_sist_fiscal==0]\n",
    "df_text_balanced = pd.concat([positive_texts.sample(negative_texts.shape[0]), negative_texts], axis=0)\n",
    "\n",
    "df_text_balanced['incredere_sist_fiscal'].value_counts()"
   ],
   "outputs": [
    {
     "data": {
      "text/plain": [
       "incredere_sist_fiscal\n",
       "1    334\n",
       "0    334\n",
       "Name: count, dtype: int64"
      ]
     },
     "execution_count": 89,
     "metadata": {},
     "output_type": "execute_result"
    }
   ],
   "execution_count": 89
  },
  {
   "metadata": {},
   "cell_type": "code",
   "outputs": [],
   "execution_count": null,
   "source": ""
  }
 ]
}
